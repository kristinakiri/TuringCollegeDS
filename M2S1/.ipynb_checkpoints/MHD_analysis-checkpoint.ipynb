{
 "cells": [
  {
   "cell_type": "markdown",
   "id": "72b04453-5fb5-40ee-9fb7-8679a37b6223",
   "metadata": {},
   "source": [
    "# Analysis of the Mental Health in the Tech Industry"
   ]
  },
  {
   "cell_type": "markdown",
   "id": "45e715a5-cf37-4772-96fe-b3578c222eac",
   "metadata": {},
   "source": [
    "This project purpose is to analyse the Mental Health in the Tech Industry Dataset. \n",
    "We want to explore and find how often mental health disorders are met among the  tech workplace and test few hypothesis. \n",
    "\n",
    "Thus, we will clean and prepare data, then run EDA on these questions:\n",
    "1. On which years surveys were conducted?\n",
    "2. What was the surveys respondents sample size?\n",
    "3. What are the surveys gender composition?\n",
    "4. What are the surveys age composition?\n",
    "5. What is the geographical respondents distribution?\n",
    "6. How often mental heath disorder (MHD) is met among the tech workplace?\n",
    "7. What conditions of MHD are most often met?\n",
    "8. Are there any differences per gender of having MHD?\n",
    "9. Are there certain age groups where MHD are met more often?\n",
    "10. H0: The more employees organization has the more MHD cases could be meet.\n",
    "11. H0: People with MHD working at companies, which have benefits for mental health support, experience less work interfence and is more productive.\n",
    "12. H0: Over time confidence to share about MHD is changing, people became more open."
   ]
  },
  {
   "cell_type": "code",
   "execution_count": 1,
   "id": "76703691-f3d1-47b1-92ba-001460095660",
   "metadata": {},
   "outputs": [],
   "source": [
    "import sqlite3\n",
    "import numpy as np\n",
    "import pandas as pd\n",
    "import matplotlib.pyplot as plt\n",
    "import seaborn as sns\n",
    "from IPython.display import display\n",
    "import os\n",
    "import itertools"
   ]
  },
  {
   "cell_type": "code",
   "execution_count": 2,
   "id": "93ef0ba5-4c3d-44ed-8b3d-59d6b4d8951d",
   "metadata": {},
   "outputs": [
    {
     "data": {
      "text/plain": [
       "'/Users/kristinazekiene/Documents/LearningPython/TuringCollege/M2S1'"
      ]
     },
     "execution_count": 2,
     "metadata": {},
     "output_type": "execute_result"
    }
   ],
   "source": [
    "os.getcwd()"
   ]
  },
  {
   "cell_type": "markdown",
   "id": "e933412d-d738-4d39-bbb7-a989a987b609",
   "metadata": {},
   "source": [
    "## Data loading"
   ]
  },
  {
   "cell_type": "markdown",
   "id": "cb830fc7-9574-40bb-9e79-c8e7121576c3",
   "metadata": {},
   "source": [
    "Let's load the database and check what tables SQLite file has inside:"
   ]
  },
  {
   "cell_type": "code",
   "execution_count": 3,
   "id": "160d0599-a617-4808-91df-4ce1b5e7cd36",
   "metadata": {},
   "outputs": [
    {
     "data": {
      "text/html": [
       "<div>\n",
       "<style scoped>\n",
       "    .dataframe tbody tr th:only-of-type {\n",
       "        vertical-align: middle;\n",
       "    }\n",
       "\n",
       "    .dataframe tbody tr th {\n",
       "        vertical-align: top;\n",
       "    }\n",
       "\n",
       "    .dataframe thead th {\n",
       "        text-align: right;\n",
       "    }\n",
       "</style>\n",
       "<table border=\"1\" class=\"dataframe\">\n",
       "  <thead>\n",
       "    <tr style=\"text-align: right;\">\n",
       "      <th></th>\n",
       "      <th>type</th>\n",
       "      <th>name</th>\n",
       "      <th>tbl_name</th>\n",
       "      <th>rootpage</th>\n",
       "      <th>sql</th>\n",
       "    </tr>\n",
       "  </thead>\n",
       "  <tbody>\n",
       "    <tr>\n",
       "      <th>0</th>\n",
       "      <td>table</td>\n",
       "      <td>Answer</td>\n",
       "      <td>Answer</td>\n",
       "      <td>2</td>\n",
       "      <td>CREATE TABLE \"Answer\" (\\n\\t\"AnswerText\" VARCHA...</td>\n",
       "    </tr>\n",
       "    <tr>\n",
       "      <th>1</th>\n",
       "      <td>table</td>\n",
       "      <td>Question</td>\n",
       "      <td>Question</td>\n",
       "      <td>1434</td>\n",
       "      <td>CREATE TABLE \"Question\" (\\n\\t\"questiontext\" VA...</td>\n",
       "    </tr>\n",
       "    <tr>\n",
       "      <th>2</th>\n",
       "      <td>table</td>\n",
       "      <td>Survey</td>\n",
       "      <td>Survey</td>\n",
       "      <td>1438</td>\n",
       "      <td>CREATE TABLE \"Survey\" (\\n\\t\"SurveyID\" INTEGER ...</td>\n",
       "    </tr>\n",
       "  </tbody>\n",
       "</table>\n",
       "</div>"
      ],
      "text/plain": [
       "    type      name  tbl_name  rootpage  \\\n",
       "0  table    Answer    Answer         2   \n",
       "1  table  Question  Question      1434   \n",
       "2  table    Survey    Survey      1438   \n",
       "\n",
       "                                                 sql  \n",
       "0  CREATE TABLE \"Answer\" (\\n\\t\"AnswerText\" VARCHA...  \n",
       "1  CREATE TABLE \"Question\" (\\n\\t\"questiontext\" VA...  \n",
       "2  CREATE TABLE \"Survey\" (\\n\\t\"SurveyID\" INTEGER ...  "
      ]
     },
     "execution_count": 3,
     "metadata": {},
     "output_type": "execute_result"
    }
   ],
   "source": [
    "input_path = \"/Users/kristinazekiene/Documents/LearningPython/TuringCollege/M2S1/Input/mental_health.sqlite\"\n",
    "con = sqlite3.connect(input_path)\n",
    "\n",
    "table = pd.read_sql('''\n",
    "            SELECT * FROM sqlite_master \n",
    "            WHERE TYPE = 'table'; ''',con)\n",
    "table"
   ]
  },
  {
   "cell_type": "markdown",
   "id": "dfc9423a-fb0e-47e8-8892-de5727953ded",
   "metadata": {},
   "source": [
    "We will check what columns and data types has each table"
   ]
  },
  {
   "cell_type": "code",
   "execution_count": 4,
   "id": "0352e293-467c-4395-8e85-8c1dc92ce4b4",
   "metadata": {},
   "outputs": [
    {
     "name": "stdout",
     "output_type": "stream",
     "text": [
      "CREATE TABLE \"Answer\" (\n",
      "\t\"AnswerText\" VARCHAR(10000) NULL,\n",
      "\t\"SurveyID\" INTEGER NULL,\n",
      "\t\"UserID\" INTEGER NULL,\n",
      "\t\"QuestionID\" INTEGER NULL\n",
      ")\n",
      "CREATE TABLE \"Question\" (\n",
      "\t\"questiontext\" VARCHAR(1000) NULL,\n",
      "\t\"questionid\" INTEGER NULL\n",
      ")\n",
      "CREATE TABLE \"Survey\" (\n",
      "\t\"SurveyID\" INTEGER NOT NULL,\n",
      "\t\"Description\" VARCHAR(255) NULL,\n",
      "\tPRIMARY KEY (\"SurveyID\")\n",
      ")\n"
     ]
    }
   ],
   "source": [
    "for row in table[\"sql\"]:\n",
    "    print(row)"
   ]
  },
  {
   "cell_type": "markdown",
   "id": "d10cb010-28b5-4f99-9145-8a9a4f687b9a",
   "metadata": {},
   "source": [
    "We will quere tables and check their first rows:"
   ]
  },
  {
   "cell_type": "code",
   "execution_count": 5,
   "id": "41f4cb9a-e635-4673-bcf1-0db65b7dec9d",
   "metadata": {},
   "outputs": [
    {
     "data": {
      "text/html": [
       "<div>\n",
       "<style scoped>\n",
       "    .dataframe tbody tr th:only-of-type {\n",
       "        vertical-align: middle;\n",
       "    }\n",
       "\n",
       "    .dataframe tbody tr th {\n",
       "        vertical-align: top;\n",
       "    }\n",
       "\n",
       "    .dataframe thead th {\n",
       "        text-align: right;\n",
       "    }\n",
       "</style>\n",
       "<table border=\"1\" class=\"dataframe\">\n",
       "  <thead>\n",
       "    <tr style=\"text-align: right;\">\n",
       "      <th></th>\n",
       "      <th>questiontext</th>\n",
       "      <th>questionid</th>\n",
       "    </tr>\n",
       "  </thead>\n",
       "  <tbody>\n",
       "    <tr>\n",
       "      <th>0</th>\n",
       "      <td>What is your age?</td>\n",
       "      <td>1</td>\n",
       "    </tr>\n",
       "    <tr>\n",
       "      <th>1</th>\n",
       "      <td>What is your gender?</td>\n",
       "      <td>2</td>\n",
       "    </tr>\n",
       "    <tr>\n",
       "      <th>2</th>\n",
       "      <td>What country do you live in?</td>\n",
       "      <td>3</td>\n",
       "    </tr>\n",
       "    <tr>\n",
       "      <th>3</th>\n",
       "      <td>If you live in the United States, which state ...</td>\n",
       "      <td>4</td>\n",
       "    </tr>\n",
       "  </tbody>\n",
       "</table>\n",
       "</div>"
      ],
      "text/plain": [
       "                                        questiontext  questionid\n",
       "0                                  What is your age?           1\n",
       "1                               What is your gender?           2\n",
       "2                       What country do you live in?           3\n",
       "3  If you live in the United States, which state ...           4"
      ]
     },
     "metadata": {},
     "output_type": "display_data"
    },
    {
     "data": {
      "text/html": [
       "<div>\n",
       "<style scoped>\n",
       "    .dataframe tbody tr th:only-of-type {\n",
       "        vertical-align: middle;\n",
       "    }\n",
       "\n",
       "    .dataframe tbody tr th {\n",
       "        vertical-align: top;\n",
       "    }\n",
       "\n",
       "    .dataframe thead th {\n",
       "        text-align: right;\n",
       "    }\n",
       "</style>\n",
       "<table border=\"1\" class=\"dataframe\">\n",
       "  <thead>\n",
       "    <tr style=\"text-align: right;\">\n",
       "      <th></th>\n",
       "      <th>AnswerText</th>\n",
       "      <th>SurveyID</th>\n",
       "      <th>UserID</th>\n",
       "      <th>QuestionID</th>\n",
       "    </tr>\n",
       "  </thead>\n",
       "  <tbody>\n",
       "    <tr>\n",
       "      <th>0</th>\n",
       "      <td>37</td>\n",
       "      <td>2014</td>\n",
       "      <td>1</td>\n",
       "      <td>1</td>\n",
       "    </tr>\n",
       "    <tr>\n",
       "      <th>1</th>\n",
       "      <td>44</td>\n",
       "      <td>2014</td>\n",
       "      <td>2</td>\n",
       "      <td>1</td>\n",
       "    </tr>\n",
       "    <tr>\n",
       "      <th>2</th>\n",
       "      <td>32</td>\n",
       "      <td>2014</td>\n",
       "      <td>3</td>\n",
       "      <td>1</td>\n",
       "    </tr>\n",
       "    <tr>\n",
       "      <th>3</th>\n",
       "      <td>31</td>\n",
       "      <td>2014</td>\n",
       "      <td>4</td>\n",
       "      <td>1</td>\n",
       "    </tr>\n",
       "  </tbody>\n",
       "</table>\n",
       "</div>"
      ],
      "text/plain": [
       "  AnswerText  SurveyID  UserID  QuestionID\n",
       "0         37      2014       1           1\n",
       "1         44      2014       2           1\n",
       "2         32      2014       3           1\n",
       "3         31      2014       4           1"
      ]
     },
     "metadata": {},
     "output_type": "display_data"
    },
    {
     "data": {
      "text/html": [
       "<div>\n",
       "<style scoped>\n",
       "    .dataframe tbody tr th:only-of-type {\n",
       "        vertical-align: middle;\n",
       "    }\n",
       "\n",
       "    .dataframe tbody tr th {\n",
       "        vertical-align: top;\n",
       "    }\n",
       "\n",
       "    .dataframe thead th {\n",
       "        text-align: right;\n",
       "    }\n",
       "</style>\n",
       "<table border=\"1\" class=\"dataframe\">\n",
       "  <thead>\n",
       "    <tr style=\"text-align: right;\">\n",
       "      <th></th>\n",
       "      <th>SurveyID</th>\n",
       "      <th>Description</th>\n",
       "    </tr>\n",
       "  </thead>\n",
       "  <tbody>\n",
       "    <tr>\n",
       "      <th>0</th>\n",
       "      <td>2014</td>\n",
       "      <td>mental health survey for 2014</td>\n",
       "    </tr>\n",
       "    <tr>\n",
       "      <th>1</th>\n",
       "      <td>2016</td>\n",
       "      <td>mental health survey for 2016</td>\n",
       "    </tr>\n",
       "    <tr>\n",
       "      <th>2</th>\n",
       "      <td>2017</td>\n",
       "      <td>mental health survey for 2017</td>\n",
       "    </tr>\n",
       "    <tr>\n",
       "      <th>3</th>\n",
       "      <td>2018</td>\n",
       "      <td>mental health survey for 2018</td>\n",
       "    </tr>\n",
       "  </tbody>\n",
       "</table>\n",
       "</div>"
      ],
      "text/plain": [
       "   SurveyID                    Description\n",
       "0      2014  mental health survey for 2014\n",
       "1      2016  mental health survey for 2016\n",
       "2      2017  mental health survey for 2017\n",
       "3      2018  mental health survey for 2018"
      ]
     },
     "metadata": {},
     "output_type": "display_data"
    }
   ],
   "source": [
    "questions_df = pd.read_sql_query(\"SELECT * from Question\", con)\n",
    "display(questions_df.head(4))\n",
    "\n",
    "answers_df = pd.read_sql_query(\"SELECT * from Answer\", con)\n",
    "display(answers_df.head(4))\n",
    "\n",
    "surveys_df = pd.read_sql_query(\"SELECT * from Survey\", con)\n",
    "display(surveys_df.head(4))"
   ]
  },
  {
   "cell_type": "markdown",
   "id": "63841edb-abe1-4cc3-9a69-2085a4b7ed38",
   "metadata": {},
   "source": [
    "Let's check how many data and what types are in the datasets"
   ]
  },
  {
   "cell_type": "code",
   "execution_count": 6,
   "id": "1a126f06-a909-4a06-9863-423fd981627a",
   "metadata": {},
   "outputs": [
    {
     "name": "stdout",
     "output_type": "stream",
     "text": [
      "<class 'pandas.core.frame.DataFrame'>\n",
      "RangeIndex: 105 entries, 0 to 104\n",
      "Data columns (total 2 columns):\n",
      " #   Column        Non-Null Count  Dtype \n",
      "---  ------        --------------  ----- \n",
      " 0   questiontext  105 non-null    object\n",
      " 1   questionid    105 non-null    int64 \n",
      "dtypes: int64(1), object(1)\n",
      "memory usage: 1.8+ KB\n",
      " \n",
      "<class 'pandas.core.frame.DataFrame'>\n",
      "RangeIndex: 236898 entries, 0 to 236897\n",
      "Data columns (total 4 columns):\n",
      " #   Column      Non-Null Count   Dtype \n",
      "---  ------      --------------   ----- \n",
      " 0   AnswerText  236898 non-null  object\n",
      " 1   SurveyID    236898 non-null  int64 \n",
      " 2   UserID      236898 non-null  int64 \n",
      " 3   QuestionID  236898 non-null  int64 \n",
      "dtypes: int64(3), object(1)\n",
      "memory usage: 7.2+ MB\n",
      " \n",
      "<class 'pandas.core.frame.DataFrame'>\n",
      "RangeIndex: 5 entries, 0 to 4\n",
      "Data columns (total 2 columns):\n",
      " #   Column       Non-Null Count  Dtype \n",
      "---  ------       --------------  ----- \n",
      " 0   SurveyID     5 non-null      int64 \n",
      " 1   Description  5 non-null      object\n",
      "dtypes: int64(1), object(1)\n",
      "memory usage: 208.0+ bytes\n"
     ]
    }
   ],
   "source": [
    "questions_df.info()\n",
    "print(\" \")\n",
    "answers_df.info()\n",
    "print(\" \")\n",
    "surveys_df.info()"
   ]
  },
  {
   "cell_type": "markdown",
   "id": "99591ec6-eb5e-4810-9cf6-98691cc3f1d3",
   "metadata": {},
   "source": [
    "## Data cleaning & preparation & overview"
   ]
  },
  {
   "cell_type": "markdown",
   "id": "eeb73019-0435-417f-bfed-770279448540",
   "metadata": {},
   "source": [
    "### What questions are conducted in the survey?"
   ]
  },
  {
   "cell_type": "code",
   "execution_count": 7,
   "id": "703b0488-af0b-4c68-86ff-f927cf496b3e",
   "metadata": {},
   "outputs": [
    {
     "name": "stdout",
     "output_type": "stream",
     "text": [
      "1 What is your age?\n",
      "2 What is your gender?\n",
      "3 What country do you live in?\n",
      "4 If you live in the United States, which state or territory do you live in?\n",
      "5 Are you self-employed?\n",
      "6 Do you have a family history of mental illness?\n",
      "7 Have you ever sought treatment for a mental health disorder from a mental health professional?\n",
      "8 How many employees does your company or organization have?\n",
      "9 Is your employer primarily a tech company/organization?\n",
      "10 Does your employer provide mental health benefits as part of healthcare coverage?\n",
      "11 Is your anonymity protected if you choose to take advantage of mental health or substance abuse treatment resources provided by your employer?\n",
      "12 Would you bring up a mental health issue with a potential employer in an interview?\n",
      "13 Is your primary role within your company related to tech/IT?\n",
      "14 Do you know the options for mental health care available under your employer-provided health coverage?\n",
      "15 Has your employer ever formally discussed mental health (for example, as part of a wellness campaign or other official communication)?\n",
      "16 Does your employer offer resources to learn more about mental health disorders and options for seeking help?\n",
      "17 If a mental health issue prompted you to request a medical leave from work, how easy or difficult would it be to ask for that leave?\n",
      "18 Would you feel comfortable discussing a mental health issue with your coworkers?\n",
      "19 Would you feel comfortable discussing a mental health issue with your direct supervisor(s)?\n",
      "20 Do you have medical coverage (private insurance or state-provided) that includes treatment of mental health disorders?\n",
      "21 Do you know local or online resources to seek help for a mental health issue?\n",
      "22 Do you have previous employers?\n",
      "23 Have your previous employers provided mental health benefits?\n",
      "24 Were you aware of the options for mental health care provided by your previous employers?\n",
      "25 Did your previous employers ever formally discuss mental health (as part of a wellness campaign or other official communication)?\n",
      "26 Did your previous employers provide resources to learn more about mental health disorders and how to seek help?\n",
      "27 Was your anonymity protected if you chose to take advantage of mental health or substance abuse treatment resources with previous employers?\n",
      "28 Would you have been willing to discuss your mental health with your direct supervisor(s)?\n",
      "29 Would you be willing to bring up a physical health issue with a potential employer in an interview?\n",
      "30 How willing would you be to share with friends and family that you have a mental illness?\n",
      "31 Have your observations of how another individual who discussed a mental health disorder made you less likely to reveal a mental health issue yourself in your current workplace?\n",
      "32 Have you had a mental health disorder in the past?\n",
      "33 Do you currently have a mental health disorder?\n",
      "34 Have you ever been diagnosed with a mental health disorder?\n",
      "48 If you have a mental health disorder, how often do you feel that it interferes with your work when being treated effectively?\n",
      "49 If you have a mental health disorder, how often do you feel that it interferes with your work when not being treated effectively (i.e., when you are experiencing symptoms)?\n",
      "50 What country do you work in?\n",
      "51 What US state or territory do you work in?\n",
      "52 If you have been diagnosed or treated for a mental health disorder, do you ever reveal this to clients or business contacts?\n",
      "53 If you have been diagnosed or treated for a mental health disorder, do you ever reveal this to coworkers or employees?\n",
      "54 Do you believe your productivity is ever affected by a mental health issue?\n",
      "55 If yes, what percentage of your work time (time performing primary or secondary job functions) is affected by a mental health issue?\n",
      "56 Have you observed or experienced an unsupportive or badly handled response to a mental health issue in your current or previous workplace?\n",
      "57 Would you feel more comfortable talking to your coworkers about your physical health or your mental health?\n",
      "58 Have you ever discussed your mental health with your employer?\n",
      "59 Describe the conversation you had with your employer about your mental health, including their reactions and what actions were taken to address your mental health issue/questions.\n",
      "60 Have you ever discussed your mental health with coworkers?\n",
      "61 Describe the conversation with coworkers you had about your mental health including their reactions.\n",
      "62 Have you ever had a coworker discuss their or another coworker's mental health with you?\n",
      "63 Describe the conversation your coworker had with you about their mental health (please do not use names).\n",
      "64 Overall, how much importance does your employer place on physical health?\n",
      "65 Overall, how much importance does your employer place on mental health?\n",
      "66 If you have revealed a mental health disorder to a client or business contact, how has this affected you or the relationship?\n",
      "67 If you have revealed a mental health disorder to a coworker or employee, how has this impacted you or the relationship?\n",
      "68 Was your employer primarily a tech company/organization?\n",
      "69 Would you have felt more comfortable talking to your previous employer about your physical health or your mental health?\n",
      "70 Did you ever discuss your mental health with your previous employer?\n",
      "71 Describe the conversation you had with your previous employer about your mental health, including their reactions and actions taken to address your mental health issue/questions.\n",
      "72 Did you ever discuss your mental health with a previous coworker(s)?\n",
      "73 Describe the conversation you had with your previous coworkers about your mental health including their reactions.\n",
      "74 Did you ever have a previous coworker discuss their or another coworker's mental health with you?\n",
      "75 Describe the conversation your coworker had with you about their mental health (please do not use names)..1\n",
      "76 Overall, how much importance did your previous employer place on physical health?\n",
      "77 Overall, how much importance did your previous employer place on mental health?\n",
      "78 Are you openly identified at work as a person with a mental health issue?\n",
      "79 Has being identified as a person with a mental health issue affected your career?\n",
      "80 How has it affected your career?\n",
      "81 If they knew you suffered from a mental health disorder, how do you think that your team members/co-workers would react?\n",
      "82 Describe the circumstances of the badly handled or unsupportive response.\n",
      "83 Have you observed or experienced supportive or well handled response to a mental health issue in your current or previous workplace?\n",
      "84 Describe the circumstances of the supportive or well handled response.\n",
      "85 Overall, how well do you think the tech industry supports employees with mental health issues?\n",
      "86 Briefly describe what you think the industry as a whole and/or employers could do to improve mental health support for employees.\n",
      "87 If there is anything else you would like to tell us that has not been covered by the survey questions, please use this space to do so.\n",
      "88 Would you be willing to talk to one of us more extensively about your experiences with mental health issues in the tech industry? (Note that all interview responses would be used _anonymously_ and only with your permission.)\n",
      "89 What is your race?\n",
      "90 Do you think that discussing a physical health issue with your employer would have negative consequences?\n",
      "91 Do you feel that your employer takes mental health as seriously as physical health?\n",
      "92 If you have a mental health condition, do you feel that it interferes with your work?\n",
      "93 Do you work remotely (outside of an office) at least 50% of the time?\n",
      "94 Do you know the options for mental health care your employer provides?\n",
      "95 Has your employer ever discussed mental health as part of an employee wellness program?\n",
      "96 Does your employer provide resources to learn more about mental health issues and how to seek help?\n",
      "97 How easy is it for you to take medical leave for a mental health condition?\n",
      "98 Do you think that discussing a mental health issue with your employer would have negative consequences?\n",
      "99 Would you be willing to discuss a mental health issue with your coworkers?\n",
      "100 Would you be willing to discuss a mental health issue with your direct supervisor(s)?\n",
      "101 Would you bring up a physical health issue with a potential employer in an interview?\n",
      "102 Have you heard of or observed negative consequences for coworkers with mental health conditions in your workplace?\n",
      "103 Any additional notes or comments\n",
      "104 Do you think that discussing a mental health disorder with your employer would have negative consequences?\n",
      "105 Have you heard of or observed negative consequences for co-workers who have been open about mental health issues in your workplace?\n",
      "106 If you have revealed a mental health issue to a client or business contact, do you believe this has impacted you negatively?\n",
      "107 If you have revealed a mental health issue to a coworker or employee, do you believe this has impacted you negatively?\n",
      "108 Do you think that discussing a mental health disorder with previous employers would have negative consequences?\n",
      "109 Do you think that discussing a physical health issue with previous employers would have negative consequences?\n",
      "110 Would you have been willing to discuss a mental health issue with your previous co-workers?\n",
      "111 Did you feel that your previous employers took mental health as seriously as physical health?\n",
      "112 Did you hear of or observe negative consequences for co-workers with mental health issues in your previous workplaces?\n",
      "113 Do you feel that being identified as a person with a mental health issue would hurt your career?\n",
      "114 Do you think that team members/co-workers would view you more negatively if they knew you suffered from a mental health issue?\n",
      "115 If yes, what condition(s) have you been diagnosed with?\n",
      "116 If maybe, what condition(s) do you believe you have?\n",
      "117 Which of the following best describes your work position?\n",
      "118 Do you work remotely?\n"
     ]
    }
   ],
   "source": [
    "for index, row in questions_df.iterrows():\n",
    "    print(row['questionid'], row['questiontext'])"
   ]
  },
  {
   "cell_type": "markdown",
   "id": "5ef61f93-f362-4944-a105-40128f8b451c",
   "metadata": {},
   "source": [
    "Looking at the survey questions we have selected the most interesting and relevant questions and answers to load to perform analysis and get information about mental health situation among Tech companies.\n",
    "\n",
    "We will reshape data set format and prepare it for the analysis that it would suit better our goal."
   ]
  },
  {
   "cell_type": "code",
   "execution_count": 8,
   "id": "093c7b33-3efc-42b5-a46b-b853aadf3b4c",
   "metadata": {},
   "outputs": [
    {
     "name": "stdout",
     "output_type": "stream",
     "text": [
      "<class 'pandas.core.frame.DataFrame'>\n",
      "RangeIndex: 4218 entries, 0 to 4217\n",
      "Data columns (total 22 columns):\n",
      " #   Column                            Non-Null Count  Dtype \n",
      "---  ------                            --------------  ----- \n",
      " 0   SurveyID                          4218 non-null   int64 \n",
      " 1   UserID                            4218 non-null   int64 \n",
      " 2   Age                               4218 non-null   object\n",
      " 3   Sex                               4218 non-null   object\n",
      " 4   CountryLiveIn                     4218 non-null   object\n",
      " 5   USStateLiveIn                     4218 non-null   object\n",
      " 6   SelfEmployed                      4218 non-null   object\n",
      " 7   FamilyHistoryMentalIllness        4218 non-null   object\n",
      " 8   TreatmentForMentalHealthDisorder  4218 non-null   object\n",
      " 9   EmployeesNumber                   4218 non-null   object\n",
      " 10  IsTechCompany                     4218 non-null   object\n",
      " 11  HadMentalHealthDisorder           2958 non-null   object\n",
      " 12  HasMentalHealthDisorder           2958 non-null   object\n",
      " 13  HaveDiagnosedMHD                  2958 non-null   object\n",
      " 14  CountryWorkIn                     2958 non-null   object\n",
      " 15  USStateWorkIn                     2958 non-null   object\n",
      " 16  ConditionsDiagnosed               1433 non-null   object\n",
      " 17  ProductivityEffect                2958 non-null   object\n",
      " 18  WorkInterfenceEffect              1260 non-null   object\n",
      " 19  DisccussMHDCoworkers              2958 non-null   object\n",
      " 20  DisccussMHDSupervisor             2958 non-null   object\n",
      " 21  Benefits                          4218 non-null   object\n",
      "dtypes: int64(2), object(20)\n",
      "memory usage: 725.1+ KB\n"
     ]
    },
    {
     "data": {
      "text/html": [
       "<div>\n",
       "<style scoped>\n",
       "    .dataframe tbody tr th:only-of-type {\n",
       "        vertical-align: middle;\n",
       "    }\n",
       "\n",
       "    .dataframe tbody tr th {\n",
       "        vertical-align: top;\n",
       "    }\n",
       "\n",
       "    .dataframe thead th {\n",
       "        text-align: right;\n",
       "    }\n",
       "</style>\n",
       "<table border=\"1\" class=\"dataframe\">\n",
       "  <thead>\n",
       "    <tr style=\"text-align: right;\">\n",
       "      <th></th>\n",
       "      <th>SurveyID</th>\n",
       "      <th>UserID</th>\n",
       "      <th>Age</th>\n",
       "      <th>Sex</th>\n",
       "      <th>CountryLiveIn</th>\n",
       "      <th>USStateLiveIn</th>\n",
       "      <th>SelfEmployed</th>\n",
       "      <th>FamilyHistoryMentalIllness</th>\n",
       "      <th>TreatmentForMentalHealthDisorder</th>\n",
       "      <th>EmployeesNumber</th>\n",
       "      <th>...</th>\n",
       "      <th>HasMentalHealthDisorder</th>\n",
       "      <th>HaveDiagnosedMHD</th>\n",
       "      <th>CountryWorkIn</th>\n",
       "      <th>USStateWorkIn</th>\n",
       "      <th>ConditionsDiagnosed</th>\n",
       "      <th>ProductivityEffect</th>\n",
       "      <th>WorkInterfenceEffect</th>\n",
       "      <th>DisccussMHDCoworkers</th>\n",
       "      <th>DisccussMHDSupervisor</th>\n",
       "      <th>Benefits</th>\n",
       "    </tr>\n",
       "  </thead>\n",
       "  <tbody>\n",
       "    <tr>\n",
       "      <th>0</th>\n",
       "      <td>2014</td>\n",
       "      <td>1</td>\n",
       "      <td>37</td>\n",
       "      <td>Female</td>\n",
       "      <td>United States</td>\n",
       "      <td>Illinois</td>\n",
       "      <td>-1</td>\n",
       "      <td>No</td>\n",
       "      <td>1</td>\n",
       "      <td>6-25</td>\n",
       "      <td>...</td>\n",
       "      <td>None</td>\n",
       "      <td>None</td>\n",
       "      <td>None</td>\n",
       "      <td>None</td>\n",
       "      <td>None</td>\n",
       "      <td>None</td>\n",
       "      <td>Often</td>\n",
       "      <td>None</td>\n",
       "      <td>None</td>\n",
       "      <td>Yes</td>\n",
       "    </tr>\n",
       "    <tr>\n",
       "      <th>1</th>\n",
       "      <td>2014</td>\n",
       "      <td>2</td>\n",
       "      <td>44</td>\n",
       "      <td>Male</td>\n",
       "      <td>United States</td>\n",
       "      <td>Indiana</td>\n",
       "      <td>-1</td>\n",
       "      <td>No</td>\n",
       "      <td>0</td>\n",
       "      <td>More than 1000</td>\n",
       "      <td>...</td>\n",
       "      <td>None</td>\n",
       "      <td>None</td>\n",
       "      <td>None</td>\n",
       "      <td>None</td>\n",
       "      <td>None</td>\n",
       "      <td>None</td>\n",
       "      <td>Rarely</td>\n",
       "      <td>None</td>\n",
       "      <td>None</td>\n",
       "      <td>Don't know</td>\n",
       "    </tr>\n",
       "    <tr>\n",
       "      <th>2</th>\n",
       "      <td>2014</td>\n",
       "      <td>3</td>\n",
       "      <td>32</td>\n",
       "      <td>Male</td>\n",
       "      <td>Canada</td>\n",
       "      <td>-1</td>\n",
       "      <td>-1</td>\n",
       "      <td>No</td>\n",
       "      <td>0</td>\n",
       "      <td>6-25</td>\n",
       "      <td>...</td>\n",
       "      <td>None</td>\n",
       "      <td>None</td>\n",
       "      <td>None</td>\n",
       "      <td>None</td>\n",
       "      <td>None</td>\n",
       "      <td>None</td>\n",
       "      <td>Rarely</td>\n",
       "      <td>None</td>\n",
       "      <td>None</td>\n",
       "      <td>No</td>\n",
       "    </tr>\n",
       "    <tr>\n",
       "      <th>3</th>\n",
       "      <td>2014</td>\n",
       "      <td>4</td>\n",
       "      <td>31</td>\n",
       "      <td>Male</td>\n",
       "      <td>United Kingdom</td>\n",
       "      <td>-1</td>\n",
       "      <td>-1</td>\n",
       "      <td>Yes</td>\n",
       "      <td>1</td>\n",
       "      <td>26-100</td>\n",
       "      <td>...</td>\n",
       "      <td>None</td>\n",
       "      <td>None</td>\n",
       "      <td>None</td>\n",
       "      <td>None</td>\n",
       "      <td>None</td>\n",
       "      <td>None</td>\n",
       "      <td>Often</td>\n",
       "      <td>None</td>\n",
       "      <td>None</td>\n",
       "      <td>No</td>\n",
       "    </tr>\n",
       "    <tr>\n",
       "      <th>4</th>\n",
       "      <td>2014</td>\n",
       "      <td>5</td>\n",
       "      <td>31</td>\n",
       "      <td>Male</td>\n",
       "      <td>United States</td>\n",
       "      <td>Texas</td>\n",
       "      <td>-1</td>\n",
       "      <td>No</td>\n",
       "      <td>0</td>\n",
       "      <td>100-500</td>\n",
       "      <td>...</td>\n",
       "      <td>None</td>\n",
       "      <td>None</td>\n",
       "      <td>None</td>\n",
       "      <td>None</td>\n",
       "      <td>None</td>\n",
       "      <td>None</td>\n",
       "      <td>Never</td>\n",
       "      <td>None</td>\n",
       "      <td>None</td>\n",
       "      <td>Yes</td>\n",
       "    </tr>\n",
       "  </tbody>\n",
       "</table>\n",
       "<p>5 rows × 22 columns</p>\n",
       "</div>"
      ],
      "text/plain": [
       "   SurveyID  UserID Age     Sex   CountryLiveIn USStateLiveIn SelfEmployed  \\\n",
       "0      2014       1  37  Female   United States      Illinois           -1   \n",
       "1      2014       2  44    Male   United States       Indiana           -1   \n",
       "2      2014       3  32    Male          Canada            -1           -1   \n",
       "3      2014       4  31    Male  United Kingdom            -1           -1   \n",
       "4      2014       5  31    Male   United States         Texas           -1   \n",
       "\n",
       "  FamilyHistoryMentalIllness TreatmentForMentalHealthDisorder EmployeesNumber  \\\n",
       "0                         No                                1            6-25   \n",
       "1                         No                                0  More than 1000   \n",
       "2                         No                                0            6-25   \n",
       "3                        Yes                                1          26-100   \n",
       "4                         No                                0         100-500   \n",
       "\n",
       "   ... HasMentalHealthDisorder HaveDiagnosedMHD CountryWorkIn USStateWorkIn  \\\n",
       "0  ...                    None             None          None          None   \n",
       "1  ...                    None             None          None          None   \n",
       "2  ...                    None             None          None          None   \n",
       "3  ...                    None             None          None          None   \n",
       "4  ...                    None             None          None          None   \n",
       "\n",
       "  ConditionsDiagnosed ProductivityEffect WorkInterfenceEffect  \\\n",
       "0                None               None                Often   \n",
       "1                None               None               Rarely   \n",
       "2                None               None               Rarely   \n",
       "3                None               None                Often   \n",
       "4                None               None                Never   \n",
       "\n",
       "  DisccussMHDCoworkers DisccussMHDSupervisor    Benefits  \n",
       "0                 None                  None         Yes  \n",
       "1                 None                  None  Don't know  \n",
       "2                 None                  None          No  \n",
       "3                 None                  None          No  \n",
       "4                 None                  None         Yes  \n",
       "\n",
       "[5 rows x 22 columns]"
      ]
     },
     "execution_count": 8,
     "metadata": {},
     "output_type": "execute_result"
    }
   ],
   "source": [
    "survey_df = pd.read_sql_query(\"\"\"WITH qa_info AS (\n",
    "            SELECT \n",
    "                a.*,\n",
    "                q.questiontext\n",
    "            FROM Answer AS a\n",
    "            LEFT JOIN Question AS q\n",
    "                ON a.QuestionID = q.questionid\n",
    "            )\n",
    "            SELECT \n",
    "                SurveyID,\n",
    "                UserID,\n",
    "                MAX(CASE WHEN QuestionID = 1 THEN AnswerText END) AS Age,\n",
    "                MAX(CASE WHEN QuestionID = 2 THEN AnswerText END) AS Sex,\n",
    "                MAX(CASE WHEN QuestionID = 3 THEN AnswerText END) AS CountryLiveIn,\n",
    "                MAX(CASE WHEN QuestionID = 4 THEN AnswerText END) AS USStateLiveIn,\n",
    "                MAX(CASE WHEN QuestionID = 5 THEN AnswerText END) AS SelfEmployed,\n",
    "                MAX(CASE WHEN QuestionID = 6 THEN AnswerText END) AS FamilyHistoryMentalIllness,\n",
    "                MAX(CASE WHEN QuestionID = 7 THEN AnswerText END) AS TreatmentForMentalHealthDisorder,\n",
    "                MAX(CASE WHEN QuestionID = 8 THEN AnswerText END) AS EmployeesNumber,\n",
    "                MAX(CASE WHEN QuestionID = 9 THEN AnswerText END) AS IsTechCompany,\n",
    "                MAX(CASE WHEN QuestionID = 32 THEN AnswerText END) AS HadMentalHealthDisorder,\n",
    "                MAX(CASE WHEN QuestionID = 33 THEN AnswerText END) AS HasMentalHealthDisorder,\n",
    "                MAX(CASE WHEN QuestionID = 34 THEN AnswerText END) AS HaveDiagnosedMHD,                \n",
    "                MAX(CASE WHEN QuestionID = 50 THEN AnswerText END) AS CountryWorkIn,\n",
    "                MAX(CASE WHEN QuestionID = 51 THEN AnswerText END) AS USStateWorkIn,\n",
    "                MAX(CASE WHEN QuestionID = 115 THEN AnswerText END) AS ConditionsDiagnosed,\n",
    "                MAX(CASE WHEN QuestionID = 54 THEN AnswerText END) AS ProductivityEffect,\n",
    "                MAX(CASE WHEN QuestionID = 92 THEN AnswerText END) AS WorkInterfenceEffect,\n",
    "                MAX(CASE WHEN QuestionID = 18 THEN AnswerText END) AS DisccussMHDCoworkers,\n",
    "                MAX(CASE WHEN QuestionID = 19 THEN AnswerText END) AS DisccussMHDSupervisor,\n",
    "                MAX(CASE WHEN QuestionID = 10 THEN AnswerText END) AS Benefits\n",
    "            FROM qa_info\n",
    "            GROUP BY 1,2  \n",
    "            \"\"\", con)\n",
    "survey_df.info()\n",
    "survey_df.head(5)"
   ]
  },
  {
   "cell_type": "markdown",
   "id": "f98fa860-ab38-44c9-ae1e-2b4a1468d5ce",
   "metadata": {},
   "source": [
    "### On which years surveys were conducted?"
   ]
  },
  {
   "cell_type": "code",
   "execution_count": 9,
   "id": "67045bf3-b383-4371-b2b6-1a0789087995",
   "metadata": {},
   "outputs": [
    {
     "data": {
      "text/plain": [
       "array([2014, 2016, 2017, 2018, 2019])"
      ]
     },
     "execution_count": 9,
     "metadata": {},
     "output_type": "execute_result"
    }
   ],
   "source": [
    "survey_df.SurveyID.unique()"
   ]
  },
  {
   "cell_type": "markdown",
   "id": "f6c4ba80-8fc4-4aa2-9eab-2a737ab38766",
   "metadata": {},
   "source": [
    "### What is the surveys respondents sample size?"
   ]
  },
  {
   "cell_type": "code",
   "execution_count": 10,
   "id": "3c21b45b-a5b6-4790-9891-10a4623ce750",
   "metadata": {},
   "outputs": [],
   "source": [
    "responses = (survey_df.groupby(['SurveyID'])\n",
    "                 .agg(NumOfRespondents = ('UserID','count'))\n",
    "                 .reset_index())"
   ]
  },
  {
   "cell_type": "code",
   "execution_count": 11,
   "id": "85f20ef2-1e53-48ad-9a5e-ede045199f94",
   "metadata": {},
   "outputs": [
    {
     "data": {
      "image/png": "[encoded data removed]",
      "text/plain": [
       "<Figure size 720x360 with 1 Axes>"
      ]
     },
     "metadata": {
      "needs_background": "light"
     },
     "output_type": "display_data"
    }
   ],
   "source": [
    "fig, ax = plt.subplots(figsize = (10,5))\n",
    "\n",
    "respondents = plt.bar(responses.SurveyID, responses.NumOfRespondents, \n",
    "                       color = 'blue', edgecolor = 'white')\n",
    "\n",
    "plt.xlabel('Survey')\n",
    "plt.ylabel('# of respondents')\n",
    "plt.title('# respondents per survey')\n",
    "\n",
    "def autolabel(graph):\n",
    "    for i in graph:\n",
    "        height = i.get_height()\n",
    "        ax.annotate('{:0,.0f}'.format(height),\n",
    "            xy = (i.get_x() + i.get_width() / 2, height),\n",
    "            xytext = (0, 3),\n",
    "            textcoords = \"offset points\",\n",
    "            ha = 'center', va = 'bottom')\n",
    "\n",
    "autolabel(respondents)\n",
    "\n",
    "plt.show()"
   ]
  },
  {
   "cell_type": "markdown",
   "id": "8ab585e0-6119-4d30-9879-46680d12fba0",
   "metadata": {},
   "source": [
    "Number of respondents varies per surveys:\n",
    "- On 2014 there was collected 1260 participants responses. \n",
    "- Survey was skipped on 2015. \n",
    "- Then, on 2016 1433 participants were. \n",
    "- And since 2017 number of participants deacreased two times up to 352 on 2019 survey. "
   ]
  },
  {
   "cell_type": "markdown",
   "id": "50dd77a2-dd48-4268-8305-ddc0666eeca7",
   "metadata": {},
   "source": [
    "### What are the surveys gender composition?"
   ]
  },
  {
   "cell_type": "markdown",
   "id": "902ee748-934b-4bf8-80f9-7e693a6e172d",
   "metadata": {},
   "source": [
    "Gender answers were collected under this question in surveys:\n",
    "\n",
    "`2 What is your gender?`"
   ]
  },
  {
   "cell_type": "code",
   "execution_count": 12,
   "id": "91ec7d00-6d8d-49d0-91b1-c86c74ad929e",
   "metadata": {},
   "outputs": [
    {
     "data": {
      "text/plain": [
       "array(['female', 'male', 'male-ish', 'trans-female',\n",
       "       'something kinda male?', 'queer/she/they', 'non-binary', 'nah',\n",
       "       'all', 'enby', 'fluid', 'genderqueer', 'androgyne', 'agender',\n",
       "       'guy (-ish) ^_^', 'male leaning androgynous', 'trans woman',\n",
       "       'neuter', 'female (trans)', 'queer', 'a little about you', 'p',\n",
       "       'ostensibly male, unsure what that really means', 'bigender',\n",
       "       'female assigned at birth', 'fm', 'transitioned, m2f',\n",
       "       'genderfluid (born female)', 'other/transfeminine',\n",
       "       'female or multi-gender femme', 'androgynous',\n",
       "       'male 9:1 female, roughly', '-1', 'other', 'nb masculine',\n",
       "       'none of your business', 'human', 'genderfluid',\n",
       "       'genderqueer woman', 'mtf', 'male/genderqueer', 'nonbinary',\n",
       "       'unicorn', 'male (trans, ftm)', 'genderflux demi-girl',\n",
       "       'female-bodied; no feelings about gender', 'afab',\n",
       "       'transgender woman', 'male/androgynous',\n",
       "       'uhhhhhhhhh fem genderqueer?', 'god king of the valajar',\n",
       "       'agender/genderfluid', 'sometimes', 'woman-identified',\n",
       "       'contextual', 'non binary', 'genderqueer demigirl',\n",
       "       'genderqueer/non-binary', 'female-ish', '\\\\-', 'transfeminine',\n",
       "       'none', 'ostensibly male', 'male (or female, or both)',\n",
       "       'trans man', 'transgender', 'female/gender non-binary.', 'demiguy',\n",
       "       'trans female', 'she/her/they/them', 'swm', 'nb',\n",
       "       'nonbinary/femme', 'gender non-conforming woman', 'masculine',\n",
       "       'cishet male', 'female-identified', 'questioning',\n",
       "       'i have a penis', 'rr', 'agender trans woman', 'femmina', '43',\n",
       "       'masculino', 'i am a wookie', 'trans non-binary/genderfluid',\n",
       "       'non-binary and gender fluid'], dtype=object)"
      ]
     },
     "execution_count": 12,
     "metadata": {},
     "output_type": "execute_result"
    }
   ],
   "source": [
    "survey_df['Sex'] = survey_df.Sex.apply(lambda x: str(x.lower()))\n",
    "survey_df.Sex.unique()"
   ]
  },
  {
   "cell_type": "markdown",
   "id": "490a4220-5783-4eeb-96fe-a0e45bd52c57",
   "metadata": {},
   "source": [
    "There is a lot messy gender answers from surveys. We will standartize the answers to have comparable data."
   ]
  },
  {
   "cell_type": "code",
   "execution_count": 13,
   "id": "ccedd639-3a7f-486a-a4d5-d6fc899fb010",
   "metadata": {},
   "outputs": [
    {
     "data": {
      "text/html": [
       "<div>\n",
       "<style scoped>\n",
       "    .dataframe tbody tr th:only-of-type {\n",
       "        vertical-align: middle;\n",
       "    }\n",
       "\n",
       "    .dataframe tbody tr th {\n",
       "        vertical-align: top;\n",
       "    }\n",
       "\n",
       "    .dataframe thead th {\n",
       "        text-align: right;\n",
       "    }\n",
       "</style>\n",
       "<table border=\"1\" class=\"dataframe\">\n",
       "  <thead>\n",
       "    <tr style=\"text-align: right;\">\n",
       "      <th></th>\n",
       "      <th>SurveyID</th>\n",
       "      <th>UserID</th>\n",
       "      <th>Age</th>\n",
       "      <th>Sex</th>\n",
       "      <th>CountryLiveIn</th>\n",
       "      <th>USStateLiveIn</th>\n",
       "      <th>SelfEmployed</th>\n",
       "      <th>FamilyHistoryMentalIllness</th>\n",
       "      <th>TreatmentForMentalHealthDisorder</th>\n",
       "      <th>EmployeesNumber</th>\n",
       "      <th>...</th>\n",
       "      <th>CountryWorkIn</th>\n",
       "      <th>USStateWorkIn</th>\n",
       "      <th>ConditionsDiagnosed</th>\n",
       "      <th>ProductivityEffect</th>\n",
       "      <th>WorkInterfenceEffect</th>\n",
       "      <th>DisccussMHDCoworkers</th>\n",
       "      <th>DisccussMHDSupervisor</th>\n",
       "      <th>Benefits</th>\n",
       "      <th>Gender</th>\n",
       "      <th>GenderAgg</th>\n",
       "    </tr>\n",
       "  </thead>\n",
       "  <tbody>\n",
       "    <tr>\n",
       "      <th>0</th>\n",
       "      <td>2014</td>\n",
       "      <td>1</td>\n",
       "      <td>37</td>\n",
       "      <td>female</td>\n",
       "      <td>United States</td>\n",
       "      <td>Illinois</td>\n",
       "      <td>-1</td>\n",
       "      <td>No</td>\n",
       "      <td>1</td>\n",
       "      <td>6-25</td>\n",
       "      <td>...</td>\n",
       "      <td>None</td>\n",
       "      <td>None</td>\n",
       "      <td>None</td>\n",
       "      <td>None</td>\n",
       "      <td>Often</td>\n",
       "      <td>None</td>\n",
       "      <td>None</td>\n",
       "      <td>Yes</td>\n",
       "      <td>female</td>\n",
       "      <td>female</td>\n",
       "    </tr>\n",
       "    <tr>\n",
       "      <th>1</th>\n",
       "      <td>2014</td>\n",
       "      <td>2</td>\n",
       "      <td>44</td>\n",
       "      <td>male</td>\n",
       "      <td>United States</td>\n",
       "      <td>Indiana</td>\n",
       "      <td>-1</td>\n",
       "      <td>No</td>\n",
       "      <td>0</td>\n",
       "      <td>More than 1000</td>\n",
       "      <td>...</td>\n",
       "      <td>None</td>\n",
       "      <td>None</td>\n",
       "      <td>None</td>\n",
       "      <td>None</td>\n",
       "      <td>Rarely</td>\n",
       "      <td>None</td>\n",
       "      <td>None</td>\n",
       "      <td>Don't know</td>\n",
       "      <td>male</td>\n",
       "      <td>male</td>\n",
       "    </tr>\n",
       "    <tr>\n",
       "      <th>2</th>\n",
       "      <td>2014</td>\n",
       "      <td>3</td>\n",
       "      <td>32</td>\n",
       "      <td>male</td>\n",
       "      <td>Canada</td>\n",
       "      <td>-1</td>\n",
       "      <td>-1</td>\n",
       "      <td>No</td>\n",
       "      <td>0</td>\n",
       "      <td>6-25</td>\n",
       "      <td>...</td>\n",
       "      <td>None</td>\n",
       "      <td>None</td>\n",
       "      <td>None</td>\n",
       "      <td>None</td>\n",
       "      <td>Rarely</td>\n",
       "      <td>None</td>\n",
       "      <td>None</td>\n",
       "      <td>No</td>\n",
       "      <td>male</td>\n",
       "      <td>male</td>\n",
       "    </tr>\n",
       "    <tr>\n",
       "      <th>3</th>\n",
       "      <td>2014</td>\n",
       "      <td>4</td>\n",
       "      <td>31</td>\n",
       "      <td>male</td>\n",
       "      <td>United Kingdom</td>\n",
       "      <td>-1</td>\n",
       "      <td>-1</td>\n",
       "      <td>Yes</td>\n",
       "      <td>1</td>\n",
       "      <td>26-100</td>\n",
       "      <td>...</td>\n",
       "      <td>None</td>\n",
       "      <td>None</td>\n",
       "      <td>None</td>\n",
       "      <td>None</td>\n",
       "      <td>Often</td>\n",
       "      <td>None</td>\n",
       "      <td>None</td>\n",
       "      <td>No</td>\n",
       "      <td>male</td>\n",
       "      <td>male</td>\n",
       "    </tr>\n",
       "    <tr>\n",
       "      <th>4</th>\n",
       "      <td>2014</td>\n",
       "      <td>5</td>\n",
       "      <td>31</td>\n",
       "      <td>male</td>\n",
       "      <td>United States</td>\n",
       "      <td>Texas</td>\n",
       "      <td>-1</td>\n",
       "      <td>No</td>\n",
       "      <td>0</td>\n",
       "      <td>100-500</td>\n",
       "      <td>...</td>\n",
       "      <td>None</td>\n",
       "      <td>None</td>\n",
       "      <td>None</td>\n",
       "      <td>None</td>\n",
       "      <td>Never</td>\n",
       "      <td>None</td>\n",
       "      <td>None</td>\n",
       "      <td>Yes</td>\n",
       "      <td>male</td>\n",
       "      <td>male</td>\n",
       "    </tr>\n",
       "  </tbody>\n",
       "</table>\n",
       "<p>5 rows × 24 columns</p>\n",
       "</div>"
      ],
      "text/plain": [
       "   SurveyID  UserID Age     Sex   CountryLiveIn USStateLiveIn SelfEmployed  \\\n",
       "0      2014       1  37  female   United States      Illinois           -1   \n",
       "1      2014       2  44    male   United States       Indiana           -1   \n",
       "2      2014       3  32    male          Canada            -1           -1   \n",
       "3      2014       4  31    male  United Kingdom            -1           -1   \n",
       "4      2014       5  31    male   United States         Texas           -1   \n",
       "\n",
       "  FamilyHistoryMentalIllness TreatmentForMentalHealthDisorder EmployeesNumber  \\\n",
       "0                         No                                1            6-25   \n",
       "1                         No                                0  More than 1000   \n",
       "2                         No                                0            6-25   \n",
       "3                        Yes                                1          26-100   \n",
       "4                         No                                0         100-500   \n",
       "\n",
       "   ... CountryWorkIn USStateWorkIn ConditionsDiagnosed ProductivityEffect  \\\n",
       "0  ...          None          None                None               None   \n",
       "1  ...          None          None                None               None   \n",
       "2  ...          None          None                None               None   \n",
       "3  ...          None          None                None               None   \n",
       "4  ...          None          None                None               None   \n",
       "\n",
       "  WorkInterfenceEffect DisccussMHDCoworkers DisccussMHDSupervisor    Benefits  \\\n",
       "0                Often                 None                  None         Yes   \n",
       "1               Rarely                 None                  None  Don't know   \n",
       "2               Rarely                 None                  None          No   \n",
       "3                Often                 None                  None          No   \n",
       "4                Never                 None                  None         Yes   \n",
       "\n",
       "   Gender GenderAgg  \n",
       "0  female    female  \n",
       "1    male      male  \n",
       "2    male      male  \n",
       "3    male      male  \n",
       "4    male      male  \n",
       "\n",
       "[5 rows x 24 columns]"
      ]
     },
     "execution_count": 13,
     "metadata": {},
     "output_type": "execute_result"
    }
   ],
   "source": [
    "gender = {\"female\": \"female\",\n",
    "          \"male\": \"male\",\n",
    "          \"trans-female\": \"trans-woman\",\n",
    "          \"non-binary\": \"non-binary\",\n",
    "          \"fluid\": \"fluid\",\n",
    "          \"androgyne\": \"androgyne\",\n",
    "          \"queer\": \"queer\",\n",
    "          \"bigender\": \"bi-gender\",\n",
    "          \"other\": \"other\",\n",
    "          \"male-ish\": \"male\",\n",
    "          \"something kinda male?\": \"male\",\n",
    "          \"queer/she/they\": \"queer\",\n",
    "          \"nah\": \"other\",\n",
    "          \"all\": \"other\",\n",
    "          \"enby\": \"non-binary\",\n",
    "          \"genderqueer\": \"queer\",\n",
    "          \"agender\": \"other\",\n",
    "          \"guy (-ish) ^_^\": \"male\",\n",
    "          \"male leaning androgynous\": \"androgyne\",\n",
    "          \"trans woman\": \"trans-woman\",\n",
    "          \"neuter\": \"other\",\n",
    "          \"female (trans)\": \"trans-woman\",\n",
    "          \"a little about you\": \"other\",\n",
    "          \"p\": \"other\",\n",
    "          \"ostensibly male, unsure what that really means\": \"other\",\n",
    "          \"female assigned at birth\": \"female\", \n",
    "          \"fm\": \"female\",\n",
    "          \"transitioned, m2f\": \"trans-woman\",\n",
    "          \"genderfluid (born female)\": \"fluid\",\n",
    "          \"other/transfeminine\": \"trans-woman\",\n",
    "          \"female or multi-gender femme\": \"female\",\n",
    "          \"androgynous\": \"androgyne\",\n",
    "          \"male 9:1 female, roughly\": \"male\",\n",
    "          \"-1\": \"other\",\n",
    "          \"nb masculine\": \"male\",\n",
    "          \"none of your business\": \"other\",\n",
    "          \"human\": \"other\",\n",
    "          \"genderfluid\": \"fluid\",\n",
    "          \"genderqueer woman\": \"queer\",\n",
    "          \"mtf\": \"other\",\n",
    "          \"male/genderqueer\": \"queer\",\n",
    "          \"nonbinary\": \"non-binary\",\n",
    "          \"unicorn\": \"other\", \n",
    "          \"male (trans, ftm)\": \"trans-gender\",\n",
    "          \"genderflux demi-girl\": \"fluid\",\n",
    "          \"female-bodied; no feelings about gender\": \"female\",\n",
    "          \"afab\": \"other\",\n",
    "          \"transgender woman\": \"trans-woman\",\n",
    "          \"male/androgynous\": \"androgyne\",\n",
    "          \"uhhhhhhhhh fem genderqueer?\": \"queer\",\n",
    "          \"god king of the valajar\": \"other\",\n",
    "          \"agender/genderfluid\": \"fluid\",\n",
    "          \"sometimes\": \"other\",\n",
    "          \"woman-identified\": \"female\",\n",
    "          \"contextual\": \"other\",\n",
    "          \"non binary\": \"non-binary\",\n",
    "          \"genderqueer demigirl\": \"queer\",\n",
    "          \"genderqueer/non-binary\": \"non-binary\",\n",
    "          \"female-ish\": \"female\",\n",
    "          \"\\\\-\": \"other\",\n",
    "          \"transfeminine\": \"trans-woman\",\n",
    "          \"none\": \"other\",\n",
    "          \"ostensibly male\": \"male\",\n",
    "          \"male (or female, or both)\": \"other\",\n",
    "          \"trans man\": \"trans-male\",\n",
    "          \"transgender\": \"trans-gender\",\n",
    "          \"female/gender non-binary.\": \"non-binary\",\n",
    "          \"demiguy\": \"other\",\n",
    "          \"trans female\": \"trans-woman\", \n",
    "          \"she/her/they/them\": \"female\",\n",
    "          \"swm\": \"other\", \n",
    "          \"nb\": \"other\",\n",
    "          \"nonbinary/femme\": \"non-binary\",\n",
    "          \"gender non-conforming woman\": \"female\", \n",
    "          \"masculine\": \"male\",\n",
    "          \"cishet male\": \"male\", \n",
    "          \"female-identified\": \"female\", \n",
    "          \"questioning\": \"other\",\n",
    "          \"i have a penis\": \"male\", \n",
    "          \"rr\": \"other\", \n",
    "          \"agender trans woman\": \"trans-woman\", \n",
    "          \"femmina\": \"female\", \n",
    "          \"43\": \"other\",\n",
    "          \"masculino\": \"male\", \n",
    "          \"i am a wookie\": \"other\", \n",
    "          \"trans non-binary/genderfluid\": \"non-binary\",\n",
    "          \"non-binary and gender fluid\": \"non-binary\"\n",
    "}\n",
    "\n",
    "survey_df['Gender'] = survey_df.Sex.apply(lambda x: gender[x])\n",
    "survey_df['GenderAgg'] = np.where(survey_df.Gender == 'female', 'female',\n",
    "                              np.where(survey_df.Gender == 'male','male','other'))\n",
    "survey_df.head(5)"
   ]
  },
  {
   "cell_type": "markdown",
   "id": "23e37975-84af-45bf-91ba-a47f84117a07",
   "metadata": {},
   "source": [
    "After data standartization we can check the surveys gender composition:"
   ]
  },
  {
   "cell_type": "code",
   "execution_count": 14,
   "id": "d271fda4-af17-47fc-9154-2a8c08c8c02d",
   "metadata": {},
   "outputs": [],
   "source": [
    "responses_per_gender = (survey_df.groupby(['SurveyID','Gender'])\n",
    "                             .agg(NumOfRespondents = ('UserID','count'))\n",
    "                             .reset_index())\n",
    "responses_per_gender_tot = (responses_per_gender.groupby('SurveyID')\n",
    "                               .agg(Tot = ('NumOfRespondents','sum'))\n",
    "                                .reset_index())\n",
    "responses_per_gender = pd.merge(responses_per_gender, responses_per_gender_tot,\n",
    "                                how = 'left',\n",
    "                                on = 'SurveyID')\n",
    "responses_per_gender['Share'] = round(responses_per_gender.NumOfRespondents /\n",
    "                                        responses_per_gender.Tot*100,1)"
   ]
  },
  {
   "cell_type": "code",
   "execution_count": 15,
   "id": "c8f31b6b-006e-4fb1-8be4-7fc4de034cb2",
   "metadata": {},
   "outputs": [
    {
     "data": {
      "text/plain": [
       "<matplotlib.legend.Legend at 0x7f7f5b8b3df0>"
      ]
     },
     "execution_count": 15,
     "metadata": {},
     "output_type": "execute_result"
    },
    {
     "data": {
      "image/png": "[encoded data removed]",
      "text/plain": [
       "<Figure size 864x360 with 1 Axes>"
      ]
     },
     "metadata": {
      "needs_background": "light"
     },
     "output_type": "display_data"
    }
   ],
   "source": [
    "fig, ax = plt.subplots(figsize = (12,5))\n",
    "\n",
    "sns.barplot(data = responses_per_gender, \n",
    "            x = \"SurveyID\",\n",
    "            y = \"NumOfRespondents\", \n",
    "            hue = \"Gender\"\n",
    "           )\n",
    "plt.title(\"Respondents Distribution per Gender and Survey\", fontsize = 15)\n",
    "ax.legend(loc='upper center', bbox_to_anchor = (0.75, 0.99),\n",
    "          ncol = 3, fancybox = True, shadow = True)"
   ]
  },
  {
   "cell_type": "markdown",
   "id": "bb8e2ad7-6f64-4356-b01f-241f121c783f",
   "metadata": {},
   "source": [
    "There are more males participating in the surveyes than females or other gender participants."
   ]
  },
  {
   "cell_type": "code",
   "execution_count": 16,
   "id": "7216d1d7-f2e3-4389-90bc-d30eee7c322e",
   "metadata": {},
   "outputs": [
    {
     "data": {
      "text/plain": [
       "<matplotlib.legend.Legend at 0x7f7f5a271fd0>"
      ]
     },
     "execution_count": 16,
     "metadata": {},
     "output_type": "execute_result"
    },
    {
     "data": {
      "text/plain": [
       "<Figure size 720x360 with 0 Axes>"
      ]
     },
     "metadata": {},
     "output_type": "display_data"
    },
    {
     "data": {
      "image/png": "[encoded data removed]",
      "text/plain": [
       "<Figure size 432x288 with 1 Axes>"
      ]
     },
     "metadata": {
      "needs_background": "light"
     },
     "output_type": "display_data"
    }
   ],
   "source": [
    "table = pd.pivot_table(responses_per_gender, \n",
    "                   values = 'Share', \n",
    "                   index = ['SurveyID'],\n",
    "                   columns = ['Gender'], \n",
    "                   aggfunc = np.sum).fillna(0)\n",
    "\n",
    "plt.figure(figsize = (10, 5)) \n",
    "\n",
    "table.plot(kind = 'bar', stacked=True)\n",
    "plt.xlabel('Survey')\n",
    "plt.ylabel('% of people')\n",
    " \n",
    "# title of plot\n",
    "plt.title('Respondents proportions per gender over surveys', fontsize = 15)\n",
    "plt.legend(loc = 'lower center', bbox_to_anchor = (0.5, -0.6),\n",
    "          ncol = 3, fancybox = False, shadow = False)"
   ]
  },
  {
   "cell_type": "markdown",
   "id": "3fca21e6-a64c-4077-92f2-d378e4c4073d",
   "metadata": {},
   "source": [
    "Over time surveys gender proportions changed: proportion of males slightly decreased and females increased. \n",
    "\n",
    "In last 3 years more people specified other genders than male and female."
   ]
  },
  {
   "cell_type": "code",
   "execution_count": 17,
   "id": "802f3f57-c399-46ed-a565-f636d49b0d88",
   "metadata": {},
   "outputs": [
    {
     "data": {
      "text/plain": [
       "GenderAgg\n",
       "female    1034\n",
       "male      3054\n",
       "other      130\n",
       "Name: UserID, dtype: int64"
      ]
     },
     "execution_count": 17,
     "metadata": {},
     "output_type": "execute_result"
    }
   ],
   "source": [
    "survey_df.groupby('GenderAgg').UserID.count()"
   ]
  },
  {
   "cell_type": "markdown",
   "id": "e786f4d8-fbba-4152-858b-52fb1e8f5287",
   "metadata": {},
   "source": [
    "### What are the surveys age composition?"
   ]
  },
  {
   "cell_type": "markdown",
   "id": "4347e578-f243-4c01-8838-ae1ba49e27c1",
   "metadata": {},
   "source": [
    "Age information was under this question:\n",
    "\n",
    "`1 What is your age?`"
   ]
  },
  {
   "cell_type": "code",
   "execution_count": 18,
   "id": "494a0598-e30e-43ee-9527-9e42be150c21",
   "metadata": {},
   "outputs": [
    {
     "data": {
      "text/plain": [
       "array(['37', '44', '32', '31', '33', '35', '39', '42', '23', '29', '36',\n",
       "       '27', '46', '41', '34', '30', '40', '38', '50', '24', '18', '28',\n",
       "       '26', '22', '19', '25', '45', '21', '-29', '43', '56', '60', '54',\n",
       "       '329', '55', '-1', '48', '20', '57', '58', '47', '62', '51', '65',\n",
       "       '49', '5', '53', '61', '8', '11', '72', '52', '17', '63', '99',\n",
       "       '323', '3', '66', '59', '15', '74', '70', '64', '67', '0'],\n",
       "      dtype=object)"
      ]
     },
     "execution_count": 18,
     "metadata": {},
     "output_type": "execute_result"
    }
   ],
   "source": [
    "survey_df.Age.unique()"
   ]
  },
  {
   "cell_type": "code",
   "execution_count": 19,
   "id": "a23659fc-fd79-4aa7-a261-194d1268d30c",
   "metadata": {},
   "outputs": [],
   "source": [
    "survey_df['Age'] = survey_df.Age.apply(lambda x: int(x))"
   ]
  },
  {
   "cell_type": "code",
   "execution_count": 20,
   "id": "d7287cff-1f86-4a41-8da4-258eef2f65e4",
   "metadata": {},
   "outputs": [
    {
     "data": {
      "image/png": "[encoded data removed]",
      "text/plain": [
       "<Figure size 1080x576 with 6 Axes>"
      ]
     },
     "metadata": {
      "needs_background": "light"
     },
     "output_type": "display_data"
    }
   ],
   "source": [
    "age_group = survey_df[['SurveyID', 'Age']]\n",
    "age_dict = {}\n",
    "\n",
    "survey_years = list(survey_df.SurveyID.unique())\n",
    "\n",
    "for year in survey_years:\n",
    "    age_dict[year] = (age_group[(age_group.SurveyID == year) & \n",
    "                                (age_group.Age.astype('int') >= 0) & \n",
    "                                (age_group.Age.astype('int') <= 90)] \n",
    "                        .Age  \n",
    "                        .sort_values() \n",
    "                        .tolist())\n",
    "    \n",
    "axarr = pd.DataFrame(dict([ (k,pd.Series(v)) for k,v in age_dict.items() ])) \\\n",
    "        .hist(\n",
    "            figsize = (15,8), \n",
    "            xrot = 90,sharex = True\n",
    "        )\n",
    "for ax in axarr.flatten():\n",
    "    ax.set_xlabel(\"Age\")\n",
    "    ax.set_ylabel(\"No. of people\")\n",
    "    \n",
    "plt.suptitle(\"Age Distribution of Participants Taking The Survey\", fontsize = 15)\n",
    "plt.savefig(\"./Age Distribution.png\", dpi = 600, transparent = True)"
   ]
  },
  {
   "cell_type": "markdown",
   "id": "0f490c5a-14eb-4d6d-8498-27f8b79977ef",
   "metadata": {},
   "source": [
    "All years taken survey age distributions are a bit right-skewed, almost bell shape, unimodal distributions (having one peak), centered at about 35 age. \n",
    "\n",
    "They are spread from 20-65 and have few outliers below 20 and more than 65. \n",
    "\n",
    "As age distributions are right-skewed, we would expect to see  that the mean will be higher than the median.\n"
   ]
  },
  {
   "cell_type": "code",
   "execution_count": 21,
   "id": "8f68d4b0-2cfd-4222-8429-7942d4ab8e5a",
   "metadata": {},
   "outputs": [
    {
     "data": {
      "text/plain": [
       "Text(0.5, 0.98, 'Age Distribution of Participants Taking The Survey')"
      ]
     },
     "execution_count": 21,
     "metadata": {},
     "output_type": "execute_result"
    },
    {
     "data": {
      "image/png": "[encoded data removed]",
      "text/plain": [
       "<Figure size 576x504 with 1 Axes>"
      ]
     },
     "metadata": {
      "needs_background": "light"
     },
     "output_type": "display_data"
    }
   ],
   "source": [
    "fig, ax = plt.subplots(figsize = (8,7))\n",
    "\n",
    "sns.boxplot(data = survey_df, x = 'SurveyID', y = 'Age')\n",
    "plt.suptitle('Age Distribution of Participants Taking The Survey', fontsize = 15)"
   ]
  },
  {
   "cell_type": "markdown",
   "id": "7690002b-1934-4324-a5e5-cb5328e393ea",
   "metadata": {},
   "source": [
    "Boxplots graphs shows that there are few outliers on each year surveys. We can see age below 0 or more than 100 years all. Such age is impossible and not logical. Thus such data could be exluded later in the analysis.\n",
    "\n",
    "Age variability ranges are very similar per each survey."
   ]
  },
  {
   "cell_type": "code",
   "execution_count": 22,
   "id": "e4e8ca66-cb32-4594-bdf2-562697c8422e",
   "metadata": {},
   "outputs": [],
   "source": [
    "# 25th Percentile\n",
    "def q25(x):\n",
    "    return x.quantile(0.25)\n",
    "# 50th Percentile\n",
    "def q50(x):\n",
    "    return x.quantile(0.5)\n",
    "# 75th Percentile\n",
    "def q75(x):\n",
    "    return x.quantile(0.75)\n",
    "def IQR(x):\n",
    "    return x.quantile(0.75) - x.quantile(0.25)"
   ]
  },
  {
   "cell_type": "code",
   "execution_count": 23,
   "id": "1a092ac4-a7b2-42ec-9147-399e425ae163",
   "metadata": {},
   "outputs": [
    {
     "data": {
      "text/html": [
       "<div>\n",
       "<style scoped>\n",
       "    .dataframe tbody tr th:only-of-type {\n",
       "        vertical-align: middle;\n",
       "    }\n",
       "\n",
       "    .dataframe tbody tr th {\n",
       "        vertical-align: top;\n",
       "    }\n",
       "\n",
       "    .dataframe thead tr th {\n",
       "        text-align: left;\n",
       "    }\n",
       "\n",
       "    .dataframe thead tr:last-of-type th {\n",
       "        text-align: right;\n",
       "    }\n",
       "</style>\n",
       "<table border=\"1\" class=\"dataframe\">\n",
       "  <thead>\n",
       "    <tr>\n",
       "      <th></th>\n",
       "      <th colspan=\"7\" halign=\"left\">Age</th>\n",
       "    </tr>\n",
       "    <tr>\n",
       "      <th></th>\n",
       "      <th>min</th>\n",
       "      <th>q25</th>\n",
       "      <th>mean</th>\n",
       "      <th>q50</th>\n",
       "      <th>q75</th>\n",
       "      <th>max</th>\n",
       "      <th>IQR</th>\n",
       "    </tr>\n",
       "    <tr>\n",
       "      <th>SurveyID</th>\n",
       "      <th></th>\n",
       "      <th></th>\n",
       "      <th></th>\n",
       "      <th></th>\n",
       "      <th></th>\n",
       "      <th></th>\n",
       "      <th></th>\n",
       "    </tr>\n",
       "  </thead>\n",
       "  <tbody>\n",
       "    <tr>\n",
       "      <th>2014</th>\n",
       "      <td>-29</td>\n",
       "      <td>27.00</td>\n",
       "      <td>32.134921</td>\n",
       "      <td>31.0</td>\n",
       "      <td>36.0</td>\n",
       "      <td>329</td>\n",
       "      <td>9.00</td>\n",
       "    </tr>\n",
       "    <tr>\n",
       "      <th>2016</th>\n",
       "      <td>3</td>\n",
       "      <td>28.00</td>\n",
       "      <td>34.286113</td>\n",
       "      <td>33.0</td>\n",
       "      <td>39.0</td>\n",
       "      <td>323</td>\n",
       "      <td>11.00</td>\n",
       "    </tr>\n",
       "    <tr>\n",
       "      <th>2017</th>\n",
       "      <td>-1</td>\n",
       "      <td>29.00</td>\n",
       "      <td>34.892857</td>\n",
       "      <td>34.0</td>\n",
       "      <td>40.0</td>\n",
       "      <td>67</td>\n",
       "      <td>11.00</td>\n",
       "    </tr>\n",
       "    <tr>\n",
       "      <th>2018</th>\n",
       "      <td>19</td>\n",
       "      <td>29.00</td>\n",
       "      <td>34.916067</td>\n",
       "      <td>34.0</td>\n",
       "      <td>39.0</td>\n",
       "      <td>67</td>\n",
       "      <td>10.00</td>\n",
       "    </tr>\n",
       "    <tr>\n",
       "      <th>2019</th>\n",
       "      <td>0</td>\n",
       "      <td>28.75</td>\n",
       "      <td>35.494318</td>\n",
       "      <td>34.0</td>\n",
       "      <td>41.0</td>\n",
       "      <td>64</td>\n",
       "      <td>12.25</td>\n",
       "    </tr>\n",
       "  </tbody>\n",
       "</table>\n",
       "</div>"
      ],
      "text/plain": [
       "         Age                                          \n",
       "         min    q25       mean   q50   q75  max    IQR\n",
       "SurveyID                                              \n",
       "2014     -29  27.00  32.134921  31.0  36.0  329   9.00\n",
       "2016       3  28.00  34.286113  33.0  39.0  323  11.00\n",
       "2017      -1  29.00  34.892857  34.0  40.0   67  11.00\n",
       "2018      19  29.00  34.916067  34.0  39.0   67  10.00\n",
       "2019       0  28.75  35.494318  34.0  41.0   64  12.25"
      ]
     },
     "execution_count": 23,
     "metadata": {},
     "output_type": "execute_result"
    }
   ],
   "source": [
    "Age_Stats = (survey_df.groupby(['SurveyID'])\n",
    "                      .agg({'Age': ['min',q25,'mean',q50,q75,'max',IQR]}))\n",
    "Age_Stats"
   ]
  },
  {
   "cell_type": "markdown",
   "id": "172aec8f-82ce-409b-a51d-6a3fae9cab9e",
   "metadata": {},
   "source": [
    "IQR (interquartile range, Q3-Q1) - is increasing years by years per surveys. Which says that variability of participants age was slighly increasing. \n",
    "\n",
    "The median and mean increased, too. Which says that slighly older people was involved in these surveys.\n",
    "\n",
    "The average age of the participant in the survey was between 32-35 years.\n",
    "Median was 31-34.\n",
    "\n",
    "The one of the youngest participants were around 27-29 yearsold (25th percentile) and oldest were around 36-41 years old (75th percentile)"
   ]
  },
  {
   "cell_type": "markdown",
   "id": "1b4cd84d-38db-4094-afd9-1c360538fb4e",
   "metadata": {},
   "source": [
    "### What is the geographical respondents distribution?"
   ]
  },
  {
   "cell_type": "markdown",
   "id": "83d3b154-cbba-4c23-9d39-4323c3094813",
   "metadata": {},
   "source": [
    "Geographical answers was under question:\n",
    "\n",
    "`3 What country do you live in?`"
   ]
  },
  {
   "cell_type": "code",
   "execution_count": 24,
   "id": "74d801da-d66a-4df9-98a6-9591f8ea8485",
   "metadata": {},
   "outputs": [
    {
     "name": "stdout",
     "output_type": "stream",
     "text": [
      "Raw values: \n",
      " ['United States' 'Canada' 'United Kingdom' 'Bulgaria' 'France' 'Portugal'\n",
      " 'Netherlands' 'Switzerland' 'Poland' 'Australia' 'Germany' 'Russia'\n",
      " 'Mexico' 'Brazil' 'Slovenia' 'Costa Rica' 'Austria' 'Ireland' 'India'\n",
      " 'South Africa' 'Italy' 'Sweden' 'Colombia' 'Latvia' 'Romania' 'Belgium'\n",
      " 'New Zealand' 'Zimbabwe' 'Spain' 'Finland' 'Uruguay' 'Israel'\n",
      " 'Bosnia and Herzegovina' 'Hungary' 'Singapore' 'Japan' 'Nigeria'\n",
      " 'Croatia' 'Norway' 'Thailand' 'Denmark' 'Bahamas, The' 'Greece' 'Moldova'\n",
      " 'Georgia' 'China' 'Czech Republic' 'Philippines'\n",
      " 'United States of America' 'Lithuania' 'Venezuela' 'Argentina' 'Vietnam'\n",
      " 'Slovakia' 'Bangladesh' 'Algeria' 'Pakistan' 'Afghanistan' 'Other'\n",
      " 'Brunei' 'Iran' 'Ecuador' 'Chile' 'Guatemala' 'Taiwan' 'Serbia' 'Estonia'\n",
      " 'Iceland' 'Indonesia' 'Jordan' 'Ukraine' 'Belarus' 'Turkey' '-1'\n",
      " 'Mauritius' 'Saudi Arabia' 'Kenya' 'Ethiopia' 'Macedonia' 'Hong Kong'\n",
      " 'Ghana']\n"
     ]
    }
   ],
   "source": [
    "print('Raw values: \\n', survey_df.CountryLiveIn.unique())\n",
    "\n",
    "survey_df['CountryLiveIn'] = np.where(\n",
    "            survey_df.CountryLiveIn == 'United States of America', 'United States',\n",
    "              np.where(survey_df.CountryLiveIn == '-1', 'Other', \n",
    "               survey_df.CountryLiveIn)\n",
    "            )"
   ]
  },
  {
   "cell_type": "code",
   "execution_count": 25,
   "id": "8c53d4f7-cf62-47c0-8b3c-48a7614ed47d",
   "metadata": {},
   "outputs": [
    {
     "name": "stdout",
     "output_type": "stream",
     "text": [
      "Top 15 countries respondents lives in:\n"
     ]
    },
    {
     "data": {
      "text/html": [
       "<style type=\"text/css\">\n",
       "#T_2d73b_row0_col0, #T_2d73b_row0_col1, #T_2d73b_row0_col2, #T_2d73b_row0_col3, #T_2d73b_row0_col4 {\n",
       "  background-color: #023858;\n",
       "  color: #f1f1f1;\n",
       "}\n",
       "#T_2d73b_row1_col0 {\n",
       "  background-color: #d2d3e7;\n",
       "  color: #000000;\n",
       "}\n",
       "#T_2d73b_row1_col1 {\n",
       "  background-color: #d9d8ea;\n",
       "  color: #000000;\n",
       "}\n",
       "#T_2d73b_row1_col2 {\n",
       "  background-color: #ebe6f2;\n",
       "  color: #000000;\n",
       "}\n",
       "#T_2d73b_row1_col3 {\n",
       "  background-color: #f6eff7;\n",
       "  color: #000000;\n",
       "}\n",
       "#T_2d73b_row1_col4 {\n",
       "  background-color: #e5e1ef;\n",
       "  color: #000000;\n",
       "}\n",
       "#T_2d73b_row2_col0, #T_2d73b_row2_col1, #T_2d73b_row14_col4 {\n",
       "  background-color: #f2ecf5;\n",
       "  color: #000000;\n",
       "}\n",
       "#T_2d73b_row2_col2 {\n",
       "  background-color: #f8f1f8;\n",
       "  color: #000000;\n",
       "}\n",
       "#T_2d73b_row2_col3, #T_2d73b_row4_col2, #T_2d73b_row8_col2 {\n",
       "  background-color: #fbf4f9;\n",
       "  color: #000000;\n",
       "}\n",
       "#T_2d73b_row2_col4 {\n",
       "  background-color: #f4eef6;\n",
       "  color: #000000;\n",
       "}\n",
       "#T_2d73b_row3_col0, #T_2d73b_row4_col1 {\n",
       "  background-color: #f7f0f7;\n",
       "  color: #000000;\n",
       "}\n",
       "#T_2d73b_row3_col1, #T_2d73b_row8_col4 {\n",
       "  background-color: #f5eff6;\n",
       "  color: #000000;\n",
       "}\n",
       "#T_2d73b_row3_col2 {\n",
       "  background-color: #f9f2f8;\n",
       "  color: #000000;\n",
       "}\n",
       "#T_2d73b_row3_col3, #T_2d73b_row3_col4, #T_2d73b_row4_col4, #T_2d73b_row6_col0, #T_2d73b_row6_col2, #T_2d73b_row13_col4 {\n",
       "  background-color: #fcf4fa;\n",
       "  color: #000000;\n",
       "}\n",
       "#T_2d73b_row4_col0, #T_2d73b_row5_col0 {\n",
       "  background-color: #fbf3f9;\n",
       "  color: #000000;\n",
       "}\n",
       "#T_2d73b_row4_col3, #T_2d73b_row5_col1, #T_2d73b_row6_col3, #T_2d73b_row7_col1, #T_2d73b_row7_col3, #T_2d73b_row8_col3, #T_2d73b_row10_col1, #T_2d73b_row11_col3, #T_2d73b_row12_col3, #T_2d73b_row12_col4 {\n",
       "  background-color: #fdf5fa;\n",
       "  color: #000000;\n",
       "}\n",
       "#T_2d73b_row5_col2, #T_2d73b_row7_col4, #T_2d73b_row8_col0, #T_2d73b_row8_col1, #T_2d73b_row9_col1, #T_2d73b_row9_col2, #T_2d73b_row10_col2, #T_2d73b_row13_col1, #T_2d73b_row14_col1, #T_2d73b_row14_col3 {\n",
       "  background-color: #fef6fb;\n",
       "  color: #000000;\n",
       "}\n",
       "#T_2d73b_row5_col3, #T_2d73b_row5_col4, #T_2d73b_row7_col0, #T_2d73b_row9_col4, #T_2d73b_row11_col4, #T_2d73b_row13_col2 {\n",
       "  background-color: #fef6fa;\n",
       "  color: #000000;\n",
       "}\n",
       "#T_2d73b_row6_col1 {\n",
       "  background-color: #faf2f8;\n",
       "  color: #000000;\n",
       "}\n",
       "#T_2d73b_row6_col4, #T_2d73b_row9_col0, #T_2d73b_row9_col3, #T_2d73b_row10_col0, #T_2d73b_row10_col3, #T_2d73b_row10_col4, #T_2d73b_row11_col0, #T_2d73b_row11_col1, #T_2d73b_row11_col2, #T_2d73b_row12_col0, #T_2d73b_row12_col1, #T_2d73b_row12_col2, #T_2d73b_row13_col0, #T_2d73b_row13_col3, #T_2d73b_row14_col0, #T_2d73b_row14_col2 {\n",
       "  background-color: #fff7fb;\n",
       "  color: #000000;\n",
       "}\n",
       "#T_2d73b_row7_col2 {\n",
       "  background-color: #faf3f9;\n",
       "  color: #000000;\n",
       "}\n",
       "</style>\n",
       "<table id=\"T_2d73b\">\n",
       "  <thead>\n",
       "    <tr>\n",
       "      <th class=\"index_name level0\" >SurveyID</th>\n",
       "      <th id=\"T_2d73b_level0_col0\" class=\"col_heading level0 col0\" >2014</th>\n",
       "      <th id=\"T_2d73b_level0_col1\" class=\"col_heading level0 col1\" >2016</th>\n",
       "      <th id=\"T_2d73b_level0_col2\" class=\"col_heading level0 col2\" >2017</th>\n",
       "      <th id=\"T_2d73b_level0_col3\" class=\"col_heading level0 col3\" >2018</th>\n",
       "      <th id=\"T_2d73b_level0_col4\" class=\"col_heading level0 col4\" >2019</th>\n",
       "    </tr>\n",
       "    <tr>\n",
       "      <th class=\"index_name level0\" >CountryLiveIn</th>\n",
       "      <th class=\"blank col0\" >&nbsp;</th>\n",
       "      <th class=\"blank col1\" >&nbsp;</th>\n",
       "      <th class=\"blank col2\" >&nbsp;</th>\n",
       "      <th class=\"blank col3\" >&nbsp;</th>\n",
       "      <th class=\"blank col4\" >&nbsp;</th>\n",
       "    </tr>\n",
       "  </thead>\n",
       "  <tbody>\n",
       "    <tr>\n",
       "      <th id=\"T_2d73b_level0_row0\" class=\"row_heading level0 row0\" >United States</th>\n",
       "      <td id=\"T_2d73b_row0_col0\" class=\"data row0 col0\" >751</td>\n",
       "      <td id=\"T_2d73b_row0_col1\" class=\"data row0 col1\" >840</td>\n",
       "      <td id=\"T_2d73b_row0_col2\" class=\"data row0 col2\" >497</td>\n",
       "      <td id=\"T_2d73b_row0_col3\" class=\"data row0 col3\" >312</td>\n",
       "      <td id=\"T_2d73b_row0_col4\" class=\"data row0 col4\" >204</td>\n",
       "    </tr>\n",
       "    <tr>\n",
       "      <th id=\"T_2d73b_level0_row1\" class=\"row_heading level0 row1\" >United Kingdom</th>\n",
       "      <td id=\"T_2d73b_row1_col0\" class=\"data row1 col0\" >185</td>\n",
       "      <td id=\"T_2d73b_row1_col1\" class=\"data row1 col1\" >180</td>\n",
       "      <td id=\"T_2d73b_row1_col2\" class=\"data row1 col2\" >66</td>\n",
       "      <td id=\"T_2d73b_row1_col3\" class=\"data row1 col3\" >19</td>\n",
       "      <td id=\"T_2d73b_row1_col4\" class=\"data row1 col4\" >32</td>\n",
       "    </tr>\n",
       "    <tr>\n",
       "      <th id=\"T_2d73b_level0_row2\" class=\"row_heading level0 row2\" >Canada</th>\n",
       "      <td id=\"T_2d73b_row2_col0\" class=\"data row2 col0\" >72</td>\n",
       "      <td id=\"T_2d73b_row2_col1\" class=\"data row2 col1\" >78</td>\n",
       "      <td id=\"T_2d73b_row2_col2\" class=\"data row2 col2\" >26</td>\n",
       "      <td id=\"T_2d73b_row2_col3\" class=\"data row2 col3\" >8</td>\n",
       "      <td id=\"T_2d73b_row2_col4\" class=\"data row2 col4\" >15</td>\n",
       "    </tr>\n",
       "    <tr>\n",
       "      <th id=\"T_2d73b_level0_row3\" class=\"row_heading level0 row3\" >Germany</th>\n",
       "      <td id=\"T_2d73b_row3_col0\" class=\"data row3 col0\" >45</td>\n",
       "      <td id=\"T_2d73b_row3_col1\" class=\"data row3 col1\" >58</td>\n",
       "      <td id=\"T_2d73b_row3_col2\" class=\"data row3 col2\" >22</td>\n",
       "      <td id=\"T_2d73b_row3_col3\" class=\"data row3 col3\" >7</td>\n",
       "      <td id=\"T_2d73b_row3_col4\" class=\"data row3 col4\" >4</td>\n",
       "    </tr>\n",
       "    <tr>\n",
       "      <th id=\"T_2d73b_level0_row4\" class=\"row_heading level0 row4\" >Netherlands</th>\n",
       "      <td id=\"T_2d73b_row4_col0\" class=\"data row4 col0\" >27</td>\n",
       "      <td id=\"T_2d73b_row4_col1\" class=\"data row4 col1\" >48</td>\n",
       "      <td id=\"T_2d73b_row4_col2\" class=\"data row4 col2\" >14</td>\n",
       "      <td id=\"T_2d73b_row4_col3\" class=\"data row4 col3\" >5</td>\n",
       "      <td id=\"T_2d73b_row4_col4\" class=\"data row4 col4\" >4</td>\n",
       "    </tr>\n",
       "    <tr>\n",
       "      <th id=\"T_2d73b_level0_row5\" class=\"row_heading level0 row5\" >Ireland</th>\n",
       "      <td id=\"T_2d73b_row5_col0\" class=\"data row5 col0\" >27</td>\n",
       "      <td id=\"T_2d73b_row5_col1\" class=\"data row5 col1\" >15</td>\n",
       "      <td id=\"T_2d73b_row5_col2\" class=\"data row5 col2\" >4</td>\n",
       "      <td id=\"T_2d73b_row5_col3\" class=\"data row5 col3\" >3</td>\n",
       "      <td id=\"T_2d73b_row5_col4\" class=\"data row5 col4\" >2</td>\n",
       "    </tr>\n",
       "    <tr>\n",
       "      <th id=\"T_2d73b_level0_row6\" class=\"row_heading level0 row6\" >Australia</th>\n",
       "      <td id=\"T_2d73b_row6_col0\" class=\"data row6 col0\" >22</td>\n",
       "      <td id=\"T_2d73b_row6_col1\" class=\"data row6 col1\" >35</td>\n",
       "      <td id=\"T_2d73b_row6_col2\" class=\"data row6 col2\" >12</td>\n",
       "      <td id=\"T_2d73b_row6_col3\" class=\"data row6 col3\" >4</td>\n",
       "      <td id=\"T_2d73b_row6_col4\" class=\"data row6 col4\" >0</td>\n",
       "    </tr>\n",
       "    <tr>\n",
       "      <th id=\"T_2d73b_level0_row7\" class=\"row_heading level0 row7\" >France</th>\n",
       "      <td id=\"T_2d73b_row7_col0\" class=\"data row7 col0\" >13</td>\n",
       "      <td id=\"T_2d73b_row7_col1\" class=\"data row7 col1\" >16</td>\n",
       "      <td id=\"T_2d73b_row7_col2\" class=\"data row7 col2\" >17</td>\n",
       "      <td id=\"T_2d73b_row7_col3\" class=\"data row7 col3\" >4</td>\n",
       "      <td id=\"T_2d73b_row7_col4\" class=\"data row7 col4\" >1</td>\n",
       "    </tr>\n",
       "    <tr>\n",
       "      <th id=\"T_2d73b_level0_row8\" class=\"row_heading level0 row8\" >India</th>\n",
       "      <td id=\"T_2d73b_row8_col0\" class=\"data row8 col0\" >10</td>\n",
       "      <td id=\"T_2d73b_row8_col1\" class=\"data row8 col1\" >9</td>\n",
       "      <td id=\"T_2d73b_row8_col2\" class=\"data row8 col2\" >13</td>\n",
       "      <td id=\"T_2d73b_row8_col3\" class=\"data row8 col3\" >5</td>\n",
       "      <td id=\"T_2d73b_row8_col4\" class=\"data row8 col4\" >13</td>\n",
       "    </tr>\n",
       "    <tr>\n",
       "      <th id=\"T_2d73b_level0_row9\" class=\"row_heading level0 row9\" >New Zealand</th>\n",
       "      <td id=\"T_2d73b_row9_col0\" class=\"data row9 col0\" >8</td>\n",
       "      <td id=\"T_2d73b_row9_col1\" class=\"data row9 col1\" >9</td>\n",
       "      <td id=\"T_2d73b_row9_col2\" class=\"data row9 col2\" >4</td>\n",
       "      <td id=\"T_2d73b_row9_col3\" class=\"data row9 col3\" >1</td>\n",
       "      <td id=\"T_2d73b_row9_col4\" class=\"data row9 col4\" >2</td>\n",
       "    </tr>\n",
       "    <tr>\n",
       "      <th id=\"T_2d73b_level0_row10\" class=\"row_heading level0 row10\" >Sweden</th>\n",
       "      <td id=\"T_2d73b_row10_col0\" class=\"data row10 col0\" >7</td>\n",
       "      <td id=\"T_2d73b_row10_col1\" class=\"data row10 col1\" >19</td>\n",
       "      <td id=\"T_2d73b_row10_col2\" class=\"data row10 col2\" >3</td>\n",
       "      <td id=\"T_2d73b_row10_col3\" class=\"data row10 col3\" >0</td>\n",
       "      <td id=\"T_2d73b_row10_col4\" class=\"data row10 col4\" >0</td>\n",
       "    </tr>\n",
       "    <tr>\n",
       "      <th id=\"T_2d73b_level0_row11\" class=\"row_heading level0 row11\" >Italy</th>\n",
       "      <td id=\"T_2d73b_row11_col0\" class=\"data row11 col0\" >7</td>\n",
       "      <td id=\"T_2d73b_row11_col1\" class=\"data row11 col1\" >5</td>\n",
       "      <td id=\"T_2d73b_row11_col2\" class=\"data row11 col2\" >1</td>\n",
       "      <td id=\"T_2d73b_row11_col3\" class=\"data row11 col3\" >4</td>\n",
       "      <td id=\"T_2d73b_row11_col4\" class=\"data row11 col4\" >2</td>\n",
       "    </tr>\n",
       "    <tr>\n",
       "      <th id=\"T_2d73b_level0_row12\" class=\"row_heading level0 row12\" >Poland</th>\n",
       "      <td id=\"T_2d73b_row12_col0\" class=\"data row12 col0\" >7</td>\n",
       "      <td id=\"T_2d73b_row12_col1\" class=\"data row12 col1\" >4</td>\n",
       "      <td id=\"T_2d73b_row12_col2\" class=\"data row12 col2\" >1</td>\n",
       "      <td id=\"T_2d73b_row12_col3\" class=\"data row12 col3\" >6</td>\n",
       "      <td id=\"T_2d73b_row12_col4\" class=\"data row12 col4\" >3</td>\n",
       "    </tr>\n",
       "    <tr>\n",
       "      <th id=\"T_2d73b_level0_row13\" class=\"row_heading level0 row13\" >Switzerland</th>\n",
       "      <td id=\"T_2d73b_row13_col0\" class=\"data row13 col0\" >7</td>\n",
       "      <td id=\"T_2d73b_row13_col1\" class=\"data row13 col1\" >10</td>\n",
       "      <td id=\"T_2d73b_row13_col2\" class=\"data row13 col2\" >6</td>\n",
       "      <td id=\"T_2d73b_row13_col3\" class=\"data row13 col3\" >1</td>\n",
       "      <td id=\"T_2d73b_row13_col4\" class=\"data row13 col4\" >4</td>\n",
       "    </tr>\n",
       "    <tr>\n",
       "      <th id=\"T_2d73b_level0_row14\" class=\"row_heading level0 row14\" >Brazil</th>\n",
       "      <td id=\"T_2d73b_row14_col0\" class=\"data row14 col0\" >6</td>\n",
       "      <td id=\"T_2d73b_row14_col1\" class=\"data row14 col1\" >10</td>\n",
       "      <td id=\"T_2d73b_row14_col2\" class=\"data row14 col2\" >2</td>\n",
       "      <td id=\"T_2d73b_row14_col3\" class=\"data row14 col3\" >2</td>\n",
       "      <td id=\"T_2d73b_row14_col4\" class=\"data row14 col4\" >17</td>\n",
       "    </tr>\n",
       "  </tbody>\n",
       "</table>\n"
      ],
      "text/plain": [
       "<pandas.io.formats.style.Styler at 0x7f7f5a099e50>"
      ]
     },
     "execution_count": 25,
     "metadata": {},
     "output_type": "execute_result"
    }
   ],
   "source": [
    "country = (survey_df.groupby(['SurveyID','CountryLiveIn'])\n",
    "                     .agg(NumPeople = ('UserID','nunique'))\n",
    "                     .reset_index())\n",
    "country_pt = pd.pivot_table(country, \n",
    "                    values = 'NumPeople', \n",
    "                    index = ['CountryLiveIn'],\n",
    "                    columns = ['SurveyID'], \n",
    "                    aggfunc = np.sum, \n",
    "                    fill_value = 0 )\n",
    "\n",
    "print('Top 15 countries respondents lives in:')\n",
    "(country_pt.sort_values(by = 2014, ascending = False)\n",
    "     .head(15).style.background_gradient(cmap = 'PuBu'))"
   ]
  },
  {
   "cell_type": "markdown",
   "id": "39d1ff62-eadc-4089-9c92-ac8fd63a11f0",
   "metadata": {},
   "source": [
    "The most participants were from United States and Unted Kingdom"
   ]
  },
  {
   "cell_type": "markdown",
   "id": "1f14871a-9215-4443-a2df-c82975080f9c",
   "metadata": {},
   "source": [
    "### Other survey values checks, preparation"
   ]
  },
  {
   "cell_type": "code",
   "execution_count": 26,
   "id": "d96578a6-579d-4f31-a36d-317d3ba690ec",
   "metadata": {},
   "outputs": [],
   "source": [
    "survey_df.groupby('IsTechCompany').UserID.count()\n",
    "survey_df['IsTechCompany'] = np.where(survey_df.IsTechCompany == 1, True, False)"
   ]
  },
  {
   "cell_type": "code",
   "execution_count": 27,
   "id": "bb162ecb-5adc-49d6-8c9b-1b531bff3d6a",
   "metadata": {},
   "outputs": [
    {
     "data": {
      "text/plain": [
       "HadMentalHealthDisorder\n",
       "-1              15\n",
       "Don't Know     109\n",
       "Maybe          246\n",
       "No             896\n",
       "Possibly       275\n",
       "Yes           1417\n",
       "Name: UserID, dtype: int64"
      ]
     },
     "execution_count": 27,
     "metadata": {},
     "output_type": "execute_result"
    }
   ],
   "source": [
    "survey_df.groupby('SelfEmployed').UserID.count() \n",
    "survey_df.groupby('FamilyHistoryMentalIllness').UserID.count() \n",
    "survey_df.groupby('TreatmentForMentalHealthDisorder').UserID.count() \n",
    "survey_df.groupby('HadMentalHealthDisorder').UserID.count() \n",
    "survey_df.groupby('HasMentalHealthDisorder').UserID.count() \n",
    "survey_df.groupby('HaveDiagnosedMHD').UserID.count() \n",
    "\n",
    "survey_df['HaveDiagnosedMHD'] = np.where(survey_df.HaveDiagnosedMHD == '-1', \n",
    "                                         'No', \n",
    "                                         survey_df.HaveDiagnosedMHD)\n",
    "\n",
    "survey_df.groupby('HaveDiagnosedMHD').UserID.count() \n",
    "survey_df.groupby('HadMentalHealthDisorder').UserID.count() "
   ]
  },
  {
   "cell_type": "code",
   "execution_count": 28,
   "id": "0e48ee81-d780-4bb5-8bdc-32f972e8991c",
   "metadata": {},
   "outputs": [
    {
     "name": "stdout",
     "output_type": "stream",
     "text": [
      "[None '-1' 'Mood Disorder (Depression, Bipolar Disorder, etc)'\n",
      " 'Stress Response Syndromes' 'Substance Use Disorder'\n",
      " 'Anxiety Disorder (Generalized, Social, Phobia, etc)'\n",
      " 'Obsessive-Compulsive Disorder'\n",
      " 'Personality Disorder (Borderline, Antisocial, Paranoid, etc)'\n",
      " 'Attention Deficit Hyperactivity Disorder'\n",
      " 'Post-traumatic Stress Disorder'\n",
      " 'Pervasive Developmental Disorder (Not Otherwise Specified)'\n",
      " 'Seasonal Affective Disorder' 'Burn out' 'PDD-NOS' 'Depression'\n",
      " \"Autism (Asperger's)\" 'Traumatic Brain Injury' 'Addictive Disorder'\n",
      " 'Asperges' 'PTSD (undiagnosed)'\n",
      " 'Psychotic Disorder (Schizophrenia, Schizoaffective, etc)'\n",
      " 'Sexual addiction'\n",
      " 'Combination of physical impairment (strongly near-sighted) with a possibly mental one (MCD / \"ADHD\", though its actually a stimulus filtering impairment)'\n",
      " \"I haven't been formally diagnosed, so I felt uncomfortable answering, but Social Anxiety and Depression.\"\n",
      " 'Autism Spectrum Disorder' 'Transgender' 'Dissociative Disorder'\n",
      " 'Eating Disorder (Anorexia, Bulimia, etc)'\n",
      " 'Schizotypal Personality Disorder']\n"
     ]
    }
   ],
   "source": [
    "print(survey_df.ConditionsDiagnosed.unique())\n",
    "survey_df['ConditionsMHD'] = np.where(survey_df.ConditionsDiagnosed == '-1', \n",
    "                                      None, \n",
    "                                      survey_df.ConditionsDiagnosed)"
   ]
  },
  {
   "cell_type": "markdown",
   "id": "30c7b85a-eb0d-4b8a-9ab6-6d7fe46ce3af",
   "metadata": {},
   "source": [
    "## Analysis"
   ]
  },
  {
   "cell_type": "markdown",
   "id": "496b0f62-ea8e-4ee0-854b-3e7f794a0824",
   "metadata": {},
   "source": [
    "### How often mental heath disorder (MHD) is met among the tech workplace?"
   ]
  },
  {
   "cell_type": "markdown",
   "id": "ca4e9a1b-9068-4066-b643-7e95b9e9c807",
   "metadata": {},
   "source": [
    "We want to check how often MHD is met among tech workplace. Based on these questions below we will calcualte the ratio of people facing MHD.\n",
    "\n",
    "Questions:\n",
    "- (32) Have you had a mental health disorder in the past?\n",
    "- (33) Do you currently have a mental health disorder?\n",
    "- (34) Have you ever been diagnosed with a mental health disorder?"
   ]
  },
  {
   "cell_type": "code",
   "execution_count": 29,
   "id": "6b9cf0f6-d0d7-442b-8073-14213d4c2d4d",
   "metadata": {},
   "outputs": [
    {
     "data": {
      "text/plain": [
       "Yes    1938\n",
       "No     1020\n",
       "Name: HadMHD, dtype: int64"
      ]
     },
     "execution_count": 29,
     "metadata": {},
     "output_type": "execute_result"
    }
   ],
   "source": [
    "mappings = {'Don\\'t Know': 'No',\n",
    "            'Maybe': 'Yes',\n",
    "            'No': 'No',\n",
    "            'Possibly': 'Yes',\n",
    "            'Yes': 'Yes',\n",
    "            '-1': 'No'\n",
    "           }\n",
    "survey_df['HasMHD'] = survey_df['HasMentalHealthDisorder'].replace(mappings)\n",
    "survey_df['HasMHD'].value_counts()\n",
    "\n",
    "survey_df['HadMHD'] = survey_df['HadMentalHealthDisorder'].replace(mappings)\n",
    "survey_df['HadMHD'].value_counts()"
   ]
  },
  {
   "cell_type": "code",
   "execution_count": 30,
   "id": "a2134a40-262a-4a47-835e-0c3d4141f31b",
   "metadata": {},
   "outputs": [
    {
     "data": {
      "text/html": [
       "<div>\n",
       "<style scoped>\n",
       "    .dataframe tbody tr th:only-of-type {\n",
       "        vertical-align: middle;\n",
       "    }\n",
       "\n",
       "    .dataframe tbody tr th {\n",
       "        vertical-align: top;\n",
       "    }\n",
       "\n",
       "    .dataframe thead th {\n",
       "        text-align: right;\n",
       "    }\n",
       "</style>\n",
       "<table border=\"1\" class=\"dataframe\">\n",
       "  <thead>\n",
       "    <tr style=\"text-align: right;\">\n",
       "      <th></th>\n",
       "      <th>HasMHD</th>\n",
       "      <th>HadMHD</th>\n",
       "      <th>HaveDiagnosedMHD</th>\n",
       "      <th>NumPeople</th>\n",
       "    </tr>\n",
       "  </thead>\n",
       "  <tbody>\n",
       "    <tr>\n",
       "      <th>0</th>\n",
       "      <td>No</td>\n",
       "      <td>No</td>\n",
       "      <td>No</td>\n",
       "      <td>787</td>\n",
       "    </tr>\n",
       "    <tr>\n",
       "      <th>1</th>\n",
       "      <td>No</td>\n",
       "      <td>No</td>\n",
       "      <td>Yes</td>\n",
       "      <td>2</td>\n",
       "    </tr>\n",
       "    <tr>\n",
       "      <th>2</th>\n",
       "      <td>No</td>\n",
       "      <td>Yes</td>\n",
       "      <td>No</td>\n",
       "      <td>225</td>\n",
       "    </tr>\n",
       "    <tr>\n",
       "      <th>3</th>\n",
       "      <td>No</td>\n",
       "      <td>Yes</td>\n",
       "      <td>Yes</td>\n",
       "      <td>79</td>\n",
       "    </tr>\n",
       "    <tr>\n",
       "      <th>4</th>\n",
       "      <td>Yes</td>\n",
       "      <td>No</td>\n",
       "      <td>No</td>\n",
       "      <td>163</td>\n",
       "    </tr>\n",
       "    <tr>\n",
       "      <th>5</th>\n",
       "      <td>Yes</td>\n",
       "      <td>No</td>\n",
       "      <td>Yes</td>\n",
       "      <td>68</td>\n",
       "    </tr>\n",
       "    <tr>\n",
       "      <th>6</th>\n",
       "      <td>Yes</td>\n",
       "      <td>Yes</td>\n",
       "      <td>No</td>\n",
       "      <td>420</td>\n",
       "    </tr>\n",
       "    <tr>\n",
       "      <th>7</th>\n",
       "      <td>Yes</td>\n",
       "      <td>Yes</td>\n",
       "      <td>Yes</td>\n",
       "      <td>1214</td>\n",
       "    </tr>\n",
       "  </tbody>\n",
       "</table>\n",
       "</div>"
      ],
      "text/plain": [
       "  HasMHD HadMHD HaveDiagnosedMHD  NumPeople\n",
       "0     No     No               No        787\n",
       "1     No     No              Yes          2\n",
       "2     No    Yes               No        225\n",
       "3     No    Yes              Yes         79\n",
       "4    Yes     No               No        163\n",
       "5    Yes     No              Yes         68\n",
       "6    Yes    Yes               No        420\n",
       "7    Yes    Yes              Yes       1214"
      ]
     },
     "execution_count": 30,
     "metadata": {},
     "output_type": "execute_result"
    }
   ],
   "source": [
    "(survey_df.groupby(['HasMHD',\n",
    "                'HadMHD',\n",
    "                'HaveDiagnosedMHD'])\n",
    "           .agg(NumPeople = ('UserID','count'))\n",
    "           .reset_index()\n",
    "            )"
   ]
  },
  {
   "cell_type": "code",
   "execution_count": 31,
   "id": "cdf9ebfa-738f-4c01-8b45-d63ab1eabb6c",
   "metadata": {},
   "outputs": [
    {
     "data": {
      "text/html": [
       "<div>\n",
       "<style scoped>\n",
       "    .dataframe tbody tr th:only-of-type {\n",
       "        vertical-align: middle;\n",
       "    }\n",
       "\n",
       "    .dataframe tbody tr th {\n",
       "        vertical-align: top;\n",
       "    }\n",
       "\n",
       "    .dataframe thead th {\n",
       "        text-align: right;\n",
       "    }\n",
       "</style>\n",
       "<table border=\"1\" class=\"dataframe\">\n",
       "  <thead>\n",
       "    <tr style=\"text-align: right;\">\n",
       "      <th></th>\n",
       "      <th>SurveyID</th>\n",
       "      <th>HaveDiagnosedMHD</th>\n",
       "      <th>NumPeople</th>\n",
       "      <th>Tot</th>\n",
       "      <th>Share</th>\n",
       "    </tr>\n",
       "  </thead>\n",
       "  <tbody>\n",
       "    <tr>\n",
       "      <th>0</th>\n",
       "      <td>2016</td>\n",
       "      <td>No</td>\n",
       "      <td>717</td>\n",
       "      <td>1433</td>\n",
       "      <td>50.0</td>\n",
       "    </tr>\n",
       "    <tr>\n",
       "      <th>1</th>\n",
       "      <td>2016</td>\n",
       "      <td>Yes</td>\n",
       "      <td>716</td>\n",
       "      <td>1433</td>\n",
       "      <td>50.0</td>\n",
       "    </tr>\n",
       "    <tr>\n",
       "      <th>2</th>\n",
       "      <td>2017</td>\n",
       "      <td>No</td>\n",
       "      <td>442</td>\n",
       "      <td>756</td>\n",
       "      <td>58.5</td>\n",
       "    </tr>\n",
       "    <tr>\n",
       "      <th>3</th>\n",
       "      <td>2017</td>\n",
       "      <td>Yes</td>\n",
       "      <td>314</td>\n",
       "      <td>756</td>\n",
       "      <td>41.5</td>\n",
       "    </tr>\n",
       "    <tr>\n",
       "      <th>4</th>\n",
       "      <td>2018</td>\n",
       "      <td>No</td>\n",
       "      <td>228</td>\n",
       "      <td>417</td>\n",
       "      <td>54.7</td>\n",
       "    </tr>\n",
       "    <tr>\n",
       "      <th>5</th>\n",
       "      <td>2018</td>\n",
       "      <td>Yes</td>\n",
       "      <td>189</td>\n",
       "      <td>417</td>\n",
       "      <td>45.3</td>\n",
       "    </tr>\n",
       "    <tr>\n",
       "      <th>6</th>\n",
       "      <td>2019</td>\n",
       "      <td>No</td>\n",
       "      <td>208</td>\n",
       "      <td>352</td>\n",
       "      <td>59.1</td>\n",
       "    </tr>\n",
       "    <tr>\n",
       "      <th>7</th>\n",
       "      <td>2019</td>\n",
       "      <td>Yes</td>\n",
       "      <td>144</td>\n",
       "      <td>352</td>\n",
       "      <td>40.9</td>\n",
       "    </tr>\n",
       "  </tbody>\n",
       "</table>\n",
       "</div>"
      ],
      "text/plain": [
       "   SurveyID HaveDiagnosedMHD  NumPeople   Tot  Share\n",
       "0      2016               No        717  1433   50.0\n",
       "1      2016              Yes        716  1433   50.0\n",
       "2      2017               No        442   756   58.5\n",
       "3      2017              Yes        314   756   41.5\n",
       "4      2018               No        228   417   54.7\n",
       "5      2018              Yes        189   417   45.3\n",
       "6      2019               No        208   352   59.1\n",
       "7      2019              Yes        144   352   40.9"
      ]
     },
     "execution_count": 31,
     "metadata": {},
     "output_type": "execute_result"
    }
   ],
   "source": [
    "mhd_ = (survey_df.groupby(['SurveyID','HaveDiagnosedMHD'])\n",
    "           .agg(NumPeople = ('UserID','count'))\n",
    "           .reset_index()\n",
    "            )\n",
    "mhd_tot = mhd_.groupby('SurveyID').agg(Tot = ('NumPeople','sum')).reset_index()\n",
    "mhd_ = pd.merge(mhd_, mhd_tot, how = 'left',on = 'SurveyID')\n",
    "mhd_['Share'] = round(mhd_.NumPeople/mhd_.Tot*100,1)\n",
    "mhd_"
   ]
  },
  {
   "cell_type": "code",
   "execution_count": 32,
   "id": "b065c9ab-79bb-4d4f-ac75-a83500e94745",
   "metadata": {},
   "outputs": [],
   "source": [
    "# Had MHD\n",
    "mhd_had = (survey_df.groupby(['SurveyID','HadMHD'])\n",
    "           .agg(NumPeople = ('UserID','count'))\n",
    "           .reset_index()\n",
    "            )\n",
    "mhd_had_tot = mhd_had.groupby('SurveyID').agg(Tot = ('NumPeople','sum')).reset_index()\n",
    "mhd_had = pd.merge(mhd_had, mhd_had_tot, how = 'left',on = 'SurveyID')\n",
    "mhd_had['Share'] = round(mhd_had.NumPeople/mhd_had.Tot*100,1)\n",
    "\n",
    "# Has MHD\n",
    "mhd_has = (survey_df.groupby(['SurveyID','HasMHD'])\n",
    "           .agg(NumPeople = ('UserID','count'))\n",
    "           .reset_index()\n",
    "            )\n",
    "mhd_has_tot = mhd_has.groupby('SurveyID').agg(Tot = ('NumPeople','sum')).reset_index()\n",
    "mhd_has = pd.merge(mhd_has, mhd_has_tot, how = 'left',on = 'SurveyID')\n",
    "mhd_has['Share'] = round(mhd_has.NumPeople/mhd_has.Tot*100,1)"
   ]
  },
  {
   "cell_type": "code",
   "execution_count": 33,
   "id": "13a79371-445d-477d-a67e-68ca98ba2743",
   "metadata": {},
   "outputs": [
    {
     "data": {
      "image/png": "[encoded data removed]",
      "text/plain": [
       "<Figure size 720x360 with 1 Axes>"
      ]
     },
     "metadata": {
      "needs_background": "light"
     },
     "output_type": "display_data"
    }
   ],
   "source": [
    "fig, ax = plt.subplots(figsize = (10,5))\n",
    "\n",
    "surv = mhd_.SurveyID.unique().tolist()\n",
    "mhd_no = mhd_[mhd_.HaveDiagnosedMHD == 'No'].reset_index()\n",
    "mhd_yes = mhd_[mhd_.HaveDiagnosedMHD == 'Yes'].reset_index()\n",
    "mhd_yes_had = mhd_had[mhd_had.HadMHD == 'Yes'].reset_index()\n",
    "mhd_yes_has = mhd_has[mhd_has.HasMHD == 'Yes'].reset_index()\n",
    "\n",
    "line1 = plt.plot(surv, mhd_yes.Share, \n",
    "                 linewidth = 2.0, \n",
    "                 color = '#8E44AD', \n",
    "                 label = 'Had diagnosed MHD')\n",
    "line2 = plt.plot(surv, mhd_yes_had.Share, \n",
    "                 linewidth = 2.0, \n",
    "                 color = '#1ABC9C', \n",
    "                 label = 'Had MHD')\n",
    "line3 = plt.plot(surv, mhd_yes_has.Share, \n",
    "                 linewidth = 2.0, \n",
    "                 color = '#F1C40F', \n",
    "                 label = 'Has MHD')\n",
    "\n",
    "plt.legend(loc = 'upper left')\n",
    "\n",
    "plt.xlabel('Survey')\n",
    "plt.ylabel('%')\n",
    "plt.title('MHD cases per surveys')\n",
    "plt.show()"
   ]
  },
  {
   "cell_type": "markdown",
   "id": "15140f67-03d0-4dd8-9e84-dfcbb2830815",
   "metadata": {},
   "source": [
    "- There is quite many respondents who have or had MHD (more than 60%). The percentage remains high over all surveys taken per years.\n",
    "- % of respondents saying that they have diagnozed MHD varies per survey. However it is quite high percentage rate of people having diagnozed MHD (40-45% from total respondents per survey)"
   ]
  },
  {
   "cell_type": "markdown",
   "id": "1a91c010-3d32-4182-b856-21cf07607bbc",
   "metadata": {},
   "source": [
    "### What conditions of MHD is most often met?"
   ]
  },
  {
   "cell_type": "markdown",
   "id": "e2154118-1d7a-41e0-8eb7-78c57b496ffb",
   "metadata": {},
   "source": [
    "*MHD conditions question was provided and collected the answers only on 2016 yers survey."
   ]
  },
  {
   "cell_type": "code",
   "execution_count": 34,
   "id": "8ff30167-b73c-4828-a2ae-2a11f6e1d148",
   "metadata": {},
   "outputs": [
    {
     "data": {
      "text/html": [
       "<div>\n",
       "<style scoped>\n",
       "    .dataframe tbody tr th:only-of-type {\n",
       "        vertical-align: middle;\n",
       "    }\n",
       "\n",
       "    .dataframe tbody tr th {\n",
       "        vertical-align: top;\n",
       "    }\n",
       "\n",
       "    .dataframe thead th {\n",
       "        text-align: right;\n",
       "    }\n",
       "</style>\n",
       "<table border=\"1\" class=\"dataframe\">\n",
       "  <thead>\n",
       "    <tr style=\"text-align: right;\">\n",
       "      <th></th>\n",
       "      <th>ConditionsMHD</th>\n",
       "      <th>NumPeople</th>\n",
       "      <th>Share</th>\n",
       "      <th>ConditionsMHD_percent</th>\n",
       "    </tr>\n",
       "  </thead>\n",
       "  <tbody>\n",
       "    <tr>\n",
       "      <th>0</th>\n",
       "      <td>Addictive Disorder</td>\n",
       "      <td>1</td>\n",
       "      <td>0.2</td>\n",
       "      <td>Addictive Disorder: 0.2%</td>\n",
       "    </tr>\n",
       "    <tr>\n",
       "      <th>1</th>\n",
       "      <td>Anxiety Disorder (Generalized, Social, Phobia,...</td>\n",
       "      <td>47</td>\n",
       "      <td>8.3</td>\n",
       "      <td>Anxiety Disorder (Generalized, Social, Phobia,...</td>\n",
       "    </tr>\n",
       "    <tr>\n",
       "      <th>2</th>\n",
       "      <td>Asperges</td>\n",
       "      <td>1</td>\n",
       "      <td>0.2</td>\n",
       "      <td>Asperges: 0.2%</td>\n",
       "    </tr>\n",
       "  </tbody>\n",
       "</table>\n",
       "</div>"
      ],
      "text/plain": [
       "                                       ConditionsMHD  NumPeople  Share  \\\n",
       "0                                 Addictive Disorder          1    0.2   \n",
       "1  Anxiety Disorder (Generalized, Social, Phobia,...         47    8.3   \n",
       "2                                           Asperges          1    0.2   \n",
       "\n",
       "                               ConditionsMHD_percent  \n",
       "0                           Addictive Disorder: 0.2%  \n",
       "1  Anxiety Disorder (Generalized, Social, Phobia,...  \n",
       "2                                     Asperges: 0.2%  "
      ]
     },
     "execution_count": 34,
     "metadata": {},
     "output_type": "execute_result"
    }
   ],
   "source": [
    "mhd_type = (survey_df[survey_df.SurveyID == 2016].groupby(['ConditionsMHD'])\n",
    "           .agg(NumPeople = ('UserID','count'))\n",
    "           .reset_index()\n",
    "            )\n",
    "mhd_type['Share'] = round(mhd_type.NumPeople/mhd_type.NumPeople.sum()*100,1)\n",
    "mhd_type\n",
    "\n",
    "mhd_type['ConditionsMHD_percent'] = mhd_type.apply(lambda x:\n",
    "                                        x.ConditionsMHD + ': ' + str(x.Share) + '%', axis = 1)\n",
    "\n",
    "mhd_type.head(3)"
   ]
  },
  {
   "cell_type": "code",
   "execution_count": 35,
   "id": "96fd9dc1-4979-4ea7-81f7-9a9efcee1e8c",
   "metadata": {},
   "outputs": [
    {
     "data": {
      "image/png": "[encoded data removed]",
      "text/plain": [
       "<Figure size 432x432 with 1 Axes>"
      ]
     },
     "metadata": {},
     "output_type": "display_data"
    }
   ],
   "source": [
    "fig, ax = plt.subplots(figsize=(6, 6), subplot_kw = dict(aspect = 'equal'))\n",
    "\n",
    "diagnosis = mhd_type.ConditionsMHD_percent.to_list()\n",
    "\n",
    "percent_diagnosis = mhd_type.Share.to_list()\n",
    "\n",
    "wedges, texts = ax.pie(percent_diagnosis, wedgeprops = dict(width = 0.5), startangle = -40)\n",
    "\n",
    "bbox_props = dict(boxstyle = 'square,pad=0.5', fc = 'w', ec = 'k', lw = 0.72)\n",
    "kw = dict(arrowprops = dict(arrowstyle='-'),\n",
    "          bbox = bbox_props, zorder = 0, va = 'center')\n",
    "\n",
    "for i, p in enumerate(wedges):\n",
    "    ang = (p.theta2 - p.theta1)/2. + p.theta1\n",
    "    y = np.sin(np.deg2rad(ang))\n",
    "    x = np.cos(np.deg2rad(ang))\n",
    "    horizontalalignment = {-1: 'right', 1: 'left'}[int(np.sign(x))]\n",
    "    connectionstyle = 'angle,angleA=0,angleB={}'.format(ang)\n",
    "    kw['arrowprops'].update({'connectionstyle': connectionstyle})\n",
    "    \n",
    "    if float(diagnosis[i].split(': ')[1][:-1]) >= 2:\n",
    "        ax.annotate(diagnosis[i], xy  =(x, y), xytext = (1.35*np.sign(x), 1.4*y),\n",
    "                horizontalalignment = horizontalalignment, **kw)\n",
    "\n",
    "ax.set_title('% of respondents per MHD diagnosis')\n",
    "\n",
    "plt.show()"
   ]
  },
  {
   "cell_type": "markdown",
   "id": "4e34ee85-f87e-4895-b062-fca505a381f6",
   "metadata": {},
   "source": [
    "- A bit more than half respondents mentioned that they have MHD diagnozis of Mood disorders (Depresion, Bipolar disorder, etc) 52.8%.\n",
    "- 8.3% said they have Anxiet Disorder (Generalized, Social, Phobia).\n",
    "- In third place most often mentioned MHD was Post-traymatic Stress Discorder (8.1%)\n",
    "- As well respondents say they struggle from Substance use, stress response syndrome, attention deficit, hyperactivity, obsessive-compulsives disorders."
   ]
  },
  {
   "cell_type": "markdown",
   "id": "fb9c6cfa-a785-4e62-8076-6b343e25cb56",
   "metadata": {},
   "source": [
    "### Is there any differences per gender of having MHD?"
   ]
  },
  {
   "cell_type": "code",
   "execution_count": 40,
   "id": "a75124bf-35e9-42fb-8297-31078c582410",
   "metadata": {},
   "outputs": [
    {
     "data": {
      "text/html": [
       "<div>\n",
       "<style scoped>\n",
       "    .dataframe tbody tr th:only-of-type {\n",
       "        vertical-align: middle;\n",
       "    }\n",
       "\n",
       "    .dataframe tbody tr th {\n",
       "        vertical-align: top;\n",
       "    }\n",
       "\n",
       "    .dataframe thead tr th {\n",
       "        text-align: left;\n",
       "    }\n",
       "\n",
       "    .dataframe thead tr:last-of-type th {\n",
       "        text-align: right;\n",
       "    }\n",
       "</style>\n",
       "<table border=\"1\" class=\"dataframe\">\n",
       "  <thead>\n",
       "    <tr>\n",
       "      <th>GenderAgg</th>\n",
       "      <th colspan=\"2\" halign=\"left\">female</th>\n",
       "      <th colspan=\"2\" halign=\"left\">male</th>\n",
       "      <th colspan=\"2\" halign=\"left\">other</th>\n",
       "    </tr>\n",
       "    <tr>\n",
       "      <th>HasMHD</th>\n",
       "      <th>No</th>\n",
       "      <th>Yes</th>\n",
       "      <th>No</th>\n",
       "      <th>Yes</th>\n",
       "      <th>No</th>\n",
       "      <th>Yes</th>\n",
       "    </tr>\n",
       "    <tr>\n",
       "      <th>SurveyID</th>\n",
       "      <th></th>\n",
       "      <th></th>\n",
       "      <th></th>\n",
       "      <th></th>\n",
       "      <th></th>\n",
       "      <th></th>\n",
       "    </tr>\n",
       "  </thead>\n",
       "  <tbody>\n",
       "    <tr>\n",
       "      <th>2016</th>\n",
       "      <td>29.4</td>\n",
       "      <td>70.6</td>\n",
       "      <td>40.6</td>\n",
       "      <td>59.4</td>\n",
       "      <td>2.9</td>\n",
       "      <td>97.1</td>\n",
       "    </tr>\n",
       "    <tr>\n",
       "      <th>2017</th>\n",
       "      <td>29.1</td>\n",
       "      <td>70.9</td>\n",
       "      <td>43.5</td>\n",
       "      <td>56.5</td>\n",
       "      <td>15.2</td>\n",
       "      <td>84.8</td>\n",
       "    </tr>\n",
       "    <tr>\n",
       "      <th>2018</th>\n",
       "      <td>23.6</td>\n",
       "      <td>76.4</td>\n",
       "      <td>40.1</td>\n",
       "      <td>59.9</td>\n",
       "      <td>30.4</td>\n",
       "      <td>69.6</td>\n",
       "    </tr>\n",
       "    <tr>\n",
       "      <th>2019</th>\n",
       "      <td>27.0</td>\n",
       "      <td>73.0</td>\n",
       "      <td>42.0</td>\n",
       "      <td>58.0</td>\n",
       "      <td>28.6</td>\n",
       "      <td>71.4</td>\n",
       "    </tr>\n",
       "  </tbody>\n",
       "</table>\n",
       "</div>"
      ],
      "text/plain": [
       "GenderAgg female        male       other      \n",
       "HasMHD        No   Yes    No   Yes    No   Yes\n",
       "SurveyID                                      \n",
       "2016        29.4  70.6  40.6  59.4   2.9  97.1\n",
       "2017        29.1  70.9  43.5  56.5  15.2  84.8\n",
       "2018        23.6  76.4  40.1  59.9  30.4  69.6\n",
       "2019        27.0  73.0  42.0  58.0  28.6  71.4"
      ]
     },
     "execution_count": 40,
     "metadata": {},
     "output_type": "execute_result"
    }
   ],
   "source": [
    "mhd_gender_has = (survey_df.groupby(['SurveyID','GenderAgg','HasMHD'])\n",
    "           .agg(NumPeople = ('UserID','count'))\n",
    "           .reset_index()\n",
    "            )\n",
    "\n",
    "mhd_gender_has_tot = (mhd_gender_has.groupby(['SurveyID','GenderAgg'])\n",
    "                              .agg(Tot = ('NumPeople','sum'))\n",
    "                              .reset_index()\n",
    "                     )\n",
    "mhd_gender_has = pd.merge(mhd_gender_has, mhd_gender_has_tot, \n",
    "                          how = 'left', \n",
    "                          on = ['SurveyID','GenderAgg'])\n",
    "mhd_gender_has['Share'] = round(mhd_gender_has.NumPeople/mhd_gender_has.Tot*100,1)\n",
    "mhd_gender_has\n",
    "\n",
    "mhd_gender_has_pt = pd.pivot_table(mhd_gender_has, \n",
    "                       values='Share', \n",
    "                       index = ['SurveyID'],\n",
    "                       columns = ['GenderAgg', 'HasMHD'],\n",
    "                       aggfunc = np.sum)\n",
    "mhd_gender_has_pt"
   ]
  },
  {
   "cell_type": "code",
   "execution_count": 37,
   "id": "7e16813a-4bb0-4f2b-90a9-0beba8d701a7",
   "metadata": {},
   "outputs": [
    {
     "data": {
      "image/png": "[encoded data removed]",
      "text/plain": [
       "<Figure size 720x360 with 1 Axes>"
      ]
     },
     "metadata": {
      "needs_background": "light"
     },
     "output_type": "display_data"
    }
   ],
   "source": [
    "fig, ax = plt.subplots(figsize = (10,5))\n",
    "\n",
    "mhd_gender_has_ = mhd_gender_has[mhd_gender_has.HasMHD == 'Yes'].reset_index()\n",
    "\n",
    "labels = list(mhd_gender_has_.SurveyID.unique())\n",
    "\n",
    "men_ = list(mhd_gender_has_[mhd_gender_has_.GenderAgg == 'male'].NumPeople)\n",
    "female_ = list(mhd_gender_has_[mhd_gender_has_.GenderAgg == 'female'].NumPeople)\n",
    "other_ = list(mhd_gender_has_[mhd_gender_has_.GenderAgg == 'other'].NumPeople)\n",
    "\n",
    "\n",
    "x = np.arange(len(labels))\n",
    "width = 0.2\n",
    "\n",
    "men_plt = ax.bar(x - 0.2, men_, width, label = 'Men', color = '#1E90FF')\n",
    "female_plt = ax.bar(x, female_, width, label = 'Female', color = '#DC143C')\n",
    "other_plt = ax.bar(x + 0.2, other_, width, label = 'Other', color = '#F4D03F')\n",
    "\n",
    "ax.set_ylabel('# of respondents')\n",
    "ax.set_title('# of respondents having MHD per their gender and survey')\n",
    "ax.set_xticks(x, labels)\n",
    "ax.legend()\n",
    "\n",
    "ax.bar_label(men_plt, padding = 1)\n",
    "ax.bar_label(female_plt, padding = 1)\n",
    "ax.bar_label(other_plt, padding = 1)\n",
    "\n",
    "plt.show()"
   ]
  },
  {
   "cell_type": "markdown",
   "id": "32fdca6f-9a50-48b1-8c1a-e27b7e5462f6",
   "metadata": {},
   "source": [
    "There are significantly more males who said they have MHD. The nominal number of males having MHD decreases over surveys, but remains highest compared to other genders: e.g. twice more than females and up to 10 times more than other genders."
   ]
  },
  {
   "cell_type": "code",
   "execution_count": 38,
   "id": "7e414586-00ea-4daf-aafd-3419509516d2",
   "metadata": {},
   "outputs": [
    {
     "data": {
      "image/png": "[encoded data removed]",
      "text/plain": [
       "<Figure size 720x360 with 1 Axes>"
      ]
     },
     "metadata": {
      "needs_background": "light"
     },
     "output_type": "display_data"
    }
   ],
   "source": [
    "fig, ax = plt.subplots(figsize = (10,5))\n",
    "\n",
    "mhd_gender_has_ = mhd_gender_has[mhd_gender_has.HasMHD == 'Yes'].reset_index()\n",
    "\n",
    "labels = list(mhd_gender_has_.SurveyID.unique())\n",
    "\n",
    "men_ = list(mhd_gender_has_[mhd_gender_has_.GenderAgg == 'male'].Share)\n",
    "female_ = list(mhd_gender_has_[mhd_gender_has_.GenderAgg == 'female'].Share)\n",
    "other_ = list(mhd_gender_has_[mhd_gender_has_.GenderAgg == 'other'].Share)\n",
    "\n",
    "\n",
    "x = np.arange(len(labels))\n",
    "width = 0.2\n",
    "\n",
    "men_plt = ax.bar(x - 0.2, men_, width, label = 'Men', color = '#1E90FF')\n",
    "female_plt = ax.bar(x, female_, width, label = 'Female', color = '#DC143C')\n",
    "other_plt = ax.bar(x + 0.2, other_, width, label = 'Other', color = '#F4D03F')\n",
    "\n",
    "ax.set_ylabel('% of respondents')\n",
    "ax.set_title('% of respondents having MHD per their gender and survey')\n",
    "ax.set_xticks(x, labels)\n",
    "ax.legend()\n",
    "\n",
    "ax.bar_label(men_plt, padding = 1)\n",
    "ax.bar_label(female_plt, padding = 1)\n",
    "ax.bar_label(other_plt, padding = 1)\n",
    "\n",
    "plt.show()"
   ]
  },
  {
   "cell_type": "markdown",
   "id": "c3cc6eb5-01ca-46fe-b9a0-29bbeea70388",
   "metadata": {},
   "source": [
    "However, the proportions having MHD differs significantly from nominal numbers:\n",
    "- In latest surveys more women and other gender people say they have MHD (more than 70%)\n",
    "- Then males proportion is up to 60% say they have MHD.\n",
    "- It looks like that more often MHD has womens and other gender people."
   ]
  },
  {
   "cell_type": "markdown",
   "id": "f65b9422-d8ef-447a-a014-8be4c4a94689",
   "metadata": {},
   "source": [
    "### Are there certain age groups where MHD are met more often?"
   ]
  },
  {
   "cell_type": "code",
   "execution_count": 41,
   "id": "4c5ed228-05b0-4bb9-98d3-ee481beacb96",
   "metadata": {},
   "outputs": [
    {
     "data": {
      "image/png": "[encoded data removed]",
      "text/plain": [
       "<Figure size 432x288 with 1 Axes>"
      ]
     },
     "metadata": {
      "needs_background": "light"
     },
     "output_type": "display_data"
    }
   ],
   "source": [
    "age_group = survey_df[(survey_df.SurveyID == 2019) &\n",
    "                     (survey_df.HasMHD == 'Yes')][['SurveyID', 'GenderAgg','Age']].reset_index()\n",
    "\n",
    "# fig, ax = plt.subplots(2)\n",
    "fig.suptitle('Vertically stacked subplots')\n",
    "bins = np.linspace(0, 100, 30)\n",
    "\n",
    "males_ = age_group[age_group.GenderAgg == 'male'].Age\n",
    "females_ = age_group[age_group.GenderAgg == 'female'].Age\n",
    "other_ = age_group[age_group.GenderAgg == 'other'].Age\n",
    "\n",
    "plt.title('Respondents, who have MHD, age distribution per gender')\n",
    "plt.hist([males_, females_, other_], bins, label = ['Males', 'Females', 'Other'])\n",
    "plt.legend(loc='upper right')\n",
    "plt.show()"
   ]
  },
  {
   "cell_type": "markdown",
   "id": "013dc227-02f4-4739-afa7-b8f33c171aa4",
   "metadata": {},
   "source": [
    "- Other gender age distribution is more flatten and within range of 20-50 years all.\n",
    "- While females and males age distributions are binomial distributions with 2 peaks on 30s and 40s years, skewed to the right."
   ]
  },
  {
   "cell_type": "code",
   "execution_count": 42,
   "id": "6942b23d-08e2-4bb0-8400-ed4f321dc693",
   "metadata": {},
   "outputs": [
    {
     "data": {
      "text/html": [
       "<div>\n",
       "<style scoped>\n",
       "    .dataframe tbody tr th:only-of-type {\n",
       "        vertical-align: middle;\n",
       "    }\n",
       "\n",
       "    .dataframe tbody tr th {\n",
       "        vertical-align: top;\n",
       "    }\n",
       "\n",
       "    .dataframe thead tr th {\n",
       "        text-align: left;\n",
       "    }\n",
       "</style>\n",
       "<table border=\"1\" class=\"dataframe\">\n",
       "  <thead>\n",
       "    <tr>\n",
       "      <th></th>\n",
       "      <th>AgeBins</th>\n",
       "      <th>female_num</th>\n",
       "      <th>male_num</th>\n",
       "      <th>other_num</th>\n",
       "      <th>female_p</th>\n",
       "      <th>male_p</th>\n",
       "      <th>other_p</th>\n",
       "    </tr>\n",
       "  </thead>\n",
       "  <tbody>\n",
       "    <tr>\n",
       "      <th>0</th>\n",
       "      <td>(10, 20]</td>\n",
       "      <td>3</td>\n",
       "      <td>0</td>\n",
       "      <td>0</td>\n",
       "      <td>4.1</td>\n",
       "      <td>0.0</td>\n",
       "      <td>0</td>\n",
       "    </tr>\n",
       "    <tr>\n",
       "      <th>1</th>\n",
       "      <td>(20, 30]</td>\n",
       "      <td>32</td>\n",
       "      <td>34</td>\n",
       "      <td>6</td>\n",
       "      <td>43.8</td>\n",
       "      <td>25.4</td>\n",
       "      <td>40</td>\n",
       "    </tr>\n",
       "    <tr>\n",
       "      <th>2</th>\n",
       "      <td>(30, 40]</td>\n",
       "      <td>22</td>\n",
       "      <td>61</td>\n",
       "      <td>6</td>\n",
       "      <td>30.1</td>\n",
       "      <td>45.5</td>\n",
       "      <td>40</td>\n",
       "    </tr>\n",
       "    <tr>\n",
       "      <th>3</th>\n",
       "      <td>(40, 50]</td>\n",
       "      <td>10</td>\n",
       "      <td>29</td>\n",
       "      <td>3</td>\n",
       "      <td>13.7</td>\n",
       "      <td>21.6</td>\n",
       "      <td>20</td>\n",
       "    </tr>\n",
       "    <tr>\n",
       "      <th>4</th>\n",
       "      <td>(50, 60]</td>\n",
       "      <td>6</td>\n",
       "      <td>9</td>\n",
       "      <td>0</td>\n",
       "      <td>8.2</td>\n",
       "      <td>6.7</td>\n",
       "      <td>0</td>\n",
       "    </tr>\n",
       "    <tr>\n",
       "      <th>5</th>\n",
       "      <td>(60, 70]</td>\n",
       "      <td>0</td>\n",
       "      <td>1</td>\n",
       "      <td>0</td>\n",
       "      <td>0.0</td>\n",
       "      <td>0.7</td>\n",
       "      <td>0</td>\n",
       "    </tr>\n",
       "  </tbody>\n",
       "</table>\n",
       "</div>"
      ],
      "text/plain": [
       "    AgeBins female_num male_num other_num female_p male_p other_p\n",
       "0  (10, 20]          3        0         0      4.1    0.0       0\n",
       "1  (20, 30]         32       34         6     43.8   25.4      40\n",
       "2  (30, 40]         22       61         6     30.1   45.5      40\n",
       "3  (40, 50]         10       29         3     13.7   21.6      20\n",
       "4  (50, 60]          6        9         0      8.2    6.7       0\n",
       "5  (60, 70]          0        1         0      0.0    0.7       0"
      ]
     },
     "execution_count": 42,
     "metadata": {},
     "output_type": "execute_result"
    }
   ],
   "source": [
    "age_bins = [0,10,20,30,40,50,60,70,80,90,100]\n",
    "survey_df['AgeBins'] = pd.cut(survey_df['Age'], age_bins).astype(str)\n",
    "\n",
    "age_group = (survey_df[(survey_df.SurveyID == 2019) &\n",
    "                     (survey_df.HasMHD == 'Yes')]\n",
    "                     .groupby(['GenderAgg','AgeBins'])\n",
    "                     .agg(NumPeople=('UserID','count'))\n",
    "                     .reset_index()\n",
    "            )\n",
    "age_group_tot = (age_group.groupby('GenderAgg')\n",
    "                     .agg(Tot = ('NumPeople','sum'))\n",
    "                     .reset_index()\n",
    "                )\n",
    "age_group = pd.merge(age_group,age_group_tot, how = 'left', on = 'GenderAgg')\n",
    "age_group['Share'] = round(age_group.NumPeople/age_group.Tot*100,1)\n",
    "age_group =pd.pivot_table(age_group, \n",
    "                          values = ['NumPeople','Share'], \n",
    "                          index = 'AgeBins',\n",
    "                          columns = ['GenderAgg'], \n",
    "                          aggfunc = np.sum, \n",
    "                          fill_value = 0)\n",
    "age_group = age_group.reset_index()\n",
    "age_group.columns = [['AgeBins', 'female_num', 'male_num', 'other_num', 'female_p', 'male_p', 'other_p']] \n",
    "age_group"
   ]
  },
  {
   "cell_type": "code",
   "execution_count": 43,
   "id": "827a96db-b8cb-462d-a004-30cd746ea635",
   "metadata": {},
   "outputs": [
    {
     "data": {
      "image/png": "[encoded data removed]",
      "text/plain": [
       "<Figure size 720x360 with 1 Axes>"
      ]
     },
     "metadata": {
      "needs_background": "light"
     },
     "output_type": "display_data"
    }
   ],
   "source": [
    "age_bins = list(itertools.chain(*age_group.AgeBins.values.tolist()))\n",
    "gender_p = {\n",
    "    'Male': list(itertools.chain(*age_group.male_p.values.tolist())),\n",
    "    'Female': list(itertools.chain(*age_group.female_p.values.tolist())),\n",
    "    'Other': list(itertools.chain(*age_group.other_p.values.tolist())),\n",
    "}\n",
    "\n",
    "x = np.arange(len(age_bins))  # the label locations\n",
    "width = 0.25  # the width of the bars\n",
    "multiplier = 0\n",
    "\n",
    "fig, ax = plt.subplots(layout = 'constrained',figsize = (10,5))\n",
    "\n",
    "for attribute, measurement in gender_p.items():\n",
    "    offset = width * multiplier\n",
    "    rects = ax.bar(x + offset, measurement, width, label = attribute)\n",
    "    ax.bar_label(rects, padding = 3)\n",
    "    multiplier += 1\n",
    "    \n",
    "ax.set_ylabel('% of respondents')\n",
    "ax.set_title('% of respondents having MHD per age groups and gender')\n",
    "ax.set_xticks(x + width, age_bins)\n",
    "ax.legend(loc = 'upper left')\n",
    "ax.set_ylim(0, 60)\n",
    "\n",
    "plt.show()"
   ]
  },
  {
   "cell_type": "markdown",
   "id": "d0029c28-2b94-4413-a545-e0d67e700817",
   "metadata": {},
   "source": [
    "- There are more mid age males (30-40 years old) and more younger womens (between 20-30 years old) having MHD.  45.5% males and 43.8% females.\n",
    "- There was a lot other gender people having MHD between 20-40 years old.\n",
    "- Hovewer, in all age groups there is certain percentage of people having MHD."
   ]
  },
  {
   "cell_type": "code",
   "execution_count": 44,
   "id": "dd177a12-cf0e-49d4-b12b-6f2760736f0e",
   "metadata": {},
   "outputs": [
    {
     "data": {
      "text/html": [
       "<style type=\"text/css\">\n",
       "#T_21e96_row0_col0, #T_21e96_row1_col2, #T_21e96_row4_col1 {\n",
       "  background-color: #023858;\n",
       "  color: #f1f1f1;\n",
       "}\n",
       "#T_21e96_row0_col1, #T_21e96_row0_col2, #T_21e96_row4_col2, #T_21e96_row5_col0, #T_21e96_row5_col2 {\n",
       "  background-color: #fff7fb;\n",
       "  color: #000000;\n",
       "}\n",
       "#T_21e96_row1_col0 {\n",
       "  background-color: #0d75b3;\n",
       "  color: #f1f1f1;\n",
       "}\n",
       "#T_21e96_row1_col1 {\n",
       "  background-color: #197db7;\n",
       "  color: #f1f1f1;\n",
       "}\n",
       "#T_21e96_row2_col0 {\n",
       "  background-color: #1c7fb8;\n",
       "  color: #f1f1f1;\n",
       "}\n",
       "#T_21e96_row2_col1 {\n",
       "  background-color: #046299;\n",
       "  color: #f1f1f1;\n",
       "}\n",
       "#T_21e96_row2_col2 {\n",
       "  background-color: #04598c;\n",
       "  color: #f1f1f1;\n",
       "}\n",
       "#T_21e96_row3_col0 {\n",
       "  background-color: #046198;\n",
       "  color: #f1f1f1;\n",
       "}\n",
       "#T_21e96_row3_col1 {\n",
       "  background-color: #056ead;\n",
       "  color: #f1f1f1;\n",
       "}\n",
       "#T_21e96_row3_col2 {\n",
       "  background-color: #4a98c5;\n",
       "  color: #f1f1f1;\n",
       "}\n",
       "#T_21e96_row4_col0, #T_21e96_row5_col1 {\n",
       "  background-color: #2685bb;\n",
       "  color: #f1f1f1;\n",
       "}\n",
       "</style>\n",
       "<table id=\"T_21e96\">\n",
       "  <thead>\n",
       "    <tr>\n",
       "      <th class=\"index_name level0\" >GenderAgg</th>\n",
       "      <th id=\"T_21e96_level0_col0\" class=\"col_heading level0 col0\" >female</th>\n",
       "      <th id=\"T_21e96_level0_col1\" class=\"col_heading level0 col1\" >male</th>\n",
       "      <th id=\"T_21e96_level0_col2\" class=\"col_heading level0 col2\" >other</th>\n",
       "    </tr>\n",
       "    <tr>\n",
       "      <th class=\"index_name level0\" >AgeBins</th>\n",
       "      <th class=\"blank col0\" >&nbsp;</th>\n",
       "      <th class=\"blank col1\" >&nbsp;</th>\n",
       "      <th class=\"blank col2\" >&nbsp;</th>\n",
       "    </tr>\n",
       "  </thead>\n",
       "  <tbody>\n",
       "    <tr>\n",
       "      <th id=\"T_21e96_level0_row0\" class=\"row_heading level0 row0\" >(10, 20]</th>\n",
       "      <td id=\"T_21e96_row0_col0\" class=\"data row0 col0\" >100.000000</td>\n",
       "      <td id=\"T_21e96_row0_col1\" class=\"data row0 col1\" >0.000000</td>\n",
       "      <td id=\"T_21e96_row0_col2\" class=\"data row0 col2\" >0.000000</td>\n",
       "    </tr>\n",
       "    <tr>\n",
       "      <th id=\"T_21e96_level0_row1\" class=\"row_heading level0 row1\" >(20, 30]</th>\n",
       "      <td id=\"T_21e96_row1_col0\" class=\"data row1 col0\" >72.700000</td>\n",
       "      <td id=\"T_21e96_row1_col1\" class=\"data row1 col1\" >52.300000</td>\n",
       "      <td id=\"T_21e96_row1_col2\" class=\"data row1 col2\" >85.700000</td>\n",
       "    </tr>\n",
       "    <tr>\n",
       "      <th id=\"T_21e96_level0_row2\" class=\"row_heading level0 row2\" >(30, 40]</th>\n",
       "      <td id=\"T_21e96_row2_col0\" class=\"data row2 col0\" >68.800000</td>\n",
       "      <td id=\"T_21e96_row2_col1\" class=\"data row2 col1\" >62.200000</td>\n",
       "      <td id=\"T_21e96_row2_col2\" class=\"data row2 col2\" >75.000000</td>\n",
       "    </tr>\n",
       "    <tr>\n",
       "      <th id=\"T_21e96_level0_row3\" class=\"row_heading level0 row3\" >(40, 50]</th>\n",
       "      <td id=\"T_21e96_row3_col0\" class=\"data row3 col0\" >83.300000</td>\n",
       "      <td id=\"T_21e96_row3_col1\" class=\"data row3 col1\" >56.900000</td>\n",
       "      <td id=\"T_21e96_row3_col2\" class=\"data row3 col2\" >50.000000</td>\n",
       "    </tr>\n",
       "    <tr>\n",
       "      <th id=\"T_21e96_level0_row4\" class=\"row_heading level0 row4\" >(50, 60]</th>\n",
       "      <td id=\"T_21e96_row4_col0\" class=\"data row4 col0\" >66.700000</td>\n",
       "      <td id=\"T_21e96_row4_col1\" class=\"data row4 col1\" >75.000000</td>\n",
       "      <td id=\"T_21e96_row4_col2\" class=\"data row4 col2\" >0.000000</td>\n",
       "    </tr>\n",
       "    <tr>\n",
       "      <th id=\"T_21e96_level0_row5\" class=\"row_heading level0 row5\" >(60, 70]</th>\n",
       "      <td id=\"T_21e96_row5_col0\" class=\"data row5 col0\" >0.000000</td>\n",
       "      <td id=\"T_21e96_row5_col1\" class=\"data row5 col1\" >50.000000</td>\n",
       "      <td id=\"T_21e96_row5_col2\" class=\"data row5 col2\" >0.000000</td>\n",
       "    </tr>\n",
       "  </tbody>\n",
       "</table>\n"
      ],
      "text/plain": [
       "<pandas.io.formats.style.Styler at 0x7fc53e14fdf0>"
      ]
     },
     "execution_count": 44,
     "metadata": {},
     "output_type": "execute_result"
    }
   ],
   "source": [
    "age_group = (survey_df[(survey_df.SurveyID == 2019)]\n",
    "                     .groupby(['HasMHD','GenderAgg','AgeBins'])\n",
    "                     .agg(NumPeople = ('UserID','count'))\n",
    "                     .reset_index()\n",
    "            )\n",
    "age_group_tot = (age_group.groupby(['GenderAgg','AgeBins'])\n",
    "                     .agg(Tot = ('NumPeople','sum'))\n",
    "                     .reset_index()\n",
    "                )\n",
    "age_group = pd.merge(age_group,age_group_tot, how = 'left', on = ['GenderAgg','AgeBins'])\n",
    "age_group['Share'] = round(age_group.NumPeople/age_group.Tot*100,1)\n",
    "\n",
    "\n",
    "age_group_pt = pd.pivot_table(age_group[age_group.HasMHD == 'Yes'], \n",
    "                              values = 'Share', \n",
    "                              index = ['AgeBins'],\n",
    "                              columns = ['GenderAgg'], \n",
    "                              aggfunc = np.sum, \n",
    "                              fill_value = 0 )\n",
    "\n",
    "(age_group_pt.style.background_gradient(cmap = 'PuBu'))"
   ]
  },
  {
   "cell_type": "markdown",
   "id": "eedc4e90-c7e1-4600-a2cb-626b15ada4ac",
   "metadata": {},
   "source": [
    "- Between 20-40 years all more other gender people has MHD.\n",
    "- The highest proportion of females between 40-50 years have MHD, while males betwen 50-60 years."
   ]
  },
  {
   "cell_type": "markdown",
   "id": "cc41280f-d066-4c0f-8d7a-171df44e118c",
   "metadata": {},
   "source": [
    "### H0: The more employees organization has the more MHD cases could be meet"
   ]
  },
  {
   "cell_type": "markdown",
   "id": "6e0fa432-41de-42c7-85c0-d2fb2e497bcc",
   "metadata": {},
   "source": [
    "We want to test assumption wheter bigger organizations have the higher change to have more people suffering from MHD: due to higher stress, competition among the employees."
   ]
  },
  {
   "cell_type": "code",
   "execution_count": 538,
   "id": "d0fd2934-5b99-4639-93ac-499f4f2a07eb",
   "metadata": {},
   "outputs": [],
   "source": [
    "mappings = {'-1': 0,\n",
    "            '1-5': 1,\n",
    "            '6-25': 2,\n",
    "            '26-100': 3,\n",
    "            '100-500': 4,\n",
    "            '500-1000': 5,\n",
    "            'More than 1000': 6\n",
    "           }\n",
    "\n",
    "HasMHD_mapping = {'Yes': 1,\n",
    "                  'No': 0\n",
    "        }\n",
    "survey_df['EmployeesNum'] = survey_df['EmployeesNumber'].replace(mappings)\n",
    "survey_df['HasMHD_'] = survey_df['HasMHD'].replace(HasMHD_mapping)"
   ]
  },
  {
   "cell_type": "code",
   "execution_count": 539,
   "id": "316f5d29-93f5-46d0-aff3-1ce9fed1b8aa",
   "metadata": {},
   "outputs": [
    {
     "data": {
      "text/plain": [
       "array([[1.        , 0.01604365],\n",
       "       [0.01604365, 1.        ]])"
      ]
     },
     "execution_count": 539,
     "metadata": {},
     "output_type": "execute_result"
    }
   ],
   "source": [
    "np.corrcoef(survey_df[survey_df.SurveyID == 2019].HasMHD_, survey_df[survey_df.SurveyID == 2019].EmployeesNum)"
   ]
  },
  {
   "cell_type": "code",
   "execution_count": 540,
   "id": "e06a0740-33d1-4cae-b14a-0ee19b6f09d7",
   "metadata": {},
   "outputs": [
    {
     "data": {
      "image/png": "[encoded data removed]",
      "text/plain": [
       "<Figure size 720x360 with 1 Axes>"
      ]
     },
     "metadata": {
      "needs_background": "light"
     },
     "output_type": "display_data"
    }
   ],
   "source": [
    "org_size = (survey_df[(survey_df.SurveyID == 2019)]\n",
    "                .groupby(['EmployeesNumber','EmployeesNum'])\n",
    "                .agg(NumPoeple = ('UserID', 'count'))\n",
    "                .reset_index()\n",
    "           ).sort_values(by = 'EmployeesNum')\n",
    "\n",
    "fig, ax = plt.subplots(figsize = (10,5))\n",
    "\n",
    "respondents = plt.bar(org_size.EmployeesNumber, org_size.NumPoeple, \n",
    "                       color = 'blue', edgecolor = 'white')\n",
    "\n",
    "plt.xlabel('# of Employees')\n",
    "plt.ylabel('# of respondents')\n",
    "plt.title('# respondents per company size')\n",
    "\n",
    "def autolabel(graph):\n",
    "    for i in graph:\n",
    "        height = i.get_height()\n",
    "        ax.annotate('{:0,.0f}'.format(height),\n",
    "                    xy = (i.get_x() + i.get_width() / 2, height),\n",
    "                    xytext = (0, 3),\n",
    "                    textcoords = 'offset points',\n",
    "                    ha = 'center', va = 'bottom')\n",
    "\n",
    "autolabel(respondents)\n",
    "\n",
    "plt.show()"
   ]
  },
  {
   "cell_type": "markdown",
   "id": "b54b524a-d62f-4c38-9b9d-0720f288ce3a",
   "metadata": {},
   "source": [
    "The bigger company is, the more respondents participated in the survey. But 500-1000 employees size company respondents were one of the smallest numbers among the survey."
   ]
  },
  {
   "cell_type": "code",
   "execution_count": 541,
   "id": "ca92257a-196d-44f8-b637-bcb2dde6d823",
   "metadata": {},
   "outputs": [
    {
     "data": {
      "text/html": [
       "<style type=\"text/css\">\n",
       "#T_dc3bc_row0_col0, #T_dc3bc_row4_col1, #T_dc3bc_row6_col2, #T_dc3bc_row6_col3 {\n",
       "  background-color: #023858;\n",
       "  color: #f1f1f1;\n",
       "}\n",
       "#T_dc3bc_row0_col1 {\n",
       "  background-color: #84b0d3;\n",
       "  color: #f1f1f1;\n",
       "}\n",
       "#T_dc3bc_row0_col2 {\n",
       "  background-color: #a9bfdc;\n",
       "  color: #000000;\n",
       "}\n",
       "#T_dc3bc_row0_col3 {\n",
       "  background-color: #acc0dd;\n",
       "  color: #000000;\n",
       "}\n",
       "#T_dc3bc_row1_col0, #T_dc3bc_row1_col1, #T_dc3bc_row1_col2, #T_dc3bc_row1_col3 {\n",
       "  background-color: #fff7fb;\n",
       "  color: #000000;\n",
       "}\n",
       "#T_dc3bc_row2_col0 {\n",
       "  background-color: #569dc8;\n",
       "  color: #f1f1f1;\n",
       "}\n",
       "#T_dc3bc_row2_col1 {\n",
       "  background-color: #b3c3de;\n",
       "  color: #000000;\n",
       "}\n",
       "#T_dc3bc_row2_col2, #T_dc3bc_row3_col2 {\n",
       "  background-color: #8cb3d5;\n",
       "  color: #000000;\n",
       "}\n",
       "#T_dc3bc_row2_col3 {\n",
       "  background-color: #bdc8e1;\n",
       "  color: #000000;\n",
       "}\n",
       "#T_dc3bc_row3_col0 {\n",
       "  background-color: #045280;\n",
       "  color: #f1f1f1;\n",
       "}\n",
       "#T_dc3bc_row3_col1 {\n",
       "  background-color: #93b5d6;\n",
       "  color: #000000;\n",
       "}\n",
       "#T_dc3bc_row3_col3 {\n",
       "  background-color: #a2bcda;\n",
       "  color: #000000;\n",
       "}\n",
       "#T_dc3bc_row4_col0 {\n",
       "  background-color: #0569a4;\n",
       "  color: #f1f1f1;\n",
       "}\n",
       "#T_dc3bc_row4_col2 {\n",
       "  background-color: #358fc0;\n",
       "  color: #f1f1f1;\n",
       "}\n",
       "#T_dc3bc_row4_col3 {\n",
       "  background-color: #056fae;\n",
       "  color: #f1f1f1;\n",
       "}\n",
       "#T_dc3bc_row5_col0 {\n",
       "  background-color: #f5eef6;\n",
       "  color: #000000;\n",
       "}\n",
       "#T_dc3bc_row5_col1 {\n",
       "  background-color: #e7e3f0;\n",
       "  color: #000000;\n",
       "}\n",
       "#T_dc3bc_row5_col2 {\n",
       "  background-color: #bcc7e1;\n",
       "  color: #000000;\n",
       "}\n",
       "#T_dc3bc_row5_col3 {\n",
       "  background-color: #dfddec;\n",
       "  color: #000000;\n",
       "}\n",
       "#T_dc3bc_row6_col0 {\n",
       "  background-color: #056caa;\n",
       "  color: #f1f1f1;\n",
       "}\n",
       "#T_dc3bc_row6_col1 {\n",
       "  background-color: #0771b1;\n",
       "  color: #f1f1f1;\n",
       "}\n",
       "</style>\n",
       "<table id=\"T_dc3bc\">\n",
       "  <thead>\n",
       "    <tr>\n",
       "      <th class=\"blank\" >&nbsp;</th>\n",
       "      <th class=\"index_name level0\" >HasMHD</th>\n",
       "      <th id=\"T_dc3bc_level0_col0\" class=\"col_heading level0 col0\" colspan=\"4\">Yes</th>\n",
       "    </tr>\n",
       "    <tr>\n",
       "      <th class=\"blank\" >&nbsp;</th>\n",
       "      <th class=\"index_name level1\" >SurveyID</th>\n",
       "      <th id=\"T_dc3bc_level1_col0\" class=\"col_heading level1 col0\" >2016</th>\n",
       "      <th id=\"T_dc3bc_level1_col1\" class=\"col_heading level1 col1\" >2017</th>\n",
       "      <th id=\"T_dc3bc_level1_col2\" class=\"col_heading level1 col2\" >2018</th>\n",
       "      <th id=\"T_dc3bc_level1_col3\" class=\"col_heading level1 col3\" >2019</th>\n",
       "    </tr>\n",
       "    <tr>\n",
       "      <th class=\"index_name level0\" >EmployeesNum</th>\n",
       "      <th class=\"index_name level1\" >EmployeesNumber</th>\n",
       "      <th class=\"blank col0\" >&nbsp;</th>\n",
       "      <th class=\"blank col1\" >&nbsp;</th>\n",
       "      <th class=\"blank col2\" >&nbsp;</th>\n",
       "      <th class=\"blank col3\" >&nbsp;</th>\n",
       "    </tr>\n",
       "  </thead>\n",
       "  <tbody>\n",
       "    <tr>\n",
       "      <th id=\"T_dc3bc_level0_row0\" class=\"row_heading level0 row0\" >0</th>\n",
       "      <th id=\"T_dc3bc_level1_row0\" class=\"row_heading level1 row0\" >-1</th>\n",
       "      <td id=\"T_dc3bc_row0_col0\" class=\"data row0 col0\" >13.700000</td>\n",
       "      <td id=\"T_dc3bc_row0_col1\" class=\"data row0 col1\" >9.100000</td>\n",
       "      <td id=\"T_dc3bc_row0_col2\" class=\"data row0 col2\" >7.700000</td>\n",
       "      <td id=\"T_dc3bc_row0_col3\" class=\"data row0 col3\" >7.700000</td>\n",
       "    </tr>\n",
       "    <tr>\n",
       "      <th id=\"T_dc3bc_level0_row1\" class=\"row_heading level0 row1\" >1</th>\n",
       "      <th id=\"T_dc3bc_level1_row1\" class=\"row_heading level1 row1\" >1-5</th>\n",
       "      <td id=\"T_dc3bc_row1_col0\" class=\"data row1 col0\" >2.300000</td>\n",
       "      <td id=\"T_dc3bc_row1_col1\" class=\"data row1 col1\" >1.500000</td>\n",
       "      <td id=\"T_dc3bc_row1_col2\" class=\"data row1 col2\" >1.000000</td>\n",
       "      <td id=\"T_dc3bc_row1_col3\" class=\"data row1 col3\" >1.100000</td>\n",
       "    </tr>\n",
       "    <tr>\n",
       "      <th id=\"T_dc3bc_level0_row2\" class=\"row_heading level0 row2\" >2</th>\n",
       "      <th id=\"T_dc3bc_level1_row2\" class=\"row_heading level1 row2\" >6-25</th>\n",
       "      <td id=\"T_dc3bc_row2_col0\" class=\"data row2 col0\" >8.700000</td>\n",
       "      <td id=\"T_dc3bc_row2_col1\" class=\"data row2 col1\" >7.100000</td>\n",
       "      <td id=\"T_dc3bc_row2_col2\" class=\"data row2 col2\" >9.100000</td>\n",
       "      <td id=\"T_dc3bc_row2_col3\" class=\"data row2 col3\" >6.800000</td>\n",
       "    </tr>\n",
       "    <tr>\n",
       "      <th id=\"T_dc3bc_level0_row3\" class=\"row_heading level0 row3\" >3</th>\n",
       "      <th id=\"T_dc3bc_level1_row3\" class=\"row_heading level1 row3\" >26-100</th>\n",
       "      <td id=\"T_dc3bc_row3_col0\" class=\"data row3 col0\" >12.600000</td>\n",
       "      <td id=\"T_dc3bc_row3_col1\" class=\"data row3 col1\" >8.500000</td>\n",
       "      <td id=\"T_dc3bc_row3_col2\" class=\"data row3 col2\" >9.100000</td>\n",
       "      <td id=\"T_dc3bc_row3_col3\" class=\"data row3 col3\" >8.200000</td>\n",
       "    </tr>\n",
       "    <tr>\n",
       "      <th id=\"T_dc3bc_level0_row4\" class=\"row_heading level0 row4\" >4</th>\n",
       "      <th id=\"T_dc3bc_level1_row4\" class=\"row_heading level1 row4\" >100-500</th>\n",
       "      <td id=\"T_dc3bc_row4_col0\" class=\"data row4 col0\" >11.300000</td>\n",
       "      <td id=\"T_dc3bc_row4_col1\" class=\"data row4 col1\" >18.000000</td>\n",
       "      <td id=\"T_dc3bc_row4_col2\" class=\"data row4 col2\" >12.500000</td>\n",
       "      <td id=\"T_dc3bc_row4_col3\" class=\"data row4 col3\" >15.100000</td>\n",
       "    </tr>\n",
       "    <tr>\n",
       "      <th id=\"T_dc3bc_level0_row5\" class=\"row_heading level0 row5\" >5</th>\n",
       "      <th id=\"T_dc3bc_level1_row5\" class=\"row_heading level1 row5\" >500-1000</th>\n",
       "      <td id=\"T_dc3bc_row5_col0\" class=\"data row5 col0\" >3.100000</td>\n",
       "      <td id=\"T_dc3bc_row5_col1\" class=\"data row5 col1\" >4.000000</td>\n",
       "      <td id=\"T_dc3bc_row5_col2\" class=\"data row5 col2\" >6.700000</td>\n",
       "      <td id=\"T_dc3bc_row5_col3\" class=\"data row5 col3\" >4.500000</td>\n",
       "    </tr>\n",
       "    <tr>\n",
       "      <th id=\"T_dc3bc_level0_row6\" class=\"row_heading level0 row6\" >6</th>\n",
       "      <th id=\"T_dc3bc_level1_row6\" class=\"row_heading level1 row6\" >More than 1000</th>\n",
       "      <td id=\"T_dc3bc_row6_col0\" class=\"data row6 col0\" >11.100000</td>\n",
       "      <td id=\"T_dc3bc_row6_col1\" class=\"data row6 col1\" >13.800000</td>\n",
       "      <td id=\"T_dc3bc_row6_col2\" class=\"data row6 col2\" >19.400000</td>\n",
       "      <td id=\"T_dc3bc_row6_col3\" class=\"data row6 col3\" >19.600000</td>\n",
       "    </tr>\n",
       "  </tbody>\n",
       "</table>\n"
      ],
      "text/plain": [
       "<pandas.io.formats.style.Styler at 0x7fa464253490>"
      ]
     },
     "execution_count": 541,
     "metadata": {},
     "output_type": "execute_result"
    }
   ],
   "source": [
    "company_size = (survey_df.groupby(['SurveyID','HasMHD','EmployeesNum','EmployeesNumber'])\n",
    "                     .agg(NumPeople = ('UserID','nunique'))\n",
    "                     .reset_index())\n",
    "\n",
    "company_size_tot = (company_size.groupby('SurveyID')\n",
    "                        .agg(Tot = ('NumPeople','sum'))\n",
    "                        .reset_index()\n",
    "                    )\n",
    "\n",
    "company_size = pd.merge(company_size,company_size_tot,how = 'left',on = 'SurveyID')\n",
    "company_size['Share'] = round(company_size.NumPeople/company_size.Tot*100,1)\n",
    "company_size_pt = pd.pivot_table(company_size[company_size.HasMHD == 'Yes'], \n",
    "                     values = 'Share', \n",
    "                     index = ['EmployeesNum','EmployeesNumber'],\n",
    "                     columns = ['HasMHD','SurveyID'], \n",
    "                     aggfunc = np.sum, fill_value = 0 )\n",
    "(company_size_pt.style.background_gradient(cmap = 'PuBu'))"
   ]
  },
  {
   "cell_type": "markdown",
   "id": "875d3695-9893-4ce4-8d84-3ae580f50d17",
   "metadata": {},
   "source": [
    "It is hard to find pattern that the bigger organization is, the more MHD people are there.\n",
    "The percentage of MHD having people from total survey participants looks like increasing by the increasing number of employees per organization on all taken surveys. \n",
    "\n",
    "However, organizations having 500-1000 employees has realy low proportion of people having MHD.\n",
    "But based on the survey respondents distribution per company size, we can see that there was small share of people from 500-1000 employees having companies. Thus, this could effect results and their interpretation, due to lacking representatives in this group."
   ]
  },
  {
   "cell_type": "markdown",
   "id": "95812255-7fea-4b2b-8a04-5d499477f996",
   "metadata": {},
   "source": [
    "### H0: People with MHD working at companies, which have benefits for mental health support, experience less work interfence and are more productive"
   ]
  },
  {
   "cell_type": "markdown",
   "id": "13643eb6-a5ae-4527-a533-ae71a47509b3",
   "metadata": {},
   "source": [
    "If companie providers any benefits for the mental health was under this questions:\n",
    "\n",
    "`10 Does your employer provide mental health benefits as part of healthcare coverage?`\n",
    "\n",
    "Productivity answers:\n",
    "\n",
    "`54 Do you believe your productivity is ever affected by a mental health issue?`"
   ]
  },
  {
   "cell_type": "code",
   "execution_count": 46,
   "id": "9be929e3-082f-4d38-ac15-531ab05c220a",
   "metadata": {},
   "outputs": [],
   "source": [
    "mappings = {\"Yes\": \"Yes\",\n",
    "            \"Don't know\": \"No\",\n",
    "            \"No\": \"No\",\n",
    "            \"Not eligible for coverage / NA\": \"No\",\n",
    "            \"-1\": \"No\",\n",
    "            \"I don't know\": \"No\"\n",
    "    }\n",
    "survey_df['HasBenefit'] = survey_df['Benefits'].replace(mappings)\n",
    "\n",
    "mappings_productivity = {\"Yes\": \"Yes\",\n",
    "            \"Not applicable to me\": \"No\",\n",
    "            \"No\": \"No\",\n",
    "            \"Unsure\": \"Unsure\",\n",
    "            \"-1\": \"No\",\n",
    "            None: \"No\"\n",
    "    }\n",
    "survey_df['HasProductivityEffect'] = survey_df['ProductivityEffect'].replace(mappings_productivity)\n",
    "\n",
    "mappings_WorkInterfenceEffect = {\n",
    "    'Often': 'Often',\n",
    "    'Rarely': 'Rarely',\n",
    "    'Never': 'Never',\n",
    "    'Sometimes': 'Sometimes',\n",
    "    '-1': 'Never', \n",
    "    None: 'Never'}\n",
    "\n",
    "survey_df['HasWorkInterfenceEffect'] = survey_df['WorkInterfenceEffect'].replace(mappings_WorkInterfenceEffect)"
   ]
  },
  {
   "cell_type": "markdown",
   "id": "38de826a-c0a9-43b6-993d-cdc139df94af",
   "metadata": {},
   "source": [
    "Let's take latest survey results and compare how many percentage of people who get and do not get mental health benefits experience productivity effects."
   ]
  },
  {
   "cell_type": "code",
   "execution_count": 47,
   "id": "6e41944e-f3ad-47a4-883e-3e72582c916d",
   "metadata": {},
   "outputs": [
    {
     "name": "stdout",
     "output_type": "stream",
     "text": [
      "% of respondents from total:\n"
     ]
    },
    {
     "data": {
      "text/plain": [
       "<AxesSubplot:xlabel='HasMHD-HasProductivityEffect', ylabel='HasBenefit'>"
      ]
     },
     "execution_count": 47,
     "metadata": {},
     "output_type": "execute_result"
    },
    {
     "data": {
      "image/png": "[encoded data removed]",
      "text/plain": [
       "<Figure size 720x216 with 2 Axes>"
      ]
     },
     "metadata": {
      "needs_background": "light"
     },
     "output_type": "display_data"
    }
   ],
   "source": [
    "mhd_benefits = (survey_df[survey_df.SurveyID == 2019].groupby(['HasBenefit','HasMHD','HasProductivityEffect'])\n",
    "           .agg(NumPeople=('UserID','count'))\n",
    "           .reset_index()\n",
    "            )\n",
    "\n",
    "mhd_benefits['Share'] = round(mhd_benefits.NumPeople/mhd_benefits.NumPeople.sum()*100,1)\n",
    "\n",
    "mhd_benefits_pt = pd.pivot_table(mhd_benefits, \n",
    "                     values = 'Share', \n",
    "                     index = ['HasBenefit'],\n",
    "                     columns = ['HasMHD', 'HasProductivityEffect'], \n",
    "                     aggfunc = np.sum).fillna(0)\n",
    "\n",
    "print(\"% of respondents from total:\")\n",
    "plt.figure(figsize = (10,3))\n",
    "sns.heatmap(mhd_benefits_pt, cmap = 'Greens', linewidths = 0.5, annot = True)"
   ]
  },
  {
   "cell_type": "markdown",
   "id": "5e2e252c-8555-45b2-af39-90709552e176",
   "metadata": {},
   "source": [
    "34% from total respondents has MHD, works in companies having benefits for mental health and say they work productivity is not effected due to their condition. And 6.5% of respondents having MHD said they productivity is effected and do not get any mental heath benefit from company."
   ]
  },
  {
   "cell_type": "code",
   "execution_count": 48,
   "id": "0b0136eb-fa09-4ae6-8c98-ef1c57e56c05",
   "metadata": {},
   "outputs": [
    {
     "name": "stdout",
     "output_type": "stream",
     "text": [
      "% of respondents from total:\n"
     ]
    },
    {
     "data": {
      "image/png": "[encoded data removed]",
      "text/plain": [
       "<Figure size 720x216 with 2 Axes>"
      ]
     },
     "metadata": {
      "needs_background": "light"
     },
     "output_type": "display_data"
    }
   ],
   "source": [
    "mhd_benefits = (survey_df[survey_df.SurveyID == 2019].groupby(['HasBenefit','HasMHD','HasWorkInterfenceEffect'])\n",
    "           .agg(NumPeople = ('UserID','count'))\n",
    "           .reset_index()\n",
    "            )\n",
    "\n",
    "mhd_benefits['Share'] = round(mhd_benefits.NumPeople/mhd_benefits.NumPeople.sum()*100,1)\n",
    "\n",
    "mhd_benefits_pt = pd.pivot_table(mhd_benefits, \n",
    "                         values = 'Share', \n",
    "                         index = ['HasBenefit'],\n",
    "                         columns = ['HasMHD', 'HasWorkInterfenceEffect'],\n",
    "                         aggfunc = np.sum).fillna(0)\n",
    "\n",
    "print(\"% of respondents from total:\")\n",
    "plt.figure(figsize = (10,3))\n",
    "sns.heatmap(mhd_benefits_pt, cmap = 'Greens', linewidths = 0.5, annot = True)\n",
    "plt.show()"
   ]
  },
  {
   "cell_type": "code",
   "execution_count": 484,
   "id": "c1b1199a-540b-4649-acc2-d7de322f12b7",
   "metadata": {},
   "outputs": [
    {
     "data": {
      "text/plain": [
       "HasWorkInterfenceEffect  SurveyID\n",
       "Never                    2014         477\n",
       "                         2016        1433\n",
       "                         2017         756\n",
       "                         2018         417\n",
       "                         2019         352\n",
       "Often                    2014         144\n",
       "Rarely                   2014         173\n",
       "Sometimes                2014         466\n",
       "Name: UserID, dtype: int64"
      ]
     },
     "execution_count": 484,
     "metadata": {},
     "output_type": "execute_result"
    }
   ],
   "source": [
    "survey_df.groupby(['HasWorkInterfenceEffect','SurveyID']).UserID.count()"
   ]
  },
  {
   "cell_type": "markdown",
   "id": "b77aaf7d-b07f-4c3a-8f22-d32d8acfd157",
   "metadata": {},
   "source": [
    "The newest information about work interfence is missing, there was no questions-answers to this questions on later years surveys"
   ]
  },
  {
   "cell_type": "markdown",
   "id": "1369fd95-9c77-42b2-be0b-a96aa5b15162",
   "metadata": {},
   "source": [
    "### H0: Over time confidence to share about MHD is changing, people became more open"
   ]
  },
  {
   "cell_type": "markdown",
   "id": "004d50aa-2ec6-4eb1-a524-dd60eb9bc8b8",
   "metadata": {},
   "source": [
    "To evaluate confidence, openes and willingness to talk and share about mental health we used these questions answers:\n",
    "\n",
    "`18 Would you feel comfortable discussing a mental health issue with your coworkers?`\n",
    "\n",
    "`19 Would you feel comfortable discussing a mental health issue with your direct supervisor(s)?`"
   ]
  },
  {
   "cell_type": "code",
   "execution_count": 545,
   "id": "ece92048-dc1c-4dfd-8735-3c2e5a380f5b",
   "metadata": {},
   "outputs": [],
   "source": [
    "mappings_disccuss = {\n",
    "    'Yes': 'Yes',\n",
    "    'No': 'No',\n",
    "    'Maybe': 'Maybe',\n",
    "    '-1': 'No', \n",
    "    None: 'No'}\n",
    "\n",
    "survey_df['DoesDisccussMHDCoworkers'] = survey_df['DisccussMHDCoworkers'].replace(mappings_disccuss)\n",
    "survey_df['DoesDisccussMHDSupervisor'] = survey_df['DisccussMHDSupervisor'].replace(mappings_disccuss)"
   ]
  },
  {
   "cell_type": "markdown",
   "id": "e04a82b8-f3e3-4352-8fb8-6a0e4eb0eef2",
   "metadata": {},
   "source": [
    "<b>Sharing with cowokers: </b>"
   ]
  },
  {
   "cell_type": "code",
   "execution_count": 546,
   "id": "0386d4c7-bb4e-4f9d-90cd-0f0821a6856a",
   "metadata": {},
   "outputs": [],
   "source": [
    "mhd_discuss_co = (survey_df.groupby(['SurveyID','DoesDisccussMHDCoworkers','HasMHD'])\n",
    "           .agg(NumPeople = ('UserID','count'))\n",
    "           .reset_index()\n",
    "            )\n",
    "mhd_discuss_co\n",
    "\n",
    "mhd_discuss_co_tot = (mhd_discuss_co.groupby(['SurveyID','DoesDisccussMHDCoworkers'])\n",
    "                              .agg(Tot = ('NumPeople','sum'))\n",
    "                              .reset_index()\n",
    "                     )\n",
    "mhd_discuss_co = pd.merge(mhd_discuss_co, mhd_discuss_co_tot,\n",
    "                          how = 'left',\n",
    "                          on = ['SurveyID','DoesDisccussMHDCoworkers'])\n",
    "mhd_discuss_co['Share'] = round(mhd_discuss_co.NumPeople/mhd_discuss_co.Tot*100,1)\n",
    "\n",
    "\n",
    "mhd_discuss_co_pt = pd.pivot_table(mhd_discuss_co, \n",
    "                       values = 'Share', \n",
    "                       index = ['SurveyID'],\n",
    "                       columns = ['DoesDisccussMHDCoworkers', 'HasMHD'], \n",
    "                       aggfunc = np.sum)"
   ]
  },
  {
   "cell_type": "code",
   "execution_count": 548,
   "id": "e24a189a-9eb3-4c34-a0a1-f66fb722f871",
   "metadata": {},
   "outputs": [
    {
     "data": {
      "image/png": "[encoded data removed]",
      "text/plain": [
       "<Figure size 720x360 with 1 Axes>"
      ]
     },
     "metadata": {
      "needs_background": "light"
     },
     "output_type": "display_data"
    }
   ],
   "source": [
    "fig, ax = plt.subplots(figsize = (10,5))\n",
    "\n",
    "mhd_has_ = mhd_discuss_co[mhd_discuss_co.HasMHD == 'Yes'].reset_index()\n",
    "\n",
    "labels = list(mhd_has_.SurveyID.unique())\n",
    "\n",
    "yes_ = list(mhd_has_[mhd_has_.DoesDisccussMHDCoworkers == 'Yes'].Share)\n",
    "maybe_ = list(mhd_has_[mhd_has_.DoesDisccussMHDCoworkers == 'Maybe'].Share)\n",
    "no_ = list(mhd_has_[mhd_has_.DoesDisccussMHDCoworkers == 'No'].Share)\n",
    "\n",
    "yes_plt = plt.plot(labels, yes_, label = 'Yes', color = '#1E90FF')\n",
    "maybe_plt = plt.plot(labels, maybe_, label = 'Maybe', color = '#DC143C')\n",
    "no_plt = plt.plot(labels, no_, label = 'No', color = '#F4D03F')\n",
    "\n",
    "plt.xlabel('Survey')\n",
    "plt.ylabel('% of respondents')\n",
    "plt.legend()\n",
    "plt.title('% of respondents having MHD willing to share about mental health with Coworkers')\n",
    "plt.show()"
   ]
  },
  {
   "cell_type": "markdown",
   "id": "dd88adb2-16bb-4218-9d62-0a8b10050c13",
   "metadata": {},
   "source": [
    "More percentage of people are willing to share about MHD with their colleagues over the time"
   ]
  },
  {
   "cell_type": "markdown",
   "id": "9f06e95c-2001-47bd-9c41-384aaf2b5fe5",
   "metadata": {},
   "source": [
    "<b>Sharing with superviser: </b>"
   ]
  },
  {
   "cell_type": "code",
   "execution_count": 45,
   "id": "86e10e4d-228a-4dc0-ab26-c64c45d8d520",
   "metadata": {},
   "outputs": [
    {
     "ename": "KeyError",
     "evalue": "'DoesDisccussMHDSupervisor'",
     "output_type": "error",
     "traceback": [
      "\u001b[0;31m---------------------------------------------------------------------------\u001b[0m",
      "\u001b[0;31mKeyError\u001b[0m                                  Traceback (most recent call last)",
      "Input \u001b[0;32mIn [45]\u001b[0m, in \u001b[0;36m<cell line: 1>\u001b[0;34m()\u001b[0m\n\u001b[0;32m----> 1\u001b[0m mhd_discuss_sup \u001b[38;5;241m=\u001b[39m (\u001b[43msurvey_df\u001b[49m\u001b[38;5;241;43m.\u001b[39;49m\u001b[43mgroupby\u001b[49m\u001b[43m(\u001b[49m\u001b[43m[\u001b[49m\u001b[38;5;124;43m'\u001b[39;49m\u001b[38;5;124;43mSurveyID\u001b[39;49m\u001b[38;5;124;43m'\u001b[39;49m\u001b[43m,\u001b[49m\u001b[38;5;124;43m'\u001b[39;49m\u001b[38;5;124;43mDoesDisccussMHDSupervisor\u001b[39;49m\u001b[38;5;124;43m'\u001b[39;49m\u001b[43m,\u001b[49m\u001b[38;5;124;43m'\u001b[39;49m\u001b[38;5;124;43mHasMHD\u001b[39;49m\u001b[38;5;124;43m'\u001b[39;49m\u001b[43m]\u001b[49m\u001b[43m)\u001b[49m\n\u001b[1;32m      2\u001b[0m            \u001b[38;5;241m.\u001b[39magg(NumPeople \u001b[38;5;241m=\u001b[39m (\u001b[38;5;124m'\u001b[39m\u001b[38;5;124mUserID\u001b[39m\u001b[38;5;124m'\u001b[39m,\u001b[38;5;124m'\u001b[39m\u001b[38;5;124mcount\u001b[39m\u001b[38;5;124m'\u001b[39m))\n\u001b[1;32m      3\u001b[0m            \u001b[38;5;241m.\u001b[39mreset_index()\n\u001b[1;32m      4\u001b[0m             )\n\u001b[1;32m      5\u001b[0m mhd_discuss_sup\n\u001b[1;32m      7\u001b[0m mhd_discuss_sup_tot \u001b[38;5;241m=\u001b[39m (mhd_discuss_sup\u001b[38;5;241m.\u001b[39mgroupby([\u001b[38;5;124m'\u001b[39m\u001b[38;5;124mSurveyID\u001b[39m\u001b[38;5;124m'\u001b[39m,\u001b[38;5;124m'\u001b[39m\u001b[38;5;124mDoesDisccussMHDSupervisor\u001b[39m\u001b[38;5;124m'\u001b[39m])\n\u001b[1;32m      8\u001b[0m                               \u001b[38;5;241m.\u001b[39magg(Tot \u001b[38;5;241m=\u001b[39m (\u001b[38;5;124m'\u001b[39m\u001b[38;5;124mNumPeople\u001b[39m\u001b[38;5;124m'\u001b[39m,\u001b[38;5;124m'\u001b[39m\u001b[38;5;124msum\u001b[39m\u001b[38;5;124m'\u001b[39m))\n\u001b[1;32m      9\u001b[0m                               \u001b[38;5;241m.\u001b[39mreset_index()\n\u001b[1;32m     10\u001b[0m                      )\n",
      "File \u001b[0;32m~/opt/anaconda3/lib/python3.9/site-packages/pandas/core/frame.py:7712\u001b[0m, in \u001b[0;36mDataFrame.groupby\u001b[0;34m(self, by, axis, level, as_index, sort, group_keys, squeeze, observed, dropna)\u001b[0m\n\u001b[1;32m   7707\u001b[0m axis \u001b[38;5;241m=\u001b[39m \u001b[38;5;28mself\u001b[39m\u001b[38;5;241m.\u001b[39m_get_axis_number(axis)\n\u001b[1;32m   7709\u001b[0m \u001b[38;5;66;03m# https://github.com/python/mypy/issues/7642\u001b[39;00m\n\u001b[1;32m   7710\u001b[0m \u001b[38;5;66;03m# error: Argument \"squeeze\" to \"DataFrameGroupBy\" has incompatible type\u001b[39;00m\n\u001b[1;32m   7711\u001b[0m \u001b[38;5;66;03m# \"Union[bool, NoDefault]\"; expected \"bool\"\u001b[39;00m\n\u001b[0;32m-> 7712\u001b[0m \u001b[38;5;28;01mreturn\u001b[39;00m \u001b[43mDataFrameGroupBy\u001b[49m\u001b[43m(\u001b[49m\n\u001b[1;32m   7713\u001b[0m \u001b[43m    \u001b[49m\u001b[43mobj\u001b[49m\u001b[38;5;241;43m=\u001b[39;49m\u001b[38;5;28;43mself\u001b[39;49m\u001b[43m,\u001b[49m\n\u001b[1;32m   7714\u001b[0m \u001b[43m    \u001b[49m\u001b[43mkeys\u001b[49m\u001b[38;5;241;43m=\u001b[39;49m\u001b[43mby\u001b[49m\u001b[43m,\u001b[49m\n\u001b[1;32m   7715\u001b[0m \u001b[43m    \u001b[49m\u001b[43maxis\u001b[49m\u001b[38;5;241;43m=\u001b[39;49m\u001b[43maxis\u001b[49m\u001b[43m,\u001b[49m\n\u001b[1;32m   7716\u001b[0m \u001b[43m    \u001b[49m\u001b[43mlevel\u001b[49m\u001b[38;5;241;43m=\u001b[39;49m\u001b[43mlevel\u001b[49m\u001b[43m,\u001b[49m\n\u001b[1;32m   7717\u001b[0m \u001b[43m    \u001b[49m\u001b[43mas_index\u001b[49m\u001b[38;5;241;43m=\u001b[39;49m\u001b[43mas_index\u001b[49m\u001b[43m,\u001b[49m\n\u001b[1;32m   7718\u001b[0m \u001b[43m    \u001b[49m\u001b[43msort\u001b[49m\u001b[38;5;241;43m=\u001b[39;49m\u001b[43msort\u001b[49m\u001b[43m,\u001b[49m\n\u001b[1;32m   7719\u001b[0m \u001b[43m    \u001b[49m\u001b[43mgroup_keys\u001b[49m\u001b[38;5;241;43m=\u001b[39;49m\u001b[43mgroup_keys\u001b[49m\u001b[43m,\u001b[49m\n\u001b[1;32m   7720\u001b[0m \u001b[43m    \u001b[49m\u001b[43msqueeze\u001b[49m\u001b[38;5;241;43m=\u001b[39;49m\u001b[43msqueeze\u001b[49m\u001b[43m,\u001b[49m\u001b[43m  \u001b[49m\u001b[38;5;66;43;03m# type: ignore[arg-type]\u001b[39;49;00m\n\u001b[1;32m   7721\u001b[0m \u001b[43m    \u001b[49m\u001b[43mobserved\u001b[49m\u001b[38;5;241;43m=\u001b[39;49m\u001b[43mobserved\u001b[49m\u001b[43m,\u001b[49m\n\u001b[1;32m   7722\u001b[0m \u001b[43m    \u001b[49m\u001b[43mdropna\u001b[49m\u001b[38;5;241;43m=\u001b[39;49m\u001b[43mdropna\u001b[49m\u001b[43m,\u001b[49m\n\u001b[1;32m   7723\u001b[0m \u001b[43m\u001b[49m\u001b[43m)\u001b[49m\n",
      "File \u001b[0;32m~/opt/anaconda3/lib/python3.9/site-packages/pandas/core/groupby/groupby.py:882\u001b[0m, in \u001b[0;36mGroupBy.__init__\u001b[0;34m(self, obj, keys, axis, level, grouper, exclusions, selection, as_index, sort, group_keys, squeeze, observed, mutated, dropna)\u001b[0m\n\u001b[1;32m    879\u001b[0m \u001b[38;5;28;01mif\u001b[39;00m grouper \u001b[38;5;129;01mis\u001b[39;00m \u001b[38;5;28;01mNone\u001b[39;00m:\n\u001b[1;32m    880\u001b[0m     \u001b[38;5;28;01mfrom\u001b[39;00m \u001b[38;5;21;01mpandas\u001b[39;00m\u001b[38;5;21;01m.\u001b[39;00m\u001b[38;5;21;01mcore\u001b[39;00m\u001b[38;5;21;01m.\u001b[39;00m\u001b[38;5;21;01mgroupby\u001b[39;00m\u001b[38;5;21;01m.\u001b[39;00m\u001b[38;5;21;01mgrouper\u001b[39;00m \u001b[38;5;28;01mimport\u001b[39;00m get_grouper\n\u001b[0;32m--> 882\u001b[0m     grouper, exclusions, obj \u001b[38;5;241m=\u001b[39m \u001b[43mget_grouper\u001b[49m\u001b[43m(\u001b[49m\n\u001b[1;32m    883\u001b[0m \u001b[43m        \u001b[49m\u001b[43mobj\u001b[49m\u001b[43m,\u001b[49m\n\u001b[1;32m    884\u001b[0m \u001b[43m        \u001b[49m\u001b[43mkeys\u001b[49m\u001b[43m,\u001b[49m\n\u001b[1;32m    885\u001b[0m \u001b[43m        \u001b[49m\u001b[43maxis\u001b[49m\u001b[38;5;241;43m=\u001b[39;49m\u001b[43maxis\u001b[49m\u001b[43m,\u001b[49m\n\u001b[1;32m    886\u001b[0m \u001b[43m        \u001b[49m\u001b[43mlevel\u001b[49m\u001b[38;5;241;43m=\u001b[39;49m\u001b[43mlevel\u001b[49m\u001b[43m,\u001b[49m\n\u001b[1;32m    887\u001b[0m \u001b[43m        \u001b[49m\u001b[43msort\u001b[49m\u001b[38;5;241;43m=\u001b[39;49m\u001b[43msort\u001b[49m\u001b[43m,\u001b[49m\n\u001b[1;32m    888\u001b[0m \u001b[43m        \u001b[49m\u001b[43mobserved\u001b[49m\u001b[38;5;241;43m=\u001b[39;49m\u001b[43mobserved\u001b[49m\u001b[43m,\u001b[49m\n\u001b[1;32m    889\u001b[0m \u001b[43m        \u001b[49m\u001b[43mmutated\u001b[49m\u001b[38;5;241;43m=\u001b[39;49m\u001b[38;5;28;43mself\u001b[39;49m\u001b[38;5;241;43m.\u001b[39;49m\u001b[43mmutated\u001b[49m\u001b[43m,\u001b[49m\n\u001b[1;32m    890\u001b[0m \u001b[43m        \u001b[49m\u001b[43mdropna\u001b[49m\u001b[38;5;241;43m=\u001b[39;49m\u001b[38;5;28;43mself\u001b[39;49m\u001b[38;5;241;43m.\u001b[39;49m\u001b[43mdropna\u001b[49m\u001b[43m,\u001b[49m\n\u001b[1;32m    891\u001b[0m \u001b[43m    \u001b[49m\u001b[43m)\u001b[49m\n\u001b[1;32m    893\u001b[0m \u001b[38;5;28mself\u001b[39m\u001b[38;5;241m.\u001b[39mobj \u001b[38;5;241m=\u001b[39m obj\n\u001b[1;32m    894\u001b[0m \u001b[38;5;28mself\u001b[39m\u001b[38;5;241m.\u001b[39maxis \u001b[38;5;241m=\u001b[39m obj\u001b[38;5;241m.\u001b[39m_get_axis_number(axis)\n",
      "File \u001b[0;32m~/opt/anaconda3/lib/python3.9/site-packages/pandas/core/groupby/grouper.py:882\u001b[0m, in \u001b[0;36mget_grouper\u001b[0;34m(obj, key, axis, level, sort, observed, mutated, validate, dropna)\u001b[0m\n\u001b[1;32m    880\u001b[0m         in_axis, level, gpr \u001b[38;5;241m=\u001b[39m \u001b[38;5;28;01mFalse\u001b[39;00m, gpr, \u001b[38;5;28;01mNone\u001b[39;00m\n\u001b[1;32m    881\u001b[0m     \u001b[38;5;28;01melse\u001b[39;00m:\n\u001b[0;32m--> 882\u001b[0m         \u001b[38;5;28;01mraise\u001b[39;00m \u001b[38;5;167;01mKeyError\u001b[39;00m(gpr)\n\u001b[1;32m    883\u001b[0m \u001b[38;5;28;01melif\u001b[39;00m \u001b[38;5;28misinstance\u001b[39m(gpr, Grouper) \u001b[38;5;129;01mand\u001b[39;00m gpr\u001b[38;5;241m.\u001b[39mkey \u001b[38;5;129;01mis\u001b[39;00m \u001b[38;5;129;01mnot\u001b[39;00m \u001b[38;5;28;01mNone\u001b[39;00m:\n\u001b[1;32m    884\u001b[0m     \u001b[38;5;66;03m# Add key to exclusions\u001b[39;00m\n\u001b[1;32m    885\u001b[0m     exclusions\u001b[38;5;241m.\u001b[39madd(gpr\u001b[38;5;241m.\u001b[39mkey)\n",
      "\u001b[0;31mKeyError\u001b[0m: 'DoesDisccussMHDSupervisor'"
     ]
    }
   ],
   "source": [
    "mhd_discuss_sup = (survey_df.groupby(['SurveyID','DoesDisccussMHDSupervisor','HasMHD'])\n",
    "           .agg(NumPeople = ('UserID','count'))\n",
    "           .reset_index()\n",
    "            )\n",
    "mhd_discuss_sup\n",
    "\n",
    "mhd_discuss_sup_tot = (mhd_discuss_sup.groupby(['SurveyID','DoesDisccussMHDSupervisor'])\n",
    "                              .agg(Tot = ('NumPeople','sum'))\n",
    "                              .reset_index()\n",
    "                     )\n",
    "mhd_discuss_sup = pd.merge(mhd_discuss_sup, mhd_discuss_sup_tot,\n",
    "                           how = 'left',\n",
    "                           on = ['SurveyID','DoesDisccussMHDSupervisor'])\n",
    "mhd_discuss_sup['Share'] = round(mhd_discuss_sup.NumPeople/mhd_discuss_sup.Tot*100,1)\n",
    "\n",
    "\n",
    "mhd_discuss_sup_pt = pd.pivot_table(mhd_discuss_sup, \n",
    "                        values = 'Share', \n",
    "                        index = ['SurveyID'],\n",
    "                        columns = ['DoesDisccussMHDSupervisor', 'HasMHD'], \n",
    "                        aggfunc = np.sum)\n",
    "mhd_discuss_sup_pt"
   ]
  },
  {
   "cell_type": "code",
   "execution_count": 550,
   "id": "682d8f55-7513-4cfd-a497-ca1a48f9043f",
   "metadata": {},
   "outputs": [
    {
     "data": {
      "image/png": "[encoded data removed]",
      "text/plain": [
       "<Figure size 720x360 with 1 Axes>"
      ]
     },
     "metadata": {
      "needs_background": "light"
     },
     "output_type": "display_data"
    }
   ],
   "source": [
    "fig, ax = plt.subplots(figsize = (10,5))\n",
    "\n",
    "mhd_has_ = mhd_discuss_sup[mhd_discuss_sup.HasMHD == 'Yes'].reset_index()\n",
    "\n",
    "labels = list(mhd_has_.SurveyID.unique())\n",
    "\n",
    "yes_ = list(mhd_has_[mhd_has_.DoesDisccussMHDSupervisor == 'Yes'].Share)\n",
    "maybe_ = list(mhd_has_[mhd_has_.DoesDisccussMHDSupervisor == 'Maybe'].Share)\n",
    "no_ = list(mhd_has_[mhd_has_.DoesDisccussMHDSupervisor == 'No'].Share)\n",
    "\n",
    "yes_plt = plt.plot(labels, yes_, label = 'Yes', color = '#1E90FF')\n",
    "maybe_plt = plt.plot(labels, maybe_, label = 'Maybe', color = '#DC143C')\n",
    "no_plt = plt.plot(labels, no_, label = 'No', color = '#F4D03F')\n",
    "\n",
    "plt.xlabel('Survey')\n",
    "plt.ylabel('% of respondents')\n",
    "plt.legend()\n",
    "plt.title('% of respondents having MHD willing to share about mental health with superviser')\n",
    "plt.show()"
   ]
  },
  {
   "cell_type": "markdown",
   "id": "692cac23-38bd-4b83-b0af-fb1e32efdfe3",
   "metadata": {},
   "source": [
    "Willingles and opiness to talk about mental health issues with supervisor changed over time as well:\n",
    "- Respondents saying that they are not willing to share such personal information with superviser decreased (from 67% of respondents saying no, to 61%).\n",
    "- Since 2016 up to 2018 percent of respondents saying they are willing to speak about MHD with superviser increased by 10% points (from 58% to 68%). However on 2019 this percentage decreased to 61%, but remained higher than on 2016.\n",
    "- More positivity to be more open about such delicate topic shows 'Maybe' responses increase over time, too.\n",
    "\n",
    "Thus, we might assume, that employeers became more open and startted to trust more with their supervisers to speek about MHD."
   ]
  },
  {
   "cell_type": "markdown",
   "id": "7982cb39-f010-45a8-a523-e90137a50765",
   "metadata": {},
   "source": [
    "## Conclusions"
   ]
  },
  {
   "cell_type": "markdown",
   "id": "9edaedb5-3ea9-4577-9151-3e4ea8c1a7fd",
   "metadata": {},
   "source": [
    "Overall, from the analysis we can see that many people suffers and experience one or another conditions of mental health disorders. In tech industry companies, 60% people identifies they have MHD. Most often it is related to Mood disorders (Depresion, Bipolar disorder, etc) (52.8%). \n",
    "\n",
    "    \n",
    "Even all genders might experience MHD, but a bit more females and other gender said they has/had diagnozed MHD. More males between 30-40 years old (45.5%) and more younger womens between 20-30 years old (43.8%) and other gender people between 20-40 years old.\n",
    "\n",
    "    \n",
    "If the companies supports their employees with mental health benefits it helps them to keep productivity and avoid productivity loss effects.\n",
    "    \n",
    "    \n",
    "Finally, we can see that mindest about MHD changes over time, people became more open to share about their mental health with their coworkers and supervisors."
   ]
  }
 ],
 "metadata": {
  "kernelspec": {
   "display_name": "Python 3 (ipykernel)",
   "language": "python",
   "name": "python3"
  },
  "language_info": {
   "codemirror_mode": {
    "name": "ipython",
    "version": 3
   },
   "file_extension": ".py",
   "mimetype": "text/x-python",
   "name": "python",
   "nbconvert_exporter": "python",
   "pygments_lexer": "ipython3",
   "version": "3.9.12"
  },
  "toc-autonumbering": false,
  "toc-showcode": false,
  "toc-showmarkdowntxt": false
 },
 "nbformat": 4,
 "nbformat_minor": 5
}
