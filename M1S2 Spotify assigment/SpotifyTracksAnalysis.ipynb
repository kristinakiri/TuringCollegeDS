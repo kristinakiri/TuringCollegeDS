{
 "cells": [
  {
   "cell_type": "code",
   "execution_count": 1,
   "id": "ccd2d5c7-e210-4b88-92ee-b50bfb75aba7",
   "metadata": {},
   "outputs": [],
   "source": [
    "import numpy as np\n",
    "import pandas as pd\n",
    "import matplotlib.pyplot as plt\n",
    "import seaborn as sns"
   ]
  },
  {
   "cell_type": "markdown",
   "id": "83dd3a16-fad0-4af2-b468-0b45641e76ff",
   "metadata": {},
   "source": [
    "# Read Spotify Top 50 Tracks of 2020 dataset"
   ]
  },
  {
   "cell_type": "code",
   "execution_count": 14,
   "id": "f97b12c8-fe36-470e-8f9b-fd617df9073d",
   "metadata": {},
   "outputs": [
    {
     "name": "stdout",
     "output_type": "stream",
     "text": [
      "<class 'pandas.core.frame.DataFrame'>\n",
      "Int64Index: 50 entries, 0 to 49\n",
      "Data columns (total 16 columns):\n",
      " #   Column            Non-Null Count  Dtype  \n",
      "---  ------            --------------  -----  \n",
      " 0   artist            50 non-null     object \n",
      " 1   album             50 non-null     object \n",
      " 2   track_name        50 non-null     object \n",
      " 3   track_id          50 non-null     object \n",
      " 4   energy            50 non-null     float64\n",
      " 5   danceability      50 non-null     float64\n",
      " 6   key               50 non-null     int64  \n",
      " 7   loudness          50 non-null     float64\n",
      " 8   acousticness      50 non-null     float64\n",
      " 9   speechiness       50 non-null     float64\n",
      " 10  instrumentalness  50 non-null     float64\n",
      " 11  liveness          50 non-null     float64\n",
      " 12  valence           50 non-null     float64\n",
      " 13  tempo             50 non-null     float64\n",
      " 14  duration_ms       50 non-null     int64  \n",
      " 15  genre             50 non-null     object \n",
      "dtypes: float64(9), int64(2), object(5)\n",
      "memory usage: 6.6+ KB\n"
     ]
    },
    {
     "data": {
      "text/html": [
       "<div>\n",
       "<style scoped>\n",
       "    .dataframe tbody tr th:only-of-type {\n",
       "        vertical-align: middle;\n",
       "    }\n",
       "\n",
       "    .dataframe tbody tr th {\n",
       "        vertical-align: top;\n",
       "    }\n",
       "\n",
       "    .dataframe thead th {\n",
       "        text-align: right;\n",
       "    }\n",
       "</style>\n",
       "<table border=\"1\" class=\"dataframe\">\n",
       "  <thead>\n",
       "    <tr style=\"text-align: right;\">\n",
       "      <th></th>\n",
       "      <th>artist</th>\n",
       "      <th>album</th>\n",
       "      <th>track_name</th>\n",
       "      <th>track_id</th>\n",
       "      <th>energy</th>\n",
       "      <th>danceability</th>\n",
       "      <th>key</th>\n",
       "      <th>loudness</th>\n",
       "      <th>acousticness</th>\n",
       "      <th>speechiness</th>\n",
       "      <th>instrumentalness</th>\n",
       "      <th>liveness</th>\n",
       "      <th>valence</th>\n",
       "      <th>tempo</th>\n",
       "      <th>duration_ms</th>\n",
       "      <th>genre</th>\n",
       "    </tr>\n",
       "  </thead>\n",
       "  <tbody>\n",
       "    <tr>\n",
       "      <th>0</th>\n",
       "      <td>The Weeknd</td>\n",
       "      <td>After Hours</td>\n",
       "      <td>Blinding Lights</td>\n",
       "      <td>0VjIjW4GlUZAMYd2vXMi3b</td>\n",
       "      <td>0.730</td>\n",
       "      <td>0.514</td>\n",
       "      <td>1</td>\n",
       "      <td>-5.934</td>\n",
       "      <td>0.00146</td>\n",
       "      <td>0.0598</td>\n",
       "      <td>0.000095</td>\n",
       "      <td>0.0897</td>\n",
       "      <td>0.334</td>\n",
       "      <td>171.005</td>\n",
       "      <td>200040</td>\n",
       "      <td>R&amp;B/Soul</td>\n",
       "    </tr>\n",
       "    <tr>\n",
       "      <th>1</th>\n",
       "      <td>Tones And I</td>\n",
       "      <td>Dance Monkey</td>\n",
       "      <td>Dance Monkey</td>\n",
       "      <td>1rgnBhdG2JDFTbYkYRZAku</td>\n",
       "      <td>0.593</td>\n",
       "      <td>0.825</td>\n",
       "      <td>6</td>\n",
       "      <td>-6.401</td>\n",
       "      <td>0.68800</td>\n",
       "      <td>0.0988</td>\n",
       "      <td>0.000161</td>\n",
       "      <td>0.1700</td>\n",
       "      <td>0.540</td>\n",
       "      <td>98.078</td>\n",
       "      <td>209755</td>\n",
       "      <td>Alternative/Indie</td>\n",
       "    </tr>\n",
       "    <tr>\n",
       "      <th>2</th>\n",
       "      <td>Roddy Ricch</td>\n",
       "      <td>Please Excuse Me For Being Antisocial</td>\n",
       "      <td>The Box</td>\n",
       "      <td>0nbXyq5TXYPCO7pr3N8S4I</td>\n",
       "      <td>0.586</td>\n",
       "      <td>0.896</td>\n",
       "      <td>10</td>\n",
       "      <td>-6.687</td>\n",
       "      <td>0.10400</td>\n",
       "      <td>0.0559</td>\n",
       "      <td>0.000000</td>\n",
       "      <td>0.7900</td>\n",
       "      <td>0.642</td>\n",
       "      <td>116.971</td>\n",
       "      <td>196653</td>\n",
       "      <td>Hip-Hop/Rap</td>\n",
       "    </tr>\n",
       "    <tr>\n",
       "      <th>3</th>\n",
       "      <td>SAINt JHN</td>\n",
       "      <td>Roses (Imanbek Remix)</td>\n",
       "      <td>Roses - Imanbek Remix</td>\n",
       "      <td>2Wo6QQD1KMDWeFkkjLqwx5</td>\n",
       "      <td>0.721</td>\n",
       "      <td>0.785</td>\n",
       "      <td>8</td>\n",
       "      <td>-5.457</td>\n",
       "      <td>0.01490</td>\n",
       "      <td>0.0506</td>\n",
       "      <td>0.004320</td>\n",
       "      <td>0.2850</td>\n",
       "      <td>0.894</td>\n",
       "      <td>121.962</td>\n",
       "      <td>176219</td>\n",
       "      <td>Dance/Electronic</td>\n",
       "    </tr>\n",
       "    <tr>\n",
       "      <th>4</th>\n",
       "      <td>Dua Lipa</td>\n",
       "      <td>Future Nostalgia</td>\n",
       "      <td>Don't Start Now</td>\n",
       "      <td>3PfIrDoz19wz7qK7tYeu62</td>\n",
       "      <td>0.793</td>\n",
       "      <td>0.793</td>\n",
       "      <td>11</td>\n",
       "      <td>-4.521</td>\n",
       "      <td>0.01230</td>\n",
       "      <td>0.0830</td>\n",
       "      <td>0.000000</td>\n",
       "      <td>0.0951</td>\n",
       "      <td>0.679</td>\n",
       "      <td>123.950</td>\n",
       "      <td>183290</td>\n",
       "      <td>Nu-disco</td>\n",
       "    </tr>\n",
       "  </tbody>\n",
       "</table>\n",
       "</div>"
      ],
      "text/plain": [
       "        artist                                  album             track_name  \\\n",
       "0   The Weeknd                            After Hours        Blinding Lights   \n",
       "1  Tones And I                           Dance Monkey           Dance Monkey   \n",
       "2  Roddy Ricch  Please Excuse Me For Being Antisocial                The Box   \n",
       "3    SAINt JHN                  Roses (Imanbek Remix)  Roses - Imanbek Remix   \n",
       "4     Dua Lipa                       Future Nostalgia        Don't Start Now   \n",
       "\n",
       "                 track_id  energy  danceability  key  loudness  acousticness  \\\n",
       "0  0VjIjW4GlUZAMYd2vXMi3b   0.730         0.514    1    -5.934       0.00146   \n",
       "1  1rgnBhdG2JDFTbYkYRZAku   0.593         0.825    6    -6.401       0.68800   \n",
       "2  0nbXyq5TXYPCO7pr3N8S4I   0.586         0.896   10    -6.687       0.10400   \n",
       "3  2Wo6QQD1KMDWeFkkjLqwx5   0.721         0.785    8    -5.457       0.01490   \n",
       "4  3PfIrDoz19wz7qK7tYeu62   0.793         0.793   11    -4.521       0.01230   \n",
       "\n",
       "   speechiness  instrumentalness  liveness  valence    tempo  duration_ms  \\\n",
       "0       0.0598          0.000095    0.0897    0.334  171.005       200040   \n",
       "1       0.0988          0.000161    0.1700    0.540   98.078       209755   \n",
       "2       0.0559          0.000000    0.7900    0.642  116.971       196653   \n",
       "3       0.0506          0.004320    0.2850    0.894  121.962       176219   \n",
       "4       0.0830          0.000000    0.0951    0.679  123.950       183290   \n",
       "\n",
       "               genre  \n",
       "0           R&B/Soul  \n",
       "1  Alternative/Indie  \n",
       "2        Hip-Hop/Rap  \n",
       "3   Dance/Electronic  \n",
       "4           Nu-disco  "
      ]
     },
     "execution_count": 14,
     "metadata": {},
     "output_type": "execute_result"
    }
   ],
   "source": [
    "# import os\n",
    "# os.getcwd()\n",
    "\n",
    "df = pd.read_csv('/Users/kristinazekiene/Documents/LearningPython/TuringCollege/M1S2 Spotify assigment/spotifytoptracks.csv',index_col=0)\n",
    "df.info()\n",
    "df.head()"
   ]
  },
  {
   "cell_type": "markdown",
   "id": "16c28880-9967-4e02-94f5-9c7a275490cc",
   "metadata": {},
   "source": [
    "# Data cleaning"
   ]
  },
  {
   "cell_type": "markdown",
   "id": "4d3808ad-33f3-4185-8c4a-212f7206ae2d",
   "metadata": {},
   "source": [
    "## Check if any missing values appears in dataset"
   ]
  },
  {
   "cell_type": "markdown",
   "id": "bbe51637-9ada-4ac8-aa05-f273bd860416",
   "metadata": {},
   "source": [
    "<i>H0: If the original dataset length differs from mask dataset with dropped Null values, then missing values appears in dataset </i>"
   ]
  },
  {
   "cell_type": "code",
   "execution_count": 3,
   "id": "8691f4fc-f642-4e64-8809-c8efe29a90e7",
   "metadata": {},
   "outputs": [
    {
     "name": "stdout",
     "output_type": "stream",
     "text": [
      "There are no missing values in dataset\n"
     ]
    }
   ],
   "source": [
    "if len(df) == len(df.dropna()):\n",
    "    print('There are no missing values in dataset')\n",
    "else:\n",
    "    print('Missing values appears in dataset')"
   ]
  },
  {
   "cell_type": "markdown",
   "id": "6bd28ea5-bb4c-4c52-b791-4f327f8f66db",
   "metadata": {},
   "source": [
    "<i>H0: Does original dataset mask with applied function `.isnull()` columns has Null values?</i>"
   ]
  },
  {
   "cell_type": "code",
   "execution_count": 4,
   "id": "60170632-1262-4a7e-abad-6f4ad4102779",
   "metadata": {},
   "outputs": [
    {
     "name": "stdout",
     "output_type": "stream",
     "text": [
      "Is there any missing values?\n"
     ]
    },
    {
     "data": {
      "text/plain": [
       "{'artist': False,\n",
       " 'album': False,\n",
       " 'track_name': False,\n",
       " 'track_id': False,\n",
       " 'energy': False,\n",
       " 'danceability': False,\n",
       " 'key': False,\n",
       " 'loudness': False,\n",
       " 'acousticness': False,\n",
       " 'speechiness': False,\n",
       " 'instrumentalness': False,\n",
       " 'liveness': False,\n",
       " 'valence': False,\n",
       " 'tempo': False,\n",
       " 'duration_ms': False,\n",
       " 'genre': False}"
      ]
     },
     "execution_count": 4,
     "metadata": {},
     "output_type": "execute_result"
    }
   ],
   "source": [
    "col = list(df.columns)\n",
    "df_check_null = df.isnull()\n",
    "\n",
    "check_if_null = {}\n",
    "\n",
    "for i in col:\n",
    "    check_if_null.update({f'{i}': df_check_null[f'{i}'].max()})\n",
    "    \n",
    "print('Is there any missing values?')\n",
    "check_if_null"
   ]
  },
  {
   "cell_type": "markdown",
   "id": "9c49b225-1a27-4ab2-91b5-1cd5226aff76",
   "metadata": {},
   "source": [
    "## Is there any dublicate values and features?"
   ]
  },
  {
   "cell_type": "code",
   "execution_count": 13,
   "id": "7f0f2d9a-65c2-4db0-b056-bcc06d3b7cc6",
   "metadata": {},
   "outputs": [
    {
     "data": {
      "text/plain": [
       "True"
      ]
     },
     "execution_count": 13,
     "metadata": {},
     "output_type": "execute_result"
    }
   ],
   "source": [
    "# Is index keys unique?\n",
    "df.index.is_unique"
   ]
  },
  {
   "cell_type": "code",
   "execution_count": 7,
   "id": "94a95925-9faa-44d5-aee5-7de0dbc11fe2",
   "metadata": {},
   "outputs": [
    {
     "data": {
      "text/plain": [
       "True"
      ]
     },
     "execution_count": 7,
     "metadata": {},
     "output_type": "execute_result"
    }
   ],
   "source": [
    "# Is columns unique?\n",
    "df.columns.is_unique"
   ]
  },
  {
   "cell_type": "markdown",
   "id": "81eae361-679d-466c-bf62-1aa13f3b8253",
   "metadata": {},
   "source": [
    "<i>H0: Dataset contains duplicate feature columns </i>"
   ]
  },
  {
   "cell_type": "code",
   "execution_count": 279,
   "id": "2d8d15cf-924e-451c-96cc-a812babb31a6",
   "metadata": {},
   "outputs": [
    {
     "name": "stdout",
     "output_type": "stream",
     "text": [
      "No duplicate columns were found\n"
     ]
    }
   ],
   "source": [
    "if df.shape[1] == len(df.columns):\n",
    "    print('No duplicate columns were found')\n",
    "else:\n",
    "    print('Duplicate columsn were found')"
   ]
  },
  {
   "cell_type": "markdown",
   "id": "cb214ff3-062c-45cc-8ec6-602f23908f23",
   "metadata": {},
   "source": [
    "<i>H0: Dataset contains duplicate tracks </i>"
   ]
  },
  {
   "cell_type": "code",
   "execution_count": 280,
   "id": "066c4e76-2d86-469a-95cc-607d371c4975",
   "metadata": {},
   "outputs": [
    {
     "name": "stdout",
     "output_type": "stream",
     "text": [
      "There was no duplicate tracks\n"
     ]
    },
    {
     "data": {
      "text/html": [
       "<div>\n",
       "<style scoped>\n",
       "    .dataframe tbody tr th:only-of-type {\n",
       "        vertical-align: middle;\n",
       "    }\n",
       "\n",
       "    .dataframe tbody tr th {\n",
       "        vertical-align: top;\n",
       "    }\n",
       "\n",
       "    .dataframe thead th {\n",
       "        text-align: right;\n",
       "    }\n",
       "</style>\n",
       "<table border=\"1\" class=\"dataframe\">\n",
       "  <thead>\n",
       "    <tr style=\"text-align: right;\">\n",
       "      <th></th>\n",
       "      <th>Occur</th>\n",
       "    </tr>\n",
       "    <tr>\n",
       "      <th>track_id</th>\n",
       "      <th></th>\n",
       "    </tr>\n",
       "  </thead>\n",
       "  <tbody>\n",
       "    <tr>\n",
       "      <th>017PF4Q3l4DBUiWoXk4OWT</th>\n",
       "      <td>1</td>\n",
       "    </tr>\n",
       "    <tr>\n",
       "      <th>4Oun2ylbjFKMPTiaSbbCih</th>\n",
       "      <td>1</td>\n",
       "    </tr>\n",
       "    <tr>\n",
       "      <th>3GZoWLVbmxcBys6g0DLFLf</th>\n",
       "      <td>1</td>\n",
       "    </tr>\n",
       "    <tr>\n",
       "      <th>3H7ihDc1dqLriiWXwsc2po</th>\n",
       "      <td>1</td>\n",
       "    </tr>\n",
       "    <tr>\n",
       "      <th>3PfIrDoz19wz7qK7tYeu62</th>\n",
       "      <td>1</td>\n",
       "    </tr>\n",
       "  </tbody>\n",
       "</table>\n",
       "</div>"
      ],
      "text/plain": [
       "                        Occur\n",
       "track_id                     \n",
       "017PF4Q3l4DBUiWoXk4OWT      1\n",
       "4Oun2ylbjFKMPTiaSbbCih      1\n",
       "3GZoWLVbmxcBys6g0DLFLf      1\n",
       "3H7ihDc1dqLriiWXwsc2po      1\n",
       "3PfIrDoz19wz7qK7tYeu62      1"
      ]
     },
     "execution_count": 280,
     "metadata": {},
     "output_type": "execute_result"
    }
   ],
   "source": [
    "track_duplicates = df.groupby('track_id').agg(Occur=('track_id','count'))\n",
    "\n",
    "if len(track_duplicates[track_duplicates.Occur >= 2]) > 0:\n",
    "    print('Duplicate track entires were found')\n",
    "else:\n",
    "    print('There was no duplicate tracks')\n",
    "\n",
    "track_duplicates.sort_values(by='Occur',ascending = False).head(5)"
   ]
  },
  {
   "cell_type": "markdown",
   "id": "10ac05ae-4218-45ad-9ba7-607376d3fbdf",
   "metadata": {},
   "source": [
    "<i>H0: Dataset contains duplicate keys </i>"
   ]
  },
  {
   "cell_type": "code",
   "execution_count": 281,
   "id": "e31ee9a2-49bd-48c1-b623-5c0f78edfd3d",
   "metadata": {},
   "outputs": [
    {
     "name": "stdout",
     "output_type": "stream",
     "text": [
      "Duplicate keys entires were found: Occur    10\n",
      "dtype: int64\n"
     ]
    },
    {
     "data": {
      "text/html": [
       "<div>\n",
       "<style scoped>\n",
       "    .dataframe tbody tr th:only-of-type {\n",
       "        vertical-align: middle;\n",
       "    }\n",
       "\n",
       "    .dataframe tbody tr th {\n",
       "        vertical-align: top;\n",
       "    }\n",
       "\n",
       "    .dataframe thead th {\n",
       "        text-align: right;\n",
       "    }\n",
       "</style>\n",
       "<table border=\"1\" class=\"dataframe\">\n",
       "  <thead>\n",
       "    <tr style=\"text-align: right;\">\n",
       "      <th></th>\n",
       "      <th>Occur</th>\n",
       "    </tr>\n",
       "    <tr>\n",
       "      <th>key</th>\n",
       "      <th></th>\n",
       "    </tr>\n",
       "  </thead>\n",
       "  <tbody>\n",
       "    <tr>\n",
       "      <th>0</th>\n",
       "      <td>6</td>\n",
       "    </tr>\n",
       "    <tr>\n",
       "      <th>6</th>\n",
       "      <td>6</td>\n",
       "    </tr>\n",
       "    <tr>\n",
       "      <th>7</th>\n",
       "      <td>6</td>\n",
       "    </tr>\n",
       "    <tr>\n",
       "      <th>8</th>\n",
       "      <td>6</td>\n",
       "    </tr>\n",
       "    <tr>\n",
       "      <th>1</th>\n",
       "      <td>5</td>\n",
       "    </tr>\n",
       "    <tr>\n",
       "      <th>11</th>\n",
       "      <td>5</td>\n",
       "    </tr>\n",
       "    <tr>\n",
       "      <th>2</th>\n",
       "      <td>4</td>\n",
       "    </tr>\n",
       "    <tr>\n",
       "      <th>9</th>\n",
       "      <td>4</td>\n",
       "    </tr>\n",
       "    <tr>\n",
       "      <th>10</th>\n",
       "      <td>4</td>\n",
       "    </tr>\n",
       "    <tr>\n",
       "      <th>4</th>\n",
       "      <td>2</td>\n",
       "    </tr>\n",
       "    <tr>\n",
       "      <th>3</th>\n",
       "      <td>1</td>\n",
       "    </tr>\n",
       "  </tbody>\n",
       "</table>\n",
       "</div>"
      ],
      "text/plain": [
       "     Occur\n",
       "key       \n",
       "0        6\n",
       "6        6\n",
       "7        6\n",
       "8        6\n",
       "1        5\n",
       "11       5\n",
       "2        4\n",
       "9        4\n",
       "10       4\n",
       "4        2\n",
       "3        1"
      ]
     },
     "execution_count": 281,
     "metadata": {},
     "output_type": "execute_result"
    }
   ],
   "source": [
    "key_duplicates = df.groupby('key').agg(Occur=('track_id','count'))\n",
    "\n",
    "if len(key_duplicates[key_duplicates.Occur >= 2]) > 0:\n",
    "    print('Duplicate keys entires were found:', key_duplicates[key_duplicates.Occur >= 2].count())\n",
    "else:\n",
    "    print('There was no duplicate keys')\n",
    "\n",
    "key_duplicates.sort_values(by='Occur',ascending = False).head(11)"
   ]
  },
  {
   "cell_type": "markdown",
   "id": "d15909d1-a86b-46ed-9820-e1de1e0098f2",
   "metadata": {},
   "source": [
    "## Outliers detection"
   ]
  },
  {
   "cell_type": "code",
   "execution_count": 282,
   "id": "ef57cdeb-c2f2-467b-aea3-07f02937f1b4",
   "metadata": {},
   "outputs": [
    {
     "data": {
      "text/html": [
       "<div>\n",
       "<style scoped>\n",
       "    .dataframe tbody tr th:only-of-type {\n",
       "        vertical-align: middle;\n",
       "    }\n",
       "\n",
       "    .dataframe tbody tr th {\n",
       "        vertical-align: top;\n",
       "    }\n",
       "\n",
       "    .dataframe thead th {\n",
       "        text-align: right;\n",
       "    }\n",
       "</style>\n",
       "<table border=\"1\" class=\"dataframe\">\n",
       "  <thead>\n",
       "    <tr style=\"text-align: right;\">\n",
       "      <th></th>\n",
       "      <th>energy</th>\n",
       "      <th>danceability</th>\n",
       "      <th>key</th>\n",
       "      <th>loudness</th>\n",
       "      <th>acousticness</th>\n",
       "      <th>speechiness</th>\n",
       "      <th>instrumentalness</th>\n",
       "      <th>liveness</th>\n",
       "      <th>valence</th>\n",
       "      <th>tempo</th>\n",
       "      <th>duration_ms</th>\n",
       "    </tr>\n",
       "  </thead>\n",
       "  <tbody>\n",
       "    <tr>\n",
       "      <th>count</th>\n",
       "      <td>50.000</td>\n",
       "      <td>50.000</td>\n",
       "      <td>50.000</td>\n",
       "      <td>50.000</td>\n",
       "      <td>50.000</td>\n",
       "      <td>50.000</td>\n",
       "      <td>50.000</td>\n",
       "      <td>50.000</td>\n",
       "      <td>50.000</td>\n",
       "      <td>50.000</td>\n",
       "      <td>50.000</td>\n",
       "    </tr>\n",
       "    <tr>\n",
       "      <th>mean</th>\n",
       "      <td>0.609</td>\n",
       "      <td>0.717</td>\n",
       "      <td>5.720</td>\n",
       "      <td>-6.226</td>\n",
       "      <td>0.256</td>\n",
       "      <td>0.124</td>\n",
       "      <td>0.016</td>\n",
       "      <td>0.197</td>\n",
       "      <td>0.556</td>\n",
       "      <td>119.690</td>\n",
       "      <td>199955.360</td>\n",
       "    </tr>\n",
       "    <tr>\n",
       "      <th>std</th>\n",
       "      <td>0.154</td>\n",
       "      <td>0.125</td>\n",
       "      <td>3.709</td>\n",
       "      <td>2.350</td>\n",
       "      <td>0.265</td>\n",
       "      <td>0.117</td>\n",
       "      <td>0.094</td>\n",
       "      <td>0.177</td>\n",
       "      <td>0.216</td>\n",
       "      <td>25.415</td>\n",
       "      <td>33996.122</td>\n",
       "    </tr>\n",
       "    <tr>\n",
       "      <th>min</th>\n",
       "      <td>0.225</td>\n",
       "      <td>0.351</td>\n",
       "      <td>0.000</td>\n",
       "      <td>-14.454</td>\n",
       "      <td>0.001</td>\n",
       "      <td>0.029</td>\n",
       "      <td>0.000</td>\n",
       "      <td>0.057</td>\n",
       "      <td>0.060</td>\n",
       "      <td>75.801</td>\n",
       "      <td>140526.000</td>\n",
       "    </tr>\n",
       "    <tr>\n",
       "      <th>25%</th>\n",
       "      <td>0.494</td>\n",
       "      <td>0.673</td>\n",
       "      <td>2.000</td>\n",
       "      <td>-7.552</td>\n",
       "      <td>0.053</td>\n",
       "      <td>0.048</td>\n",
       "      <td>0.000</td>\n",
       "      <td>0.094</td>\n",
       "      <td>0.434</td>\n",
       "      <td>99.557</td>\n",
       "      <td>175845.500</td>\n",
       "    </tr>\n",
       "    <tr>\n",
       "      <th>50%</th>\n",
       "      <td>0.597</td>\n",
       "      <td>0.746</td>\n",
       "      <td>6.500</td>\n",
       "      <td>-5.992</td>\n",
       "      <td>0.188</td>\n",
       "      <td>0.070</td>\n",
       "      <td>0.000</td>\n",
       "      <td>0.111</td>\n",
       "      <td>0.560</td>\n",
       "      <td>116.969</td>\n",
       "      <td>197853.500</td>\n",
       "    </tr>\n",
       "    <tr>\n",
       "      <th>75%</th>\n",
       "      <td>0.730</td>\n",
       "      <td>0.794</td>\n",
       "      <td>8.750</td>\n",
       "      <td>-4.286</td>\n",
       "      <td>0.299</td>\n",
       "      <td>0.156</td>\n",
       "      <td>0.000</td>\n",
       "      <td>0.271</td>\n",
       "      <td>0.726</td>\n",
       "      <td>132.317</td>\n",
       "      <td>215064.000</td>\n",
       "    </tr>\n",
       "    <tr>\n",
       "      <th>max</th>\n",
       "      <td>0.855</td>\n",
       "      <td>0.935</td>\n",
       "      <td>11.000</td>\n",
       "      <td>-3.280</td>\n",
       "      <td>0.934</td>\n",
       "      <td>0.487</td>\n",
       "      <td>0.657</td>\n",
       "      <td>0.792</td>\n",
       "      <td>0.925</td>\n",
       "      <td>180.067</td>\n",
       "      <td>312820.000</td>\n",
       "    </tr>\n",
       "  </tbody>\n",
       "</table>\n",
       "</div>"
      ],
      "text/plain": [
       "       energy  danceability     key  loudness  acousticness  speechiness  \\\n",
       "count  50.000        50.000  50.000    50.000        50.000       50.000   \n",
       "mean    0.609         0.717   5.720    -6.226         0.256        0.124   \n",
       "std     0.154         0.125   3.709     2.350         0.265        0.117   \n",
       "min     0.225         0.351   0.000   -14.454         0.001        0.029   \n",
       "25%     0.494         0.673   2.000    -7.552         0.053        0.048   \n",
       "50%     0.597         0.746   6.500    -5.992         0.188        0.070   \n",
       "75%     0.730         0.794   8.750    -4.286         0.299        0.156   \n",
       "max     0.855         0.935  11.000    -3.280         0.934        0.487   \n",
       "\n",
       "       instrumentalness  liveness  valence    tempo  duration_ms  \n",
       "count            50.000    50.000   50.000   50.000       50.000  \n",
       "mean              0.016     0.197    0.556  119.690   199955.360  \n",
       "std               0.094     0.177    0.216   25.415    33996.122  \n",
       "min               0.000     0.057    0.060   75.801   140526.000  \n",
       "25%               0.000     0.094    0.434   99.557   175845.500  \n",
       "50%               0.000     0.111    0.560  116.969   197853.500  \n",
       "75%               0.000     0.271    0.726  132.317   215064.000  \n",
       "max               0.657     0.792    0.925  180.067   312820.000  "
      ]
     },
     "execution_count": 282,
     "metadata": {},
     "output_type": "execute_result"
    }
   ],
   "source": [
    "round(df.describe(),3)"
   ]
  },
  {
   "cell_type": "code",
   "execution_count": 15,
   "id": "123f44fd-2962-4ad2-a4b9-7af1b6f4a479",
   "metadata": {},
   "outputs": [
    {
     "data": {
      "image/png": "[encoded data removed]",
      "text/plain": [
       "<Figure size 720x360 with 1 Axes>"
      ]
     },
     "metadata": {
      "needs_background": "light"
     },
     "output_type": "display_data"
    }
   ],
   "source": [
    "fig, ax = plt.subplots(figsize=(10, 5))\n",
    " \n",
    "bp = ax.boxplot(df[['energy','danceability', 'acousticness', 'speechiness', \n",
    "                    'instrumentalness', 'liveness', 'valence']],\n",
    "        labels = ['energy','danceability', 'acousticness', 'speechiness','instrumentalness', 'liveness', 'valence'])\n",
    "\n",
    "plt.show()"
   ]
  },
  {
   "cell_type": "code",
   "execution_count": 16,
   "id": "ade20ab8-f632-4ae7-86f5-e4fa3848d537",
   "metadata": {},
   "outputs": [
    {
     "data": {
      "image/png": "[encoded data removed]",
      "text/plain": [
       "<Figure size 720x360 with 1 Axes>"
      ]
     },
     "metadata": {
      "needs_background": "light"
     },
     "output_type": "display_data"
    }
   ],
   "source": [
    "fig, ax = plt.subplots(figsize=(10, 5))\n",
    " \n",
    "bp = ax.boxplot(df[['tempo','key', 'loudness']],\n",
    "        labels = ['tempo','key', 'loudness'])\n",
    "\n",
    "plt.show()"
   ]
  },
  {
   "cell_type": "code",
   "execution_count": 285,
   "id": "b4ac5bd9-ff68-4777-b8f6-fd9a4bf52c31",
   "metadata": {},
   "outputs": [
    {
     "data": {
      "image/png": "[encoded data removed]",
      "text/plain": [
       "<Figure size 720x360 with 1 Axes>"
      ]
     },
     "metadata": {
      "needs_background": "light"
     },
     "output_type": "display_data"
    }
   ],
   "source": [
    "fig, ax = plt.subplots(figsize=(10, 5))\n",
    " \n",
    "bp = ax.boxplot(df[['duration_ms']],\n",
    "        labels = ['duration_ms'])\n",
    "\n",
    "plt.show()"
   ]
  },
  {
   "cell_type": "markdown",
   "id": "cfc0e134-9545-46a1-9365-43786ea00955",
   "metadata": {},
   "source": [
    "# Exploratory data analysis"
   ]
  },
  {
   "cell_type": "code",
   "execution_count": 286,
   "id": "12a88270-950c-49e0-a197-11c52430ae13",
   "metadata": {},
   "outputs": [
    {
     "name": "stdout",
     "output_type": "stream",
     "text": [
      "How many observations are there in this dataset?\n"
     ]
    },
    {
     "data": {
      "text/plain": [
       "(50, 16)"
      ]
     },
     "execution_count": 286,
     "metadata": {},
     "output_type": "execute_result"
    }
   ],
   "source": [
    "print('How many observations are there in this dataset?')\n",
    "df.shape"
   ]
  },
  {
   "cell_type": "code",
   "execution_count": 287,
   "id": "d222057f-9d40-4a84-8b3a-1291d81061f4",
   "metadata": {},
   "outputs": [
    {
     "name": "stdout",
     "output_type": "stream",
     "text": [
      "How many features this dataset has?\n",
      "<class 'pandas.core.frame.DataFrame'>\n",
      "RangeIndex: 50 entries, 0 to 49\n",
      "Data columns (total 16 columns):\n",
      " #   Column            Non-Null Count  Dtype  \n",
      "---  ------            --------------  -----  \n",
      " 0   artist            50 non-null     object \n",
      " 1   album             50 non-null     object \n",
      " 2   track_name        50 non-null     object \n",
      " 3   track_id          50 non-null     object \n",
      " 4   energy            50 non-null     float64\n",
      " 5   danceability      50 non-null     float64\n",
      " 6   key               50 non-null     int64  \n",
      " 7   loudness          50 non-null     float64\n",
      " 8   acousticness      50 non-null     float64\n",
      " 9   speechiness       50 non-null     float64\n",
      " 10  instrumentalness  50 non-null     float64\n",
      " 11  liveness          50 non-null     float64\n",
      " 12  valence           50 non-null     float64\n",
      " 13  tempo             50 non-null     float64\n",
      " 14  duration_ms       50 non-null     int64  \n",
      " 15  genre             50 non-null     object \n",
      "dtypes: float64(9), int64(2), object(5)\n",
      "memory usage: 6.4+ KB\n"
     ]
    }
   ],
   "source": [
    "print('How many features this dataset has?')\n",
    "df.info()"
   ]
  },
  {
   "cell_type": "code",
   "execution_count": 312,
   "id": "064b78ce-c2c1-41e1-83d3-63f5c8d09293",
   "metadata": {},
   "outputs": [
    {
     "name": "stdout",
     "output_type": "stream",
     "text": [
      "PlaceInTop            int64\n",
      "artist               object\n",
      "album                object\n",
      "track_name           object\n",
      "track_id             object\n",
      "energy              float64\n",
      "danceability        float64\n",
      "key                   int64\n",
      "loudness            float64\n",
      "acousticness        float64\n",
      "speechiness         float64\n",
      "instrumentalness    float64\n",
      "liveness            float64\n",
      "valence             float64\n",
      "tempo               float64\n",
      "duration_ms           int64\n",
      "genre                object\n",
      "dtype: object\n",
      "\n",
      "Which of the features are categorical?\n",
      "Categorical: ['artist', 'album', 'track_name', 'track_id', 'genre']\n",
      "\n",
      "Which of the features are numeric?\n",
      "Numeric: ['energy', 'danceability', 'loudness', 'acousticness', 'speechiness', 'instrumentalness', 'liveness', 'valence', 'tempo', 'duration_ms']\n"
     ]
    }
   ],
   "source": [
    "print(df.dtypes)\n",
    "print('\\nWhich of the features are categorical?')\n",
    "categorical_feat = ['artist','album', 'track_name', 'track_id', 'genre']\n",
    "print('Categorical:', categorical_feat)\n",
    "\n",
    "print('\\nWhich of the features are numeric?')\n",
    "numeric_feat = ['energy','danceability','loudness','acousticness','speechiness',\n",
    "                'instrumentalness','liveness','valence','tempo','duration_ms']\n",
    "print('Numeric:', numeric_feat)"
   ]
  },
  {
   "cell_type": "code",
   "execution_count": 289,
   "id": "81927a05-8188-47dc-8027-39553e3bb1d6",
   "metadata": {},
   "outputs": [
    {
     "name": "stdout",
     "output_type": "stream",
     "text": [
      "Are there any artists that have more than 1 popular track? If yes, which and how many?\n",
      "\n",
      "There are 7 artists with 1+ popular tracks\n"
     ]
    },
    {
     "data": {
      "text/html": [
       "<div>\n",
       "<style scoped>\n",
       "    .dataframe tbody tr th:only-of-type {\n",
       "        vertical-align: middle;\n",
       "    }\n",
       "\n",
       "    .dataframe tbody tr th {\n",
       "        vertical-align: top;\n",
       "    }\n",
       "\n",
       "    .dataframe thead th {\n",
       "        text-align: right;\n",
       "    }\n",
       "</style>\n",
       "<table border=\"1\" class=\"dataframe\">\n",
       "  <thead>\n",
       "    <tr style=\"text-align: right;\">\n",
       "      <th></th>\n",
       "      <th>Tracks</th>\n",
       "    </tr>\n",
       "    <tr>\n",
       "      <th>artist</th>\n",
       "      <th></th>\n",
       "    </tr>\n",
       "  </thead>\n",
       "  <tbody>\n",
       "    <tr>\n",
       "      <th>Billie Eilish</th>\n",
       "      <td>3</td>\n",
       "    </tr>\n",
       "    <tr>\n",
       "      <th>Dua Lipa</th>\n",
       "      <td>3</td>\n",
       "    </tr>\n",
       "    <tr>\n",
       "      <th>Harry Styles</th>\n",
       "      <td>2</td>\n",
       "    </tr>\n",
       "    <tr>\n",
       "      <th>Justin Bieber</th>\n",
       "      <td>2</td>\n",
       "    </tr>\n",
       "    <tr>\n",
       "      <th>Lewis Capaldi</th>\n",
       "      <td>2</td>\n",
       "    </tr>\n",
       "    <tr>\n",
       "      <th>Post Malone</th>\n",
       "      <td>2</td>\n",
       "    </tr>\n",
       "    <tr>\n",
       "      <th>Travis Scott</th>\n",
       "      <td>3</td>\n",
       "    </tr>\n",
       "  </tbody>\n",
       "</table>\n",
       "</div>"
      ],
      "text/plain": [
       "               Tracks\n",
       "artist               \n",
       "Billie Eilish       3\n",
       "Dua Lipa            3\n",
       "Harry Styles        2\n",
       "Justin Bieber       2\n",
       "Lewis Capaldi       2\n",
       "Post Malone         2\n",
       "Travis Scott        3"
      ]
     },
     "execution_count": 289,
     "metadata": {},
     "output_type": "execute_result"
    }
   ],
   "source": [
    "print('Are there any artists that have more than 1 popular track? If yes, which and how many?\\n')\n",
    "\n",
    "artists = df.groupby('artist').agg(Tracks=('track_id','count'))\n",
    "artists_multiple_tracks = artists[artists.Tracks > 1]\n",
    "\n",
    "print('There are', len(artists_multiple_tracks), 'artists with 1+ popular tracks')\n",
    "artists_multiple_tracks"
   ]
  },
  {
   "cell_type": "code",
   "execution_count": 290,
   "id": "124516dc-04f7-43f9-8700-24bdc408127d",
   "metadata": {},
   "outputs": [
    {
     "name": "stdout",
     "output_type": "stream",
     "text": [
      "Who was the most popular artist?\n"
     ]
    },
    {
     "data": {
      "text/html": [
       "<div>\n",
       "<style scoped>\n",
       "    .dataframe tbody tr th:only-of-type {\n",
       "        vertical-align: middle;\n",
       "    }\n",
       "\n",
       "    .dataframe tbody tr th {\n",
       "        vertical-align: top;\n",
       "    }\n",
       "\n",
       "    .dataframe thead th {\n",
       "        text-align: right;\n",
       "    }\n",
       "</style>\n",
       "<table border=\"1\" class=\"dataframe\">\n",
       "  <thead>\n",
       "    <tr style=\"text-align: right;\">\n",
       "      <th></th>\n",
       "      <th>PlaceInTop</th>\n",
       "      <th>artist</th>\n",
       "      <th>album</th>\n",
       "      <th>track_name</th>\n",
       "      <th>track_id</th>\n",
       "      <th>energy</th>\n",
       "      <th>danceability</th>\n",
       "      <th>key</th>\n",
       "      <th>loudness</th>\n",
       "      <th>acousticness</th>\n",
       "      <th>speechiness</th>\n",
       "      <th>instrumentalness</th>\n",
       "      <th>liveness</th>\n",
       "      <th>valence</th>\n",
       "      <th>tempo</th>\n",
       "      <th>duration_ms</th>\n",
       "      <th>genre</th>\n",
       "    </tr>\n",
       "  </thead>\n",
       "  <tbody>\n",
       "    <tr>\n",
       "      <th>0</th>\n",
       "      <td>0</td>\n",
       "      <td>The Weeknd</td>\n",
       "      <td>After Hours</td>\n",
       "      <td>Blinding Lights</td>\n",
       "      <td>0VjIjW4GlUZAMYd2vXMi3b</td>\n",
       "      <td>0.730</td>\n",
       "      <td>0.514</td>\n",
       "      <td>1</td>\n",
       "      <td>-5.934</td>\n",
       "      <td>0.00146</td>\n",
       "      <td>0.0598</td>\n",
       "      <td>0.000095</td>\n",
       "      <td>0.0897</td>\n",
       "      <td>0.334</td>\n",
       "      <td>171.005</td>\n",
       "      <td>200040</td>\n",
       "      <td>R&amp;B/Soul</td>\n",
       "    </tr>\n",
       "    <tr>\n",
       "      <th>1</th>\n",
       "      <td>1</td>\n",
       "      <td>Tones And I</td>\n",
       "      <td>Dance Monkey</td>\n",
       "      <td>Dance Monkey</td>\n",
       "      <td>1rgnBhdG2JDFTbYkYRZAku</td>\n",
       "      <td>0.593</td>\n",
       "      <td>0.825</td>\n",
       "      <td>6</td>\n",
       "      <td>-6.401</td>\n",
       "      <td>0.68800</td>\n",
       "      <td>0.0988</td>\n",
       "      <td>0.000161</td>\n",
       "      <td>0.1700</td>\n",
       "      <td>0.540</td>\n",
       "      <td>98.078</td>\n",
       "      <td>209755</td>\n",
       "      <td>Alternative/Indie</td>\n",
       "    </tr>\n",
       "  </tbody>\n",
       "</table>\n",
       "</div>"
      ],
      "text/plain": [
       "   PlaceInTop       artist         album       track_name  \\\n",
       "0           0   The Weeknd   After Hours  Blinding Lights   \n",
       "1           1  Tones And I  Dance Monkey     Dance Monkey   \n",
       "\n",
       "                 track_id  energy  danceability  key  loudness  acousticness  \\\n",
       "0  0VjIjW4GlUZAMYd2vXMi3b   0.730         0.514    1    -5.934       0.00146   \n",
       "1  1rgnBhdG2JDFTbYkYRZAku   0.593         0.825    6    -6.401       0.68800   \n",
       "\n",
       "   speechiness  instrumentalness  liveness  valence    tempo  duration_ms  \\\n",
       "0       0.0598          0.000095    0.0897    0.334  171.005       200040   \n",
       "1       0.0988          0.000161    0.1700    0.540   98.078       209755   \n",
       "\n",
       "               genre  \n",
       "0           R&B/Soul  \n",
       "1  Alternative/Indie  "
      ]
     },
     "execution_count": 290,
     "metadata": {},
     "output_type": "execute_result"
    }
   ],
   "source": [
    "print('Who was the most popular artist?')\n",
    "df = df.reset_index()\n",
    "df = df.rename(columns = {'index': 'PlaceInTop'})\n",
    "df.head(2)"
   ]
  },
  {
   "cell_type": "code",
   "execution_count": 291,
   "id": "7a777523-a876-4199-8441-8559d416eab3",
   "metadata": {},
   "outputs": [
    {
     "name": "stdout",
     "output_type": "stream",
     "text": [
      "Most popular artist in the 1st TOP 50 pozition is:\n"
     ]
    },
    {
     "data": {
      "text/plain": [
       "'The Weeknd'"
      ]
     },
     "execution_count": 291,
     "metadata": {},
     "output_type": "execute_result"
    }
   ],
   "source": [
    "print('Most popular artist in the 1st TOP 50 pozition is:')\n",
    "df.loc[0]['artist']"
   ]
  },
  {
   "cell_type": "code",
   "execution_count": 292,
   "id": "f712af6e-9805-4349-9301-9b4caf531dad",
   "metadata": {},
   "outputs": [
    {
     "data": {
      "text/plain": [
       "'The Weeknd'"
      ]
     },
     "execution_count": 292,
     "metadata": {},
     "output_type": "execute_result"
    }
   ],
   "source": [
    "df['ArtistRank'] = df['PlaceInTop'].rank(method='max')\n",
    "df.sort_values(by='ArtistRank', ascending = True).loc[0]['artist']"
   ]
  },
  {
   "cell_type": "code",
   "execution_count": 293,
   "id": "53b23fe2-5e3b-4570-82e6-20145548b081",
   "metadata": {},
   "outputs": [
    {
     "name": "stdout",
     "output_type": "stream",
     "text": [
      "How many artists in total have their songs in the top 50?\n",
      "There are 40 unique artists in Top 50\n"
     ]
    }
   ],
   "source": [
    "print('How many artists in total have their songs in the top 50?')\n",
    "print('There are',len(df.artist.unique()), 'unique artists in Top 50')"
   ]
  },
  {
   "cell_type": "code",
   "execution_count": 294,
   "id": "409e99fc-ce7d-4f4c-b846-14dbf6d32b89",
   "metadata": {},
   "outputs": [
    {
     "name": "stdout",
     "output_type": "stream",
     "text": [
      "Are there any albums that have more than 1 popular track? If yes, which and how many?\n",
      "There are 45 albums with 1 or more popular tracks\n"
     ]
    },
    {
     "data": {
      "text/html": [
       "<div>\n",
       "<style scoped>\n",
       "    .dataframe tbody tr th:only-of-type {\n",
       "        vertical-align: middle;\n",
       "    }\n",
       "\n",
       "    .dataframe tbody tr th {\n",
       "        vertical-align: top;\n",
       "    }\n",
       "\n",
       "    .dataframe thead th {\n",
       "        text-align: right;\n",
       "    }\n",
       "</style>\n",
       "<table border=\"1\" class=\"dataframe\">\n",
       "  <thead>\n",
       "    <tr style=\"text-align: right;\">\n",
       "      <th></th>\n",
       "      <th>Tracks</th>\n",
       "    </tr>\n",
       "    <tr>\n",
       "      <th>album</th>\n",
       "      <th></th>\n",
       "    </tr>\n",
       "  </thead>\n",
       "  <tbody>\n",
       "    <tr>\n",
       "      <th>Changes</th>\n",
       "      <td>2</td>\n",
       "    </tr>\n",
       "    <tr>\n",
       "      <th>Fine Line</th>\n",
       "      <td>2</td>\n",
       "    </tr>\n",
       "    <tr>\n",
       "      <th>Future Nostalgia</th>\n",
       "      <td>3</td>\n",
       "    </tr>\n",
       "    <tr>\n",
       "      <th>Hollywood's Bleeding</th>\n",
       "      <td>2</td>\n",
       "    </tr>\n",
       "  </tbody>\n",
       "</table>\n",
       "</div>"
      ],
      "text/plain": [
       "                      Tracks\n",
       "album                       \n",
       "Changes                    2\n",
       "Fine Line                  2\n",
       "Future Nostalgia           3\n",
       "Hollywood's Bleeding       2"
      ]
     },
     "execution_count": 294,
     "metadata": {},
     "output_type": "execute_result"
    }
   ],
   "source": [
    "print('Are there any albums that have more than 1 popular track? If yes, which and how many?')\n",
    "albums_tracks = df.groupby('album').agg(Tracks=('track_id','count'))\n",
    "albums_tracks_1plus = albums_tracks[albums_tracks.Tracks > 1]\n",
    "print('There are', len(albums_tracks), 'albums with 1 or more popular tracks')\n",
    "albums_tracks_1plus"
   ]
  },
  {
   "cell_type": "code",
   "execution_count": 295,
   "id": "82b9c97e-ff3d-46c0-9bce-b138c2aeec7d",
   "metadata": {},
   "outputs": [
    {
     "name": "stdout",
     "output_type": "stream",
     "text": [
      "How many albums in total have their songs in the top 50?\n"
     ]
    },
    {
     "data": {
      "text/plain": [
       "45"
      ]
     },
     "execution_count": 295,
     "metadata": {},
     "output_type": "execute_result"
    }
   ],
   "source": [
    "print('How many albums in total have their songs in the top 50?')\n",
    "len(df.album.unique())"
   ]
  },
  {
   "cell_type": "code",
   "execution_count": 296,
   "id": "2404a3ae-333b-4cf9-a9c8-526bbd2ec71d",
   "metadata": {},
   "outputs": [
    {
     "name": "stdout",
     "output_type": "stream",
     "text": [
      "Which tracks have a danceability score above 0.7?\n"
     ]
    },
    {
     "data": {
      "text/plain": [
       "['Dance Monkey',\n",
       " 'The Box',\n",
       " 'Roses - Imanbek Remix',\n",
       " \"Don't Start Now\",\n",
       " 'ROCKSTAR (feat. Roddy Ricch)',\n",
       " 'death bed (coffee for your head)',\n",
       " 'Falling',\n",
       " 'Tusa',\n",
       " 'Blueberry Faygo',\n",
       " 'Intentions (feat. Quavo)',\n",
       " 'Toosie Slide',\n",
       " 'Say So',\n",
       " 'Memories',\n",
       " 'Life Is Good (feat. Drake)',\n",
       " 'Savage Love (Laxed - Siren Beat)',\n",
       " 'Breaking Me',\n",
       " 'everything i wanted',\n",
       " 'Señorita',\n",
       " 'bad guy',\n",
       " 'WAP (feat. Megan Thee Stallion)',\n",
       " 'Sunday Best',\n",
       " 'Godzilla (feat. Juice WRLD)',\n",
       " 'Break My Heart',\n",
       " 'Dynamite',\n",
       " 'Supalonely (feat. Gus Dapperton)',\n",
       " 'Sunflower - Spider-Man: Into the Spider-Verse',\n",
       " 'Hawái',\n",
       " 'Ride It',\n",
       " 'goosebumps',\n",
       " 'RITMO (Bad Boys For Life)',\n",
       " 'THE SCOTTS',\n",
       " 'SICKO MODE']"
      ]
     },
     "execution_count": 296,
     "metadata": {},
     "output_type": "execute_result"
    }
   ],
   "source": [
    "print('Which tracks have a danceability score above 0.7?')\n",
    "list(df[df.danceability > 0.7].track_name.unique())"
   ]
  },
  {
   "cell_type": "code",
   "execution_count": 297,
   "id": "cd0449c7-b4a8-48f1-9df3-542f5e18ac21",
   "metadata": {},
   "outputs": [
    {
     "name": "stdout",
     "output_type": "stream",
     "text": [
      "Which tracks have a danceability score below 0.4?\n"
     ]
    },
    {
     "data": {
      "text/plain": [
       "['lovely (with Khalid)']"
      ]
     },
     "execution_count": 297,
     "metadata": {},
     "output_type": "execute_result"
    }
   ],
   "source": [
    "print('Which tracks have a danceability score below 0.4?')\n",
    "list(df[df.danceability < 0.4].track_name.unique())"
   ]
  },
  {
   "cell_type": "code",
   "execution_count": 298,
   "id": "65e1664f-23b6-4fd3-b4b1-beb4e17621e5",
   "metadata": {},
   "outputs": [
    {
     "name": "stdout",
     "output_type": "stream",
     "text": [
      "Which tracks have their loudness above -5?\n"
     ]
    },
    {
     "data": {
      "text/html": [
       "<div>\n",
       "<style scoped>\n",
       "    .dataframe tbody tr th:only-of-type {\n",
       "        vertical-align: middle;\n",
       "    }\n",
       "\n",
       "    .dataframe tbody tr th {\n",
       "        vertical-align: top;\n",
       "    }\n",
       "\n",
       "    .dataframe thead th {\n",
       "        text-align: right;\n",
       "    }\n",
       "</style>\n",
       "<table border=\"1\" class=\"dataframe\">\n",
       "  <thead>\n",
       "    <tr style=\"text-align: right;\">\n",
       "      <th></th>\n",
       "      <th>track_name</th>\n",
       "      <th>loudness</th>\n",
       "    </tr>\n",
       "  </thead>\n",
       "  <tbody>\n",
       "    <tr>\n",
       "      <th>4</th>\n",
       "      <td>Don't Start Now</td>\n",
       "      <td>-4.521</td>\n",
       "    </tr>\n",
       "    <tr>\n",
       "      <th>6</th>\n",
       "      <td>Watermelon Sugar</td>\n",
       "      <td>-4.209</td>\n",
       "    </tr>\n",
       "    <tr>\n",
       "      <th>10</th>\n",
       "      <td>Tusa</td>\n",
       "      <td>-3.280</td>\n",
       "    </tr>\n",
       "    <tr>\n",
       "      <th>12</th>\n",
       "      <td>Circles</td>\n",
       "      <td>-3.497</td>\n",
       "    </tr>\n",
       "    <tr>\n",
       "      <th>16</th>\n",
       "      <td>Before You Go</td>\n",
       "      <td>-4.858</td>\n",
       "    </tr>\n",
       "    <tr>\n",
       "      <th>17</th>\n",
       "      <td>Say So</td>\n",
       "      <td>-4.577</td>\n",
       "    </tr>\n",
       "    <tr>\n",
       "      <th>21</th>\n",
       "      <td>Adore You</td>\n",
       "      <td>-3.675</td>\n",
       "    </tr>\n",
       "    <tr>\n",
       "      <th>23</th>\n",
       "      <td>Mood (feat. iann dior)</td>\n",
       "      <td>-3.558</td>\n",
       "    </tr>\n",
       "    <tr>\n",
       "      <th>31</th>\n",
       "      <td>Break My Heart</td>\n",
       "      <td>-3.434</td>\n",
       "    </tr>\n",
       "    <tr>\n",
       "      <th>32</th>\n",
       "      <td>Dynamite</td>\n",
       "      <td>-4.410</td>\n",
       "    </tr>\n",
       "    <tr>\n",
       "      <th>33</th>\n",
       "      <td>Supalonely (feat. Gus Dapperton)</td>\n",
       "      <td>-4.746</td>\n",
       "    </tr>\n",
       "    <tr>\n",
       "      <th>35</th>\n",
       "      <td>Rain On Me (with Ariana Grande)</td>\n",
       "      <td>-3.764</td>\n",
       "    </tr>\n",
       "    <tr>\n",
       "      <th>37</th>\n",
       "      <td>Sunflower - Spider-Man: Into the Spider-Verse</td>\n",
       "      <td>-4.368</td>\n",
       "    </tr>\n",
       "    <tr>\n",
       "      <th>38</th>\n",
       "      <td>Hawái</td>\n",
       "      <td>-3.454</td>\n",
       "    </tr>\n",
       "    <tr>\n",
       "      <th>39</th>\n",
       "      <td>Ride It</td>\n",
       "      <td>-4.258</td>\n",
       "    </tr>\n",
       "    <tr>\n",
       "      <th>40</th>\n",
       "      <td>goosebumps</td>\n",
       "      <td>-3.370</td>\n",
       "    </tr>\n",
       "    <tr>\n",
       "      <th>43</th>\n",
       "      <td>Safaera</td>\n",
       "      <td>-4.074</td>\n",
       "    </tr>\n",
       "    <tr>\n",
       "      <th>48</th>\n",
       "      <td>Physical</td>\n",
       "      <td>-3.756</td>\n",
       "    </tr>\n",
       "    <tr>\n",
       "      <th>49</th>\n",
       "      <td>SICKO MODE</td>\n",
       "      <td>-3.714</td>\n",
       "    </tr>\n",
       "  </tbody>\n",
       "</table>\n",
       "</div>"
      ],
      "text/plain": [
       "                                       track_name  loudness\n",
       "4                                 Don't Start Now    -4.521\n",
       "6                                Watermelon Sugar    -4.209\n",
       "10                                           Tusa    -3.280\n",
       "12                                        Circles    -3.497\n",
       "16                                  Before You Go    -4.858\n",
       "17                                         Say So    -4.577\n",
       "21                                      Adore You    -3.675\n",
       "23                         Mood (feat. iann dior)    -3.558\n",
       "31                                 Break My Heart    -3.434\n",
       "32                                       Dynamite    -4.410\n",
       "33               Supalonely (feat. Gus Dapperton)    -4.746\n",
       "35                Rain On Me (with Ariana Grande)    -3.764\n",
       "37  Sunflower - Spider-Man: Into the Spider-Verse    -4.368\n",
       "38                                          Hawái    -3.454\n",
       "39                                        Ride It    -4.258\n",
       "40                                     goosebumps    -3.370\n",
       "43                                        Safaera    -4.074\n",
       "48                                       Physical    -3.756\n",
       "49                                     SICKO MODE    -3.714"
      ]
     },
     "execution_count": 298,
     "metadata": {},
     "output_type": "execute_result"
    }
   ],
   "source": [
    "print('Which tracks have their loudness above -5?')\n",
    "df[df.loudness > -5][['track_name','loudness']]\n",
    "#list(df[df.loudness > -5].track_name.unique())"
   ]
  },
  {
   "cell_type": "code",
   "execution_count": 299,
   "id": "918be643-0b9a-4b6f-84b9-696ed01f3b42",
   "metadata": {},
   "outputs": [
    {
     "name": "stdout",
     "output_type": "stream",
     "text": [
      "Which tracks have their loudness below -8?\n"
     ]
    },
    {
     "data": {
      "text/html": [
       "<div>\n",
       "<style scoped>\n",
       "    .dataframe tbody tr th:only-of-type {\n",
       "        vertical-align: middle;\n",
       "    }\n",
       "\n",
       "    .dataframe tbody tr th {\n",
       "        vertical-align: top;\n",
       "    }\n",
       "\n",
       "    .dataframe thead th {\n",
       "        text-align: right;\n",
       "    }\n",
       "</style>\n",
       "<table border=\"1\" class=\"dataframe\">\n",
       "  <thead>\n",
       "    <tr style=\"text-align: right;\">\n",
       "      <th></th>\n",
       "      <th>track_name</th>\n",
       "      <th>loudness</th>\n",
       "    </tr>\n",
       "  </thead>\n",
       "  <tbody>\n",
       "    <tr>\n",
       "      <th>7</th>\n",
       "      <td>death bed (coffee for your head)</td>\n",
       "      <td>-8.765</td>\n",
       "    </tr>\n",
       "    <tr>\n",
       "      <th>8</th>\n",
       "      <td>Falling</td>\n",
       "      <td>-8.756</td>\n",
       "    </tr>\n",
       "    <tr>\n",
       "      <th>15</th>\n",
       "      <td>Toosie Slide</td>\n",
       "      <td>-8.820</td>\n",
       "    </tr>\n",
       "    <tr>\n",
       "      <th>20</th>\n",
       "      <td>Savage Love (Laxed - Siren Beat)</td>\n",
       "      <td>-8.520</td>\n",
       "    </tr>\n",
       "    <tr>\n",
       "      <th>24</th>\n",
       "      <td>everything i wanted</td>\n",
       "      <td>-14.454</td>\n",
       "    </tr>\n",
       "    <tr>\n",
       "      <th>26</th>\n",
       "      <td>bad guy</td>\n",
       "      <td>-10.965</td>\n",
       "    </tr>\n",
       "    <tr>\n",
       "      <th>36</th>\n",
       "      <td>HIGHEST IN THE ROOM</td>\n",
       "      <td>-8.764</td>\n",
       "    </tr>\n",
       "    <tr>\n",
       "      <th>44</th>\n",
       "      <td>lovely (with Khalid)</td>\n",
       "      <td>-10.109</td>\n",
       "    </tr>\n",
       "    <tr>\n",
       "      <th>47</th>\n",
       "      <td>If the World Was Ending - feat. Julia Michaels</td>\n",
       "      <td>-10.086</td>\n",
       "    </tr>\n",
       "  </tbody>\n",
       "</table>\n",
       "</div>"
      ],
      "text/plain": [
       "                                        track_name  loudness\n",
       "7                 death bed (coffee for your head)    -8.765\n",
       "8                                          Falling    -8.756\n",
       "15                                    Toosie Slide    -8.820\n",
       "20                Savage Love (Laxed - Siren Beat)    -8.520\n",
       "24                             everything i wanted   -14.454\n",
       "26                                         bad guy   -10.965\n",
       "36                             HIGHEST IN THE ROOM    -8.764\n",
       "44                            lovely (with Khalid)   -10.109\n",
       "47  If the World Was Ending - feat. Julia Michaels   -10.086"
      ]
     },
     "execution_count": 299,
     "metadata": {},
     "output_type": "execute_result"
    }
   ],
   "source": [
    "print('Which tracks have their loudness below -8?')\n",
    "df[df.loudness < -8][['track_name','loudness']]"
   ]
  },
  {
   "cell_type": "code",
   "execution_count": 300,
   "id": "7d33e2c0-cea9-44af-94c5-b8134ff878b8",
   "metadata": {},
   "outputs": [
    {
     "name": "stdout",
     "output_type": "stream",
     "text": [
      "Which track is the longest?\n"
     ]
    },
    {
     "data": {
      "text/html": [
       "<div>\n",
       "<style scoped>\n",
       "    .dataframe tbody tr th:only-of-type {\n",
       "        vertical-align: middle;\n",
       "    }\n",
       "\n",
       "    .dataframe tbody tr th {\n",
       "        vertical-align: top;\n",
       "    }\n",
       "\n",
       "    .dataframe thead th {\n",
       "        text-align: right;\n",
       "    }\n",
       "</style>\n",
       "<table border=\"1\" class=\"dataframe\">\n",
       "  <thead>\n",
       "    <tr style=\"text-align: right;\">\n",
       "      <th></th>\n",
       "      <th>track_name</th>\n",
       "      <th>duration_ms</th>\n",
       "    </tr>\n",
       "  </thead>\n",
       "  <tbody>\n",
       "    <tr>\n",
       "      <th>49</th>\n",
       "      <td>SICKO MODE</td>\n",
       "      <td>312820</td>\n",
       "    </tr>\n",
       "  </tbody>\n",
       "</table>\n",
       "</div>"
      ],
      "text/plain": [
       "    track_name  duration_ms\n",
       "49  SICKO MODE       312820"
      ]
     },
     "execution_count": 300,
     "metadata": {},
     "output_type": "execute_result"
    }
   ],
   "source": [
    "print('Which track is the longest?')\n",
    "df[df.duration_ms == df.duration_ms.max()][['track_name','duration_ms']]"
   ]
  },
  {
   "cell_type": "code",
   "execution_count": 301,
   "id": "efd76f83-34e5-45dd-8576-953ebe5f5d9d",
   "metadata": {},
   "outputs": [
    {
     "name": "stdout",
     "output_type": "stream",
     "text": [
      "Which track is the shortest?\n"
     ]
    },
    {
     "data": {
      "text/html": [
       "<div>\n",
       "<style scoped>\n",
       "    .dataframe tbody tr th:only-of-type {\n",
       "        vertical-align: middle;\n",
       "    }\n",
       "\n",
       "    .dataframe tbody tr th {\n",
       "        vertical-align: top;\n",
       "    }\n",
       "\n",
       "    .dataframe thead th {\n",
       "        text-align: right;\n",
       "    }\n",
       "</style>\n",
       "<table border=\"1\" class=\"dataframe\">\n",
       "  <thead>\n",
       "    <tr style=\"text-align: right;\">\n",
       "      <th></th>\n",
       "      <th>track_name</th>\n",
       "      <th>duration_ms</th>\n",
       "    </tr>\n",
       "  </thead>\n",
       "  <tbody>\n",
       "    <tr>\n",
       "      <th>23</th>\n",
       "      <td>Mood (feat. iann dior)</td>\n",
       "      <td>140526</td>\n",
       "    </tr>\n",
       "  </tbody>\n",
       "</table>\n",
       "</div>"
      ],
      "text/plain": [
       "                track_name  duration_ms\n",
       "23  Mood (feat. iann dior)       140526"
      ]
     },
     "execution_count": 301,
     "metadata": {},
     "output_type": "execute_result"
    }
   ],
   "source": [
    "print('Which track is the shortest?')\n",
    "df[df.duration_ms == df.duration_ms.min()][['track_name','duration_ms']]"
   ]
  },
  {
   "cell_type": "code",
   "execution_count": 302,
   "id": "5a03f1b7-e751-4cde-b46d-635ba55f52bd",
   "metadata": {},
   "outputs": [
    {
     "name": "stdout",
     "output_type": "stream",
     "text": [
      "Which genre is the most popular?\n"
     ]
    },
    {
     "data": {
      "text/html": [
       "<div>\n",
       "<style scoped>\n",
       "    .dataframe tbody tr th:only-of-type {\n",
       "        vertical-align: middle;\n",
       "    }\n",
       "\n",
       "    .dataframe tbody tr th {\n",
       "        vertical-align: top;\n",
       "    }\n",
       "\n",
       "    .dataframe thead th {\n",
       "        text-align: right;\n",
       "    }\n",
       "</style>\n",
       "<table border=\"1\" class=\"dataframe\">\n",
       "  <thead>\n",
       "    <tr style=\"text-align: right;\">\n",
       "      <th></th>\n",
       "      <th>Occur</th>\n",
       "    </tr>\n",
       "    <tr>\n",
       "      <th>genre</th>\n",
       "      <th></th>\n",
       "    </tr>\n",
       "  </thead>\n",
       "  <tbody>\n",
       "    <tr>\n",
       "      <th>Pop</th>\n",
       "      <td>14</td>\n",
       "    </tr>\n",
       "  </tbody>\n",
       "</table>\n",
       "</div>"
      ],
      "text/plain": [
       "       Occur\n",
       "genre       \n",
       "Pop       14"
      ]
     },
     "execution_count": 302,
     "metadata": {},
     "output_type": "execute_result"
    }
   ],
   "source": [
    "print('Which genre is the most popular?')\n",
    "genre_popularity = df.groupby('genre').agg(Occur=('track_id','count'))\n",
    "genre_popularity[genre_popularity.Occur == genre_popularity.Occur.max()]"
   ]
  },
  {
   "cell_type": "code",
   "execution_count": 303,
   "id": "4d4a9486-a286-4d9a-a540-ab8b9967e914",
   "metadata": {},
   "outputs": [
    {
     "name": "stdout",
     "output_type": "stream",
     "text": [
      "Which genres have just one song on the top 50?\n"
     ]
    },
    {
     "data": {
      "text/html": [
       "<div>\n",
       "<style scoped>\n",
       "    .dataframe tbody tr th:only-of-type {\n",
       "        vertical-align: middle;\n",
       "    }\n",
       "\n",
       "    .dataframe tbody tr th {\n",
       "        vertical-align: top;\n",
       "    }\n",
       "\n",
       "    .dataframe thead th {\n",
       "        text-align: right;\n",
       "    }\n",
       "</style>\n",
       "<table border=\"1\" class=\"dataframe\">\n",
       "  <thead>\n",
       "    <tr style=\"text-align: right;\">\n",
       "      <th></th>\n",
       "      <th>Occur</th>\n",
       "    </tr>\n",
       "    <tr>\n",
       "      <th>genre</th>\n",
       "      <th></th>\n",
       "    </tr>\n",
       "  </thead>\n",
       "  <tbody>\n",
       "    <tr>\n",
       "      <th>Alternative/reggaeton/experimental</th>\n",
       "      <td>1</td>\n",
       "    </tr>\n",
       "    <tr>\n",
       "      <th>Chamber pop</th>\n",
       "      <td>1</td>\n",
       "    </tr>\n",
       "    <tr>\n",
       "      <th>Dance-pop/Disco</th>\n",
       "      <td>1</td>\n",
       "    </tr>\n",
       "    <tr>\n",
       "      <th>Disco-pop</th>\n",
       "      <td>1</td>\n",
       "    </tr>\n",
       "    <tr>\n",
       "      <th>Dreampop/Hip-Hop/R&amp;B</th>\n",
       "      <td>1</td>\n",
       "    </tr>\n",
       "    <tr>\n",
       "      <th>Hip-Hop/Trap</th>\n",
       "      <td>1</td>\n",
       "    </tr>\n",
       "    <tr>\n",
       "      <th>Nu-disco</th>\n",
       "      <td>1</td>\n",
       "    </tr>\n",
       "    <tr>\n",
       "      <th>Pop rap</th>\n",
       "      <td>1</td>\n",
       "    </tr>\n",
       "    <tr>\n",
       "      <th>Pop/Soft Rock</th>\n",
       "      <td>1</td>\n",
       "    </tr>\n",
       "    <tr>\n",
       "      <th>R&amp;B/Hip-Hop alternative</th>\n",
       "      <td>1</td>\n",
       "    </tr>\n",
       "  </tbody>\n",
       "</table>\n",
       "</div>"
      ],
      "text/plain": [
       "                                    Occur\n",
       "genre                                    \n",
       "Alternative/reggaeton/experimental      1\n",
       "Chamber pop                             1\n",
       "Dance-pop/Disco                         1\n",
       "Disco-pop                               1\n",
       "Dreampop/Hip-Hop/R&B                    1\n",
       "Hip-Hop/Trap                            1\n",
       "Nu-disco                                1\n",
       "Pop rap                                 1\n",
       "Pop/Soft Rock                           1\n",
       "R&B/Hip-Hop alternative                 1"
      ]
     },
     "execution_count": 303,
     "metadata": {},
     "output_type": "execute_result"
    }
   ],
   "source": [
    "print('Which genres have just one song on the top 50?')\n",
    "genre_popularity[genre_popularity.Occur == 1]"
   ]
  },
  {
   "cell_type": "code",
   "execution_count": 304,
   "id": "8f471f4c-33e5-4516-b51c-58e32086f2f1",
   "metadata": {},
   "outputs": [
    {
     "name": "stdout",
     "output_type": "stream",
     "text": [
      "How many genres in total are represented in the top 50?\n"
     ]
    },
    {
     "data": {
      "text/plain": [
       "16"
      ]
     },
     "execution_count": 304,
     "metadata": {},
     "output_type": "execute_result"
    }
   ],
   "source": [
    "print('How many genres in total are represented in the top 50?')\n",
    "len(df.genre.unique())"
   ]
  },
  {
   "cell_type": "code",
   "execution_count": 307,
   "id": "942fb4e2-daa4-4763-a7ff-b532a8772014",
   "metadata": {},
   "outputs": [
    {
     "name": "stdout",
     "output_type": "stream",
     "text": [
      "Which features are strongly positively correlated?\n",
      "Which features are strongly negatively correlated?\n"
     ]
    },
    {
     "data": {
      "text/plain": [
       "<AxesSubplot:>"
      ]
     },
     "execution_count": 307,
     "metadata": {},
     "output_type": "execute_result"
    },
    {
     "data": {
      "image/png": "[encoded data removed]",
      "text/plain": [
       "<Figure size 864x504 with 2 Axes>"
      ]
     },
     "metadata": {
      "needs_background": "light"
     },
     "output_type": "display_data"
    }
   ],
   "source": [
    "print('Which features are strongly positively correlated?')\n",
    "print('Which features are strongly negatively correlated?')\n",
    "\n",
    "df = df.drop(columns = ['ArtistRank'])\n",
    "\n",
    "corr_matrix = round(df.corr(),3)\n",
    "fig, ax = plt.subplots(figsize=(12, 7))\n",
    "\n",
    "sns.heatmap(round(df.corr(),3),annot=True,cmap='Blues', fmt='g')"
   ]
  },
  {
   "cell_type": "markdown",
   "id": "7cf4856e-714e-4f94-af4b-1c1ccef156b7",
   "metadata": {},
   "source": [
    "- We found that <b>energy</b> and <b>loudness</b> are strongly positively correlated.\n",
    "- While <b>energy</b> and <b>acousticness</b>, <b>loudness</b> and <b>instrumentalness</b> are strongly negatively correlated"
   ]
  },
  {
   "cell_type": "code",
   "execution_count": 256,
   "id": "8b2ed709-be63-4594-a9cd-212d6eeb578d",
   "metadata": {},
   "outputs": [
    {
     "name": "stdout",
     "output_type": "stream",
     "text": [
      "Which features are not correlated?\n"
     ]
    },
    {
     "data": {
      "text/html": [
       "<div>\n",
       "<style scoped>\n",
       "    .dataframe tbody tr th:only-of-type {\n",
       "        vertical-align: middle;\n",
       "    }\n",
       "\n",
       "    .dataframe tbody tr th {\n",
       "        vertical-align: top;\n",
       "    }\n",
       "\n",
       "    .dataframe thead th {\n",
       "        text-align: right;\n",
       "    }\n",
       "</style>\n",
       "<table border=\"1\" class=\"dataframe\">\n",
       "  <thead>\n",
       "    <tr style=\"text-align: right;\">\n",
       "      <th></th>\n",
       "      <th>energy</th>\n",
       "      <th>danceability</th>\n",
       "      <th>key</th>\n",
       "      <th>loudness</th>\n",
       "      <th>acousticness</th>\n",
       "      <th>speechiness</th>\n",
       "      <th>instrumentalness</th>\n",
       "      <th>liveness</th>\n",
       "      <th>valence</th>\n",
       "      <th>tempo</th>\n",
       "      <th>duration_ms</th>\n",
       "    </tr>\n",
       "  </thead>\n",
       "  <tbody>\n",
       "    <tr>\n",
       "      <th>energy</th>\n",
       "      <td>False</td>\n",
       "      <td>True</td>\n",
       "      <td>True</td>\n",
       "      <td>False</td>\n",
       "      <td>False</td>\n",
       "      <td>True</td>\n",
       "      <td>True</td>\n",
       "      <td>True</td>\n",
       "      <td>True</td>\n",
       "      <td>True</td>\n",
       "      <td>True</td>\n",
       "    </tr>\n",
       "    <tr>\n",
       "      <th>danceability</th>\n",
       "      <td>True</td>\n",
       "      <td>False</td>\n",
       "      <td>True</td>\n",
       "      <td>True</td>\n",
       "      <td>True</td>\n",
       "      <td>True</td>\n",
       "      <td>True</td>\n",
       "      <td>True</td>\n",
       "      <td>False</td>\n",
       "      <td>True</td>\n",
       "      <td>True</td>\n",
       "    </tr>\n",
       "    <tr>\n",
       "      <th>key</th>\n",
       "      <td>True</td>\n",
       "      <td>True</td>\n",
       "      <td>False</td>\n",
       "      <td>True</td>\n",
       "      <td>True</td>\n",
       "      <td>True</td>\n",
       "      <td>True</td>\n",
       "      <td>True</td>\n",
       "      <td>True</td>\n",
       "      <td>True</td>\n",
       "      <td>True</td>\n",
       "    </tr>\n",
       "    <tr>\n",
       "      <th>loudness</th>\n",
       "      <td>False</td>\n",
       "      <td>True</td>\n",
       "      <td>True</td>\n",
       "      <td>False</td>\n",
       "      <td>False</td>\n",
       "      <td>True</td>\n",
       "      <td>False</td>\n",
       "      <td>True</td>\n",
       "      <td>False</td>\n",
       "      <td>True</td>\n",
       "      <td>True</td>\n",
       "    </tr>\n",
       "    <tr>\n",
       "      <th>acousticness</th>\n",
       "      <td>False</td>\n",
       "      <td>True</td>\n",
       "      <td>True</td>\n",
       "      <td>False</td>\n",
       "      <td>False</td>\n",
       "      <td>True</td>\n",
       "      <td>True</td>\n",
       "      <td>True</td>\n",
       "      <td>True</td>\n",
       "      <td>True</td>\n",
       "      <td>True</td>\n",
       "    </tr>\n",
       "    <tr>\n",
       "      <th>speechiness</th>\n",
       "      <td>True</td>\n",
       "      <td>True</td>\n",
       "      <td>True</td>\n",
       "      <td>True</td>\n",
       "      <td>True</td>\n",
       "      <td>False</td>\n",
       "      <td>True</td>\n",
       "      <td>True</td>\n",
       "      <td>True</td>\n",
       "      <td>True</td>\n",
       "      <td>True</td>\n",
       "    </tr>\n",
       "    <tr>\n",
       "      <th>instrumentalness</th>\n",
       "      <td>True</td>\n",
       "      <td>True</td>\n",
       "      <td>True</td>\n",
       "      <td>False</td>\n",
       "      <td>True</td>\n",
       "      <td>True</td>\n",
       "      <td>False</td>\n",
       "      <td>True</td>\n",
       "      <td>True</td>\n",
       "      <td>True</td>\n",
       "      <td>True</td>\n",
       "    </tr>\n",
       "    <tr>\n",
       "      <th>liveness</th>\n",
       "      <td>True</td>\n",
       "      <td>True</td>\n",
       "      <td>True</td>\n",
       "      <td>True</td>\n",
       "      <td>True</td>\n",
       "      <td>True</td>\n",
       "      <td>True</td>\n",
       "      <td>False</td>\n",
       "      <td>True</td>\n",
       "      <td>True</td>\n",
       "      <td>True</td>\n",
       "    </tr>\n",
       "    <tr>\n",
       "      <th>valence</th>\n",
       "      <td>True</td>\n",
       "      <td>False</td>\n",
       "      <td>True</td>\n",
       "      <td>False</td>\n",
       "      <td>True</td>\n",
       "      <td>True</td>\n",
       "      <td>True</td>\n",
       "      <td>True</td>\n",
       "      <td>False</td>\n",
       "      <td>True</td>\n",
       "      <td>True</td>\n",
       "    </tr>\n",
       "    <tr>\n",
       "      <th>tempo</th>\n",
       "      <td>True</td>\n",
       "      <td>True</td>\n",
       "      <td>True</td>\n",
       "      <td>True</td>\n",
       "      <td>True</td>\n",
       "      <td>True</td>\n",
       "      <td>True</td>\n",
       "      <td>True</td>\n",
       "      <td>True</td>\n",
       "      <td>False</td>\n",
       "      <td>True</td>\n",
       "    </tr>\n",
       "    <tr>\n",
       "      <th>duration_ms</th>\n",
       "      <td>True</td>\n",
       "      <td>True</td>\n",
       "      <td>True</td>\n",
       "      <td>True</td>\n",
       "      <td>True</td>\n",
       "      <td>True</td>\n",
       "      <td>True</td>\n",
       "      <td>True</td>\n",
       "      <td>True</td>\n",
       "      <td>True</td>\n",
       "      <td>False</td>\n",
       "    </tr>\n",
       "  </tbody>\n",
       "</table>\n",
       "</div>"
      ],
      "text/plain": [
       "                  energy  danceability    key  loudness  acousticness  \\\n",
       "energy             False          True   True     False         False   \n",
       "danceability        True         False   True      True          True   \n",
       "key                 True          True  False      True          True   \n",
       "loudness           False          True   True     False         False   \n",
       "acousticness       False          True   True     False         False   \n",
       "speechiness         True          True   True      True          True   \n",
       "instrumentalness    True          True   True     False          True   \n",
       "liveness            True          True   True      True          True   \n",
       "valence             True         False   True     False          True   \n",
       "tempo               True          True   True      True          True   \n",
       "duration_ms         True          True   True      True          True   \n",
       "\n",
       "                  speechiness  instrumentalness  liveness  valence  tempo  \\\n",
       "energy                   True              True      True     True   True   \n",
       "danceability             True              True      True    False   True   \n",
       "key                      True              True      True     True   True   \n",
       "loudness                 True             False      True    False   True   \n",
       "acousticness             True              True      True     True   True   \n",
       "speechiness             False              True      True     True   True   \n",
       "instrumentalness         True             False      True     True   True   \n",
       "liveness                 True              True     False     True   True   \n",
       "valence                  True              True      True    False   True   \n",
       "tempo                    True              True      True     True  False   \n",
       "duration_ms              True              True      True     True   True   \n",
       "\n",
       "                  duration_ms  \n",
       "energy                   True  \n",
       "danceability             True  \n",
       "key                      True  \n",
       "loudness                 True  \n",
       "acousticness             True  \n",
       "speechiness              True  \n",
       "instrumentalness         True  \n",
       "liveness                 True  \n",
       "valence                  True  \n",
       "tempo                    True  \n",
       "duration_ms             False  "
      ]
     },
     "execution_count": 256,
     "metadata": {},
     "output_type": "execute_result"
    }
   ],
   "source": [
    "print('Which features are not correlated?')\n",
    "(corr_matrix < 0.4) & (corr_matrix > -0.4)"
   ]
  },
  {
   "cell_type": "code",
   "execution_count": 261,
   "id": "cc96a0bd-d50e-4112-90e2-c3c467830ccb",
   "metadata": {},
   "outputs": [
    {
     "name": "stdout",
     "output_type": "stream",
     "text": [
      "How does the danceability score compare between Pop, Hip-Hop/Rap, Dance/Electronic, and Alternative/Indie genres?\n"
     ]
    },
    {
     "data": {
      "text/html": [
       "<div>\n",
       "<style scoped>\n",
       "    .dataframe tbody tr th:only-of-type {\n",
       "        vertical-align: middle;\n",
       "    }\n",
       "\n",
       "    .dataframe tbody tr th {\n",
       "        vertical-align: top;\n",
       "    }\n",
       "\n",
       "    .dataframe thead th {\n",
       "        text-align: right;\n",
       "    }\n",
       "</style>\n",
       "<table border=\"1\" class=\"dataframe\">\n",
       "  <thead>\n",
       "    <tr style=\"text-align: right;\">\n",
       "      <th></th>\n",
       "      <th>count</th>\n",
       "      <th>mean</th>\n",
       "      <th>std</th>\n",
       "      <th>min</th>\n",
       "      <th>25%</th>\n",
       "      <th>50%</th>\n",
       "      <th>75%</th>\n",
       "      <th>max</th>\n",
       "    </tr>\n",
       "    <tr>\n",
       "      <th>genre</th>\n",
       "      <th></th>\n",
       "      <th></th>\n",
       "      <th></th>\n",
       "      <th></th>\n",
       "      <th></th>\n",
       "      <th></th>\n",
       "      <th></th>\n",
       "      <th></th>\n",
       "    </tr>\n",
       "  </thead>\n",
       "  <tbody>\n",
       "    <tr>\n",
       "      <th>Alternative/Indie</th>\n",
       "      <td>4.0</td>\n",
       "      <td>0.661750</td>\n",
       "      <td>0.211107</td>\n",
       "      <td>0.459</td>\n",
       "      <td>0.49050</td>\n",
       "      <td>0.663</td>\n",
       "      <td>0.83425</td>\n",
       "      <td>0.862</td>\n",
       "    </tr>\n",
       "    <tr>\n",
       "      <th>Dance/Electronic</th>\n",
       "      <td>5.0</td>\n",
       "      <td>0.755000</td>\n",
       "      <td>0.094744</td>\n",
       "      <td>0.647</td>\n",
       "      <td>0.67400</td>\n",
       "      <td>0.785</td>\n",
       "      <td>0.78900</td>\n",
       "      <td>0.880</td>\n",
       "    </tr>\n",
       "    <tr>\n",
       "      <th>Hip-Hop/Rap</th>\n",
       "      <td>13.0</td>\n",
       "      <td>0.765538</td>\n",
       "      <td>0.085470</td>\n",
       "      <td>0.598</td>\n",
       "      <td>0.72600</td>\n",
       "      <td>0.774</td>\n",
       "      <td>0.83000</td>\n",
       "      <td>0.896</td>\n",
       "    </tr>\n",
       "    <tr>\n",
       "      <th>Pop</th>\n",
       "      <td>14.0</td>\n",
       "      <td>0.677571</td>\n",
       "      <td>0.109853</td>\n",
       "      <td>0.464</td>\n",
       "      <td>0.61575</td>\n",
       "      <td>0.690</td>\n",
       "      <td>0.76275</td>\n",
       "      <td>0.806</td>\n",
       "    </tr>\n",
       "  </tbody>\n",
       "</table>\n",
       "</div>"
      ],
      "text/plain": [
       "                   count      mean       std    min      25%    50%      75%  \\\n",
       "genre                                                                          \n",
       "Alternative/Indie    4.0  0.661750  0.211107  0.459  0.49050  0.663  0.83425   \n",
       "Dance/Electronic     5.0  0.755000  0.094744  0.647  0.67400  0.785  0.78900   \n",
       "Hip-Hop/Rap         13.0  0.765538  0.085470  0.598  0.72600  0.774  0.83000   \n",
       "Pop                 14.0  0.677571  0.109853  0.464  0.61575  0.690  0.76275   \n",
       "\n",
       "                     max  \n",
       "genre                     \n",
       "Alternative/Indie  0.862  \n",
       "Dance/Electronic   0.880  \n",
       "Hip-Hop/Rap        0.896  \n",
       "Pop                0.806  "
      ]
     },
     "execution_count": 261,
     "metadata": {},
     "output_type": "execute_result"
    }
   ],
   "source": [
    "print('How does the danceability score compare between Pop, Hip-Hop/Rap, Dance/Electronic, and Alternative/Indie genres?')\n",
    "df[df.genre.isin(['Pop','Hip-Hop/Rap','Dance/Electronic','Alternative/Indie'])].groupby('genre')['danceability'].describe()#.unstack()\n",
    "\n"
   ]
  },
  {
   "cell_type": "markdown",
   "id": "d4e8dc4c-9346-40ea-afed-dffd6126ee22",
   "metadata": {},
   "source": [
    "- Pop has similarly as much popular songs as Hip-Hop/Rap in top 50.\n",
    "- Danceability average is quite similar between these genres, but highers danceability mean values has Hip-Hop/Rap and Dance/Electronic genres.\n",
    "- Danceability value varies the most at Alternative/Indie genre.\n",
    "- Lowest danceability value appears on Alternative/Indie and Pop genre based on min and 25th percentile values. \n",
    "- Median daceability value is similar between Alternative/Indie  and Hip-Hop/Rap, when between Pop and Dance/Electronic\n",
    "- The highest danceability values are on Alternative/Indie and  Hip-Hop/Rap genres by 75th percentele."
   ]
  },
  {
   "cell_type": "code",
   "execution_count": 272,
   "id": "a9e3776a-20c4-4dfd-b1e1-377657c3bca1",
   "metadata": {},
   "outputs": [
    {
     "name": "stdout",
     "output_type": "stream",
     "text": [
      "How does the loudness score compare between Pop, Hip-Hop/Rap, Dance/Electronic, and Alternative/Indie genres?\n"
     ]
    },
    {
     "data": {
      "text/plain": [
       "<AxesSubplot:xlabel='genre', ylabel='loudness'>"
      ]
     },
     "execution_count": 272,
     "metadata": {},
     "output_type": "execute_result"
    },
    {
     "data": {
      "image/png": "[encoded data removed]",
      "text/plain": [
       "<Figure size 720x432 with 1 Axes>"
      ]
     },
     "metadata": {
      "needs_background": "light"
     },
     "output_type": "display_data"
    }
   ],
   "source": [
    "print('How does the loudness score compare between Pop, Hip-Hop/Rap, Dance/Electronic, and Alternative/Indie genres?')\n",
    "df_compare = df[df.genre.isin(['Pop','Hip-Hop/Rap','Dance/Electronic','Alternative/Indie'])].reset_index()\n",
    "\n",
    "fig, ax = plt.subplots(figsize=(10, 6))\n",
    "sns.boxplot(x='genre', y='loudness', data=df_compare)\n"
   ]
  },
  {
   "cell_type": "markdown",
   "id": "6b18cbbe-5e40-47c2-bb9d-6924a3609900",
   "metadata": {},
   "source": [
    "- The highest variability of loudness has Pop genre (std = 3.01).\n",
    "- Based on median Alternative/Indie and Dance/Electronic are the loudest genres among these groups."
   ]
  },
  {
   "cell_type": "code",
   "execution_count": 273,
   "id": "e2f37c19-7616-4293-9d65-efe464d42ea8",
   "metadata": {},
   "outputs": [
    {
     "data": {
      "text/html": [
       "<div>\n",
       "<style scoped>\n",
       "    .dataframe tbody tr th:only-of-type {\n",
       "        vertical-align: middle;\n",
       "    }\n",
       "\n",
       "    .dataframe tbody tr th {\n",
       "        vertical-align: top;\n",
       "    }\n",
       "\n",
       "    .dataframe thead th {\n",
       "        text-align: right;\n",
       "    }\n",
       "</style>\n",
       "<table border=\"1\" class=\"dataframe\">\n",
       "  <thead>\n",
       "    <tr style=\"text-align: right;\">\n",
       "      <th></th>\n",
       "      <th>count</th>\n",
       "      <th>mean</th>\n",
       "      <th>std</th>\n",
       "      <th>min</th>\n",
       "      <th>25%</th>\n",
       "      <th>50%</th>\n",
       "      <th>75%</th>\n",
       "      <th>max</th>\n",
       "    </tr>\n",
       "    <tr>\n",
       "      <th>genre</th>\n",
       "      <th></th>\n",
       "      <th></th>\n",
       "      <th></th>\n",
       "      <th></th>\n",
       "      <th></th>\n",
       "      <th></th>\n",
       "      <th></th>\n",
       "      <th></th>\n",
       "    </tr>\n",
       "  </thead>\n",
       "  <tbody>\n",
       "    <tr>\n",
       "      <th>Alternative/Indie</th>\n",
       "      <td>4.0</td>\n",
       "      <td>-5.421000</td>\n",
       "      <td>0.774502</td>\n",
       "      <td>-6.401</td>\n",
       "      <td>-5.85950</td>\n",
       "      <td>-5.2685</td>\n",
       "      <td>-4.83000</td>\n",
       "      <td>-4.746</td>\n",
       "    </tr>\n",
       "    <tr>\n",
       "      <th>Dance/Electronic</th>\n",
       "      <td>5.0</td>\n",
       "      <td>-5.338000</td>\n",
       "      <td>1.479047</td>\n",
       "      <td>-7.567</td>\n",
       "      <td>-5.65200</td>\n",
       "      <td>-5.4570</td>\n",
       "      <td>-4.25800</td>\n",
       "      <td>-3.756</td>\n",
       "    </tr>\n",
       "    <tr>\n",
       "      <th>Hip-Hop/Rap</th>\n",
       "      <td>13.0</td>\n",
       "      <td>-6.917846</td>\n",
       "      <td>1.891808</td>\n",
       "      <td>-8.820</td>\n",
       "      <td>-8.52000</td>\n",
       "      <td>-7.6480</td>\n",
       "      <td>-5.61600</td>\n",
       "      <td>-3.370</td>\n",
       "    </tr>\n",
       "    <tr>\n",
       "      <th>Pop</th>\n",
       "      <td>14.0</td>\n",
       "      <td>-6.460357</td>\n",
       "      <td>3.014281</td>\n",
       "      <td>-14.454</td>\n",
       "      <td>-7.17875</td>\n",
       "      <td>-6.6445</td>\n",
       "      <td>-3.87525</td>\n",
       "      <td>-3.280</td>\n",
       "    </tr>\n",
       "  </tbody>\n",
       "</table>\n",
       "</div>"
      ],
      "text/plain": [
       "                   count      mean       std     min      25%     50%  \\\n",
       "genre                                                                   \n",
       "Alternative/Indie    4.0 -5.421000  0.774502  -6.401 -5.85950 -5.2685   \n",
       "Dance/Electronic     5.0 -5.338000  1.479047  -7.567 -5.65200 -5.4570   \n",
       "Hip-Hop/Rap         13.0 -6.917846  1.891808  -8.820 -8.52000 -7.6480   \n",
       "Pop                 14.0 -6.460357  3.014281 -14.454 -7.17875 -6.6445   \n",
       "\n",
       "                       75%    max  \n",
       "genre                              \n",
       "Alternative/Indie -4.83000 -4.746  \n",
       "Dance/Electronic  -4.25800 -3.756  \n",
       "Hip-Hop/Rap       -5.61600 -3.370  \n",
       "Pop               -3.87525 -3.280  "
      ]
     },
     "execution_count": 273,
     "metadata": {},
     "output_type": "execute_result"
    }
   ],
   "source": [
    "df[df.genre.isin(['Pop','Hip-Hop/Rap','Dance/Electronic','Alternative/Indie'])].groupby('genre')['loudness'].describe()#.unstack()\n"
   ]
  },
  {
   "cell_type": "code",
   "execution_count": 275,
   "id": "5ccb7c81-f9d5-4754-b85f-f4d2707ac539",
   "metadata": {},
   "outputs": [
    {
     "name": "stdout",
     "output_type": "stream",
     "text": [
      "How does the acousticness score compare between Pop, Hip-Hop/Rap, Dance/Electronic, and Alternative/Indie genres?\n"
     ]
    },
    {
     "data": {
      "text/plain": [
       "<AxesSubplot:xlabel='genre', ylabel='acousticness'>"
      ]
     },
     "execution_count": 275,
     "metadata": {},
     "output_type": "execute_result"
    },
    {
     "data": {
      "image/png": "[encoded data removed]",
      "text/plain": [
       "<Figure size 720x432 with 1 Axes>"
      ]
     },
     "metadata": {
      "needs_background": "light"
     },
     "output_type": "display_data"
    }
   ],
   "source": [
    "print('How does the acousticness score compare between Pop, Hip-Hop/Rap, Dance/Electronic, and Alternative/Indie genres?')\n",
    "fig, ax = plt.subplots(figsize=(10, 6))\n",
    "sns.boxplot(x='genre', y='acousticness', data=df_compare)\n"
   ]
  },
  {
   "cell_type": "markdown",
   "id": "75d0ffa6-8fc8-4138-8e77-d762a7accdcc",
   "metadata": {},
   "source": [
    "- The most acousticness genre is Alternative/Indie.\n",
    "- Pop could have more acoustic songs then Dance/Electronic and Hip-Hop/Rap compared bu 75th percentile values."
   ]
  },
  {
   "cell_type": "code",
   "execution_count": 276,
   "id": "61c729eb-0463-43f2-b568-6be69f4f1104",
   "metadata": {},
   "outputs": [
    {
     "data": {
      "text/html": [
       "<div>\n",
       "<style scoped>\n",
       "    .dataframe tbody tr th:only-of-type {\n",
       "        vertical-align: middle;\n",
       "    }\n",
       "\n",
       "    .dataframe tbody tr th {\n",
       "        vertical-align: top;\n",
       "    }\n",
       "\n",
       "    .dataframe thead th {\n",
       "        text-align: right;\n",
       "    }\n",
       "</style>\n",
       "<table border=\"1\" class=\"dataframe\">\n",
       "  <thead>\n",
       "    <tr style=\"text-align: right;\">\n",
       "      <th></th>\n",
       "      <th>count</th>\n",
       "      <th>mean</th>\n",
       "      <th>std</th>\n",
       "      <th>min</th>\n",
       "      <th>25%</th>\n",
       "      <th>50%</th>\n",
       "      <th>75%</th>\n",
       "      <th>max</th>\n",
       "    </tr>\n",
       "    <tr>\n",
       "      <th>genre</th>\n",
       "      <th></th>\n",
       "      <th></th>\n",
       "      <th></th>\n",
       "      <th></th>\n",
       "      <th></th>\n",
       "      <th></th>\n",
       "      <th></th>\n",
       "      <th></th>\n",
       "    </tr>\n",
       "  </thead>\n",
       "  <tbody>\n",
       "    <tr>\n",
       "      <th>Alternative/Indie</th>\n",
       "      <td>4.0</td>\n",
       "      <td>0.583500</td>\n",
       "      <td>0.204086</td>\n",
       "      <td>0.29100</td>\n",
       "      <td>0.52575</td>\n",
       "      <td>0.6460</td>\n",
       "      <td>0.70375</td>\n",
       "      <td>0.751</td>\n",
       "    </tr>\n",
       "    <tr>\n",
       "      <th>Dance/Electronic</th>\n",
       "      <td>5.0</td>\n",
       "      <td>0.099440</td>\n",
       "      <td>0.095828</td>\n",
       "      <td>0.01370</td>\n",
       "      <td>0.01490</td>\n",
       "      <td>0.0686</td>\n",
       "      <td>0.17700</td>\n",
       "      <td>0.223</td>\n",
       "    </tr>\n",
       "    <tr>\n",
       "      <th>Hip-Hop/Rap</th>\n",
       "      <td>13.0</td>\n",
       "      <td>0.188741</td>\n",
       "      <td>0.186396</td>\n",
       "      <td>0.00513</td>\n",
       "      <td>0.06700</td>\n",
       "      <td>0.1450</td>\n",
       "      <td>0.23400</td>\n",
       "      <td>0.731</td>\n",
       "    </tr>\n",
       "    <tr>\n",
       "      <th>Pop</th>\n",
       "      <td>14.0</td>\n",
       "      <td>0.323843</td>\n",
       "      <td>0.318142</td>\n",
       "      <td>0.02100</td>\n",
       "      <td>0.05990</td>\n",
       "      <td>0.2590</td>\n",
       "      <td>0.34800</td>\n",
       "      <td>0.902</td>\n",
       "    </tr>\n",
       "  </tbody>\n",
       "</table>\n",
       "</div>"
      ],
      "text/plain": [
       "                   count      mean       std      min      25%     50%  \\\n",
       "genre                                                                    \n",
       "Alternative/Indie    4.0  0.583500  0.204086  0.29100  0.52575  0.6460   \n",
       "Dance/Electronic     5.0  0.099440  0.095828  0.01370  0.01490  0.0686   \n",
       "Hip-Hop/Rap         13.0  0.188741  0.186396  0.00513  0.06700  0.1450   \n",
       "Pop                 14.0  0.323843  0.318142  0.02100  0.05990  0.2590   \n",
       "\n",
       "                       75%    max  \n",
       "genre                              \n",
       "Alternative/Indie  0.70375  0.751  \n",
       "Dance/Electronic   0.17700  0.223  \n",
       "Hip-Hop/Rap        0.23400  0.731  \n",
       "Pop                0.34800  0.902  "
      ]
     },
     "execution_count": 276,
     "metadata": {},
     "output_type": "execute_result"
    }
   ],
   "source": [
    "df[df.genre.isin(['Pop','Hip-Hop/Rap','Dance/Electronic','Alternative/Indie'])].groupby('genre')['acousticness'].describe()#.unstack()\n"
   ]
  },
  {
   "cell_type": "markdown",
   "id": "3f1feb65-b34d-41f5-be95-5044cbbd55b4",
   "metadata": {},
   "source": [
    "# Suggestions on how analysis can be improved"
   ]
  },
  {
   "cell_type": "markdown",
   "id": "c28e6e5e-921d-4445-b520-678545ff422e",
   "metadata": {},
   "source": [
    "- Check if there is any linear relations between place in the top and features"
   ]
  },
  {
   "cell_type": "code",
   "execution_count": 324,
   "id": "76fa3e28-3997-4d32-bf55-87d26c0b3cd1",
   "metadata": {},
   "outputs": [
    {
     "data": {
      "text/plain": [
       "Text(0, 0.5, 'Y-energy')"
      ]
     },
     "execution_count": 324,
     "metadata": {},
     "output_type": "execute_result"
    },
    {
     "data": {
      "image/png": "[encoded data removed]",
      "text/plain": [
       "<Figure size 432x288 with 1 Axes>"
      ]
     },
     "metadata": {},
     "output_type": "display_data"
    }
   ],
   "source": [
    "import matplotlib.pyplot as plt\n",
    "\n",
    "# Get Unique genre\n",
    "color_labels = df['genre'].unique()\n",
    "\n",
    "# List of colors in the color palettes\n",
    "rgb_values = sns.color_palette(\"Set2\", len(color_labels))\n",
    "\n",
    "# Map genres to the colors\n",
    "color_map = dict(zip(color_labels, rgb_values))\n",
    "\n",
    "# Finally use the mapped values\n",
    "plt.scatter(df['PlaceInTop'], df['energy'], c=df['genre'].map(color_map))\n",
    "plt.xlabel(\"X-PlaceInTop\")\n",
    "plt.ylabel(\"Y-energy\")"
   ]
  },
  {
   "cell_type": "code",
   "execution_count": 325,
   "id": "1bb06ebe-0e0d-4995-9147-4e2b96c1b725",
   "metadata": {},
   "outputs": [
    {
     "data": {
      "text/plain": [
       "Text(0, 0.5, 'Y-danceability')"
      ]
     },
     "execution_count": 325,
     "metadata": {},
     "output_type": "execute_result"
    },
    {
     "data": {
      "image/png": "[encoded data removed]",
      "text/plain": [
       "<Figure size 432x288 with 1 Axes>"
      ]
     },
     "metadata": {},
     "output_type": "display_data"
    }
   ],
   "source": [
    "plt.scatter(df['PlaceInTop'], df['danceability'], c=df['genre'].map(color_map))\n",
    "plt.xlabel(\"X-PlaceInTop\")\n",
    "plt.ylabel(\"Y-danceability\")"
   ]
  },
  {
   "cell_type": "code",
   "execution_count": 326,
   "id": "799b05da-29f9-4696-8775-2aa2132a1a55",
   "metadata": {},
   "outputs": [
    {
     "data": {
      "text/plain": [
       "Text(0, 0.5, 'Y-loudness')"
      ]
     },
     "execution_count": 326,
     "metadata": {},
     "output_type": "execute_result"
    },
    {
     "data": {
      "image/png": "[encoded data removed]",
      "text/plain": [
       "<Figure size 432x288 with 1 Axes>"
      ]
     },
     "metadata": {},
     "output_type": "display_data"
    }
   ],
   "source": [
    "plt.scatter(df['PlaceInTop'], df['loudness'], c=df['genre'].map(color_map))\n",
    "plt.xlabel(\"X-PlaceInTop\")\n",
    "plt.ylabel(\"Y-loudness\")"
   ]
  },
  {
   "cell_type": "code",
   "execution_count": 328,
   "id": "880979c7-2b87-41db-8519-dd15200d302f",
   "metadata": {},
   "outputs": [
    {
     "data": {
      "text/plain": [
       "Text(0, 0.5, 'Y-liveness')"
      ]
     },
     "execution_count": 328,
     "metadata": {},
     "output_type": "execute_result"
    },
    {
     "data": {
      "image/png": "[encoded data removed]",
      "text/plain": [
       "<Figure size 432x288 with 1 Axes>"
      ]
     },
     "metadata": {},
     "output_type": "display_data"
    }
   ],
   "source": [
    "plt.scatter(df['PlaceInTop'], df['liveness'], c=df['genre'].map(color_map))\n",
    "plt.xlabel(\"X-PlaceInTop\")\n",
    "plt.ylabel(\"Y-liveness\")"
   ]
  },
  {
   "cell_type": "code",
   "execution_count": 329,
   "id": "8c8fd923-1d83-4ace-a5ee-53eba18c9a01",
   "metadata": {},
   "outputs": [
    {
     "data": {
      "text/plain": [
       "Text(0, 0.5, 'Y-tempo')"
      ]
     },
     "execution_count": 329,
     "metadata": {},
     "output_type": "execute_result"
    },
    {
     "data": {
      "image/png": "[encoded data removed]",
      "text/plain": [
       "<Figure size 432x288 with 1 Axes>"
      ]
     },
     "metadata": {},
     "output_type": "display_data"
    }
   ],
   "source": [
    "plt.scatter(df['PlaceInTop'], df['tempo'], c=df['genre'].map(color_map))\n",
    "plt.xlabel(\"X-PlaceInTop\")\n",
    "plt.ylabel(\"Y-tempo\")"
   ]
  },
  {
   "cell_type": "code",
   "execution_count": null,
   "id": "7f9c5a7f-c186-4651-938d-95bd847d7ac1",
   "metadata": {},
   "outputs": [],
   "source": []
  }
 ],
 "metadata": {
  "kernelspec": {
   "display_name": "Python 3 (ipykernel)",
   "language": "python",
   "name": "python3"
  },
  "language_info": {
   "codemirror_mode": {
    "name": "ipython",
    "version": 3
   },
   "file_extension": ".py",
   "mimetype": "text/x-python",
   "name": "python",
   "nbconvert_exporter": "python",
   "pygments_lexer": "ipython3",
   "version": "3.9.12"
  }
 },
 "nbformat": 4,
 "nbformat_minor": 5
}
