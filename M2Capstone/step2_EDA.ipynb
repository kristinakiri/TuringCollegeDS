{
 "cells": [
  {
   "cell_type": "markdown",
   "id": "9ca4ff59-6315-4815-bf16-8e1e822a9bce",
   "metadata": {},
   "source": [
    "# EDA"
   ]
  },
  {
   "cell_type": "markdown",
   "id": "22d89ca8-ecba-4774-9706-41b5bfbc0ddb",
   "metadata": {},
   "source": [
    "During this explorataru analysis questions we want to overview datasets and answer the questions:\n",
    "- Which leagues are in which countries?\n",
    "- How many teams are present in each league? \n",
    "- Which league has the most team?\n",
    "- Which leagues score the most/fewest goals?\n",
    "- Is there such a thing as home advantage?"
   ]
  },
  {
   "cell_type": "code",
   "execution_count": 1,
   "id": "92c4872c-008c-4187-9c85-581c81e49d76",
   "metadata": {},
   "outputs": [],
   "source": [
    "import sqlite3\n",
    "from sqlite3 import connect\n",
    "import numpy as np\n",
    "import pandas as pd\n",
    "import matplotlib.pyplot as plt\n",
    "import seaborn as sns\n",
    "from IPython.display import display, clear_output\n",
    "import os\n",
    "import itertools\n",
    "from datetime import datetime\n",
    "import xml.etree.ElementTree as ET\n",
    "import statsmodels.api as sm\n",
    "import math\n",
    "\n",
    "from generic_functions import extract_xml, end_of_year_player, end_of_year_team, team_to_player_home, team_to_player_away, team_to_player, top_N_team, league_to_team, top_leagues, box_plot_leagues\n",
    "    "
   ]
  },
  {
   "cell_type": "code",
   "execution_count": 2,
   "id": "3385520c-233c-44b2-bb0c-ef5769a0ced0",
   "metadata": {},
   "outputs": [
    {
     "data": {
      "text/plain": [
       "'/Users/kristinazekiene/Documents/LearningPython/TuringCollege/M2Capstone'"
      ]
     },
     "execution_count": 2,
     "metadata": {},
     "output_type": "execute_result"
    }
   ],
   "source": [
    "os.getcwd()"
   ]
  },
  {
   "cell_type": "markdown",
   "id": "60984728-346e-4196-b1ed-78b3da8339e6",
   "metadata": {},
   "source": [
    "## Leagure overview"
   ]
  },
  {
   "cell_type": "code",
   "execution_count": 3,
   "id": "1778e99b-e69e-40cc-919d-1149559666d2",
   "metadata": {},
   "outputs": [],
   "source": [
    "input_path = \"/Users/kristinazekiene/Documents/LearningPython/TuringCollege/M2Capstone/Input/database.sqlite\"\n",
    "con = sqlite3.connect(input_path)\n",
    "\n",
    "table = pd.read_sql('''\n",
    "            SELECT * FROM sqlite_master \n",
    "            WHERE TYPE = 'table'; ''',con)"
   ]
  },
  {
   "cell_type": "markdown",
   "id": "111026d7-2646-4e79-994e-54a75a609444",
   "metadata": {},
   "source": [
    "### Which leagues are in which countries?"
   ]
  },
  {
   "cell_type": "code",
   "execution_count": 4,
   "id": "9cffef70-6106-4c41-84b5-55cf0b7dbcc5",
   "metadata": {},
   "outputs": [
    {
     "data": {
      "text/html": [
       "<div>\n",
       "<style scoped>\n",
       "    .dataframe tbody tr th:only-of-type {\n",
       "        vertical-align: middle;\n",
       "    }\n",
       "\n",
       "    .dataframe tbody tr th {\n",
       "        vertical-align: top;\n",
       "    }\n",
       "\n",
       "    .dataframe thead th {\n",
       "        text-align: right;\n",
       "    }\n",
       "</style>\n",
       "<table border=\"1\" class=\"dataframe\">\n",
       "  <thead>\n",
       "    <tr style=\"text-align: right;\">\n",
       "      <th></th>\n",
       "      <th>country_name</th>\n",
       "      <th>league_name</th>\n",
       "    </tr>\n",
       "  </thead>\n",
       "  <tbody>\n",
       "    <tr>\n",
       "      <th>0</th>\n",
       "      <td>Belgium</td>\n",
       "      <td>Belgium Jupiler League</td>\n",
       "    </tr>\n",
       "    <tr>\n",
       "      <th>1</th>\n",
       "      <td>England</td>\n",
       "      <td>England Premier League</td>\n",
       "    </tr>\n",
       "    <tr>\n",
       "      <th>2</th>\n",
       "      <td>France</td>\n",
       "      <td>France Ligue 1</td>\n",
       "    </tr>\n",
       "    <tr>\n",
       "      <th>3</th>\n",
       "      <td>Germany</td>\n",
       "      <td>Germany 1. Bundesliga</td>\n",
       "    </tr>\n",
       "    <tr>\n",
       "      <th>4</th>\n",
       "      <td>Italy</td>\n",
       "      <td>Italy Serie A</td>\n",
       "    </tr>\n",
       "    <tr>\n",
       "      <th>5</th>\n",
       "      <td>Netherlands</td>\n",
       "      <td>Netherlands Eredivisie</td>\n",
       "    </tr>\n",
       "    <tr>\n",
       "      <th>6</th>\n",
       "      <td>Poland</td>\n",
       "      <td>Poland Ekstraklasa</td>\n",
       "    </tr>\n",
       "    <tr>\n",
       "      <th>7</th>\n",
       "      <td>Portugal</td>\n",
       "      <td>Portugal Liga ZON Sagres</td>\n",
       "    </tr>\n",
       "    <tr>\n",
       "      <th>8</th>\n",
       "      <td>Scotland</td>\n",
       "      <td>Scotland Premier League</td>\n",
       "    </tr>\n",
       "    <tr>\n",
       "      <th>9</th>\n",
       "      <td>Spain</td>\n",
       "      <td>Spain LIGA BBVA</td>\n",
       "    </tr>\n",
       "    <tr>\n",
       "      <th>10</th>\n",
       "      <td>Switzerland</td>\n",
       "      <td>Switzerland Super League</td>\n",
       "    </tr>\n",
       "  </tbody>\n",
       "</table>\n",
       "</div>"
      ],
      "text/plain": [
       "   country_name               league_name\n",
       "0       Belgium    Belgium Jupiler League\n",
       "1       England    England Premier League\n",
       "2        France            France Ligue 1\n",
       "3       Germany     Germany 1. Bundesliga\n",
       "4         Italy             Italy Serie A\n",
       "5   Netherlands    Netherlands Eredivisie\n",
       "6        Poland        Poland Ekstraklasa\n",
       "7      Portugal  Portugal Liga ZON Sagres\n",
       "8      Scotland   Scotland Premier League\n",
       "9         Spain           Spain LIGA BBVA\n",
       "10  Switzerland  Switzerland Super League"
      ]
     },
     "execution_count": 4,
     "metadata": {},
     "output_type": "execute_result"
    }
   ],
   "source": [
    "cl_df = pd.read_sql_query(\"\"\"\n",
    "            SELECT \n",
    "                DISTINCT C.name AS country_name,\n",
    "                L.name AS league_name\n",
    "            FROM League AS L \n",
    "            LEFT JOIN Country AS C\n",
    "                ON L.country_id = C.id\n",
    "            ORDER BY country_name, league_name\"\"\", con)\n",
    "\n",
    "cl_df"
   ]
  },
  {
   "cell_type": "markdown",
   "id": "306d6392-2273-4e8e-847c-cb641f9f60c2",
   "metadata": {},
   "source": [
    "<b>Highlight</b>: There is 11 leagues in 11 countries."
   ]
  },
  {
   "cell_type": "markdown",
   "id": "030c23d0-eddf-4aa8-824f-144b2ac5d03e",
   "metadata": {},
   "source": [
    "### How many teams are present in each league? "
   ]
  },
  {
   "cell_type": "code",
   "execution_count": 5,
   "id": "98baf163-ce11-4281-b8f5-b8f15ac0cba2",
   "metadata": {},
   "outputs": [
    {
     "name": "stdout",
     "output_type": "stream",
     "text": [
      "<class 'pandas.core.frame.DataFrame'>\n",
      "RangeIndex: 25979 entries, 0 to 25978\n",
      "Columns: 121 entries, id_x to away_team_short_name\n",
      "dtypes: float64(96), int64(9), object(16)\n",
      "memory usage: 24.0+ MB\n"
     ]
    },
    {
     "data": {
      "text/html": [
       "<div>\n",
       "<style scoped>\n",
       "    .dataframe tbody tr th:only-of-type {\n",
       "        vertical-align: middle;\n",
       "    }\n",
       "\n",
       "    .dataframe tbody tr th {\n",
       "        vertical-align: top;\n",
       "    }\n",
       "\n",
       "    .dataframe thead th {\n",
       "        text-align: right;\n",
       "    }\n",
       "</style>\n",
       "<table border=\"1\" class=\"dataframe\">\n",
       "  <thead>\n",
       "    <tr style=\"text-align: right;\">\n",
       "      <th></th>\n",
       "      <th>id_x</th>\n",
       "      <th>country_id</th>\n",
       "      <th>league_id_x</th>\n",
       "      <th>season</th>\n",
       "      <th>stage</th>\n",
       "      <th>date</th>\n",
       "      <th>match_api_id</th>\n",
       "      <th>home_team_api_id</th>\n",
       "      <th>away_team_api_id</th>\n",
       "      <th>home_team_goal</th>\n",
       "      <th>...</th>\n",
       "      <th>GBA</th>\n",
       "      <th>BSH</th>\n",
       "      <th>BSD</th>\n",
       "      <th>BSA</th>\n",
       "      <th>country</th>\n",
       "      <th>league</th>\n",
       "      <th>home_team_long_name</th>\n",
       "      <th>home_team_short_name</th>\n",
       "      <th>away_team_long_name</th>\n",
       "      <th>away_team_short_name</th>\n",
       "    </tr>\n",
       "  </thead>\n",
       "  <tbody>\n",
       "    <tr>\n",
       "      <th>0</th>\n",
       "      <td>1</td>\n",
       "      <td>1</td>\n",
       "      <td>1</td>\n",
       "      <td>2008/2009</td>\n",
       "      <td>1</td>\n",
       "      <td>2008-08-17</td>\n",
       "      <td>492473</td>\n",
       "      <td>9987</td>\n",
       "      <td>9993</td>\n",
       "      <td>1</td>\n",
       "      <td>...</td>\n",
       "      <td>4.00</td>\n",
       "      <td>1.73</td>\n",
       "      <td>3.40</td>\n",
       "      <td>4.2</td>\n",
       "      <td>Belgium</td>\n",
       "      <td>Belgium Jupiler League</td>\n",
       "      <td>KRC Genk</td>\n",
       "      <td>GEN</td>\n",
       "      <td>Beerschot AC</td>\n",
       "      <td>BAC</td>\n",
       "    </tr>\n",
       "    <tr>\n",
       "      <th>1</th>\n",
       "      <td>2</td>\n",
       "      <td>1</td>\n",
       "      <td>1</td>\n",
       "      <td>2008/2009</td>\n",
       "      <td>1</td>\n",
       "      <td>2008-08-16</td>\n",
       "      <td>492474</td>\n",
       "      <td>10000</td>\n",
       "      <td>9994</td>\n",
       "      <td>0</td>\n",
       "      <td>...</td>\n",
       "      <td>3.75</td>\n",
       "      <td>1.91</td>\n",
       "      <td>3.25</td>\n",
       "      <td>3.6</td>\n",
       "      <td>Belgium</td>\n",
       "      <td>Belgium Jupiler League</td>\n",
       "      <td>SV Zulte-Waregem</td>\n",
       "      <td>ZUL</td>\n",
       "      <td>Sporting Lokeren</td>\n",
       "      <td>LOK</td>\n",
       "    </tr>\n",
       "  </tbody>\n",
       "</table>\n",
       "<p>2 rows × 121 columns</p>\n",
       "</div>"
      ],
      "text/plain": [
       "   id_x  country_id  league_id_x     season  stage        date  match_api_id  \\\n",
       "0     1           1            1  2008/2009      1  2008-08-17        492473   \n",
       "1     2           1            1  2008/2009      1  2008-08-16        492474   \n",
       "\n",
       "   home_team_api_id  away_team_api_id  home_team_goal  ...   GBA   BSH   BSD  \\\n",
       "0              9987              9993               1  ...  4.00  1.73  3.40   \n",
       "1             10000              9994               0  ...  3.75  1.91  3.25   \n",
       "\n",
       "   BSA  country                  league  home_team_long_name  \\\n",
       "0  4.2  Belgium  Belgium Jupiler League             KRC Genk   \n",
       "1  3.6  Belgium  Belgium Jupiler League     SV Zulte-Waregem   \n",
       "\n",
       "   home_team_short_name  away_team_long_name  away_team_short_name  \n",
       "0                   GEN         Beerschot AC                   BAC  \n",
       "1                   ZUL     Sporting Lokeren                   LOK  \n",
       "\n",
       "[2 rows x 121 columns]"
      ]
     },
     "execution_count": 5,
     "metadata": {},
     "output_type": "execute_result"
    }
   ],
   "source": [
    "df_m = pd.read_csv(\"/Users/kristinazekiene/Documents/LearningPython/TuringCollege/M2Capstone/Output/matches.csv\")\n",
    "df_m.info()\n",
    "df_m.head(2)"
   ]
  },
  {
   "cell_type": "code",
   "execution_count": 6,
   "id": "95b926de-8973-44ac-ad70-709507f2b53e",
   "metadata": {},
   "outputs": [
    {
     "name": "stdout",
     "output_type": "stream",
     "text": [
      "['id_x', 'country_id', 'league_id_x', 'season', 'stage', 'date', 'match_api_id', 'home_team_api_id', 'away_team_api_id', 'home_team_goal', 'away_team_goal', 'home_player_X1', 'home_player_X2', 'home_player_X3', 'home_player_X4', 'home_player_X5', 'home_player_X6', 'home_player_X7', 'home_player_X8', 'home_player_X9', 'home_player_X10', 'home_player_X11', 'away_player_X1', 'away_player_X2', 'away_player_X3', 'away_player_X4', 'away_player_X5', 'away_player_X6', 'away_player_X7', 'away_player_X8', 'away_player_X9', 'away_player_X10', 'away_player_X11', 'home_player_Y1', 'home_player_Y2', 'home_player_Y3', 'home_player_Y4', 'home_player_Y5', 'home_player_Y6', 'home_player_Y7', 'home_player_Y8', 'home_player_Y9', 'home_player_Y10', 'home_player_Y11', 'away_player_Y1', 'away_player_Y2', 'away_player_Y3', 'away_player_Y4', 'away_player_Y5', 'away_player_Y6', 'away_player_Y7', 'away_player_Y8', 'away_player_Y9', 'away_player_Y10', 'away_player_Y11', 'home_player_1', 'home_player_2', 'home_player_3', 'home_player_4', 'home_player_5', 'home_player_6', 'home_player_7', 'home_player_8', 'home_player_9', 'home_player_10', 'home_player_11', 'away_player_1', 'away_player_2', 'away_player_3', 'away_player_4', 'away_player_5', 'away_player_6', 'away_player_7', 'away_player_8', 'away_player_9', 'away_player_10', 'away_player_11', 'goal', 'shoton', 'shotoff', 'foulcommit', 'card', 'cross', 'corner', 'possession', 'B365H', 'B365D', 'B365A', 'BWH', 'BWD', 'BWA', 'IWH', 'IWD', 'IWA', 'LBH', 'LBD', 'LBA', 'PSH', 'PSD', 'PSA', 'WHH', 'WHD', 'WHA', 'SJH', 'SJD', 'SJA', 'VCH', 'VCD', 'VCA', 'GBH', 'GBD', 'GBA', 'BSH', 'BSD', 'BSA', 'country', 'league', 'home_team_long_name', 'home_team_short_name', 'away_team_long_name', 'away_team_short_name']\n"
     ]
    }
   ],
   "source": [
    "print(list(df_m.columns))"
   ]
  },
  {
   "cell_type": "code",
   "execution_count": 7,
   "id": "1be508f5-95d7-4dbf-b86f-d1c658ba7563",
   "metadata": {},
   "outputs": [
    {
     "data": {
      "text/html": [
       "<div>\n",
       "<style scoped>\n",
       "    .dataframe tbody tr th:only-of-type {\n",
       "        vertical-align: middle;\n",
       "    }\n",
       "\n",
       "    .dataframe tbody tr th {\n",
       "        vertical-align: top;\n",
       "    }\n",
       "\n",
       "    .dataframe thead th {\n",
       "        text-align: right;\n",
       "    }\n",
       "</style>\n",
       "<table border=\"1\" class=\"dataframe\">\n",
       "  <thead>\n",
       "    <tr style=\"text-align: right;\">\n",
       "      <th></th>\n",
       "      <th>country</th>\n",
       "      <th>league</th>\n",
       "      <th>home_team_long_name</th>\n",
       "      <th>home_team_short_name</th>\n",
       "    </tr>\n",
       "  </thead>\n",
       "  <tbody>\n",
       "    <tr>\n",
       "      <th>0</th>\n",
       "      <td>Belgium</td>\n",
       "      <td>Belgium Jupiler League</td>\n",
       "      <td>KRC Genk</td>\n",
       "      <td>GEN</td>\n",
       "    </tr>\n",
       "    <tr>\n",
       "      <th>1</th>\n",
       "      <td>Belgium</td>\n",
       "      <td>Belgium Jupiler League</td>\n",
       "      <td>SV Zulte-Waregem</td>\n",
       "      <td>ZUL</td>\n",
       "    </tr>\n",
       "    <tr>\n",
       "      <th>2</th>\n",
       "      <td>Belgium</td>\n",
       "      <td>Belgium Jupiler League</td>\n",
       "      <td>KSV Cercle Brugge</td>\n",
       "      <td>CEB</td>\n",
       "    </tr>\n",
       "    <tr>\n",
       "      <th>3</th>\n",
       "      <td>Belgium</td>\n",
       "      <td>Belgium Jupiler League</td>\n",
       "      <td>KAA Gent</td>\n",
       "      <td>GEN</td>\n",
       "    </tr>\n",
       "    <tr>\n",
       "      <th>4</th>\n",
       "      <td>Belgium</td>\n",
       "      <td>Belgium Jupiler League</td>\n",
       "      <td>FCV Dender EH</td>\n",
       "      <td>DEN</td>\n",
       "    </tr>\n",
       "  </tbody>\n",
       "</table>\n",
       "</div>"
      ],
      "text/plain": [
       "   country                  league home_team_long_name home_team_short_name\n",
       "0  Belgium  Belgium Jupiler League            KRC Genk                  GEN\n",
       "1  Belgium  Belgium Jupiler League    SV Zulte-Waregem                  ZUL\n",
       "2  Belgium  Belgium Jupiler League   KSV Cercle Brugge                  CEB\n",
       "3  Belgium  Belgium Jupiler League            KAA Gent                  GEN\n",
       "4  Belgium  Belgium Jupiler League       FCV Dender EH                  DEN"
      ]
     },
     "execution_count": 7,
     "metadata": {},
     "output_type": "execute_result"
    }
   ],
   "source": [
    "conn = connect(':memory:')\n",
    "df_m.to_sql('df_matches', conn)\n",
    "\n",
    "clt_df = pd.read_sql(\"\"\"\n",
    "    SELECT \n",
    "        DISTINCT country,\n",
    "        league,\n",
    "        home_team_long_name,\n",
    "        home_team_short_name\n",
    "    FROM df_matches\n",
    "    \"\"\",conn)\n",
    "clt_df.head(5)"
   ]
  },
  {
   "cell_type": "code",
   "execution_count": 8,
   "id": "1783d9ae-0a96-4e10-a52a-731682aebf72",
   "metadata": {},
   "outputs": [
    {
     "name": "stdout",
     "output_type": "stream",
     "text": [
      "Checking whether single team plays in single league:\n"
     ]
    },
    {
     "data": {
      "text/html": [
       "<div>\n",
       "<style scoped>\n",
       "    .dataframe tbody tr th:only-of-type {\n",
       "        vertical-align: middle;\n",
       "    }\n",
       "\n",
       "    .dataframe tbody tr th {\n",
       "        vertical-align: top;\n",
       "    }\n",
       "\n",
       "    .dataframe thead th {\n",
       "        text-align: right;\n",
       "    }\n",
       "</style>\n",
       "<table border=\"1\" class=\"dataframe\">\n",
       "  <thead>\n",
       "    <tr style=\"text-align: right;\">\n",
       "      <th></th>\n",
       "      <th>Occur</th>\n",
       "    </tr>\n",
       "    <tr>\n",
       "      <th>home_team_long_name</th>\n",
       "      <th></th>\n",
       "    </tr>\n",
       "  </thead>\n",
       "  <tbody>\n",
       "    <tr>\n",
       "      <th>1. FC Kaiserslautern</th>\n",
       "      <td>1</td>\n",
       "    </tr>\n",
       "    <tr>\n",
       "      <th>RCD Mallorca</th>\n",
       "      <td>1</td>\n",
       "    </tr>\n",
       "    <tr>\n",
       "      <th>RC Recreativo</th>\n",
       "      <td>1</td>\n",
       "    </tr>\n",
       "    <tr>\n",
       "      <th>RC Lens</th>\n",
       "      <td>1</td>\n",
       "    </tr>\n",
       "    <tr>\n",
       "      <th>RC Deportivo de La Coruña</th>\n",
       "      <td>1</td>\n",
       "    </tr>\n",
       "  </tbody>\n",
       "</table>\n",
       "</div>"
      ],
      "text/plain": [
       "                           Occur\n",
       "home_team_long_name             \n",
       "1. FC Kaiserslautern           1\n",
       "RCD Mallorca                   1\n",
       "RC Recreativo                  1\n",
       "RC Lens                        1\n",
       "RC Deportivo de La Coruña      1"
      ]
     },
     "execution_count": 8,
     "metadata": {},
     "output_type": "execute_result"
    }
   ],
   "source": [
    "print('Checking whether single team plays in single league:')\n",
    "\n",
    "check = (clt_df.groupby('home_team_long_name')\n",
    "                 .agg(Occur=('league','nunique'))\n",
    "                 .sort_values(by='Occur',\n",
    "                              ascending=False))\n",
    "check.head(5)"
   ]
  },
  {
   "cell_type": "code",
   "execution_count": 9,
   "id": "893f4128-c860-462d-8e5b-a166c0856c76",
   "metadata": {},
   "outputs": [
    {
     "name": "stdout",
     "output_type": "stream",
     "text": [
      "Number of teams present in league:\n"
     ]
    },
    {
     "data": {
      "text/html": [
       "<div>\n",
       "<style scoped>\n",
       "    .dataframe tbody tr th:only-of-type {\n",
       "        vertical-align: middle;\n",
       "    }\n",
       "\n",
       "    .dataframe tbody tr th {\n",
       "        vertical-align: top;\n",
       "    }\n",
       "\n",
       "    .dataframe thead th {\n",
       "        text-align: right;\n",
       "    }\n",
       "</style>\n",
       "<table border=\"1\" class=\"dataframe\">\n",
       "  <thead>\n",
       "    <tr style=\"text-align: right;\">\n",
       "      <th></th>\n",
       "      <th>country</th>\n",
       "      <th>league</th>\n",
       "      <th>NumTeam</th>\n",
       "    </tr>\n",
       "  </thead>\n",
       "  <tbody>\n",
       "    <tr>\n",
       "      <th>2</th>\n",
       "      <td>France</td>\n",
       "      <td>France Ligue 1</td>\n",
       "      <td>35</td>\n",
       "    </tr>\n",
       "    <tr>\n",
       "      <th>1</th>\n",
       "      <td>England</td>\n",
       "      <td>England Premier League</td>\n",
       "      <td>34</td>\n",
       "    </tr>\n",
       "    <tr>\n",
       "      <th>9</th>\n",
       "      <td>Spain</td>\n",
       "      <td>Spain LIGA BBVA</td>\n",
       "      <td>33</td>\n",
       "    </tr>\n",
       "    <tr>\n",
       "      <th>4</th>\n",
       "      <td>Italy</td>\n",
       "      <td>Italy Serie A</td>\n",
       "      <td>32</td>\n",
       "    </tr>\n",
       "    <tr>\n",
       "      <th>3</th>\n",
       "      <td>Germany</td>\n",
       "      <td>Germany 1. Bundesliga</td>\n",
       "      <td>30</td>\n",
       "    </tr>\n",
       "    <tr>\n",
       "      <th>7</th>\n",
       "      <td>Portugal</td>\n",
       "      <td>Portugal Liga ZON Sagres</td>\n",
       "      <td>29</td>\n",
       "    </tr>\n",
       "    <tr>\n",
       "      <th>5</th>\n",
       "      <td>Netherlands</td>\n",
       "      <td>Netherlands Eredivisie</td>\n",
       "      <td>25</td>\n",
       "    </tr>\n",
       "    <tr>\n",
       "      <th>0</th>\n",
       "      <td>Belgium</td>\n",
       "      <td>Belgium Jupiler League</td>\n",
       "      <td>24</td>\n",
       "    </tr>\n",
       "    <tr>\n",
       "      <th>6</th>\n",
       "      <td>Poland</td>\n",
       "      <td>Poland Ekstraklasa</td>\n",
       "      <td>22</td>\n",
       "    </tr>\n",
       "    <tr>\n",
       "      <th>8</th>\n",
       "      <td>Scotland</td>\n",
       "      <td>Scotland Premier League</td>\n",
       "      <td>17</td>\n",
       "    </tr>\n",
       "    <tr>\n",
       "      <th>10</th>\n",
       "      <td>Switzerland</td>\n",
       "      <td>Switzerland Super League</td>\n",
       "      <td>15</td>\n",
       "    </tr>\n",
       "  </tbody>\n",
       "</table>\n",
       "</div>"
      ],
      "text/plain": [
       "        country                    league  NumTeam\n",
       "2        France            France Ligue 1       35\n",
       "1       England    England Premier League       34\n",
       "9         Spain           Spain LIGA BBVA       33\n",
       "4         Italy             Italy Serie A       32\n",
       "3       Germany     Germany 1. Bundesliga       30\n",
       "7      Portugal  Portugal Liga ZON Sagres       29\n",
       "5   Netherlands    Netherlands Eredivisie       25\n",
       "0       Belgium    Belgium Jupiler League       24\n",
       "6        Poland        Poland Ekstraklasa       22\n",
       "8      Scotland   Scotland Premier League       17\n",
       "10  Switzerland  Switzerland Super League       15"
      ]
     },
     "execution_count": 9,
     "metadata": {},
     "output_type": "execute_result"
    }
   ],
   "source": [
    "print(\"Number of teams present in league:\")\n",
    "teams_per_c = (clt_df.groupby(['country','league'])\n",
    "                   .agg(NumTeam=('home_team_long_name','nunique'))\n",
    "                   .reset_index()\n",
    "        )\n",
    "teams_per_c.sort_values(by='NumTeam',ascending=False)"
   ]
  },
  {
   "cell_type": "markdown",
   "id": "9593d87c-fdeb-466a-b9b4-fed720ff18bd",
   "metadata": {},
   "source": [
    "### Which league has the most team?"
   ]
  },
  {
   "cell_type": "markdown",
   "id": "eb77f448-b4b4-4e61-bd0e-25cdcc8d4306",
   "metadata": {},
   "source": [
    "<b>Highlight:</b> Most of the countries and leagues has similar high number of teams. Around 30 teams.\n",
    "\n",
    "Most teams having leagues are:\n",
    "- France Ligue 1 (35), \n",
    "- England Premier League (34),\n",
    "- Spain LIGA BBVA (33)\n",
    "\n",
    "Least teams having leagues are:\n",
    "- Switzerland Super League (15)\n",
    "- Scotland Premier League (17)\n",
    "- Poland Ekstraklasa (22)"
   ]
  },
  {
   "cell_type": "markdown",
   "id": "7ed008d5-0d65-4cfc-a6f3-703fd089ff71",
   "metadata": {},
   "source": [
    "### Which leagues score the most/fewest goals?"
   ]
  },
  {
   "cell_type": "code",
   "execution_count": 10,
   "id": "e1dbb8b3-9876-454f-b084-79069da58476",
   "metadata": {},
   "outputs": [
    {
     "data": {
      "text/html": [
       "<div>\n",
       "<style scoped>\n",
       "    .dataframe tbody tr th:only-of-type {\n",
       "        vertical-align: middle;\n",
       "    }\n",
       "\n",
       "    .dataframe tbody tr th {\n",
       "        vertical-align: top;\n",
       "    }\n",
       "\n",
       "    .dataframe thead th {\n",
       "        text-align: right;\n",
       "    }\n",
       "</style>\n",
       "<table border=\"1\" class=\"dataframe\">\n",
       "  <thead>\n",
       "    <tr style=\"text-align: right;\">\n",
       "      <th></th>\n",
       "      <th>year</th>\n",
       "      <th>country</th>\n",
       "      <th>league</th>\n",
       "      <th>total_goals</th>\n",
       "    </tr>\n",
       "  </thead>\n",
       "  <tbody>\n",
       "    <tr>\n",
       "      <th>0</th>\n",
       "      <td>2008</td>\n",
       "      <td>England</td>\n",
       "      <td>England Premier League</td>\n",
       "      <td>512</td>\n",
       "    </tr>\n",
       "    <tr>\n",
       "      <th>1</th>\n",
       "      <td>2008</td>\n",
       "      <td>Netherlands</td>\n",
       "      <td>Netherlands Eredivisie</td>\n",
       "      <td>474</td>\n",
       "    </tr>\n",
       "    <tr>\n",
       "      <th>2</th>\n",
       "      <td>2008</td>\n",
       "      <td>Spain</td>\n",
       "      <td>Spain LIGA BBVA</td>\n",
       "      <td>470</td>\n",
       "    </tr>\n",
       "    <tr>\n",
       "      <th>3</th>\n",
       "      <td>2008</td>\n",
       "      <td>Germany</td>\n",
       "      <td>Germany 1. Bundesliga</td>\n",
       "      <td>462</td>\n",
       "    </tr>\n",
       "    <tr>\n",
       "      <th>4</th>\n",
       "      <td>2008</td>\n",
       "      <td>Belgium</td>\n",
       "      <td>Belgium Jupiler League</td>\n",
       "      <td>437</td>\n",
       "    </tr>\n",
       "  </tbody>\n",
       "</table>\n",
       "</div>"
      ],
      "text/plain": [
       "   year      country                  league  total_goals\n",
       "0  2008      England  England Premier League          512\n",
       "1  2008  Netherlands  Netherlands Eredivisie          474\n",
       "2  2008        Spain         Spain LIGA BBVA          470\n",
       "3  2008      Germany   Germany 1. Bundesliga          462\n",
       "4  2008      Belgium  Belgium Jupiler League          437"
      ]
     },
     "execution_count": 10,
     "metadata": {},
     "output_type": "execute_result"
    }
   ],
   "source": [
    "ls_df = pd.read_sql(\"\"\"\n",
    "        SELECT \n",
    "            SUBSTRING(date,0,5) AS year,\n",
    "            country,\n",
    "            league,\n",
    "            SUM(home_team_goal + away_team_goal) AS total_goals\n",
    "        FROM df_matches\n",
    "        GROUP BY 1,2,3\n",
    "        ORDER BY year ASC, total_goals DESC\n",
    "    \"\"\",conn)\n",
    "ls_df.head(5)"
   ]
  },
  {
   "cell_type": "code",
   "execution_count": 11,
   "id": "3ca60682-00bf-42c4-b8a2-1e1cdf375a59",
   "metadata": {},
   "outputs": [
    {
     "data": {
      "text/plain": [
       "<matplotlib.legend.Legend at 0x7fed59a837f0>"
      ]
     },
     "execution_count": 11,
     "metadata": {},
     "output_type": "execute_result"
    },
    {
     "data": {
      "image/png": "[encoded data removed]",
      "text/plain": [
       "<Figure size 720x432 with 1 Axes>"
      ]
     },
     "metadata": {
      "needs_background": "light"
     },
     "output_type": "display_data"
    }
   ],
   "source": [
    "fig, ax = plt.subplots(figsize = (10,6))\n",
    "\n",
    "sns.lineplot(data=ls_df, \n",
    "            x=\"year\",\n",
    "            y=\"total_goals\", \n",
    "            hue=\"league\",\n",
    "            palette=\"Paired\"\n",
    "           )\n",
    "plt.title(\"Total number of goals per league over the years\", fontsize = 15)\n",
    "ax.legend(loc='upper center', bbox_to_anchor = (1.4, 1),\n",
    "          ncol = 2, fancybox = True, shadow = True, fontsize = 12)"
   ]
  },
  {
   "cell_type": "markdown",
   "id": "4527fb65-68df-492b-bf8e-9e31fc4827a9",
   "metadata": {},
   "source": [
    "<b>Highlight:</b> The most goals scores leagues:\n",
    "- Spain LIGA BBVA, \n",
    "- England Premier League, \n",
    "- Italy Serie A \n",
    "- Netherlands Eredivisie\n",
    "\n",
    "The fewest goals scores leagues:\n",
    "- Switzerland Super League\n",
    "- Poland Ekstraklasa\n",
    "- Scotland Premier League\n",
    "- Belgium Jupiler League\n",
    "\n",
    "Portugal Liga ZON Sagres is also among fewest goals scoring leagues. \n",
    "\n",
    "The fewest goals corring leagues have least teams within them. So the team amount per league could impact total goal scores. Less teams, less matches, less goals.\n",
    "\n",
    "To see which league is actually scoring better, we need to compare medians, means and other statistics."
   ]
  },
  {
   "cell_type": "code",
   "execution_count": 12,
   "id": "f91c4e0a-f06a-4a34-bad2-6c501e96906b",
   "metadata": {},
   "outputs": [],
   "source": [
    "total_ls_df = (ls_df.groupby(['country','league'])\n",
    "                        .agg(TotalGoals=('total_goals','sum'))\n",
    "                        .reset_index()\n",
    "                        .sort_values(by='TotalGoals',\n",
    "                                    ascending=False))\n"
   ]
  },
  {
   "cell_type": "code",
   "execution_count": 13,
   "id": "b3613115-d2e5-4d5f-b217-8e8a38c1aa3f",
   "metadata": {},
   "outputs": [
    {
     "data": {
      "image/png": "[encoded data removed]",
      "text/plain": [
       "<Figure size 864x360 with 1 Axes>"
      ]
     },
     "metadata": {
      "needs_background": "light"
     },
     "output_type": "display_data"
    }
   ],
   "source": [
    "fig, ax = plt.subplots(figsize = (12,5))\n",
    "\n",
    "sns.barplot(data = total_ls_df, \n",
    "            x = \"league\",\n",
    "            y = \"TotalGoals\", \n",
    "            hue = \"league\",\n",
    "            palette=\"Paired\"\n",
    "           )\n",
    "plt.title(\"Total number of goals per league\", fontsize = 15)\n",
    "ax.legend(loc='upper center', bbox_to_anchor = (1.4, 1),\n",
    "          ncol = 2, fancybox = True, shadow = True, fontsize = 12)\n",
    "ax.set_xticklabels(ax.get_xticklabels(),rotation=90, fontsize = 12)\n",
    "plt.show()"
   ]
  },
  {
   "cell_type": "markdown",
   "id": "c85e5eea-5d8f-4287-a1ff-ef2ba3dbc275",
   "metadata": {},
   "source": [
    "<b>Highlight:</b> A similar situation of leagues order by total goals we can see in the graph above."
   ]
  },
  {
   "cell_type": "markdown",
   "id": "552b828a-f562-4fb8-b99f-b27ec58c0783",
   "metadata": {},
   "source": [
    "<b>Leagues goals statistics:</b>"
   ]
  },
  {
   "cell_type": "code",
   "execution_count": 14,
   "id": "9e75e420-731b-4a7f-8253-f1597ef92b45",
   "metadata": {},
   "outputs": [
    {
     "data": {
      "text/html": [
       "<div>\n",
       "<style scoped>\n",
       "    .dataframe tbody tr th:only-of-type {\n",
       "        vertical-align: middle;\n",
       "    }\n",
       "\n",
       "    .dataframe tbody tr th {\n",
       "        vertical-align: top;\n",
       "    }\n",
       "\n",
       "    .dataframe thead th {\n",
       "        text-align: right;\n",
       "    }\n",
       "</style>\n",
       "<table border=\"1\" class=\"dataframe\">\n",
       "  <thead>\n",
       "    <tr style=\"text-align: right;\">\n",
       "      <th></th>\n",
       "      <th>year</th>\n",
       "      <th>country</th>\n",
       "      <th>league</th>\n",
       "      <th>goals</th>\n",
       "    </tr>\n",
       "  </thead>\n",
       "  <tbody>\n",
       "    <tr>\n",
       "      <th>0</th>\n",
       "      <td>2008</td>\n",
       "      <td>Belgium</td>\n",
       "      <td>Belgium Jupiler League</td>\n",
       "      <td>2</td>\n",
       "    </tr>\n",
       "    <tr>\n",
       "      <th>1</th>\n",
       "      <td>2008</td>\n",
       "      <td>Belgium</td>\n",
       "      <td>Belgium Jupiler League</td>\n",
       "      <td>0</td>\n",
       "    </tr>\n",
       "    <tr>\n",
       "      <th>2</th>\n",
       "      <td>2008</td>\n",
       "      <td>Belgium</td>\n",
       "      <td>Belgium Jupiler League</td>\n",
       "      <td>3</td>\n",
       "    </tr>\n",
       "    <tr>\n",
       "      <th>3</th>\n",
       "      <td>2008</td>\n",
       "      <td>Belgium</td>\n",
       "      <td>Belgium Jupiler League</td>\n",
       "      <td>5</td>\n",
       "    </tr>\n",
       "    <tr>\n",
       "      <th>4</th>\n",
       "      <td>2008</td>\n",
       "      <td>Belgium</td>\n",
       "      <td>Belgium Jupiler League</td>\n",
       "      <td>4</td>\n",
       "    </tr>\n",
       "  </tbody>\n",
       "</table>\n",
       "</div>"
      ],
      "text/plain": [
       "   year  country                  league  goals\n",
       "0  2008  Belgium  Belgium Jupiler League      2\n",
       "1  2008  Belgium  Belgium Jupiler League      0\n",
       "2  2008  Belgium  Belgium Jupiler League      3\n",
       "3  2008  Belgium  Belgium Jupiler League      5\n",
       "4  2008  Belgium  Belgium Jupiler League      4"
      ]
     },
     "execution_count": 14,
     "metadata": {},
     "output_type": "execute_result"
    }
   ],
   "source": [
    "lsm_df = pd.read_sql(\"\"\"\n",
    "        SELECT \n",
    "            SUBSTRING(date,0,5) AS year,\n",
    "            country,\n",
    "            league,\n",
    "            home_team_goal + away_team_goal AS goals\n",
    "        FROM df_matches\n",
    "    \"\"\",conn)\n",
    "lsm_df.head(5)"
   ]
  },
  {
   "cell_type": "code",
   "execution_count": 15,
   "id": "22ae651a-9984-427c-aa27-95a39702daef",
   "metadata": {},
   "outputs": [],
   "source": [
    "# 25th Percentile\n",
    "def q25(x):\n",
    "    return x.quantile(0.25)\n",
    "# 50th Percentile\n",
    "def q50(x):\n",
    "    return x.quantile(0.5)\n",
    "def q75(x):\n",
    "    return x.quantile(0.75)"
   ]
  },
  {
   "cell_type": "code",
   "execution_count": 16,
   "id": "8cd797ae-58b0-4028-a218-518011447e3c",
   "metadata": {},
   "outputs": [
    {
     "data": {
      "text/html": [
       "<div>\n",
       "<style scoped>\n",
       "    .dataframe tbody tr th:only-of-type {\n",
       "        vertical-align: middle;\n",
       "    }\n",
       "\n",
       "    .dataframe tbody tr th {\n",
       "        vertical-align: top;\n",
       "    }\n",
       "\n",
       "    .dataframe thead th {\n",
       "        text-align: right;\n",
       "    }\n",
       "</style>\n",
       "<table border=\"1\" class=\"dataframe\">\n",
       "  <thead>\n",
       "    <tr style=\"text-align: right;\">\n",
       "      <th></th>\n",
       "      <th>country</th>\n",
       "      <th>league</th>\n",
       "      <th>goals_min</th>\n",
       "      <th>goals_q25</th>\n",
       "      <th>goals_q50</th>\n",
       "      <th>goals_q75</th>\n",
       "      <th>goals_max</th>\n",
       "      <th>goals_mean</th>\n",
       "    </tr>\n",
       "  </thead>\n",
       "  <tbody>\n",
       "    <tr>\n",
       "      <th>5</th>\n",
       "      <td>Netherlands</td>\n",
       "      <td>Netherlands Eredivisie</td>\n",
       "      <td>0</td>\n",
       "      <td>2.00</td>\n",
       "      <td>3.0</td>\n",
       "      <td>4.0</td>\n",
       "      <td>10</td>\n",
       "      <td>3.080882</td>\n",
       "    </tr>\n",
       "    <tr>\n",
       "      <th>10</th>\n",
       "      <td>Switzerland</td>\n",
       "      <td>Switzerland Super League</td>\n",
       "      <td>0</td>\n",
       "      <td>2.00</td>\n",
       "      <td>3.0</td>\n",
       "      <td>4.0</td>\n",
       "      <td>9</td>\n",
       "      <td>2.929677</td>\n",
       "    </tr>\n",
       "    <tr>\n",
       "      <th>3</th>\n",
       "      <td>Germany</td>\n",
       "      <td>Germany 1. Bundesliga</td>\n",
       "      <td>0</td>\n",
       "      <td>2.00</td>\n",
       "      <td>3.0</td>\n",
       "      <td>4.0</td>\n",
       "      <td>11</td>\n",
       "      <td>2.901552</td>\n",
       "    </tr>\n",
       "    <tr>\n",
       "      <th>0</th>\n",
       "      <td>Belgium</td>\n",
       "      <td>Belgium Jupiler League</td>\n",
       "      <td>0</td>\n",
       "      <td>2.00</td>\n",
       "      <td>3.0</td>\n",
       "      <td>4.0</td>\n",
       "      <td>9</td>\n",
       "      <td>2.801505</td>\n",
       "    </tr>\n",
       "    <tr>\n",
       "      <th>9</th>\n",
       "      <td>Spain</td>\n",
       "      <td>Spain LIGA BBVA</td>\n",
       "      <td>0</td>\n",
       "      <td>1.75</td>\n",
       "      <td>3.0</td>\n",
       "      <td>4.0</td>\n",
       "      <td>12</td>\n",
       "      <td>2.767105</td>\n",
       "    </tr>\n",
       "    <tr>\n",
       "      <th>1</th>\n",
       "      <td>England</td>\n",
       "      <td>England Premier League</td>\n",
       "      <td>0</td>\n",
       "      <td>1.00</td>\n",
       "      <td>3.0</td>\n",
       "      <td>4.0</td>\n",
       "      <td>10</td>\n",
       "      <td>2.710526</td>\n",
       "    </tr>\n",
       "    <tr>\n",
       "      <th>8</th>\n",
       "      <td>Scotland</td>\n",
       "      <td>Scotland Premier League</td>\n",
       "      <td>0</td>\n",
       "      <td>1.00</td>\n",
       "      <td>2.0</td>\n",
       "      <td>4.0</td>\n",
       "      <td>12</td>\n",
       "      <td>2.633772</td>\n",
       "    </tr>\n",
       "    <tr>\n",
       "      <th>4</th>\n",
       "      <td>Italy</td>\n",
       "      <td>Italy Serie A</td>\n",
       "      <td>0</td>\n",
       "      <td>1.00</td>\n",
       "      <td>2.0</td>\n",
       "      <td>4.0</td>\n",
       "      <td>9</td>\n",
       "      <td>2.616838</td>\n",
       "    </tr>\n",
       "    <tr>\n",
       "      <th>7</th>\n",
       "      <td>Portugal</td>\n",
       "      <td>Portugal Liga ZON Sagres</td>\n",
       "      <td>0</td>\n",
       "      <td>1.00</td>\n",
       "      <td>2.0</td>\n",
       "      <td>4.0</td>\n",
       "      <td>9</td>\n",
       "      <td>2.534600</td>\n",
       "    </tr>\n",
       "    <tr>\n",
       "      <th>2</th>\n",
       "      <td>France</td>\n",
       "      <td>France Ligue 1</td>\n",
       "      <td>0</td>\n",
       "      <td>1.00</td>\n",
       "      <td>2.0</td>\n",
       "      <td>3.0</td>\n",
       "      <td>10</td>\n",
       "      <td>2.443092</td>\n",
       "    </tr>\n",
       "    <tr>\n",
       "      <th>6</th>\n",
       "      <td>Poland</td>\n",
       "      <td>Poland Ekstraklasa</td>\n",
       "      <td>0</td>\n",
       "      <td>1.00</td>\n",
       "      <td>2.0</td>\n",
       "      <td>3.0</td>\n",
       "      <td>8</td>\n",
       "      <td>2.425000</td>\n",
       "    </tr>\n",
       "  </tbody>\n",
       "</table>\n",
       "</div>"
      ],
      "text/plain": [
       "        country                    league  goals_min  goals_q25  goals_q50  \\\n",
       "5   Netherlands    Netherlands Eredivisie          0       2.00        3.0   \n",
       "10  Switzerland  Switzerland Super League          0       2.00        3.0   \n",
       "3       Germany     Germany 1. Bundesliga          0       2.00        3.0   \n",
       "0       Belgium    Belgium Jupiler League          0       2.00        3.0   \n",
       "9         Spain           Spain LIGA BBVA          0       1.75        3.0   \n",
       "1       England    England Premier League          0       1.00        3.0   \n",
       "8      Scotland   Scotland Premier League          0       1.00        2.0   \n",
       "4         Italy             Italy Serie A          0       1.00        2.0   \n",
       "7      Portugal  Portugal Liga ZON Sagres          0       1.00        2.0   \n",
       "2        France            France Ligue 1          0       1.00        2.0   \n",
       "6        Poland        Poland Ekstraklasa          0       1.00        2.0   \n",
       "\n",
       "    goals_q75  goals_max  goals_mean  \n",
       "5         4.0         10    3.080882  \n",
       "10        4.0          9    2.929677  \n",
       "3         4.0         11    2.901552  \n",
       "0         4.0          9    2.801505  \n",
       "9         4.0         12    2.767105  \n",
       "1         4.0         10    2.710526  \n",
       "8         4.0         12    2.633772  \n",
       "4         4.0          9    2.616838  \n",
       "7         4.0          9    2.534600  \n",
       "2         3.0         10    2.443092  \n",
       "6         3.0          8    2.425000  "
      ]
     },
     "execution_count": 16,
     "metadata": {},
     "output_type": "execute_result"
    }
   ],
   "source": [
    "lsm_df_stats = (lsm_df.groupby(['country','league'])\n",
    "                    .agg({'goals': ['min',q25,q50,q75,'max','mean']})\n",
    "               )\n",
    "lsm_df_stats = pd.DataFrame(lsm_df_stats.to_records())\n",
    "\n",
    "lsm_df_stats.rename(columns={\"('goals', 'min')\": \"goals_min\", \\\n",
    "            \"('goals', 'q25')\": \"goals_q25\", \\\n",
    "            \"('goals', 'q50')\": \"goals_q50\", \\\n",
    "            \"('goals', 'q75')\": \"goals_q75\", \\\n",
    "            \"('goals', 'max')\": \"goals_max\", \\\n",
    "            \"('goals', 'mean')\": \"goals_mean\" }\n",
    "            , inplace=True)\n",
    "lsm_df_stats = lsm_df_stats.sort_values(by='goals_mean',ascending=False)\n",
    "lsm_df_stats"
   ]
  },
  {
   "cell_type": "markdown",
   "id": "28fb906c-70bb-4d2c-9c4d-9b68a39d741a",
   "metadata": {},
   "source": [
    "<b>Highlight:</b> Based on median there is no big gap between leagues matches goals medians (match goal median is eitheir 2 or 3).  Other statistics also does not differ that much (p25, p75)."
   ]
  },
  {
   "cell_type": "code",
   "execution_count": 17,
   "id": "cdaa5bfc-c787-4c5b-af48-640c3ded50bf",
   "metadata": {},
   "outputs": [
    {
     "data": {
      "image/png": "[encoded data removed]",
      "text/plain": [
       "<Figure size 864x360 with 1 Axes>"
      ]
     },
     "metadata": {
      "needs_background": "light"
     },
     "output_type": "display_data"
    }
   ],
   "source": [
    "fig, ax = plt.subplots(figsize = (12,5))\n",
    "\n",
    "sns.barplot(data = lsm_df_stats, \n",
    "            x = \"league\",\n",
    "            y = \"goals_mean\", \n",
    "            hue = \"league\",\n",
    "            palette=\"Paired\"\n",
    "           )\n",
    "plt.title(\"Match goals mean per league\", fontsize = 15)\n",
    "ax.legend(loc='upper center', bbox_to_anchor = (1.4, 1),\n",
    "          ncol = 2, fancybox = True, shadow = True, fontsize = 12)\n",
    "ax.set_xticklabels(ax.get_xticklabels(),rotation=90, fontsize = 12)\n",
    "plt.show()"
   ]
  },
  {
   "cell_type": "markdown",
   "id": "a3a89f9c-1f1a-425e-9d2c-34c51a0a56cf",
   "metadata": {},
   "source": [
    "<b>Highlight:</b> Best matches goals mean is on:\n",
    "- Netherlands Eredivisie (3.1)\n",
    "- Switzerland Super League (2.9)\n",
    "- Germany 1. Bundesliga (2.9)\n",
    "\n",
    "Lowest matches goals mean is on:\n",
    "- Poland Ekstraklasa (2.4)\n",
    "- France Ligue 1 (2.4)\n",
    "- Portugal Liga ZON Sagres (2.5)"
   ]
  },
  {
   "cell_type": "markdown",
   "id": "84e388cb-8cce-4572-9657-f7c1282312c9",
   "metadata": {},
   "source": [
    "### Top teams amd league by players ratings"
   ]
  },
  {
   "cell_type": "markdown",
   "id": "f72d6dfc-f68a-4041-b744-5fc3591ef935",
   "metadata": {},
   "source": [
    "We will use players overall rating to evaluate top teams and top leagues.\n",
    "We will asume if the team/laegue has the best rating playes, they should perform great, too.\n",
    "\n",
    "For this reason we will extract players from the macth dataset and assign them to the teams and leagues they belong. We will map players ratings.\n",
    "\n",
    "Then we will list teams and count their players ratings sum and median to find top best ratings having teams.\n",
    "Similar approach will be applief for the leagues."
   ]
  },
  {
   "cell_type": "code",
   "execution_count": 22,
   "id": "3a5ebb64-0d2a-4441-ba1c-c0bac100202b",
   "metadata": {},
   "outputs": [
    {
     "data": {
      "text/html": [
       "<div>\n",
       "<style scoped>\n",
       "    .dataframe tbody tr th:only-of-type {\n",
       "        vertical-align: middle;\n",
       "    }\n",
       "\n",
       "    .dataframe tbody tr th {\n",
       "        vertical-align: top;\n",
       "    }\n",
       "\n",
       "    .dataframe thead th {\n",
       "        text-align: right;\n",
       "    }\n",
       "</style>\n",
       "<table border=\"1\" class=\"dataframe\">\n",
       "  <thead>\n",
       "    <tr style=\"text-align: right;\">\n",
       "      <th></th>\n",
       "      <th>id</th>\n",
       "      <th>country_id</th>\n",
       "      <th>name</th>\n",
       "    </tr>\n",
       "  </thead>\n",
       "  <tbody>\n",
       "    <tr>\n",
       "      <th>0</th>\n",
       "      <td>1</td>\n",
       "      <td>1</td>\n",
       "      <td>Belgium Jupiler League</td>\n",
       "    </tr>\n",
       "    <tr>\n",
       "      <th>1</th>\n",
       "      <td>1729</td>\n",
       "      <td>1729</td>\n",
       "      <td>England Premier League</td>\n",
       "    </tr>\n",
       "  </tbody>\n",
       "</table>\n",
       "</div>"
      ],
      "text/plain": [
       "     id  country_id                    name\n",
       "0     1           1  Belgium Jupiler League\n",
       "1  1729        1729  England Premier League"
      ]
     },
     "execution_count": 22,
     "metadata": {},
     "output_type": "execute_result"
    }
   ],
   "source": [
    "df_p = pd.read_csv(\"/Users/kristinazekiene/Documents/LearningPython/TuringCollege/M2Capstone/Output/players.csv\")\n",
    "df_p.head(2)\n",
    "\n",
    "df_t = pd.read_csv(\"/Users/kristinazekiene/Documents/LearningPython/TuringCollege/M2Capstone/Output/teams.csv\")\n",
    "df_t.head(2)\n",
    "\n",
    "df_m = pd.read_csv(\"/Users/kristinazekiene/Documents/LearningPython/TuringCollege/M2Capstone/Output/matches.csv\")\n",
    "df_m = df_m.rename(columns={'league_id_x':'league_id'})\n",
    "df_m.head(2)\n",
    "\n",
    "df_l = pd.read_sql_query(\"\"\"\n",
    "            SELECT \n",
    "                *\n",
    "            FROM League AS L \n",
    "            \"\"\", con)\n",
    "\n",
    "df_l.head(2)"
   ]
  },
  {
   "cell_type": "markdown",
   "id": "b1cf1671-8d4a-44c6-b711-a6bbb0f86c41",
   "metadata": {},
   "source": [
    "<b>Top 5 teams based on their players ratings</b>"
   ]
  },
  {
   "cell_type": "code",
   "execution_count": 20,
   "id": "5457e003-3eab-4b1a-8bd7-5674c0423845",
   "metadata": {},
   "outputs": [
    {
     "data": {
      "text/html": [
       "<div>\n",
       "<style scoped>\n",
       "    .dataframe tbody tr th:only-of-type {\n",
       "        vertical-align: middle;\n",
       "    }\n",
       "\n",
       "    .dataframe tbody tr th {\n",
       "        vertical-align: top;\n",
       "    }\n",
       "\n",
       "    .dataframe thead th {\n",
       "        text-align: right;\n",
       "    }\n",
       "</style>\n",
       "<table border=\"1\" class=\"dataframe\">\n",
       "  <thead>\n",
       "    <tr style=\"text-align: right;\">\n",
       "      <th></th>\n",
       "      <th>rank1</th>\n",
       "      <th>team_api_id</th>\n",
       "      <th>overall_rating</th>\n",
       "      <th>team_long_name</th>\n",
       "    </tr>\n",
       "  </thead>\n",
       "  <tbody>\n",
       "    <tr>\n",
       "      <th>0</th>\n",
       "      <td>1</td>\n",
       "      <td>8634</td>\n",
       "      <td>1272.0</td>\n",
       "      <td>FC Barcelona</td>\n",
       "    </tr>\n",
       "    <tr>\n",
       "      <th>1</th>\n",
       "      <td>2</td>\n",
       "      <td>8633</td>\n",
       "      <td>1267.0</td>\n",
       "      <td>Real Madrid CF</td>\n",
       "    </tr>\n",
       "    <tr>\n",
       "      <th>2</th>\n",
       "      <td>3</td>\n",
       "      <td>8455</td>\n",
       "      <td>1264.0</td>\n",
       "      <td>Chelsea</td>\n",
       "    </tr>\n",
       "    <tr>\n",
       "      <th>3</th>\n",
       "      <td>4</td>\n",
       "      <td>8456</td>\n",
       "      <td>1263.0</td>\n",
       "      <td>Manchester City</td>\n",
       "    </tr>\n",
       "    <tr>\n",
       "      <th>4</th>\n",
       "      <td>5</td>\n",
       "      <td>9906</td>\n",
       "      <td>1262.0</td>\n",
       "      <td>Atlético Madrid</td>\n",
       "    </tr>\n",
       "  </tbody>\n",
       "</table>\n",
       "</div>"
      ],
      "text/plain": [
       "   rank1  team_api_id  overall_rating   team_long_name\n",
       "0      1         8634          1272.0     FC Barcelona\n",
       "1      2         8633          1267.0   Real Madrid CF\n",
       "2      3         8455          1264.0          Chelsea\n",
       "3      4         8456          1263.0  Manchester City\n",
       "4      5         9906          1262.0  Atlético Madrid"
      ]
     },
     "execution_count": 20,
     "metadata": {},
     "output_type": "execute_result"
    }
   ],
   "source": [
    "df = top_N_team(df_t,df_p,df_m,season=\"2015/2016\")\n",
    "df.index = range(1,len(df.index)+1)\n",
    "df.reset_index(level=0, inplace=True)\n",
    "df.rename( columns={\"index\":\"rank1\"},inplace=True)\n",
    "df_rank = df\n",
    "df"
   ]
  },
  {
   "cell_type": "markdown",
   "id": "cffad706-8fc6-4f5f-a6d4-d263d5654fc4",
   "metadata": {},
   "source": [
    "<b>Top leagues based on teams players ratings sum</b>"
   ]
  },
  {
   "cell_type": "code",
   "execution_count": 88,
   "id": "21e8d5f6-39cb-4c9d-b0e6-be9212d0d0b4",
   "metadata": {},
   "outputs": [
    {
     "data": {
      "text/html": [
       "<div>\n",
       "<style scoped>\n",
       "    .dataframe tbody tr th:only-of-type {\n",
       "        vertical-align: middle;\n",
       "    }\n",
       "\n",
       "    .dataframe tbody tr th {\n",
       "        vertical-align: top;\n",
       "    }\n",
       "\n",
       "    .dataframe thead th {\n",
       "        text-align: right;\n",
       "    }\n",
       "</style>\n",
       "<table border=\"1\" class=\"dataframe\">\n",
       "  <thead>\n",
       "    <tr style=\"text-align: right;\">\n",
       "      <th></th>\n",
       "      <th>league_id</th>\n",
       "      <th>team_api_id</th>\n",
       "      <th>overall_rating</th>\n",
       "      <th>country_id</th>\n",
       "      <th>name</th>\n",
       "    </tr>\n",
       "  </thead>\n",
       "  <tbody>\n",
       "    <tr>\n",
       "      <th>10</th>\n",
       "      <td>24558</td>\n",
       "      <td>100835</td>\n",
       "      <td>9702.0</td>\n",
       "      <td>24558</td>\n",
       "      <td>Switzerland Super League</td>\n",
       "    </tr>\n",
       "    <tr>\n",
       "      <th>8</th>\n",
       "      <td>19694</td>\n",
       "      <td>116853</td>\n",
       "      <td>12524.0</td>\n",
       "      <td>19694</td>\n",
       "      <td>Scotland Premier League</td>\n",
       "    </tr>\n",
       "    <tr>\n",
       "      <th>6</th>\n",
       "      <td>15722</td>\n",
       "      <td>115904</td>\n",
       "      <td>16607.0</td>\n",
       "      <td>15722</td>\n",
       "      <td>Poland Ekstraklasa</td>\n",
       "    </tr>\n",
       "    <tr>\n",
       "      <th>0</th>\n",
       "      <td>1</td>\n",
       "      <td>427067</td>\n",
       "      <td>18869.0</td>\n",
       "      <td>1</td>\n",
       "      <td>Belgium Jupiler League</td>\n",
       "    </tr>\n",
       "    <tr>\n",
       "      <th>7</th>\n",
       "      <td>17642</td>\n",
       "      <td>311550</td>\n",
       "      <td>19606.0</td>\n",
       "      <td>17642</td>\n",
       "      <td>Portugal Liga ZON Sagres</td>\n",
       "    </tr>\n",
       "    <tr>\n",
       "      <th>5</th>\n",
       "      <td>13274</td>\n",
       "      <td>185965</td>\n",
       "      <td>22464.0</td>\n",
       "      <td>13274</td>\n",
       "      <td>Netherlands Eredivisie</td>\n",
       "    </tr>\n",
       "    <tr>\n",
       "      <th>3</th>\n",
       "      <td>7809</td>\n",
       "      <td>181708</td>\n",
       "      <td>23075.0</td>\n",
       "      <td>7809</td>\n",
       "      <td>Germany 1. Bundesliga</td>\n",
       "    </tr>\n",
       "    <tr>\n",
       "      <th>2</th>\n",
       "      <td>4769</td>\n",
       "      <td>205902</td>\n",
       "      <td>25195.0</td>\n",
       "      <td>4769</td>\n",
       "      <td>France Ligue 1</td>\n",
       "    </tr>\n",
       "    <tr>\n",
       "      <th>4</th>\n",
       "      <td>10257</td>\n",
       "      <td>410448</td>\n",
       "      <td>26102.0</td>\n",
       "      <td>10257</td>\n",
       "      <td>Italy Serie A</td>\n",
       "    </tr>\n",
       "    <tr>\n",
       "      <th>9</th>\n",
       "      <td>21518</td>\n",
       "      <td>207223</td>\n",
       "      <td>26963.0</td>\n",
       "      <td>21518</td>\n",
       "      <td>Spain LIGA BBVA</td>\n",
       "    </tr>\n",
       "    <tr>\n",
       "      <th>1</th>\n",
       "      <td>1729</td>\n",
       "      <td>211259</td>\n",
       "      <td>27031.0</td>\n",
       "      <td>1729</td>\n",
       "      <td>England Premier League</td>\n",
       "    </tr>\n",
       "  </tbody>\n",
       "</table>\n",
       "</div>"
      ],
      "text/plain": [
       "    league_id  team_api_id  overall_rating  country_id  \\\n",
       "10      24558       100835          9702.0       24558   \n",
       "8       19694       116853         12524.0       19694   \n",
       "6       15722       115904         16607.0       15722   \n",
       "0           1       427067         18869.0           1   \n",
       "7       17642       311550         19606.0       17642   \n",
       "5       13274       185965         22464.0       13274   \n",
       "3        7809       181708         23075.0        7809   \n",
       "2        4769       205902         25195.0        4769   \n",
       "4       10257       410448         26102.0       10257   \n",
       "9       21518       207223         26963.0       21518   \n",
       "1        1729       211259         27031.0        1729   \n",
       "\n",
       "                        name  \n",
       "10  Switzerland Super League  \n",
       "8    Scotland Premier League  \n",
       "6         Poland Ekstraklasa  \n",
       "0     Belgium Jupiler League  \n",
       "7   Portugal Liga ZON Sagres  \n",
       "5     Netherlands Eredivisie  \n",
       "3      Germany 1. Bundesliga  \n",
       "2             France Ligue 1  \n",
       "4              Italy Serie A  \n",
       "9            Spain LIGA BBVA  \n",
       "1     England Premier League  "
      ]
     },
     "execution_count": 88,
     "metadata": {},
     "output_type": "execute_result"
    }
   ],
   "source": [
    "df = top_leagues(df_t,df_p,df_m,season=\"2015/2016\")\n",
    "df = df.groupby(\"league_id\").sum()\n",
    "df.reset_index(level=0, inplace=True)\n",
    "df_l.rename( columns={\"id\":\"league_id\" },inplace=True)\n",
    "df = pd.merge(df,df_l,on=\"league_id\")\n",
    "df.sort_values(\"overall_rating\")"
   ]
  },
  {
   "cell_type": "markdown",
   "id": "d98212a5-2eea-4a0e-8663-29ef97d8c873",
   "metadata": {},
   "source": [
    "<b>Top leagues based on teams players ratings median</b>"
   ]
  },
  {
   "cell_type": "code",
   "execution_count": 91,
   "id": "d2f2d32c-5a58-4907-8369-0b79e52881da",
   "metadata": {},
   "outputs": [
    {
     "data": {
      "text/html": [
       "<div>\n",
       "<style scoped>\n",
       "    .dataframe tbody tr th:only-of-type {\n",
       "        vertical-align: middle;\n",
       "    }\n",
       "\n",
       "    .dataframe tbody tr th {\n",
       "        vertical-align: top;\n",
       "    }\n",
       "\n",
       "    .dataframe thead th {\n",
       "        text-align: right;\n",
       "    }\n",
       "</style>\n",
       "<table border=\"1\" class=\"dataframe\">\n",
       "  <thead>\n",
       "    <tr style=\"text-align: right;\">\n",
       "      <th></th>\n",
       "      <th>league_id</th>\n",
       "      <th>team_api_id</th>\n",
       "      <th>overall_rating</th>\n",
       "      <th>country_id</th>\n",
       "      <th>name</th>\n",
       "    </tr>\n",
       "  </thead>\n",
       "  <tbody>\n",
       "    <tr>\n",
       "      <th>8</th>\n",
       "      <td>19694</td>\n",
       "      <td>8597.0</td>\n",
       "      <td>957.0</td>\n",
       "      <td>19694</td>\n",
       "      <td>Scotland Premier League</td>\n",
       "    </tr>\n",
       "    <tr>\n",
       "      <th>10</th>\n",
       "      <td>24558</td>\n",
       "      <td>10184.5</td>\n",
       "      <td>962.5</td>\n",
       "      <td>24558</td>\n",
       "      <td>Switzerland Super League</td>\n",
       "    </tr>\n",
       "    <tr>\n",
       "      <th>6</th>\n",
       "      <td>15722</td>\n",
       "      <td>8025.0</td>\n",
       "      <td>987.0</td>\n",
       "      <td>15722</td>\n",
       "      <td>Poland Ekstraklasa</td>\n",
       "    </tr>\n",
       "    <tr>\n",
       "      <th>0</th>\n",
       "      <td>1</td>\n",
       "      <td>9985.5</td>\n",
       "      <td>1043.5</td>\n",
       "      <td>1</td>\n",
       "      <td>Belgium Jupiler League</td>\n",
       "    </tr>\n",
       "    <tr>\n",
       "      <th>5</th>\n",
       "      <td>13274</td>\n",
       "      <td>8640.0</td>\n",
       "      <td>1062.0</td>\n",
       "      <td>13274</td>\n",
       "      <td>Netherlands Eredivisie</td>\n",
       "    </tr>\n",
       "    <tr>\n",
       "      <th>7</th>\n",
       "      <td>17642</td>\n",
       "      <td>9770.0</td>\n",
       "      <td>1062.5</td>\n",
       "      <td>17642</td>\n",
       "      <td>Portugal Liga ZON Sagres</td>\n",
       "    </tr>\n",
       "    <tr>\n",
       "      <th>2</th>\n",
       "      <td>4769</td>\n",
       "      <td>9748.0</td>\n",
       "      <td>1096.0</td>\n",
       "      <td>4769</td>\n",
       "      <td>France Ligue 1</td>\n",
       "    </tr>\n",
       "    <tr>\n",
       "      <th>4</th>\n",
       "      <td>10257</td>\n",
       "      <td>8686.0</td>\n",
       "      <td>1122.0</td>\n",
       "      <td>10257</td>\n",
       "      <td>Italy Serie A</td>\n",
       "    </tr>\n",
       "    <tr>\n",
       "      <th>3</th>\n",
       "      <td>7809</td>\n",
       "      <td>8721.5</td>\n",
       "      <td>1147.0</td>\n",
       "      <td>7809</td>\n",
       "      <td>Germany 1. Bundesliga</td>\n",
       "    </tr>\n",
       "    <tr>\n",
       "      <th>1</th>\n",
       "      <td>1729</td>\n",
       "      <td>8668.0</td>\n",
       "      <td>1159.0</td>\n",
       "      <td>1729</td>\n",
       "      <td>England Premier League</td>\n",
       "    </tr>\n",
       "    <tr>\n",
       "      <th>9</th>\n",
       "      <td>21518</td>\n",
       "      <td>8603.0</td>\n",
       "      <td>1160.0</td>\n",
       "      <td>21518</td>\n",
       "      <td>Spain LIGA BBVA</td>\n",
       "    </tr>\n",
       "  </tbody>\n",
       "</table>\n",
       "</div>"
      ],
      "text/plain": [
       "    league_id  team_api_id  overall_rating  country_id  \\\n",
       "8       19694       8597.0           957.0       19694   \n",
       "10      24558      10184.5           962.5       24558   \n",
       "6       15722       8025.0           987.0       15722   \n",
       "0           1       9985.5          1043.5           1   \n",
       "5       13274       8640.0          1062.0       13274   \n",
       "7       17642       9770.0          1062.5       17642   \n",
       "2        4769       9748.0          1096.0        4769   \n",
       "4       10257       8686.0          1122.0       10257   \n",
       "3        7809       8721.5          1147.0        7809   \n",
       "1        1729       8668.0          1159.0        1729   \n",
       "9       21518       8603.0          1160.0       21518   \n",
       "\n",
       "                        name  \n",
       "8    Scotland Premier League  \n",
       "10  Switzerland Super League  \n",
       "6         Poland Ekstraklasa  \n",
       "0     Belgium Jupiler League  \n",
       "5     Netherlands Eredivisie  \n",
       "7   Portugal Liga ZON Sagres  \n",
       "2             France Ligue 1  \n",
       "4              Italy Serie A  \n",
       "3      Germany 1. Bundesliga  \n",
       "1     England Premier League  \n",
       "9            Spain LIGA BBVA  "
      ]
     },
     "execution_count": 91,
     "metadata": {},
     "output_type": "execute_result"
    }
   ],
   "source": [
    "df = top_leagues(df_t,df_p,df_m,season=\"2015/2016\")\n",
    "df = df.groupby(\"league_id\").median()\n",
    "df.reset_index(level=0, inplace=True)\n",
    "df = pd.merge(df,df_l,on=\"league_id\")\n",
    "df_l.rename( columns={\"id\":\"league_id\" },inplace=True)\n",
    "df.sort_values(\"overall_rating\")"
   ]
  },
  {
   "cell_type": "markdown",
   "id": "64db62ed-c758-4ae0-af90-cafa4ae83d96",
   "metadata": {},
   "source": [
    "## Is there such a thing as home advantage?"
   ]
  },
  {
   "cell_type": "markdown",
   "id": "cac6d894-d5f1-4332-8399-b9cca7654955",
   "metadata": {},
   "source": [
    "Home advangate we could interprete as more goals scorring, more shots made to the gates. "
   ]
  },
  {
   "cell_type": "markdown",
   "id": "0ea5755d-879b-4cac-89dd-6d6d7fde9e96",
   "metadata": {},
   "source": [
    "#### Based on shoton"
   ]
  },
  {
   "cell_type": "markdown",
   "id": "ab693616-9e1a-4116-86e4-626616994fe0",
   "metadata": {},
   "source": [
    "In match dataset we have attribute shoton:\n",
    "\"Shoton\" a shot that enters the goal or would have entered the goal if it had not been blocked by the goalkeeper or another defensive player. We will use this attribute to measure team performance.\n",
    "\n",
    "\n",
    "To test if teams playing at home performs better we will for statement \n",
    "\n",
    "<b><i>Home league team shots (shoton) more often significantly than away league team</i></b>\n",
    "\n",
    "and we will raise hypothesis:\n",
    "\n",
    "<b>H0: Shoton number difference means between Home and Away league teams is equal.</b> (μ1=μ2)\n",
    "\n",
    "<b> H1: Shoton number difference means between Home and Away league teams is significant different from 0. (μ1≠μ2) </b>\n",
    "\n",
    "\n",
    "In match data set there is many empty, missing values. For this analysis we fill the missing values."
   ]
  },
  {
   "cell_type": "code",
   "execution_count": 19,
   "id": "960c3f9c-5b9c-4963-9e24-b2733152dffe",
   "metadata": {},
   "outputs": [],
   "source": [
    "for attribute in [\"home_player_X\", \"away_player_X\", \"home_player_\", \"away_player_\", \"home_player_Y\", \"away_player_Y\"]:\n",
    "    for number in range(1,2):\n",
    "        variable = str(attribute) + \"\" + str(number)\n",
    "        null_match_instances = df_m[df_m[variable].isnull()].index\n",
    "        df_m.drop(null_match_instances,inplace=True)\n",
    "        df_m[variable] = df_m[variable].astype(int)"
   ]
  },
  {
   "cell_type": "code",
   "execution_count": 20,
   "id": "aa300ac6-6fa8-4eda-aef0-cd04d6c58b72",
   "metadata": {},
   "outputs": [
    {
     "data": {
      "text/plain": [
       "id_x                    0\n",
       "country_id              0\n",
       "league_id_x             0\n",
       "season                  0\n",
       "stage                   0\n",
       "                       ..\n",
       "league                  0\n",
       "home_team_long_name     0\n",
       "home_team_short_name    0\n",
       "away_team_long_name     0\n",
       "away_team_short_name    0\n",
       "Length: 121, dtype: int64"
      ]
     },
     "execution_count": 20,
     "metadata": {},
     "output_type": "execute_result"
    }
   ],
   "source": [
    "df_m.isnull().sum()"
   ]
  },
  {
   "cell_type": "markdown",
   "id": "c362506c-bd41-4157-a88b-274288faf5cf",
   "metadata": {},
   "source": [
    "Removing missing values in shoton column"
   ]
  },
  {
   "cell_type": "code",
   "execution_count": 21,
   "id": "b3b9a3c7-00d4-404a-82e8-7cc54d8156b5",
   "metadata": {},
   "outputs": [
    {
     "data": {
      "text/plain": [
       "(14155, 121)"
      ]
     },
     "execution_count": 21,
     "metadata": {},
     "output_type": "execute_result"
    }
   ],
   "source": [
    "df_mt = df_m.dropna( how='any',\n",
    "                          subset=['shoton'])\n",
    "df_mt.shape"
   ]
  },
  {
   "cell_type": "code",
   "execution_count": 22,
   "id": "5863e407-98b3-4df9-ab00-abac3ea7bf14",
   "metadata": {},
   "outputs": [
    {
     "data": {
      "text/plain": [
       "(23895, 121)"
      ]
     },
     "execution_count": 22,
     "metadata": {},
     "output_type": "execute_result"
    }
   ],
   "source": [
    "df_m.shape"
   ]
  },
  {
   "cell_type": "code",
   "execution_count": 23,
   "id": "d23c9afb-ed4a-4cf2-9483-32fc8e4f4023",
   "metadata": {},
   "outputs": [],
   "source": [
    "df_mt[\"shoton_away\"] = np.nan\n",
    "df_mt[\"shoton_home\"] = np.nan\n",
    "clear_output()"
   ]
  },
  {
   "cell_type": "code",
   "execution_count": 24,
   "id": "f89c4552-d57d-4fc4-96fb-6dbf21dc0486",
   "metadata": {},
   "outputs": [],
   "source": [
    "df_mt[\"shoton_away\"] = df_mt.apply(lambda x : extract_xml(x,\"shoton\",\"team\",\"away\"), axis = 1)\n",
    "df_mt[\"shoton_home\"] = df_mt.apply(lambda x : extract_xml(x,\"shoton\",\"team\",\"home\"), axis = 1)\n",
    "clear_output()"
   ]
  },
  {
   "cell_type": "code",
   "execution_count": 25,
   "id": "ebbaadf9-f297-4e31-b615-0127f93ef767",
   "metadata": {},
   "outputs": [
    {
     "data": {
      "text/html": [
       "<div>\n",
       "<style scoped>\n",
       "    .dataframe tbody tr th:only-of-type {\n",
       "        vertical-align: middle;\n",
       "    }\n",
       "\n",
       "    .dataframe tbody tr th {\n",
       "        vertical-align: top;\n",
       "    }\n",
       "\n",
       "    .dataframe thead th {\n",
       "        text-align: right;\n",
       "    }\n",
       "</style>\n",
       "<table border=\"1\" class=\"dataframe\">\n",
       "  <thead>\n",
       "    <tr style=\"text-align: right;\">\n",
       "      <th></th>\n",
       "      <th>shoton_away</th>\n",
       "      <th>shoton_home</th>\n",
       "    </tr>\n",
       "  </thead>\n",
       "  <tbody>\n",
       "    <tr>\n",
       "      <th>1728</th>\n",
       "      <td>1</td>\n",
       "      <td>11</td>\n",
       "    </tr>\n",
       "    <tr>\n",
       "      <th>1729</th>\n",
       "      <td>2</td>\n",
       "      <td>12</td>\n",
       "    </tr>\n",
       "    <tr>\n",
       "      <th>1730</th>\n",
       "      <td>11</td>\n",
       "      <td>4</td>\n",
       "    </tr>\n",
       "  </tbody>\n",
       "</table>\n",
       "</div>"
      ],
      "text/plain": [
       "      shoton_away  shoton_home\n",
       "1728            1           11\n",
       "1729            2           12\n",
       "1730           11            4"
      ]
     },
     "execution_count": 25,
     "metadata": {},
     "output_type": "execute_result"
    }
   ],
   "source": [
    "df_mt[['shoton_away','shoton_home']].head(3)"
   ]
  },
  {
   "cell_type": "code",
   "execution_count": 26,
   "id": "b1b4b0b5-77ca-4c1e-b570-41575b1905e4",
   "metadata": {},
   "outputs": [
    {
     "data": {
      "image/png": "[encoded data removed]",
      "text/plain": [
       "<Figure size 432x288 with 1 Axes>"
      ]
     },
     "metadata": {
      "needs_background": "light"
     },
     "output_type": "display_data"
    }
   ],
   "source": [
    "sns.kdeplot(data=df_mt[[\"shoton_away\", \"shoton_home\"]], shade=False,legend=True)\n",
    "plt.title(\"Shotons home and away teams\", fontsize = 15)\n",
    "plt.show()"
   ]
  },
  {
   "cell_type": "markdown",
   "id": "ba5ca9d5-8f65-43ae-926e-fc90949b6b86",
   "metadata": {},
   "source": [
    "<b>Highlight:</b> According to the following graph, it seems that home teams tend to make more shots on goal than away teams."
   ]
  },
  {
   "cell_type": "code",
   "execution_count": 27,
   "id": "6fe637e2-043a-4ad8-b299-d9e74555f133",
   "metadata": {},
   "outputs": [
    {
     "data": {
      "text/html": [
       "<div>\n",
       "<style scoped>\n",
       "    .dataframe tbody tr th:only-of-type {\n",
       "        vertical-align: middle;\n",
       "    }\n",
       "\n",
       "    .dataframe tbody tr th {\n",
       "        vertical-align: top;\n",
       "    }\n",
       "\n",
       "    .dataframe thead th {\n",
       "        text-align: right;\n",
       "    }\n",
       "</style>\n",
       "<table border=\"1\" class=\"dataframe\">\n",
       "  <thead>\n",
       "    <tr style=\"text-align: right;\">\n",
       "      <th></th>\n",
       "      <th>season</th>\n",
       "      <th>country</th>\n",
       "      <th>league</th>\n",
       "      <th>Avg_shoton_away</th>\n",
       "      <th>Avg_shoton_home</th>\n",
       "    </tr>\n",
       "  </thead>\n",
       "  <tbody>\n",
       "    <tr>\n",
       "      <th>0</th>\n",
       "      <td>2008/2009</td>\n",
       "      <td>England</td>\n",
       "      <td>England Premier League</td>\n",
       "      <td>5.097368</td>\n",
       "      <td>6.850000</td>\n",
       "    </tr>\n",
       "    <tr>\n",
       "      <th>1</th>\n",
       "      <td>2008/2009</td>\n",
       "      <td>Germany</td>\n",
       "      <td>Germany 1. Bundesliga</td>\n",
       "      <td>1.014184</td>\n",
       "      <td>1.546099</td>\n",
       "    </tr>\n",
       "    <tr>\n",
       "      <th>2</th>\n",
       "      <td>2008/2009</td>\n",
       "      <td>Italy</td>\n",
       "      <td>Italy Serie A</td>\n",
       "      <td>2.107895</td>\n",
       "      <td>2.552632</td>\n",
       "    </tr>\n",
       "    <tr>\n",
       "      <th>3</th>\n",
       "      <td>2008/2009</td>\n",
       "      <td>Netherlands</td>\n",
       "      <td>Netherlands Eredivisie</td>\n",
       "      <td>2.500000</td>\n",
       "      <td>7.000000</td>\n",
       "    </tr>\n",
       "  </tbody>\n",
       "</table>\n",
       "</div>"
      ],
      "text/plain": [
       "      season      country                  league  Avg_shoton_away  \\\n",
       "0  2008/2009      England  England Premier League         5.097368   \n",
       "1  2008/2009      Germany   Germany 1. Bundesliga         1.014184   \n",
       "2  2008/2009        Italy           Italy Serie A         2.107895   \n",
       "3  2008/2009  Netherlands  Netherlands Eredivisie         2.500000   \n",
       "\n",
       "   Avg_shoton_home  \n",
       "0         6.850000  \n",
       "1         1.546099  \n",
       "2         2.552632  \n",
       "3         7.000000  "
      ]
     },
     "execution_count": 27,
     "metadata": {},
     "output_type": "execute_result"
    }
   ],
   "source": [
    "avg_shoton = (df_mt.groupby(['season','country', 'league'])\n",
    "     .agg(Avg_shoton_away=('shoton_away','mean'),\n",
    "         Avg_shoton_home=('shoton_home','mean'))\n",
    "     .reset_index()\n",
    "    )\n",
    "avg_shoton.head(4)"
   ]
  },
  {
   "cell_type": "code",
   "execution_count": 28,
   "id": "91fc7d0f-08e5-4c97-baa6-afd6434c8039",
   "metadata": {},
   "outputs": [
    {
     "data": {
      "text/plain": [
       "(-1.9126104212007458, 0.055797944564686085)"
      ]
     },
     "execution_count": 28,
     "metadata": {},
     "output_type": "execute_result"
    }
   ],
   "source": [
    "# Difference in Population Means hypothesis testing\n",
    "sm.stats.ztest(avg_shoton.Avg_shoton_away, avg_shoton.Avg_shoton_home)"
   ]
  },
  {
   "cell_type": "markdown",
   "id": "21d3fb2c-22ab-459a-bbf6-c1e4af2b91e5",
   "metadata": {},
   "source": [
    "<b>Conclusion:</b> We can see that p-value/2 < 0.05. Thus, we reject H0 hyppthesis, and conclude that avg. shoton number difference means between home and away teams is significant different from 0.\n",
    "\n",
    "We can interpret that avg. shoton number between home and away teams differs."
   ]
  },
  {
   "cell_type": "code",
   "execution_count": 29,
   "id": "e7682f3c-8b3c-4276-92bd-6a0a132b98fd",
   "metadata": {},
   "outputs": [
    {
     "name": "stdout",
     "output_type": "stream",
     "text": [
      "t-statistics: 7.725654536150848\n",
      "95% confidence interval of avg. shoton difference:\n"
     ]
    },
    {
     "data": {
      "text/plain": [
       "(0.0, 5.948348631113871)"
      ]
     },
     "execution_count": 29,
     "metadata": {},
     "output_type": "execute_result"
    }
   ],
   "source": [
    "diff_mu1 = avg_shoton['Avg_shoton_away'].mean()\n",
    "diff_sd1 = avg_shoton['Avg_shoton_home'].std()\n",
    "diff_n = len(avg_shoton['Avg_shoton_away'])\n",
    "\n",
    "t_stat = (diff_mu1/(diff_sd1/math.sqrt(diff_n)))\n",
    "print(\"t-statistics:\",t_stat)\n",
    "\n",
    "lbc = diff_mu1 - t_stat*(diff_sd1/math.sqrt(diff_n))\n",
    "ubc = diff_mu1 + t_stat*(diff_sd1/math.sqrt(diff_n))\n",
    "print(\"95% confidence interval of avg. shoton difference:\")\n",
    "(lbc,ubc)"
   ]
  },
  {
   "cell_type": "markdown",
   "id": "26b63493-6c0b-44eb-89a9-7d32833dd2a6",
   "metadata": {},
   "source": [
    "<b>Conclusion:</b> We can see that avg. shoton number difference between home and away teams might vary from 0 to 5.9 shots."
   ]
  },
  {
   "cell_type": "markdown",
   "id": "906fae6e-be58-4ce9-b6e4-65f09e10af6a",
   "metadata": {},
   "source": [
    "#### Based on crossing"
   ]
  },
  {
   "cell_type": "markdown",
   "id": "bb68790c-e9b7-4cd4-a2e5-d70e378203af",
   "metadata": {},
   "source": [
    "Crossing -  Determines the quality and accuracy of a player's pass towards the center of the field, near the opponent's goal.\n",
    "\n",
    "This attribute could be also defining the team confidence and home/away advantage. Thus we will form the statement and hypothesis:\n",
    "\n",
    "<b><i>Home league team cross is higher than away league team</i></b>\n",
    "\n",
    "\n",
    "<b>H0: Cross difference means between Home and Away league teams is equal.</b> (μ1=μ2)\n",
    "\n",
    "<b> H1: Cross difference means between Home and Away league teams is significant different from 0. (μ1≠μ2) </b>"
   ]
  },
  {
   "cell_type": "code",
   "execution_count": 30,
   "id": "eeed83d3-2d0c-4206-a67a-94f135c1a883",
   "metadata": {},
   "outputs": [
    {
     "data": {
      "text/plain": [
       "(14155, 121)"
      ]
     },
     "execution_count": 30,
     "metadata": {},
     "output_type": "execute_result"
    }
   ],
   "source": [
    "df_mt = df_m.dropna( how='any',\n",
    "                          subset=['cross'])\n",
    "df_mt.shape"
   ]
  },
  {
   "cell_type": "code",
   "execution_count": 31,
   "id": "e6e6c563-5a39-4d36-b224-58a5c2f83e2d",
   "metadata": {},
   "outputs": [],
   "source": [
    "df_mt[\"cross_home\"] = np.nan\n",
    "df_mt[\"cross_away\"] = np.nan\n",
    "clear_output()"
   ]
  },
  {
   "cell_type": "code",
   "execution_count": 32,
   "id": "38a3c211-fa76-45ce-8597-3a09a9e15c1b",
   "metadata": {},
   "outputs": [],
   "source": [
    "df_mt[\"cross_home\"] = df_mt.apply(lambda x : extract_xml(x,\"cross\",\"team\",\"home\"), axis = 1)\n",
    "df_mt[\"cross_away\"] = df_mt.apply(lambda x : extract_xml(x,\"cross\",\"team\",\"away\"), axis = 1)\n",
    "clear_output()"
   ]
  },
  {
   "cell_type": "code",
   "execution_count": 33,
   "id": "c0eb0d52-16dc-4741-9366-17275fa92be2",
   "metadata": {},
   "outputs": [
    {
     "data": {
      "image/png": "[encoded data removed]",
      "text/plain": [
       "<Figure size 432x288 with 1 Axes>"
      ]
     },
     "metadata": {
      "needs_background": "light"
     },
     "output_type": "display_data"
    }
   ],
   "source": [
    "sns.kdeplot(data=df_mt[[\"cross_away\", \"cross_home\"]], shade=False,legend=True)\n",
    "plt.title(\"Cross home and away teams\", fontsize = 15)\n",
    "plt.show()"
   ]
  },
  {
   "cell_type": "markdown",
   "id": "faebb68e-36ad-42e8-a86c-b869ba248bba",
   "metadata": {},
   "source": [
    "<b>Highlight:</b> We can see that home teams tend to make more passes, averaging around 20."
   ]
  },
  {
   "cell_type": "code",
   "execution_count": 34,
   "id": "fe4b6cb1-ad45-49ee-a818-b3b0cd5ce1e6",
   "metadata": {},
   "outputs": [
    {
     "data": {
      "text/plain": [
       "(-1.7483494600454468, 0.08040353364472279)"
      ]
     },
     "execution_count": 34,
     "metadata": {},
     "output_type": "execute_result"
    }
   ],
   "source": [
    "avg_cross = (df_mt.groupby(['season','country', 'league'])\n",
    "     .agg(Avg_cross_away=('cross_away','mean'),\n",
    "         Avg_cross_home=('cross_home','mean'))\n",
    "     .reset_index()\n",
    "    )\n",
    "avg_cross.head(4)\n",
    "\n",
    "# Difference in Population Means hypothesis testing\n",
    "sm.stats.ztest(avg_cross.Avg_cross_away, avg_cross.Avg_cross_home)"
   ]
  },
  {
   "cell_type": "markdown",
   "id": "255fbe52-80c8-4d14-898c-a3b1e1b1002b",
   "metadata": {},
   "source": [
    "<b>Conclusion:</b> We can see that p-value/2 < 0.05. Thus, we reject H0 hyppthesis, and conclude that avg. cross  difference means between home and away teams is significant different from 0.\n",
    "\n",
    "We can interpret that avg. cross between home and away teams differs."
   ]
  },
  {
   "cell_type": "code",
   "execution_count": 35,
   "id": "04c7048c-3de5-40b9-8f81-b054493f2d74",
   "metadata": {},
   "outputs": [
    {
     "name": "stdout",
     "output_type": "stream",
     "text": [
      "t-statistics: 7.874910363364775\n",
      "95% confidence interval of avg. cross difference:\n"
     ]
    },
    {
     "data": {
      "text/plain": [
       "(0.0, 18.647966007863086)"
      ]
     },
     "execution_count": 35,
     "metadata": {},
     "output_type": "execute_result"
    }
   ],
   "source": [
    "diff_mu1 = avg_cross['Avg_cross_away'].mean()\n",
    "diff_sd1 = avg_cross['Avg_cross_home'].std()\n",
    "diff_n = len(avg_cross['Avg_cross_away'])\n",
    "\n",
    "t_stat = (diff_mu1/(diff_sd1/math.sqrt(diff_n)))\n",
    "print(\"t-statistics:\",t_stat)\n",
    "\n",
    "lbc = diff_mu1 - t_stat*(diff_sd1/math.sqrt(diff_n))\n",
    "ubc = diff_mu1 + t_stat*(diff_sd1/math.sqrt(diff_n))\n",
    "print(\"95% confidence interval of avg. cross difference:\")\n",
    "(lbc,ubc)"
   ]
  },
  {
   "cell_type": "markdown",
   "id": "1f1232ac-16f0-4c0c-b9b3-2e5ab93cf787",
   "metadata": {},
   "source": [
    "<b>Conclusion:</b> We can see that avg. cross value difference between home and away teams might vary from 0 to 18.6 shots."
   ]
  },
  {
   "cell_type": "markdown",
   "id": "5f41bb7a-fb5a-44d7-ba8f-5fc82979f818",
   "metadata": {},
   "source": [
    "#### Based on goals"
   ]
  },
  {
   "cell_type": "markdown",
   "id": "2e7b28d5-c96c-45d9-8e77-40f8f693132d",
   "metadata": {},
   "source": [
    "Home league teams total goals distribution is more skewed right - more goals scores, than away team."
   ]
  },
  {
   "cell_type": "code",
   "execution_count": 36,
   "id": "477270f3-df7e-49e6-8fba-1cb680173739",
   "metadata": {},
   "outputs": [
    {
     "data": {
      "text/html": [
       "<div>\n",
       "<style scoped>\n",
       "    .dataframe tbody tr th:only-of-type {\n",
       "        vertical-align: middle;\n",
       "    }\n",
       "\n",
       "    .dataframe tbody tr th {\n",
       "        vertical-align: top;\n",
       "    }\n",
       "\n",
       "    .dataframe thead th {\n",
       "        text-align: right;\n",
       "    }\n",
       "</style>\n",
       "<table border=\"1\" class=\"dataframe\">\n",
       "  <thead>\n",
       "    <tr style=\"text-align: right;\">\n",
       "      <th></th>\n",
       "      <th>team_goal</th>\n",
       "      <th>HomeCount</th>\n",
       "      <th>AwayCount</th>\n",
       "    </tr>\n",
       "  </thead>\n",
       "  <tbody>\n",
       "    <tr>\n",
       "      <th>0</th>\n",
       "      <td>0</td>\n",
       "      <td>5391</td>\n",
       "      <td>7898.0</td>\n",
       "    </tr>\n",
       "    <tr>\n",
       "      <th>1</th>\n",
       "      <td>1</td>\n",
       "      <td>7719</td>\n",
       "      <td>8290.0</td>\n",
       "    </tr>\n",
       "    <tr>\n",
       "      <th>2</th>\n",
       "      <td>2</td>\n",
       "      <td>5817</td>\n",
       "      <td>4760.0</td>\n",
       "    </tr>\n",
       "    <tr>\n",
       "      <th>3</th>\n",
       "      <td>3</td>\n",
       "      <td>3051</td>\n",
       "      <td>1991.0</td>\n",
       "    </tr>\n",
       "    <tr>\n",
       "      <th>4</th>\n",
       "      <td>4</td>\n",
       "      <td>1287</td>\n",
       "      <td>683.0</td>\n",
       "    </tr>\n",
       "    <tr>\n",
       "      <th>5</th>\n",
       "      <td>5</td>\n",
       "      <td>427</td>\n",
       "      <td>199.0</td>\n",
       "    </tr>\n",
       "    <tr>\n",
       "      <th>6</th>\n",
       "      <td>6</td>\n",
       "      <td>151</td>\n",
       "      <td>59.0</td>\n",
       "    </tr>\n",
       "    <tr>\n",
       "      <th>7</th>\n",
       "      <td>7</td>\n",
       "      <td>37</td>\n",
       "      <td>9.0</td>\n",
       "    </tr>\n",
       "    <tr>\n",
       "      <th>8</th>\n",
       "      <td>8</td>\n",
       "      <td>9</td>\n",
       "      <td>5.0</td>\n",
       "    </tr>\n",
       "    <tr>\n",
       "      <th>9</th>\n",
       "      <td>9</td>\n",
       "      <td>4</td>\n",
       "      <td>1.0</td>\n",
       "    </tr>\n",
       "    <tr>\n",
       "      <th>10</th>\n",
       "      <td>10</td>\n",
       "      <td>2</td>\n",
       "      <td>0.0</td>\n",
       "    </tr>\n",
       "  </tbody>\n",
       "</table>\n",
       "</div>"
      ],
      "text/plain": [
       "    team_goal  HomeCount  AwayCount\n",
       "0           0       5391     7898.0\n",
       "1           1       7719     8290.0\n",
       "2           2       5817     4760.0\n",
       "3           3       3051     1991.0\n",
       "4           4       1287      683.0\n",
       "5           5        427      199.0\n",
       "6           6        151       59.0\n",
       "7           7         37        9.0\n",
       "8           8          9        5.0\n",
       "9           9          4        1.0\n",
       "10         10          2        0.0"
      ]
     },
     "execution_count": 36,
     "metadata": {},
     "output_type": "execute_result"
    }
   ],
   "source": [
    "htg = (df_m.groupby(['home_team_goal'])\n",
    "            .agg(HomeCount=('match_api_id','count'))\n",
    "            .reset_index()\n",
    "            .rename(columns={'home_team_goal':'team_goal'})\n",
    "        )\n",
    "\n",
    "atg = (df_m.groupby(['away_team_goal'])\n",
    "            .agg(AwayCount=('match_api_id','count'))\n",
    "            .reset_index()\n",
    "              .rename(columns={'away_team_goal':'team_goal'}))\n",
    "\n",
    "goal_count = pd.merge(htg,atg,\n",
    "                      how='outer',\n",
    "                      on = 'team_goal').fillna(0)\n",
    "goal_count"
   ]
  },
  {
   "cell_type": "code",
   "execution_count": 37,
   "id": "49f58fa5-56a9-4d11-a375-c18459c33a41",
   "metadata": {},
   "outputs": [
    {
     "data": {
      "image/png": "[encoded data removed]",
      "text/plain": [
       "<Figure size 720x360 with 1 Axes>"
      ]
     },
     "metadata": {
      "needs_background": "light"
     },
     "output_type": "display_data"
    }
   ],
   "source": [
    "fig, ax = plt.subplots(figsize = (10,5))\n",
    "\n",
    "goals = goal_count.team_goal.unique().tolist()\n",
    "\n",
    "line1 = plt.plot(goals, goal_count.HomeCount, \n",
    "                 linewidth = 2.0, \n",
    "                 color = '#8E44AD', \n",
    "                 label = 'Home match goals')\n",
    "line2 = plt.plot(goals, goal_count.AwayCount, \n",
    "                 linewidth = 2.0, \n",
    "                 color = '#1ABC9C', \n",
    "                 label = 'Away match goals')\n",
    "\n",
    "plt.legend(loc = 'upper left')\n",
    "\n",
    "plt.xlabel('Goals')\n",
    "plt.ylabel('#')\n",
    "plt.title('Matches by goal number')\n",
    "plt.show()"
   ]
  },
  {
   "cell_type": "markdown",
   "id": "596c3f34-7cfe-4827-99be-c11350d2d541",
   "metadata": {},
   "source": [
    "<b>Highlight:</b> We can see that more home team matches are with  2 or more goals than away teams."
   ]
  },
  {
   "cell_type": "markdown",
   "id": "5e67cd06-4e19-4cc9-8451-ea3f483c2caa",
   "metadata": {},
   "source": [
    "## Conclusions"
   ]
  },
  {
   "cell_type": "markdown",
   "id": "0d2f8227-d9b0-48d1-9455-fab11c23aaea",
   "metadata": {},
   "source": [
    "<b>Leagues and teams</b>\n",
    "- There is 11 leagues in 11 countries.\n",
    "- Most of the countries and leagues has similar high number of teams. Around 30 teams. Most teams having leagues are: France Ligue 1 (35), England Premier League (34), Spain LIGA BBVA (33). While least teams having leagues are: Switzerland Super League (15), Scotland Premier League (17), Poland Ekstraklasa (22).\n",
    "- The most goals in total scores leagues: Spain LIGA BBVA, England Premier League, Italy Serie A. While the fewest goals scores leagues: Switzerland Super League, Poland Ekstraklasa, Scotland Premier League.\n",
    "- Based on macthes mean, best scores: Netherlands Eredivisie (3.1), Switzerland Super League (2.9), Germany 1. Bundesliga (2.9). Lowest matches goals mean is on: Poland Ekstraklasa (2.4), France Ligue 1 (2.4), Portugal Liga ZON Sagres (2.5).\n",
    "\n",
    "<b>Home advantage</b>\n",
    "If home advantage playing the match and perform better appears, it was analysed base on 3 attributes: shoton, cross and goals.\n",
    "- Based on shoton distribution it seems that home teams tend to make more shots on goal than away teams.\n",
    "H0: Shoton number difference means between Home and Away league teams is equal. (μ1=μ2)\n",
    "After testing hypothesis, we rejected H0 and conclude that avg. shoton number difference means between home and away teams is significant different from 0. We can interpret that avg. shoton number between home and away teams differs. And avg. shoton number difference between home and away teams might vary from 0 to 5.9 shots.\n",
    "- H0: Cross difference means between Home and Away league teams is equal. (μ1=μ2). Based on distribution - home teams tend to make more passes, averaging around 20.\n",
    "We reject H0 hyppthesis, and conclude that avg. cross difference means between home and away teams is significant different from 0. We can interpret that avg. cross between home and away teams differs. Avg. cross value difference between home and away teams might vary from 0 to 18.6 shots.\n",
    "- Based on goal number we saw that more home team matches are with 2 or more goals than away teams. Which allows make assumption that home teams might score more goals than away teams."
   ]
  }
 ],
 "metadata": {
  "kernelspec": {
   "display_name": "Python 3 (ipykernel)",
   "language": "python",
   "name": "python3"
  },
  "language_info": {
   "codemirror_mode": {
    "name": "ipython",
    "version": 3
   },
   "file_extension": ".py",
   "mimetype": "text/x-python",
   "name": "python",
   "nbconvert_exporter": "python",
   "pygments_lexer": "ipython3",
   "version": "3.9.12"
  }
 },
 "nbformat": 4,
 "nbformat_minor": 5
}
