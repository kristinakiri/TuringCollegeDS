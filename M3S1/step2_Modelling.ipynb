{
 "cells": [
  {
   "cell_type": "markdown",
   "id": "31c859e0-d361-4496-852a-92a90afa933a",
   "metadata": {},
   "source": [
    "# Travel Insurance modelling"
   ]
  },
  {
   "cell_type": "markdown",
   "id": "e199082b-7ec8-40b1-a952-53af32986fa9",
   "metadata": {},
   "source": [
    "In this parrt we will focus on the data modeling and Travel insurance purchase prediction.\n",
    "We will run feature engineering for the data attributes preparation for the model.\n",
    "We will try variuos ML models to find which best describes and predicts if customer will purchase the travel insurance"
   ]
  },
  {
   "cell_type": "code",
   "execution_count": 156,
   "id": "9e3aacac-aff1-4e42-9183-b831b8638988",
   "metadata": {},
   "outputs": [],
   "source": [
    "import numpy as np\n",
    "import pandas as pd\n",
    "import matplotlib.pyplot as plt\n",
    "import seaborn as sns\n",
    "import os\n",
    "from datetime import datetime\n",
    "import plotly.offline as pyo\n",
    "import plotly.express as px\n",
    "import plotly.graph_objects as go\n",
    "import math\n",
    "\n",
    "from sklearn.model_selection import train_test_split, RandomizedSearchCV\n",
    "from sklearn.model_selection import train_test_split\n",
    "#from mlxtend.plotting import plot_decision_regions\n",
    "from sklearn.metrics import roc_curve, auc\n",
    "from sklearn.pipeline import Pipeline\n",
    "from sklearn.preprocessing import StandardScaler\n",
    "from sklearn.model_selection import RepeatedStratifiedKFold\n",
    "from sklearn.model_selection import cross_val_score\n",
    "import matplotlib.pyplot as plt\n",
    "from sklearn.svm import SVC\n",
    "from sklearn.tree import DecisionTreeClassifier\n",
    "from sklearn.ensemble import RandomForestClassifier\n",
    "#from imblearn.under_sampling import RandomUnderSampler\n",
    "from scipy.stats import reciprocal, uniform\n",
    "from sklearn.model_selection import KFold\n",
    "from sklearn.metrics import r2_score, mean_squared_error\n",
    "from sklearn.model_selection import KFold, GridSearchCV, StratifiedKFold\n",
    "from sklearn.metrics import confusion_matrix, accuracy_score, classification_report\n",
    "from sklearn.metrics import accuracy_score\n",
    "from sklearn.metrics import roc_auc_score, roc_curve\n",
    "from sklearn.metrics import plot_confusion_matrix\n",
    "from sklearn.metrics import confusion_matrix, ConfusionMatrixDisplay\n",
    "from sklearn import model_selection\n",
    "from sklearn.metrics import precision_score\n",
    "from sklearn.metrics import recall_score\n",
    "from sklearn.metrics import f1_score\n",
    "from sklearn.ensemble import GradientBoostingClassifier\n",
    "from sklearn.linear_model import LogisticRegression\n",
    "from sklearn.neighbors import KNeighborsClassifier\n",
    "\n",
    "# Tree Visualisation\n",
    "from sklearn.tree import export_graphviz\n",
    "from IPython.display import Image\n",
    "import graphviz"
   ]
  },
  {
   "cell_type": "markdown",
   "id": "1c0244b8-f9ff-4762-9e91-3697c8611fad",
   "metadata": {},
   "source": [
    "## Feature engineering"
   ]
  },
  {
   "cell_type": "code",
   "execution_count": 116,
   "id": "222cbe09-3625-4d83-be26-6bb52fb5e88d",
   "metadata": {},
   "outputs": [
    {
     "name": "stdout",
     "output_type": "stream",
     "text": [
      "<class 'pandas.core.frame.DataFrame'>\n",
      "RangeIndex: 1987 entries, 0 to 1986\n",
      "Data columns (total 10 columns):\n",
      " #   Column               Non-Null Count  Dtype \n",
      "---  ------               --------------  ----- \n",
      " 0   CustomerId           1987 non-null   int64 \n",
      " 1   Age                  1987 non-null   int64 \n",
      " 2   Employment Type      1987 non-null   object\n",
      " 3   GraduateOrNot        1987 non-null   object\n",
      " 4   AnnualIncome         1987 non-null   int64 \n",
      " 5   FamilyMembers        1987 non-null   int64 \n",
      " 6   ChronicDiseases      1987 non-null   int64 \n",
      " 7   FrequentFlyer        1987 non-null   object\n",
      " 8   EverTravelledAbroad  1987 non-null   object\n",
      " 9   TravelInsurance      1987 non-null   int64 \n",
      "dtypes: int64(6), object(4)\n",
      "memory usage: 155.4+ KB\n"
     ]
    },
    {
     "data": {
      "text/html": [
       "<div>\n",
       "<style scoped>\n",
       "    .dataframe tbody tr th:only-of-type {\n",
       "        vertical-align: middle;\n",
       "    }\n",
       "\n",
       "    .dataframe tbody tr th {\n",
       "        vertical-align: top;\n",
       "    }\n",
       "\n",
       "    .dataframe thead th {\n",
       "        text-align: right;\n",
       "    }\n",
       "</style>\n",
       "<table border=\"1\" class=\"dataframe\">\n",
       "  <thead>\n",
       "    <tr style=\"text-align: right;\">\n",
       "      <th></th>\n",
       "      <th>CustomerId</th>\n",
       "      <th>Age</th>\n",
       "      <th>Employment Type</th>\n",
       "      <th>GraduateOrNot</th>\n",
       "      <th>AnnualIncome</th>\n",
       "      <th>FamilyMembers</th>\n",
       "      <th>ChronicDiseases</th>\n",
       "      <th>FrequentFlyer</th>\n",
       "      <th>EverTravelledAbroad</th>\n",
       "      <th>TravelInsurance</th>\n",
       "    </tr>\n",
       "  </thead>\n",
       "  <tbody>\n",
       "    <tr>\n",
       "      <th>0</th>\n",
       "      <td>0</td>\n",
       "      <td>31</td>\n",
       "      <td>Government Sector</td>\n",
       "      <td>Yes</td>\n",
       "      <td>400000</td>\n",
       "      <td>6</td>\n",
       "      <td>1</td>\n",
       "      <td>No</td>\n",
       "      <td>No</td>\n",
       "      <td>0</td>\n",
       "    </tr>\n",
       "    <tr>\n",
       "      <th>1</th>\n",
       "      <td>1</td>\n",
       "      <td>31</td>\n",
       "      <td>Private Sector/Self Employed</td>\n",
       "      <td>Yes</td>\n",
       "      <td>1250000</td>\n",
       "      <td>7</td>\n",
       "      <td>0</td>\n",
       "      <td>No</td>\n",
       "      <td>No</td>\n",
       "      <td>0</td>\n",
       "    </tr>\n",
       "    <tr>\n",
       "      <th>2</th>\n",
       "      <td>2</td>\n",
       "      <td>34</td>\n",
       "      <td>Private Sector/Self Employed</td>\n",
       "      <td>Yes</td>\n",
       "      <td>500000</td>\n",
       "      <td>4</td>\n",
       "      <td>1</td>\n",
       "      <td>No</td>\n",
       "      <td>No</td>\n",
       "      <td>1</td>\n",
       "    </tr>\n",
       "  </tbody>\n",
       "</table>\n",
       "</div>"
      ],
      "text/plain": [
       "   CustomerId  Age               Employment Type GraduateOrNot  AnnualIncome  \\\n",
       "0           0   31             Government Sector           Yes        400000   \n",
       "1           1   31  Private Sector/Self Employed           Yes       1250000   \n",
       "2           2   34  Private Sector/Self Employed           Yes        500000   \n",
       "\n",
       "   FamilyMembers  ChronicDiseases FrequentFlyer EverTravelledAbroad  \\\n",
       "0              6                1            No                  No   \n",
       "1              7                0            No                  No   \n",
       "2              4                1            No                  No   \n",
       "\n",
       "   TravelInsurance  \n",
       "0                0  \n",
       "1                0  \n",
       "2                1  "
      ]
     },
     "execution_count": 116,
     "metadata": {},
     "output_type": "execute_result"
    }
   ],
   "source": [
    "path_file = '/Users/kristinazekiene/Documents/LearningPython/TuringCollege/M3S1/Input/TravelInsurancePrediction.csv'\n",
    "df = pd.read_csv(path_file)\n",
    "df = df.rename(columns={'Unnamed: 0':'CustomerId'})\n",
    "df.info()\n",
    "df.head(3)"
   ]
  },
  {
   "cell_type": "markdown",
   "id": "fe91dc67-73eb-4e4a-b757-7b768031ccb2",
   "metadata": {},
   "source": [
    "Categorical attrbutes values we will converto to numeric yes = 1, no = 0.\n",
    "\n",
    "We will create age and anual income two groups:\n",
    "- If customer belongs to 30+ age group\n",
    "- If customer belonfs to high incomes earning group (1.3M+ per year)"
   ]
  },
  {
   "cell_type": "code",
   "execution_count": 117,
   "id": "830c1c40-a248-4899-8142-77085d4991eb",
   "metadata": {},
   "outputs": [],
   "source": [
    "df['GraduateOrNot'] = df['GraduateOrNot'].map({'Yes': 1, 'No': 0})\n",
    "df['FrequentFlyer'] = df['FrequentFlyer'].map({'Yes': 1, 'No': 0})\n",
    "df['EverTravelledAbroad'] = df['EverTravelledAbroad'].map({'Yes': 1, 'No': 0})\n",
    "df['EmploymentType'] = df['Employment Type'].map({'Private Sector/Self Employed': 1, 'Government Sector': 0})\n",
    "\n",
    "df['AgeGroup30'] = np.where(df.Age >= 30, '1','0')\n",
    "df['IncomeGroup80p'] = np.where(df.AnnualIncome >= 1300000, '1','0')"
   ]
  },
  {
   "cell_type": "code",
   "execution_count": 118,
   "id": "35545dd5-f9e6-4335-9c79-a987418181bf",
   "metadata": {},
   "outputs": [
    {
     "name": "stdout",
     "output_type": "stream",
     "text": [
      "<class 'pandas.core.frame.DataFrame'>\n",
      "RangeIndex: 1987 entries, 0 to 1986\n",
      "Data columns (total 11 columns):\n",
      " #   Column               Non-Null Count  Dtype \n",
      "---  ------               --------------  ----- \n",
      " 0   Age                  1987 non-null   int64 \n",
      " 1   GraduateOrNot        1987 non-null   int64 \n",
      " 2   AnnualIncome         1987 non-null   int64 \n",
      " 3   FamilyMembers        1987 non-null   int64 \n",
      " 4   ChronicDiseases      1987 non-null   int64 \n",
      " 5   FrequentFlyer        1987 non-null   int64 \n",
      " 6   EverTravelledAbroad  1987 non-null   int64 \n",
      " 7   TravelInsurance      1987 non-null   int64 \n",
      " 8   EmploymentType       1987 non-null   int64 \n",
      " 9   AgeGroup30           1987 non-null   object\n",
      " 10  IncomeGroup80p       1987 non-null   object\n",
      "dtypes: int64(9), object(2)\n",
      "memory usage: 170.9+ KB\n"
     ]
    },
    {
     "data": {
      "text/html": [
       "<div>\n",
       "<style scoped>\n",
       "    .dataframe tbody tr th:only-of-type {\n",
       "        vertical-align: middle;\n",
       "    }\n",
       "\n",
       "    .dataframe tbody tr th {\n",
       "        vertical-align: top;\n",
       "    }\n",
       "\n",
       "    .dataframe thead th {\n",
       "        text-align: right;\n",
       "    }\n",
       "</style>\n",
       "<table border=\"1\" class=\"dataframe\">\n",
       "  <thead>\n",
       "    <tr style=\"text-align: right;\">\n",
       "      <th></th>\n",
       "      <th>Age</th>\n",
       "      <th>GraduateOrNot</th>\n",
       "      <th>AnnualIncome</th>\n",
       "      <th>FamilyMembers</th>\n",
       "      <th>ChronicDiseases</th>\n",
       "      <th>FrequentFlyer</th>\n",
       "      <th>EverTravelledAbroad</th>\n",
       "      <th>TravelInsurance</th>\n",
       "      <th>EmploymentType</th>\n",
       "      <th>AgeGroup30</th>\n",
       "      <th>IncomeGroup80p</th>\n",
       "    </tr>\n",
       "  </thead>\n",
       "  <tbody>\n",
       "    <tr>\n",
       "      <th>0</th>\n",
       "      <td>31</td>\n",
       "      <td>1</td>\n",
       "      <td>400000</td>\n",
       "      <td>6</td>\n",
       "      <td>1</td>\n",
       "      <td>0</td>\n",
       "      <td>0</td>\n",
       "      <td>0</td>\n",
       "      <td>0</td>\n",
       "      <td>1</td>\n",
       "      <td>0</td>\n",
       "    </tr>\n",
       "    <tr>\n",
       "      <th>1</th>\n",
       "      <td>31</td>\n",
       "      <td>1</td>\n",
       "      <td>1250000</td>\n",
       "      <td>7</td>\n",
       "      <td>0</td>\n",
       "      <td>0</td>\n",
       "      <td>0</td>\n",
       "      <td>0</td>\n",
       "      <td>1</td>\n",
       "      <td>1</td>\n",
       "      <td>0</td>\n",
       "    </tr>\n",
       "    <tr>\n",
       "      <th>2</th>\n",
       "      <td>34</td>\n",
       "      <td>1</td>\n",
       "      <td>500000</td>\n",
       "      <td>4</td>\n",
       "      <td>1</td>\n",
       "      <td>0</td>\n",
       "      <td>0</td>\n",
       "      <td>1</td>\n",
       "      <td>1</td>\n",
       "      <td>1</td>\n",
       "      <td>0</td>\n",
       "    </tr>\n",
       "    <tr>\n",
       "      <th>3</th>\n",
       "      <td>28</td>\n",
       "      <td>1</td>\n",
       "      <td>700000</td>\n",
       "      <td>3</td>\n",
       "      <td>1</td>\n",
       "      <td>0</td>\n",
       "      <td>0</td>\n",
       "      <td>0</td>\n",
       "      <td>1</td>\n",
       "      <td>0</td>\n",
       "      <td>0</td>\n",
       "    </tr>\n",
       "  </tbody>\n",
       "</table>\n",
       "</div>"
      ],
      "text/plain": [
       "   Age  GraduateOrNot  AnnualIncome  FamilyMembers  ChronicDiseases  \\\n",
       "0   31              1        400000              6                1   \n",
       "1   31              1       1250000              7                0   \n",
       "2   34              1        500000              4                1   \n",
       "3   28              1        700000              3                1   \n",
       "\n",
       "   FrequentFlyer  EverTravelledAbroad  TravelInsurance  EmploymentType  \\\n",
       "0              0                    0                0               0   \n",
       "1              0                    0                0               1   \n",
       "2              0                    0                1               1   \n",
       "3              0                    0                0               1   \n",
       "\n",
       "  AgeGroup30 IncomeGroup80p  \n",
       "0          1              0  \n",
       "1          1              0  \n",
       "2          1              0  \n",
       "3          0              0  "
      ]
     },
     "execution_count": 118,
     "metadata": {},
     "output_type": "execute_result"
    }
   ],
   "source": [
    "df = df.drop(columns=['CustomerId','Employment Type'])\n",
    "df.info()\n",
    "df.head(4)"
   ]
  },
  {
   "cell_type": "markdown",
   "id": "aa7ef0a4-7469-4038-adb8-f5ea8963e17a",
   "metadata": {},
   "source": [
    "## Attributes correlations"
   ]
  },
  {
   "cell_type": "code",
   "execution_count": 119,
   "id": "10b8ff18-7dbf-4b9f-9b2c-00547c61bf98",
   "metadata": {},
   "outputs": [
    {
     "data": {
      "text/plain": [
       "<AxesSubplot:>"
      ]
     },
     "execution_count": 119,
     "metadata": {},
     "output_type": "execute_result"
    },
    {
     "data": {
      "image/png": "[encoded data removed]",
      "text/plain": [
       "<Figure size 720x576 with 2 Axes>"
      ]
     },
     "metadata": {
      "needs_background": "light"
     },
     "output_type": "display_data"
    }
   ],
   "source": [
    "plt.figure(figsize = (10,8))\n",
    "\n",
    "sns.set_context(\"paper\", font_scale=1.1) \n",
    "\n",
    "sns.heatmap(df.corr(), \n",
    "        annot=True,\n",
    "        cmap=\"Blues\")"
   ]
  },
  {
   "cell_type": "markdown",
   "id": "240272ad-15c7-4882-a222-7576e4a6365d",
   "metadata": {},
   "source": [
    "We can see weak or moderate corelation between all variables.\n",
    "The highest (but moderate) correlation exist between:\n",
    "- Annual income and Ever traveled abroad (0.49), \n",
    "- Then Annual income and Travel insurance purchase (0.4), \n",
    "- Ever Traveled abroad and Travel insurance purchase (0.43).\n",
    "\n",
    "Probably Annual income is important factor to support customers decision to travel and then to purchase the travel insurance."
   ]
  },
  {
   "cell_type": "markdown",
   "id": "3458b806-b6fb-407e-8b56-6b2d68445d76",
   "metadata": {},
   "source": [
    "## Modelling"
   ]
  },
  {
   "cell_type": "markdown",
   "id": "9b452b9b-ae78-4a18-8460-58da0a1bf838",
   "metadata": {},
   "source": [
    "### Features & Labels"
   ]
  },
  {
   "cell_type": "code",
   "execution_count": 120,
   "id": "0ddbd97a-50f2-4873-9db3-8894db8ac337",
   "metadata": {},
   "outputs": [],
   "source": [
    "X = df.drop(['TravelInsurance'], axis=1) #Features\n",
    "y = df['TravelInsurance'] # Labels"
   ]
  },
  {
   "cell_type": "markdown",
   "id": "9b748b4f-b5f9-4a07-9b37-9b99f51059e5",
   "metadata": {},
   "source": [
    "### Train & Test split"
   ]
  },
  {
   "cell_type": "markdown",
   "id": "b1cee5d3-6da8-48af-91dd-060a5fece3c8",
   "metadata": {},
   "source": [
    "We will use parameter called random_state. This is a shuffling parameter that controls how the data is randomly split. If we give it an integer value, we ensure that we reproduce the same split upon each run.\n",
    "\n",
    "We will select 30% of records to be dedicated for test sample."
   ]
  },
  {
   "cell_type": "code",
   "execution_count": 141,
   "id": "07252e2f-776e-4880-a324-c7339866c8ce",
   "metadata": {},
   "outputs": [],
   "source": [
    "X_train, X_test, y_train, y_test = train_test_split(X, y, test_size=0.3, random_state=42)"
   ]
  },
  {
   "cell_type": "code",
   "execution_count": 142,
   "id": "9befdd67-38e4-4628-be23-faa54201338a",
   "metadata": {},
   "outputs": [
    {
     "data": {
      "text/plain": [
       "(1390, 597)"
      ]
     },
     "execution_count": 142,
     "metadata": {},
     "output_type": "execute_result"
    }
   ],
   "source": [
    "len(X_train), len(X_test)"
   ]
  },
  {
   "cell_type": "markdown",
   "id": "cfd45787-8d99-4359-9ea4-7d6cb0ca5bdf",
   "metadata": {},
   "source": [
    "### Random forest"
   ]
  },
  {
   "cell_type": "code",
   "execution_count": 143,
   "id": "fff16b01-2a77-4aae-85f5-8f9293d85b7a",
   "metadata": {},
   "outputs": [
    {
     "name": "stdout",
     "output_type": "stream",
     "text": [
      "Model quality:\n",
      "Accuracy:  79.7319932998325\n",
      "Precision: 79.214699320017\n",
      "Recall:    76.42342342342342\n",
      "F1:        77.33904690798781\n"
     ]
    }
   ],
   "source": [
    "rf = RandomForestClassifier()\n",
    "\n",
    "rf.fit(X_train, y_train)\n",
    "y_pred = rf.predict(X_test)\n",
    "\n",
    "rfc_score = accuracy_score(y_pred, y_test)*100\n",
    "\n",
    "print('Model quality:')\n",
    "print('Accuracy: ', accuracy_score(y_pred, y_test)*100)\n",
    "print('Precision:',precision_score(y_test, y_pred, average='macro')*100)\n",
    "print('Recall:   ',recall_score(y_test, y_pred, average='macro')*100)\n",
    "print('F1:       ',f1_score(y_test, y_pred, average='macro')*100)"
   ]
  },
  {
   "cell_type": "markdown",
   "id": "aef038ed-279f-4afd-a46c-7faae34ccf50",
   "metadata": {},
   "source": [
    "Lets create a series containing feature importances from the model and feature names from the training data"
   ]
  },
  {
   "cell_type": "code",
   "execution_count": 144,
   "id": "7f2e2527-0b83-4395-9ec4-adf61a1bed7c",
   "metadata": {},
   "outputs": [
    {
     "data": {
      "image/png": "[encoded data removed]",
      "text/plain": [
       "<Figure size 432x288 with 1 Axes>"
      ]
     },
     "metadata": {
      "needs_background": "light"
     },
     "output_type": "display_data"
    }
   ],
   "source": [
    "feature_importances = pd.Series(rf.feature_importances_, index=X_train.columns).sort_values(ascending=False)\n",
    "\n",
    "# Plot a simple bar chart\n",
    "fig, ax = plt.subplots()\n",
    "feature_importances.plot.bar(ax=ax)\n",
    "ax.set_title(\"Feature importances\")\n",
    "ax.set_ylabel(\"Mean decrease in impurity\")\n",
    "plt.show()"
   ]
  },
  {
   "cell_type": "markdown",
   "id": "05106af2-06ae-4433-9a75-15da3f6d23b4",
   "metadata": {
    "tags": []
   },
   "source": [
    "#### K-fold cross-validation "
   ]
  },
  {
   "cell_type": "markdown",
   "id": "a8a0419c-5eb9-4938-be56-f0952e915fe8",
   "metadata": {
    "tags": []
   },
   "source": [
    "K-fold cross-validation is the process of splitting data into an integer number (K) parts and using one part for testing and the rest for training. This process is done iteratively until all data has been used for training and testing."
   ]
  },
  {
   "cell_type": "code",
   "execution_count": 145,
   "id": "9c52eca6-c5e1-4ee1-9c89-4dae5416a63a",
   "metadata": {
    "tags": []
   },
   "outputs": [
    {
     "name": "stdout",
     "output_type": "stream",
     "text": [
      "Accuracy in fold 1: 0.7814070351758794\n",
      "Accuracy in fold 2: 0.821608040201005\n",
      "Accuracy in fold 3: 0.7934508816120907\n",
      "Accuracy in fold 4: 0.7707808564231738\n",
      "Accuracy in fold 5: 0.7783375314861462\n"
     ]
    }
   ],
   "source": [
    "folds = KFold(n_splits=5)\n",
    "\n",
    "folds.get_n_splits(X)\n",
    "fold = 0\n",
    "for train_index, test_index in folds.split(X):\n",
    "    X_train, X_test, y_train, y_test = X.iloc[train_index], X.iloc[test_index], y.iloc[train_index], y.iloc[test_index]\n",
    "\n",
    "    model = RandomForestClassifier()\n",
    "\n",
    "    model.fit(X_train, y_train)\n",
    "\n",
    "    y_pred = model.predict(X_test)\n",
    "\n",
    "    fold = fold +1\n",
    "\n",
    "    print(f\"Accuracy in fold {fold}:\", accuracy_score(y_pred, y_test))"
   ]
  },
  {
   "cell_type": "markdown",
   "id": "2efe4b7c-2611-452a-8f15-d2ca50a4230f",
   "metadata": {},
   "source": [
    "#### Hyperparameter Tuning"
   ]
  },
  {
   "cell_type": "markdown",
   "id": "a61a0c5f-0bba-4eda-b57c-0db1f6c944d3",
   "metadata": {},
   "source": [
    "The code below uses Scikit-Learn’s GridSearchCV, which will search parameters within a specified parameter values. \n",
    "\n",
    "We define the hyperparameters to use and their ranges in the param_grid dictionary. \n",
    "\n",
    "In our case, we are using:\n",
    "- max_depth: the maximum depth of each decision tree in the forest. Setting a higher value for max_depth can lead to overfitting while setting it too low can lead to underfitting.\n",
    "- n_estimators: the number of decision trees in the forest. Increasing this hyperparameter generally improves the performance of the model but also increases the computational cost of training and predicting.\n"
   ]
  },
  {
   "cell_type": "code",
   "execution_count": 146,
   "id": "ea4b0596-c25b-4f17-b32a-04021ba83835",
   "metadata": {
    "tags": []
   },
   "outputs": [
    {
     "name": "stdout",
     "output_type": "stream",
     "text": [
      "Fitting 3 folds for each of 720 candidates, totalling 2160 fits\n"
     ]
    },
    {
     "data": {
      "text/plain": [
       "GridSearchCV(cv=3, estimator=RandomForestClassifier(), n_jobs=-1,\n",
       "             param_grid={'bootstrap': [True], 'criterion': ['gini', 'entropy'],\n",
       "                         'max_depth': [80, 90, 100, 110, 120],\n",
       "                         'max_features': [2, 3], 'min_samples_leaf': [3, 4, 5],\n",
       "                         'min_samples_split': [8, 10, 12],\n",
       "                         'n_estimators': [100, 200, 300, 1000]},\n",
       "             verbose=2)"
      ]
     },
     "execution_count": 146,
     "metadata": {},
     "output_type": "execute_result"
    }
   ],
   "source": [
    "param_grid = {\n",
    "    'bootstrap': [True],\n",
    "    'max_depth': [80, 90, 100, 110, 120],\n",
    "    'max_features': [2, 3],\n",
    "    'min_samples_leaf': [3, 4, 5],\n",
    "    'min_samples_split': [8, 10, 12],\n",
    "    'criterion' : ['gini', 'entropy'],\n",
    "    'n_estimators': [100, 200, 300, 1000]\n",
    "}\n",
    "\n",
    "grid_search_rf = GridSearchCV(estimator = rf, \n",
    "                              param_grid = param_grid, \n",
    "                              cv = 3, n_jobs = -1, verbose = 2)\n",
    "\n",
    "grid_search_rf.fit(X_train, y_train)"
   ]
  },
  {
   "cell_type": "markdown",
   "id": "2f2bb2c6-d927-427a-9af4-76e2171650a2",
   "metadata": {},
   "source": [
    "The best parameters combination:"
   ]
  },
  {
   "cell_type": "code",
   "execution_count": 148,
   "id": "0a88d2e8-b3bc-4be2-926b-7959fadb2db8",
   "metadata": {},
   "outputs": [
    {
     "data": {
      "text/plain": [
       "{'bootstrap': True,\n",
       " 'criterion': 'gini',\n",
       " 'max_depth': 80,\n",
       " 'max_features': 2,\n",
       " 'min_samples_leaf': 4,\n",
       " 'min_samples_split': 8,\n",
       " 'n_estimators': 200}"
      ]
     },
     "execution_count": 148,
     "metadata": {},
     "output_type": "execute_result"
    }
   ],
   "source": [
    "grid_search_rf.best_params_"
   ]
  },
  {
   "cell_type": "code",
   "execution_count": 152,
   "id": "d5788dd6-fdb7-424c-9f6a-d871a8406c69",
   "metadata": {},
   "outputs": [
    {
     "name": "stdout",
     "output_type": "stream",
     "text": [
      "Improvement in Random Forest Classifier after GridSearchCV: 1.40%.\n"
     ]
    }
   ],
   "source": [
    "grid_search_rf_predict = grid_search_rf.predict(X_test)\n",
    "\n",
    "RandomForestClassifierScore = grid_search_rf.score(X_test,y_test)\n",
    "RandomForestClassifierScore\n",
    "\n",
    "print('Improvement in Random Forest Classifier after GridSearchCV: {:0.2f}%.'.format(100 * (grid_search_rf.best_score_ - RandomForestClassifierScore) / RandomForestClassifierScore))\n"
   ]
  },
  {
   "cell_type": "code",
   "execution_count": 153,
   "id": "827c599d-fe73-4d21-80f7-5c916d5ce2b3",
   "metadata": {},
   "outputs": [
    {
     "name": "stdout",
     "output_type": "stream",
     "text": [
      "              precision    recall  f1-score   support\n",
      "\n",
      "           0       0.81      0.95      0.88       263\n",
      "           1       0.86      0.57      0.68       134\n",
      "\n",
      "    accuracy                           0.82       397\n",
      "   macro avg       0.84      0.76      0.78       397\n",
      "weighted avg       0.83      0.82      0.81       397\n",
      "\n"
     ]
    }
   ],
   "source": [
    "print(classification_report(y_test, grid_search_rf_predict))"
   ]
  },
  {
   "cell_type": "code",
   "execution_count": 157,
   "id": "14937b47-7a24-4f35-996f-a4d395270f1c",
   "metadata": {},
   "outputs": [
    {
     "data": {
      "text/plain": [
       "<sklearn.metrics._plot.confusion_matrix.ConfusionMatrixDisplay at 0x7fa8363ec820>"
      ]
     },
     "execution_count": 157,
     "metadata": {},
     "output_type": "execute_result"
    },
    {
     "data": {
      "image/png": "[encoded data removed]",
      "text/plain": [
       "<Figure size 432x288 with 2 Axes>"
      ]
     },
     "metadata": {
      "needs_background": "light"
     },
     "output_type": "display_data"
    }
   ],
   "source": [
    "# Generate predictions with the best model\n",
    "y_pred = grid_search_rf.predict(X_test)\n",
    "\n",
    "# Create the confusion matrix\n",
    "cm = confusion_matrix(y_test, y_pred)\n",
    "\n",
    "ConfusionMatrixDisplay(confusion_matrix=cm).plot()"
   ]
  },
  {
   "cell_type": "code",
   "execution_count": 158,
   "id": "f12ca396-83bf-47a7-be26-22c5e2c0db0e",
   "metadata": {},
   "outputs": [
    {
     "name": "stdout",
     "output_type": "stream",
     "text": [
      "Model quality:\n",
      "Accuracy:  82.36775818639799\n",
      "Precision: 83.79670491320977\n",
      "Recall:    76.0768401339311\n",
      "F1:        78.11535311535312\n"
     ]
    }
   ],
   "source": [
    "brfc_score = accuracy_score(y_pred, y_test)*100\n",
    "\n",
    "print('Model quality:')\n",
    "print('Accuracy: ', accuracy_score(y_pred, y_test)*100)\n",
    "print('Precision:',precision_score(y_test, y_pred, average='macro')*100)\n",
    "print('Recall:   ',recall_score(y_test, y_pred, average='macro')*100)\n",
    "print('F1:       ',f1_score(y_test, y_pred, average='macro')*100)"
   ]
  },
  {
   "cell_type": "markdown",
   "id": "99e4d368-ed94-4e8b-8ca6-1a105abd525f",
   "metadata": {},
   "source": [
    "Let's try another parameters with RandomizedSearchCV"
   ]
  },
  {
   "cell_type": "code",
   "execution_count": 160,
   "id": "759c42b8-5e07-49d7-b980-34fce57a59c1",
   "metadata": {},
   "outputs": [],
   "source": [
    "n_estimators = [50, 100, 200]\n",
    "max_features = ['auto', 'sqrt', 'log2']\n",
    "max_depth = [int(x) for x in np.linspace(10, 30, num = 5)]\n",
    "max_depth.append(None)\n",
    "min_samples_split = [2, 5, 10]\n",
    "min_samples_leaf = [1, 2, 4]\n",
    "bootstrap = [True, False]"
   ]
  },
  {
   "cell_type": "code",
   "execution_count": 161,
   "id": "f1b437dc-208a-4c87-a831-7f480f527a6f",
   "metadata": {},
   "outputs": [],
   "source": [
    "random_grid = {'n_estimators': n_estimators,\n",
    "               'max_features': max_features,\n",
    "               'max_depth': max_depth,\n",
    "               'min_samples_split': min_samples_split,\n",
    "               'min_samples_leaf': min_samples_leaf,\n",
    "               'bootstrap': bootstrap}"
   ]
  },
  {
   "cell_type": "code",
   "execution_count": 162,
   "id": "09ec6fa8-31d4-45c2-9604-94113e1cbbc1",
   "metadata": {},
   "outputs": [],
   "source": [
    "model = RandomForestClassifier()\n",
    "from sklearn.model_selection import RandomizedSearchCV"
   ]
  },
  {
   "cell_type": "code",
   "execution_count": 163,
   "id": "552d62ad-0e74-4931-8812-cd8ad01c4365",
   "metadata": {},
   "outputs": [],
   "source": [
    "rf_random = RandomizedSearchCV(estimator = model, param_distributions \n",
    "\n",
    "= random_grid, n_iter = 3, cv =3, verbose=2, random_state=42)"
   ]
  },
  {
   "cell_type": "code",
   "execution_count": 164,
   "id": "4725dd12-1e96-4515-98c2-39fdf18fa7df",
   "metadata": {},
   "outputs": [
    {
     "name": "stdout",
     "output_type": "stream",
     "text": [
      "Fitting 3 folds for each of 3 candidates, totalling 9 fits\n",
      "[CV] END bootstrap=True, max_depth=15, max_features=auto, min_samples_leaf=4, min_samples_split=5, n_estimators=50; total time=   0.1s\n",
      "[CV] END bootstrap=True, max_depth=15, max_features=auto, min_samples_leaf=4, min_samples_split=5, n_estimators=50; total time=   0.0s\n",
      "[CV] END bootstrap=True, max_depth=15, max_features=auto, min_samples_leaf=4, min_samples_split=5, n_estimators=50; total time=   0.0s\n",
      "[CV] END bootstrap=True, max_depth=None, max_features=sqrt, min_samples_leaf=1, min_samples_split=5, n_estimators=50; total time=   0.0s\n",
      "[CV] END bootstrap=True, max_depth=None, max_features=sqrt, min_samples_leaf=1, min_samples_split=5, n_estimators=50; total time=   0.0s\n",
      "[CV] END bootstrap=True, max_depth=None, max_features=sqrt, min_samples_leaf=1, min_samples_split=5, n_estimators=50; total time=   0.0s\n",
      "[CV] END bootstrap=False, max_depth=30, max_features=sqrt, min_samples_leaf=4, min_samples_split=5, n_estimators=200; total time=   0.2s\n",
      "[CV] END bootstrap=False, max_depth=30, max_features=sqrt, min_samples_leaf=4, min_samples_split=5, n_estimators=200; total time=   0.2s\n",
      "[CV] END bootstrap=False, max_depth=30, max_features=sqrt, min_samples_leaf=4, min_samples_split=5, n_estimators=200; total time=   0.2s\n"
     ]
    },
    {
     "data": {
      "text/plain": [
       "RandomizedSearchCV(cv=3, estimator=RandomForestClassifier(), n_iter=3,\n",
       "                   param_distributions={'bootstrap': [True, False],\n",
       "                                        'max_depth': [10, 15, 20, 25, 30, None],\n",
       "                                        'max_features': ['auto', 'sqrt',\n",
       "                                                         'log2'],\n",
       "                                        'min_samples_leaf': [1, 2, 4],\n",
       "                                        'min_samples_split': [2, 5, 10],\n",
       "                                        'n_estimators': [50, 100, 200]},\n",
       "                   random_state=42, verbose=2)"
      ]
     },
     "execution_count": 164,
     "metadata": {},
     "output_type": "execute_result"
    }
   ],
   "source": [
    "rf_random.fit(X_train, y_train)"
   ]
  },
  {
   "cell_type": "code",
   "execution_count": 168,
   "id": "27f2141d-37a2-4f53-a377-87f03055ab36",
   "metadata": {},
   "outputs": [
    {
     "name": "stdout",
     "output_type": "stream",
     "text": [
      "{'n_estimators': 50, 'min_samples_split': 5, 'min_samples_leaf': 4, 'max_features': 'auto', 'max_depth': 15, 'bootstrap': True}\n"
     ]
    }
   ],
   "source": [
    "parameters = rf_random.best_params_\n",
    "\n",
    "print(parameters)"
   ]
  },
  {
   "cell_type": "code",
   "execution_count": 171,
   "id": "21040ce9-10cd-48a0-83ea-8d0d8ec443b6",
   "metadata": {},
   "outputs": [
    {
     "name": "stdout",
     "output_type": "stream",
     "text": [
      "Improvement in Random Forest Classifier after RandomizedSearchCV: 1.87%.\n"
     ]
    }
   ],
   "source": [
    "random_search_rf_predict = rf_random.predict(X_test)\n",
    "\n",
    "RandomForestClassifierScore = rf_random.score(X_test,y_test)\n",
    "RandomForestClassifierScore\n",
    "\n",
    "print('Improvement in Random Forest Classifier after RandomizedSearchCV: {:0.2f}%.'.format(100 * (rf_random.best_score_ - RandomForestClassifierScore) / RandomForestClassifierScore))"
   ]
  },
  {
   "cell_type": "code",
   "execution_count": 172,
   "id": "8a656bf0-aa86-4792-9ff0-f44cac60ad22",
   "metadata": {},
   "outputs": [
    {
     "data": {
      "text/plain": [
       "<sklearn.metrics._plot.confusion_matrix.ConfusionMatrixDisplay at 0x7fa810cf2160>"
      ]
     },
     "execution_count": 172,
     "metadata": {},
     "output_type": "execute_result"
    },
    {
     "data": {
      "image/png": "[encoded data removed]",
      "text/plain": [
       "<Figure size 432x288 with 2 Axes>"
      ]
     },
     "metadata": {
      "needs_background": "light"
     },
     "output_type": "display_data"
    }
   ],
   "source": [
    "# Generate predictions with the best model\n",
    "y_pred = rf_random.predict(X_test)\n",
    "\n",
    "# Create the confusion matrix\n",
    "cm = confusion_matrix(y_test, y_pred)\n",
    "\n",
    "ConfusionMatrixDisplay(confusion_matrix=cm).plot()"
   ]
  },
  {
   "cell_type": "code",
   "execution_count": 173,
   "id": "1b75574b-1f38-4eba-aa43-a14a966768a4",
   "metadata": {},
   "outputs": [
    {
     "name": "stdout",
     "output_type": "stream",
     "text": [
      "Model quality:\n",
      "Accuracy:  81.86397984886649\n",
      "Precision: 82.77596815056098\n",
      "Recall:    75.69661199704898\n",
      "F1:        77.61278195488723\n"
     ]
    }
   ],
   "source": [
    "brfc_random_score = accuracy_score(y_pred, y_test)*100\n",
    "\n",
    "print('Model quality:')\n",
    "print('Accuracy: ', accuracy_score(y_pred, y_test)*100)\n",
    "print('Precision:',precision_score(y_test, y_pred, average='macro')*100)\n",
    "print('Recall:   ',recall_score(y_test, y_pred, average='macro')*100)\n",
    "print('F1:       ',f1_score(y_test, y_pred, average='macro')*100)"
   ]
  },
  {
   "cell_type": "markdown",
   "id": "6da44f80-80fb-431c-89c2-14cff2f92a88",
   "metadata": {},
   "source": [
    "### GradientBoostingClassifier"
   ]
  },
  {
   "cell_type": "code",
   "execution_count": 174,
   "id": "6f2a7d7a-8433-4453-9037-4e59a40fdc50",
   "metadata": {},
   "outputs": [],
   "source": [
    "def eval_classification(model):\n",
    "    y_pred = model.predict(X_test)\n",
    "    y_pred_train = model.predict(X_train)\n",
    "    y_pred_proba = model.predict_proba(X_test)\n",
    "    y_pred_proba_train = model.predict_proba(X_train)\n",
    "    \n",
    "    print(\"Accuracy (Test Set): %.2f\" % accuracy_score(y_test, y_pred))\n",
    "    print(\"Precision (Test Set): %.2f\" % precision_score(y_test, y_pred))\n",
    "    print(\"Recall (Test Set): %.2f\" % recall_score(y_test, y_pred))\n",
    "    print(\"F1-Score (Test Set): %.2f\" % f1_score(y_test, y_pred))\n",
    "    \n",
    "    print(\"roc_auc (test-proba): %.2f\" % roc_auc_score(y_test, y_pred_proba[:, 1]))\n",
    "    print(\"roc_auc (train-proba): %.2f\" % roc_auc_score(y_train, y_pred_proba_train[:, 1]))"
   ]
  },
  {
   "cell_type": "code",
   "execution_count": 176,
   "id": "0b271ada-3c0a-4d89-98a8-9f8d0092677a",
   "metadata": {},
   "outputs": [
    {
     "name": "stdout",
     "output_type": "stream",
     "text": [
      "Accuracy (Test Set): 0.83\n",
      "Precision (Test Set): 0.88\n",
      "Recall (Test Set): 0.57\n",
      "F1-Score (Test Set): 0.69\n",
      "roc_auc (test-proba): 0.79\n",
      "roc_auc (train-proba): 0.88\n"
     ]
    }
   ],
   "source": [
    "gbc = GradientBoostingClassifier()\n",
    "gbc.fit(X_train, y_train)\n",
    "y_pred = gbc.predict(X_test)\n",
    "\n",
    "gbc_acc = accuracy_score(y_pred, y_test)*100\n",
    "eval_classification(gbc)"
   ]
  },
  {
   "cell_type": "markdown",
   "id": "f8f8df3e-8245-465e-8e8a-81efc23acb00",
   "metadata": {},
   "source": [
    "#### Hyperparameters Tuning"
   ]
  },
  {
   "cell_type": "code",
   "execution_count": 178,
   "id": "e6540353-a176-4add-a1a1-64b9d9407e0a",
   "metadata": {
    "collapsed": true,
    "jupyter": {
     "outputs_hidden": true
    },
    "tags": []
   },
   "outputs": [
    {
     "name": "stdout",
     "output_type": "stream",
     "text": [
      "Best parameters are: {'learning_rate': 0.01, 'max_depth': 3, 'n_estimators': 50}\n",
      "\n",
      "\n",
      "0.638 + or -0.001 for the {'learning_rate': 0.01, 'max_depth': 1, 'n_estimators': 1}\n",
      "0.785 + or -0.012 for the {'learning_rate': 0.01, 'max_depth': 1, 'n_estimators': 50}\n",
      "0.785 + or -0.012 for the {'learning_rate': 0.01, 'max_depth': 1, 'n_estimators': 250}\n",
      "0.785 + or -0.012 for the {'learning_rate': 0.01, 'max_depth': 1, 'n_estimators': 500}\n",
      "0.638 + or -0.001 for the {'learning_rate': 0.01, 'max_depth': 3, 'n_estimators': 1}\n",
      "0.836 + or -0.011 for the {'learning_rate': 0.01, 'max_depth': 3, 'n_estimators': 50}\n",
      "0.835 + or -0.011 for the {'learning_rate': 0.01, 'max_depth': 3, 'n_estimators': 250}\n",
      "0.835 + or -0.011 for the {'learning_rate': 0.01, 'max_depth': 3, 'n_estimators': 500}\n",
      "0.638 + or -0.001 for the {'learning_rate': 0.01, 'max_depth': 5, 'n_estimators': 1}\n",
      "0.833 + or -0.011 for the {'learning_rate': 0.01, 'max_depth': 5, 'n_estimators': 50}\n",
      "0.835 + or -0.014 for the {'learning_rate': 0.01, 'max_depth': 5, 'n_estimators': 250}\n",
      "0.828 + or -0.015 for the {'learning_rate': 0.01, 'max_depth': 5, 'n_estimators': 500}\n",
      "0.638 + or -0.001 for the {'learning_rate': 0.01, 'max_depth': 7, 'n_estimators': 1}\n",
      "0.823 + or -0.014 for the {'learning_rate': 0.01, 'max_depth': 7, 'n_estimators': 50}\n",
      "0.823 + or -0.019 for the {'learning_rate': 0.01, 'max_depth': 7, 'n_estimators': 250}\n",
      "0.818 + or -0.017 for the {'learning_rate': 0.01, 'max_depth': 7, 'n_estimators': 500}\n",
      "0.638 + or -0.001 for the {'learning_rate': 0.01, 'max_depth': 9, 'n_estimators': 1}\n",
      "0.814 + or -0.016 for the {'learning_rate': 0.01, 'max_depth': 9, 'n_estimators': 50}\n",
      "0.814 + or -0.023 for the {'learning_rate': 0.01, 'max_depth': 9, 'n_estimators': 250}\n",
      "0.804 + or -0.029 for the {'learning_rate': 0.01, 'max_depth': 9, 'n_estimators': 500}\n",
      "0.638 + or -0.001 for the {'learning_rate': 0.1, 'max_depth': 1, 'n_estimators': 1}\n",
      "0.785 + or -0.012 for the {'learning_rate': 0.1, 'max_depth': 1, 'n_estimators': 50}\n",
      "0.827 + or -0.006 for the {'learning_rate': 0.1, 'max_depth': 1, 'n_estimators': 250}\n",
      "0.821 + or -0.006 for the {'learning_rate': 0.1, 'max_depth': 1, 'n_estimators': 500}\n",
      "0.638 + or -0.001 for the {'learning_rate': 0.1, 'max_depth': 3, 'n_estimators': 1}\n",
      "0.834 + or -0.011 for the {'learning_rate': 0.1, 'max_depth': 3, 'n_estimators': 50}\n",
      "0.824 + or -0.01 for the {'learning_rate': 0.1, 'max_depth': 3, 'n_estimators': 250}\n",
      "0.821 + or -0.01 for the {'learning_rate': 0.1, 'max_depth': 3, 'n_estimators': 500}\n",
      "0.638 + or -0.001 for the {'learning_rate': 0.1, 'max_depth': 5, 'n_estimators': 1}\n",
      "0.828 + or -0.016 for the {'learning_rate': 0.1, 'max_depth': 5, 'n_estimators': 50}\n",
      "0.807 + or -0.019 for the {'learning_rate': 0.1, 'max_depth': 5, 'n_estimators': 250}\n",
      "0.791 + or -0.013 for the {'learning_rate': 0.1, 'max_depth': 5, 'n_estimators': 500}\n",
      "0.638 + or -0.001 for the {'learning_rate': 0.1, 'max_depth': 7, 'n_estimators': 1}\n",
      "0.811 + or -0.022 for the {'learning_rate': 0.1, 'max_depth': 7, 'n_estimators': 50}\n",
      "0.796 + or -0.02 for the {'learning_rate': 0.1, 'max_depth': 7, 'n_estimators': 250}\n",
      "0.787 + or -0.021 for the {'learning_rate': 0.1, 'max_depth': 7, 'n_estimators': 500}\n",
      "0.638 + or -0.001 for the {'learning_rate': 0.1, 'max_depth': 9, 'n_estimators': 1}\n",
      "0.807 + or -0.024 for the {'learning_rate': 0.1, 'max_depth': 9, 'n_estimators': 50}\n",
      "0.795 + or -0.023 for the {'learning_rate': 0.1, 'max_depth': 9, 'n_estimators': 250}\n",
      "0.786 + or -0.018 for the {'learning_rate': 0.1, 'max_depth': 9, 'n_estimators': 500}\n",
      "0.785 + or -0.012 for the {'learning_rate': 1, 'max_depth': 1, 'n_estimators': 1}\n",
      "0.823 + or -0.006 for the {'learning_rate': 1, 'max_depth': 1, 'n_estimators': 50}\n",
      "0.816 + or -0.009 for the {'learning_rate': 1, 'max_depth': 1, 'n_estimators': 250}\n",
      "0.813 + or -0.008 for the {'learning_rate': 1, 'max_depth': 1, 'n_estimators': 500}\n",
      "0.836 + or -0.011 for the {'learning_rate': 1, 'max_depth': 3, 'n_estimators': 1}\n",
      "0.801 + or -0.009 for the {'learning_rate': 1, 'max_depth': 3, 'n_estimators': 50}\n",
      "0.784 + or -0.009 for the {'learning_rate': 1, 'max_depth': 3, 'n_estimators': 250}\n",
      "0.775 + or -0.013 for the {'learning_rate': 1, 'max_depth': 3, 'n_estimators': 500}\n",
      "0.833 + or -0.016 for the {'learning_rate': 1, 'max_depth': 5, 'n_estimators': 1}\n",
      "0.787 + or -0.012 for the {'learning_rate': 1, 'max_depth': 5, 'n_estimators': 50}\n",
      "0.774 + or -0.02 for the {'learning_rate': 1, 'max_depth': 5, 'n_estimators': 250}\n",
      "0.774 + or -0.026 for the {'learning_rate': 1, 'max_depth': 5, 'n_estimators': 500}\n",
      "0.82 + or -0.015 for the {'learning_rate': 1, 'max_depth': 7, 'n_estimators': 1}\n",
      "0.781 + or -0.019 for the {'learning_rate': 1, 'max_depth': 7, 'n_estimators': 50}\n",
      "0.782 + or -0.021 for the {'learning_rate': 1, 'max_depth': 7, 'n_estimators': 250}\n",
      "0.785 + or -0.028 for the {'learning_rate': 1, 'max_depth': 7, 'n_estimators': 500}\n",
      "0.803 + or -0.019 for the {'learning_rate': 1, 'max_depth': 9, 'n_estimators': 1}\n",
      "0.781 + or -0.015 for the {'learning_rate': 1, 'max_depth': 9, 'n_estimators': 50}\n",
      "0.789 + or -0.013 for the {'learning_rate': 1, 'max_depth': 9, 'n_estimators': 250}\n",
      "0.789 + or -0.014 for the {'learning_rate': 1, 'max_depth': 9, 'n_estimators': 500}\n",
      "0.785 + or -0.012 for the {'learning_rate': 10, 'max_depth': 1, 'n_estimators': 1}\n",
      "0.215 + or -0.012 for the {'learning_rate': 10, 'max_depth': 1, 'n_estimators': 50}\n",
      "0.215 + or -0.012 for the {'learning_rate': 10, 'max_depth': 1, 'n_estimators': 250}\n",
      "0.215 + or -0.012 for the {'learning_rate': 10, 'max_depth': 1, 'n_estimators': 500}\n",
      "0.836 + or -0.011 for the {'learning_rate': 10, 'max_depth': 3, 'n_estimators': 1}\n",
      "0.265 + or -0.094 for the {'learning_rate': 10, 'max_depth': 3, 'n_estimators': 50}\n",
      "0.265 + or -0.094 for the {'learning_rate': 10, 'max_depth': 3, 'n_estimators': 250}\n",
      "0.265 + or -0.094 for the {'learning_rate': 10, 'max_depth': 3, 'n_estimators': 500}\n",
      "0.831 + or -0.015 for the {'learning_rate': 10, 'max_depth': 5, 'n_estimators': 1}\n",
      "0.367 + or -0.05 for the {'learning_rate': 10, 'max_depth': 5, 'n_estimators': 50}\n",
      "0.367 + or -0.056 for the {'learning_rate': 10, 'max_depth': 5, 'n_estimators': 250}\n",
      "0.368 + or -0.05 for the {'learning_rate': 10, 'max_depth': 5, 'n_estimators': 500}\n",
      "0.803 + or -0.026 for the {'learning_rate': 10, 'max_depth': 7, 'n_estimators': 1}\n",
      "0.499 + or -0.116 for the {'learning_rate': 10, 'max_depth': 7, 'n_estimators': 50}\n",
      "0.526 + or -0.1 for the {'learning_rate': 10, 'max_depth': 7, 'n_estimators': 250}\n",
      "0.472 + or -0.045 for the {'learning_rate': 10, 'max_depth': 7, 'n_estimators': 500}\n",
      "0.794 + or -0.019 for the {'learning_rate': 10, 'max_depth': 9, 'n_estimators': 1}\n",
      "0.546 + or -0.027 for the {'learning_rate': 10, 'max_depth': 9, 'n_estimators': 50}\n",
      "0.533 + or -0.039 for the {'learning_rate': 10, 'max_depth': 9, 'n_estimators': 250}\n",
      "0.516 + or -0.04 for the {'learning_rate': 10, 'max_depth': 9, 'n_estimators': 500}\n",
      "0.785 + or -0.012 for the {'learning_rate': 100, 'max_depth': 1, 'n_estimators': 1}\n",
      "0.362 + or -0.001 for the {'learning_rate': 100, 'max_depth': 1, 'n_estimators': 50}\n",
      "0.362 + or -0.001 for the {'learning_rate': 100, 'max_depth': 1, 'n_estimators': 250}\n",
      "0.362 + or -0.001 for the {'learning_rate': 100, 'max_depth': 1, 'n_estimators': 500}\n",
      "0.836 + or -0.011 for the {'learning_rate': 100, 'max_depth': 3, 'n_estimators': 1}\n",
      "0.377 + or -0.075 for the {'learning_rate': 100, 'max_depth': 3, 'n_estimators': 50}\n",
      "0.377 + or -0.075 for the {'learning_rate': 100, 'max_depth': 3, 'n_estimators': 250}\n",
      "0.377 + or -0.075 for the {'learning_rate': 100, 'max_depth': 3, 'n_estimators': 500}\n",
      "0.831 + or -0.015 for the {'learning_rate': 100, 'max_depth': 5, 'n_estimators': 1}\n",
      "0.396 + or -0.055 for the {'learning_rate': 100, 'max_depth': 5, 'n_estimators': 50}\n",
      "0.396 + or -0.055 for the {'learning_rate': 100, 'max_depth': 5, 'n_estimators': 250}\n",
      "0.403 + or -0.057 for the {'learning_rate': 100, 'max_depth': 5, 'n_estimators': 500}\n",
      "0.8 + or -0.024 for the {'learning_rate': 100, 'max_depth': 7, 'n_estimators': 1}\n",
      "0.482 + or -0.106 for the {'learning_rate': 100, 'max_depth': 7, 'n_estimators': 50}\n",
      "0.469 + or -0.117 for the {'learning_rate': 100, 'max_depth': 7, 'n_estimators': 250}\n",
      "0.497 + or -0.097 for the {'learning_rate': 100, 'max_depth': 7, 'n_estimators': 500}\n",
      "0.786 + or -0.022 for the {'learning_rate': 100, 'max_depth': 9, 'n_estimators': 1}\n",
      "0.55 + or -0.082 for the {'learning_rate': 100, 'max_depth': 9, 'n_estimators': 50}\n",
      "0.545 + or -0.079 for the {'learning_rate': 100, 'max_depth': 9, 'n_estimators': 250}\n",
      "0.565 + or -0.067 for the {'learning_rate': 100, 'max_depth': 9, 'n_estimators': 500}\n"
     ]
    }
   ],
   "source": [
    "from sklearn.ensemble import GradientBoostingClassifier\n",
    "from sklearn.model_selection import GridSearchCV\n",
    "\n",
    "gbc = GradientBoostingClassifier()\n",
    "parameters = {\n",
    "    \"n_estimators\":[1,50,250,500],\n",
    "    \"max_depth\":[1,3,5,7,9],\n",
    "    \"learning_rate\":[0.01,0.1,1,10,100]\n",
    "}\n",
    "\n",
    "cv = GridSearchCV(gbc,parameters,cv=5)\n",
    "cv.fit(X_train,y_train.values.ravel())\n",
    "\n",
    "def display(results):\n",
    "    print(f'Best parameters are: {results.best_params_}')\n",
    "    print(\"\\n\")\n",
    "    mean_score = results.cv_results_['mean_test_score']\n",
    "    std_score = results.cv_results_['std_test_score']\n",
    "    params = results.cv_results_['params']\n",
    "    for mean,std,params in zip(mean_score,std_score,params):\n",
    "        print(f'{round(mean,3)} + or -{round(std,3)} for the {params}')\n",
    "\n",
    "display(cv)"
   ]
  },
  {
   "cell_type": "code",
   "execution_count": 179,
   "id": "e5f01a85-67ef-43d0-8abf-0abd4d12cef9",
   "metadata": {},
   "outputs": [
    {
     "name": "stdout",
     "output_type": "stream",
     "text": [
      "Accuracy (Test Set): 0.83\n",
      "Precision (Test Set): 0.89\n",
      "Recall (Test Set): 0.57\n",
      "F1-Score (Test Set): 0.69\n",
      "roc_auc (test-proba): 0.75\n",
      "roc_auc (train-proba): 0.81\n"
     ]
    }
   ],
   "source": [
    "gbc = GradientBoostingClassifier(ccp_alpha=0.0, criterion='friedman_mse', init=None,\n",
    "                           learning_rate=0.1, max_depth=3,\n",
    "                           max_features=None, max_leaf_nodes=None,\n",
    "                           min_impurity_decrease=1.7, min_samples_leaf=1,\n",
    "                           min_samples_split=5, min_weight_fraction_leaf=0.0,\n",
    "                           n_estimators=6, n_iter_no_change=None,\n",
    "                           random_state=42, subsample=1, tol=0.0001,\n",
    "                           validation_fraction = 0.1, verbose=0,\n",
    "                           warm_start=False)\n",
    "gbc.fit(X_train, y_train)\n",
    "y_pred = gbc.predict(X_test)\n",
    "eval_classification(gbc)"
   ]
  },
  {
   "cell_type": "markdown",
   "id": "5655a2ea-c055-4c5e-bc9e-1a8342e919b3",
   "metadata": {},
   "source": [
    "### Logistic regresion"
   ]
  },
  {
   "cell_type": "code",
   "execution_count": 180,
   "id": "35d2bcf7-2b4b-47b6-9f7c-986f680dff25",
   "metadata": {},
   "outputs": [
    {
     "name": "stdout",
     "output_type": "stream",
     "text": [
      "Accuracy obtained by Logistic Regression model: 66.24685138539043\n",
      "Accuracy (Test Set): 0.66\n",
      "Precision (Test Set): 0.00\n",
      "Recall (Test Set): 0.00\n",
      "F1-Score (Test Set): 0.00\n",
      "roc_auc (test-proba): 0.25\n",
      "roc_auc (train-proba): 0.26\n"
     ]
    },
    {
     "name": "stderr",
     "output_type": "stream",
     "text": [
      "/Users/kristinazekiene/opt/anaconda3/lib/python3.9/site-packages/sklearn/metrics/_classification.py:1318: UndefinedMetricWarning:\n",
      "\n",
      "Precision is ill-defined and being set to 0.0 due to no predicted samples. Use `zero_division` parameter to control this behavior.\n",
      "\n"
     ]
    }
   ],
   "source": [
    "lr = LogisticRegression()\n",
    "lr.fit(X_train, y_train)\n",
    "LogisticRegressionScore = lr.score(X_test,y_test)\n",
    "print(\"Accuracy obtained by Logistic Regression model:\",LogisticRegressionScore*100)\n",
    "\n",
    "y_pred = lr.predict(X_test)\n",
    "eval_classification(lr)"
   ]
  },
  {
   "cell_type": "markdown",
   "id": "11589309-e8bd-42da-8914-90fcd6cec35c",
   "metadata": {},
   "source": [
    "### KNeighbors Classifier"
   ]
  },
  {
   "cell_type": "code",
   "execution_count": 181,
   "id": "e0443f08-ee3b-4a13-ac98-cb18868ae43b",
   "metadata": {},
   "outputs": [
    {
     "name": "stdout",
     "output_type": "stream",
     "text": [
      "Accuracy obtained by KNeighborsClassifier model: 82.11586901763224\n",
      "Accuracy (Test Set): 0.82\n",
      "Precision (Test Set): 0.87\n",
      "Recall (Test Set): 0.55\n",
      "F1-Score (Test Set): 0.68\n",
      "roc_auc (test-proba): 0.76\n",
      "roc_auc (train-proba): 0.93\n"
     ]
    }
   ],
   "source": [
    "knn = KNeighborsClassifier(4)\n",
    "knn.fit(X_train, y_train)\n",
    "KNeighborsClassifierScore = knn.score(X_test,y_test)\n",
    "print(\"Accuracy obtained by KNeighborsClassifier model:\",KNeighborsClassifierScore*100)\n",
    "y_pred = knn.predict(X_test)\n",
    "eval_classification(knn)"
   ]
  },
  {
   "cell_type": "markdown",
   "id": "e41b6b3e-be1d-4874-80ca-322ec81332ab",
   "metadata": {},
   "source": [
    "### Decision Tree Classifier"
   ]
  },
  {
   "cell_type": "code",
   "execution_count": 182,
   "id": "e932ce37-81d7-447e-8464-99679e8c8226",
   "metadata": {},
   "outputs": [
    {
     "name": "stdout",
     "output_type": "stream",
     "text": [
      "Accuracy obtained by Decision Tree Classifier model: 75.06297229219143\n",
      "Accuracy (Test Set): 0.75\n",
      "Precision (Test Set): 0.63\n",
      "Recall (Test Set): 0.63\n",
      "F1-Score (Test Set): 0.63\n",
      "roc_auc (test-proba): 0.72\n",
      "roc_auc (train-proba): 0.98\n"
     ]
    }
   ],
   "source": [
    "tree = DecisionTreeClassifier()\n",
    "tree.fit(X_train,y_train)\n",
    "DecisionTreeClassifierScore = tree.score(X_test,y_test)\n",
    "print(\"Accuracy obtained by Decision Tree Classifier model:\",DecisionTreeClassifierScore*100)\n",
    "y_pred = tree.predict(X_test)\n",
    "eval_classification(tree)"
   ]
  },
  {
   "cell_type": "markdown",
   "id": "5b235367-670c-4ef4-86cd-a2c585d4631e",
   "metadata": {},
   "source": [
    "#### Hyperparameters Tunning"
   ]
  },
  {
   "cell_type": "code",
   "execution_count": 183,
   "id": "c222e3cf-9d7a-4171-be82-903ce23597a9",
   "metadata": {},
   "outputs": [
    {
     "name": "stdout",
     "output_type": "stream",
     "text": [
      "Fitting 5 folds for each of 10 candidates, totalling 50 fits\n",
      "[CV] END criterion=gini, max_depth=8, max_features=2, splitter=random; total time=   0.0s\n",
      "[CV] END criterion=gini, max_depth=8, max_features=2, splitter=random; total time=   0.0s\n",
      "[CV] END criterion=gini, max_depth=8, max_features=2, splitter=random; total time=   0.0s\n",
      "[CV] END criterion=gini, max_depth=8, max_features=2, splitter=random; total time=   0.0s\n",
      "[CV] END criterion=gini, max_depth=8, max_features=2, splitter=random; total time=   0.0s\n",
      "[CV] END criterion=gini, max_depth=4, max_features=10, splitter=random; total time=   0.0s\n",
      "[CV] END criterion=gini, max_depth=4, max_features=10, splitter=random; total time=   0.0s\n",
      "[CV] END criterion=gini, max_depth=4, max_features=10, splitter=random; total time=   0.0s\n",
      "[CV] END criterion=gini, max_depth=4, max_features=10, splitter=random; total time=   0.0s\n",
      "[CV] END criterion=gini, max_depth=4, max_features=10, splitter=random; total time=   0.0s\n",
      "[CV] END criterion=gini, max_depth=8, max_features=5, splitter=best; total time=   0.0s\n",
      "[CV] END criterion=gini, max_depth=8, max_features=5, splitter=best; total time=   0.0s\n",
      "[CV] END criterion=gini, max_depth=8, max_features=5, splitter=best; total time=   0.0s\n",
      "[CV] END criterion=gini, max_depth=8, max_features=5, splitter=best; total time=   0.0s\n",
      "[CV] END criterion=gini, max_depth=8, max_features=5, splitter=best; total time=   0.0s\n",
      "[CV] END criterion=gini, max_depth=6, max_features=1, splitter=best; total time=   0.0s\n",
      "[CV] END criterion=gini, max_depth=6, max_features=1, splitter=best; total time=   0.0s\n",
      "[CV] END criterion=gini, max_depth=6, max_features=1, splitter=best; total time=   0.0s\n",
      "[CV] END criterion=gini, max_depth=6, max_features=1, splitter=best; total time=   0.0s\n",
      "[CV] END criterion=gini, max_depth=6, max_features=1, splitter=best; total time=   0.0s\n",
      "[CV] END criterion=gini, max_depth=12, max_features=5, splitter=random; total time=   0.0s\n",
      "[CV] END criterion=gini, max_depth=12, max_features=5, splitter=random; total time=   0.0s\n",
      "[CV] END criterion=gini, max_depth=12, max_features=5, splitter=random; total time=   0.0s\n",
      "[CV] END criterion=gini, max_depth=12, max_features=5, splitter=random; total time=   0.0s\n",
      "[CV] END criterion=gini, max_depth=12, max_features=5, splitter=random; total time=   0.0s\n",
      "[CV] END criterion=entropy, max_depth=6, max_features=10, splitter=random; total time=   0.0s\n",
      "[CV] END criterion=entropy, max_depth=6, max_features=10, splitter=random; total time=   0.0s\n",
      "[CV] END criterion=entropy, max_depth=6, max_features=10, splitter=random; total time=   0.0s\n",
      "[CV] END criterion=entropy, max_depth=6, max_features=10, splitter=random; total time=   0.0s\n",
      "[CV] END criterion=entropy, max_depth=6, max_features=10, splitter=random; total time=   0.0s\n",
      "[CV] END criterion=gini, max_depth=4, max_features=7, splitter=random; total time=   0.0s\n",
      "[CV] END criterion=gini, max_depth=4, max_features=7, splitter=random; total time=   0.0s\n",
      "[CV] END criterion=gini, max_depth=4, max_features=7, splitter=random; total time=   0.0s\n",
      "[CV] END criterion=gini, max_depth=4, max_features=7, splitter=random; total time=   0.0s\n",
      "[CV] END criterion=gini, max_depth=4, max_features=7, splitter=random; total time=   0.0s\n",
      "[CV] END criterion=gini, max_depth=6, max_features=3, splitter=random; total time=   0.0s\n",
      "[CV] END criterion=gini, max_depth=6, max_features=3, splitter=random; total time=   0.0s\n",
      "[CV] END criterion=gini, max_depth=6, max_features=3, splitter=random; total time=   0.0s\n",
      "[CV] END criterion=gini, max_depth=6, max_features=3, splitter=random; total time=   0.0s\n",
      "[CV] END criterion=gini, max_depth=6, max_features=3, splitter=random; total time=   0.0s\n",
      "[CV] END criterion=entropy, max_depth=8, max_features=6, splitter=random; total time=   0.0s\n",
      "[CV] END criterion=entropy, max_depth=8, max_features=6, splitter=random; total time=   0.0s\n",
      "[CV] END criterion=entropy, max_depth=8, max_features=6, splitter=random; total time=   0.0s\n",
      "[CV] END criterion=entropy, max_depth=8, max_features=6, splitter=random; total time=   0.0s\n",
      "[CV] END criterion=entropy, max_depth=8, max_features=6, splitter=random; total time=   0.0s\n",
      "[CV] END criterion=gini, max_depth=6, max_features=4, splitter=best; total time=   0.0s\n",
      "[CV] END criterion=gini, max_depth=6, max_features=4, splitter=best; total time=   0.0s\n",
      "[CV] END criterion=gini, max_depth=6, max_features=4, splitter=best; total time=   0.0s\n",
      "[CV] END criterion=gini, max_depth=6, max_features=4, splitter=best; total time=   0.0s\n",
      "[CV] END criterion=gini, max_depth=6, max_features=4, splitter=best; total time=   0.0s\n"
     ]
    },
    {
     "name": "stderr",
     "output_type": "stream",
     "text": [
      "/Users/kristinazekiene/opt/anaconda3/lib/python3.9/site-packages/sklearn/model_selection/_validation.py:372: FitFailedWarning:\n",
      "\n",
      "\n",
      "10 fits failed out of a total of 50.\n",
      "The score on these train-test partitions for these parameters will be set to nan.\n",
      "If these failures are not expected, you can try to debug them by setting error_score='raise'.\n",
      "\n",
      "Below are more details about the failures:\n",
      "--------------------------------------------------------------------------------\n",
      "10 fits failed with the following error:\n",
      "Traceback (most recent call last):\n",
      "  File \"/Users/kristinazekiene/opt/anaconda3/lib/python3.9/site-packages/sklearn/model_selection/_validation.py\", line 680, in _fit_and_score\n",
      "    estimator.fit(X_train, y_train, **fit_params)\n",
      "  File \"/Users/kristinazekiene/opt/anaconda3/lib/python3.9/site-packages/sklearn/tree/_classes.py\", line 937, in fit\n",
      "    super().fit(\n",
      "  File \"/Users/kristinazekiene/opt/anaconda3/lib/python3.9/site-packages/sklearn/tree/_classes.py\", line 308, in fit\n",
      "    raise ValueError(\"max_features must be in (0, n_features]\")\n",
      "ValueError: max_features must be in (0, n_features]\n",
      "\n",
      "\n",
      "/Users/kristinazekiene/opt/anaconda3/lib/python3.9/site-packages/sklearn/model_selection/_search.py:969: UserWarning:\n",
      "\n",
      "One or more of the test scores are non-finite: [0.76415094        nan 0.82075472 0.77169811 0.77924528        nan\n",
      " 0.7754717  0.77295597 0.79559748 0.83081761]\n",
      "\n"
     ]
    },
    {
     "data": {
      "text/plain": [
       "RandomizedSearchCV(estimator=DecisionTreeClassifier(),\n",
       "                   param_distributions={'criterion': ['gini', 'entropy'],\n",
       "                                        'max_depth': [4, 6, 8, 12],\n",
       "                                        'max_features': [1, 2, 3, 4, 5, 6, 7, 8,\n",
       "                                                         9, 10],\n",
       "                                        'splitter': ['best', 'random']},\n",
       "                   verbose=2)"
      ]
     },
     "execution_count": 183,
     "metadata": {},
     "output_type": "execute_result"
    }
   ],
   "source": [
    "dtc_clf = DecisionTreeClassifier()\n",
    "criterion = ['gini','entropy']\n",
    "splitter = ['best','random']\n",
    "max_depth = [4,6,8,12]\n",
    "max_features = list((range(1,len(X_train.columns) + 1)))\n",
    "param_distributions = {\"criterion\":criterion,\"splitter\":splitter,\n",
    "                       \"max_depth\":max_depth, \n",
    "                       \"max_features\":max_features }\n",
    "rnd_search_cv = RandomizedSearchCV(dtc_clf, param_distributions, n_iter=10, verbose=2)\n",
    "rnd_search_cv.fit(X_train_scaled,y_train)"
   ]
  },
  {
   "cell_type": "code",
   "execution_count": 184,
   "id": "1dde3ebe-8542-4034-949a-db0e42b20c9d",
   "metadata": {},
   "outputs": [
    {
     "data": {
      "text/plain": [
       "DecisionTreeClassifier(max_depth=6, max_features=4)"
      ]
     },
     "execution_count": 184,
     "metadata": {},
     "output_type": "execute_result"
    }
   ],
   "source": [
    "rnd_search_cv.best_estimator_"
   ]
  },
  {
   "cell_type": "code",
   "execution_count": 185,
   "id": "57e4fdd7-cb67-4df4-9059-036115abbe80",
   "metadata": {},
   "outputs": [
    {
     "data": {
      "text/plain": [
       "0.830817610062893"
      ]
     },
     "execution_count": 185,
     "metadata": {},
     "output_type": "execute_result"
    }
   ],
   "source": [
    "dt_score = rnd_search_cv.best_score_\n",
    "dt_score"
   ]
  },
  {
   "cell_type": "markdown",
   "id": "3bdf2e80-7705-40c1-9a5b-7f2d37a33695",
   "metadata": {},
   "source": [
    "### Support Vector Classifier"
   ]
  },
  {
   "cell_type": "code",
   "execution_count": 186,
   "id": "dac78eaf-f439-4376-9c93-446f5622d8b8",
   "metadata": {},
   "outputs": [],
   "source": [
    "scaler = StandardScaler()\n",
    "X_train_scaled = scaler.fit_transform(X_train)\n",
    "X_test_scaled = scaler.transform(X_test)"
   ]
  },
  {
   "cell_type": "code",
   "execution_count": 203,
   "id": "294a9bc2-6856-441e-b37f-2f8ea949d125",
   "metadata": {},
   "outputs": [
    {
     "data": {
      "application/vnd.plotly.v1+json": {
       "config": {
        "plotlyServerURL": "https://plot.ly"
       },
       "data": [
        {
         "hovertemplate": "variable=0<br>index=%{x}<br>value=%{y}<extra></extra>",
         "legendgroup": "0",
         "line": {
          "color": "#636efa",
          "dash": "solid"
         },
         "marker": {
          "symbol": "circle"
         },
         "mode": "lines",
         "name": "0",
         "orientation": "v",
         "showlegend": true,
         "type": "scatter",
         "x": [
          0,
          1,
          2,
          3,
          4,
          5,
          6,
          7,
          8,
          9,
          10,
          11,
          12,
          13,
          14
         ],
         "xaxis": "x",
         "y": [
          0.7264799735915494,
          0.688902948943662,
          0.7540596520298258,
          0.7000690417011874,
          0.7545429439381386,
          0.7067699163732395,
          0.7293271346830985,
          0.7544324772162386,
          0.7267329466998066,
          0.7033416183374759,
          0.7332884022887324,
          0.6700181558098591,
          0.6894918530792599,
          0.7340789837061585,
          0.7906931786799226
         ],
         "yaxis": "y"
        }
       ],
       "layout": {
        "autosize": true,
        "legend": {
         "title": {
          "text": "variable"
         },
         "tracegroupgap": 0
        },
        "template": {
         "data": {
          "bar": [
           {
            "error_x": {
             "color": "#2a3f5f"
            },
            "error_y": {
             "color": "#2a3f5f"
            },
            "marker": {
             "line": {
              "color": "#E5ECF6",
              "width": 0.5
             },
             "pattern": {
              "fillmode": "overlay",
              "size": 10,
              "solidity": 0.2
             }
            },
            "type": "bar"
           }
          ],
          "barpolar": [
           {
            "marker": {
             "line": {
              "color": "#E5ECF6",
              "width": 0.5
             },
             "pattern": {
              "fillmode": "overlay",
              "size": 10,
              "solidity": 0.2
             }
            },
            "type": "barpolar"
           }
          ],
          "carpet": [
           {
            "aaxis": {
             "endlinecolor": "#2a3f5f",
             "gridcolor": "white",
             "linecolor": "white",
             "minorgridcolor": "white",
             "startlinecolor": "#2a3f5f"
            },
            "baxis": {
             "endlinecolor": "#2a3f5f",
             "gridcolor": "white",
             "linecolor": "white",
             "minorgridcolor": "white",
             "startlinecolor": "#2a3f5f"
            },
            "type": "carpet"
           }
          ],
          "choropleth": [
           {
            "colorbar": {
             "outlinewidth": 0,
             "ticks": ""
            },
            "type": "choropleth"
           }
          ],
          "contour": [
           {
            "colorbar": {
             "outlinewidth": 0,
             "ticks": ""
            },
            "colorscale": [
             [
              0,
              "#0d0887"
             ],
             [
              0.1111111111111111,
              "#46039f"
             ],
             [
              0.2222222222222222,
              "#7201a8"
             ],
             [
              0.3333333333333333,
              "#9c179e"
             ],
             [
              0.4444444444444444,
              "#bd3786"
             ],
             [
              0.5555555555555556,
              "#d8576b"
             ],
             [
              0.6666666666666666,
              "#ed7953"
             ],
             [
              0.7777777777777778,
              "#fb9f3a"
             ],
             [
              0.8888888888888888,
              "#fdca26"
             ],
             [
              1,
              "#f0f921"
             ]
            ],
            "type": "contour"
           }
          ],
          "contourcarpet": [
           {
            "colorbar": {
             "outlinewidth": 0,
             "ticks": ""
            },
            "type": "contourcarpet"
           }
          ],
          "heatmap": [
           {
            "colorbar": {
             "outlinewidth": 0,
             "ticks": ""
            },
            "colorscale": [
             [
              0,
              "#0d0887"
             ],
             [
              0.1111111111111111,
              "#46039f"
             ],
             [
              0.2222222222222222,
              "#7201a8"
             ],
             [
              0.3333333333333333,
              "#9c179e"
             ],
             [
              0.4444444444444444,
              "#bd3786"
             ],
             [
              0.5555555555555556,
              "#d8576b"
             ],
             [
              0.6666666666666666,
              "#ed7953"
             ],
             [
              0.7777777777777778,
              "#fb9f3a"
             ],
             [
              0.8888888888888888,
              "#fdca26"
             ],
             [
              1,
              "#f0f921"
             ]
            ],
            "type": "heatmap"
           }
          ],
          "heatmapgl": [
           {
            "colorbar": {
             "outlinewidth": 0,
             "ticks": ""
            },
            "colorscale": [
             [
              0,
              "#0d0887"
             ],
             [
              0.1111111111111111,
              "#46039f"
             ],
             [
              0.2222222222222222,
              "#7201a8"
             ],
             [
              0.3333333333333333,
              "#9c179e"
             ],
             [
              0.4444444444444444,
              "#bd3786"
             ],
             [
              0.5555555555555556,
              "#d8576b"
             ],
             [
              0.6666666666666666,
              "#ed7953"
             ],
             [
              0.7777777777777778,
              "#fb9f3a"
             ],
             [
              0.8888888888888888,
              "#fdca26"
             ],
             [
              1,
              "#f0f921"
             ]
            ],
            "type": "heatmapgl"
           }
          ],
          "histogram": [
           {
            "marker": {
             "pattern": {
              "fillmode": "overlay",
              "size": 10,
              "solidity": 0.2
             }
            },
            "type": "histogram"
           }
          ],
          "histogram2d": [
           {
            "colorbar": {
             "outlinewidth": 0,
             "ticks": ""
            },
            "colorscale": [
             [
              0,
              "#0d0887"
             ],
             [
              0.1111111111111111,
              "#46039f"
             ],
             [
              0.2222222222222222,
              "#7201a8"
             ],
             [
              0.3333333333333333,
              "#9c179e"
             ],
             [
              0.4444444444444444,
              "#bd3786"
             ],
             [
              0.5555555555555556,
              "#d8576b"
             ],
             [
              0.6666666666666666,
              "#ed7953"
             ],
             [
              0.7777777777777778,
              "#fb9f3a"
             ],
             [
              0.8888888888888888,
              "#fdca26"
             ],
             [
              1,
              "#f0f921"
             ]
            ],
            "type": "histogram2d"
           }
          ],
          "histogram2dcontour": [
           {
            "colorbar": {
             "outlinewidth": 0,
             "ticks": ""
            },
            "colorscale": [
             [
              0,
              "#0d0887"
             ],
             [
              0.1111111111111111,
              "#46039f"
             ],
             [
              0.2222222222222222,
              "#7201a8"
             ],
             [
              0.3333333333333333,
              "#9c179e"
             ],
             [
              0.4444444444444444,
              "#bd3786"
             ],
             [
              0.5555555555555556,
              "#d8576b"
             ],
             [
              0.6666666666666666,
              "#ed7953"
             ],
             [
              0.7777777777777778,
              "#fb9f3a"
             ],
             [
              0.8888888888888888,
              "#fdca26"
             ],
             [
              1,
              "#f0f921"
             ]
            ],
            "type": "histogram2dcontour"
           }
          ],
          "mesh3d": [
           {
            "colorbar": {
             "outlinewidth": 0,
             "ticks": ""
            },
            "type": "mesh3d"
           }
          ],
          "parcoords": [
           {
            "line": {
             "colorbar": {
              "outlinewidth": 0,
              "ticks": ""
             }
            },
            "type": "parcoords"
           }
          ],
          "pie": [
           {
            "automargin": true,
            "type": "pie"
           }
          ],
          "scatter": [
           {
            "marker": {
             "colorbar": {
              "outlinewidth": 0,
              "ticks": ""
             }
            },
            "type": "scatter"
           }
          ],
          "scatter3d": [
           {
            "line": {
             "colorbar": {
              "outlinewidth": 0,
              "ticks": ""
             }
            },
            "marker": {
             "colorbar": {
              "outlinewidth": 0,
              "ticks": ""
             }
            },
            "type": "scatter3d"
           }
          ],
          "scattercarpet": [
           {
            "marker": {
             "colorbar": {
              "outlinewidth": 0,
              "ticks": ""
             }
            },
            "type": "scattercarpet"
           }
          ],
          "scattergeo": [
           {
            "marker": {
             "colorbar": {
              "outlinewidth": 0,
              "ticks": ""
             }
            },
            "type": "scattergeo"
           }
          ],
          "scattergl": [
           {
            "marker": {
             "colorbar": {
              "outlinewidth": 0,
              "ticks": ""
             }
            },
            "type": "scattergl"
           }
          ],
          "scattermapbox": [
           {
            "marker": {
             "colorbar": {
              "outlinewidth": 0,
              "ticks": ""
             }
            },
            "type": "scattermapbox"
           }
          ],
          "scatterpolar": [
           {
            "marker": {
             "colorbar": {
              "outlinewidth": 0,
              "ticks": ""
             }
            },
            "type": "scatterpolar"
           }
          ],
          "scatterpolargl": [
           {
            "marker": {
             "colorbar": {
              "outlinewidth": 0,
              "ticks": ""
             }
            },
            "type": "scatterpolargl"
           }
          ],
          "scatterternary": [
           {
            "marker": {
             "colorbar": {
              "outlinewidth": 0,
              "ticks": ""
             }
            },
            "type": "scatterternary"
           }
          ],
          "surface": [
           {
            "colorbar": {
             "outlinewidth": 0,
             "ticks": ""
            },
            "colorscale": [
             [
              0,
              "#0d0887"
             ],
             [
              0.1111111111111111,
              "#46039f"
             ],
             [
              0.2222222222222222,
              "#7201a8"
             ],
             [
              0.3333333333333333,
              "#9c179e"
             ],
             [
              0.4444444444444444,
              "#bd3786"
             ],
             [
              0.5555555555555556,
              "#d8576b"
             ],
             [
              0.6666666666666666,
              "#ed7953"
             ],
             [
              0.7777777777777778,
              "#fb9f3a"
             ],
             [
              0.8888888888888888,
              "#fdca26"
             ],
             [
              1,
              "#f0f921"
             ]
            ],
            "type": "surface"
           }
          ],
          "table": [
           {
            "cells": {
             "fill": {
              "color": "#EBF0F8"
             },
             "line": {
              "color": "white"
             }
            },
            "header": {
             "fill": {
              "color": "#C8D4E3"
             },
             "line": {
              "color": "white"
             }
            },
            "type": "table"
           }
          ]
         },
         "layout": {
          "annotationdefaults": {
           "arrowcolor": "#2a3f5f",
           "arrowhead": 0,
           "arrowwidth": 1
          },
          "autotypenumbers": "strict",
          "coloraxis": {
           "colorbar": {
            "outlinewidth": 0,
            "ticks": ""
           }
          },
          "colorscale": {
           "diverging": [
            [
             0,
             "#8e0152"
            ],
            [
             0.1,
             "#c51b7d"
            ],
            [
             0.2,
             "#de77ae"
            ],
            [
             0.3,
             "#f1b6da"
            ],
            [
             0.4,
             "#fde0ef"
            ],
            [
             0.5,
             "#f7f7f7"
            ],
            [
             0.6,
             "#e6f5d0"
            ],
            [
             0.7,
             "#b8e186"
            ],
            [
             0.8,
             "#7fbc41"
            ],
            [
             0.9,
             "#4d9221"
            ],
            [
             1,
             "#276419"
            ]
           ],
           "sequential": [
            [
             0,
             "#0d0887"
            ],
            [
             0.1111111111111111,
             "#46039f"
            ],
            [
             0.2222222222222222,
             "#7201a8"
            ],
            [
             0.3333333333333333,
             "#9c179e"
            ],
            [
             0.4444444444444444,
             "#bd3786"
            ],
            [
             0.5555555555555556,
             "#d8576b"
            ],
            [
             0.6666666666666666,
             "#ed7953"
            ],
            [
             0.7777777777777778,
             "#fb9f3a"
            ],
            [
             0.8888888888888888,
             "#fdca26"
            ],
            [
             1,
             "#f0f921"
            ]
           ],
           "sequentialminus": [
            [
             0,
             "#0d0887"
            ],
            [
             0.1111111111111111,
             "#46039f"
            ],
            [
             0.2222222222222222,
             "#7201a8"
            ],
            [
             0.3333333333333333,
             "#9c179e"
            ],
            [
             0.4444444444444444,
             "#bd3786"
            ],
            [
             0.5555555555555556,
             "#d8576b"
            ],
            [
             0.6666666666666666,
             "#ed7953"
            ],
            [
             0.7777777777777778,
             "#fb9f3a"
            ],
            [
             0.8888888888888888,
             "#fdca26"
            ],
            [
             1,
             "#f0f921"
            ]
           ]
          },
          "colorway": [
           "#636efa",
           "#EF553B",
           "#00cc96",
           "#ab63fa",
           "#FFA15A",
           "#19d3f3",
           "#FF6692",
           "#B6E880",
           "#FF97FF",
           "#FECB52"
          ],
          "font": {
           "color": "#2a3f5f"
          },
          "geo": {
           "bgcolor": "white",
           "lakecolor": "white",
           "landcolor": "#E5ECF6",
           "showlakes": true,
           "showland": true,
           "subunitcolor": "white"
          },
          "hoverlabel": {
           "align": "left"
          },
          "hovermode": "closest",
          "mapbox": {
           "style": "light"
          },
          "paper_bgcolor": "white",
          "plot_bgcolor": "#E5ECF6",
          "polar": {
           "angularaxis": {
            "gridcolor": "white",
            "linecolor": "white",
            "ticks": ""
           },
           "bgcolor": "#E5ECF6",
           "radialaxis": {
            "gridcolor": "white",
            "linecolor": "white",
            "ticks": ""
           }
          },
          "scene": {
           "xaxis": {
            "backgroundcolor": "#E5ECF6",
            "gridcolor": "white",
            "gridwidth": 2,
            "linecolor": "white",
            "showbackground": true,
            "ticks": "",
            "zerolinecolor": "white"
           },
           "yaxis": {
            "backgroundcolor": "#E5ECF6",
            "gridcolor": "white",
            "gridwidth": 2,
            "linecolor": "white",
            "showbackground": true,
            "ticks": "",
            "zerolinecolor": "white"
           },
           "zaxis": {
            "backgroundcolor": "#E5ECF6",
            "gridcolor": "white",
            "gridwidth": 2,
            "linecolor": "white",
            "showbackground": true,
            "ticks": "",
            "zerolinecolor": "white"
           }
          },
          "shapedefaults": {
           "line": {
            "color": "#2a3f5f"
           }
          },
          "ternary": {
           "aaxis": {
            "gridcolor": "white",
            "linecolor": "white",
            "ticks": ""
           },
           "baxis": {
            "gridcolor": "white",
            "linecolor": "white",
            "ticks": ""
           },
           "bgcolor": "#E5ECF6",
           "caxis": {
            "gridcolor": "white",
            "linecolor": "white",
            "ticks": ""
           }
          },
          "title": {
           "x": 0.05
          },
          "xaxis": {
           "automargin": true,
           "gridcolor": "white",
           "linecolor": "white",
           "ticks": "",
           "title": {
            "standoff": 15
           },
           "zerolinecolor": "white",
           "zerolinewidth": 2
          },
          "yaxis": {
           "automargin": true,
           "gridcolor": "white",
           "linecolor": "white",
           "ticks": "",
           "title": {
            "standoff": 15
           },
           "zerolinecolor": "white",
           "zerolinewidth": 2
          }
         }
        },
        "title": {
         "text": "Cross validation scores after every iteration: "
        },
        "xaxis": {
         "anchor": "y",
         "autorange": true,
         "domain": [
          0,
          1
         ],
         "range": [
          0,
          14
         ],
         "title": {
          "text": "index"
         },
         "type": "linear"
        },
        "yaxis": {
         "anchor": "x",
         "autorange": true,
         "domain": [
          0,
          1
         ],
         "range": [
          0.6633139878726334,
          0.7973973466171483
         ],
         "title": {
          "text": "value"
         },
         "type": "linear"
        }
       }
      },
      "image/png": "[encoded data removed]",
      "text/html": [
       "<div>                            <div id=\"6a94acd9-4885-4fe0-ae63-eec99c8bf05a\" class=\"plotly-graph-div\" style=\"height:525px; width:100%;\"></div>            <script type=\"text/javascript\">                require([\"plotly\"], function(Plotly) {                    window.PLOTLYENV=window.PLOTLYENV || {};                                    if (document.getElementById(\"6a94acd9-4885-4fe0-ae63-eec99c8bf05a\")) {                    Plotly.newPlot(                        \"6a94acd9-4885-4fe0-ae63-eec99c8bf05a\",                        [{\"hovertemplate\":\"variable=0<br>index=%{x}<br>value=%{y}<extra></extra>\",\"legendgroup\":\"0\",\"line\":{\"color\":\"#636efa\",\"dash\":\"solid\"},\"marker\":{\"symbol\":\"circle\"},\"mode\":\"lines\",\"name\":\"0\",\"orientation\":\"v\",\"showlegend\":true,\"x\":[0,1,2,3,4,5,6,7,8,9,10,11,12,13,14],\"xaxis\":\"x\",\"y\":[0.7264799735915494,0.688902948943662,0.7540596520298258,0.7000690417011874,0.7545429439381386,0.7067699163732395,0.7293271346830985,0.7544324772162386,0.7267329466998066,0.7033416183374759,0.7332884022887324,0.6700181558098591,0.6894918530792599,0.7340789837061585,0.7906931786799226],\"yaxis\":\"y\",\"type\":\"scatter\"}],                        {\"template\":{\"data\":{\"bar\":[{\"error_x\":{\"color\":\"#2a3f5f\"},\"error_y\":{\"color\":\"#2a3f5f\"},\"marker\":{\"line\":{\"color\":\"#E5ECF6\",\"width\":0.5},\"pattern\":{\"fillmode\":\"overlay\",\"size\":10,\"solidity\":0.2}},\"type\":\"bar\"}],\"barpolar\":[{\"marker\":{\"line\":{\"color\":\"#E5ECF6\",\"width\":0.5},\"pattern\":{\"fillmode\":\"overlay\",\"size\":10,\"solidity\":0.2}},\"type\":\"barpolar\"}],\"carpet\":[{\"aaxis\":{\"endlinecolor\":\"#2a3f5f\",\"gridcolor\":\"white\",\"linecolor\":\"white\",\"minorgridcolor\":\"white\",\"startlinecolor\":\"#2a3f5f\"},\"baxis\":{\"endlinecolor\":\"#2a3f5f\",\"gridcolor\":\"white\",\"linecolor\":\"white\",\"minorgridcolor\":\"white\",\"startlinecolor\":\"#2a3f5f\"},\"type\":\"carpet\"}],\"choropleth\":[{\"colorbar\":{\"outlinewidth\":0,\"ticks\":\"\"},\"type\":\"choropleth\"}],\"contour\":[{\"colorbar\":{\"outlinewidth\":0,\"ticks\":\"\"},\"colorscale\":[[0.0,\"#0d0887\"],[0.1111111111111111,\"#46039f\"],[0.2222222222222222,\"#7201a8\"],[0.3333333333333333,\"#9c179e\"],[0.4444444444444444,\"#bd3786\"],[0.5555555555555556,\"#d8576b\"],[0.6666666666666666,\"#ed7953\"],[0.7777777777777778,\"#fb9f3a\"],[0.8888888888888888,\"#fdca26\"],[1.0,\"#f0f921\"]],\"type\":\"contour\"}],\"contourcarpet\":[{\"colorbar\":{\"outlinewidth\":0,\"ticks\":\"\"},\"type\":\"contourcarpet\"}],\"heatmap\":[{\"colorbar\":{\"outlinewidth\":0,\"ticks\":\"\"},\"colorscale\":[[0.0,\"#0d0887\"],[0.1111111111111111,\"#46039f\"],[0.2222222222222222,\"#7201a8\"],[0.3333333333333333,\"#9c179e\"],[0.4444444444444444,\"#bd3786\"],[0.5555555555555556,\"#d8576b\"],[0.6666666666666666,\"#ed7953\"],[0.7777777777777778,\"#fb9f3a\"],[0.8888888888888888,\"#fdca26\"],[1.0,\"#f0f921\"]],\"type\":\"heatmap\"}],\"heatmapgl\":[{\"colorbar\":{\"outlinewidth\":0,\"ticks\":\"\"},\"colorscale\":[[0.0,\"#0d0887\"],[0.1111111111111111,\"#46039f\"],[0.2222222222222222,\"#7201a8\"],[0.3333333333333333,\"#9c179e\"],[0.4444444444444444,\"#bd3786\"],[0.5555555555555556,\"#d8576b\"],[0.6666666666666666,\"#ed7953\"],[0.7777777777777778,\"#fb9f3a\"],[0.8888888888888888,\"#fdca26\"],[1.0,\"#f0f921\"]],\"type\":\"heatmapgl\"}],\"histogram\":[{\"marker\":{\"pattern\":{\"fillmode\":\"overlay\",\"size\":10,\"solidity\":0.2}},\"type\":\"histogram\"}],\"histogram2d\":[{\"colorbar\":{\"outlinewidth\":0,\"ticks\":\"\"},\"colorscale\":[[0.0,\"#0d0887\"],[0.1111111111111111,\"#46039f\"],[0.2222222222222222,\"#7201a8\"],[0.3333333333333333,\"#9c179e\"],[0.4444444444444444,\"#bd3786\"],[0.5555555555555556,\"#d8576b\"],[0.6666666666666666,\"#ed7953\"],[0.7777777777777778,\"#fb9f3a\"],[0.8888888888888888,\"#fdca26\"],[1.0,\"#f0f921\"]],\"type\":\"histogram2d\"}],\"histogram2dcontour\":[{\"colorbar\":{\"outlinewidth\":0,\"ticks\":\"\"},\"colorscale\":[[0.0,\"#0d0887\"],[0.1111111111111111,\"#46039f\"],[0.2222222222222222,\"#7201a8\"],[0.3333333333333333,\"#9c179e\"],[0.4444444444444444,\"#bd3786\"],[0.5555555555555556,\"#d8576b\"],[0.6666666666666666,\"#ed7953\"],[0.7777777777777778,\"#fb9f3a\"],[0.8888888888888888,\"#fdca26\"],[1.0,\"#f0f921\"]],\"type\":\"histogram2dcontour\"}],\"mesh3d\":[{\"colorbar\":{\"outlinewidth\":0,\"ticks\":\"\"},\"type\":\"mesh3d\"}],\"parcoords\":[{\"line\":{\"colorbar\":{\"outlinewidth\":0,\"ticks\":\"\"}},\"type\":\"parcoords\"}],\"pie\":[{\"automargin\":true,\"type\":\"pie\"}],\"scatter\":[{\"marker\":{\"colorbar\":{\"outlinewidth\":0,\"ticks\":\"\"}},\"type\":\"scatter\"}],\"scatter3d\":[{\"line\":{\"colorbar\":{\"outlinewidth\":0,\"ticks\":\"\"}},\"marker\":{\"colorbar\":{\"outlinewidth\":0,\"ticks\":\"\"}},\"type\":\"scatter3d\"}],\"scattercarpet\":[{\"marker\":{\"colorbar\":{\"outlinewidth\":0,\"ticks\":\"\"}},\"type\":\"scattercarpet\"}],\"scattergeo\":[{\"marker\":{\"colorbar\":{\"outlinewidth\":0,\"ticks\":\"\"}},\"type\":\"scattergeo\"}],\"scattergl\":[{\"marker\":{\"colorbar\":{\"outlinewidth\":0,\"ticks\":\"\"}},\"type\":\"scattergl\"}],\"scattermapbox\":[{\"marker\":{\"colorbar\":{\"outlinewidth\":0,\"ticks\":\"\"}},\"type\":\"scattermapbox\"}],\"scatterpolar\":[{\"marker\":{\"colorbar\":{\"outlinewidth\":0,\"ticks\":\"\"}},\"type\":\"scatterpolar\"}],\"scatterpolargl\":[{\"marker\":{\"colorbar\":{\"outlinewidth\":0,\"ticks\":\"\"}},\"type\":\"scatterpolargl\"}],\"scatterternary\":[{\"marker\":{\"colorbar\":{\"outlinewidth\":0,\"ticks\":\"\"}},\"type\":\"scatterternary\"}],\"surface\":[{\"colorbar\":{\"outlinewidth\":0,\"ticks\":\"\"},\"colorscale\":[[0.0,\"#0d0887\"],[0.1111111111111111,\"#46039f\"],[0.2222222222222222,\"#7201a8\"],[0.3333333333333333,\"#9c179e\"],[0.4444444444444444,\"#bd3786\"],[0.5555555555555556,\"#d8576b\"],[0.6666666666666666,\"#ed7953\"],[0.7777777777777778,\"#fb9f3a\"],[0.8888888888888888,\"#fdca26\"],[1.0,\"#f0f921\"]],\"type\":\"surface\"}],\"table\":[{\"cells\":{\"fill\":{\"color\":\"#EBF0F8\"},\"line\":{\"color\":\"white\"}},\"header\":{\"fill\":{\"color\":\"#C8D4E3\"},\"line\":{\"color\":\"white\"}},\"type\":\"table\"}]},\"layout\":{\"annotationdefaults\":{\"arrowcolor\":\"#2a3f5f\",\"arrowhead\":0,\"arrowwidth\":1},\"autotypenumbers\":\"strict\",\"coloraxis\":{\"colorbar\":{\"outlinewidth\":0,\"ticks\":\"\"}},\"colorscale\":{\"diverging\":[[0,\"#8e0152\"],[0.1,\"#c51b7d\"],[0.2,\"#de77ae\"],[0.3,\"#f1b6da\"],[0.4,\"#fde0ef\"],[0.5,\"#f7f7f7\"],[0.6,\"#e6f5d0\"],[0.7,\"#b8e186\"],[0.8,\"#7fbc41\"],[0.9,\"#4d9221\"],[1,\"#276419\"]],\"sequential\":[[0.0,\"#0d0887\"],[0.1111111111111111,\"#46039f\"],[0.2222222222222222,\"#7201a8\"],[0.3333333333333333,\"#9c179e\"],[0.4444444444444444,\"#bd3786\"],[0.5555555555555556,\"#d8576b\"],[0.6666666666666666,\"#ed7953\"],[0.7777777777777778,\"#fb9f3a\"],[0.8888888888888888,\"#fdca26\"],[1.0,\"#f0f921\"]],\"sequentialminus\":[[0.0,\"#0d0887\"],[0.1111111111111111,\"#46039f\"],[0.2222222222222222,\"#7201a8\"],[0.3333333333333333,\"#9c179e\"],[0.4444444444444444,\"#bd3786\"],[0.5555555555555556,\"#d8576b\"],[0.6666666666666666,\"#ed7953\"],[0.7777777777777778,\"#fb9f3a\"],[0.8888888888888888,\"#fdca26\"],[1.0,\"#f0f921\"]]},\"colorway\":[\"#636efa\",\"#EF553B\",\"#00cc96\",\"#ab63fa\",\"#FFA15A\",\"#19d3f3\",\"#FF6692\",\"#B6E880\",\"#FF97FF\",\"#FECB52\"],\"font\":{\"color\":\"#2a3f5f\"},\"geo\":{\"bgcolor\":\"white\",\"lakecolor\":\"white\",\"landcolor\":\"#E5ECF6\",\"showlakes\":true,\"showland\":true,\"subunitcolor\":\"white\"},\"hoverlabel\":{\"align\":\"left\"},\"hovermode\":\"closest\",\"mapbox\":{\"style\":\"light\"},\"paper_bgcolor\":\"white\",\"plot_bgcolor\":\"#E5ECF6\",\"polar\":{\"angularaxis\":{\"gridcolor\":\"white\",\"linecolor\":\"white\",\"ticks\":\"\"},\"bgcolor\":\"#E5ECF6\",\"radialaxis\":{\"gridcolor\":\"white\",\"linecolor\":\"white\",\"ticks\":\"\"}},\"scene\":{\"xaxis\":{\"backgroundcolor\":\"#E5ECF6\",\"gridcolor\":\"white\",\"gridwidth\":2,\"linecolor\":\"white\",\"showbackground\":true,\"ticks\":\"\",\"zerolinecolor\":\"white\"},\"yaxis\":{\"backgroundcolor\":\"#E5ECF6\",\"gridcolor\":\"white\",\"gridwidth\":2,\"linecolor\":\"white\",\"showbackground\":true,\"ticks\":\"\",\"zerolinecolor\":\"white\"},\"zaxis\":{\"backgroundcolor\":\"#E5ECF6\",\"gridcolor\":\"white\",\"gridwidth\":2,\"linecolor\":\"white\",\"showbackground\":true,\"ticks\":\"\",\"zerolinecolor\":\"white\"}},\"shapedefaults\":{\"line\":{\"color\":\"#2a3f5f\"}},\"ternary\":{\"aaxis\":{\"gridcolor\":\"white\",\"linecolor\":\"white\",\"ticks\":\"\"},\"baxis\":{\"gridcolor\":\"white\",\"linecolor\":\"white\",\"ticks\":\"\"},\"bgcolor\":\"#E5ECF6\",\"caxis\":{\"gridcolor\":\"white\",\"linecolor\":\"white\",\"ticks\":\"\"}},\"title\":{\"x\":0.05},\"xaxis\":{\"automargin\":true,\"gridcolor\":\"white\",\"linecolor\":\"white\",\"ticks\":\"\",\"title\":{\"standoff\":15},\"zerolinecolor\":\"white\",\"zerolinewidth\":2},\"yaxis\":{\"automargin\":true,\"gridcolor\":\"white\",\"linecolor\":\"white\",\"ticks\":\"\",\"title\":{\"standoff\":15},\"zerolinecolor\":\"white\",\"zerolinewidth\":2}}},\"xaxis\":{\"anchor\":\"y\",\"domain\":[0.0,1.0],\"title\":{\"text\":\"index\"}},\"yaxis\":{\"anchor\":\"x\",\"domain\":[0.0,1.0],\"title\":{\"text\":\"value\"}},\"legend\":{\"title\":{\"text\":\"variable\"},\"tracegroupgap\":0},\"title\":{\"text\":\"Cross validation scores after every iteration: \"}},                        {\"responsive\": true}                    ).then(function(){\n",
       "                            \n",
       "var gd = document.getElementById('6a94acd9-4885-4fe0-ae63-eec99c8bf05a');\n",
       "var x = new MutationObserver(function (mutations, observer) {{\n",
       "        var display = window.getComputedStyle(gd).display;\n",
       "        if (!display || display === 'none') {{\n",
       "            console.log([gd, 'removed!']);\n",
       "            Plotly.purge(gd);\n",
       "            observer.disconnect();\n",
       "        }}\n",
       "}});\n",
       "\n",
       "// Listen for the removal of the full notebook cells\n",
       "var notebookContainer = gd.closest('#notebook-container');\n",
       "if (notebookContainer) {{\n",
       "    x.observe(notebookContainer, {childList: true});\n",
       "}}\n",
       "\n",
       "// Listen for the clearing of the current output cell\n",
       "var outputEl = gd.closest('.output');\n",
       "if (outputEl) {{\n",
       "    x.observe(outputEl, {childList: true});\n",
       "}}\n",
       "\n",
       "                        })                };                });            </script>        </div>"
      ]
     },
     "metadata": {},
     "output_type": "display_data"
    }
   ],
   "source": [
    "clf = SVC(probability=True)\n",
    "clf.fit(X_train_scaled, y_train)\n",
    "cv = RepeatedStratifiedKFold(n_splits=5, n_repeats=3)\n",
    "scores = cross_val_score(clf, X, y, cv=cv, scoring='roc_auc')\n",
    "px.line(scores, title='Cross validation scores after every iteration: ',\n",
    "        labels=dict(x=\"No of iterations\"))"
   ]
  },
  {
   "cell_type": "code",
   "execution_count": 188,
   "id": "1f80cc0f-15ae-484b-ac3d-86ae5f9e5e74",
   "metadata": {},
   "outputs": [
    {
     "name": "stdout",
     "output_type": "stream",
     "text": [
      "Accuracy of the SVC model after cross validation: 0.7253879676136885\n"
     ]
    }
   ],
   "source": [
    "print(\"Accuracy of the SVC model after cross validation:\",np.mean(scores))\n",
    "svc_score_1 = np.mean(scores)"
   ]
  },
  {
   "cell_type": "code",
   "execution_count": 190,
   "id": "4f1e1d23-d77f-4b2f-8071-25f0caa50a1a",
   "metadata": {},
   "outputs": [
    {
     "data": {
      "application/vnd.plotly.v1+json": {
       "config": {
        "plotlyServerURL": "https://plot.ly"
       },
       "data": [
        {
         "hovertemplate": "False Positive Rate=%{x}<br>True Positive Rate=%{y}<extra></extra>",
         "legendgroup": "",
         "line": {
          "color": "#636efa"
         },
         "marker": {
          "symbol": "circle"
         },
         "mode": "lines",
         "name": "",
         "orientation": "v",
         "showlegend": false,
         "stackgroup": "1",
         "type": "scatter",
         "x": [
          0,
          0,
          0,
          0.0038022813688212928,
          0.0038022813688212928,
          0.011406844106463879,
          0.011406844106463879,
          0.011406844106463879,
          0.011406844106463879,
          0.011406844106463879,
          0.015209125475285171,
          0.015209125475285171,
          0.015209125475285171,
          0.015209125475285171,
          0.019011406844106463,
          0.019011406844106463,
          0.019011406844106463,
          0.019011406844106463,
          0.019011406844106463,
          0.019011406844106463,
          0.019011406844106463,
          0.019011406844106463,
          0.019011406844106463,
          0.022813688212927757,
          0.022813688212927757,
          0.026615969581749048,
          0.026615969581749048,
          0.030418250950570342,
          0.030418250950570342,
          0.034220532319391636,
          0.034220532319391636,
          0.049429657794676805,
          0.049429657794676805,
          0.060836501901140684,
          0.09505703422053231,
          0.09885931558935361,
          0.10646387832699619,
          0.11787072243346007,
          0.11787072243346007,
          0.12167300380228137,
          0.12167300380228137,
          0.13307984790874525,
          0.14068441064638784,
          0.14068441064638784,
          0.1444866920152091,
          0.1482889733840304,
          0.1482889733840304,
          0.1596958174904943,
          0.1596958174904943,
          0.16730038022813687,
          0.17490494296577946,
          0.17490494296577946,
          0.19011406844106463,
          0.19771863117870722,
          0.20912547528517111,
          0.20912547528517111,
          0.22053231939163498,
          0.22813688212927757,
          0.25475285171102663,
          0.25475285171102663,
          0.2737642585551331,
          0.2737642585551331,
          0.28517110266159695,
          0.2965779467680608,
          0.3041825095057034,
          0.3041825095057034,
          0.311787072243346,
          0.311787072243346,
          0.3155893536121673,
          0.3269961977186312,
          0.33460076045627374,
          0.33840304182509506,
          0.34220532319391633,
          0.34600760456273766,
          0.35361216730038025,
          0.3650190114068441,
          0.3650190114068441,
          0.3726235741444867,
          0.376425855513308,
          0.3840304182509506,
          0.3840304182509506,
          0.38783269961977185,
          0.3916349809885932,
          0.3916349809885932,
          0.39923954372623577,
          0.4068441064638783,
          0.4220532319391635,
          0.4296577946768061,
          0.4296577946768061,
          0.43346007604562736,
          0.4372623574144487,
          0.4448669201520912,
          0.4448669201520912,
          0.46387832699619774,
          0.4714828897338403,
          0.4752851711026616,
          0.4790874524714829,
          0.4866920152091255,
          0.4866920152091255,
          0.49429657794676807,
          0.49809885931558934,
          0.5019011406844106,
          0.5095057034220533,
          0.5209125475285171,
          0.5209125475285171,
          0.5209125475285171,
          0.5247148288973384,
          0.5247148288973384,
          0.5285171102661597,
          0.5399239543726235,
          0.5475285171102662,
          0.5513307984790875,
          0.5513307984790875,
          0.5551330798479087,
          0.5627376425855514,
          0.5665399239543726,
          0.5665399239543726,
          0.5817490494296578,
          0.5817490494296578,
          0.5931558935361216,
          0.6083650190114068,
          0.6159695817490495,
          0.6197718631178707,
          0.6311787072243346,
          0.6311787072243346,
          0.6349809885931559,
          0.6425855513307985,
          0.6539923954372624,
          0.6615969581749049,
          0.6692015209125475,
          0.6692015209125475,
          0.6844106463878327,
          0.6920152091254753,
          0.7224334600760456,
          0.7300380228136882,
          0.7452471482889734,
          0.7566539923954373,
          0.7642585551330798,
          0.7718631178707225,
          0.7718631178707225,
          0.779467680608365,
          0.7832699619771863,
          0.7870722433460076,
          0.7946768060836502,
          0.8136882129277566,
          0.8136882129277566,
          0.8517110266159695,
          0.8517110266159695,
          0.8555133079847909,
          0.8555133079847909,
          0.8631178707224335,
          0.8631178707224335,
          0.8821292775665399,
          0.8859315589353612,
          0.8973384030418251,
          0.8973384030418251,
          0.9011406844106464,
          0.9011406844106464,
          0.9049429657794676,
          0.908745247148289,
          0.9201520912547528,
          0.9277566539923955,
          0.9505703422053232,
          0.9581749049429658,
          0.9581749049429658,
          0.9695817490494296,
          0.9809885931558935,
          0.9847908745247148,
          0.9847908745247148,
          0.9923954372623575,
          1
         ],
         "xaxis": "x",
         "y": [
          0,
          0.007462686567164179,
          0.05970149253731343,
          0.05970149253731343,
          0.06716417910447761,
          0.06716417910447761,
          0.11194029850746269,
          0.12686567164179105,
          0.14925373134328357,
          0.16417910447761194,
          0.16417910447761194,
          0.1865671641791045,
          0.20149253731343283,
          0.21641791044776118,
          0.21641791044776118,
          0.26119402985074625,
          0.27611940298507465,
          0.30597014925373134,
          0.3283582089552239,
          0.35074626865671643,
          0.3582089552238806,
          0.373134328358209,
          0.4552238805970149,
          0.4552238805970149,
          0.5149253731343284,
          0.5149253731343284,
          0.5223880597014925,
          0.5223880597014925,
          0.5298507462686567,
          0.5298507462686567,
          0.5597014925373134,
          0.5597014925373134,
          0.5671641791044776,
          0.5746268656716418,
          0.5746268656716418,
          0.582089552238806,
          0.582089552238806,
          0.582089552238806,
          0.5895522388059702,
          0.5895522388059702,
          0.5970149253731343,
          0.5970149253731343,
          0.5970149253731343,
          0.6044776119402985,
          0.6119402985074627,
          0.6119402985074627,
          0.6194029850746269,
          0.6194029850746269,
          0.6268656716417911,
          0.6268656716417911,
          0.6268656716417911,
          0.6343283582089553,
          0.6343283582089553,
          0.6343283582089553,
          0.6343283582089553,
          0.6417910447761194,
          0.6417910447761194,
          0.6417910447761194,
          0.6417910447761194,
          0.6492537313432836,
          0.6492537313432836,
          0.6567164179104478,
          0.6567164179104478,
          0.6567164179104478,
          0.6567164179104478,
          0.664179104477612,
          0.664179104477612,
          0.6716417910447762,
          0.6716417910447762,
          0.6716417910447762,
          0.6716417910447762,
          0.6791044776119403,
          0.6791044776119403,
          0.6865671641791045,
          0.6865671641791045,
          0.6865671641791045,
          0.6940298507462687,
          0.6940298507462687,
          0.7014925373134329,
          0.7014925373134329,
          0.7089552238805971,
          0.7164179104477612,
          0.7164179104477612,
          0.7313432835820896,
          0.7313432835820896,
          0.7313432835820896,
          0.7313432835820896,
          0.7388059701492538,
          0.746268656716418,
          0.746268656716418,
          0.753731343283582,
          0.753731343283582,
          0.7611940298507462,
          0.7611940298507462,
          0.7611940298507462,
          0.7611940298507462,
          0.7686567164179104,
          0.7686567164179104,
          0.7761194029850746,
          0.7761194029850746,
          0.7835820895522388,
          0.7835820895522388,
          0.7835820895522388,
          0.7835820895522388,
          0.7985074626865671,
          0.8059701492537313,
          0.8059701492537313,
          0.8134328358208955,
          0.8208955223880597,
          0.8283582089552238,
          0.8283582089552238,
          0.8283582089552238,
          0.835820895522388,
          0.835820895522388,
          0.835820895522388,
          0.835820895522388,
          0.8432835820895522,
          0.8432835820895522,
          0.8507462686567164,
          0.8507462686567164,
          0.8507462686567164,
          0.8507462686567164,
          0.8507462686567164,
          0.8507462686567164,
          0.8582089552238806,
          0.8582089552238806,
          0.8582089552238806,
          0.8582089552238806,
          0.8731343283582089,
          0.8731343283582089,
          0.8805970149253731,
          0.8805970149253731,
          0.8805970149253731,
          0.8805970149253731,
          0.8805970149253731,
          0.8805970149253731,
          0.8805970149253731,
          0.8805970149253731,
          0.8805970149253731,
          0.8955223880597015,
          0.8955223880597015,
          0.9029850746268657,
          0.9029850746268657,
          0.9029850746268657,
          0.9029850746268657,
          0.9104477611940298,
          0.9104477611940298,
          0.917910447761194,
          0.917910447761194,
          0.9253731343283582,
          0.9253731343283582,
          0.9477611940298507,
          0.9477611940298507,
          0.9552238805970149,
          0.9552238805970149,
          0.9626865671641791,
          0.9626865671641791,
          0.9701492537313433,
          0.9701492537313433,
          0.9776119402985075,
          0.9776119402985075,
          0.9776119402985075,
          0.9776119402985075,
          0.9776119402985075,
          0.9925373134328358,
          0.9925373134328358,
          0.9925373134328358,
          0.9925373134328358,
          1,
          1,
          1
         ],
         "yaxis": "y"
        }
       ],
       "layout": {
        "height": 500,
        "legend": {
         "tracegroupgap": 0
        },
        "shapes": [
         {
          "line": {
           "dash": "dash"
          },
          "type": "line",
          "x0": 0,
          "x1": 1,
          "y0": 0,
          "y1": 1
         }
        ],
        "template": {
         "data": {
          "bar": [
           {
            "error_x": {
             "color": "#2a3f5f"
            },
            "error_y": {
             "color": "#2a3f5f"
            },
            "marker": {
             "line": {
              "color": "#E5ECF6",
              "width": 0.5
             },
             "pattern": {
              "fillmode": "overlay",
              "size": 10,
              "solidity": 0.2
             }
            },
            "type": "bar"
           }
          ],
          "barpolar": [
           {
            "marker": {
             "line": {
              "color": "#E5ECF6",
              "width": 0.5
             },
             "pattern": {
              "fillmode": "overlay",
              "size": 10,
              "solidity": 0.2
             }
            },
            "type": "barpolar"
           }
          ],
          "carpet": [
           {
            "aaxis": {
             "endlinecolor": "#2a3f5f",
             "gridcolor": "white",
             "linecolor": "white",
             "minorgridcolor": "white",
             "startlinecolor": "#2a3f5f"
            },
            "baxis": {
             "endlinecolor": "#2a3f5f",
             "gridcolor": "white",
             "linecolor": "white",
             "minorgridcolor": "white",
             "startlinecolor": "#2a3f5f"
            },
            "type": "carpet"
           }
          ],
          "choropleth": [
           {
            "colorbar": {
             "outlinewidth": 0,
             "ticks": ""
            },
            "type": "choropleth"
           }
          ],
          "contour": [
           {
            "colorbar": {
             "outlinewidth": 0,
             "ticks": ""
            },
            "colorscale": [
             [
              0,
              "#0d0887"
             ],
             [
              0.1111111111111111,
              "#46039f"
             ],
             [
              0.2222222222222222,
              "#7201a8"
             ],
             [
              0.3333333333333333,
              "#9c179e"
             ],
             [
              0.4444444444444444,
              "#bd3786"
             ],
             [
              0.5555555555555556,
              "#d8576b"
             ],
             [
              0.6666666666666666,
              "#ed7953"
             ],
             [
              0.7777777777777778,
              "#fb9f3a"
             ],
             [
              0.8888888888888888,
              "#fdca26"
             ],
             [
              1,
              "#f0f921"
             ]
            ],
            "type": "contour"
           }
          ],
          "contourcarpet": [
           {
            "colorbar": {
             "outlinewidth": 0,
             "ticks": ""
            },
            "type": "contourcarpet"
           }
          ],
          "heatmap": [
           {
            "colorbar": {
             "outlinewidth": 0,
             "ticks": ""
            },
            "colorscale": [
             [
              0,
              "#0d0887"
             ],
             [
              0.1111111111111111,
              "#46039f"
             ],
             [
              0.2222222222222222,
              "#7201a8"
             ],
             [
              0.3333333333333333,
              "#9c179e"
             ],
             [
              0.4444444444444444,
              "#bd3786"
             ],
             [
              0.5555555555555556,
              "#d8576b"
             ],
             [
              0.6666666666666666,
              "#ed7953"
             ],
             [
              0.7777777777777778,
              "#fb9f3a"
             ],
             [
              0.8888888888888888,
              "#fdca26"
             ],
             [
              1,
              "#f0f921"
             ]
            ],
            "type": "heatmap"
           }
          ],
          "heatmapgl": [
           {
            "colorbar": {
             "outlinewidth": 0,
             "ticks": ""
            },
            "colorscale": [
             [
              0,
              "#0d0887"
             ],
             [
              0.1111111111111111,
              "#46039f"
             ],
             [
              0.2222222222222222,
              "#7201a8"
             ],
             [
              0.3333333333333333,
              "#9c179e"
             ],
             [
              0.4444444444444444,
              "#bd3786"
             ],
             [
              0.5555555555555556,
              "#d8576b"
             ],
             [
              0.6666666666666666,
              "#ed7953"
             ],
             [
              0.7777777777777778,
              "#fb9f3a"
             ],
             [
              0.8888888888888888,
              "#fdca26"
             ],
             [
              1,
              "#f0f921"
             ]
            ],
            "type": "heatmapgl"
           }
          ],
          "histogram": [
           {
            "marker": {
             "pattern": {
              "fillmode": "overlay",
              "size": 10,
              "solidity": 0.2
             }
            },
            "type": "histogram"
           }
          ],
          "histogram2d": [
           {
            "colorbar": {
             "outlinewidth": 0,
             "ticks": ""
            },
            "colorscale": [
             [
              0,
              "#0d0887"
             ],
             [
              0.1111111111111111,
              "#46039f"
             ],
             [
              0.2222222222222222,
              "#7201a8"
             ],
             [
              0.3333333333333333,
              "#9c179e"
             ],
             [
              0.4444444444444444,
              "#bd3786"
             ],
             [
              0.5555555555555556,
              "#d8576b"
             ],
             [
              0.6666666666666666,
              "#ed7953"
             ],
             [
              0.7777777777777778,
              "#fb9f3a"
             ],
             [
              0.8888888888888888,
              "#fdca26"
             ],
             [
              1,
              "#f0f921"
             ]
            ],
            "type": "histogram2d"
           }
          ],
          "histogram2dcontour": [
           {
            "colorbar": {
             "outlinewidth": 0,
             "ticks": ""
            },
            "colorscale": [
             [
              0,
              "#0d0887"
             ],
             [
              0.1111111111111111,
              "#46039f"
             ],
             [
              0.2222222222222222,
              "#7201a8"
             ],
             [
              0.3333333333333333,
              "#9c179e"
             ],
             [
              0.4444444444444444,
              "#bd3786"
             ],
             [
              0.5555555555555556,
              "#d8576b"
             ],
             [
              0.6666666666666666,
              "#ed7953"
             ],
             [
              0.7777777777777778,
              "#fb9f3a"
             ],
             [
              0.8888888888888888,
              "#fdca26"
             ],
             [
              1,
              "#f0f921"
             ]
            ],
            "type": "histogram2dcontour"
           }
          ],
          "mesh3d": [
           {
            "colorbar": {
             "outlinewidth": 0,
             "ticks": ""
            },
            "type": "mesh3d"
           }
          ],
          "parcoords": [
           {
            "line": {
             "colorbar": {
              "outlinewidth": 0,
              "ticks": ""
             }
            },
            "type": "parcoords"
           }
          ],
          "pie": [
           {
            "automargin": true,
            "type": "pie"
           }
          ],
          "scatter": [
           {
            "marker": {
             "colorbar": {
              "outlinewidth": 0,
              "ticks": ""
             }
            },
            "type": "scatter"
           }
          ],
          "scatter3d": [
           {
            "line": {
             "colorbar": {
              "outlinewidth": 0,
              "ticks": ""
             }
            },
            "marker": {
             "colorbar": {
              "outlinewidth": 0,
              "ticks": ""
             }
            },
            "type": "scatter3d"
           }
          ],
          "scattercarpet": [
           {
            "marker": {
             "colorbar": {
              "outlinewidth": 0,
              "ticks": ""
             }
            },
            "type": "scattercarpet"
           }
          ],
          "scattergeo": [
           {
            "marker": {
             "colorbar": {
              "outlinewidth": 0,
              "ticks": ""
             }
            },
            "type": "scattergeo"
           }
          ],
          "scattergl": [
           {
            "marker": {
             "colorbar": {
              "outlinewidth": 0,
              "ticks": ""
             }
            },
            "type": "scattergl"
           }
          ],
          "scattermapbox": [
           {
            "marker": {
             "colorbar": {
              "outlinewidth": 0,
              "ticks": ""
             }
            },
            "type": "scattermapbox"
           }
          ],
          "scatterpolar": [
           {
            "marker": {
             "colorbar": {
              "outlinewidth": 0,
              "ticks": ""
             }
            },
            "type": "scatterpolar"
           }
          ],
          "scatterpolargl": [
           {
            "marker": {
             "colorbar": {
              "outlinewidth": 0,
              "ticks": ""
             }
            },
            "type": "scatterpolargl"
           }
          ],
          "scatterternary": [
           {
            "marker": {
             "colorbar": {
              "outlinewidth": 0,
              "ticks": ""
             }
            },
            "type": "scatterternary"
           }
          ],
          "surface": [
           {
            "colorbar": {
             "outlinewidth": 0,
             "ticks": ""
            },
            "colorscale": [
             [
              0,
              "#0d0887"
             ],
             [
              0.1111111111111111,
              "#46039f"
             ],
             [
              0.2222222222222222,
              "#7201a8"
             ],
             [
              0.3333333333333333,
              "#9c179e"
             ],
             [
              0.4444444444444444,
              "#bd3786"
             ],
             [
              0.5555555555555556,
              "#d8576b"
             ],
             [
              0.6666666666666666,
              "#ed7953"
             ],
             [
              0.7777777777777778,
              "#fb9f3a"
             ],
             [
              0.8888888888888888,
              "#fdca26"
             ],
             [
              1,
              "#f0f921"
             ]
            ],
            "type": "surface"
           }
          ],
          "table": [
           {
            "cells": {
             "fill": {
              "color": "#EBF0F8"
             },
             "line": {
              "color": "white"
             }
            },
            "header": {
             "fill": {
              "color": "#C8D4E3"
             },
             "line": {
              "color": "white"
             }
            },
            "type": "table"
           }
          ]
         },
         "layout": {
          "annotationdefaults": {
           "arrowcolor": "#2a3f5f",
           "arrowhead": 0,
           "arrowwidth": 1
          },
          "autotypenumbers": "strict",
          "coloraxis": {
           "colorbar": {
            "outlinewidth": 0,
            "ticks": ""
           }
          },
          "colorscale": {
           "diverging": [
            [
             0,
             "#8e0152"
            ],
            [
             0.1,
             "#c51b7d"
            ],
            [
             0.2,
             "#de77ae"
            ],
            [
             0.3,
             "#f1b6da"
            ],
            [
             0.4,
             "#fde0ef"
            ],
            [
             0.5,
             "#f7f7f7"
            ],
            [
             0.6,
             "#e6f5d0"
            ],
            [
             0.7,
             "#b8e186"
            ],
            [
             0.8,
             "#7fbc41"
            ],
            [
             0.9,
             "#4d9221"
            ],
            [
             1,
             "#276419"
            ]
           ],
           "sequential": [
            [
             0,
             "#0d0887"
            ],
            [
             0.1111111111111111,
             "#46039f"
            ],
            [
             0.2222222222222222,
             "#7201a8"
            ],
            [
             0.3333333333333333,
             "#9c179e"
            ],
            [
             0.4444444444444444,
             "#bd3786"
            ],
            [
             0.5555555555555556,
             "#d8576b"
            ],
            [
             0.6666666666666666,
             "#ed7953"
            ],
            [
             0.7777777777777778,
             "#fb9f3a"
            ],
            [
             0.8888888888888888,
             "#fdca26"
            ],
            [
             1,
             "#f0f921"
            ]
           ],
           "sequentialminus": [
            [
             0,
             "#0d0887"
            ],
            [
             0.1111111111111111,
             "#46039f"
            ],
            [
             0.2222222222222222,
             "#7201a8"
            ],
            [
             0.3333333333333333,
             "#9c179e"
            ],
            [
             0.4444444444444444,
             "#bd3786"
            ],
            [
             0.5555555555555556,
             "#d8576b"
            ],
            [
             0.6666666666666666,
             "#ed7953"
            ],
            [
             0.7777777777777778,
             "#fb9f3a"
            ],
            [
             0.8888888888888888,
             "#fdca26"
            ],
            [
             1,
             "#f0f921"
            ]
           ]
          },
          "colorway": [
           "#636efa",
           "#EF553B",
           "#00cc96",
           "#ab63fa",
           "#FFA15A",
           "#19d3f3",
           "#FF6692",
           "#B6E880",
           "#FF97FF",
           "#FECB52"
          ],
          "font": {
           "color": "#2a3f5f"
          },
          "geo": {
           "bgcolor": "white",
           "lakecolor": "white",
           "landcolor": "#E5ECF6",
           "showlakes": true,
           "showland": true,
           "subunitcolor": "white"
          },
          "hoverlabel": {
           "align": "left"
          },
          "hovermode": "closest",
          "mapbox": {
           "style": "light"
          },
          "paper_bgcolor": "white",
          "plot_bgcolor": "#E5ECF6",
          "polar": {
           "angularaxis": {
            "gridcolor": "white",
            "linecolor": "white",
            "ticks": ""
           },
           "bgcolor": "#E5ECF6",
           "radialaxis": {
            "gridcolor": "white",
            "linecolor": "white",
            "ticks": ""
           }
          },
          "scene": {
           "xaxis": {
            "backgroundcolor": "#E5ECF6",
            "gridcolor": "white",
            "gridwidth": 2,
            "linecolor": "white",
            "showbackground": true,
            "ticks": "",
            "zerolinecolor": "white"
           },
           "yaxis": {
            "backgroundcolor": "#E5ECF6",
            "gridcolor": "white",
            "gridwidth": 2,
            "linecolor": "white",
            "showbackground": true,
            "ticks": "",
            "zerolinecolor": "white"
           },
           "zaxis": {
            "backgroundcolor": "#E5ECF6",
            "gridcolor": "white",
            "gridwidth": 2,
            "linecolor": "white",
            "showbackground": true,
            "ticks": "",
            "zerolinecolor": "white"
           }
          },
          "shapedefaults": {
           "line": {
            "color": "#2a3f5f"
           }
          },
          "ternary": {
           "aaxis": {
            "gridcolor": "white",
            "linecolor": "white",
            "ticks": ""
           },
           "baxis": {
            "gridcolor": "white",
            "linecolor": "white",
            "ticks": ""
           },
           "bgcolor": "#E5ECF6",
           "caxis": {
            "gridcolor": "white",
            "linecolor": "white",
            "ticks": ""
           }
          },
          "title": {
           "x": 0.05
          },
          "xaxis": {
           "automargin": true,
           "gridcolor": "white",
           "linecolor": "white",
           "ticks": "",
           "title": {
            "standoff": 15
           },
           "zerolinecolor": "white",
           "zerolinewidth": 2
          },
          "yaxis": {
           "automargin": true,
           "gridcolor": "white",
           "linecolor": "white",
           "ticks": "",
           "title": {
            "standoff": 15
           },
           "zerolinecolor": "white",
           "zerolinewidth": 2
          }
         }
        },
        "title": {
         "text": "ROC Curve (AUC=0.7659)"
        },
        "width": 800,
        "xaxis": {
         "anchor": "y",
         "autorange": true,
         "constrain": "domain",
         "domain": [
          0.26171875000000006,
          0.73828125
         ],
         "range": [
          -0.0033003300330033004,
          1.0033003300330032
         ],
         "title": {
          "text": "False Positive Rate"
         },
         "type": "linear"
        },
        "yaxis": {
         "anchor": "x",
         "autorange": true,
         "domain": [
          0,
          1
         ],
         "range": [
          -0.0033003300330033004,
          1.0528052805280528
         ],
         "scaleanchor": "x",
         "scaleratio": 1,
         "title": {
          "text": "True Positive Rate"
         },
         "type": "linear"
        }
       }
      },
      "image/png": "[encoded data removed]",
      "text/html": [
       "<div>                            <div id=\"a3c9586b-36da-4fe9-88e6-ef54ce9de3dd\" class=\"plotly-graph-div\" style=\"height:500px; width:800px;\"></div>            <script type=\"text/javascript\">                require([\"plotly\"], function(Plotly) {                    window.PLOTLYENV=window.PLOTLYENV || {};                                    if (document.getElementById(\"a3c9586b-36da-4fe9-88e6-ef54ce9de3dd\")) {                    Plotly.newPlot(                        \"a3c9586b-36da-4fe9-88e6-ef54ce9de3dd\",                        [{\"hovertemplate\":\"False Positive Rate=%{x}<br>True Positive Rate=%{y}<extra></extra>\",\"legendgroup\":\"\",\"line\":{\"color\":\"#636efa\"},\"marker\":{\"symbol\":\"circle\"},\"mode\":\"lines\",\"name\":\"\",\"orientation\":\"v\",\"showlegend\":false,\"stackgroup\":\"1\",\"x\":[0.0,0.0,0.0,0.0038022813688212928,0.0038022813688212928,0.011406844106463879,0.011406844106463879,0.011406844106463879,0.011406844106463879,0.011406844106463879,0.015209125475285171,0.015209125475285171,0.015209125475285171,0.015209125475285171,0.019011406844106463,0.019011406844106463,0.019011406844106463,0.019011406844106463,0.019011406844106463,0.019011406844106463,0.019011406844106463,0.019011406844106463,0.019011406844106463,0.022813688212927757,0.022813688212927757,0.026615969581749048,0.026615969581749048,0.030418250950570342,0.030418250950570342,0.034220532319391636,0.034220532319391636,0.049429657794676805,0.049429657794676805,0.060836501901140684,0.09505703422053231,0.09885931558935361,0.10646387832699619,0.11787072243346007,0.11787072243346007,0.12167300380228137,0.12167300380228137,0.13307984790874525,0.14068441064638784,0.14068441064638784,0.1444866920152091,0.1482889733840304,0.1482889733840304,0.1596958174904943,0.1596958174904943,0.16730038022813687,0.17490494296577946,0.17490494296577946,0.19011406844106463,0.19771863117870722,0.20912547528517111,0.20912547528517111,0.22053231939163498,0.22813688212927757,0.25475285171102663,0.25475285171102663,0.2737642585551331,0.2737642585551331,0.28517110266159695,0.2965779467680608,0.3041825095057034,0.3041825095057034,0.311787072243346,0.311787072243346,0.3155893536121673,0.3269961977186312,0.33460076045627374,0.33840304182509506,0.34220532319391633,0.34600760456273766,0.35361216730038025,0.3650190114068441,0.3650190114068441,0.3726235741444867,0.376425855513308,0.3840304182509506,0.3840304182509506,0.38783269961977185,0.3916349809885932,0.3916349809885932,0.39923954372623577,0.4068441064638783,0.4220532319391635,0.4296577946768061,0.4296577946768061,0.43346007604562736,0.4372623574144487,0.4448669201520912,0.4448669201520912,0.46387832699619774,0.4714828897338403,0.4752851711026616,0.4790874524714829,0.4866920152091255,0.4866920152091255,0.49429657794676807,0.49809885931558934,0.5019011406844106,0.5095057034220533,0.5209125475285171,0.5209125475285171,0.5209125475285171,0.5247148288973384,0.5247148288973384,0.5285171102661597,0.5399239543726235,0.5475285171102662,0.5513307984790875,0.5513307984790875,0.5551330798479087,0.5627376425855514,0.5665399239543726,0.5665399239543726,0.5817490494296578,0.5817490494296578,0.5931558935361216,0.6083650190114068,0.6159695817490495,0.6197718631178707,0.6311787072243346,0.6311787072243346,0.6349809885931559,0.6425855513307985,0.6539923954372624,0.6615969581749049,0.6692015209125475,0.6692015209125475,0.6844106463878327,0.6920152091254753,0.7224334600760456,0.7300380228136882,0.7452471482889734,0.7566539923954373,0.7642585551330798,0.7718631178707225,0.7718631178707225,0.779467680608365,0.7832699619771863,0.7870722433460076,0.7946768060836502,0.8136882129277566,0.8136882129277566,0.8517110266159695,0.8517110266159695,0.8555133079847909,0.8555133079847909,0.8631178707224335,0.8631178707224335,0.8821292775665399,0.8859315589353612,0.8973384030418251,0.8973384030418251,0.9011406844106464,0.9011406844106464,0.9049429657794676,0.908745247148289,0.9201520912547528,0.9277566539923955,0.9505703422053232,0.9581749049429658,0.9581749049429658,0.9695817490494296,0.9809885931558935,0.9847908745247148,0.9847908745247148,0.9923954372623575,1.0],\"xaxis\":\"x\",\"y\":[0.0,0.007462686567164179,0.05970149253731343,0.05970149253731343,0.06716417910447761,0.06716417910447761,0.11194029850746269,0.12686567164179105,0.14925373134328357,0.16417910447761194,0.16417910447761194,0.1865671641791045,0.20149253731343283,0.21641791044776118,0.21641791044776118,0.26119402985074625,0.27611940298507465,0.30597014925373134,0.3283582089552239,0.35074626865671643,0.3582089552238806,0.373134328358209,0.4552238805970149,0.4552238805970149,0.5149253731343284,0.5149253731343284,0.5223880597014925,0.5223880597014925,0.5298507462686567,0.5298507462686567,0.5597014925373134,0.5597014925373134,0.5671641791044776,0.5746268656716418,0.5746268656716418,0.582089552238806,0.582089552238806,0.582089552238806,0.5895522388059702,0.5895522388059702,0.5970149253731343,0.5970149253731343,0.5970149253731343,0.6044776119402985,0.6119402985074627,0.6119402985074627,0.6194029850746269,0.6194029850746269,0.6268656716417911,0.6268656716417911,0.6268656716417911,0.6343283582089553,0.6343283582089553,0.6343283582089553,0.6343283582089553,0.6417910447761194,0.6417910447761194,0.6417910447761194,0.6417910447761194,0.6492537313432836,0.6492537313432836,0.6567164179104478,0.6567164179104478,0.6567164179104478,0.6567164179104478,0.664179104477612,0.664179104477612,0.6716417910447762,0.6716417910447762,0.6716417910447762,0.6716417910447762,0.6791044776119403,0.6791044776119403,0.6865671641791045,0.6865671641791045,0.6865671641791045,0.6940298507462687,0.6940298507462687,0.7014925373134329,0.7014925373134329,0.7089552238805971,0.7164179104477612,0.7164179104477612,0.7313432835820896,0.7313432835820896,0.7313432835820896,0.7313432835820896,0.7388059701492538,0.746268656716418,0.746268656716418,0.753731343283582,0.753731343283582,0.7611940298507462,0.7611940298507462,0.7611940298507462,0.7611940298507462,0.7686567164179104,0.7686567164179104,0.7761194029850746,0.7761194029850746,0.7835820895522388,0.7835820895522388,0.7835820895522388,0.7835820895522388,0.7985074626865671,0.8059701492537313,0.8059701492537313,0.8134328358208955,0.8208955223880597,0.8283582089552238,0.8283582089552238,0.8283582089552238,0.835820895522388,0.835820895522388,0.835820895522388,0.835820895522388,0.8432835820895522,0.8432835820895522,0.8507462686567164,0.8507462686567164,0.8507462686567164,0.8507462686567164,0.8507462686567164,0.8507462686567164,0.8582089552238806,0.8582089552238806,0.8582089552238806,0.8582089552238806,0.8731343283582089,0.8731343283582089,0.8805970149253731,0.8805970149253731,0.8805970149253731,0.8805970149253731,0.8805970149253731,0.8805970149253731,0.8805970149253731,0.8805970149253731,0.8805970149253731,0.8955223880597015,0.8955223880597015,0.9029850746268657,0.9029850746268657,0.9029850746268657,0.9029850746268657,0.9104477611940298,0.9104477611940298,0.917910447761194,0.917910447761194,0.9253731343283582,0.9253731343283582,0.9477611940298507,0.9477611940298507,0.9552238805970149,0.9552238805970149,0.9626865671641791,0.9626865671641791,0.9701492537313433,0.9701492537313433,0.9776119402985075,0.9776119402985075,0.9776119402985075,0.9776119402985075,0.9776119402985075,0.9925373134328358,0.9925373134328358,0.9925373134328358,0.9925373134328358,1.0,1.0,1.0],\"yaxis\":\"y\",\"type\":\"scatter\"}],                        {\"template\":{\"data\":{\"bar\":[{\"error_x\":{\"color\":\"#2a3f5f\"},\"error_y\":{\"color\":\"#2a3f5f\"},\"marker\":{\"line\":{\"color\":\"#E5ECF6\",\"width\":0.5},\"pattern\":{\"fillmode\":\"overlay\",\"size\":10,\"solidity\":0.2}},\"type\":\"bar\"}],\"barpolar\":[{\"marker\":{\"line\":{\"color\":\"#E5ECF6\",\"width\":0.5},\"pattern\":{\"fillmode\":\"overlay\",\"size\":10,\"solidity\":0.2}},\"type\":\"barpolar\"}],\"carpet\":[{\"aaxis\":{\"endlinecolor\":\"#2a3f5f\",\"gridcolor\":\"white\",\"linecolor\":\"white\",\"minorgridcolor\":\"white\",\"startlinecolor\":\"#2a3f5f\"},\"baxis\":{\"endlinecolor\":\"#2a3f5f\",\"gridcolor\":\"white\",\"linecolor\":\"white\",\"minorgridcolor\":\"white\",\"startlinecolor\":\"#2a3f5f\"},\"type\":\"carpet\"}],\"choropleth\":[{\"colorbar\":{\"outlinewidth\":0,\"ticks\":\"\"},\"type\":\"choropleth\"}],\"contour\":[{\"colorbar\":{\"outlinewidth\":0,\"ticks\":\"\"},\"colorscale\":[[0.0,\"#0d0887\"],[0.1111111111111111,\"#46039f\"],[0.2222222222222222,\"#7201a8\"],[0.3333333333333333,\"#9c179e\"],[0.4444444444444444,\"#bd3786\"],[0.5555555555555556,\"#d8576b\"],[0.6666666666666666,\"#ed7953\"],[0.7777777777777778,\"#fb9f3a\"],[0.8888888888888888,\"#fdca26\"],[1.0,\"#f0f921\"]],\"type\":\"contour\"}],\"contourcarpet\":[{\"colorbar\":{\"outlinewidth\":0,\"ticks\":\"\"},\"type\":\"contourcarpet\"}],\"heatmap\":[{\"colorbar\":{\"outlinewidth\":0,\"ticks\":\"\"},\"colorscale\":[[0.0,\"#0d0887\"],[0.1111111111111111,\"#46039f\"],[0.2222222222222222,\"#7201a8\"],[0.3333333333333333,\"#9c179e\"],[0.4444444444444444,\"#bd3786\"],[0.5555555555555556,\"#d8576b\"],[0.6666666666666666,\"#ed7953\"],[0.7777777777777778,\"#fb9f3a\"],[0.8888888888888888,\"#fdca26\"],[1.0,\"#f0f921\"]],\"type\":\"heatmap\"}],\"heatmapgl\":[{\"colorbar\":{\"outlinewidth\":0,\"ticks\":\"\"},\"colorscale\":[[0.0,\"#0d0887\"],[0.1111111111111111,\"#46039f\"],[0.2222222222222222,\"#7201a8\"],[0.3333333333333333,\"#9c179e\"],[0.4444444444444444,\"#bd3786\"],[0.5555555555555556,\"#d8576b\"],[0.6666666666666666,\"#ed7953\"],[0.7777777777777778,\"#fb9f3a\"],[0.8888888888888888,\"#fdca26\"],[1.0,\"#f0f921\"]],\"type\":\"heatmapgl\"}],\"histogram\":[{\"marker\":{\"pattern\":{\"fillmode\":\"overlay\",\"size\":10,\"solidity\":0.2}},\"type\":\"histogram\"}],\"histogram2d\":[{\"colorbar\":{\"outlinewidth\":0,\"ticks\":\"\"},\"colorscale\":[[0.0,\"#0d0887\"],[0.1111111111111111,\"#46039f\"],[0.2222222222222222,\"#7201a8\"],[0.3333333333333333,\"#9c179e\"],[0.4444444444444444,\"#bd3786\"],[0.5555555555555556,\"#d8576b\"],[0.6666666666666666,\"#ed7953\"],[0.7777777777777778,\"#fb9f3a\"],[0.8888888888888888,\"#fdca26\"],[1.0,\"#f0f921\"]],\"type\":\"histogram2d\"}],\"histogram2dcontour\":[{\"colorbar\":{\"outlinewidth\":0,\"ticks\":\"\"},\"colorscale\":[[0.0,\"#0d0887\"],[0.1111111111111111,\"#46039f\"],[0.2222222222222222,\"#7201a8\"],[0.3333333333333333,\"#9c179e\"],[0.4444444444444444,\"#bd3786\"],[0.5555555555555556,\"#d8576b\"],[0.6666666666666666,\"#ed7953\"],[0.7777777777777778,\"#fb9f3a\"],[0.8888888888888888,\"#fdca26\"],[1.0,\"#f0f921\"]],\"type\":\"histogram2dcontour\"}],\"mesh3d\":[{\"colorbar\":{\"outlinewidth\":0,\"ticks\":\"\"},\"type\":\"mesh3d\"}],\"parcoords\":[{\"line\":{\"colorbar\":{\"outlinewidth\":0,\"ticks\":\"\"}},\"type\":\"parcoords\"}],\"pie\":[{\"automargin\":true,\"type\":\"pie\"}],\"scatter\":[{\"marker\":{\"colorbar\":{\"outlinewidth\":0,\"ticks\":\"\"}},\"type\":\"scatter\"}],\"scatter3d\":[{\"line\":{\"colorbar\":{\"outlinewidth\":0,\"ticks\":\"\"}},\"marker\":{\"colorbar\":{\"outlinewidth\":0,\"ticks\":\"\"}},\"type\":\"scatter3d\"}],\"scattercarpet\":[{\"marker\":{\"colorbar\":{\"outlinewidth\":0,\"ticks\":\"\"}},\"type\":\"scattercarpet\"}],\"scattergeo\":[{\"marker\":{\"colorbar\":{\"outlinewidth\":0,\"ticks\":\"\"}},\"type\":\"scattergeo\"}],\"scattergl\":[{\"marker\":{\"colorbar\":{\"outlinewidth\":0,\"ticks\":\"\"}},\"type\":\"scattergl\"}],\"scattermapbox\":[{\"marker\":{\"colorbar\":{\"outlinewidth\":0,\"ticks\":\"\"}},\"type\":\"scattermapbox\"}],\"scatterpolar\":[{\"marker\":{\"colorbar\":{\"outlinewidth\":0,\"ticks\":\"\"}},\"type\":\"scatterpolar\"}],\"scatterpolargl\":[{\"marker\":{\"colorbar\":{\"outlinewidth\":0,\"ticks\":\"\"}},\"type\":\"scatterpolargl\"}],\"scatterternary\":[{\"marker\":{\"colorbar\":{\"outlinewidth\":0,\"ticks\":\"\"}},\"type\":\"scatterternary\"}],\"surface\":[{\"colorbar\":{\"outlinewidth\":0,\"ticks\":\"\"},\"colorscale\":[[0.0,\"#0d0887\"],[0.1111111111111111,\"#46039f\"],[0.2222222222222222,\"#7201a8\"],[0.3333333333333333,\"#9c179e\"],[0.4444444444444444,\"#bd3786\"],[0.5555555555555556,\"#d8576b\"],[0.6666666666666666,\"#ed7953\"],[0.7777777777777778,\"#fb9f3a\"],[0.8888888888888888,\"#fdca26\"],[1.0,\"#f0f921\"]],\"type\":\"surface\"}],\"table\":[{\"cells\":{\"fill\":{\"color\":\"#EBF0F8\"},\"line\":{\"color\":\"white\"}},\"header\":{\"fill\":{\"color\":\"#C8D4E3\"},\"line\":{\"color\":\"white\"}},\"type\":\"table\"}]},\"layout\":{\"annotationdefaults\":{\"arrowcolor\":\"#2a3f5f\",\"arrowhead\":0,\"arrowwidth\":1},\"autotypenumbers\":\"strict\",\"coloraxis\":{\"colorbar\":{\"outlinewidth\":0,\"ticks\":\"\"}},\"colorscale\":{\"diverging\":[[0,\"#8e0152\"],[0.1,\"#c51b7d\"],[0.2,\"#de77ae\"],[0.3,\"#f1b6da\"],[0.4,\"#fde0ef\"],[0.5,\"#f7f7f7\"],[0.6,\"#e6f5d0\"],[0.7,\"#b8e186\"],[0.8,\"#7fbc41\"],[0.9,\"#4d9221\"],[1,\"#276419\"]],\"sequential\":[[0.0,\"#0d0887\"],[0.1111111111111111,\"#46039f\"],[0.2222222222222222,\"#7201a8\"],[0.3333333333333333,\"#9c179e\"],[0.4444444444444444,\"#bd3786\"],[0.5555555555555556,\"#d8576b\"],[0.6666666666666666,\"#ed7953\"],[0.7777777777777778,\"#fb9f3a\"],[0.8888888888888888,\"#fdca26\"],[1.0,\"#f0f921\"]],\"sequentialminus\":[[0.0,\"#0d0887\"],[0.1111111111111111,\"#46039f\"],[0.2222222222222222,\"#7201a8\"],[0.3333333333333333,\"#9c179e\"],[0.4444444444444444,\"#bd3786\"],[0.5555555555555556,\"#d8576b\"],[0.6666666666666666,\"#ed7953\"],[0.7777777777777778,\"#fb9f3a\"],[0.8888888888888888,\"#fdca26\"],[1.0,\"#f0f921\"]]},\"colorway\":[\"#636efa\",\"#EF553B\",\"#00cc96\",\"#ab63fa\",\"#FFA15A\",\"#19d3f3\",\"#FF6692\",\"#B6E880\",\"#FF97FF\",\"#FECB52\"],\"font\":{\"color\":\"#2a3f5f\"},\"geo\":{\"bgcolor\":\"white\",\"lakecolor\":\"white\",\"landcolor\":\"#E5ECF6\",\"showlakes\":true,\"showland\":true,\"subunitcolor\":\"white\"},\"hoverlabel\":{\"align\":\"left\"},\"hovermode\":\"closest\",\"mapbox\":{\"style\":\"light\"},\"paper_bgcolor\":\"white\",\"plot_bgcolor\":\"#E5ECF6\",\"polar\":{\"angularaxis\":{\"gridcolor\":\"white\",\"linecolor\":\"white\",\"ticks\":\"\"},\"bgcolor\":\"#E5ECF6\",\"radialaxis\":{\"gridcolor\":\"white\",\"linecolor\":\"white\",\"ticks\":\"\"}},\"scene\":{\"xaxis\":{\"backgroundcolor\":\"#E5ECF6\",\"gridcolor\":\"white\",\"gridwidth\":2,\"linecolor\":\"white\",\"showbackground\":true,\"ticks\":\"\",\"zerolinecolor\":\"white\"},\"yaxis\":{\"backgroundcolor\":\"#E5ECF6\",\"gridcolor\":\"white\",\"gridwidth\":2,\"linecolor\":\"white\",\"showbackground\":true,\"ticks\":\"\",\"zerolinecolor\":\"white\"},\"zaxis\":{\"backgroundcolor\":\"#E5ECF6\",\"gridcolor\":\"white\",\"gridwidth\":2,\"linecolor\":\"white\",\"showbackground\":true,\"ticks\":\"\",\"zerolinecolor\":\"white\"}},\"shapedefaults\":{\"line\":{\"color\":\"#2a3f5f\"}},\"ternary\":{\"aaxis\":{\"gridcolor\":\"white\",\"linecolor\":\"white\",\"ticks\":\"\"},\"baxis\":{\"gridcolor\":\"white\",\"linecolor\":\"white\",\"ticks\":\"\"},\"bgcolor\":\"#E5ECF6\",\"caxis\":{\"gridcolor\":\"white\",\"linecolor\":\"white\",\"ticks\":\"\"}},\"title\":{\"x\":0.05},\"xaxis\":{\"automargin\":true,\"gridcolor\":\"white\",\"linecolor\":\"white\",\"ticks\":\"\",\"title\":{\"standoff\":15},\"zerolinecolor\":\"white\",\"zerolinewidth\":2},\"yaxis\":{\"automargin\":true,\"gridcolor\":\"white\",\"linecolor\":\"white\",\"ticks\":\"\",\"title\":{\"standoff\":15},\"zerolinecolor\":\"white\",\"zerolinewidth\":2}}},\"xaxis\":{\"anchor\":\"y\",\"domain\":[0.0,1.0],\"title\":{\"text\":\"False Positive Rate\"},\"constrain\":\"domain\"},\"yaxis\":{\"anchor\":\"x\",\"domain\":[0.0,1.0],\"title\":{\"text\":\"True Positive Rate\"},\"scaleanchor\":\"x\",\"scaleratio\":1},\"legend\":{\"tracegroupgap\":0},\"title\":{\"text\":\"ROC Curve (AUC=0.7659)\"},\"height\":500,\"width\":800,\"shapes\":[{\"line\":{\"dash\":\"dash\"},\"type\":\"line\",\"x0\":0,\"x1\":1,\"y0\":0,\"y1\":1}]},                        {\"responsive\": true}                    ).then(function(){\n",
       "                            \n",
       "var gd = document.getElementById('a3c9586b-36da-4fe9-88e6-ef54ce9de3dd');\n",
       "var x = new MutationObserver(function (mutations, observer) {{\n",
       "        var display = window.getComputedStyle(gd).display;\n",
       "        if (!display || display === 'none') {{\n",
       "            console.log([gd, 'removed!']);\n",
       "            Plotly.purge(gd);\n",
       "            observer.disconnect();\n",
       "        }}\n",
       "}});\n",
       "\n",
       "// Listen for the removal of the full notebook cells\n",
       "var notebookContainer = gd.closest('#notebook-container');\n",
       "if (notebookContainer) {{\n",
       "    x.observe(notebookContainer, {childList: true});\n",
       "}}\n",
       "\n",
       "// Listen for the clearing of the current output cell\n",
       "var outputEl = gd.closest('.output');\n",
       "if (outputEl) {{\n",
       "    x.observe(outputEl, {childList: true});\n",
       "}}\n",
       "\n",
       "                        })                };                });            </script>        </div>"
      ]
     },
     "metadata": {},
     "output_type": "display_data"
    }
   ],
   "source": [
    "y_predicted = clf.predict_proba(X_test_scaled)[:,1]\n",
    "\n",
    "fpr, tpr, thresholds = roc_curve(y_test, y_predicted)\n",
    "roc_fig = px.area(\n",
    "    x=fpr, y=tpr,\n",
    "    title=f'ROC Curve (AUC={auc(fpr, tpr):.4f})',\n",
    "    labels=dict(x='False Positive Rate', y='True Positive Rate'),\n",
    "    width=800, height=500\n",
    ")\n",
    "roc_fig.add_shape(\n",
    "    type='line', line=dict(dash='dash'),\n",
    "    x0=0, x1=1, y0=0, y1=1\n",
    ")\n",
    "\n",
    "roc_fig.update_yaxes(scaleanchor=\"x\", scaleratio=1)\n",
    "roc_fig.update_xaxes(constrain='domain')\n",
    "roc_fig.show()"
   ]
  },
  {
   "cell_type": "markdown",
   "id": "f1de208f-8f33-4cf0-8ff9-e2830575d556",
   "metadata": {},
   "source": [
    "Now, I will apply SVC with different kernels and use the method of RandomSearchCV in order to find the best parameter."
   ]
  },
  {
   "cell_type": "code",
   "execution_count": 191,
   "id": "2b43ba18-b138-4965-8c12-d57e0d69bacf",
   "metadata": {},
   "outputs": [
    {
     "name": "stdout",
     "output_type": "stream",
     "text": [
      "Fitting 5 folds for each of 10 candidates, totalling 50 fits\n",
      "[CV] END C=6.251021553463015, gamma=0.03948873118779005, kernel=linear; total time=   0.2s\n",
      "[CV] END C=6.251021553463015, gamma=0.03948873118779005, kernel=linear; total time=   0.2s\n",
      "[CV] END C=6.251021553463015, gamma=0.03948873118779005, kernel=linear; total time=   0.2s\n",
      "[CV] END C=6.251021553463015, gamma=0.03948873118779005, kernel=linear; total time=   0.2s\n",
      "[CV] END C=6.251021553463015, gamma=0.03948873118779005, kernel=linear; total time=   0.2s\n",
      "[CV] END C=1.6815650369912118, gamma=0.06667869588483831, kernel=rbf; total time=   0.3s\n",
      "[CV] END C=1.6815650369912118, gamma=0.06667869588483831, kernel=rbf; total time=   0.3s\n",
      "[CV] END C=1.6815650369912118, gamma=0.06667869588483831, kernel=rbf; total time=   0.3s\n",
      "[CV] END C=1.6815650369912118, gamma=0.06667869588483831, kernel=rbf; total time=   0.3s\n",
      "[CV] END C=1.6815650369912118, gamma=0.06667869588483831, kernel=rbf; total time=   0.3s\n",
      "[CV] END C=4.689819412323273, gamma=0.0016310196273184266, kernel=rbf; total time=   0.3s\n",
      "[CV] END C=4.689819412323273, gamma=0.0016310196273184266, kernel=rbf; total time=   0.3s\n",
      "[CV] END C=4.689819412323273, gamma=0.0016310196273184266, kernel=rbf; total time=   0.3s\n",
      "[CV] END C=4.689819412323273, gamma=0.0016310196273184266, kernel=rbf; total time=   0.3s\n",
      "[CV] END C=4.689819412323273, gamma=0.0016310196273184266, kernel=rbf; total time=   0.3s\n",
      "[CV] END C=4.1065660667339525, gamma=0.0314035922100096, kernel=sigmoid; total time=   0.2s\n",
      "[CV] END C=4.1065660667339525, gamma=0.0314035922100096, kernel=sigmoid; total time=   0.2s\n",
      "[CV] END C=4.1065660667339525, gamma=0.0314035922100096, kernel=sigmoid; total time=   0.2s\n",
      "[CV] END C=4.1065660667339525, gamma=0.0314035922100096, kernel=sigmoid; total time=   0.3s\n",
      "[CV] END C=4.1065660667339525, gamma=0.0314035922100096, kernel=sigmoid; total time=   0.3s\n",
      "[CV] END C=6.868317196465146, gamma=0.04654395345603979, kernel=poly; total time=   0.2s\n",
      "[CV] END C=6.868317196465146, gamma=0.04654395345603979, kernel=poly; total time=   0.2s\n",
      "[CV] END C=6.868317196465146, gamma=0.04654395345603979, kernel=poly; total time=   0.2s\n",
      "[CV] END C=6.868317196465146, gamma=0.04654395345603979, kernel=poly; total time=   0.2s\n",
      "[CV] END C=6.868317196465146, gamma=0.04654395345603979, kernel=poly; total time=   0.2s\n",
      "[CV] END C=5.4507079950501405, gamma=0.07369526082851123, kernel=poly; total time=   0.2s\n",
      "[CV] END C=5.4507079950501405, gamma=0.07369526082851123, kernel=poly; total time=   0.2s\n",
      "[CV] END C=5.4507079950501405, gamma=0.07369526082851123, kernel=poly; total time=   0.2s\n",
      "[CV] END C=5.4507079950501405, gamma=0.07369526082851123, kernel=poly; total time=   0.2s\n",
      "[CV] END C=5.4507079950501405, gamma=0.07369526082851123, kernel=poly; total time=   0.2s\n",
      "[CV] END C=4.488408584048654, gamma=0.032071107588071635, kernel=poly; total time=   0.2s\n",
      "[CV] END C=4.488408584048654, gamma=0.032071107588071635, kernel=poly; total time=   0.2s\n",
      "[CV] END C=4.488408584048654, gamma=0.032071107588071635, kernel=poly; total time=   0.2s\n",
      "[CV] END C=4.488408584048654, gamma=0.032071107588071635, kernel=poly; total time=   0.2s\n",
      "[CV] END C=4.488408584048654, gamma=0.032071107588071635, kernel=poly; total time=   0.2s\n",
      "[CV] END C=1.9795403150800353, gamma=0.009378857925025593, kernel=rbf; total time=   0.3s\n",
      "[CV] END C=1.9795403150800353, gamma=0.009378857925025593, kernel=rbf; total time=   0.3s\n",
      "[CV] END C=1.9795403150800353, gamma=0.009378857925025593, kernel=rbf; total time=   0.3s\n",
      "[CV] END C=1.9795403150800353, gamma=0.009378857925025593, kernel=rbf; total time=   0.3s\n",
      "[CV] END C=1.9795403150800353, gamma=0.009378857925025593, kernel=rbf; total time=   0.3s\n",
      "[CV] END C=3.0821091813829185, gamma=0.0072823968076788795, kernel=sigmoid; total time=   0.3s\n",
      "[CV] END C=3.0821091813829185, gamma=0.0072823968076788795, kernel=sigmoid; total time=   0.3s\n",
      "[CV] END C=3.0821091813829185, gamma=0.0072823968076788795, kernel=sigmoid; total time=   0.3s\n",
      "[CV] END C=3.0821091813829185, gamma=0.0072823968076788795, kernel=sigmoid; total time=   0.3s\n",
      "[CV] END C=3.0821091813829185, gamma=0.0072823968076788795, kernel=sigmoid; total time=   0.3s\n",
      "[CV] END C=9.108224506664035, gamma=0.03911841912311003, kernel=sigmoid; total time=   0.2s\n",
      "[CV] END C=9.108224506664035, gamma=0.03911841912311003, kernel=sigmoid; total time=   0.2s\n",
      "[CV] END C=9.108224506664035, gamma=0.03911841912311003, kernel=sigmoid; total time=   0.3s\n",
      "[CV] END C=9.108224506664035, gamma=0.03911841912311003, kernel=sigmoid; total time=   0.2s\n",
      "[CV] END C=9.108224506664035, gamma=0.03911841912311003, kernel=sigmoid; total time=   0.2s\n"
     ]
    },
    {
     "data": {
      "text/plain": [
       "RandomizedSearchCV(estimator=SVC(probability=True),\n",
       "                   param_distributions={'C': <scipy.stats._distn_infrastructure.rv_frozen object at 0x7fa810e44250>,\n",
       "                                        'gamma': <scipy.stats._distn_infrastructure.rv_frozen object at 0x7fa800b7d190>,\n",
       "                                        'kernel': ['rbf', 'linear', 'poly',\n",
       "                                                   'sigmoid']},\n",
       "                   verbose=2)"
      ]
     },
     "execution_count": 191,
     "metadata": {},
     "output_type": "execute_result"
    }
   ],
   "source": [
    "svm_clf = SVC(probability=True)\n",
    "kernel = ['rbf','linear','poly','sigmoid']\n",
    "param_distributions = {\"kernel\":kernel,\"gamma\": reciprocal(0.001, 0.1), \"C\": uniform(1, 10)}\n",
    "rnd_search_cv = RandomizedSearchCV(svm_clf, param_distributions, n_iter=10, verbose=2)\n",
    "rnd_search_cv.fit(X_train_scaled,y_train)"
   ]
  },
  {
   "cell_type": "code",
   "execution_count": 93,
   "id": "f1476f32-0ce4-42ea-8a3b-59ece29dbb8e",
   "metadata": {},
   "outputs": [
    {
     "data": {
      "text/plain": [
       "SVC(C=9.72268763261836, gamma=0.047995898890243964, kernel='poly',\n",
       "    probability=True)"
      ]
     },
     "execution_count": 93,
     "metadata": {},
     "output_type": "execute_result"
    }
   ],
   "source": [
    "rnd_search_cv.best_estimator_"
   ]
  },
  {
   "cell_type": "code",
   "execution_count": 94,
   "id": "d16792bf-fde4-4509-830c-c0e4a8486ce9",
   "metadata": {},
   "outputs": [
    {
     "data": {
      "text/plain": [
       "0.7924528301886793"
      ]
     },
     "execution_count": 94,
     "metadata": {},
     "output_type": "execute_result"
    }
   ],
   "source": [
    "rnd_search_cv.best_score_"
   ]
  },
  {
   "cell_type": "markdown",
   "id": "a4db419a-5266-4274-8c96-0a82d7267df2",
   "metadata": {},
   "source": [
    "### Comparison of Different Algorithms"
   ]
  },
  {
   "cell_type": "code",
   "execution_count": 199,
   "id": "111aedaa-e3fd-4266-97d5-4a9503ea5a54",
   "metadata": {},
   "outputs": [
    {
     "data": {
      "text/html": [
       "<div>\n",
       "<style scoped>\n",
       "    .dataframe tbody tr th:only-of-type {\n",
       "        vertical-align: middle;\n",
       "    }\n",
       "\n",
       "    .dataframe tbody tr th {\n",
       "        vertical-align: top;\n",
       "    }\n",
       "\n",
       "    .dataframe thead th {\n",
       "        text-align: right;\n",
       "    }\n",
       "</style>\n",
       "<table border=\"1\" class=\"dataframe\">\n",
       "  <thead>\n",
       "    <tr style=\"text-align: right;\">\n",
       "      <th></th>\n",
       "      <th>Model</th>\n",
       "      <th>Score</th>\n",
       "    </tr>\n",
       "  </thead>\n",
       "  <tbody>\n",
       "    <tr>\n",
       "      <th>8</th>\n",
       "      <td>Decision Tree Classifier Tunned</td>\n",
       "      <td>83.081761</td>\n",
       "    </tr>\n",
       "    <tr>\n",
       "      <th>4</th>\n",
       "      <td>GradientBoostingClassifier</td>\n",
       "      <td>82.871537</td>\n",
       "    </tr>\n",
       "    <tr>\n",
       "      <th>1</th>\n",
       "      <td>Best Random Forest Classifier</td>\n",
       "      <td>82.367758</td>\n",
       "    </tr>\n",
       "    <tr>\n",
       "      <th>6</th>\n",
       "      <td>KNeighbors Classifier</td>\n",
       "      <td>82.115869</td>\n",
       "    </tr>\n",
       "    <tr>\n",
       "      <th>2</th>\n",
       "      <td>Random Forest Classifier after GridSearchCV</td>\n",
       "      <td>81.863980</td>\n",
       "    </tr>\n",
       "    <tr>\n",
       "      <th>3</th>\n",
       "      <td>Random Forest Classifier after RandomizedSearchCV</td>\n",
       "      <td>81.863980</td>\n",
       "    </tr>\n",
       "    <tr>\n",
       "      <th>0</th>\n",
       "      <td>Random Forest Classifier</td>\n",
       "      <td>79.731993</td>\n",
       "    </tr>\n",
       "    <tr>\n",
       "      <th>7</th>\n",
       "      <td>Decision Tree Classifier</td>\n",
       "      <td>75.062972</td>\n",
       "    </tr>\n",
       "    <tr>\n",
       "      <th>9</th>\n",
       "      <td>Support Vector Classifier</td>\n",
       "      <td>72.538797</td>\n",
       "    </tr>\n",
       "    <tr>\n",
       "      <th>5</th>\n",
       "      <td>Logistic regresion</td>\n",
       "      <td>66.246851</td>\n",
       "    </tr>\n",
       "  </tbody>\n",
       "</table>\n",
       "</div>"
      ],
      "text/plain": [
       "                                               Model      Score\n",
       "8                    Decision Tree Classifier Tunned  83.081761\n",
       "4                         GradientBoostingClassifier  82.871537\n",
       "1                      Best Random Forest Classifier  82.367758\n",
       "6                              KNeighbors Classifier  82.115869\n",
       "2        Random Forest Classifier after GridSearchCV  81.863980\n",
       "3  Random Forest Classifier after RandomizedSearchCV  81.863980\n",
       "0                           Random Forest Classifier  79.731993\n",
       "7                           Decision Tree Classifier  75.062972\n",
       "9                          Support Vector Classifier  72.538797\n",
       "5                                 Logistic regresion  66.246851"
      ]
     },
     "execution_count": 199,
     "metadata": {},
     "output_type": "execute_result"
    }
   ],
   "source": [
    "models = pd.DataFrame({\n",
    "    'Model' : [ 'Random Forest Classifier', 'Best Random Forest Classifier',\n",
    "               'Random Forest Classifier after GridSearchCV','Random Forest Classifier after RandomizedSearchCV',\n",
    "               'GradientBoostingClassifier', 'Logistic regresion',\n",
    "               'KNeighbors Classifier', 'Decision Tree Classifier', 'Decision Tree Classifier Tunned',\n",
    "              'Support Vector Classifier'],\n",
    "    'Score' : [ rfc_score, brfc_score, RandomForestClassifierScore*100, brfc_random_score,\n",
    "               gbc_acc, LogisticRegressionScore*100, KNeighborsClassifierScore*100, DecisionTreeClassifierScore*100,\n",
    "              dt_score*100, svc_score_1*100]\n",
    "})\n",
    "models.sort_values(by = 'Score', ascending = False)"
   ]
  },
  {
   "cell_type": "code",
   "execution_count": 202,
   "id": "2d27f0b7-debd-44f7-bb74-d64df1e9e3eb",
   "metadata": {},
   "outputs": [
    {
     "data": {
      "application/vnd.plotly.v1+json": {
       "config": {
        "plotlyServerURL": "https://plot.ly"
       },
       "data": [
        {
         "alignmentgroup": "True",
         "hovertemplate": "Score=%{marker.color}<br>Model=%{y}<extra></extra>",
         "legendgroup": "",
         "marker": {
          "color": [
           79.7319932998325,
           82.36775818639799,
           81.86397984886649,
           81.86397984886649,
           82.87153652392946,
           66.24685138539043,
           82.11586901763224,
           75.06297229219143,
           83.0817610062893,
           72.53879676136886
          ],
          "coloraxis": "coloraxis",
          "pattern": {
           "shape": ""
          }
         },
         "name": "",
         "offsetgroup": "",
         "orientation": "h",
         "showlegend": false,
         "textposition": "auto",
         "type": "bar",
         "x": [
          79.7319932998325,
          82.36775818639799,
          81.86397984886649,
          81.86397984886649,
          82.87153652392946,
          66.24685138539043,
          82.11586901763224,
          75.06297229219143,
          83.0817610062893,
          72.53879676136886
         ],
         "xaxis": "x",
         "y": [
          "Random Forest Classifier",
          "Best Random Forest Classifier",
          "Random Forest Classifier after GridSearchCV",
          "Random Forest Classifier after RandomizedSearchCV",
          "GradientBoostingClassifier",
          "Logistic regresion",
          "KNeighbors Classifier",
          "Decision Tree Classifier",
          "Decision Tree Classifier Tunned",
          "Support Vector Classifier"
         ],
         "yaxis": "y"
        }
       ],
       "layout": {
        "autosize": true,
        "barmode": "relative",
        "coloraxis": {
         "colorbar": {
          "title": {
           "text": "Score"
          }
         },
         "colorscale": [
          [
           0,
           "#0d0887"
          ],
          [
           0.1111111111111111,
           "#46039f"
          ],
          [
           0.2222222222222222,
           "#7201a8"
          ],
          [
           0.3333333333333333,
           "#9c179e"
          ],
          [
           0.4444444444444444,
           "#bd3786"
          ],
          [
           0.5555555555555556,
           "#d8576b"
          ],
          [
           0.6666666666666666,
           "#ed7953"
          ],
          [
           0.7777777777777778,
           "#fb9f3a"
          ],
          [
           0.8888888888888888,
           "#fdca26"
          ],
          [
           1,
           "#f0f921"
          ]
         ]
        },
        "legend": {
         "tracegroupgap": 0
        },
        "template": {
         "data": {
          "bar": [
           {
            "error_x": {
             "color": "#2a3f5f"
            },
            "error_y": {
             "color": "#2a3f5f"
            },
            "marker": {
             "line": {
              "color": "#E5ECF6",
              "width": 0.5
             },
             "pattern": {
              "fillmode": "overlay",
              "size": 10,
              "solidity": 0.2
             }
            },
            "type": "bar"
           }
          ],
          "barpolar": [
           {
            "marker": {
             "line": {
              "color": "#E5ECF6",
              "width": 0.5
             },
             "pattern": {
              "fillmode": "overlay",
              "size": 10,
              "solidity": 0.2
             }
            },
            "type": "barpolar"
           }
          ],
          "carpet": [
           {
            "aaxis": {
             "endlinecolor": "#2a3f5f",
             "gridcolor": "white",
             "linecolor": "white",
             "minorgridcolor": "white",
             "startlinecolor": "#2a3f5f"
            },
            "baxis": {
             "endlinecolor": "#2a3f5f",
             "gridcolor": "white",
             "linecolor": "white",
             "minorgridcolor": "white",
             "startlinecolor": "#2a3f5f"
            },
            "type": "carpet"
           }
          ],
          "choropleth": [
           {
            "colorbar": {
             "outlinewidth": 0,
             "ticks": ""
            },
            "type": "choropleth"
           }
          ],
          "contour": [
           {
            "colorbar": {
             "outlinewidth": 0,
             "ticks": ""
            },
            "colorscale": [
             [
              0,
              "#0d0887"
             ],
             [
              0.1111111111111111,
              "#46039f"
             ],
             [
              0.2222222222222222,
              "#7201a8"
             ],
             [
              0.3333333333333333,
              "#9c179e"
             ],
             [
              0.4444444444444444,
              "#bd3786"
             ],
             [
              0.5555555555555556,
              "#d8576b"
             ],
             [
              0.6666666666666666,
              "#ed7953"
             ],
             [
              0.7777777777777778,
              "#fb9f3a"
             ],
             [
              0.8888888888888888,
              "#fdca26"
             ],
             [
              1,
              "#f0f921"
             ]
            ],
            "type": "contour"
           }
          ],
          "contourcarpet": [
           {
            "colorbar": {
             "outlinewidth": 0,
             "ticks": ""
            },
            "type": "contourcarpet"
           }
          ],
          "heatmap": [
           {
            "colorbar": {
             "outlinewidth": 0,
             "ticks": ""
            },
            "colorscale": [
             [
              0,
              "#0d0887"
             ],
             [
              0.1111111111111111,
              "#46039f"
             ],
             [
              0.2222222222222222,
              "#7201a8"
             ],
             [
              0.3333333333333333,
              "#9c179e"
             ],
             [
              0.4444444444444444,
              "#bd3786"
             ],
             [
              0.5555555555555556,
              "#d8576b"
             ],
             [
              0.6666666666666666,
              "#ed7953"
             ],
             [
              0.7777777777777778,
              "#fb9f3a"
             ],
             [
              0.8888888888888888,
              "#fdca26"
             ],
             [
              1,
              "#f0f921"
             ]
            ],
            "type": "heatmap"
           }
          ],
          "heatmapgl": [
           {
            "colorbar": {
             "outlinewidth": 0,
             "ticks": ""
            },
            "colorscale": [
             [
              0,
              "#0d0887"
             ],
             [
              0.1111111111111111,
              "#46039f"
             ],
             [
              0.2222222222222222,
              "#7201a8"
             ],
             [
              0.3333333333333333,
              "#9c179e"
             ],
             [
              0.4444444444444444,
              "#bd3786"
             ],
             [
              0.5555555555555556,
              "#d8576b"
             ],
             [
              0.6666666666666666,
              "#ed7953"
             ],
             [
              0.7777777777777778,
              "#fb9f3a"
             ],
             [
              0.8888888888888888,
              "#fdca26"
             ],
             [
              1,
              "#f0f921"
             ]
            ],
            "type": "heatmapgl"
           }
          ],
          "histogram": [
           {
            "marker": {
             "pattern": {
              "fillmode": "overlay",
              "size": 10,
              "solidity": 0.2
             }
            },
            "type": "histogram"
           }
          ],
          "histogram2d": [
           {
            "colorbar": {
             "outlinewidth": 0,
             "ticks": ""
            },
            "colorscale": [
             [
              0,
              "#0d0887"
             ],
             [
              0.1111111111111111,
              "#46039f"
             ],
             [
              0.2222222222222222,
              "#7201a8"
             ],
             [
              0.3333333333333333,
              "#9c179e"
             ],
             [
              0.4444444444444444,
              "#bd3786"
             ],
             [
              0.5555555555555556,
              "#d8576b"
             ],
             [
              0.6666666666666666,
              "#ed7953"
             ],
             [
              0.7777777777777778,
              "#fb9f3a"
             ],
             [
              0.8888888888888888,
              "#fdca26"
             ],
             [
              1,
              "#f0f921"
             ]
            ],
            "type": "histogram2d"
           }
          ],
          "histogram2dcontour": [
           {
            "colorbar": {
             "outlinewidth": 0,
             "ticks": ""
            },
            "colorscale": [
             [
              0,
              "#0d0887"
             ],
             [
              0.1111111111111111,
              "#46039f"
             ],
             [
              0.2222222222222222,
              "#7201a8"
             ],
             [
              0.3333333333333333,
              "#9c179e"
             ],
             [
              0.4444444444444444,
              "#bd3786"
             ],
             [
              0.5555555555555556,
              "#d8576b"
             ],
             [
              0.6666666666666666,
              "#ed7953"
             ],
             [
              0.7777777777777778,
              "#fb9f3a"
             ],
             [
              0.8888888888888888,
              "#fdca26"
             ],
             [
              1,
              "#f0f921"
             ]
            ],
            "type": "histogram2dcontour"
           }
          ],
          "mesh3d": [
           {
            "colorbar": {
             "outlinewidth": 0,
             "ticks": ""
            },
            "type": "mesh3d"
           }
          ],
          "parcoords": [
           {
            "line": {
             "colorbar": {
              "outlinewidth": 0,
              "ticks": ""
             }
            },
            "type": "parcoords"
           }
          ],
          "pie": [
           {
            "automargin": true,
            "type": "pie"
           }
          ],
          "scatter": [
           {
            "marker": {
             "colorbar": {
              "outlinewidth": 0,
              "ticks": ""
             }
            },
            "type": "scatter"
           }
          ],
          "scatter3d": [
           {
            "line": {
             "colorbar": {
              "outlinewidth": 0,
              "ticks": ""
             }
            },
            "marker": {
             "colorbar": {
              "outlinewidth": 0,
              "ticks": ""
             }
            },
            "type": "scatter3d"
           }
          ],
          "scattercarpet": [
           {
            "marker": {
             "colorbar": {
              "outlinewidth": 0,
              "ticks": ""
             }
            },
            "type": "scattercarpet"
           }
          ],
          "scattergeo": [
           {
            "marker": {
             "colorbar": {
              "outlinewidth": 0,
              "ticks": ""
             }
            },
            "type": "scattergeo"
           }
          ],
          "scattergl": [
           {
            "marker": {
             "colorbar": {
              "outlinewidth": 0,
              "ticks": ""
             }
            },
            "type": "scattergl"
           }
          ],
          "scattermapbox": [
           {
            "marker": {
             "colorbar": {
              "outlinewidth": 0,
              "ticks": ""
             }
            },
            "type": "scattermapbox"
           }
          ],
          "scatterpolar": [
           {
            "marker": {
             "colorbar": {
              "outlinewidth": 0,
              "ticks": ""
             }
            },
            "type": "scatterpolar"
           }
          ],
          "scatterpolargl": [
           {
            "marker": {
             "colorbar": {
              "outlinewidth": 0,
              "ticks": ""
             }
            },
            "type": "scatterpolargl"
           }
          ],
          "scatterternary": [
           {
            "marker": {
             "colorbar": {
              "outlinewidth": 0,
              "ticks": ""
             }
            },
            "type": "scatterternary"
           }
          ],
          "surface": [
           {
            "colorbar": {
             "outlinewidth": 0,
             "ticks": ""
            },
            "colorscale": [
             [
              0,
              "#0d0887"
             ],
             [
              0.1111111111111111,
              "#46039f"
             ],
             [
              0.2222222222222222,
              "#7201a8"
             ],
             [
              0.3333333333333333,
              "#9c179e"
             ],
             [
              0.4444444444444444,
              "#bd3786"
             ],
             [
              0.5555555555555556,
              "#d8576b"
             ],
             [
              0.6666666666666666,
              "#ed7953"
             ],
             [
              0.7777777777777778,
              "#fb9f3a"
             ],
             [
              0.8888888888888888,
              "#fdca26"
             ],
             [
              1,
              "#f0f921"
             ]
            ],
            "type": "surface"
           }
          ],
          "table": [
           {
            "cells": {
             "fill": {
              "color": "#EBF0F8"
             },
             "line": {
              "color": "white"
             }
            },
            "header": {
             "fill": {
              "color": "#C8D4E3"
             },
             "line": {
              "color": "white"
             }
            },
            "type": "table"
           }
          ]
         },
         "layout": {
          "annotationdefaults": {
           "arrowcolor": "#2a3f5f",
           "arrowhead": 0,
           "arrowwidth": 1
          },
          "autotypenumbers": "strict",
          "coloraxis": {
           "colorbar": {
            "outlinewidth": 0,
            "ticks": ""
           }
          },
          "colorscale": {
           "diverging": [
            [
             0,
             "#8e0152"
            ],
            [
             0.1,
             "#c51b7d"
            ],
            [
             0.2,
             "#de77ae"
            ],
            [
             0.3,
             "#f1b6da"
            ],
            [
             0.4,
             "#fde0ef"
            ],
            [
             0.5,
             "#f7f7f7"
            ],
            [
             0.6,
             "#e6f5d0"
            ],
            [
             0.7,
             "#b8e186"
            ],
            [
             0.8,
             "#7fbc41"
            ],
            [
             0.9,
             "#4d9221"
            ],
            [
             1,
             "#276419"
            ]
           ],
           "sequential": [
            [
             0,
             "#0d0887"
            ],
            [
             0.1111111111111111,
             "#46039f"
            ],
            [
             0.2222222222222222,
             "#7201a8"
            ],
            [
             0.3333333333333333,
             "#9c179e"
            ],
            [
             0.4444444444444444,
             "#bd3786"
            ],
            [
             0.5555555555555556,
             "#d8576b"
            ],
            [
             0.6666666666666666,
             "#ed7953"
            ],
            [
             0.7777777777777778,
             "#fb9f3a"
            ],
            [
             0.8888888888888888,
             "#fdca26"
            ],
            [
             1,
             "#f0f921"
            ]
           ],
           "sequentialminus": [
            [
             0,
             "#0d0887"
            ],
            [
             0.1111111111111111,
             "#46039f"
            ],
            [
             0.2222222222222222,
             "#7201a8"
            ],
            [
             0.3333333333333333,
             "#9c179e"
            ],
            [
             0.4444444444444444,
             "#bd3786"
            ],
            [
             0.5555555555555556,
             "#d8576b"
            ],
            [
             0.6666666666666666,
             "#ed7953"
            ],
            [
             0.7777777777777778,
             "#fb9f3a"
            ],
            [
             0.8888888888888888,
             "#fdca26"
            ],
            [
             1,
             "#f0f921"
            ]
           ]
          },
          "colorway": [
           "#636efa",
           "#EF553B",
           "#00cc96",
           "#ab63fa",
           "#FFA15A",
           "#19d3f3",
           "#FF6692",
           "#B6E880",
           "#FF97FF",
           "#FECB52"
          ],
          "font": {
           "color": "#2a3f5f"
          },
          "geo": {
           "bgcolor": "white",
           "lakecolor": "white",
           "landcolor": "#E5ECF6",
           "showlakes": true,
           "showland": true,
           "subunitcolor": "white"
          },
          "hoverlabel": {
           "align": "left"
          },
          "hovermode": "closest",
          "mapbox": {
           "style": "light"
          },
          "paper_bgcolor": "white",
          "plot_bgcolor": "#E5ECF6",
          "polar": {
           "angularaxis": {
            "gridcolor": "white",
            "linecolor": "white",
            "ticks": ""
           },
           "bgcolor": "#E5ECF6",
           "radialaxis": {
            "gridcolor": "white",
            "linecolor": "white",
            "ticks": ""
           }
          },
          "scene": {
           "xaxis": {
            "backgroundcolor": "#E5ECF6",
            "gridcolor": "white",
            "gridwidth": 2,
            "linecolor": "white",
            "showbackground": true,
            "ticks": "",
            "zerolinecolor": "white"
           },
           "yaxis": {
            "backgroundcolor": "#E5ECF6",
            "gridcolor": "white",
            "gridwidth": 2,
            "linecolor": "white",
            "showbackground": true,
            "ticks": "",
            "zerolinecolor": "white"
           },
           "zaxis": {
            "backgroundcolor": "#E5ECF6",
            "gridcolor": "white",
            "gridwidth": 2,
            "linecolor": "white",
            "showbackground": true,
            "ticks": "",
            "zerolinecolor": "white"
           }
          },
          "shapedefaults": {
           "line": {
            "color": "#2a3f5f"
           }
          },
          "ternary": {
           "aaxis": {
            "gridcolor": "white",
            "linecolor": "white",
            "ticks": ""
           },
           "baxis": {
            "gridcolor": "white",
            "linecolor": "white",
            "ticks": ""
           },
           "bgcolor": "#E5ECF6",
           "caxis": {
            "gridcolor": "white",
            "linecolor": "white",
            "ticks": ""
           }
          },
          "title": {
           "x": 0.05
          },
          "xaxis": {
           "automargin": true,
           "gridcolor": "white",
           "linecolor": "white",
           "ticks": "",
           "title": {
            "standoff": 15
           },
           "zerolinecolor": "white",
           "zerolinewidth": 2
          },
          "yaxis": {
           "automargin": true,
           "gridcolor": "white",
           "linecolor": "white",
           "ticks": "",
           "title": {
            "standoff": 15
           },
           "zerolinecolor": "white",
           "zerolinewidth": 2
          }
         }
        },
        "title": {
         "text": "Comparison of Classification Algorithms"
        },
        "xaxis": {
         "anchor": "y",
         "autorange": true,
         "domain": [
          0,
          1
         ],
         "range": [
          0,
          87.4544852697782
         ],
         "title": {
          "text": "Score"
         },
         "type": "linear"
        },
        "yaxis": {
         "anchor": "x",
         "autorange": true,
         "domain": [
          0,
          1
         ],
         "range": [
          -0.5,
          9.5
         ],
         "title": {
          "text": "Model"
         },
         "type": "category"
        }
       }
      },
      "image/png": "[encoded data removed]",
      "text/html": [
       "<div>                            <div id=\"cc1aa619-4621-4568-afac-db190d46f836\" class=\"plotly-graph-div\" style=\"height:525px; width:100%;\"></div>            <script type=\"text/javascript\">                require([\"plotly\"], function(Plotly) {                    window.PLOTLYENV=window.PLOTLYENV || {};                                    if (document.getElementById(\"cc1aa619-4621-4568-afac-db190d46f836\")) {                    Plotly.newPlot(                        \"cc1aa619-4621-4568-afac-db190d46f836\",                        [{\"alignmentgroup\":\"True\",\"hovertemplate\":\"Score=%{marker.color}<br>Model=%{y}<extra></extra>\",\"legendgroup\":\"\",\"marker\":{\"color\":[79.7319932998325,82.36775818639799,81.86397984886649,81.86397984886649,82.87153652392946,66.24685138539043,82.11586901763224,75.06297229219143,83.0817610062893,72.53879676136886],\"coloraxis\":\"coloraxis\",\"pattern\":{\"shape\":\"\"}},\"name\":\"\",\"offsetgroup\":\"\",\"orientation\":\"h\",\"showlegend\":false,\"textposition\":\"auto\",\"x\":[79.7319932998325,82.36775818639799,81.86397984886649,81.86397984886649,82.87153652392946,66.24685138539043,82.11586901763224,75.06297229219143,83.0817610062893,72.53879676136886],\"xaxis\":\"x\",\"y\":[\"Random Forest Classifier\",\"Best Random Forest Classifier\",\"Random Forest Classifier after GridSearchCV\",\"Random Forest Classifier after RandomizedSearchCV\",\"GradientBoostingClassifier\",\"Logistic regresion\",\"KNeighbors Classifier\",\"Decision Tree Classifier\",\"Decision Tree Classifier Tunned\",\"Support Vector Classifier\"],\"yaxis\":\"y\",\"type\":\"bar\"}],                        {\"template\":{\"data\":{\"bar\":[{\"error_x\":{\"color\":\"#2a3f5f\"},\"error_y\":{\"color\":\"#2a3f5f\"},\"marker\":{\"line\":{\"color\":\"#E5ECF6\",\"width\":0.5},\"pattern\":{\"fillmode\":\"overlay\",\"size\":10,\"solidity\":0.2}},\"type\":\"bar\"}],\"barpolar\":[{\"marker\":{\"line\":{\"color\":\"#E5ECF6\",\"width\":0.5},\"pattern\":{\"fillmode\":\"overlay\",\"size\":10,\"solidity\":0.2}},\"type\":\"barpolar\"}],\"carpet\":[{\"aaxis\":{\"endlinecolor\":\"#2a3f5f\",\"gridcolor\":\"white\",\"linecolor\":\"white\",\"minorgridcolor\":\"white\",\"startlinecolor\":\"#2a3f5f\"},\"baxis\":{\"endlinecolor\":\"#2a3f5f\",\"gridcolor\":\"white\",\"linecolor\":\"white\",\"minorgridcolor\":\"white\",\"startlinecolor\":\"#2a3f5f\"},\"type\":\"carpet\"}],\"choropleth\":[{\"colorbar\":{\"outlinewidth\":0,\"ticks\":\"\"},\"type\":\"choropleth\"}],\"contour\":[{\"colorbar\":{\"outlinewidth\":0,\"ticks\":\"\"},\"colorscale\":[[0.0,\"#0d0887\"],[0.1111111111111111,\"#46039f\"],[0.2222222222222222,\"#7201a8\"],[0.3333333333333333,\"#9c179e\"],[0.4444444444444444,\"#bd3786\"],[0.5555555555555556,\"#d8576b\"],[0.6666666666666666,\"#ed7953\"],[0.7777777777777778,\"#fb9f3a\"],[0.8888888888888888,\"#fdca26\"],[1.0,\"#f0f921\"]],\"type\":\"contour\"}],\"contourcarpet\":[{\"colorbar\":{\"outlinewidth\":0,\"ticks\":\"\"},\"type\":\"contourcarpet\"}],\"heatmap\":[{\"colorbar\":{\"outlinewidth\":0,\"ticks\":\"\"},\"colorscale\":[[0.0,\"#0d0887\"],[0.1111111111111111,\"#46039f\"],[0.2222222222222222,\"#7201a8\"],[0.3333333333333333,\"#9c179e\"],[0.4444444444444444,\"#bd3786\"],[0.5555555555555556,\"#d8576b\"],[0.6666666666666666,\"#ed7953\"],[0.7777777777777778,\"#fb9f3a\"],[0.8888888888888888,\"#fdca26\"],[1.0,\"#f0f921\"]],\"type\":\"heatmap\"}],\"heatmapgl\":[{\"colorbar\":{\"outlinewidth\":0,\"ticks\":\"\"},\"colorscale\":[[0.0,\"#0d0887\"],[0.1111111111111111,\"#46039f\"],[0.2222222222222222,\"#7201a8\"],[0.3333333333333333,\"#9c179e\"],[0.4444444444444444,\"#bd3786\"],[0.5555555555555556,\"#d8576b\"],[0.6666666666666666,\"#ed7953\"],[0.7777777777777778,\"#fb9f3a\"],[0.8888888888888888,\"#fdca26\"],[1.0,\"#f0f921\"]],\"type\":\"heatmapgl\"}],\"histogram\":[{\"marker\":{\"pattern\":{\"fillmode\":\"overlay\",\"size\":10,\"solidity\":0.2}},\"type\":\"histogram\"}],\"histogram2d\":[{\"colorbar\":{\"outlinewidth\":0,\"ticks\":\"\"},\"colorscale\":[[0.0,\"#0d0887\"],[0.1111111111111111,\"#46039f\"],[0.2222222222222222,\"#7201a8\"],[0.3333333333333333,\"#9c179e\"],[0.4444444444444444,\"#bd3786\"],[0.5555555555555556,\"#d8576b\"],[0.6666666666666666,\"#ed7953\"],[0.7777777777777778,\"#fb9f3a\"],[0.8888888888888888,\"#fdca26\"],[1.0,\"#f0f921\"]],\"type\":\"histogram2d\"}],\"histogram2dcontour\":[{\"colorbar\":{\"outlinewidth\":0,\"ticks\":\"\"},\"colorscale\":[[0.0,\"#0d0887\"],[0.1111111111111111,\"#46039f\"],[0.2222222222222222,\"#7201a8\"],[0.3333333333333333,\"#9c179e\"],[0.4444444444444444,\"#bd3786\"],[0.5555555555555556,\"#d8576b\"],[0.6666666666666666,\"#ed7953\"],[0.7777777777777778,\"#fb9f3a\"],[0.8888888888888888,\"#fdca26\"],[1.0,\"#f0f921\"]],\"type\":\"histogram2dcontour\"}],\"mesh3d\":[{\"colorbar\":{\"outlinewidth\":0,\"ticks\":\"\"},\"type\":\"mesh3d\"}],\"parcoords\":[{\"line\":{\"colorbar\":{\"outlinewidth\":0,\"ticks\":\"\"}},\"type\":\"parcoords\"}],\"pie\":[{\"automargin\":true,\"type\":\"pie\"}],\"scatter\":[{\"marker\":{\"colorbar\":{\"outlinewidth\":0,\"ticks\":\"\"}},\"type\":\"scatter\"}],\"scatter3d\":[{\"line\":{\"colorbar\":{\"outlinewidth\":0,\"ticks\":\"\"}},\"marker\":{\"colorbar\":{\"outlinewidth\":0,\"ticks\":\"\"}},\"type\":\"scatter3d\"}],\"scattercarpet\":[{\"marker\":{\"colorbar\":{\"outlinewidth\":0,\"ticks\":\"\"}},\"type\":\"scattercarpet\"}],\"scattergeo\":[{\"marker\":{\"colorbar\":{\"outlinewidth\":0,\"ticks\":\"\"}},\"type\":\"scattergeo\"}],\"scattergl\":[{\"marker\":{\"colorbar\":{\"outlinewidth\":0,\"ticks\":\"\"}},\"type\":\"scattergl\"}],\"scattermapbox\":[{\"marker\":{\"colorbar\":{\"outlinewidth\":0,\"ticks\":\"\"}},\"type\":\"scattermapbox\"}],\"scatterpolar\":[{\"marker\":{\"colorbar\":{\"outlinewidth\":0,\"ticks\":\"\"}},\"type\":\"scatterpolar\"}],\"scatterpolargl\":[{\"marker\":{\"colorbar\":{\"outlinewidth\":0,\"ticks\":\"\"}},\"type\":\"scatterpolargl\"}],\"scatterternary\":[{\"marker\":{\"colorbar\":{\"outlinewidth\":0,\"ticks\":\"\"}},\"type\":\"scatterternary\"}],\"surface\":[{\"colorbar\":{\"outlinewidth\":0,\"ticks\":\"\"},\"colorscale\":[[0.0,\"#0d0887\"],[0.1111111111111111,\"#46039f\"],[0.2222222222222222,\"#7201a8\"],[0.3333333333333333,\"#9c179e\"],[0.4444444444444444,\"#bd3786\"],[0.5555555555555556,\"#d8576b\"],[0.6666666666666666,\"#ed7953\"],[0.7777777777777778,\"#fb9f3a\"],[0.8888888888888888,\"#fdca26\"],[1.0,\"#f0f921\"]],\"type\":\"surface\"}],\"table\":[{\"cells\":{\"fill\":{\"color\":\"#EBF0F8\"},\"line\":{\"color\":\"white\"}},\"header\":{\"fill\":{\"color\":\"#C8D4E3\"},\"line\":{\"color\":\"white\"}},\"type\":\"table\"}]},\"layout\":{\"annotationdefaults\":{\"arrowcolor\":\"#2a3f5f\",\"arrowhead\":0,\"arrowwidth\":1},\"autotypenumbers\":\"strict\",\"coloraxis\":{\"colorbar\":{\"outlinewidth\":0,\"ticks\":\"\"}},\"colorscale\":{\"diverging\":[[0,\"#8e0152\"],[0.1,\"#c51b7d\"],[0.2,\"#de77ae\"],[0.3,\"#f1b6da\"],[0.4,\"#fde0ef\"],[0.5,\"#f7f7f7\"],[0.6,\"#e6f5d0\"],[0.7,\"#b8e186\"],[0.8,\"#7fbc41\"],[0.9,\"#4d9221\"],[1,\"#276419\"]],\"sequential\":[[0.0,\"#0d0887\"],[0.1111111111111111,\"#46039f\"],[0.2222222222222222,\"#7201a8\"],[0.3333333333333333,\"#9c179e\"],[0.4444444444444444,\"#bd3786\"],[0.5555555555555556,\"#d8576b\"],[0.6666666666666666,\"#ed7953\"],[0.7777777777777778,\"#fb9f3a\"],[0.8888888888888888,\"#fdca26\"],[1.0,\"#f0f921\"]],\"sequentialminus\":[[0.0,\"#0d0887\"],[0.1111111111111111,\"#46039f\"],[0.2222222222222222,\"#7201a8\"],[0.3333333333333333,\"#9c179e\"],[0.4444444444444444,\"#bd3786\"],[0.5555555555555556,\"#d8576b\"],[0.6666666666666666,\"#ed7953\"],[0.7777777777777778,\"#fb9f3a\"],[0.8888888888888888,\"#fdca26\"],[1.0,\"#f0f921\"]]},\"colorway\":[\"#636efa\",\"#EF553B\",\"#00cc96\",\"#ab63fa\",\"#FFA15A\",\"#19d3f3\",\"#FF6692\",\"#B6E880\",\"#FF97FF\",\"#FECB52\"],\"font\":{\"color\":\"#2a3f5f\"},\"geo\":{\"bgcolor\":\"white\",\"lakecolor\":\"white\",\"landcolor\":\"#E5ECF6\",\"showlakes\":true,\"showland\":true,\"subunitcolor\":\"white\"},\"hoverlabel\":{\"align\":\"left\"},\"hovermode\":\"closest\",\"mapbox\":{\"style\":\"light\"},\"paper_bgcolor\":\"white\",\"plot_bgcolor\":\"#E5ECF6\",\"polar\":{\"angularaxis\":{\"gridcolor\":\"white\",\"linecolor\":\"white\",\"ticks\":\"\"},\"bgcolor\":\"#E5ECF6\",\"radialaxis\":{\"gridcolor\":\"white\",\"linecolor\":\"white\",\"ticks\":\"\"}},\"scene\":{\"xaxis\":{\"backgroundcolor\":\"#E5ECF6\",\"gridcolor\":\"white\",\"gridwidth\":2,\"linecolor\":\"white\",\"showbackground\":true,\"ticks\":\"\",\"zerolinecolor\":\"white\"},\"yaxis\":{\"backgroundcolor\":\"#E5ECF6\",\"gridcolor\":\"white\",\"gridwidth\":2,\"linecolor\":\"white\",\"showbackground\":true,\"ticks\":\"\",\"zerolinecolor\":\"white\"},\"zaxis\":{\"backgroundcolor\":\"#E5ECF6\",\"gridcolor\":\"white\",\"gridwidth\":2,\"linecolor\":\"white\",\"showbackground\":true,\"ticks\":\"\",\"zerolinecolor\":\"white\"}},\"shapedefaults\":{\"line\":{\"color\":\"#2a3f5f\"}},\"ternary\":{\"aaxis\":{\"gridcolor\":\"white\",\"linecolor\":\"white\",\"ticks\":\"\"},\"baxis\":{\"gridcolor\":\"white\",\"linecolor\":\"white\",\"ticks\":\"\"},\"bgcolor\":\"#E5ECF6\",\"caxis\":{\"gridcolor\":\"white\",\"linecolor\":\"white\",\"ticks\":\"\"}},\"title\":{\"x\":0.05},\"xaxis\":{\"automargin\":true,\"gridcolor\":\"white\",\"linecolor\":\"white\",\"ticks\":\"\",\"title\":{\"standoff\":15},\"zerolinecolor\":\"white\",\"zerolinewidth\":2},\"yaxis\":{\"automargin\":true,\"gridcolor\":\"white\",\"linecolor\":\"white\",\"ticks\":\"\",\"title\":{\"standoff\":15},\"zerolinecolor\":\"white\",\"zerolinewidth\":2}}},\"xaxis\":{\"anchor\":\"y\",\"domain\":[0.0,1.0],\"title\":{\"text\":\"Score\"}},\"yaxis\":{\"anchor\":\"x\",\"domain\":[0.0,1.0],\"title\":{\"text\":\"Model\"}},\"coloraxis\":{\"colorbar\":{\"title\":{\"text\":\"Score\"}},\"colorscale\":[[0.0,\"#0d0887\"],[0.1111111111111111,\"#46039f\"],[0.2222222222222222,\"#7201a8\"],[0.3333333333333333,\"#9c179e\"],[0.4444444444444444,\"#bd3786\"],[0.5555555555555556,\"#d8576b\"],[0.6666666666666666,\"#ed7953\"],[0.7777777777777778,\"#fb9f3a\"],[0.8888888888888888,\"#fdca26\"],[1.0,\"#f0f921\"]]},\"legend\":{\"tracegroupgap\":0},\"title\":{\"text\":\"Comparison of Classification Algorithms\"},\"barmode\":\"relative\"},                        {\"responsive\": true}                    ).then(function(){\n",
       "                            \n",
       "var gd = document.getElementById('cc1aa619-4621-4568-afac-db190d46f836');\n",
       "var x = new MutationObserver(function (mutations, observer) {{\n",
       "        var display = window.getComputedStyle(gd).display;\n",
       "        if (!display || display === 'none') {{\n",
       "            console.log([gd, 'removed!']);\n",
       "            Plotly.purge(gd);\n",
       "            observer.disconnect();\n",
       "        }}\n",
       "}});\n",
       "\n",
       "// Listen for the removal of the full notebook cells\n",
       "var notebookContainer = gd.closest('#notebook-container');\n",
       "if (notebookContainer) {{\n",
       "    x.observe(notebookContainer, {childList: true});\n",
       "}}\n",
       "\n",
       "// Listen for the clearing of the current output cell\n",
       "var outputEl = gd.closest('.output');\n",
       "if (outputEl) {{\n",
       "    x.observe(outputEl, {childList: true});\n",
       "}}\n",
       "\n",
       "                        })                };                });            </script>        </div>"
      ]
     },
     "metadata": {},
     "output_type": "display_data"
    }
   ],
   "source": [
    "px.bar(data_frame = models, x = 'Score', y = 'Model', color = 'Score', \n",
    "       title = 'Comparison of Classification Algorithms')"
   ]
  },
  {
   "cell_type": "markdown",
   "id": "930d577f-5bbf-424b-8b1f-0ef716e5e7f4",
   "metadata": {},
   "source": [
    "## Conclusions"
   ]
  },
  {
   "cell_type": "markdown",
   "id": "32b8e041-8204-4a63-bc30-0120ab505f37",
   "metadata": {},
   "source": [
    "- The best model to predict if customer purchase the travel insurance is Decision Tree Classifier model after hyperparameters tunning (max_depth=6, max_features=4). This model accuracy is 83.081761%.\n",
    "- GradientBoostingClassifier, Random Forest Classifier, Neighbors Classifier clasifies customers whether they will purchase the travel insurance gives also good results.\n",
    "- The most impact to the model has these attributes: Annual income, Family members and customer age."
   ]
  }
 ],
 "metadata": {
  "kernelspec": {
   "display_name": "Python 3 (ipykernel)",
   "language": "python",
   "name": "python3"
  },
  "language_info": {
   "codemirror_mode": {
    "name": "ipython",
    "version": 3
   },
   "file_extension": ".py",
   "mimetype": "text/x-python",
   "name": "python",
   "nbconvert_exporter": "python",
   "pygments_lexer": "ipython3",
   "version": "3.9.12"
  }
 },
 "nbformat": 4,
 "nbformat_minor": 5
}
