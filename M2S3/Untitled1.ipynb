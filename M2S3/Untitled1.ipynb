{
 "cells": [
  {
   "cell_type": "code",
   "execution_count": null,
   "id": "7570b69f-277f-48cb-86d4-7260b3ea0f21",
   "metadata": {},
   "outputs": [],
   "source": [
    "# df['fixed_acidity_n'] = df['fixed acidity'].apply(lambda x: np.log(x))\n",
    "# df['volatile_acidity_n'] = df['volatile acidity'].apply(lambda x: np.log(x))\n",
    "# df['citric_acid_n'] = df['citric acid'].apply(lambda x: np.log(x))\n",
    "# df['residual_sugar_n'] = df['residual sugar'].apply(lambda x: np.log(x))\n",
    "# df['chlorides_n'] = df['chlorides'].apply(lambda x: np.log(x))\n",
    "# df['free_sulfur_dioxide_n'] = df['free sulfur dioxide'].apply(lambda x: np.log(x))\n",
    "# df['total_sulfur_dioxide_n'] = df['total sulfur dioxide'].apply(lambda x: np.log(x))\n",
    "# df['density_n'] = df['density'].apply(lambda x: np.log(x))\n",
    "# df['pH_n'] = df['pH'].apply(lambda x: np.log(x))\n",
    "# df['sulphates_n'] = df['sulphates'].apply(lambda x: np.log(x))\n",
    "# df['alcohol_n'] = df['alcohol'].apply(lambda x: np.log(x))\n",
    "# df.head(4)"
   ]
  }
 ],
 "metadata": {
  "kernelspec": {
   "display_name": "Python 3 (ipykernel)",
   "language": "python",
   "name": "python3"
  },
  "language_info": {
   "codemirror_mode": {
    "name": "ipython",
    "version": 3
   },
   "file_extension": ".py",
   "mimetype": "text/x-python",
   "name": "python",
   "nbconvert_exporter": "python",
   "pygments_lexer": "ipython3",
   "version": "3.9.12"
  }
 },
 "nbformat": 4,
 "nbformat_minor": 5
}
