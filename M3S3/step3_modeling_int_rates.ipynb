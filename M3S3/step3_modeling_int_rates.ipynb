{
 "cells": [
  {
   "cell_type": "markdown",
   "id": "04e305cd-c63c-47b6-9c39-666bb51bea3e",
   "metadata": {
    "tags": []
   },
   "source": [
    "# Loans interest rates prediction"
   ]
  },
  {
   "cell_type": "markdown",
   "id": "fd58eb92-1906-4f54-bc3f-f90a5c48e1e1",
   "metadata": {
    "tags": []
   },
   "source": [
    "In this part we will try to predict loans interest rates. We will use simple linear regresion and machine learning models to serach for the best resuls.\n",
    "\n",
    "To improve features, we will incorporate USA federal interest rates on monthly basis the loan was issued. Loans interest rates consists of variuos parts, one of the is federal interest rates, this should add additional information of the market situation."
   ]
  },
  {
   "cell_type": "code",
   "execution_count": 120,
   "id": "e52c3456-23f3-43d3-8a38-223f29f9d9b1",
   "metadata": {
    "tags": []
   },
   "outputs": [
    {
     "data": {
      "text/plain": [
       "'/Users/kristinazekiene/Documents/LearningPython/TuringCollege/M3S3'"
      ]
     },
     "execution_count": 120,
     "metadata": {},
     "output_type": "execute_result"
    }
   ],
   "source": [
    "import numpy as np\n",
    "import pandas as pd\n",
    "import matplotlib.pyplot as plt\n",
    "import seaborn as sns\n",
    "import os\n",
    "from datetime import datetime\n",
    "import plotly.offline as pyo\n",
    "import plotly.express as px\n",
    "import plotly.graph_objects as go\n",
    "import math\n",
    "\n",
    "import statsmodels.api as sm\n",
    "import scipy.stats.distributions as dist\n",
    "from statsmodels.stats.proportion import proportions_ztest\n",
    "from scipy import stats\n",
    "from sklearn.preprocessing import PowerTransformer\n",
    "from sklearn.linear_model import LinearRegression\n",
    "\n",
    "from sklearn.preprocessing import OrdinalEncoder\n",
    "from sklearn.preprocessing import OneHotEncoder\n",
    "from sklearn import preprocessing\n",
    "from sklearn.compose import ColumnTransformer\n",
    "\n",
    "from sklearn.preprocessing import StandardScaler\n",
    "from sklearn.decomposition import PCA\n",
    "\n",
    "from generic_functions import value_counts_to_dataframe, pivot_dim2\n",
    "from modelling_functions import fit_model, kfold_cross_validation\n",
    "\n",
    "# balancing dataset\n",
    "from imblearn.over_sampling import SMOTE\n",
    "from imblearn.under_sampling import RandomUnderSampler\n",
    "\n",
    "from scipy.stats import shapiro \n",
    "from scipy.stats import lognorm\n",
    "from scipy.stats import kstest\n",
    "\n",
    "\n",
    "from sklearn import model_selection\n",
    "from sklearn.model_selection import train_test_split, RandomizedSearchCV\n",
    "from sklearn.model_selection import RepeatedStratifiedKFold\n",
    "from sklearn.model_selection import cross_val_score\n",
    "from sklearn.model_selection import KFold, GridSearchCV, StratifiedKFold\n",
    "\n",
    "from sklearn import metrics\n",
    "from sklearn.metrics import auc\n",
    "from sklearn.metrics import accuracy_score, classification_report\n",
    "from sklearn.metrics import accuracy_score\n",
    "from sklearn.metrics import roc_auc_score\n",
    "from scikitplot.metrics import plot_roc_curve\n",
    "from sklearn.metrics import RocCurveDisplay\n",
    "from sklearn.metrics import confusion_matrix, ConfusionMatrixDisplay\n",
    "from sklearn.metrics import precision_score\n",
    "from sklearn.metrics import recall_score\n",
    "from sklearn.metrics import f1_score\n",
    "from sklearn.metrics import r2_score, mean_squared_error\n",
    "from sklearn.metrics import precision_recall_curve\n",
    "\n",
    "\n",
    "from sklearn.ensemble import RandomForestRegressor\n",
    "from sklearn.ensemble import GradientBoostingRegressor\n",
    "from sklearn.tree import DecisionTreeRegressor\n",
    "\n",
    "\n",
    "from sklearn.ensemble import RandomForestClassifier\n",
    "from sklearn.linear_model import LogisticRegression\n",
    "from sklearn.tree import DecisionTreeClassifier\n",
    "from sklearn.svm import SVC\n",
    "from sklearn.neighbors import KNeighborsClassifier\n",
    "from sklearn.cluster import KMeans\n",
    "from sklearn.ensemble import GradientBoostingClassifier\n",
    "#from xgboost import XGBRegressor\n",
    "import xgboost as xgb\n",
    "\n",
    "from sklearn.pipeline import Pipeline\n",
    "\n",
    "from scipy.stats import reciprocal, uniform\n",
    "\n",
    "from sklearn.tree import export_graphviz\n",
    "from IPython.display import Image\n",
    "import graphviz\n",
    "\n",
    "from IPython.display import clear_output\n",
    "import warnings\n",
    "warnings.filterwarnings('ignore')\n",
    "\n",
    "pd.set_option('display.max_columns', None)\n",
    "\n",
    "os.getcwd()"
   ]
  },
  {
   "cell_type": "code",
   "execution_count": null,
   "id": "2dae4764-cd1b-4b08-9eba-7030873a0b91",
   "metadata": {},
   "outputs": [],
   "source": []
  },
  {
   "cell_type": "markdown",
   "id": "9bb750e8-a506-4e88-a5c3-f7ab5a4861ba",
   "metadata": {},
   "source": [
    "# Train, test data loading"
   ]
  },
  {
   "cell_type": "code",
   "execution_count": 52,
   "id": "3937c5c1-e5dc-4541-af8a-239c3d49d773",
   "metadata": {
    "tags": []
   },
   "outputs": [
    {
     "data": {
      "text/html": [
       "<div>\n",
       "<style scoped>\n",
       "    .dataframe tbody tr th:only-of-type {\n",
       "        vertical-align: middle;\n",
       "    }\n",
       "\n",
       "    .dataframe tbody tr th {\n",
       "        vertical-align: top;\n",
       "    }\n",
       "\n",
       "    .dataframe thead th {\n",
       "        text-align: right;\n",
       "    }\n",
       "</style>\n",
       "<table border=\"1\" class=\"dataframe\">\n",
       "  <thead>\n",
       "    <tr style=\"text-align: right;\">\n",
       "      <th></th>\n",
       "      <th>fed_int_rates</th>\n",
       "      <th>loan_amnt</th>\n",
       "      <th>funded_amnt</th>\n",
       "      <th>loan_status</th>\n",
       "      <th>IsLoanAccepted</th>\n",
       "      <th>installment</th>\n",
       "      <th>annual_inc</th>\n",
       "      <th>dti</th>\n",
       "      <th>fico_range_low</th>\n",
       "      <th>fico_range_high</th>\n",
       "      <th>inq_last_6mths</th>\n",
       "      <th>open_acc</th>\n",
       "      <th>pub_rec</th>\n",
       "      <th>revol_bal</th>\n",
       "      <th>revol_util</th>\n",
       "      <th>term</th>\n",
       "      <th>grade</th>\n",
       "      <th>sub_grade</th>\n",
       "      <th>emp_length</th>\n",
       "      <th>home_ownership_ord</th>\n",
       "      <th>verification_status_ord</th>\n",
       "      <th>addr_state_ord</th>\n",
       "      <th>application_type_ord</th>\n",
       "      <th>purpose_mod</th>\n",
       "      <th>ohe__home_ownership_ANY</th>\n",
       "      <th>ohe__home_ownership_MORTGAGE</th>\n",
       "      <th>ohe__home_ownership_NONE</th>\n",
       "      <th>ohe__home_ownership_OWN</th>\n",
       "      <th>ohe__home_ownership_RENT</th>\n",
       "      <th>ohe__verification_status_NotVerified</th>\n",
       "      <th>ohe__verification_status_SourceVerified</th>\n",
       "      <th>ohe__verification_status_Verified</th>\n",
       "      <th>ohe__purpose_car</th>\n",
       "      <th>ohe__purpose_credit_card</th>\n",
       "      <th>ohe__purpose_debt_consolidation</th>\n",
       "      <th>ohe__purpose_educational</th>\n",
       "      <th>ohe__purpose_home_improvement</th>\n",
       "      <th>ohe__purpose_house</th>\n",
       "      <th>ohe__purpose_major_purchase</th>\n",
       "      <th>ohe__purpose_medical</th>\n",
       "      <th>ohe__purpose_moving</th>\n",
       "      <th>ohe__purpose_other</th>\n",
       "      <th>ohe__purpose_renewable_energy</th>\n",
       "      <th>ohe__purpose_small_business</th>\n",
       "      <th>ohe__purpose_vacation</th>\n",
       "      <th>ohe__addr_state_AK</th>\n",
       "      <th>ohe__addr_state_AL</th>\n",
       "      <th>ohe__addr_state_AR</th>\n",
       "      <th>ohe__addr_state_AZ</th>\n",
       "      <th>ohe__addr_state_CA</th>\n",
       "      <th>ohe__addr_state_CO</th>\n",
       "      <th>ohe__addr_state_CT</th>\n",
       "      <th>ohe__addr_state_DC</th>\n",
       "      <th>ohe__addr_state_DE</th>\n",
       "      <th>ohe__addr_state_FL</th>\n",
       "      <th>ohe__addr_state_GA</th>\n",
       "      <th>ohe__addr_state_HI</th>\n",
       "      <th>ohe__addr_state_ID</th>\n",
       "      <th>ohe__addr_state_IL</th>\n",
       "      <th>ohe__addr_state_IN</th>\n",
       "      <th>ohe__addr_state_KS</th>\n",
       "      <th>ohe__addr_state_KY</th>\n",
       "      <th>ohe__addr_state_LA</th>\n",
       "      <th>ohe__addr_state_MA</th>\n",
       "      <th>ohe__addr_state_MD</th>\n",
       "      <th>ohe__addr_state_ME</th>\n",
       "      <th>ohe__addr_state_MI</th>\n",
       "      <th>ohe__addr_state_MN</th>\n",
       "      <th>ohe__addr_state_MO</th>\n",
       "      <th>ohe__addr_state_MS</th>\n",
       "      <th>ohe__addr_state_MT</th>\n",
       "      <th>ohe__addr_state_NC</th>\n",
       "      <th>ohe__addr_state_ND</th>\n",
       "      <th>ohe__addr_state_NE</th>\n",
       "      <th>ohe__addr_state_NH</th>\n",
       "      <th>ohe__addr_state_NJ</th>\n",
       "      <th>ohe__addr_state_NM</th>\n",
       "      <th>ohe__addr_state_NV</th>\n",
       "      <th>ohe__addr_state_NY</th>\n",
       "      <th>ohe__addr_state_OH</th>\n",
       "      <th>ohe__addr_state_OK</th>\n",
       "      <th>ohe__addr_state_OR</th>\n",
       "      <th>ohe__addr_state_PA</th>\n",
       "      <th>ohe__addr_state_RI</th>\n",
       "      <th>ohe__addr_state_SC</th>\n",
       "      <th>ohe__addr_state_SD</th>\n",
       "      <th>ohe__addr_state_TN</th>\n",
       "      <th>ohe__addr_state_TX</th>\n",
       "      <th>ohe__addr_state_UT</th>\n",
       "      <th>ohe__addr_state_VA</th>\n",
       "      <th>ohe__addr_state_VT</th>\n",
       "      <th>ohe__addr_state_WA</th>\n",
       "      <th>ohe__addr_state_WI</th>\n",
       "      <th>ohe__addr_state_WV</th>\n",
       "      <th>ohe__addr_state_WY</th>\n",
       "      <th>ohe__application_type_Individual</th>\n",
       "      <th>ohe__application_type_JointApp</th>\n",
       "    </tr>\n",
       "  </thead>\n",
       "  <tbody>\n",
       "    <tr>\n",
       "      <th>0</th>\n",
       "      <td>1.04</td>\n",
       "      <td>24000.0</td>\n",
       "      <td>24000.0</td>\n",
       "      <td>1.0</td>\n",
       "      <td>1</td>\n",
       "      <td>891.93</td>\n",
       "      <td>110000.0</td>\n",
       "      <td>24.63</td>\n",
       "      <td>680.0</td>\n",
       "      <td>684.0</td>\n",
       "      <td>0.0</td>\n",
       "      <td>12.0</td>\n",
       "      <td>1.0</td>\n",
       "      <td>19982.0</td>\n",
       "      <td>69.9</td>\n",
       "      <td>0.0</td>\n",
       "      <td>3.0</td>\n",
       "      <td>18.0</td>\n",
       "      <td>2</td>\n",
       "      <td>1.0</td>\n",
       "      <td>1.0</td>\n",
       "      <td>24.0</td>\n",
       "      <td>0.0</td>\n",
       "      <td>0</td>\n",
       "      <td>0.0</td>\n",
       "      <td>1.0</td>\n",
       "      <td>0.0</td>\n",
       "      <td>0.0</td>\n",
       "      <td>0.0</td>\n",
       "      <td>0.0</td>\n",
       "      <td>1.0</td>\n",
       "      <td>0.0</td>\n",
       "      <td>0.0</td>\n",
       "      <td>0.0</td>\n",
       "      <td>1.0</td>\n",
       "      <td>0.0</td>\n",
       "      <td>0.0</td>\n",
       "      <td>0.0</td>\n",
       "      <td>0.0</td>\n",
       "      <td>0.0</td>\n",
       "      <td>0.0</td>\n",
       "      <td>0.0</td>\n",
       "      <td>0.0</td>\n",
       "      <td>0.0</td>\n",
       "      <td>0.0</td>\n",
       "      <td>0.0</td>\n",
       "      <td>0.0</td>\n",
       "      <td>0.0</td>\n",
       "      <td>0.0</td>\n",
       "      <td>0.0</td>\n",
       "      <td>0.0</td>\n",
       "      <td>0.0</td>\n",
       "      <td>0.0</td>\n",
       "      <td>0.0</td>\n",
       "      <td>0.0</td>\n",
       "      <td>0.0</td>\n",
       "      <td>0.0</td>\n",
       "      <td>0.0</td>\n",
       "      <td>0.0</td>\n",
       "      <td>0.0</td>\n",
       "      <td>0.0</td>\n",
       "      <td>0.0</td>\n",
       "      <td>0.0</td>\n",
       "      <td>0.0</td>\n",
       "      <td>0.0</td>\n",
       "      <td>0.0</td>\n",
       "      <td>0.0</td>\n",
       "      <td>0.0</td>\n",
       "      <td>0.0</td>\n",
       "      <td>1.0</td>\n",
       "      <td>0.0</td>\n",
       "      <td>0.0</td>\n",
       "      <td>0.0</td>\n",
       "      <td>0.0</td>\n",
       "      <td>0.0</td>\n",
       "      <td>0.0</td>\n",
       "      <td>0.0</td>\n",
       "      <td>0.0</td>\n",
       "      <td>0.0</td>\n",
       "      <td>0.0</td>\n",
       "      <td>0.0</td>\n",
       "      <td>0.0</td>\n",
       "      <td>0.0</td>\n",
       "      <td>0.0</td>\n",
       "      <td>0.0</td>\n",
       "      <td>0.0</td>\n",
       "      <td>0.0</td>\n",
       "      <td>0.0</td>\n",
       "      <td>0.0</td>\n",
       "      <td>0.0</td>\n",
       "      <td>0.0</td>\n",
       "      <td>0.0</td>\n",
       "      <td>0.0</td>\n",
       "      <td>0.0</td>\n",
       "      <td>0.0</td>\n",
       "      <td>1.0</td>\n",
       "      <td>0.0</td>\n",
       "    </tr>\n",
       "    <tr>\n",
       "      <th>1</th>\n",
       "      <td>0.65</td>\n",
       "      <td>15000.0</td>\n",
       "      <td>15000.0</td>\n",
       "      <td>1.0</td>\n",
       "      <td>1</td>\n",
       "      <td>494.57</td>\n",
       "      <td>120000.0</td>\n",
       "      <td>17.98</td>\n",
       "      <td>665.0</td>\n",
       "      <td>669.0</td>\n",
       "      <td>0.0</td>\n",
       "      <td>13.0</td>\n",
       "      <td>0.0</td>\n",
       "      <td>15210.0</td>\n",
       "      <td>80.5</td>\n",
       "      <td>0.0</td>\n",
       "      <td>1.0</td>\n",
       "      <td>9.0</td>\n",
       "      <td>7</td>\n",
       "      <td>4.0</td>\n",
       "      <td>1.0</td>\n",
       "      <td>19.0</td>\n",
       "      <td>0.0</td>\n",
       "      <td>0</td>\n",
       "      <td>0.0</td>\n",
       "      <td>0.0</td>\n",
       "      <td>0.0</td>\n",
       "      <td>0.0</td>\n",
       "      <td>1.0</td>\n",
       "      <td>0.0</td>\n",
       "      <td>1.0</td>\n",
       "      <td>0.0</td>\n",
       "      <td>0.0</td>\n",
       "      <td>0.0</td>\n",
       "      <td>1.0</td>\n",
       "      <td>0.0</td>\n",
       "      <td>0.0</td>\n",
       "      <td>0.0</td>\n",
       "      <td>0.0</td>\n",
       "      <td>0.0</td>\n",
       "      <td>0.0</td>\n",
       "      <td>0.0</td>\n",
       "      <td>0.0</td>\n",
       "      <td>0.0</td>\n",
       "      <td>0.0</td>\n",
       "      <td>0.0</td>\n",
       "      <td>0.0</td>\n",
       "      <td>0.0</td>\n",
       "      <td>0.0</td>\n",
       "      <td>0.0</td>\n",
       "      <td>0.0</td>\n",
       "      <td>0.0</td>\n",
       "      <td>0.0</td>\n",
       "      <td>0.0</td>\n",
       "      <td>0.0</td>\n",
       "      <td>0.0</td>\n",
       "      <td>0.0</td>\n",
       "      <td>0.0</td>\n",
       "      <td>0.0</td>\n",
       "      <td>0.0</td>\n",
       "      <td>0.0</td>\n",
       "      <td>0.0</td>\n",
       "      <td>0.0</td>\n",
       "      <td>0.0</td>\n",
       "      <td>1.0</td>\n",
       "      <td>0.0</td>\n",
       "      <td>0.0</td>\n",
       "      <td>0.0</td>\n",
       "      <td>0.0</td>\n",
       "      <td>0.0</td>\n",
       "      <td>0.0</td>\n",
       "      <td>0.0</td>\n",
       "      <td>0.0</td>\n",
       "      <td>0.0</td>\n",
       "      <td>0.0</td>\n",
       "      <td>0.0</td>\n",
       "      <td>0.0</td>\n",
       "      <td>0.0</td>\n",
       "      <td>0.0</td>\n",
       "      <td>0.0</td>\n",
       "      <td>0.0</td>\n",
       "      <td>0.0</td>\n",
       "      <td>0.0</td>\n",
       "      <td>0.0</td>\n",
       "      <td>0.0</td>\n",
       "      <td>0.0</td>\n",
       "      <td>0.0</td>\n",
       "      <td>0.0</td>\n",
       "      <td>0.0</td>\n",
       "      <td>0.0</td>\n",
       "      <td>0.0</td>\n",
       "      <td>0.0</td>\n",
       "      <td>0.0</td>\n",
       "      <td>0.0</td>\n",
       "      <td>0.0</td>\n",
       "      <td>1.0</td>\n",
       "      <td>0.0</td>\n",
       "    </tr>\n",
       "    <tr>\n",
       "      <th>2</th>\n",
       "      <td>1.16</td>\n",
       "      <td>12000.0</td>\n",
       "      <td>12000.0</td>\n",
       "      <td>1.0</td>\n",
       "      <td>1</td>\n",
       "      <td>407.75</td>\n",
       "      <td>160000.0</td>\n",
       "      <td>25.06</td>\n",
       "      <td>700.0</td>\n",
       "      <td>704.0</td>\n",
       "      <td>0.0</td>\n",
       "      <td>21.0</td>\n",
       "      <td>0.0</td>\n",
       "      <td>42650.0</td>\n",
       "      <td>58.6</td>\n",
       "      <td>0.0</td>\n",
       "      <td>2.0</td>\n",
       "      <td>11.0</td>\n",
       "      <td>10</td>\n",
       "      <td>1.0</td>\n",
       "      <td>1.0</td>\n",
       "      <td>33.0</td>\n",
       "      <td>0.0</td>\n",
       "      <td>1</td>\n",
       "      <td>0.0</td>\n",
       "      <td>1.0</td>\n",
       "      <td>0.0</td>\n",
       "      <td>0.0</td>\n",
       "      <td>0.0</td>\n",
       "      <td>0.0</td>\n",
       "      <td>1.0</td>\n",
       "      <td>0.0</td>\n",
       "      <td>0.0</td>\n",
       "      <td>1.0</td>\n",
       "      <td>0.0</td>\n",
       "      <td>0.0</td>\n",
       "      <td>0.0</td>\n",
       "      <td>0.0</td>\n",
       "      <td>0.0</td>\n",
       "      <td>0.0</td>\n",
       "      <td>0.0</td>\n",
       "      <td>0.0</td>\n",
       "      <td>0.0</td>\n",
       "      <td>0.0</td>\n",
       "      <td>0.0</td>\n",
       "      <td>0.0</td>\n",
       "      <td>0.0</td>\n",
       "      <td>0.0</td>\n",
       "      <td>0.0</td>\n",
       "      <td>0.0</td>\n",
       "      <td>0.0</td>\n",
       "      <td>0.0</td>\n",
       "      <td>0.0</td>\n",
       "      <td>0.0</td>\n",
       "      <td>0.0</td>\n",
       "      <td>0.0</td>\n",
       "      <td>0.0</td>\n",
       "      <td>0.0</td>\n",
       "      <td>0.0</td>\n",
       "      <td>0.0</td>\n",
       "      <td>0.0</td>\n",
       "      <td>0.0</td>\n",
       "      <td>0.0</td>\n",
       "      <td>0.0</td>\n",
       "      <td>0.0</td>\n",
       "      <td>0.0</td>\n",
       "      <td>0.0</td>\n",
       "      <td>0.0</td>\n",
       "      <td>0.0</td>\n",
       "      <td>0.0</td>\n",
       "      <td>0.0</td>\n",
       "      <td>0.0</td>\n",
       "      <td>0.0</td>\n",
       "      <td>0.0</td>\n",
       "      <td>0.0</td>\n",
       "      <td>0.0</td>\n",
       "      <td>0.0</td>\n",
       "      <td>0.0</td>\n",
       "      <td>1.0</td>\n",
       "      <td>0.0</td>\n",
       "      <td>0.0</td>\n",
       "      <td>0.0</td>\n",
       "      <td>0.0</td>\n",
       "      <td>0.0</td>\n",
       "      <td>0.0</td>\n",
       "      <td>0.0</td>\n",
       "      <td>0.0</td>\n",
       "      <td>0.0</td>\n",
       "      <td>0.0</td>\n",
       "      <td>0.0</td>\n",
       "      <td>0.0</td>\n",
       "      <td>0.0</td>\n",
       "      <td>0.0</td>\n",
       "      <td>0.0</td>\n",
       "      <td>0.0</td>\n",
       "      <td>1.0</td>\n",
       "      <td>0.0</td>\n",
       "    </tr>\n",
       "  </tbody>\n",
       "</table>\n",
       "</div>"
      ],
      "text/plain": [
       "   fed_int_rates  loan_amnt  funded_amnt  loan_status  IsLoanAccepted  \\\n",
       "0           1.04    24000.0      24000.0          1.0               1   \n",
       "1           0.65    15000.0      15000.0          1.0               1   \n",
       "2           1.16    12000.0      12000.0          1.0               1   \n",
       "\n",
       "   installment  annual_inc    dti  fico_range_low  fico_range_high  \\\n",
       "0       891.93    110000.0  24.63           680.0            684.0   \n",
       "1       494.57    120000.0  17.98           665.0            669.0   \n",
       "2       407.75    160000.0  25.06           700.0            704.0   \n",
       "\n",
       "   inq_last_6mths  open_acc  pub_rec  revol_bal  revol_util  term  grade  \\\n",
       "0             0.0      12.0      1.0    19982.0        69.9   0.0    3.0   \n",
       "1             0.0      13.0      0.0    15210.0        80.5   0.0    1.0   \n",
       "2             0.0      21.0      0.0    42650.0        58.6   0.0    2.0   \n",
       "\n",
       "   sub_grade  emp_length  home_ownership_ord  verification_status_ord  \\\n",
       "0       18.0           2                 1.0                      1.0   \n",
       "1        9.0           7                 4.0                      1.0   \n",
       "2       11.0          10                 1.0                      1.0   \n",
       "\n",
       "   addr_state_ord  application_type_ord  purpose_mod  ohe__home_ownership_ANY  \\\n",
       "0            24.0                   0.0            0                      0.0   \n",
       "1            19.0                   0.0            0                      0.0   \n",
       "2            33.0                   0.0            1                      0.0   \n",
       "\n",
       "   ohe__home_ownership_MORTGAGE  ohe__home_ownership_NONE  \\\n",
       "0                           1.0                       0.0   \n",
       "1                           0.0                       0.0   \n",
       "2                           1.0                       0.0   \n",
       "\n",
       "   ohe__home_ownership_OWN  ohe__home_ownership_RENT  \\\n",
       "0                      0.0                       0.0   \n",
       "1                      0.0                       1.0   \n",
       "2                      0.0                       0.0   \n",
       "\n",
       "   ohe__verification_status_NotVerified  \\\n",
       "0                                   0.0   \n",
       "1                                   0.0   \n",
       "2                                   0.0   \n",
       "\n",
       "   ohe__verification_status_SourceVerified  ohe__verification_status_Verified  \\\n",
       "0                                      1.0                                0.0   \n",
       "1                                      1.0                                0.0   \n",
       "2                                      1.0                                0.0   \n",
       "\n",
       "   ohe__purpose_car  ohe__purpose_credit_card  \\\n",
       "0               0.0                       0.0   \n",
       "1               0.0                       0.0   \n",
       "2               0.0                       1.0   \n",
       "\n",
       "   ohe__purpose_debt_consolidation  ohe__purpose_educational  \\\n",
       "0                              1.0                       0.0   \n",
       "1                              1.0                       0.0   \n",
       "2                              0.0                       0.0   \n",
       "\n",
       "   ohe__purpose_home_improvement  ohe__purpose_house  \\\n",
       "0                            0.0                 0.0   \n",
       "1                            0.0                 0.0   \n",
       "2                            0.0                 0.0   \n",
       "\n",
       "   ohe__purpose_major_purchase  ohe__purpose_medical  ohe__purpose_moving  \\\n",
       "0                          0.0                   0.0                  0.0   \n",
       "1                          0.0                   0.0                  0.0   \n",
       "2                          0.0                   0.0                  0.0   \n",
       "\n",
       "   ohe__purpose_other  ohe__purpose_renewable_energy  \\\n",
       "0                 0.0                            0.0   \n",
       "1                 0.0                            0.0   \n",
       "2                 0.0                            0.0   \n",
       "\n",
       "   ohe__purpose_small_business  ohe__purpose_vacation  ohe__addr_state_AK  \\\n",
       "0                          0.0                    0.0                 0.0   \n",
       "1                          0.0                    0.0                 0.0   \n",
       "2                          0.0                    0.0                 0.0   \n",
       "\n",
       "   ohe__addr_state_AL  ohe__addr_state_AR  ohe__addr_state_AZ  \\\n",
       "0                 0.0                 0.0                 0.0   \n",
       "1                 0.0                 0.0                 0.0   \n",
       "2                 0.0                 0.0                 0.0   \n",
       "\n",
       "   ohe__addr_state_CA  ohe__addr_state_CO  ohe__addr_state_CT  \\\n",
       "0                 0.0                 0.0                 0.0   \n",
       "1                 0.0                 0.0                 0.0   \n",
       "2                 0.0                 0.0                 0.0   \n",
       "\n",
       "   ohe__addr_state_DC  ohe__addr_state_DE  ohe__addr_state_FL  \\\n",
       "0                 0.0                 0.0                 0.0   \n",
       "1                 0.0                 0.0                 0.0   \n",
       "2                 0.0                 0.0                 0.0   \n",
       "\n",
       "   ohe__addr_state_GA  ohe__addr_state_HI  ohe__addr_state_ID  \\\n",
       "0                 0.0                 0.0                 0.0   \n",
       "1                 0.0                 0.0                 0.0   \n",
       "2                 0.0                 0.0                 0.0   \n",
       "\n",
       "   ohe__addr_state_IL  ohe__addr_state_IN  ohe__addr_state_KS  \\\n",
       "0                 0.0                 0.0                 0.0   \n",
       "1                 0.0                 0.0                 0.0   \n",
       "2                 0.0                 0.0                 0.0   \n",
       "\n",
       "   ohe__addr_state_KY  ohe__addr_state_LA  ohe__addr_state_MA  \\\n",
       "0                 0.0                 0.0                 0.0   \n",
       "1                 0.0                 0.0                 0.0   \n",
       "2                 0.0                 0.0                 0.0   \n",
       "\n",
       "   ohe__addr_state_MD  ohe__addr_state_ME  ohe__addr_state_MI  \\\n",
       "0                 0.0                 0.0                 0.0   \n",
       "1                 1.0                 0.0                 0.0   \n",
       "2                 0.0                 0.0                 0.0   \n",
       "\n",
       "   ohe__addr_state_MN  ohe__addr_state_MO  ohe__addr_state_MS  \\\n",
       "0                 0.0                 0.0                 1.0   \n",
       "1                 0.0                 0.0                 0.0   \n",
       "2                 0.0                 0.0                 0.0   \n",
       "\n",
       "   ohe__addr_state_MT  ohe__addr_state_NC  ohe__addr_state_ND  \\\n",
       "0                 0.0                 0.0                 0.0   \n",
       "1                 0.0                 0.0                 0.0   \n",
       "2                 0.0                 0.0                 0.0   \n",
       "\n",
       "   ohe__addr_state_NE  ohe__addr_state_NH  ohe__addr_state_NJ  \\\n",
       "0                 0.0                 0.0                 0.0   \n",
       "1                 0.0                 0.0                 0.0   \n",
       "2                 0.0                 0.0                 0.0   \n",
       "\n",
       "   ohe__addr_state_NM  ohe__addr_state_NV  ohe__addr_state_NY  \\\n",
       "0                 0.0                 0.0                 0.0   \n",
       "1                 0.0                 0.0                 0.0   \n",
       "2                 0.0                 0.0                 1.0   \n",
       "\n",
       "   ohe__addr_state_OH  ohe__addr_state_OK  ohe__addr_state_OR  \\\n",
       "0                 0.0                 0.0                 0.0   \n",
       "1                 0.0                 0.0                 0.0   \n",
       "2                 0.0                 0.0                 0.0   \n",
       "\n",
       "   ohe__addr_state_PA  ohe__addr_state_RI  ohe__addr_state_SC  \\\n",
       "0                 0.0                 0.0                 0.0   \n",
       "1                 0.0                 0.0                 0.0   \n",
       "2                 0.0                 0.0                 0.0   \n",
       "\n",
       "   ohe__addr_state_SD  ohe__addr_state_TN  ohe__addr_state_TX  \\\n",
       "0                 0.0                 0.0                 0.0   \n",
       "1                 0.0                 0.0                 0.0   \n",
       "2                 0.0                 0.0                 0.0   \n",
       "\n",
       "   ohe__addr_state_UT  ohe__addr_state_VA  ohe__addr_state_VT  \\\n",
       "0                 0.0                 0.0                 0.0   \n",
       "1                 0.0                 0.0                 0.0   \n",
       "2                 0.0                 0.0                 0.0   \n",
       "\n",
       "   ohe__addr_state_WA  ohe__addr_state_WI  ohe__addr_state_WV  \\\n",
       "0                 0.0                 0.0                 0.0   \n",
       "1                 0.0                 0.0                 0.0   \n",
       "2                 0.0                 0.0                 0.0   \n",
       "\n",
       "   ohe__addr_state_WY  ohe__application_type_Individual  \\\n",
       "0                 0.0                               1.0   \n",
       "1                 0.0                               1.0   \n",
       "2                 0.0                               1.0   \n",
       "\n",
       "   ohe__application_type_JointApp  \n",
       "0                             0.0  \n",
       "1                             0.0  \n",
       "2                             0.0  "
      ]
     },
     "execution_count": 52,
     "metadata": {},
     "output_type": "execute_result"
    }
   ],
   "source": [
    "path_train = f'/Users/kristinazekiene/Documents/LearningPython/TuringCollege/M3S3/output_int_rates/x_train.csv'\n",
    "path_test = f'/Users/kristinazekiene/Documents/LearningPython/TuringCollege/M3S3/output_int_rates/x_test.csv'\n",
    "path_ytrain = f'/Users/kristinazekiene/Documents/LearningPython/TuringCollege/M3S3/output_int_rates/y_train.csv'\n",
    "path_ytest = f'/Users/kristinazekiene/Documents/LearningPython/TuringCollege/M3S3/output_int_rates/y_test.csv'\n",
    "\n",
    "\n",
    "x_train = pd.read_csv(path_train)\n",
    "y_train = pd.read_csv(path_ytrain)\n",
    "x_test = pd.read_csv(path_test)\n",
    "y_test = pd.read_csv(path_ytest)\n",
    "x_train.head(3)"
   ]
  },
  {
   "cell_type": "markdown",
   "id": "96998cf8-928c-48ff-a393-f17610866df3",
   "metadata": {
    "tags": []
   },
   "source": [
    "Features selection for the linear regresion model:"
   ]
  },
  {
   "cell_type": "code",
   "execution_count": 3,
   "id": "d3104a0e-5907-43d8-bd05-f86af6d8efbe",
   "metadata": {
    "tags": []
   },
   "outputs": [],
   "source": [
    "lm_columns = ['fed_int_rates','loan_amnt','funded_amnt','loan_status','IsLoanAccepted',\n",
    "           'installment','annual_inc','dti','fico_range_low',\n",
    "           'fico_range_high','inq_last_6mths',\n",
    "           'open_acc','pub_rec','revol_bal','revol_util',\n",
    "            'term','grade','sub_grade','emp_length',\n",
    "           'home_ownership_ord','verification_status_ord',\n",
    "           'addr_state_ord','application_type_ord','purpose_mod']\n",
    "\n",
    "x_train_lm = x_train[lm_columns]\n",
    "x_test_lm = x_test[lm_columns]\n",
    "y_train_lm = y_train\n",
    "y_test_lm = y_test"
   ]
  },
  {
   "cell_type": "markdown",
   "id": "ae49baeb-e1ef-45c7-95d8-35c176eb18aa",
   "metadata": {},
   "source": [
    "# Linear regresion"
   ]
  },
  {
   "cell_type": "markdown",
   "id": "33bf1284-352f-4b10-93cc-cc63e9e37bfc",
   "metadata": {
    "tags": []
   },
   "source": [
    "## With all features"
   ]
  },
  {
   "cell_type": "code",
   "execution_count": 85,
   "id": "5b8c02dd-49e4-4206-83d1-77a94fe87b93",
   "metadata": {
    "tags": []
   },
   "outputs": [
    {
     "name": "stdout",
     "output_type": "stream",
     "text": [
      "                            OLS Regression Results                            \n",
      "==============================================================================\n",
      "Dep. Variable:               int_rate   R-squared:                       0.983\n",
      "Model:                            OLS   Adj. R-squared:                  0.983\n",
      "Method:                 Least Squares   F-statistic:                 9.746e+05\n",
      "Date:                Sat, 10 Feb 2024   Prob (F-statistic):               0.00\n",
      "Time:                        20:07:31   Log-Likelihood:            -3.4265e+05\n",
      "No. Observations:              328893   AIC:                         6.853e+05\n",
      "Df Residuals:                  328873   BIC:                         6.855e+05\n",
      "Df Model:                          19                                         \n",
      "Covariance Type:            nonrobust                                         \n",
      "===========================================================================================\n",
      "                              coef    std err          t      P>|t|      [0.025      0.975]\n",
      "-------------------------------------------------------------------------------------------\n",
      "const                       2.0129      0.352      5.717      0.000       1.323       2.703\n",
      "fed_int_rates               0.0776      0.006     12.660      0.000       0.066       0.090\n",
      "IsLoanAccepted             -0.0369      0.004     -9.514      0.000      -0.045      -0.029\n",
      "installment                 0.0001   4.77e-06     28.037      0.000       0.000       0.000\n",
      "annual_inc               1.637e-08   5.22e-09      3.138      0.002    6.15e-09    2.66e-08\n",
      "dti                        -0.0008      0.000     -7.553      0.000      -0.001      -0.001\n",
      "fico_range_low              0.2337      0.088      2.656      0.008       0.061       0.406\n",
      "fico_range_high            -0.2286      0.088     -2.598      0.009      -0.401      -0.056\n",
      "inq_last_6mths             -0.0084      0.002     -5.364      0.000      -0.011      -0.005\n",
      "open_acc                    0.0018      0.000      8.024      0.000       0.001       0.002\n",
      "revol_bal                3.787e-07   5.92e-08      6.393      0.000    2.63e-07    4.95e-07\n",
      "revol_util                 -0.0010   6.22e-05    -16.372      0.000      -0.001      -0.001\n",
      "term                       -0.1781      0.003    -59.582      0.000      -0.184      -0.172\n",
      "grade                       0.4874      0.004    116.029      0.000       0.479       0.496\n",
      "sub_grade                   0.7705      0.001    906.917      0.000       0.769       0.772\n",
      "emp_length                  0.0022      0.000      6.749      0.000       0.002       0.003\n",
      "home_ownership_ord         -0.0130      0.001    -14.544      0.000      -0.015      -0.011\n",
      "verification_status_ord    -0.0375      0.002    -22.412      0.000      -0.041      -0.034\n",
      "application_type_ord       -0.0474      0.005    -10.376      0.000      -0.056      -0.038\n",
      "purpose_mod                 0.0014      0.001      2.687      0.007       0.000       0.002\n",
      "==============================================================================\n",
      "Omnibus:                   129197.521   Durbin-Watson:                   1.993\n",
      "Prob(Omnibus):                  0.000   Jarque-Bera (JB):         22451883.931\n",
      "Skew:                          -0.791   Prob(JB):                         0.00\n",
      "Kurtosis:                      43.446   Cond. No.                     7.69e+07\n",
      "==============================================================================\n",
      "\n",
      "Notes:\n",
      "[1] Standard Errors assume that the covariance matrix of the errors is correctly specified.\n",
      "[2] The condition number is large, 7.69e+07. This might indicate that there are\n",
      "strong multicollinearity or other numerical problems.\n",
      "CPU times: user 1.14 s, sys: 168 ms, total: 1.31 s\n",
      "Wall time: 283 ms\n"
     ]
    }
   ],
   "source": [
    "%%time\n",
    "#add constant to predictor variables\n",
    "x_train_lm = sm.add_constant(x_train_lm)\n",
    "\n",
    "#fit linear regression model\n",
    "model = sm.OLS(y_train_lm, x_train_lm).fit() \n",
    "print(model.summary())"
   ]
  },
  {
   "cell_type": "markdown",
   "id": "6eac25c6-baf0-4b03-8726-b66067b325cf",
   "metadata": {
    "tags": []
   },
   "source": [
    "<b>Highlight:</b>\n",
    "The model quality is very hight R^2 = 0.983. Which means that indepened variables combination explains ~98% of the dependent variable."
   ]
  },
  {
   "cell_type": "markdown",
   "id": "6774fd27-fc68-4859-ab1c-e95fd8301126",
   "metadata": {
    "tags": []
   },
   "source": [
    "Let's check the residuals normality, which is one of the good model conditions, which should be met. We will use the QQ plot for this. Normally distributed residuals should be distributed among the diagonal."
   ]
  },
  {
   "cell_type": "code",
   "execution_count": 83,
   "id": "be826232-d1ac-485b-8a00-50275ddeaf3d",
   "metadata": {
    "tags": []
   },
   "outputs": [
    {
     "data": {
      "image/png": "[encoded data removed]",
      "text/plain": [
       "<Figure size 640x480 with 1 Axes>"
      ]
     },
     "metadata": {},
     "output_type": "display_data"
    }
   ],
   "source": [
    "sm.qqplot(model.resid, line ='45')\n",
    "plt.title('QQ-plot of residuals')\n",
    "plt.show()"
   ]
  },
  {
   "cell_type": "markdown",
   "id": "e724ed5c-f3ff-42c5-a99c-d7bcbdc7055e",
   "metadata": {
    "tags": []
   },
   "source": [
    "The residuals looks strange. Part of the residuals are distributed among the diagonal, but other part is ay off it. This might indicate that model is not that qualitative."
   ]
  },
  {
   "cell_type": "markdown",
   "id": "c3c9b642-42d3-4175-8c51-8e25cbea472d",
   "metadata": {
    "tags": []
   },
   "source": [
    "We have seen that some features p-values are > 0.05, this features might be insignificant and should be eliminated from the model.\n",
    "\n",
    "There was this features with p-value > 0.05 and we will eliminate them:\n",
    "- loan_status (0.486)\n",
    "- funded_amnt (0.414)\n",
    "- loan_amnt (0.41)\n",
    "- addr_state_ord (0.191)\n",
    "- pub_rec (0.084)"
   ]
  },
  {
   "cell_type": "code",
   "execution_count": 86,
   "id": "10a0f835-242f-42f3-a4cd-9bf4e1427fa4",
   "metadata": {
    "tags": []
   },
   "outputs": [
    {
     "name": "stdout",
     "output_type": "stream",
     "text": [
      "CPU times: user 66.3 ms, sys: 32.9 ms, total: 99.2 ms\n",
      "Wall time: 20.9 ms\n"
     ]
    },
    {
     "data": {
      "text/html": [
       "<div>\n",
       "<style scoped>\n",
       "    .dataframe tbody tr th:only-of-type {\n",
       "        vertical-align: middle;\n",
       "    }\n",
       "\n",
       "    .dataframe tbody tr th {\n",
       "        vertical-align: top;\n",
       "    }\n",
       "\n",
       "    .dataframe thead th {\n",
       "        text-align: right;\n",
       "    }\n",
       "</style>\n",
       "<table border=\"1\" class=\"dataframe\">\n",
       "  <thead>\n",
       "    <tr style=\"text-align: right;\">\n",
       "      <th></th>\n",
       "      <th>int_rate_fitted</th>\n",
       "    </tr>\n",
       "  </thead>\n",
       "  <tbody>\n",
       "    <tr>\n",
       "      <th>0</th>\n",
       "      <td>19.941601</td>\n",
       "    </tr>\n",
       "    <tr>\n",
       "      <th>1</th>\n",
       "      <td>11.839437</td>\n",
       "    </tr>\n",
       "    <tr>\n",
       "      <th>2</th>\n",
       "      <td>14.163226</td>\n",
       "    </tr>\n",
       "  </tbody>\n",
       "</table>\n",
       "</div>"
      ],
      "text/plain": [
       "   int_rate_fitted\n",
       "0        19.941601\n",
       "1        11.839437\n",
       "2        14.163226"
      ]
     },
     "execution_count": 86,
     "metadata": {},
     "output_type": "execute_result"
    }
   ],
   "source": [
    "%%time\n",
    "\n",
    "# fitted values\n",
    "model_fitted_y = pd.DataFrame(model.fittedvalues, columns=['int_rate_fitted'])\n",
    "model_fitted_y.head(3)"
   ]
  },
  {
   "cell_type": "code",
   "execution_count": 88,
   "id": "373f9ed6-fa57-40c4-bf11-9b73954bc4f1",
   "metadata": {
    "tags": []
   },
   "outputs": [
    {
     "data": {
      "text/html": [
       "<div>\n",
       "<style scoped>\n",
       "    .dataframe tbody tr th:only-of-type {\n",
       "        vertical-align: middle;\n",
       "    }\n",
       "\n",
       "    .dataframe tbody tr th {\n",
       "        vertical-align: top;\n",
       "    }\n",
       "\n",
       "    .dataframe thead th {\n",
       "        text-align: right;\n",
       "    }\n",
       "</style>\n",
       "<table border=\"1\" class=\"dataframe\">\n",
       "  <thead>\n",
       "    <tr style=\"text-align: right;\">\n",
       "      <th></th>\n",
       "      <th>int_rate</th>\n",
       "      <th>int_rate_fitted</th>\n",
       "    </tr>\n",
       "  </thead>\n",
       "  <tbody>\n",
       "    <tr>\n",
       "      <th>0</th>\n",
       "      <td>20.00</td>\n",
       "      <td>19.941601</td>\n",
       "    </tr>\n",
       "    <tr>\n",
       "      <th>1</th>\n",
       "      <td>11.49</td>\n",
       "      <td>11.839437</td>\n",
       "    </tr>\n",
       "    <tr>\n",
       "      <th>2</th>\n",
       "      <td>13.59</td>\n",
       "      <td>14.163226</td>\n",
       "    </tr>\n",
       "  </tbody>\n",
       "</table>\n",
       "</div>"
      ],
      "text/plain": [
       "   int_rate  int_rate_fitted\n",
       "0     20.00        19.941601\n",
       "1     11.49        11.839437\n",
       "2     13.59        14.163226"
      ]
     },
     "execution_count": 88,
     "metadata": {},
     "output_type": "execute_result"
    }
   ],
   "source": [
    "df = pd.concat([y_train_lm, model_fitted_y],axis=1)\n",
    "df[['int_rate','int_rate_fitted']].head(3)"
   ]
  },
  {
   "cell_type": "code",
   "execution_count": 89,
   "id": "dd7e8ad9-5e3f-4a91-98e6-7b12c317a476",
   "metadata": {
    "tags": []
   },
   "outputs": [
    {
     "data": {
      "text/plain": [
       "{'model_name': 'OLS',\n",
       " 'MAE': 0.5039411034871624,\n",
       " 'MSE': 0.4703702807240029,\n",
       " 'RMSE': 0.6858354618448967}"
      ]
     },
     "execution_count": 89,
     "metadata": {},
     "output_type": "execute_result"
    }
   ],
   "source": [
    "MAE = metrics.mean_absolute_error(df.int_rate,df.int_rate_fitted)\n",
    "MSE = metrics.mean_squared_error(df.int_rate,df.int_rate_fitted)\n",
    "RMSE = np.sqrt(metrics.mean_squared_error(df.int_rate,df.int_rate_fitted))\n",
    "\n",
    "ols_metrics = {\n",
    "        'model_name': 'OLS',\n",
    "        'MAE': MAE,\n",
    "        'MSE': MSE,\n",
    "        'RMSE': RMSE\n",
    "        }\n",
    "ols_metrics"
   ]
  },
  {
   "cell_type": "markdown",
   "id": "d798d6e7-b68b-44b1-8f05-26585c754652",
   "metadata": {
    "tags": []
   },
   "source": [
    "## Only significant features"
   ]
  },
  {
   "cell_type": "code",
   "execution_count": 90,
   "id": "207bacd6-d007-48e8-857a-88eca0f31167",
   "metadata": {
    "tags": []
   },
   "outputs": [
    {
     "data": {
      "text/html": [
       "<div>\n",
       "<style scoped>\n",
       "    .dataframe tbody tr th:only-of-type {\n",
       "        vertical-align: middle;\n",
       "    }\n",
       "\n",
       "    .dataframe tbody tr th {\n",
       "        vertical-align: top;\n",
       "    }\n",
       "\n",
       "    .dataframe thead th {\n",
       "        text-align: right;\n",
       "    }\n",
       "</style>\n",
       "<table border=\"1\" class=\"dataframe\">\n",
       "  <thead>\n",
       "    <tr style=\"text-align: right;\">\n",
       "      <th></th>\n",
       "      <th>fed_int_rates</th>\n",
       "      <th>IsLoanAccepted</th>\n",
       "      <th>installment</th>\n",
       "      <th>annual_inc</th>\n",
       "      <th>dti</th>\n",
       "      <th>fico_range_low</th>\n",
       "      <th>fico_range_high</th>\n",
       "      <th>inq_last_6mths</th>\n",
       "      <th>open_acc</th>\n",
       "      <th>revol_bal</th>\n",
       "      <th>revol_util</th>\n",
       "      <th>term</th>\n",
       "      <th>grade</th>\n",
       "      <th>sub_grade</th>\n",
       "      <th>emp_length</th>\n",
       "      <th>home_ownership_ord</th>\n",
       "      <th>verification_status_ord</th>\n",
       "      <th>application_type_ord</th>\n",
       "      <th>purpose_mod</th>\n",
       "    </tr>\n",
       "  </thead>\n",
       "  <tbody>\n",
       "    <tr>\n",
       "      <th>0</th>\n",
       "      <td>1.04</td>\n",
       "      <td>1</td>\n",
       "      <td>891.93</td>\n",
       "      <td>110000.0</td>\n",
       "      <td>24.63</td>\n",
       "      <td>680.0</td>\n",
       "      <td>684.0</td>\n",
       "      <td>0.0</td>\n",
       "      <td>12.0</td>\n",
       "      <td>19982.0</td>\n",
       "      <td>69.9</td>\n",
       "      <td>0.0</td>\n",
       "      <td>3.0</td>\n",
       "      <td>18.0</td>\n",
       "      <td>2</td>\n",
       "      <td>1.0</td>\n",
       "      <td>1.0</td>\n",
       "      <td>0.0</td>\n",
       "      <td>0</td>\n",
       "    </tr>\n",
       "    <tr>\n",
       "      <th>1</th>\n",
       "      <td>0.65</td>\n",
       "      <td>1</td>\n",
       "      <td>494.57</td>\n",
       "      <td>120000.0</td>\n",
       "      <td>17.98</td>\n",
       "      <td>665.0</td>\n",
       "      <td>669.0</td>\n",
       "      <td>0.0</td>\n",
       "      <td>13.0</td>\n",
       "      <td>15210.0</td>\n",
       "      <td>80.5</td>\n",
       "      <td>0.0</td>\n",
       "      <td>1.0</td>\n",
       "      <td>9.0</td>\n",
       "      <td>7</td>\n",
       "      <td>4.0</td>\n",
       "      <td>1.0</td>\n",
       "      <td>0.0</td>\n",
       "      <td>0</td>\n",
       "    </tr>\n",
       "  </tbody>\n",
       "</table>\n",
       "</div>"
      ],
      "text/plain": [
       "   fed_int_rates  IsLoanAccepted  installment  annual_inc    dti  \\\n",
       "0           1.04               1       891.93    110000.0  24.63   \n",
       "1           0.65               1       494.57    120000.0  17.98   \n",
       "\n",
       "   fico_range_low  fico_range_high  inq_last_6mths  open_acc  revol_bal  \\\n",
       "0           680.0            684.0             0.0      12.0    19982.0   \n",
       "1           665.0            669.0             0.0      13.0    15210.0   \n",
       "\n",
       "   revol_util  term  grade  sub_grade  emp_length  home_ownership_ord  \\\n",
       "0        69.9   0.0    3.0       18.0           2                 1.0   \n",
       "1        80.5   0.0    1.0        9.0           7                 4.0   \n",
       "\n",
       "   verification_status_ord  application_type_ord  purpose_mod  \n",
       "0                      1.0                   0.0            0  \n",
       "1                      1.0                   0.0            0  "
      ]
     },
     "execution_count": 90,
     "metadata": {},
     "output_type": "execute_result"
    }
   ],
   "source": [
    "lm_columns = ['fed_int_rates','IsLoanAccepted',\n",
    "           'installment','annual_inc','dti','fico_range_low',\n",
    "           'fico_range_high','inq_last_6mths',\n",
    "           'open_acc','revol_bal','revol_util',\n",
    "            'term','grade','sub_grade','emp_length',\n",
    "           'home_ownership_ord','verification_status_ord',\n",
    "           'application_type_ord','purpose_mod']\n",
    "\n",
    "x_train_lm = x_train[lm_columns]\n",
    "x_test_lm = x_test[lm_columns]\n",
    "x_train_lm.head(2)"
   ]
  },
  {
   "cell_type": "code",
   "execution_count": 91,
   "id": "f33d2730-d5b3-42de-a340-e8b0eb2e6dfc",
   "metadata": {
    "tags": []
   },
   "outputs": [
    {
     "name": "stdout",
     "output_type": "stream",
     "text": [
      "                            OLS Regression Results                            \n",
      "==============================================================================\n",
      "Dep. Variable:               int_rate   R-squared:                       0.983\n",
      "Model:                            OLS   Adj. R-squared:                  0.983\n",
      "Method:                 Least Squares   F-statistic:                 9.746e+05\n",
      "Date:                Sat, 10 Feb 2024   Prob (F-statistic):               0.00\n",
      "Time:                        20:10:02   Log-Likelihood:            -3.4265e+05\n",
      "No. Observations:              328893   AIC:                         6.853e+05\n",
      "Df Residuals:                  328873   BIC:                         6.855e+05\n",
      "Df Model:                          19                                         \n",
      "Covariance Type:            nonrobust                                         \n",
      "===========================================================================================\n",
      "                              coef    std err          t      P>|t|      [0.025      0.975]\n",
      "-------------------------------------------------------------------------------------------\n",
      "const                       2.0129      0.352      5.717      0.000       1.323       2.703\n",
      "fed_int_rates               0.0776      0.006     12.660      0.000       0.066       0.090\n",
      "IsLoanAccepted             -0.0369      0.004     -9.514      0.000      -0.045      -0.029\n",
      "installment                 0.0001   4.77e-06     28.037      0.000       0.000       0.000\n",
      "annual_inc               1.637e-08   5.22e-09      3.138      0.002    6.15e-09    2.66e-08\n",
      "dti                        -0.0008      0.000     -7.553      0.000      -0.001      -0.001\n",
      "fico_range_low              0.2337      0.088      2.656      0.008       0.061       0.406\n",
      "fico_range_high            -0.2286      0.088     -2.598      0.009      -0.401      -0.056\n",
      "inq_last_6mths             -0.0084      0.002     -5.364      0.000      -0.011      -0.005\n",
      "open_acc                    0.0018      0.000      8.024      0.000       0.001       0.002\n",
      "revol_bal                3.787e-07   5.92e-08      6.393      0.000    2.63e-07    4.95e-07\n",
      "revol_util                 -0.0010   6.22e-05    -16.372      0.000      -0.001      -0.001\n",
      "term                       -0.1781      0.003    -59.582      0.000      -0.184      -0.172\n",
      "grade                       0.4874      0.004    116.029      0.000       0.479       0.496\n",
      "sub_grade                   0.7705      0.001    906.917      0.000       0.769       0.772\n",
      "emp_length                  0.0022      0.000      6.749      0.000       0.002       0.003\n",
      "home_ownership_ord         -0.0130      0.001    -14.544      0.000      -0.015      -0.011\n",
      "verification_status_ord    -0.0375      0.002    -22.412      0.000      -0.041      -0.034\n",
      "application_type_ord       -0.0474      0.005    -10.376      0.000      -0.056      -0.038\n",
      "purpose_mod                 0.0014      0.001      2.687      0.007       0.000       0.002\n",
      "==============================================================================\n",
      "Omnibus:                   129197.521   Durbin-Watson:                   1.993\n",
      "Prob(Omnibus):                  0.000   Jarque-Bera (JB):         22451883.931\n",
      "Skew:                          -0.791   Prob(JB):                         0.00\n",
      "Kurtosis:                      43.446   Cond. No.                     7.69e+07\n",
      "==============================================================================\n",
      "\n",
      "Notes:\n",
      "[1] Standard Errors assume that the covariance matrix of the errors is correctly specified.\n",
      "[2] The condition number is large, 7.69e+07. This might indicate that there are\n",
      "strong multicollinearity or other numerical problems.\n",
      "CPU times: user 1.24 s, sys: 89.6 ms, total: 1.33 s\n",
      "Wall time: 278 ms\n"
     ]
    }
   ],
   "source": [
    "%%time\n",
    "\n",
    "#add constant to predictor variables\n",
    "x_train_lm = sm.add_constant(x_train_lm)\n",
    "\n",
    "#fit linear regression model\n",
    "model = sm.OLS(y_train_lm, x_train_lm).fit() \n",
    "print(model.summary())"
   ]
  },
  {
   "cell_type": "markdown",
   "id": "cf75b8ac-6050-47cc-a615-d11d1d3ea95e",
   "metadata": {
    "tags": []
   },
   "source": [
    "Now all the features are significant in the model, all p-values are less then 0.05. R^2 remains high 0.983."
   ]
  },
  {
   "cell_type": "code",
   "execution_count": 92,
   "id": "d281f278-10c1-416d-8dbc-2a631ac69cbf",
   "metadata": {
    "tags": []
   },
   "outputs": [
    {
     "data": {
      "text/html": [
       "<div>\n",
       "<style scoped>\n",
       "    .dataframe tbody tr th:only-of-type {\n",
       "        vertical-align: middle;\n",
       "    }\n",
       "\n",
       "    .dataframe tbody tr th {\n",
       "        vertical-align: top;\n",
       "    }\n",
       "\n",
       "    .dataframe thead th {\n",
       "        text-align: right;\n",
       "    }\n",
       "</style>\n",
       "<table border=\"1\" class=\"dataframe\">\n",
       "  <thead>\n",
       "    <tr style=\"text-align: right;\">\n",
       "      <th></th>\n",
       "      <th>int_rate</th>\n",
       "      <th>const</th>\n",
       "      <th>fed_int_rates</th>\n",
       "      <th>IsLoanAccepted</th>\n",
       "      <th>installment</th>\n",
       "      <th>annual_inc</th>\n",
       "      <th>dti</th>\n",
       "      <th>fico_range_low</th>\n",
       "      <th>fico_range_high</th>\n",
       "      <th>inq_last_6mths</th>\n",
       "      <th>open_acc</th>\n",
       "      <th>revol_bal</th>\n",
       "      <th>revol_util</th>\n",
       "      <th>term</th>\n",
       "      <th>grade</th>\n",
       "      <th>sub_grade</th>\n",
       "      <th>emp_length</th>\n",
       "      <th>home_ownership_ord</th>\n",
       "      <th>verification_status_ord</th>\n",
       "      <th>application_type_ord</th>\n",
       "      <th>purpose_mod</th>\n",
       "    </tr>\n",
       "  </thead>\n",
       "  <tbody>\n",
       "    <tr>\n",
       "      <th>0</th>\n",
       "      <td>20.00</td>\n",
       "      <td>1.0</td>\n",
       "      <td>1.04</td>\n",
       "      <td>1</td>\n",
       "      <td>891.93</td>\n",
       "      <td>110000.0</td>\n",
       "      <td>24.63</td>\n",
       "      <td>680.0</td>\n",
       "      <td>684.0</td>\n",
       "      <td>0.0</td>\n",
       "      <td>12.0</td>\n",
       "      <td>19982.0</td>\n",
       "      <td>69.9</td>\n",
       "      <td>0.0</td>\n",
       "      <td>3.0</td>\n",
       "      <td>18.0</td>\n",
       "      <td>2</td>\n",
       "      <td>1.0</td>\n",
       "      <td>1.0</td>\n",
       "      <td>0.0</td>\n",
       "      <td>0</td>\n",
       "    </tr>\n",
       "    <tr>\n",
       "      <th>1</th>\n",
       "      <td>11.49</td>\n",
       "      <td>1.0</td>\n",
       "      <td>0.65</td>\n",
       "      <td>1</td>\n",
       "      <td>494.57</td>\n",
       "      <td>120000.0</td>\n",
       "      <td>17.98</td>\n",
       "      <td>665.0</td>\n",
       "      <td>669.0</td>\n",
       "      <td>0.0</td>\n",
       "      <td>13.0</td>\n",
       "      <td>15210.0</td>\n",
       "      <td>80.5</td>\n",
       "      <td>0.0</td>\n",
       "      <td>1.0</td>\n",
       "      <td>9.0</td>\n",
       "      <td>7</td>\n",
       "      <td>4.0</td>\n",
       "      <td>1.0</td>\n",
       "      <td>0.0</td>\n",
       "      <td>0</td>\n",
       "    </tr>\n",
       "    <tr>\n",
       "      <th>2</th>\n",
       "      <td>13.59</td>\n",
       "      <td>1.0</td>\n",
       "      <td>1.16</td>\n",
       "      <td>1</td>\n",
       "      <td>407.75</td>\n",
       "      <td>160000.0</td>\n",
       "      <td>25.06</td>\n",
       "      <td>700.0</td>\n",
       "      <td>704.0</td>\n",
       "      <td>0.0</td>\n",
       "      <td>21.0</td>\n",
       "      <td>42650.0</td>\n",
       "      <td>58.6</td>\n",
       "      <td>0.0</td>\n",
       "      <td>2.0</td>\n",
       "      <td>11.0</td>\n",
       "      <td>10</td>\n",
       "      <td>1.0</td>\n",
       "      <td>1.0</td>\n",
       "      <td>0.0</td>\n",
       "      <td>1</td>\n",
       "    </tr>\n",
       "  </tbody>\n",
       "</table>\n",
       "</div>"
      ],
      "text/plain": [
       "   int_rate  const  fed_int_rates  IsLoanAccepted  installment  annual_inc  \\\n",
       "0     20.00    1.0           1.04               1       891.93    110000.0   \n",
       "1     11.49    1.0           0.65               1       494.57    120000.0   \n",
       "2     13.59    1.0           1.16               1       407.75    160000.0   \n",
       "\n",
       "     dti  fico_range_low  fico_range_high  inq_last_6mths  open_acc  \\\n",
       "0  24.63           680.0            684.0             0.0      12.0   \n",
       "1  17.98           665.0            669.0             0.0      13.0   \n",
       "2  25.06           700.0            704.0             0.0      21.0   \n",
       "\n",
       "   revol_bal  revol_util  term  grade  sub_grade  emp_length  \\\n",
       "0    19982.0        69.9   0.0    3.0       18.0           2   \n",
       "1    15210.0        80.5   0.0    1.0        9.0           7   \n",
       "2    42650.0        58.6   0.0    2.0       11.0          10   \n",
       "\n",
       "   home_ownership_ord  verification_status_ord  application_type_ord  \\\n",
       "0                 1.0                      1.0                   0.0   \n",
       "1                 4.0                      1.0                   0.0   \n",
       "2                 1.0                      1.0                   0.0   \n",
       "\n",
       "   purpose_mod  \n",
       "0            0  \n",
       "1            0  \n",
       "2            1  "
      ]
     },
     "execution_count": 92,
     "metadata": {},
     "output_type": "execute_result"
    }
   ],
   "source": [
    "df = pd.concat([y_train_lm, x_train_lm],axis=1)\n",
    "df.head(3)"
   ]
  },
  {
   "cell_type": "markdown",
   "id": "22c2c259-ad88-4865-bcc4-5ee6b84ec950",
   "metadata": {
    "tags": []
   },
   "source": [
    "We will extracted fitted values"
   ]
  },
  {
   "cell_type": "code",
   "execution_count": 93,
   "id": "823eae47-1923-4092-afd9-c0defe37babf",
   "metadata": {
    "tags": []
   },
   "outputs": [
    {
     "name": "stdout",
     "output_type": "stream",
     "text": [
      "CPU times: user 70.5 ms, sys: 3.34 ms, total: 73.9 ms\n",
      "Wall time: 11.9 ms\n"
     ]
    },
    {
     "data": {
      "text/html": [
       "<div>\n",
       "<style scoped>\n",
       "    .dataframe tbody tr th:only-of-type {\n",
       "        vertical-align: middle;\n",
       "    }\n",
       "\n",
       "    .dataframe tbody tr th {\n",
       "        vertical-align: top;\n",
       "    }\n",
       "\n",
       "    .dataframe thead th {\n",
       "        text-align: right;\n",
       "    }\n",
       "</style>\n",
       "<table border=\"1\" class=\"dataframe\">\n",
       "  <thead>\n",
       "    <tr style=\"text-align: right;\">\n",
       "      <th></th>\n",
       "      <th>int_rate_fitted</th>\n",
       "    </tr>\n",
       "  </thead>\n",
       "  <tbody>\n",
       "    <tr>\n",
       "      <th>0</th>\n",
       "      <td>19.941601</td>\n",
       "    </tr>\n",
       "    <tr>\n",
       "      <th>1</th>\n",
       "      <td>11.839437</td>\n",
       "    </tr>\n",
       "    <tr>\n",
       "      <th>2</th>\n",
       "      <td>14.163226</td>\n",
       "    </tr>\n",
       "  </tbody>\n",
       "</table>\n",
       "</div>"
      ],
      "text/plain": [
       "   int_rate_fitted\n",
       "0        19.941601\n",
       "1        11.839437\n",
       "2        14.163226"
      ]
     },
     "execution_count": 93,
     "metadata": {},
     "output_type": "execute_result"
    }
   ],
   "source": [
    "%%time\n",
    "\n",
    "# fitted values\n",
    "model_fitted_y = pd.DataFrame(model.fittedvalues, columns=['int_rate_fitted'])\n",
    "model_fitted_y.head(3)"
   ]
  },
  {
   "cell_type": "markdown",
   "id": "97f71359-58e0-4c7c-a424-36800a742e64",
   "metadata": {
    "tags": []
   },
   "source": [
    "The model residuals will be:"
   ]
  },
  {
   "cell_type": "code",
   "execution_count": 94,
   "id": "35932191-584f-4fa2-b323-eb56d3b01242",
   "metadata": {
    "tags": []
   },
   "outputs": [
    {
     "data": {
      "text/html": [
       "<div>\n",
       "<style scoped>\n",
       "    .dataframe tbody tr th:only-of-type {\n",
       "        vertical-align: middle;\n",
       "    }\n",
       "\n",
       "    .dataframe tbody tr th {\n",
       "        vertical-align: top;\n",
       "    }\n",
       "\n",
       "    .dataframe thead th {\n",
       "        text-align: right;\n",
       "    }\n",
       "</style>\n",
       "<table border=\"1\" class=\"dataframe\">\n",
       "  <thead>\n",
       "    <tr style=\"text-align: right;\">\n",
       "      <th></th>\n",
       "      <th>residuals</th>\n",
       "    </tr>\n",
       "  </thead>\n",
       "  <tbody>\n",
       "    <tr>\n",
       "      <th>0</th>\n",
       "      <td>0.058399</td>\n",
       "    </tr>\n",
       "    <tr>\n",
       "      <th>1</th>\n",
       "      <td>-0.349437</td>\n",
       "    </tr>\n",
       "    <tr>\n",
       "      <th>2</th>\n",
       "      <td>-0.573226</td>\n",
       "    </tr>\n",
       "  </tbody>\n",
       "</table>\n",
       "</div>"
      ],
      "text/plain": [
       "   residuals\n",
       "0   0.058399\n",
       "1  -0.349437\n",
       "2  -0.573226"
      ]
     },
     "execution_count": 94,
     "metadata": {},
     "output_type": "execute_result"
    }
   ],
   "source": [
    "mod_res = pd.DataFrame(model.resid,columns=['residuals'])\n",
    "mod_res.head(3)"
   ]
  },
  {
   "cell_type": "markdown",
   "id": "fb73b148-3be3-4bb6-812d-cf8aa8f902bf",
   "metadata": {
    "tags": []
   },
   "source": [
    "We will merge fitted values and residuals to the single dataframe with target and features"
   ]
  },
  {
   "cell_type": "code",
   "execution_count": 95,
   "id": "cc1afd60-d853-4dbf-915c-1e78464bc8fc",
   "metadata": {
    "tags": []
   },
   "outputs": [
    {
     "data": {
      "text/html": [
       "<div>\n",
       "<style scoped>\n",
       "    .dataframe tbody tr th:only-of-type {\n",
       "        vertical-align: middle;\n",
       "    }\n",
       "\n",
       "    .dataframe tbody tr th {\n",
       "        vertical-align: top;\n",
       "    }\n",
       "\n",
       "    .dataframe thead th {\n",
       "        text-align: right;\n",
       "    }\n",
       "</style>\n",
       "<table border=\"1\" class=\"dataframe\">\n",
       "  <thead>\n",
       "    <tr style=\"text-align: right;\">\n",
       "      <th></th>\n",
       "      <th>int_rate</th>\n",
       "      <th>int_rate_fitted</th>\n",
       "      <th>residuals</th>\n",
       "    </tr>\n",
       "  </thead>\n",
       "  <tbody>\n",
       "    <tr>\n",
       "      <th>0</th>\n",
       "      <td>20.00</td>\n",
       "      <td>19.941601</td>\n",
       "      <td>0.058399</td>\n",
       "    </tr>\n",
       "    <tr>\n",
       "      <th>1</th>\n",
       "      <td>11.49</td>\n",
       "      <td>11.839437</td>\n",
       "      <td>-0.349437</td>\n",
       "    </tr>\n",
       "    <tr>\n",
       "      <th>2</th>\n",
       "      <td>13.59</td>\n",
       "      <td>14.163226</td>\n",
       "      <td>-0.573226</td>\n",
       "    </tr>\n",
       "  </tbody>\n",
       "</table>\n",
       "</div>"
      ],
      "text/plain": [
       "   int_rate  int_rate_fitted  residuals\n",
       "0     20.00        19.941601   0.058399\n",
       "1     11.49        11.839437  -0.349437\n",
       "2     13.59        14.163226  -0.573226"
      ]
     },
     "execution_count": 95,
     "metadata": {},
     "output_type": "execute_result"
    }
   ],
   "source": [
    "df = pd.concat([df, model_fitted_y,mod_res],axis=1)\n",
    "df[['int_rate','int_rate_fitted','residuals']].head(3)"
   ]
  },
  {
   "cell_type": "code",
   "execution_count": 96,
   "id": "f5a755b9-65fa-4112-a36f-0522d447c329",
   "metadata": {
    "tags": []
   },
   "outputs": [
    {
     "data": {
      "text/plain": [
       "{'model_name': 'OLS significant',\n",
       " 'MAE': 0.5039411034871624,\n",
       " 'MSE': 0.4703702807240029,\n",
       " 'RMSE': 0.6858354618448967}"
      ]
     },
     "execution_count": 96,
     "metadata": {},
     "output_type": "execute_result"
    }
   ],
   "source": [
    "MAE = metrics.mean_absolute_error(df.int_rate,df.int_rate_fitted)\n",
    "MSE = metrics.mean_squared_error(df.int_rate,df.int_rate_fitted)\n",
    "RMSE = np.sqrt(metrics.mean_squared_error(df.int_rate,df.int_rate_fitted))\n",
    "\n",
    "ols_sig_metrics = {\n",
    "        'model_name': 'OLS significant',\n",
    "        'MAE': MAE,\n",
    "        'MSE': MSE,\n",
    "        'RMSE': RMSE\n",
    "        }\n"
   ]
  },
  {
   "cell_type": "code",
   "execution_count": 97,
   "id": "093e4f3d-dd69-4d73-a6d7-f965b4cc15aa",
   "metadata": {
    "tags": []
   },
   "outputs": [
    {
     "data": {
      "image/png": "[encoded data removed]",
      "text/plain": [
       "<Figure size 640x480 with 1 Axes>"
      ]
     },
     "metadata": {},
     "output_type": "display_data"
    }
   ],
   "source": [
    "plt.scatter(df['int_rate_fitted'], df['residuals'])\n",
    "plt.title('Residuals vs Fitted')\n",
    "plt.xlabel('Fitted values')\n",
    "plt.ylabel('Residuals')\n",
    "\n",
    "plt.show()"
   ]
  },
  {
   "cell_type": "code",
   "execution_count": 98,
   "id": "462c162e-fa62-4ec1-8402-90a171cf7bef",
   "metadata": {
    "tags": []
   },
   "outputs": [
    {
     "data": {
      "text/html": [
       "<div>\n",
       "<style scoped>\n",
       "    .dataframe tbody tr th:only-of-type {\n",
       "        vertical-align: middle;\n",
       "    }\n",
       "\n",
       "    .dataframe tbody tr th {\n",
       "        vertical-align: top;\n",
       "    }\n",
       "\n",
       "    .dataframe thead th {\n",
       "        text-align: right;\n",
       "    }\n",
       "</style>\n",
       "<table border=\"1\" class=\"dataframe\">\n",
       "  <thead>\n",
       "    <tr style=\"text-align: right;\">\n",
       "      <th></th>\n",
       "      <th>residuals</th>\n",
       "    </tr>\n",
       "  </thead>\n",
       "  <tbody>\n",
       "    <tr>\n",
       "      <th>322395</th>\n",
       "      <td>-23.228248</td>\n",
       "    </tr>\n",
       "    <tr>\n",
       "      <th>118541</th>\n",
       "      <td>-22.582990</td>\n",
       "    </tr>\n",
       "    <tr>\n",
       "      <th>207195</th>\n",
       "      <td>-20.934070</td>\n",
       "    </tr>\n",
       "    <tr>\n",
       "      <th>322651</th>\n",
       "      <td>-19.888185</td>\n",
       "    </tr>\n",
       "    <tr>\n",
       "      <th>314355</th>\n",
       "      <td>-18.883933</td>\n",
       "    </tr>\n",
       "    <tr>\n",
       "      <th>259252</th>\n",
       "      <td>-18.857746</td>\n",
       "    </tr>\n",
       "    <tr>\n",
       "      <th>313377</th>\n",
       "      <td>-18.723421</td>\n",
       "    </tr>\n",
       "    <tr>\n",
       "      <th>182961</th>\n",
       "      <td>-18.682558</td>\n",
       "    </tr>\n",
       "    <tr>\n",
       "      <th>77479</th>\n",
       "      <td>-18.282049</td>\n",
       "    </tr>\n",
       "    <tr>\n",
       "      <th>300218</th>\n",
       "      <td>-17.502827</td>\n",
       "    </tr>\n",
       "  </tbody>\n",
       "</table>\n",
       "</div>"
      ],
      "text/plain": [
       "        residuals\n",
       "322395 -23.228248\n",
       "118541 -22.582990\n",
       "207195 -20.934070\n",
       "322651 -19.888185\n",
       "314355 -18.883933\n",
       "259252 -18.857746\n",
       "313377 -18.723421\n",
       "182961 -18.682558\n",
       "77479  -18.282049\n",
       "300218 -17.502827"
      ]
     },
     "execution_count": 98,
     "metadata": {},
     "output_type": "execute_result"
    }
   ],
   "source": [
    "df[['residuals']].sort_values(by='residuals',ascending = True).head(10)"
   ]
  },
  {
   "cell_type": "markdown",
   "id": "77e86d6e-4882-4a08-bc48-393bd9e932e9",
   "metadata": {
    "tags": []
   },
   "source": [
    "There are three primary metrics used to evaluate linear models. These are: \n",
    "- Mean absolute error (MAE), \n",
    "- Mean squared error (MSE), \n",
    "- or Root mean squared error (RMSE)\n",
    "\n",
    "We will calculate all of them to check the model quality"
   ]
  },
  {
   "cell_type": "code",
   "execution_count": 99,
   "id": "8e69ca37-8163-4cb0-a0ae-bcd91adebdc4",
   "metadata": {
    "tags": []
   },
   "outputs": [
    {
     "name": "stdout",
     "output_type": "stream",
     "text": [
      "MAE: 0.5039411034871624\n",
      "MSE: 0.4703702807240029\n",
      "RMSE: 0.6858354618448967\n"
     ]
    }
   ],
   "source": [
    "MAE = metrics.mean_absolute_error(df.int_rate,df.int_rate_fitted)\n",
    "MSE = metrics.mean_squared_error(df.int_rate,df.int_rate_fitted)\n",
    "RMSE = np.sqrt(metrics.mean_squared_error(df.int_rate,df.int_rate_fitted))\n",
    "\n",
    "print(\"MAE:\", MAE)\n",
    "print(\"MSE:\", MSE)\n",
    "print(\"RMSE:\", RMSE)"
   ]
  },
  {
   "cell_type": "code",
   "execution_count": 100,
   "id": "2f851e3a-e724-4040-99b1-c398f64df1d0",
   "metadata": {
    "tags": []
   },
   "outputs": [
    {
     "data": {
      "text/html": [
       "<div>\n",
       "<style scoped>\n",
       "    .dataframe tbody tr th:only-of-type {\n",
       "        vertical-align: middle;\n",
       "    }\n",
       "\n",
       "    .dataframe tbody tr th {\n",
       "        vertical-align: top;\n",
       "    }\n",
       "\n",
       "    .dataframe thead th {\n",
       "        text-align: right;\n",
       "    }\n",
       "</style>\n",
       "<table border=\"1\" class=\"dataframe\">\n",
       "  <thead>\n",
       "    <tr style=\"text-align: right;\">\n",
       "      <th></th>\n",
       "      <th>residuals</th>\n",
       "    </tr>\n",
       "  </thead>\n",
       "  <tbody>\n",
       "    <tr>\n",
       "      <th>count</th>\n",
       "      <td>328893.00000</td>\n",
       "    </tr>\n",
       "    <tr>\n",
       "      <th>mean</th>\n",
       "      <td>0.00000</td>\n",
       "    </tr>\n",
       "    <tr>\n",
       "      <th>std</th>\n",
       "      <td>0.68584</td>\n",
       "    </tr>\n",
       "    <tr>\n",
       "      <th>min</th>\n",
       "      <td>-23.22825</td>\n",
       "    </tr>\n",
       "    <tr>\n",
       "      <th>25%</th>\n",
       "      <td>-0.45779</td>\n",
       "    </tr>\n",
       "    <tr>\n",
       "      <th>50%</th>\n",
       "      <td>-0.13393</td>\n",
       "    </tr>\n",
       "    <tr>\n",
       "      <th>75%</th>\n",
       "      <td>0.30556</td>\n",
       "    </tr>\n",
       "    <tr>\n",
       "      <th>max</th>\n",
       "      <td>3.08094</td>\n",
       "    </tr>\n",
       "  </tbody>\n",
       "</table>\n",
       "</div>"
      ],
      "text/plain": [
       "          residuals\n",
       "count  328893.00000\n",
       "mean        0.00000\n",
       "std         0.68584\n",
       "min       -23.22825\n",
       "25%        -0.45779\n",
       "50%        -0.13393\n",
       "75%         0.30556\n",
       "max         3.08094"
      ]
     },
     "execution_count": 100,
     "metadata": {},
     "output_type": "execute_result"
    }
   ],
   "source": [
    "round(df[['residuals']].describe(),5)"
   ]
  },
  {
   "cell_type": "code",
   "execution_count": 101,
   "id": "6b9b1d2a-69dd-429d-8d38-c2974f2e4892",
   "metadata": {
    "tags": []
   },
   "outputs": [
    {
     "name": "stdout",
     "output_type": "stream",
     "text": [
      "Residuals quantiles:\n",
      "5th:  -0.7669836232089433\n",
      "90th: 0.9396037126747252\n",
      "95th: 1.3429932385955325\n",
      "98th: 1.579345086697697\n",
      "99th: 2.191098665329537\n"
     ]
    }
   ],
   "source": [
    "print('Residuals quantiles:')\n",
    "print('5th: ',np.quantile(df.residuals,0.05))\n",
    "print('90th:',np.quantile(df.residuals,0.90))\n",
    "print('95th:',np.quantile(df.residuals,0.95))\n",
    "print('98th:',np.quantile(df.residuals,0.98))\n",
    "print('99th:',np.quantile(df.residuals,0.99))"
   ]
  },
  {
   "cell_type": "markdown",
   "id": "c2ace495-b1dd-4abb-bc1c-a33221439aa8",
   "metadata": {
    "tags": []
   },
   "source": [
    "Shapiro-Wilk test for normality:"
   ]
  },
  {
   "cell_type": "code",
   "execution_count": 102,
   "id": "32fc7f96-5b6e-48da-81bf-c24148e3b67b",
   "metadata": {
    "tags": []
   },
   "outputs": [
    {
     "data": {
      "text/plain": [
       "ShapiroResult(statistic=0.878961443901062, pvalue=0.0)"
      ]
     },
     "execution_count": 102,
     "metadata": {},
     "output_type": "execute_result"
    }
   ],
   "source": [
    "shapiro(df.residuals)"
   ]
  },
  {
   "cell_type": "markdown",
   "id": "0f7b7965-a7d8-4fb5-8f49-7e704a1ff344",
   "metadata": {},
   "source": [
    "Since the p-value is less than 0.05, we reject the null hypothesis of the Shapiro-Wilk test.\n",
    "This means we have sufficient evidence to say that the model residuals does not come from a normal distribution."
   ]
  },
  {
   "cell_type": "markdown",
   "id": "11506000-5bb5-4572-ac70-5df8d6488009",
   "metadata": {},
   "source": [
    "Kolmogorov-Smirnov test:"
   ]
  },
  {
   "cell_type": "code",
   "execution_count": 103,
   "id": "9b900695-8662-42be-80ef-81619d6dca4d",
   "metadata": {
    "tags": []
   },
   "outputs": [
    {
     "data": {
      "text/plain": [
       "KstestResult(statistic=0.17167212263513398, pvalue=0.0, statistic_location=-0.7726317687130084, statistic_sign=-1)"
      ]
     },
     "execution_count": 103,
     "metadata": {},
     "output_type": "execute_result"
    }
   ],
   "source": [
    "kstest(df.residuals, 'norm')"
   ]
  },
  {
   "cell_type": "markdown",
   "id": "d60be61f-d681-4d7c-8fe3-c6ed0257b360",
   "metadata": {},
   "source": [
    "Since the p-value is less than .05, we reject the null hypothesis of the Kolmogorov-Smirnov test. This means we have sufficient evidence to say that residuals does not come from a normal distribution."
   ]
  },
  {
   "cell_type": "markdown",
   "id": "4f11dee9-2221-4e21-bbaf-0561f1f96ebf",
   "metadata": {
    "tags": []
   },
   "source": [
    "## Linear regresion from ML models"
   ]
  },
  {
   "cell_type": "code",
   "execution_count": 104,
   "id": "7f86aa98-dc5a-4e63-8c77-ba5412a9c031",
   "metadata": {
    "tags": []
   },
   "outputs": [
    {
     "name": "stdout",
     "output_type": "stream",
     "text": [
      "CPU times: user 6.29 s, sys: 195 ms, total: 6.48 s\n",
      "Wall time: 1.19 s\n"
     ]
    }
   ],
   "source": [
    "%%time\n",
    "lr = LinearRegression()\n",
    "lr.fit(x_train, y_train)\n",
    "y_pred = lr.predict(x_test)"
   ]
  },
  {
   "cell_type": "code",
   "execution_count": 105,
   "id": "78c08827-0bde-4c53-aa47-414ce625a767",
   "metadata": {
    "tags": []
   },
   "outputs": [
    {
     "name": "stdout",
     "output_type": "stream",
     "text": [
      "Mean Squared Error =  0.46355102260904035\n",
      "R2 Score =  0.9828696884642393\n"
     ]
    }
   ],
   "source": [
    "mse = mean_squared_error(y_test, y_pred)\n",
    "r_squared = r2_score(y_test, y_pred)\n",
    "print('Mean Squared Error = ', mse)\n",
    "print('R2 Score = ', r_squared)"
   ]
  },
  {
   "cell_type": "code",
   "execution_count": 106,
   "id": "106fb88c-637a-4204-8200-d3f6b35ffb21",
   "metadata": {
    "tags": []
   },
   "outputs": [
    {
     "data": {
      "text/html": [
       "<div>\n",
       "<style scoped>\n",
       "    .dataframe tbody tr th:only-of-type {\n",
       "        vertical-align: middle;\n",
       "    }\n",
       "\n",
       "    .dataframe tbody tr th {\n",
       "        vertical-align: top;\n",
       "    }\n",
       "\n",
       "    .dataframe thead th {\n",
       "        text-align: right;\n",
       "    }\n",
       "</style>\n",
       "<table border=\"1\" class=\"dataframe\">\n",
       "  <thead>\n",
       "    <tr style=\"text-align: right;\">\n",
       "      <th></th>\n",
       "      <th>int_rate</th>\n",
       "      <th>int_rate_pred</th>\n",
       "      <th>res</th>\n",
       "    </tr>\n",
       "  </thead>\n",
       "  <tbody>\n",
       "    <tr>\n",
       "      <th>0</th>\n",
       "      <td>15.05</td>\n",
       "      <td>15.556441</td>\n",
       "      <td>-0.506441</td>\n",
       "    </tr>\n",
       "    <tr>\n",
       "      <th>1</th>\n",
       "      <td>14.08</td>\n",
       "      <td>15.111622</td>\n",
       "      <td>-1.031622</td>\n",
       "    </tr>\n",
       "    <tr>\n",
       "      <th>2</th>\n",
       "      <td>7.35</td>\n",
       "      <td>7.088190</td>\n",
       "      <td>0.261810</td>\n",
       "    </tr>\n",
       "  </tbody>\n",
       "</table>\n",
       "</div>"
      ],
      "text/plain": [
       "   int_rate  int_rate_pred       res\n",
       "0     15.05      15.556441 -0.506441\n",
       "1     14.08      15.111622 -1.031622\n",
       "2      7.35       7.088190  0.261810"
      ]
     },
     "execution_count": 106,
     "metadata": {},
     "output_type": "execute_result"
    }
   ],
   "source": [
    "df = pd.concat([y_test, pd.DataFrame(y_pred, columns = ['int_rate_pred'])],axis=1)\n",
    "df['res'] = df.int_rate - df.int_rate_pred\n",
    "df.head(3)"
   ]
  },
  {
   "cell_type": "code",
   "execution_count": 107,
   "id": "4ffcb2ee-bc19-4d5b-81da-6ec3871f3c6a",
   "metadata": {
    "tags": []
   },
   "outputs": [
    {
     "name": "stdout",
     "output_type": "stream",
     "text": [
      "MAE: 0.48947052920201883\n",
      "MSE: 0.46355102260904035\n",
      "RMSE: 0.6808458141231687\n"
     ]
    },
    {
     "data": {
      "text/plain": [
       "{'model_name': 'Linear Regresion',\n",
       " 'MAE': 0.48947052920201883,\n",
       " 'MSE': 0.46355102260904035,\n",
       " 'RMSE': 0.6808458141231687}"
      ]
     },
     "execution_count": 107,
     "metadata": {},
     "output_type": "execute_result"
    }
   ],
   "source": [
    "MAE = metrics.mean_absolute_error(df.int_rate,df.int_rate_pred)\n",
    "MSE = metrics.mean_squared_error(df.int_rate,df.int_rate_pred)\n",
    "RMSE = np.sqrt(metrics.mean_squared_error(df.int_rate,df.int_rate_pred))\n",
    "\n",
    "print(\"MAE:\", MAE)\n",
    "print(\"MSE:\", MSE)\n",
    "print(\"RMSE:\", RMSE)\n",
    "\n",
    "lr_metrics = {\n",
    "        'model_name': 'Linear Regresion',\n",
    "        'MAE': MAE,\n",
    "        'MSE': MSE,\n",
    "        'RMSE': RMSE\n",
    "        }\n",
    "lr_metrics"
   ]
  },
  {
   "cell_type": "code",
   "execution_count": 108,
   "id": "4fe31a41-4d7c-4862-b71f-ca60183b3ead",
   "metadata": {
    "tags": []
   },
   "outputs": [
    {
     "data": {
      "text/html": [
       "<div>\n",
       "<style scoped>\n",
       "    .dataframe tbody tr th:only-of-type {\n",
       "        vertical-align: middle;\n",
       "    }\n",
       "\n",
       "    .dataframe tbody tr th {\n",
       "        vertical-align: top;\n",
       "    }\n",
       "\n",
       "    .dataframe thead th {\n",
       "        text-align: right;\n",
       "    }\n",
       "</style>\n",
       "<table border=\"1\" class=\"dataframe\">\n",
       "  <thead>\n",
       "    <tr style=\"text-align: right;\">\n",
       "      <th></th>\n",
       "      <th>res</th>\n",
       "    </tr>\n",
       "  </thead>\n",
       "  <tbody>\n",
       "    <tr>\n",
       "      <th>count</th>\n",
       "      <td>82224.00000</td>\n",
       "    </tr>\n",
       "    <tr>\n",
       "      <th>mean</th>\n",
       "      <td>0.00434</td>\n",
       "    </tr>\n",
       "    <tr>\n",
       "      <th>std</th>\n",
       "      <td>0.68084</td>\n",
       "    </tr>\n",
       "    <tr>\n",
       "      <th>min</th>\n",
       "      <td>-24.87573</td>\n",
       "    </tr>\n",
       "    <tr>\n",
       "      <th>25%</th>\n",
       "      <td>-0.43722</td>\n",
       "    </tr>\n",
       "    <tr>\n",
       "      <th>50%</th>\n",
       "      <td>-0.10356</td>\n",
       "    </tr>\n",
       "    <tr>\n",
       "      <th>75%</th>\n",
       "      <td>0.29820</td>\n",
       "    </tr>\n",
       "    <tr>\n",
       "      <th>max</th>\n",
       "      <td>33.41573</td>\n",
       "    </tr>\n",
       "  </tbody>\n",
       "</table>\n",
       "</div>"
      ],
      "text/plain": [
       "               res\n",
       "count  82224.00000\n",
       "mean       0.00434\n",
       "std        0.68084\n",
       "min      -24.87573\n",
       "25%       -0.43722\n",
       "50%       -0.10356\n",
       "75%        0.29820\n",
       "max       33.41573"
      ]
     },
     "execution_count": 108,
     "metadata": {},
     "output_type": "execute_result"
    }
   ],
   "source": [
    "round(df[['res']].describe(),5)"
   ]
  },
  {
   "cell_type": "markdown",
   "id": "11e0b1a1-0427-468d-af3b-fa673790a434",
   "metadata": {
    "tags": []
   },
   "source": [
    "# Random Forest Regressor"
   ]
  },
  {
   "cell_type": "code",
   "execution_count": 109,
   "id": "e504f771-6713-44a3-9381-bda8772af968",
   "metadata": {
    "tags": []
   },
   "outputs": [
    {
     "name": "stdout",
     "output_type": "stream",
     "text": [
      "CPU times: user 3min 8s, sys: 292 ms, total: 3min 8s\n",
      "Wall time: 3min 9s\n"
     ]
    }
   ],
   "source": [
    "%%time\n",
    "rf = RandomForestRegressor(n_estimators=100, random_state=42)\n",
    "rf.fit(x_train, y_train)\n",
    "y_pred = rf.predict(x_test)"
   ]
  },
  {
   "cell_type": "code",
   "execution_count": 110,
   "id": "90e8eef6-ea80-4024-9d80-286a1d0f00c1",
   "metadata": {
    "tags": []
   },
   "outputs": [
    {
     "name": "stdout",
     "output_type": "stream",
     "text": [
      "Mean Squared Error =  0.056753243894968934\n",
      "R2 Score =  0.997902710378862\n"
     ]
    }
   ],
   "source": [
    "mse = mean_squared_error(y_test, y_pred)\n",
    "r_squared = r2_score(y_test, y_pred)\n",
    "print('Mean Squared Error = ', mse)\n",
    "print('R2 Score = ', r_squared)"
   ]
  },
  {
   "cell_type": "code",
   "execution_count": 111,
   "id": "1f1882d5-b89f-405f-9194-6f2a13ffcbfa",
   "metadata": {
    "tags": []
   },
   "outputs": [
    {
     "data": {
      "text/html": [
       "<div>\n",
       "<style scoped>\n",
       "    .dataframe tbody tr th:only-of-type {\n",
       "        vertical-align: middle;\n",
       "    }\n",
       "\n",
       "    .dataframe tbody tr th {\n",
       "        vertical-align: top;\n",
       "    }\n",
       "\n",
       "    .dataframe thead th {\n",
       "        text-align: right;\n",
       "    }\n",
       "</style>\n",
       "<table border=\"1\" class=\"dataframe\">\n",
       "  <thead>\n",
       "    <tr style=\"text-align: right;\">\n",
       "      <th></th>\n",
       "      <th>int_rate</th>\n",
       "      <th>int_rate_pred</th>\n",
       "      <th>res</th>\n",
       "    </tr>\n",
       "  </thead>\n",
       "  <tbody>\n",
       "    <tr>\n",
       "      <th>0</th>\n",
       "      <td>15.05</td>\n",
       "      <td>15.0500</td>\n",
       "      <td>1.740830e-13</td>\n",
       "    </tr>\n",
       "    <tr>\n",
       "      <th>1</th>\n",
       "      <td>14.08</td>\n",
       "      <td>14.0467</td>\n",
       "      <td>3.330000e-02</td>\n",
       "    </tr>\n",
       "    <tr>\n",
       "      <th>2</th>\n",
       "      <td>7.35</td>\n",
       "      <td>7.3710</td>\n",
       "      <td>-2.100000e-02</td>\n",
       "    </tr>\n",
       "  </tbody>\n",
       "</table>\n",
       "</div>"
      ],
      "text/plain": [
       "   int_rate  int_rate_pred           res\n",
       "0     15.05        15.0500  1.740830e-13\n",
       "1     14.08        14.0467  3.330000e-02\n",
       "2      7.35         7.3710 -2.100000e-02"
      ]
     },
     "execution_count": 111,
     "metadata": {},
     "output_type": "execute_result"
    }
   ],
   "source": [
    "df = pd.concat([y_test, pd.DataFrame(y_pred, columns = ['int_rate_pred'])],axis=1)\n",
    "df['res'] = df.int_rate - df.int_rate_pred\n",
    "df.head(3)"
   ]
  },
  {
   "cell_type": "code",
   "execution_count": 112,
   "id": "14cd3ea8-c315-41c3-9a0f-d3c042b6b17a",
   "metadata": {
    "tags": []
   },
   "outputs": [
    {
     "name": "stdout",
     "output_type": "stream",
     "text": [
      "MAE: 0.02020308425804879\n",
      "MSE: 0.056753243894968934\n",
      "RMSE: 0.23822939343197963\n"
     ]
    }
   ],
   "source": [
    "MAE = metrics.mean_absolute_error(df.int_rate,df.int_rate_pred)\n",
    "MSE = metrics.mean_squared_error(df.int_rate,df.int_rate_pred)\n",
    "RMSE = np.sqrt(metrics.mean_squared_error(df.int_rate,df.int_rate_pred))\n",
    "\n",
    "print(\"MAE:\", MAE)\n",
    "print(\"MSE:\", MSE)\n",
    "print(\"RMSE:\", RMSE)\n",
    "\n",
    "rf_metrics = {\n",
    "        'model_name': 'Random Forest',\n",
    "        'MAE': MAE,\n",
    "        'MSE': MSE,\n",
    "        'RMSE': RMSE\n",
    "        }"
   ]
  },
  {
   "cell_type": "code",
   "execution_count": 113,
   "id": "df2f214d-d636-4cb0-85ee-f4a46ff4ea86",
   "metadata": {
    "tags": []
   },
   "outputs": [
    {
     "data": {
      "text/html": [
       "<div>\n",
       "<style scoped>\n",
       "    .dataframe tbody tr th:only-of-type {\n",
       "        vertical-align: middle;\n",
       "    }\n",
       "\n",
       "    .dataframe tbody tr th {\n",
       "        vertical-align: top;\n",
       "    }\n",
       "\n",
       "    .dataframe thead th {\n",
       "        text-align: right;\n",
       "    }\n",
       "</style>\n",
       "<table border=\"1\" class=\"dataframe\">\n",
       "  <thead>\n",
       "    <tr style=\"text-align: right;\">\n",
       "      <th></th>\n",
       "      <th>res</th>\n",
       "    </tr>\n",
       "  </thead>\n",
       "  <tbody>\n",
       "    <tr>\n",
       "      <th>count</th>\n",
       "      <td>82224.00000</td>\n",
       "    </tr>\n",
       "    <tr>\n",
       "      <th>mean</th>\n",
       "      <td>0.00110</td>\n",
       "    </tr>\n",
       "    <tr>\n",
       "      <th>std</th>\n",
       "      <td>0.23823</td>\n",
       "    </tr>\n",
       "    <tr>\n",
       "      <th>min</th>\n",
       "      <td>-24.89000</td>\n",
       "    </tr>\n",
       "    <tr>\n",
       "      <th>25%</th>\n",
       "      <td>-0.00000</td>\n",
       "    </tr>\n",
       "    <tr>\n",
       "      <th>50%</th>\n",
       "      <td>0.00000</td>\n",
       "    </tr>\n",
       "    <tr>\n",
       "      <th>75%</th>\n",
       "      <td>0.00000</td>\n",
       "    </tr>\n",
       "    <tr>\n",
       "      <th>max</th>\n",
       "      <td>5.59800</td>\n",
       "    </tr>\n",
       "  </tbody>\n",
       "</table>\n",
       "</div>"
      ],
      "text/plain": [
       "               res\n",
       "count  82224.00000\n",
       "mean       0.00110\n",
       "std        0.23823\n",
       "min      -24.89000\n",
       "25%       -0.00000\n",
       "50%        0.00000\n",
       "75%        0.00000\n",
       "max        5.59800"
      ]
     },
     "execution_count": 113,
     "metadata": {},
     "output_type": "execute_result"
    }
   ],
   "source": [
    "round(df[['res']].describe(),5)"
   ]
  },
  {
   "cell_type": "markdown",
   "id": "6d99c70a-d97d-4ef7-a982-3d4ecb90a599",
   "metadata": {},
   "source": [
    "# Gradient Boosting Regressors"
   ]
  },
  {
   "cell_type": "code",
   "execution_count": 114,
   "id": "c24a6411-9e3c-4c1d-94b9-87baaac76b23",
   "metadata": {
    "tags": []
   },
   "outputs": [
    {
     "name": "stdout",
     "output_type": "stream",
     "text": [
      "CPU times: user 1min 12s, sys: 165 ms, total: 1min 12s\n",
      "Wall time: 1min 12s\n"
     ]
    }
   ],
   "source": [
    "%%time\n",
    "gb_model = GradientBoostingRegressor(n_estimators=100, learning_rate=0.1, max_depth=3, random_state=42)\n",
    "gb_model.fit(x_train, y_train)\n",
    "y_pred = gb_model.predict(x_test)"
   ]
  },
  {
   "cell_type": "code",
   "execution_count": 115,
   "id": "17069843-7af7-4cab-935d-873cd94ffff2",
   "metadata": {
    "tags": []
   },
   "outputs": [
    {
     "name": "stdout",
     "output_type": "stream",
     "text": [
      "Mean Squared Error =  0.06594380479683712\n",
      "R2 Score =  0.9975630774932495\n"
     ]
    }
   ],
   "source": [
    "mse = mean_squared_error(y_test, y_pred)\n",
    "r_squared = r2_score(y_test, y_pred)\n",
    "print('Mean Squared Error = ', mse)\n",
    "print('R2 Score = ', r_squared)"
   ]
  },
  {
   "cell_type": "code",
   "execution_count": 116,
   "id": "ddf5aac6-ebdb-48ed-ad77-dab96a35824f",
   "metadata": {
    "tags": []
   },
   "outputs": [
    {
     "data": {
      "text/html": [
       "<div>\n",
       "<style scoped>\n",
       "    .dataframe tbody tr th:only-of-type {\n",
       "        vertical-align: middle;\n",
       "    }\n",
       "\n",
       "    .dataframe tbody tr th {\n",
       "        vertical-align: top;\n",
       "    }\n",
       "\n",
       "    .dataframe thead th {\n",
       "        text-align: right;\n",
       "    }\n",
       "</style>\n",
       "<table border=\"1\" class=\"dataframe\">\n",
       "  <thead>\n",
       "    <tr style=\"text-align: right;\">\n",
       "      <th></th>\n",
       "      <th>int_rate</th>\n",
       "      <th>int_rate_pred</th>\n",
       "      <th>res</th>\n",
       "    </tr>\n",
       "  </thead>\n",
       "  <tbody>\n",
       "    <tr>\n",
       "      <th>0</th>\n",
       "      <td>15.05</td>\n",
       "      <td>15.017172</td>\n",
       "      <td>0.032828</td>\n",
       "    </tr>\n",
       "    <tr>\n",
       "      <th>1</th>\n",
       "      <td>14.08</td>\n",
       "      <td>14.044171</td>\n",
       "      <td>0.035829</td>\n",
       "    </tr>\n",
       "    <tr>\n",
       "      <th>2</th>\n",
       "      <td>7.35</td>\n",
       "      <td>7.402402</td>\n",
       "      <td>-0.052402</td>\n",
       "    </tr>\n",
       "  </tbody>\n",
       "</table>\n",
       "</div>"
      ],
      "text/plain": [
       "   int_rate  int_rate_pred       res\n",
       "0     15.05      15.017172  0.032828\n",
       "1     14.08      14.044171  0.035829\n",
       "2      7.35       7.402402 -0.052402"
      ]
     },
     "execution_count": 116,
     "metadata": {},
     "output_type": "execute_result"
    }
   ],
   "source": [
    "df = pd.concat([y_test, pd.DataFrame(y_pred, columns = ['int_rate_pred'])],axis=1)\n",
    "df['res'] = df.int_rate - df.int_rate_pred\n",
    "df.head(3)"
   ]
  },
  {
   "cell_type": "code",
   "execution_count": 117,
   "id": "3be44908-a2a8-46a8-b783-81df5f53eac3",
   "metadata": {
    "tags": []
   },
   "outputs": [
    {
     "name": "stdout",
     "output_type": "stream",
     "text": [
      "MAE: 0.09594164357342333\n",
      "MSE: 0.06594380479683712\n",
      "RMSE: 0.2567952585170472\n"
     ]
    }
   ],
   "source": [
    "MAE = metrics.mean_absolute_error(df.int_rate,df.int_rate_pred)\n",
    "MSE = metrics.mean_squared_error(df.int_rate,df.int_rate_pred)\n",
    "RMSE = np.sqrt(metrics.mean_squared_error(df.int_rate,df.int_rate_pred))\n",
    "\n",
    "print(\"MAE:\", MAE)\n",
    "print(\"MSE:\", MSE)\n",
    "print(\"RMSE:\", RMSE)\n",
    "\n",
    "gbm_metrics = {\n",
    "        'model_name': 'Gradient Boosting',\n",
    "        'MAE': MAE,\n",
    "        'MSE': MSE,\n",
    "        'RMSE': RMSE\n",
    "        }"
   ]
  },
  {
   "cell_type": "code",
   "execution_count": 118,
   "id": "5ba8e960-7dba-4b2b-9123-b16c16cd4478",
   "metadata": {
    "tags": []
   },
   "outputs": [
    {
     "data": {
      "text/html": [
       "<div>\n",
       "<style scoped>\n",
       "    .dataframe tbody tr th:only-of-type {\n",
       "        vertical-align: middle;\n",
       "    }\n",
       "\n",
       "    .dataframe tbody tr th {\n",
       "        vertical-align: top;\n",
       "    }\n",
       "\n",
       "    .dataframe thead th {\n",
       "        text-align: right;\n",
       "    }\n",
       "</style>\n",
       "<table border=\"1\" class=\"dataframe\">\n",
       "  <thead>\n",
       "    <tr style=\"text-align: right;\">\n",
       "      <th></th>\n",
       "      <th>res</th>\n",
       "    </tr>\n",
       "  </thead>\n",
       "  <tbody>\n",
       "    <tr>\n",
       "      <th>count</th>\n",
       "      <td>82224.00000</td>\n",
       "    </tr>\n",
       "    <tr>\n",
       "      <th>mean</th>\n",
       "      <td>0.00018</td>\n",
       "    </tr>\n",
       "    <tr>\n",
       "      <th>std</th>\n",
       "      <td>0.25680</td>\n",
       "    </tr>\n",
       "    <tr>\n",
       "      <th>min</th>\n",
       "      <td>-24.89777</td>\n",
       "    </tr>\n",
       "    <tr>\n",
       "      <th>25%</th>\n",
       "      <td>-0.04408</td>\n",
       "    </tr>\n",
       "    <tr>\n",
       "      <th>50%</th>\n",
       "      <td>0.00769</td>\n",
       "    </tr>\n",
       "    <tr>\n",
       "      <th>75%</th>\n",
       "      <td>0.04300</td>\n",
       "    </tr>\n",
       "    <tr>\n",
       "      <th>max</th>\n",
       "      <td>0.87877</td>\n",
       "    </tr>\n",
       "  </tbody>\n",
       "</table>\n",
       "</div>"
      ],
      "text/plain": [
       "               res\n",
       "count  82224.00000\n",
       "mean       0.00018\n",
       "std        0.25680\n",
       "min      -24.89777\n",
       "25%       -0.04408\n",
       "50%        0.00769\n",
       "75%        0.04300\n",
       "max        0.87877"
      ]
     },
     "execution_count": 118,
     "metadata": {},
     "output_type": "execute_result"
    }
   ],
   "source": [
    "round(df[['res']].describe(),5)"
   ]
  },
  {
   "cell_type": "markdown",
   "id": "031af8d5-e307-4227-93da-0b96fcffafef",
   "metadata": {},
   "source": [
    "# Decision Tree Regressor"
   ]
  },
  {
   "cell_type": "code",
   "execution_count": 121,
   "id": "9ef371a0-6486-485d-9e2d-b25d0ee32098",
   "metadata": {
    "tags": []
   },
   "outputs": [
    {
     "name": "stdout",
     "output_type": "stream",
     "text": [
      "CPU times: user 3.54 s, sys: 128 ms, total: 3.67 s\n",
      "Wall time: 3.78 s\n"
     ]
    }
   ],
   "source": [
    "%%time\n",
    "dt_model = DecisionTreeRegressor(random_state=42)\n",
    "dt_model.fit(x_train, y_train)\n",
    "y_pred = dt_model.predict(x_test)"
   ]
  },
  {
   "cell_type": "code",
   "execution_count": 122,
   "id": "78d9d54f-4892-4855-8bac-524b6d4ea5d6",
   "metadata": {
    "tags": []
   },
   "outputs": [
    {
     "name": "stdout",
     "output_type": "stream",
     "text": [
      "Mean Squared Error =  0.09884263475384233\n",
      "R2 Score =  0.9963473165978176\n"
     ]
    }
   ],
   "source": [
    "mse = mean_squared_error(y_test, y_pred)\n",
    "r_squared = r2_score(y_test, y_pred)\n",
    "print('Mean Squared Error = ', mse)\n",
    "print('R2 Score = ', r_squared)"
   ]
  },
  {
   "cell_type": "code",
   "execution_count": 123,
   "id": "a1058bcc-7d5f-4196-bdf7-d6bd268e2ad1",
   "metadata": {
    "tags": []
   },
   "outputs": [
    {
     "data": {
      "text/html": [
       "<div>\n",
       "<style scoped>\n",
       "    .dataframe tbody tr th:only-of-type {\n",
       "        vertical-align: middle;\n",
       "    }\n",
       "\n",
       "    .dataframe tbody tr th {\n",
       "        vertical-align: top;\n",
       "    }\n",
       "\n",
       "    .dataframe thead th {\n",
       "        text-align: right;\n",
       "    }\n",
       "</style>\n",
       "<table border=\"1\" class=\"dataframe\">\n",
       "  <thead>\n",
       "    <tr style=\"text-align: right;\">\n",
       "      <th></th>\n",
       "      <th>int_rate</th>\n",
       "      <th>int_rate_pred</th>\n",
       "      <th>res</th>\n",
       "    </tr>\n",
       "  </thead>\n",
       "  <tbody>\n",
       "    <tr>\n",
       "      <th>0</th>\n",
       "      <td>15.05</td>\n",
       "      <td>15.05</td>\n",
       "      <td>-6.981082e-13</td>\n",
       "    </tr>\n",
       "    <tr>\n",
       "      <th>1</th>\n",
       "      <td>14.08</td>\n",
       "      <td>13.99</td>\n",
       "      <td>9.000000e-02</td>\n",
       "    </tr>\n",
       "    <tr>\n",
       "      <th>2</th>\n",
       "      <td>7.35</td>\n",
       "      <td>7.35</td>\n",
       "      <td>-8.881784e-16</td>\n",
       "    </tr>\n",
       "  </tbody>\n",
       "</table>\n",
       "</div>"
      ],
      "text/plain": [
       "   int_rate  int_rate_pred           res\n",
       "0     15.05          15.05 -6.981082e-13\n",
       "1     14.08          13.99  9.000000e-02\n",
       "2      7.35           7.35 -8.881784e-16"
      ]
     },
     "execution_count": 123,
     "metadata": {},
     "output_type": "execute_result"
    }
   ],
   "source": [
    "df = pd.concat([y_test, pd.DataFrame(y_pred, columns = ['int_rate_pred'])],axis=1)\n",
    "df['res'] = df.int_rate - df.int_rate_pred\n",
    "df.head(3)"
   ]
  },
  {
   "cell_type": "code",
   "execution_count": 124,
   "id": "6f6d1dd9-7ca7-495d-9fb7-d6e6969b5da8",
   "metadata": {
    "tags": []
   },
   "outputs": [
    {
     "name": "stdout",
     "output_type": "stream",
     "text": [
      "MAE: 0.017760751119561713\n",
      "MSE: 0.09884263475384233\n",
      "RMSE: 0.3143924852057414\n"
     ]
    }
   ],
   "source": [
    "MAE = metrics.mean_absolute_error(df.int_rate,df.int_rate_pred)\n",
    "MSE = metrics.mean_squared_error(df.int_rate,df.int_rate_pred)\n",
    "RMSE = np.sqrt(metrics.mean_squared_error(df.int_rate,df.int_rate_pred))\n",
    "\n",
    "print(\"MAE:\", MAE)\n",
    "print(\"MSE:\", MSE)\n",
    "print(\"RMSE:\", RMSE)\n",
    "\n",
    "dt_metrics = {\n",
    "        'model_name': 'Decision Tree',\n",
    "        'MAE': MAE,\n",
    "        'MSE': MSE,\n",
    "        'RMSE': RMSE\n",
    "        }"
   ]
  },
  {
   "cell_type": "code",
   "execution_count": 125,
   "id": "f8769ce4-dc3a-4b3c-8f60-71eb19ecf0a4",
   "metadata": {
    "tags": []
   },
   "outputs": [
    {
     "data": {
      "text/html": [
       "<div>\n",
       "<style scoped>\n",
       "    .dataframe tbody tr th:only-of-type {\n",
       "        vertical-align: middle;\n",
       "    }\n",
       "\n",
       "    .dataframe tbody tr th {\n",
       "        vertical-align: top;\n",
       "    }\n",
       "\n",
       "    .dataframe thead th {\n",
       "        text-align: right;\n",
       "    }\n",
       "</style>\n",
       "<table border=\"1\" class=\"dataframe\">\n",
       "  <thead>\n",
       "    <tr style=\"text-align: right;\">\n",
       "      <th></th>\n",
       "      <th>res</th>\n",
       "    </tr>\n",
       "  </thead>\n",
       "  <tbody>\n",
       "    <tr>\n",
       "      <th>count</th>\n",
       "      <td>82224.00000</td>\n",
       "    </tr>\n",
       "    <tr>\n",
       "      <th>mean</th>\n",
       "      <td>0.00056</td>\n",
       "    </tr>\n",
       "    <tr>\n",
       "      <th>std</th>\n",
       "      <td>0.31439</td>\n",
       "    </tr>\n",
       "    <tr>\n",
       "      <th>min</th>\n",
       "      <td>-24.89000</td>\n",
       "    </tr>\n",
       "    <tr>\n",
       "      <th>25%</th>\n",
       "      <td>-0.00000</td>\n",
       "    </tr>\n",
       "    <tr>\n",
       "      <th>50%</th>\n",
       "      <td>-0.00000</td>\n",
       "    </tr>\n",
       "    <tr>\n",
       "      <th>75%</th>\n",
       "      <td>0.00000</td>\n",
       "    </tr>\n",
       "    <tr>\n",
       "      <th>max</th>\n",
       "      <td>18.85000</td>\n",
       "    </tr>\n",
       "  </tbody>\n",
       "</table>\n",
       "</div>"
      ],
      "text/plain": [
       "               res\n",
       "count  82224.00000\n",
       "mean       0.00056\n",
       "std        0.31439\n",
       "min      -24.89000\n",
       "25%       -0.00000\n",
       "50%       -0.00000\n",
       "75%        0.00000\n",
       "max       18.85000"
      ]
     },
     "execution_count": 125,
     "metadata": {},
     "output_type": "execute_result"
    }
   ],
   "source": [
    "round(df[['res']].describe(),5)"
   ]
  },
  {
   "cell_type": "markdown",
   "id": "dafe68de-8663-4712-8239-dee393980f0a",
   "metadata": {},
   "source": [
    "# Results comparison"
   ]
  },
  {
   "cell_type": "code",
   "execution_count": 145,
   "id": "380f8acc-e2f1-4735-b42b-892f85a6cc34",
   "metadata": {
    "tags": []
   },
   "outputs": [
    {
     "data": {
      "text/html": [
       "<div>\n",
       "<style scoped>\n",
       "    .dataframe tbody tr th:only-of-type {\n",
       "        vertical-align: middle;\n",
       "    }\n",
       "\n",
       "    .dataframe tbody tr th {\n",
       "        vertical-align: top;\n",
       "    }\n",
       "\n",
       "    .dataframe thead th {\n",
       "        text-align: right;\n",
       "    }\n",
       "</style>\n",
       "<table border=\"1\" class=\"dataframe\">\n",
       "  <thead>\n",
       "    <tr style=\"text-align: right;\">\n",
       "      <th></th>\n",
       "      <th>model_name</th>\n",
       "      <th>MAE</th>\n",
       "      <th>MSE</th>\n",
       "      <th>RMSE</th>\n",
       "    </tr>\n",
       "  </thead>\n",
       "  <tbody>\n",
       "    <tr>\n",
       "      <th>0</th>\n",
       "      <td>OLS</td>\n",
       "      <td>0.503941</td>\n",
       "      <td>0.470370</td>\n",
       "      <td>0.685835</td>\n",
       "    </tr>\n",
       "    <tr>\n",
       "      <th>1</th>\n",
       "      <td>OLS significant</td>\n",
       "      <td>0.503941</td>\n",
       "      <td>0.470370</td>\n",
       "      <td>0.685835</td>\n",
       "    </tr>\n",
       "    <tr>\n",
       "      <th>2</th>\n",
       "      <td>Linear Regresion</td>\n",
       "      <td>0.489471</td>\n",
       "      <td>0.463551</td>\n",
       "      <td>0.680846</td>\n",
       "    </tr>\n",
       "    <tr>\n",
       "      <th>3</th>\n",
       "      <td>Random Forest</td>\n",
       "      <td>0.020203</td>\n",
       "      <td>0.056753</td>\n",
       "      <td>0.238229</td>\n",
       "    </tr>\n",
       "    <tr>\n",
       "      <th>4</th>\n",
       "      <td>Gradient Boosting</td>\n",
       "      <td>0.095942</td>\n",
       "      <td>0.065944</td>\n",
       "      <td>0.256795</td>\n",
       "    </tr>\n",
       "    <tr>\n",
       "      <th>5</th>\n",
       "      <td>Decision Tree</td>\n",
       "      <td>0.017761</td>\n",
       "      <td>0.098843</td>\n",
       "      <td>0.314392</td>\n",
       "    </tr>\n",
       "  </tbody>\n",
       "</table>\n",
       "</div>"
      ],
      "text/plain": [
       "          model_name       MAE       MSE      RMSE\n",
       "0                OLS  0.503941  0.470370  0.685835\n",
       "1    OLS significant  0.503941  0.470370  0.685835\n",
       "2   Linear Regresion  0.489471  0.463551  0.680846\n",
       "3      Random Forest  0.020203  0.056753  0.238229\n",
       "4  Gradient Boosting  0.095942  0.065944  0.256795\n",
       "5      Decision Tree  0.017761  0.098843  0.314392"
      ]
     },
     "execution_count": 145,
     "metadata": {},
     "output_type": "execute_result"
    }
   ],
   "source": [
    "df_res = pd.concat([pd.DataFrame.from_dict([ols_metrics]), \n",
    "                    pd.DataFrame.from_dict([ols_sig_metrics]),\n",
    "                    pd.DataFrame.from_dict([lr_metrics]),\n",
    "                    pd.DataFrame.from_dict([rf_metrics]),\n",
    "                    pd.DataFrame.from_dict([gbm_metrics]),\n",
    "                    pd.DataFrame.from_dict([dt_metrics])\n",
    "                   ],axis=0).reset_index().drop(columns=['index'])\n",
    "df_res\n",
    "# pd.DataFrame.from_dict([ols_metrics])"
   ]
  },
  {
   "cell_type": "markdown",
   "id": "3eb5a77b-3a27-45c0-ab5a-fed150cf8e0c",
   "metadata": {},
   "source": [
    "# Conclusion"
   ]
  },
  {
   "cell_type": "markdown",
   "id": "ed0bf13e-acf4-42a5-8b2c-81684ee200d1",
   "metadata": {},
   "source": [
    "- Based on the models quality metrics like MAE, MSE and RMSE the best performing model was Random foreset and Decision tree.\n",
    "- The second best model was Gradient Boosting.\n",
    "- Even clasical linear regresion models had high R^2 results, but based on the error rates ML models performed better."
   ]
  },
  {
   "cell_type": "code",
   "execution_count": null,
   "id": "c7ef5bdf-d76c-48d3-817a-f90cb17a3573",
   "metadata": {},
   "outputs": [],
   "source": []
  }
 ],
 "metadata": {
  "kernelspec": {
   "display_name": "Python 3 (ipykernel)",
   "language": "python",
   "name": "python3"
  },
  "language_info": {
   "codemirror_mode": {
    "name": "ipython",
    "version": 3
   },
   "file_extension": ".py",
   "mimetype": "text/x-python",
   "name": "python",
   "nbconvert_exporter": "python",
   "pygments_lexer": "ipython3",
   "version": "3.11.5"
  }
 },
 "nbformat": 4,
 "nbformat_minor": 5
}
