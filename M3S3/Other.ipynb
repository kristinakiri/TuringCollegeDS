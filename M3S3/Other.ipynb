{
 "cells": [
  {
   "cell_type": "markdown",
   "id": "2e78b3b1-b92e-476a-971e-dc7cf7d055ec",
   "metadata": {},
   "source": [
    "Data loading using compresion method:"
   ]
  },
  {
   "cell_type": "code",
   "execution_count": 1,
   "id": "4070793d-a511-4d35-8dd3-0019828032d1",
   "metadata": {},
   "outputs": [],
   "source": [
    "path_accept = '/Users/kristinazekiene/Documents/LearningPython/TuringCollege/M3S3/data/accepted_2007_to_2018Q4.csv.gz'\n",
    "path_reject = '/Users/kristinazekiene/Documents/LearningPython/TuringCollege/M3S3/data/rejected_2007_to_2018Q4.csv.gz'"
   ]
  },
  {
   "cell_type": "code",
   "execution_count": null,
   "id": "a5e5931a-f16a-4b61-99e1-2c74e46c97c0",
   "metadata": {},
   "outputs": [],
   "source": [
    "%%time\n",
    "df_accept = pd.read_csv(path_accept, compression='gzip')\n",
    "df_accept.info()\n",
    "df_accept.head(3)"
   ]
  },
  {
   "cell_type": "code",
   "execution_count": null,
   "id": "d031e2c3-60d8-4838-a019-481b9e5e8850",
   "metadata": {},
   "outputs": [],
   "source": [
    "col1 = 'year'\n",
    "col2 = 'grade'\n",
    "temp_df = pivot_dim2(dfa_stg,col1,col2,'id')\n",
    "\n",
    "fig = px.bar(temp_df, \n",
    "        x=\"year\", \n",
    "        y=\"Share\", \n",
    "        barmode=\"stack\",\n",
    "        color=\"grade\", \n",
    "        text_auto=True,\n",
    "        title=f'Issued loans distribution per year and grade, %')\n",
    "fig.update_xaxes(automargin = False,\n",
    "       type='category')\n",
    "fig.show()"
   ]
  },
  {
   "cell_type": "code",
   "execution_count": null,
   "id": "28df828a-77bc-448c-94bd-bbbf21543089",
   "metadata": {},
   "outputs": [],
   "source": []
  },
  {
   "cell_type": "markdown",
   "id": "7ccef170-76b9-426c-9f32-ec8a5eedfd1a",
   "metadata": {},
   "source": [
    "Example of ROC AUC curve old and new code:"
   ]
  },
  {
   "cell_type": "code",
   "execution_count": null,
   "id": "b2c46610-a8bc-45c3-a7ae-69ed88fd1f87",
   "metadata": {},
   "outputs": [],
   "source": [
    "# plot_roc_curve has been removed in version 1.2. From 1.2, use RocCurveDisplay instead:\n",
    "\n",
    "# Before sklearn 1.2:\n",
    "\n",
    "from sklearn.metrics import plot_roc_curve\n",
    "svc_disp = plot_roc_curve(svc, X_test, y_test)\n",
    "rfc_disp = plot_roc_curve(rfc, X_test, y_test, ax=svc_disp.ax_)\n",
    "\n",
    "# From sklearn 1.2:\n",
    "\n",
    "from sklearn.metrics import RocCurveDisplay\n",
    "svc_disp = RocCurveDisplay.from_estimator(svc, X_test, y_test)\n",
    "rfc_disp = RocCurveDisplay.from_estimator(rfc, X_test, y_test, ax=svc_disp.ax_)"
   ]
  },
  {
   "cell_type": "code",
   "execution_count": null,
   "id": "b27aaf03-5add-404e-b006-d9f96ccc9298",
   "metadata": {},
   "outputs": [],
   "source": [
    "# https://stackoverflow.com/questions/63967530/importerror-cannot-import-name-plot-confusion-matrix-from-sklearn-metrics\n",
    "from sklearn.metrics import confusion_matrix\n",
    "\n",
    "from sklearn.metrics import ConfusionMatrixDisplay\n",
    "\n",
    "Use these two for instead\n",
    "\n",
    "  for cls in classifiers:\n",
    "  \n",
    "    cls.fit(x_train,np.argmax(y_train,axis=1))\n",
    "\n",
    "    colors = [ 'YlOrBr', 'GnBu', 'Pastel2', 'PuRd']\n",
    "    for cls, ax, c in zip(classifiers, axes.flatten(), colors):\n",
    "    cm = confusion_matrix(np.argmax(y_test, axis=1), cls.predict(x_test))\n",
    "    disp = ConfusionMatrixDisplay(confusion_matrix=cm, \n",
    "    display_labels=names1)\n",
    "    disp.plot(ax=ax, cmap=c)\n",
    "    ax.title.set_text(type(cls).__name__)\n",
    " plt.tight_layout()  \n",
    " plt.show()"
   ]
  }
 ],
 "metadata": {
  "kernelspec": {
   "display_name": "Python 3 (ipykernel)",
   "language": "python",
   "name": "python3"
  },
  "language_info": {
   "codemirror_mode": {
    "name": "ipython",
    "version": 3
   },
   "file_extension": ".py",
   "mimetype": "text/x-python",
   "name": "python",
   "nbconvert_exporter": "python",
   "pygments_lexer": "ipython3",
   "version": "3.11.5"
  }
 },
 "nbformat": 4,
 "nbformat_minor": 5
}
