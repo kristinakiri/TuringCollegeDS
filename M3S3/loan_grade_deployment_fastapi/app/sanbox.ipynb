{
 "cells": [
  {
   "cell_type": "code",
   "execution_count": 17,
   "id": "78746850-e92c-4b42-94e6-b7e680d5340b",
   "metadata": {
    "tags": []
   },
   "outputs": [
    {
     "name": "stderr",
     "output_type": "stream",
     "text": [
      "/Users/kristinazekiene/anaconda3/lib/python3.11/site-packages/sklearn/base.py:1351: DataConversionWarning: A column-vector y was passed when a 1d array was expected. Please change the shape of y to (n_samples,), for example using ravel().\n",
      "  return fit_method(estimator, *args, **kwargs)\n"
     ]
    },
    {
     "name": "stdout",
     "output_type": "stream",
     "text": [
      "              precision    recall  f1-score   support\n",
      "\n",
      "         0.0       0.98      0.95      0.96       491\n",
      "         1.0       0.95      0.97      0.96       491\n",
      "         2.0       0.96      0.98      0.97       491\n",
      "         3.0       0.80      0.77      0.79       491\n",
      "         4.0       0.62      0.55      0.58       491\n",
      "         5.0       0.66      0.64      0.65       491\n",
      "         6.0       0.81      0.95      0.87       491\n",
      "\n",
      "    accuracy                           0.83      3437\n",
      "   macro avg       0.83      0.83      0.83      3437\n",
      "weighted avg       0.83      0.83      0.83      3437\n",
      "\n",
      "Accuracy: 82.921152167588 %\n"
     ]
    },
    {
     "data": {
      "text/plain": [
       "['trained_model.pkl']"
      ]
     },
     "execution_count": 17,
     "metadata": {},
     "output_type": "execute_result"
    }
   ],
   "source": [
    "import numpy as np\n",
    "import pandas as pd\n",
    "from sklearn.impute import SimpleImputer \n",
    "from sklearn.preprocessing import StandardScaler\n",
    "from sklearn.preprocessing import MinMaxScaler\n",
    "from imblearn.over_sampling import SMOTE\n",
    "from imblearn.under_sampling import RandomUnderSampler\n",
    "from sklearn.pipeline import Pipeline\n",
    "from sklearn.metrics import accuracy_score, classification_report\n",
    "from sklearn.model_selection import cross_val_score\n",
    "\n",
    "import joblib\n",
    "from joblib import dump\n",
    "from sklearn.ensemble import RandomForestClassifier\n",
    "\n",
    "    \n",
    "# Read the Data\n",
    "df_x = pd.read_csv('./data/x_train_ohot_en.csv')\n",
    "df_y = pd.read_csv('./data/y_train_ohot_en.csv')\n",
    "\n",
    "df_x_test = pd.read_csv('./data/x_test_ohot_en.csv')\n",
    "df_y_test = pd.read_csv('./data/y_test_ohot_en.csv')\n",
    "\n",
    "# Oversampling\n",
    "# sm = SMOTE()\\\n",
    "rus = RandomUnderSampler(random_state=42)\n",
    "\n",
    "X_train, y_train = rus.fit_resample(df_x, df_y) \n",
    "X_test, y_test = rus.fit_resample(df_x_test, df_y_test) \n",
    "\n",
    "\n",
    "# Scaling\n",
    "cols = list(X_train.columns)\n",
    "scaler = MinMaxScaler()\n",
    "\n",
    "    \n",
    "X_train_s = scaler.fit_transform(X_train)\n",
    "X_train = pd.DataFrame(X_train_s, columns=list(X_train.columns))\n",
    "\n",
    "X_test_s = scaler.fit_transform(X_test)\n",
    "X_test = pd.DataFrame(X_test_s, columns=list(X_test.columns))\n",
    "\n",
    "\n",
    "# # Initialize and train the Random Forest model\n",
    "rf_pipeline = Pipeline([('classifier', RandomForestClassifier())])\n",
    "\n",
    "rf_pipeline.fit(X_train, y_train)\n",
    "\n",
    "# Testing the Pipeline\n",
    "\n",
    "y_pred = rf_pipeline.predict(X_test)\n",
    "print(classification_report(y_test, y_pred))\n",
    "print('Accuracy: {} %'.format(100 * accuracy_score(y_test, y_pred)))\n",
    "\n",
    "# Saving the trained model\n",
    "\n",
    "dump(rf_pipeline, 'rf_classifier.joblib')\n",
    "\n",
    "joblib.dump(rf_pipeline, 'trained_model.pkl')"
   ]
  },
  {
   "cell_type": "code",
   "execution_count": 52,
   "id": "6ee8eca9-1948-4210-b578-01fb3f7008e5",
   "metadata": {
    "tags": []
   },
   "outputs": [
    {
     "data": {
      "text/html": [
       "<div>\n",
       "<style scoped>\n",
       "    .dataframe tbody tr th:only-of-type {\n",
       "        vertical-align: middle;\n",
       "    }\n",
       "\n",
       "    .dataframe tbody tr th {\n",
       "        vertical-align: top;\n",
       "    }\n",
       "\n",
       "    .dataframe thead th {\n",
       "        text-align: right;\n",
       "    }\n",
       "</style>\n",
       "<table border=\"1\" class=\"dataframe\">\n",
       "  <thead>\n",
       "    <tr style=\"text-align: right;\">\n",
       "      <th></th>\n",
       "      <th>feature_name</th>\n",
       "      <th>min_</th>\n",
       "      <th>std_</th>\n",
       "    </tr>\n",
       "  </thead>\n",
       "  <tbody>\n",
       "    <tr>\n",
       "      <th>0</th>\n",
       "      <td>term</td>\n",
       "      <td>0.00000</td>\n",
       "      <td>0.497187</td>\n",
       "    </tr>\n",
       "    <tr>\n",
       "      <th>1</th>\n",
       "      <td>emp_length</td>\n",
       "      <td>0.00000</td>\n",
       "      <td>3.109631</td>\n",
       "    </tr>\n",
       "    <tr>\n",
       "      <th>2</th>\n",
       "      <td>loan_amnt</td>\n",
       "      <td>0.00010</td>\n",
       "      <td>0.000941</td>\n",
       "    </tr>\n",
       "    <tr>\n",
       "      <th>3</th>\n",
       "      <td>funded_amnt</td>\n",
       "      <td>0.00010</td>\n",
       "      <td>0.000941</td>\n",
       "    </tr>\n",
       "    <tr>\n",
       "      <th>4</th>\n",
       "      <td>int_rate</td>\n",
       "      <td>0.00067</td>\n",
       "      <td>0.000973</td>\n",
       "    </tr>\n",
       "    <tr>\n",
       "      <th>...</th>\n",
       "      <td>...</td>\n",
       "      <td>...</td>\n",
       "      <td>...</td>\n",
       "    </tr>\n",
       "    <tr>\n",
       "      <th>88</th>\n",
       "      <td>ohe__addr_state_WI</td>\n",
       "      <td>0.00000</td>\n",
       "      <td>0.104826</td>\n",
       "    </tr>\n",
       "    <tr>\n",
       "      <th>89</th>\n",
       "      <td>ohe__addr_state_WV</td>\n",
       "      <td>0.00000</td>\n",
       "      <td>0.045131</td>\n",
       "    </tr>\n",
       "    <tr>\n",
       "      <th>90</th>\n",
       "      <td>ohe__addr_state_WY</td>\n",
       "      <td>0.00000</td>\n",
       "      <td>0.052095</td>\n",
       "    </tr>\n",
       "    <tr>\n",
       "      <th>91</th>\n",
       "      <td>ohe__application_type_Individual</td>\n",
       "      <td>0.00000</td>\n",
       "      <td>0.139590</td>\n",
       "    </tr>\n",
       "    <tr>\n",
       "      <th>92</th>\n",
       "      <td>ohe__application_type_JointApp</td>\n",
       "      <td>0.00000</td>\n",
       "      <td>0.139590</td>\n",
       "    </tr>\n",
       "  </tbody>\n",
       "</table>\n",
       "<p>93 rows × 3 columns</p>\n",
       "</div>"
      ],
      "text/plain": [
       "                        feature_name     min_      std_\n",
       "0                               term  0.00000  0.497187\n",
       "1                         emp_length  0.00000  3.109631\n",
       "2                          loan_amnt  0.00010  0.000941\n",
       "3                        funded_amnt  0.00010  0.000941\n",
       "4                           int_rate  0.00067  0.000973\n",
       "..                               ...      ...       ...\n",
       "88                ohe__addr_state_WI  0.00000  0.104826\n",
       "89                ohe__addr_state_WV  0.00000  0.045131\n",
       "90                ohe__addr_state_WY  0.00000  0.052095\n",
       "91  ohe__application_type_Individual  0.00000  0.139590\n",
       "92    ohe__application_type_JointApp  0.00000  0.139590\n",
       "\n",
       "[93 rows x 3 columns]"
      ]
     },
     "execution_count": 52,
     "metadata": {},
     "output_type": "execute_result"
    }
   ],
   "source": [
    "scaler_params = pd.DataFrame(columns=['feature_name','min_','std_'])\n",
    "for c in range(len(cols)):\n",
    "    scaler_params_stg = pd.DataFrame.from_dict({\"feature_name\": [cols[c]],  \n",
    "                                                \"min_\": [X_train[cols[c]].min()],  \n",
    "                                                \"std_\": [X_train[cols[c]].std()]})\n",
    "    scaler_params = pd.concat([scaler_params, scaler_params_stg], ignore_index = True) \n",
    "\n",
    "scaler_params    \n",
    "    # scaled_data[c] = all_scalers[c].minmax_scaler(X_train[c])"
   ]
  },
  {
   "cell_type": "code",
   "execution_count": 58,
   "id": "9ddee9c5-73df-404e-8427-cbc66df7b79c",
   "metadata": {
    "tags": []
   },
   "outputs": [],
   "source": [
    "def std_scaler(x,min_,std_):\n",
    "    return (x - min_) / std_\n",
    "\n",
    "for i in range(len(cols)):\n",
    "    min_info = scaler_params[scaler_params.feature_name == cols[i]].min_\n",
    "    stf_info = scaler_params[scaler_params.feature_name == cols[i]].std_\n",
    "    \n",
    "    X_train[cols[i]] = X_train.apply(lambda x: std_scaler(x[cols[i]],min_info,stf_info),axis=1)\n",
    "    "
   ]
  },
  {
   "cell_type": "code",
   "execution_count": 59,
   "id": "3d101af6-9d79-4160-9d41-3f42c31dc5ad",
   "metadata": {
    "tags": []
   },
   "outputs": [
    {
     "data": {
      "text/html": [
       "<div>\n",
       "<style scoped>\n",
       "    .dataframe tbody tr th:only-of-type {\n",
       "        vertical-align: middle;\n",
       "    }\n",
       "\n",
       "    .dataframe tbody tr th {\n",
       "        vertical-align: top;\n",
       "    }\n",
       "\n",
       "    .dataframe thead th {\n",
       "        text-align: right;\n",
       "    }\n",
       "</style>\n",
       "<table border=\"1\" class=\"dataframe\">\n",
       "  <thead>\n",
       "    <tr style=\"text-align: right;\">\n",
       "      <th></th>\n",
       "      <th>term</th>\n",
       "      <th>emp_length</th>\n",
       "      <th>loan_amnt</th>\n",
       "      <th>funded_amnt</th>\n",
       "      <th>int_rate</th>\n",
       "      <th>installment</th>\n",
       "      <th>annual_inc</th>\n",
       "      <th>dti</th>\n",
       "      <th>fico_range_low</th>\n",
       "      <th>fico_range_high</th>\n",
       "      <th>...</th>\n",
       "      <th>ohe__addr_state_TX</th>\n",
       "      <th>ohe__addr_state_UT</th>\n",
       "      <th>ohe__addr_state_VA</th>\n",
       "      <th>ohe__addr_state_VT</th>\n",
       "      <th>ohe__addr_state_WA</th>\n",
       "      <th>ohe__addr_state_WI</th>\n",
       "      <th>ohe__addr_state_WV</th>\n",
       "      <th>ohe__addr_state_WY</th>\n",
       "      <th>ohe__application_type_Individual</th>\n",
       "      <th>ohe__application_type_JointApp</th>\n",
       "    </tr>\n",
       "  </thead>\n",
       "  <tbody>\n",
       "    <tr>\n",
       "      <th>208220</th>\n",
       "      <td>0.0</td>\n",
       "      <td>0.0</td>\n",
       "      <td>0.427199</td>\n",
       "      <td>0.427199</td>\n",
       "      <td>0.000000</td>\n",
       "      <td>0.408192</td>\n",
       "      <td>1.147678</td>\n",
       "      <td>1.462101</td>\n",
       "      <td>1.356820</td>\n",
       "      <td>1.356801</td>\n",
       "      <td>...</td>\n",
       "      <td>3.545269</td>\n",
       "      <td>0.0</td>\n",
       "      <td>0.0</td>\n",
       "      <td>0.0</td>\n",
       "      <td>0.0</td>\n",
       "      <td>0.0</td>\n",
       "      <td>0.0</td>\n",
       "      <td>0.0</td>\n",
       "      <td>7.163839</td>\n",
       "      <td>0.0</td>\n",
       "    </tr>\n",
       "    <tr>\n",
       "      <th>206713</th>\n",
       "      <td>0.0</td>\n",
       "      <td>0.0</td>\n",
       "      <td>0.640799</td>\n",
       "      <td>0.640799</td>\n",
       "      <td>0.345636</td>\n",
       "      <td>0.642189</td>\n",
       "      <td>0.789892</td>\n",
       "      <td>0.574995</td>\n",
       "      <td>1.187217</td>\n",
       "      <td>1.187201</td>\n",
       "      <td>...</td>\n",
       "      <td>0.000000</td>\n",
       "      <td>0.0</td>\n",
       "      <td>0.0</td>\n",
       "      <td>0.0</td>\n",
       "      <td>0.0</td>\n",
       "      <td>0.0</td>\n",
       "      <td>0.0</td>\n",
       "      <td>0.0</td>\n",
       "      <td>7.163839</td>\n",
       "      <td>0.0</td>\n",
       "    </tr>\n",
       "  </tbody>\n",
       "</table>\n",
       "<p>2 rows × 93 columns</p>\n",
       "</div>"
      ],
      "text/plain": [
       "        term  emp_length  loan_amnt  funded_amnt  int_rate  installment  \\\n",
       "208220   0.0         0.0   0.427199     0.427199  0.000000     0.408192   \n",
       "206713   0.0         0.0   0.640799     0.640799  0.345636     0.642189   \n",
       "\n",
       "        annual_inc       dti  fico_range_low  fico_range_high  ...  \\\n",
       "208220    1.147678  1.462101        1.356820         1.356801  ...   \n",
       "206713    0.789892  0.574995        1.187217         1.187201  ...   \n",
       "\n",
       "        ohe__addr_state_TX  ohe__addr_state_UT  ohe__addr_state_VA  \\\n",
       "208220            3.545269                 0.0                 0.0   \n",
       "206713            0.000000                 0.0                 0.0   \n",
       "\n",
       "        ohe__addr_state_VT  ohe__addr_state_WA  ohe__addr_state_WI  \\\n",
       "208220                 0.0                 0.0                 0.0   \n",
       "206713                 0.0                 0.0                 0.0   \n",
       "\n",
       "        ohe__addr_state_WV  ohe__addr_state_WY  \\\n",
       "208220                 0.0                 0.0   \n",
       "206713                 0.0                 0.0   \n",
       "\n",
       "        ohe__application_type_Individual  ohe__application_type_JointApp  \n",
       "208220                          7.163839                             0.0  \n",
       "206713                          7.163839                             0.0  \n",
       "\n",
       "[2 rows x 93 columns]"
      ]
     },
     "execution_count": 59,
     "metadata": {},
     "output_type": "execute_result"
    }
   ],
   "source": [
    "X_train.head(2)"
   ]
  },
  {
   "cell_type": "code",
   "execution_count": null,
   "id": "d96a01e0-9e6a-48e8-8167-f262b679b14c",
   "metadata": {
    "tags": []
   },
   "outputs": [],
   "source": []
  },
  {
   "cell_type": "code",
   "execution_count": 6,
   "id": "838daf6c-6750-458d-94e4-0646090cd754",
   "metadata": {
    "tags": []
   },
   "outputs": [],
   "source": [
    "# def transformer(inp):\n",
    "#     output = {}\n",
    "#     for c in cols:\n",
    "#         output[c] = all_scalers[c].minmax_scaler(inp[c])\n",
    "#     return output"
   ]
  },
  {
   "cell_type": "code",
   "execution_count": 12,
   "id": "db5b4cc5-4f10-4c8c-a859-5e83359aedca",
   "metadata": {
    "tags": []
   },
   "outputs": [
    {
     "data": {
      "text/plain": [
       "<__main__.scaler at 0x106a45e50>"
      ]
     },
     "execution_count": 12,
     "metadata": {},
     "output_type": "execute_result"
    }
   ],
   "source": [
    "# all_scalers[\"term\"]"
   ]
  },
  {
   "cell_type": "code",
   "execution_count": 3,
   "id": "b27b7622-ad70-4e50-b1fe-9f83d0791f58",
   "metadata": {
    "tags": []
   },
   "outputs": [],
   "source": []
  },
  {
   "cell_type": "code",
   "execution_count": 3,
   "id": "773a887b-af3e-4139-ab96-81e29121e01a",
   "metadata": {
    "tags": []
   },
   "outputs": [
    {
     "data": {
      "text/plain": [
       "{}"
      ]
     },
     "execution_count": 3,
     "metadata": {},
     "output_type": "execute_result"
    }
   ],
   "source": []
  },
  {
   "cell_type": "code",
   "execution_count": 12,
   "id": "ab0233ae-919e-48bf-bc3b-ff9c7a1de381",
   "metadata": {
    "tags": []
   },
   "outputs": [],
   "source": [
    "path_train = f'/Users/kristinazekiene/Documents/LearningPython/TuringCollege/M3S3/output_grade/BQ/x_train.csv'\n",
    "path_test = f'/Users/kristinazekiene/Documents/LearningPython/TuringCollege/M3S3/output_grade/BQ/x_test.csv'\n",
    "X_train.to_csv(path_train,index=False)\n",
    "X_test.to_csv(path_test,index=False)\n",
    "\n",
    "path_ytrain = f'/Users/kristinazekiene/Documents/LearningPython/TuringCollege/M3S3/output_grade/BQ/y_train.csv'\n",
    "path_ytest = f'/Users/kristinazekiene/Documents/LearningPython/TuringCollege/M3S3/output_grade/BQ/y_test.csv'\n",
    "y_train.to_csv(path_ytrain,index=False)\n",
    "y_test.to_csv(path_ytest,index=False)"
   ]
  },
  {
   "cell_type": "code",
   "execution_count": null,
   "id": "f0659cc2-4ce6-4bf3-8182-ab930f30383b",
   "metadata": {
    "tags": []
   },
   "outputs": [],
   "source": []
  },
  {
   "cell_type": "code",
   "execution_count": 4,
   "id": "5745b152-84cc-4eed-8830-d1f2ae4b5b2b",
   "metadata": {},
   "outputs": [],
   "source": [
    "# df_x = pd.read_csv('./data/x_train_ohot_en.csv')\n",
    "# df_y = pd.read_csv('./data/y_train_ohot_en.csv')\n",
    "\n",
    "# df_x = df_x.drop(columns=['emp_title_mod'])\n",
    "# df_x = df_x.rename(columns={\n",
    "#         'ohe__verification_status_Not Verified': 'ohe__verification_status_NotVerified',\n",
    "#         'ohe__verification_status_Source Verified':'ohe__verification_status_SourceVerified',\n",
    "#         'ohe__application_type_Joint App':'ohe__application_type_JointApp'})\n",
    "\n",
    "# df_x_test = pd.read_csv('./data/x_test_ohot_en.csv')\n",
    "# df_y_test = pd.read_csv('./data/y_test_ohot_en.csv')\n",
    "\n",
    "# df_x_test = df_x_test.drop(columns=['emp_title_mod'])\n",
    "# df_x_test = df_x_test.rename(columns={\n",
    "#         'ohe__verification_status_Not Verified': 'ohe__verification_status_NotVerified',\n",
    "#         'ohe__verification_status_Source Verified':'ohe__verification_status_SourceVerified',\n",
    "#         'ohe__application_type_Joint App':'ohe__application_type_JointApp'})"
   ]
  },
  {
   "cell_type": "code",
   "execution_count": 10,
   "id": "b833a56b-7225-4bdd-91bd-9ee28158a470",
   "metadata": {
    "tags": []
   },
   "outputs": [],
   "source": [
    "# path_train = f'/Users/kristinazekiene/Documents/LearningPython/TuringCollege/M3S3/loan_grade_deployment_fastapi/app/data/x_train_ohot_en.csv'\n",
    "# path_test = f'/Users/kristinazekiene/Documents/LearningPython/TuringCollege/M3S3/loan_grade_deployment_fastapi/app/data/x_test_ohot_en.csv'\n",
    "# df_x.to_csv(path_train,index=False)\n",
    "# df_x_test.to_csv(path_test,index=False)"
   ]
  },
  {
   "cell_type": "code",
   "execution_count": 34,
   "id": "0e878afb-40fb-45c2-86e4-a0c151b49b94",
   "metadata": {
    "tags": []
   },
   "outputs": [
    {
     "data": {
      "text/html": [
       "<div>\n",
       "<style scoped>\n",
       "    .dataframe tbody tr th:only-of-type {\n",
       "        vertical-align: middle;\n",
       "    }\n",
       "\n",
       "    .dataframe tbody tr th {\n",
       "        vertical-align: top;\n",
       "    }\n",
       "\n",
       "    .dataframe thead th {\n",
       "        text-align: right;\n",
       "    }\n",
       "</style>\n",
       "<table border=\"1\" class=\"dataframe\">\n",
       "  <thead>\n",
       "    <tr style=\"text-align: right;\">\n",
       "      <th></th>\n",
       "      <th>term</th>\n",
       "      <th>emp_length</th>\n",
       "      <th>loan_amnt</th>\n",
       "      <th>funded_amnt</th>\n",
       "      <th>int_rate</th>\n",
       "      <th>installment</th>\n",
       "      <th>annual_inc</th>\n",
       "      <th>dti</th>\n",
       "      <th>fico_range_low</th>\n",
       "      <th>fico_range_high</th>\n",
       "      <th>...</th>\n",
       "      <th>ohe__addr_state_TX</th>\n",
       "      <th>ohe__addr_state_UT</th>\n",
       "      <th>ohe__addr_state_VA</th>\n",
       "      <th>ohe__addr_state_VT</th>\n",
       "      <th>ohe__addr_state_WA</th>\n",
       "      <th>ohe__addr_state_WI</th>\n",
       "      <th>ohe__addr_state_WV</th>\n",
       "      <th>ohe__addr_state_WY</th>\n",
       "      <th>ohe__application_type_Individual</th>\n",
       "      <th>ohe__application_type_JointApp</th>\n",
       "    </tr>\n",
       "  </thead>\n",
       "  <tbody>\n",
       "    <tr>\n",
       "      <th>0</th>\n",
       "      <td>0.0</td>\n",
       "      <td>1.0</td>\n",
       "      <td>0.003218</td>\n",
       "      <td>0.003218</td>\n",
       "      <td>0.004601</td>\n",
       "      <td>0.003877</td>\n",
       "      <td>0.002703</td>\n",
       "      <td>0.007333</td>\n",
       "      <td>0.003582</td>\n",
       "      <td>0.003581</td>\n",
       "      <td>...</td>\n",
       "      <td>0.0</td>\n",
       "      <td>0.0</td>\n",
       "      <td>0.0</td>\n",
       "      <td>0.0</td>\n",
       "      <td>0.0</td>\n",
       "      <td>0.0</td>\n",
       "      <td>0.0</td>\n",
       "      <td>0.0</td>\n",
       "      <td>1.0</td>\n",
       "      <td>0.0</td>\n",
       "    </tr>\n",
       "    <tr>\n",
       "      <th>1</th>\n",
       "      <td>0.0</td>\n",
       "      <td>1.0</td>\n",
       "      <td>0.004023</td>\n",
       "      <td>0.004023</td>\n",
       "      <td>0.003653</td>\n",
       "      <td>0.004598</td>\n",
       "      <td>0.001952</td>\n",
       "      <td>0.002470</td>\n",
       "      <td>0.003531</td>\n",
       "      <td>0.003531</td>\n",
       "      <td>...</td>\n",
       "      <td>0.0</td>\n",
       "      <td>0.0</td>\n",
       "      <td>0.0</td>\n",
       "      <td>0.0</td>\n",
       "      <td>0.0</td>\n",
       "      <td>0.0</td>\n",
       "      <td>0.0</td>\n",
       "      <td>0.0</td>\n",
       "      <td>1.0</td>\n",
       "      <td>0.0</td>\n",
       "    </tr>\n",
       "    <tr>\n",
       "      <th>2</th>\n",
       "      <td>0.0</td>\n",
       "      <td>6.0</td>\n",
       "      <td>0.004023</td>\n",
       "      <td>0.004023</td>\n",
       "      <td>0.002891</td>\n",
       "      <td>0.004404</td>\n",
       "      <td>0.001952</td>\n",
       "      <td>0.000753</td>\n",
       "      <td>0.003506</td>\n",
       "      <td>0.003506</td>\n",
       "      <td>...</td>\n",
       "      <td>0.0</td>\n",
       "      <td>0.0</td>\n",
       "      <td>0.0</td>\n",
       "      <td>0.0</td>\n",
       "      <td>0.0</td>\n",
       "      <td>0.0</td>\n",
       "      <td>0.0</td>\n",
       "      <td>0.0</td>\n",
       "      <td>1.0</td>\n",
       "      <td>0.0</td>\n",
       "    </tr>\n",
       "  </tbody>\n",
       "</table>\n",
       "<p>3 rows × 93 columns</p>\n",
       "</div>"
      ],
      "text/plain": [
       "   term  emp_length  loan_amnt  funded_amnt  int_rate  installment  \\\n",
       "0   0.0         1.0   0.003218     0.003218  0.004601     0.003877   \n",
       "1   0.0         1.0   0.004023     0.004023  0.003653     0.004598   \n",
       "2   0.0         6.0   0.004023     0.004023  0.002891     0.004404   \n",
       "\n",
       "   annual_inc       dti  fico_range_low  fico_range_high  ...  \\\n",
       "0    0.002703  0.007333        0.003582         0.003581  ...   \n",
       "1    0.001952  0.002470        0.003531         0.003531  ...   \n",
       "2    0.001952  0.000753        0.003506         0.003506  ...   \n",
       "\n",
       "   ohe__addr_state_TX  ohe__addr_state_UT  ohe__addr_state_VA  \\\n",
       "0                 0.0                 0.0                 0.0   \n",
       "1                 0.0                 0.0                 0.0   \n",
       "2                 0.0                 0.0                 0.0   \n",
       "\n",
       "   ohe__addr_state_VT  ohe__addr_state_WA  ohe__addr_state_WI  \\\n",
       "0                 0.0                 0.0                 0.0   \n",
       "1                 0.0                 0.0                 0.0   \n",
       "2                 0.0                 0.0                 0.0   \n",
       "\n",
       "   ohe__addr_state_WV  ohe__addr_state_WY  ohe__application_type_Individual  \\\n",
       "0                 0.0                 0.0                               1.0   \n",
       "1                 0.0                 0.0                               1.0   \n",
       "2                 0.0                 0.0                               1.0   \n",
       "\n",
       "   ohe__application_type_JointApp  \n",
       "0                             0.0  \n",
       "1                             0.0  \n",
       "2                             0.0  \n",
       "\n",
       "[3 rows x 93 columns]"
      ]
     },
     "execution_count": 34,
     "metadata": {},
     "output_type": "execute_result"
    }
   ],
   "source": [
    "df_x_test = pd.read_csv('./data/x_test_ohot_en.csv')\n",
    "df_y_test = pd.read_csv('./data/y_test_ohot_en.csv')\n",
    "df_x_test.head(3)"
   ]
  },
  {
   "cell_type": "code",
   "execution_count": 97,
   "id": "fa349afe-6124-447d-81d1-84eee822ffb4",
   "metadata": {
    "tags": []
   },
   "outputs": [
    {
     "name": "stdout",
     "output_type": "stream",
     "text": [
      "grade    3.0\n",
      "Name: 0, dtype: float64\n",
      "D\n"
     ]
    },
    {
     "data": {
      "text/plain": [
       "term                                0.000000\n",
       "emp_length                          1.000000\n",
       "loan_amnt                           0.003218\n",
       "funded_amnt                         0.003218\n",
       "int_rate                            0.004601\n",
       "                                      ...   \n",
       "ohe__addr_state_WI                  0.000000\n",
       "ohe__addr_state_WV                  0.000000\n",
       "ohe__addr_state_WY                  0.000000\n",
       "ohe__application_type_Individual    1.000000\n",
       "ohe__application_type_JointApp      0.000000\n",
       "Name: 0, Length: 93, dtype: float64"
      ]
     },
     "execution_count": 97,
     "metadata": {},
     "output_type": "execute_result"
    }
   ],
   "source": [
    "i = 0 #14, 24 - A, 26 - F,\n",
    "ordinal_mapping_grade = {'0.0': 'A', '1.0': 'B', '2.0': 'C', '3.0': 'D', '4.0': 'E.0', '5.0': 'F', '6.0': 'G'}\n",
    "print(df_y_test.iloc[i])\n",
    "print(ordinal_mapping_grade[str(df_y_test.grade[i])])\n",
    "\n",
    "prod_item = df_x_test.iloc[i]\n",
    "prod_item"
   ]
  },
  {
   "cell_type": "code",
   "execution_count": 80,
   "id": "12e0351f-7a29-412e-bca0-bec51e678e30",
   "metadata": {
    "tags": []
   },
   "outputs": [
    {
     "data": {
      "text/plain": [
       "'{\"term\":1.0,\"emp_length\":1.0,\"loan_amnt\":0.0060345034,\"funded_amnt\":0.0060345401,\"int_rate\":0.0060777762,\"installment\":0.0057780699,\"annual_inc\":0.0033041801,\"dti\":0.0062541933,\"fico_range_low\":0.0033545924,\"fico_range_high\":0.0033555034,\"inq_last_6mths\":0.0102315213,\"open_acc\":0.0055387428,\"pub_rec\":0.0,\"revol_bal\":0.0087539935,\"revol_util\":0.0049161341,\"cr_line_duration\":0.0068180658,\"mths_since_last_delinq\":0.0,\"delinq_2yrs\":0.0034590068,\"total_pymnt\":0.0057866291,\"total_rec_prncp\":0.0029814703,\"total_rec_int\":0.0150874339,\"ohe__home_ownership_ANY\":0.0,\"ohe__home_ownership_MORTGAGE\":1.0,\"ohe__home_ownership_OWN\":0.0,\"ohe__home_ownership_RENT\":0.0,\"ohe__verification_status_NotVerified\":0.0,\"ohe__verification_status_SourceVerified\":0.0,\"ohe__verification_status_Verified\":1.0,\"ohe__purpose_car\":0.0,\"ohe__purpose_credit_card\":0.0,\"ohe__purpose_debt_consolidation\":1.0,\"ohe__purpose_home_improvement\":0.0,\"ohe__purpose_house\":0.0,\"ohe__purpose_major_purchase\":0.0,\"ohe__purpose_medical\":0.0,\"ohe__purpose_moving\":0.0,\"ohe__purpose_other\":0.0,\"ohe__purpose_renewable_energy\":0.0,\"ohe__purpose_small_business\":0.0,\"ohe__purpose_vacation\":0.0,\"ohe__purpose_wedding\":0.0,\"ohe__addr_state_AK\":0.0,\"ohe__addr_state_AL\":0.0,\"ohe__addr_state_AR\":0.0,\"ohe__addr_state_AZ\":0.0,\"ohe__addr_state_CA\":0.0,\"ohe__addr_state_CO\":0.0,\"ohe__addr_state_CT\":0.0,\"ohe__addr_state_DC\":0.0,\"ohe__addr_state_DE\":0.0,\"ohe__addr_state_FL\":0.0,\"ohe__addr_state_GA\":0.0,\"ohe__addr_state_HI\":0.0,\"ohe__addr_state_ID\":0.0,\"ohe__addr_state_IL\":0.0,\"ohe__addr_state_IN\":0.0,\"ohe__addr_state_KS\":0.0,\"ohe__addr_state_KY\":0.0,\"ohe__addr_state_LA\":0.0,\"ohe__addr_state_MA\":0.0,\"ohe__addr_state_MD\":0.0,\"ohe__addr_state_ME\":0.0,\"ohe__addr_state_MI\":0.0,\"ohe__addr_state_MN\":0.0,\"ohe__addr_state_MO\":0.0,\"ohe__addr_state_MS\":0.0,\"ohe__addr_state_MT\":0.0,\"ohe__addr_state_NC\":0.0,\"ohe__addr_state_ND\":0.0,\"ohe__addr_state_NE\":0.0,\"ohe__addr_state_NH\":0.0,\"ohe__addr_state_NJ\":0.0,\"ohe__addr_state_NM\":0.0,\"ohe__addr_state_NV\":0.0,\"ohe__addr_state_NY\":1.0,\"ohe__addr_state_OH\":0.0,\"ohe__addr_state_OK\":0.0,\"ohe__addr_state_OR\":0.0,\"ohe__addr_state_PA\":0.0,\"ohe__addr_state_RI\":0.0,\"ohe__addr_state_SC\":0.0,\"ohe__addr_state_SD\":0.0,\"ohe__addr_state_TN\":0.0,\"ohe__addr_state_TX\":0.0,\"ohe__addr_state_UT\":0.0,\"ohe__addr_state_VA\":0.0,\"ohe__addr_state_VT\":0.0,\"ohe__addr_state_WA\":0.0,\"ohe__addr_state_WI\":0.0,\"ohe__addr_state_WV\":0.0,\"ohe__addr_state_WY\":0.0,\"ohe__application_type_Individual\":1.0,\"ohe__application_type_JointApp\":0.0}'"
      ]
     },
     "execution_count": 80,
     "metadata": {},
     "output_type": "execute_result"
    }
   ],
   "source": [
    "result = prod_item.to_json(orient=\"index\")\n",
    "result"
   ]
  },
  {
   "cell_type": "code",
   "execution_count": 81,
   "id": "6bd6a5dd-876b-4505-9187-af1e2fe49332",
   "metadata": {
    "tags": []
   },
   "outputs": [
    {
     "data": {
      "text/plain": [
       "{'term': 1.0,\n",
       " 'emp_length': 1.0,\n",
       " 'loan_amnt': 0.0060345034,\n",
       " 'funded_amnt': 0.0060345401,\n",
       " 'int_rate': 0.0060777762,\n",
       " 'installment': 0.0057780699,\n",
       " 'annual_inc': 0.0033041801,\n",
       " 'dti': 0.0062541933,\n",
       " 'fico_range_low': 0.0033545924,\n",
       " 'fico_range_high': 0.0033555034,\n",
       " 'inq_last_6mths': 0.0102315213,\n",
       " 'open_acc': 0.0055387428,\n",
       " 'pub_rec': 0.0,\n",
       " 'revol_bal': 0.0087539935,\n",
       " 'revol_util': 0.0049161341,\n",
       " 'cr_line_duration': 0.0068180658,\n",
       " 'mths_since_last_delinq': 0.0,\n",
       " 'delinq_2yrs': 0.0034590068,\n",
       " 'total_pymnt': 0.0057866291,\n",
       " 'total_rec_prncp': 0.0029814703,\n",
       " 'total_rec_int': 0.0150874339,\n",
       " 'ohe__home_ownership_ANY': 0.0,\n",
       " 'ohe__home_ownership_MORTGAGE': 1.0,\n",
       " 'ohe__home_ownership_OWN': 0.0,\n",
       " 'ohe__home_ownership_RENT': 0.0,\n",
       " 'ohe__verification_status_NotVerified': 0.0,\n",
       " 'ohe__verification_status_SourceVerified': 0.0,\n",
       " 'ohe__verification_status_Verified': 1.0,\n",
       " 'ohe__purpose_car': 0.0,\n",
       " 'ohe__purpose_credit_card': 0.0,\n",
       " 'ohe__purpose_debt_consolidation': 1.0,\n",
       " 'ohe__purpose_home_improvement': 0.0,\n",
       " 'ohe__purpose_house': 0.0,\n",
       " 'ohe__purpose_major_purchase': 0.0,\n",
       " 'ohe__purpose_medical': 0.0,\n",
       " 'ohe__purpose_moving': 0.0,\n",
       " 'ohe__purpose_other': 0.0,\n",
       " 'ohe__purpose_renewable_energy': 0.0,\n",
       " 'ohe__purpose_small_business': 0.0,\n",
       " 'ohe__purpose_vacation': 0.0,\n",
       " 'ohe__purpose_wedding': 0.0,\n",
       " 'ohe__addr_state_AK': 0.0,\n",
       " 'ohe__addr_state_AL': 0.0,\n",
       " 'ohe__addr_state_AR': 0.0,\n",
       " 'ohe__addr_state_AZ': 0.0,\n",
       " 'ohe__addr_state_CA': 0.0,\n",
       " 'ohe__addr_state_CO': 0.0,\n",
       " 'ohe__addr_state_CT': 0.0,\n",
       " 'ohe__addr_state_DC': 0.0,\n",
       " 'ohe__addr_state_DE': 0.0,\n",
       " 'ohe__addr_state_FL': 0.0,\n",
       " 'ohe__addr_state_GA': 0.0,\n",
       " 'ohe__addr_state_HI': 0.0,\n",
       " 'ohe__addr_state_ID': 0.0,\n",
       " 'ohe__addr_state_IL': 0.0,\n",
       " 'ohe__addr_state_IN': 0.0,\n",
       " 'ohe__addr_state_KS': 0.0,\n",
       " 'ohe__addr_state_KY': 0.0,\n",
       " 'ohe__addr_state_LA': 0.0,\n",
       " 'ohe__addr_state_MA': 0.0,\n",
       " 'ohe__addr_state_MD': 0.0,\n",
       " 'ohe__addr_state_ME': 0.0,\n",
       " 'ohe__addr_state_MI': 0.0,\n",
       " 'ohe__addr_state_MN': 0.0,\n",
       " 'ohe__addr_state_MO': 0.0,\n",
       " 'ohe__addr_state_MS': 0.0,\n",
       " 'ohe__addr_state_MT': 0.0,\n",
       " 'ohe__addr_state_NC': 0.0,\n",
       " 'ohe__addr_state_ND': 0.0,\n",
       " 'ohe__addr_state_NE': 0.0,\n",
       " 'ohe__addr_state_NH': 0.0,\n",
       " 'ohe__addr_state_NJ': 0.0,\n",
       " 'ohe__addr_state_NM': 0.0,\n",
       " 'ohe__addr_state_NV': 0.0,\n",
       " 'ohe__addr_state_NY': 1.0,\n",
       " 'ohe__addr_state_OH': 0.0,\n",
       " 'ohe__addr_state_OK': 0.0,\n",
       " 'ohe__addr_state_OR': 0.0,\n",
       " 'ohe__addr_state_PA': 0.0,\n",
       " 'ohe__addr_state_RI': 0.0,\n",
       " 'ohe__addr_state_SC': 0.0,\n",
       " 'ohe__addr_state_SD': 0.0,\n",
       " 'ohe__addr_state_TN': 0.0,\n",
       " 'ohe__addr_state_TX': 0.0,\n",
       " 'ohe__addr_state_UT': 0.0,\n",
       " 'ohe__addr_state_VA': 0.0,\n",
       " 'ohe__addr_state_VT': 0.0,\n",
       " 'ohe__addr_state_WA': 0.0,\n",
       " 'ohe__addr_state_WI': 0.0,\n",
       " 'ohe__addr_state_WV': 0.0,\n",
       " 'ohe__addr_state_WY': 0.0,\n",
       " 'ohe__application_type_Individual': 1.0,\n",
       " 'ohe__application_type_JointApp': 0.0}"
      ]
     },
     "execution_count": 81,
     "metadata": {},
     "output_type": "execute_result"
    }
   ],
   "source": [
    "from json import loads, dumps\n",
    "parsed = loads(result)\n",
    "parsed"
   ]
  },
  {
   "cell_type": "code",
   "execution_count": 33,
   "id": "f73188ad-e37d-4cc2-b8c9-50f0c8c5c295",
   "metadata": {
    "tags": []
   },
   "outputs": [
    {
     "data": {
      "text/html": [
       "<div>\n",
       "<style scoped>\n",
       "    .dataframe tbody tr th:only-of-type {\n",
       "        vertical-align: middle;\n",
       "    }\n",
       "\n",
       "    .dataframe tbody tr th {\n",
       "        vertical-align: top;\n",
       "    }\n",
       "\n",
       "    .dataframe thead th {\n",
       "        text-align: right;\n",
       "    }\n",
       "</style>\n",
       "<table border=\"1\" class=\"dataframe\">\n",
       "  <thead>\n",
       "    <tr style=\"text-align: right;\">\n",
       "      <th></th>\n",
       "      <th>term</th>\n",
       "      <th>emp_length</th>\n",
       "      <th>loan_amnt</th>\n",
       "      <th>funded_amnt</th>\n",
       "      <th>int_rate</th>\n",
       "      <th>installment</th>\n",
       "      <th>annual_inc</th>\n",
       "      <th>dti</th>\n",
       "      <th>fico_range_low</th>\n",
       "      <th>fico_range_high</th>\n",
       "      <th>...</th>\n",
       "      <th>ohe__addr_state_TX</th>\n",
       "      <th>ohe__addr_state_UT</th>\n",
       "      <th>ohe__addr_state_VA</th>\n",
       "      <th>ohe__addr_state_VT</th>\n",
       "      <th>ohe__addr_state_WA</th>\n",
       "      <th>ohe__addr_state_WI</th>\n",
       "      <th>ohe__addr_state_WV</th>\n",
       "      <th>ohe__addr_state_WY</th>\n",
       "      <th>ohe__application_type_Individual</th>\n",
       "      <th>ohe__application_type_JointApp</th>\n",
       "    </tr>\n",
       "  </thead>\n",
       "  <tbody>\n",
       "    <tr>\n",
       "      <th>0</th>\n",
       "      <td>0.0</td>\n",
       "      <td>1.0</td>\n",
       "      <td>0.003218</td>\n",
       "      <td>0.003218</td>\n",
       "      <td>0.004601</td>\n",
       "      <td>0.003877</td>\n",
       "      <td>0.002703</td>\n",
       "      <td>0.007333</td>\n",
       "      <td>0.003582</td>\n",
       "      <td>0.003581</td>\n",
       "      <td>...</td>\n",
       "      <td>0.0</td>\n",
       "      <td>0.0</td>\n",
       "      <td>0.0</td>\n",
       "      <td>0.0</td>\n",
       "      <td>0.0</td>\n",
       "      <td>0.0</td>\n",
       "      <td>0.0</td>\n",
       "      <td>0.0</td>\n",
       "      <td>1.0</td>\n",
       "      <td>0.0</td>\n",
       "    </tr>\n",
       "  </tbody>\n",
       "</table>\n",
       "<p>1 rows × 93 columns</p>\n",
       "</div>"
      ],
      "text/plain": [
       "   term  emp_length  loan_amnt  funded_amnt  int_rate  installment  \\\n",
       "0   0.0         1.0   0.003218     0.003218  0.004601     0.003877   \n",
       "\n",
       "   annual_inc       dti  fico_range_low  fico_range_high  ...  \\\n",
       "0    0.002703  0.007333        0.003582         0.003581  ...   \n",
       "\n",
       "   ohe__addr_state_TX  ohe__addr_state_UT  ohe__addr_state_VA  \\\n",
       "0                 0.0                 0.0                 0.0   \n",
       "\n",
       "   ohe__addr_state_VT  ohe__addr_state_WA  ohe__addr_state_WI  \\\n",
       "0                 0.0                 0.0                 0.0   \n",
       "\n",
       "   ohe__addr_state_WV  ohe__addr_state_WY  ohe__application_type_Individual  \\\n",
       "0                 0.0                 0.0                               1.0   \n",
       "\n",
       "   ohe__application_type_JointApp  \n",
       "0                             0.0  \n",
       "\n",
       "[1 rows x 93 columns]"
      ]
     },
     "execution_count": 33,
     "metadata": {},
     "output_type": "execute_result"
    }
   ],
   "source": [
    "pd.DataFrame.from_dict([parsed])"
   ]
  },
  {
   "cell_type": "markdown",
   "id": "03514315-11de-4113-963a-961f57447aa2",
   "metadata": {
    "tags": []
   },
   "source": [
    "After MinMAX scaler"
   ]
  },
  {
   "cell_type": "code",
   "execution_count": 18,
   "id": "4367dd8e-b80d-4a5a-ae8b-8bd012805a2d",
   "metadata": {
    "tags": []
   },
   "outputs": [],
   "source": [
    "X_test\n",
    "y_test = y_test.reset_index()"
   ]
  },
  {
   "cell_type": "code",
   "execution_count": 52,
   "id": "54a2fdf3-f4a8-4261-a550-f3cf43987dd3",
   "metadata": {
    "tags": []
   },
   "outputs": [
    {
     "name": "stdout",
     "output_type": "stream",
     "text": [
      "index    18867.0\n",
      "grade        1.0\n",
      "Name: 895, dtype: float64\n",
      "B\n"
     ]
    },
    {
     "data": {
      "text/plain": [
       "term                                0.000000\n",
       "emp_length                          0.200000\n",
       "loan_amnt                           0.871795\n",
       "funded_amnt                         0.871795\n",
       "int_rate                            0.119595\n",
       "                                      ...   \n",
       "ohe__addr_state_WI                  0.000000\n",
       "ohe__addr_state_WV                  0.000000\n",
       "ohe__addr_state_WY                  0.000000\n",
       "ohe__application_type_Individual    1.000000\n",
       "ohe__application_type_JointApp      0.000000\n",
       "Name: 895, Length: 93, dtype: float64"
      ]
     },
     "execution_count": 52,
     "metadata": {},
     "output_type": "execute_result"
    }
   ],
   "source": [
    "i = 895 #0, 1000, 2000, 2500\n",
    "ordinal_mapping_grade = {'0.0': 'A', '1.0': 'B', '2.0': 'C', '3.0': 'D', '4.0': 'E', '5.0': 'F', '6.0': 'G'}\n",
    "print(y_test.iloc[i])\n",
    "print(ordinal_mapping_grade[str(y_test.grade[i])])\n",
    "\n",
    "prod_item = X_test.iloc[i]\n",
    "prod_item"
   ]
  },
  {
   "cell_type": "code",
   "execution_count": 53,
   "id": "dd7f41e5-03a2-4912-b738-756ed2e874b8",
   "metadata": {},
   "outputs": [
    {
     "data": {
      "text/plain": [
       "'{\"term\":0.0,\"emp_length\":0.2,\"loan_amnt\":0.8717948718,\"funded_amnt\":0.8717948718,\"int_rate\":0.1195948578,\"installment\":0.7275600721,\"annual_inc\":0.0807174888,\"dti\":0.2895225464,\"fico_range_low\":0.1666666667,\"fico_range_high\":0.1666666667,\"inq_last_6mths\":0.0,\"open_acc\":0.2708333333,\"pub_rec\":0.0,\"revol_bal\":0.0610566267,\"revol_util\":0.4715189873,\"cr_line_duration\":0.387755102,\"mths_since_last_delinq\":0.0,\"delinq_2yrs\":0.0,\"total_pymnt\":0.6666953152,\"total_rec_prncp\":0.8476235,\"total_rec_int\":0.1950433878,\"ohe__home_ownership_ANY\":0.0,\"ohe__home_ownership_MORTGAGE\":1.0,\"ohe__home_ownership_OWN\":0.0,\"ohe__home_ownership_RENT\":0.0,\"ohe__verification_status_NotVerified\":0.0,\"ohe__verification_status_SourceVerified\":1.0,\"ohe__verification_status_Verified\":0.0,\"ohe__purpose_car\":0.0,\"ohe__purpose_credit_card\":0.0,\"ohe__purpose_debt_consolidation\":0.0,\"ohe__purpose_home_improvement\":1.0,\"ohe__purpose_house\":0.0,\"ohe__purpose_major_purchase\":0.0,\"ohe__purpose_medical\":0.0,\"ohe__purpose_moving\":0.0,\"ohe__purpose_other\":0.0,\"ohe__purpose_renewable_energy\":0.0,\"ohe__purpose_small_business\":0.0,\"ohe__purpose_vacation\":0.0,\"ohe__purpose_wedding\":0.0,\"ohe__addr_state_AK\":0.0,\"ohe__addr_state_AL\":0.0,\"ohe__addr_state_AR\":0.0,\"ohe__addr_state_AZ\":0.0,\"ohe__addr_state_CA\":0.0,\"ohe__addr_state_CO\":0.0,\"ohe__addr_state_CT\":0.0,\"ohe__addr_state_DC\":0.0,\"ohe__addr_state_DE\":0.0,\"ohe__addr_state_FL\":0.0,\"ohe__addr_state_GA\":0.0,\"ohe__addr_state_HI\":0.0,\"ohe__addr_state_ID\":0.0,\"ohe__addr_state_IL\":0.0,\"ohe__addr_state_IN\":0.0,\"ohe__addr_state_KS\":0.0,\"ohe__addr_state_KY\":0.0,\"ohe__addr_state_LA\":0.0,\"ohe__addr_state_MA\":0.0,\"ohe__addr_state_MD\":0.0,\"ohe__addr_state_ME\":0.0,\"ohe__addr_state_MI\":0.0,\"ohe__addr_state_MN\":0.0,\"ohe__addr_state_MO\":0.0,\"ohe__addr_state_MS\":0.0,\"ohe__addr_state_MT\":0.0,\"ohe__addr_state_NC\":0.0,\"ohe__addr_state_ND\":0.0,\"ohe__addr_state_NE\":0.0,\"ohe__addr_state_NH\":0.0,\"ohe__addr_state_NJ\":0.0,\"ohe__addr_state_NM\":0.0,\"ohe__addr_state_NV\":0.0,\"ohe__addr_state_NY\":0.0,\"ohe__addr_state_OH\":0.0,\"ohe__addr_state_OK\":0.0,\"ohe__addr_state_OR\":0.0,\"ohe__addr_state_PA\":0.0,\"ohe__addr_state_RI\":0.0,\"ohe__addr_state_SC\":0.0,\"ohe__addr_state_SD\":0.0,\"ohe__addr_state_TN\":0.0,\"ohe__addr_state_TX\":0.0,\"ohe__addr_state_UT\":0.0,\"ohe__addr_state_VA\":0.0,\"ohe__addr_state_VT\":0.0,\"ohe__addr_state_WA\":1.0,\"ohe__addr_state_WI\":0.0,\"ohe__addr_state_WV\":0.0,\"ohe__addr_state_WY\":0.0,\"ohe__application_type_Individual\":1.0,\"ohe__application_type_JointApp\":0.0}'"
      ]
     },
     "execution_count": 53,
     "metadata": {},
     "output_type": "execute_result"
    }
   ],
   "source": [
    "result = prod_item.to_json(orient=\"index\")\n",
    "result"
   ]
  },
  {
   "cell_type": "code",
   "execution_count": 54,
   "id": "a3d597bf-2f97-4df3-8291-88df755fe983",
   "metadata": {
    "tags": []
   },
   "outputs": [
    {
     "data": {
      "text/plain": [
       "{'term': 0.0,\n",
       " 'emp_length': 0.2,\n",
       " 'loan_amnt': 0.8717948718,\n",
       " 'funded_amnt': 0.8717948718,\n",
       " 'int_rate': 0.1195948578,\n",
       " 'installment': 0.7275600721,\n",
       " 'annual_inc': 0.0807174888,\n",
       " 'dti': 0.2895225464,\n",
       " 'fico_range_low': 0.1666666667,\n",
       " 'fico_range_high': 0.1666666667,\n",
       " 'inq_last_6mths': 0.0,\n",
       " 'open_acc': 0.2708333333,\n",
       " 'pub_rec': 0.0,\n",
       " 'revol_bal': 0.0610566267,\n",
       " 'revol_util': 0.4715189873,\n",
       " 'cr_line_duration': 0.387755102,\n",
       " 'mths_since_last_delinq': 0.0,\n",
       " 'delinq_2yrs': 0.0,\n",
       " 'total_pymnt': 0.6666953152,\n",
       " 'total_rec_prncp': 0.8476235,\n",
       " 'total_rec_int': 0.1950433878,\n",
       " 'ohe__home_ownership_ANY': 0.0,\n",
       " 'ohe__home_ownership_MORTGAGE': 1.0,\n",
       " 'ohe__home_ownership_OWN': 0.0,\n",
       " 'ohe__home_ownership_RENT': 0.0,\n",
       " 'ohe__verification_status_NotVerified': 0.0,\n",
       " 'ohe__verification_status_SourceVerified': 1.0,\n",
       " 'ohe__verification_status_Verified': 0.0,\n",
       " 'ohe__purpose_car': 0.0,\n",
       " 'ohe__purpose_credit_card': 0.0,\n",
       " 'ohe__purpose_debt_consolidation': 0.0,\n",
       " 'ohe__purpose_home_improvement': 1.0,\n",
       " 'ohe__purpose_house': 0.0,\n",
       " 'ohe__purpose_major_purchase': 0.0,\n",
       " 'ohe__purpose_medical': 0.0,\n",
       " 'ohe__purpose_moving': 0.0,\n",
       " 'ohe__purpose_other': 0.0,\n",
       " 'ohe__purpose_renewable_energy': 0.0,\n",
       " 'ohe__purpose_small_business': 0.0,\n",
       " 'ohe__purpose_vacation': 0.0,\n",
       " 'ohe__purpose_wedding': 0.0,\n",
       " 'ohe__addr_state_AK': 0.0,\n",
       " 'ohe__addr_state_AL': 0.0,\n",
       " 'ohe__addr_state_AR': 0.0,\n",
       " 'ohe__addr_state_AZ': 0.0,\n",
       " 'ohe__addr_state_CA': 0.0,\n",
       " 'ohe__addr_state_CO': 0.0,\n",
       " 'ohe__addr_state_CT': 0.0,\n",
       " 'ohe__addr_state_DC': 0.0,\n",
       " 'ohe__addr_state_DE': 0.0,\n",
       " 'ohe__addr_state_FL': 0.0,\n",
       " 'ohe__addr_state_GA': 0.0,\n",
       " 'ohe__addr_state_HI': 0.0,\n",
       " 'ohe__addr_state_ID': 0.0,\n",
       " 'ohe__addr_state_IL': 0.0,\n",
       " 'ohe__addr_state_IN': 0.0,\n",
       " 'ohe__addr_state_KS': 0.0,\n",
       " 'ohe__addr_state_KY': 0.0,\n",
       " 'ohe__addr_state_LA': 0.0,\n",
       " 'ohe__addr_state_MA': 0.0,\n",
       " 'ohe__addr_state_MD': 0.0,\n",
       " 'ohe__addr_state_ME': 0.0,\n",
       " 'ohe__addr_state_MI': 0.0,\n",
       " 'ohe__addr_state_MN': 0.0,\n",
       " 'ohe__addr_state_MO': 0.0,\n",
       " 'ohe__addr_state_MS': 0.0,\n",
       " 'ohe__addr_state_MT': 0.0,\n",
       " 'ohe__addr_state_NC': 0.0,\n",
       " 'ohe__addr_state_ND': 0.0,\n",
       " 'ohe__addr_state_NE': 0.0,\n",
       " 'ohe__addr_state_NH': 0.0,\n",
       " 'ohe__addr_state_NJ': 0.0,\n",
       " 'ohe__addr_state_NM': 0.0,\n",
       " 'ohe__addr_state_NV': 0.0,\n",
       " 'ohe__addr_state_NY': 0.0,\n",
       " 'ohe__addr_state_OH': 0.0,\n",
       " 'ohe__addr_state_OK': 0.0,\n",
       " 'ohe__addr_state_OR': 0.0,\n",
       " 'ohe__addr_state_PA': 0.0,\n",
       " 'ohe__addr_state_RI': 0.0,\n",
       " 'ohe__addr_state_SC': 0.0,\n",
       " 'ohe__addr_state_SD': 0.0,\n",
       " 'ohe__addr_state_TN': 0.0,\n",
       " 'ohe__addr_state_TX': 0.0,\n",
       " 'ohe__addr_state_UT': 0.0,\n",
       " 'ohe__addr_state_VA': 0.0,\n",
       " 'ohe__addr_state_VT': 0.0,\n",
       " 'ohe__addr_state_WA': 1.0,\n",
       " 'ohe__addr_state_WI': 0.0,\n",
       " 'ohe__addr_state_WV': 0.0,\n",
       " 'ohe__addr_state_WY': 0.0,\n",
       " 'ohe__application_type_Individual': 1.0,\n",
       " 'ohe__application_type_JointApp': 0.0}"
      ]
     },
     "execution_count": 54,
     "metadata": {},
     "output_type": "execute_result"
    }
   ],
   "source": [
    "from json import loads, dumps\n",
    "parsed = loads(result)\n",
    "parsed"
   ]
  },
  {
   "cell_type": "code",
   "execution_count": null,
   "id": "06cc8b04-af3d-4b1f-a25d-c17b05eaf870",
   "metadata": {},
   "outputs": [],
   "source": []
  }
 ],
 "metadata": {
  "kernelspec": {
   "display_name": "Python 3 (ipykernel)",
   "language": "python",
   "name": "python3"
  },
  "language_info": {
   "codemirror_mode": {
    "name": "ipython",
    "version": 3
   },
   "file_extension": ".py",
   "mimetype": "text/x-python",
   "name": "python",
   "nbconvert_exporter": "python",
   "pygments_lexer": "ipython3",
   "version": "3.11.5"
  }
 },
 "nbformat": 4,
 "nbformat_minor": 5
}
