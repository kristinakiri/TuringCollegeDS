{
 "cells": [
  {
   "cell_type": "code",
   "execution_count": 11,
   "id": "101b763f-945f-49a4-bd68-b231225980d2",
   "metadata": {
    "tags": []
   },
   "outputs": [],
   "source": [
    "pd.set_option('display.max_columns', None)"
   ]
  },
  {
   "cell_type": "code",
   "execution_count": 32,
   "id": "a2efde6d-9814-47a6-b81c-caaf9603913e",
   "metadata": {
    "tags": []
   },
   "outputs": [
    {
     "name": "stderr",
     "output_type": "stream",
     "text": [
      "/Users/kristinazekiene/anaconda3/lib/python3.11/site-packages/sklearn/base.py:1351: DataConversionWarning: A column-vector y was passed when a 1d array was expected. Please change the shape of y to (n_samples,), for example using ravel().\n",
      "  return fit_method(estimator, *args, **kwargs)\n"
     ]
    },
    {
     "name": "stdout",
     "output_type": "stream",
     "text": [
      "              precision    recall  f1-score   support\n",
      "\n",
      "         0.0       0.99      0.95      0.97       491\n",
      "         1.0       0.95      0.97      0.96       491\n",
      "         2.0       0.95      0.99      0.97       491\n",
      "         3.0       0.79      0.81      0.80       491\n",
      "         4.0       0.61      0.64      0.63       491\n",
      "         5.0       0.71      0.54      0.61       491\n",
      "         6.0       0.83      0.94      0.88       491\n",
      "\n",
      "    accuracy                           0.83      3437\n",
      "   macro avg       0.83      0.83      0.83      3437\n",
      "weighted avg       0.83      0.83      0.83      3437\n",
      "\n",
      "Accuracy: 83.44486470759384 %\n"
     ]
    },
    {
     "data": {
      "text/plain": [
       "['trained_model.pkl']"
      ]
     },
     "execution_count": 32,
     "metadata": {},
     "output_type": "execute_result"
    }
   ],
   "source": [
    "import numpy as np\n",
    "import pandas as pd\n",
    "from sklearn.impute import SimpleImputer \n",
    "from sklearn.preprocessing import StandardScaler\n",
    "from imblearn.over_sampling import SMOTE\n",
    "from imblearn.under_sampling import RandomUnderSampler\n",
    "from sklearn.pipeline import Pipeline\n",
    "from sklearn.metrics import accuracy_score, classification_report\n",
    "from sklearn.model_selection import cross_val_score\n",
    "\n",
    "import joblib\n",
    "from joblib import dump\n",
    "from sklearn.ensemble import RandomForestClassifier\n",
    "\n",
    "\n",
    "\n",
    "# Read the Data\n",
    "df_x = pd.read_csv('./data/x_train_ohot_en.csv')\n",
    "df_y = pd.read_csv('./data/y_train_ohot_en.csv')\n",
    "\n",
    "df_x = df_x.drop(columns=['emp_title_mod'])\n",
    "df_x = df_x.rename(columns={\n",
    "        'ohe__verification_status_Not Verified': 'ohe__verification_status_NotVerified',\n",
    "        'ohe__verification_status_Source Verified':'ohe__verification_status_SourceVerified',\n",
    "        'ohe__application_type_Joint App':'ohe__application_type_JointApp'})\n",
    "\n",
    "df_x_test = pd.read_csv('./data/x_test_ohot_en.csv')\n",
    "df_y_test = pd.read_csv('./data/y_test_ohot_en.csv')\n",
    "\n",
    "df_x_test = df_x_test.drop(columns=['emp_title_mod'])\n",
    "df_x_test = df_x_test.rename(columns={\n",
    "        'ohe__verification_status_Not Verified': 'ohe__verification_status_NotVerified',\n",
    "        'ohe__verification_status_Source Verified':'ohe__verification_status_SourceVerified',\n",
    "        'ohe__application_type_Joint App':'ohe__application_type_JointApp'})\n",
    "\n",
    "# Oversampling\n",
    "# sm = SMOTE()\\\n",
    "rus = RandomUnderSampler(random_state=42)\n",
    "\n",
    "X_train, y_train = rus.fit_resample(df_x, df_y) \n",
    "X_test, y_test = rus.fit_resample(df_x_test, df_y_test) \n",
    "\n",
    "\n",
    "# Scaling\n",
    "X_train_s = StandardScaler().fit_transform(X_train)\n",
    "X_train = pd.DataFrame(X_train_s, columns=list(X_train.columns))\n",
    "\n",
    "X_test_s = StandardScaler().fit_transform(X_test)\n",
    "X_test = pd.DataFrame(X_test_s, columns=list(X_test.columns))\n",
    "\n",
    "\n",
    "# Initialize and train the Random Forest model\n",
    "rf_pipeline = Pipeline([('classifier', RandomForestClassifier())])\n",
    "\n",
    "rf_pipeline.fit(X_train, y_train)\n",
    "\n",
    "# Testing the Pipeline\n",
    "\n",
    "y_pred = rf_pipeline.predict(X_test)\n",
    "print(classification_report(y_test, y_pred))\n",
    "print('Accuracy: {} %'.format(100 * accuracy_score(y_test, y_pred)))\n",
    "\n",
    "# Saving the trained model\n",
    "joblib.dump(rf_pipeline, 'trained_model.pkl')"
   ]
  },
  {
   "cell_type": "code",
   "execution_count": null,
   "id": "a2f8a751-750c-49a0-a4c9-9f745d4cc6d0",
   "metadata": {},
   "outputs": [],
   "source": []
  }
 ],
 "metadata": {
  "kernelspec": {
   "display_name": "Python 3 (ipykernel)",
   "language": "python",
   "name": "python3"
  },
  "language_info": {
   "codemirror_mode": {
    "name": "ipython",
    "version": 3
   },
   "file_extension": ".py",
   "mimetype": "text/x-python",
   "name": "python",
   "nbconvert_exporter": "python",
   "pygments_lexer": "ipython3",
   "version": "3.11.5"
  }
 },
 "nbformat": 4,
 "nbformat_minor": 5
}
