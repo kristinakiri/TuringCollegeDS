{
 "cells": [
  {
   "cell_type": "markdown",
   "id": "e97bb139-08da-488a-9653-69f12deda8a9",
   "metadata": {},
   "source": [
    "# Inferential Statistical Analysis of the iTunes Podcast Review"
   ]
  },
  {
   "cell_type": "markdown",
   "id": "61d43e34-882f-4c3e-9d72-497651c770b2",
   "metadata": {},
   "source": [
    "During this inferential statistical analysis we want to validate few statements:\n",
    "\n",
    "1. Most popular category (comedy) podcasts gets best reviews.\n",
    "2. Bad reviews tend to grow more over crisis years than in economical, social growth time.\n",
    "3. Reviews length differs significantly per negative and positive ratings.\n",
    "\n",
    "For these statements we will prepare sample metrics. Form hypothesis. Test them and estimate confidence intervals for the metrics. After received estimates and results we will make conclusions about these statements."
   ]
  },
  {
   "cell_type": "code",
   "execution_count": 83,
   "id": "a31ce3ed-dd55-4c00-abf4-c0943b4d5051",
   "metadata": {},
   "outputs": [],
   "source": [
    "import numpy as np\n",
    "import pandas as pd\n",
    "import matplotlib.pyplot as plt\n",
    "import seaborn as sns\n",
    "from IPython.display import display\n",
    "import os\n",
    "import itertools\n",
    "import csv\n",
    "from datetime import datetime\n",
    "import statsmodels.api as sm\n",
    "import math"
   ]
  },
  {
   "cell_type": "code",
   "execution_count": 2,
   "id": "59e3ebef-ffdf-458b-b67f-91eced58607e",
   "metadata": {},
   "outputs": [
    {
     "name": "stderr",
     "output_type": "stream",
     "text": [
      "/var/folders/td/b4p1bf2n05z6yjhfwr64xcc80000gn/T/ipykernel_14807/915871229.py:1: DtypeWarning: Columns (0,2,3,4,5,6,7,9,10,12,13,14) have mixed types. Specify dtype option on import or set low_memory=False.\n",
      "  df = pd.read_csv(\"/Users/kristinazekiene/Documents/LearningPython/TuringCollege/M2S2/Output/podcasts_reviews_data.csv\")\n"
     ]
    },
    {
     "name": "stdout",
     "output_type": "stream",
     "text": [
      "<class 'pandas.core.frame.DataFrame'>\n",
      "RangeIndex: 8835148 entries, 0 to 8835147\n",
      "Data columns (total 15 columns):\n",
      " #   Column          Dtype  \n",
      "---  ------          -----  \n",
      " 0   podcast_id      object \n",
      " 1   itunes_id       float64\n",
      " 2   slug            object \n",
      " 3   itunes_url      object \n",
      " 4   podcast_title   object \n",
      " 5   category        object \n",
      " 6   cat_agg         object \n",
      " 7   category_fixed  object \n",
      " 8   CategoriesNo    float64\n",
      " 9   review_title    object \n",
      " 10  content         object \n",
      " 11  rating          float64\n",
      " 12  author_id       object \n",
      " 13  created_at      object \n",
      " 14  ReviewDate      object \n",
      "dtypes: float64(3), object(12)\n",
      "memory usage: 1011.1+ MB\n"
     ]
    },
    {
     "data": {
      "text/html": [
       "<div>\n",
       "<style scoped>\n",
       "    .dataframe tbody tr th:only-of-type {\n",
       "        vertical-align: middle;\n",
       "    }\n",
       "\n",
       "    .dataframe tbody tr th {\n",
       "        vertical-align: top;\n",
       "    }\n",
       "\n",
       "    .dataframe thead th {\n",
       "        text-align: right;\n",
       "    }\n",
       "</style>\n",
       "<table border=\"1\" class=\"dataframe\">\n",
       "  <thead>\n",
       "    <tr style=\"text-align: right;\">\n",
       "      <th></th>\n",
       "      <th>podcast_id</th>\n",
       "      <th>itunes_id</th>\n",
       "      <th>slug</th>\n",
       "      <th>itunes_url</th>\n",
       "      <th>podcast_title</th>\n",
       "      <th>category</th>\n",
       "      <th>cat_agg</th>\n",
       "      <th>category_fixed</th>\n",
       "      <th>CategoriesNo</th>\n",
       "      <th>review_title</th>\n",
       "      <th>content</th>\n",
       "      <th>rating</th>\n",
       "      <th>author_id</th>\n",
       "      <th>created_at</th>\n",
       "      <th>ReviewDate</th>\n",
       "    </tr>\n",
       "  </thead>\n",
       "  <tbody>\n",
       "    <tr>\n",
       "      <th>0</th>\n",
       "      <td>a00018b54eb342567c94dacfb2a3e504</td>\n",
       "      <td>1.313466e+09</td>\n",
       "      <td>scaling-global</td>\n",
       "      <td>https://podcasts.apple.com/us/podcast/scaling-...</td>\n",
       "      <td>Scaling Global</td>\n",
       "      <td>business</td>\n",
       "      <td>business</td>\n",
       "      <td>business</td>\n",
       "      <td>1.0</td>\n",
       "      <td>Very informative</td>\n",
       "      <td>Great variety of speakers!</td>\n",
       "      <td>5.0</td>\n",
       "      <td>CC47C85896D423B</td>\n",
       "      <td>2017-11-29T12:16:43-07:00</td>\n",
       "      <td>2017-11-29</td>\n",
       "    </tr>\n",
       "    <tr>\n",
       "      <th>1</th>\n",
       "      <td>a00043d34e734b09246d17dc5d56f63c</td>\n",
       "      <td>1.589735e+08</td>\n",
       "      <td>cornerstone-baptist-church-of-orlando</td>\n",
       "      <td>https://podcasts.apple.com/us/podcast/cornerst...</td>\n",
       "      <td>Cornerstone Baptist Church of Orlando</td>\n",
       "      <td>christianity</td>\n",
       "      <td>christianity,religion-spirituality</td>\n",
       "      <td>christianity-religion-spirituality</td>\n",
       "      <td>3.0</td>\n",
       "      <td>Good Sernons</td>\n",
       "      <td>I'm a regular listener.  I only wish that the ...</td>\n",
       "      <td>5.0</td>\n",
       "      <td>103CC9DA2046218</td>\n",
       "      <td>2019-10-08T04:23:32-07:00</td>\n",
       "      <td>2019-10-08</td>\n",
       "    </tr>\n",
       "  </tbody>\n",
       "</table>\n",
       "</div>"
      ],
      "text/plain": [
       "                         podcast_id     itunes_id  \\\n",
       "0  a00018b54eb342567c94dacfb2a3e504  1.313466e+09   \n",
       "1  a00043d34e734b09246d17dc5d56f63c  1.589735e+08   \n",
       "\n",
       "                                    slug  \\\n",
       "0                         scaling-global   \n",
       "1  cornerstone-baptist-church-of-orlando   \n",
       "\n",
       "                                          itunes_url  \\\n",
       "0  https://podcasts.apple.com/us/podcast/scaling-...   \n",
       "1  https://podcasts.apple.com/us/podcast/cornerst...   \n",
       "\n",
       "                           podcast_title      category  \\\n",
       "0                         Scaling Global      business   \n",
       "1  Cornerstone Baptist Church of Orlando  christianity   \n",
       "\n",
       "                              cat_agg                      category_fixed  \\\n",
       "0                            business                            business   \n",
       "1  christianity,religion-spirituality  christianity-religion-spirituality   \n",
       "\n",
       "   CategoriesNo      review_title  \\\n",
       "0           1.0  Very informative   \n",
       "1           3.0      Good Sernons   \n",
       "\n",
       "                                             content  rating        author_id  \\\n",
       "0                         Great variety of speakers!     5.0  CC47C85896D423B   \n",
       "1  I'm a regular listener.  I only wish that the ...     5.0  103CC9DA2046218   \n",
       "\n",
       "                  created_at  ReviewDate  \n",
       "0  2017-11-29T12:16:43-07:00  2017-11-29  \n",
       "1  2019-10-08T04:23:32-07:00  2019-10-08  "
      ]
     },
     "execution_count": 2,
     "metadata": {},
     "output_type": "execute_result"
    }
   ],
   "source": [
    "df = pd.read_csv(\"/Users/kristinazekiene/Documents/LearningPython/TuringCollege/M2S2/Output/podcasts_reviews_data.csv\")\n",
    "df.info()\n",
    "df.head(2)"
   ]
  },
  {
   "cell_type": "markdown",
   "id": "fa16e29a-5349-41e3-965d-38c99b913dee",
   "metadata": {},
   "source": [
    "## Most popular category podcasts gets best reviews"
   ]
  },
  {
   "cell_type": "markdown",
   "id": "a1499b7e-b500-45e1-bd59-32bd71672b0e",
   "metadata": {},
   "source": [
    "The most reviews got comedy category podcasts, which we saw from Google studio report (https://lookerstudio.google.com/u/0/reporting/5089298a-93a2-4247-b2bf-11c51ae96c97/page/tEnnC). We are curious if the most reviews getting podcast on certain category gets the best ratings, too.\n",
    "\n",
    "Thus, we will calculate how comedy podcasts distribubes per received rating? We will calculate proportion of 5 star rating reviews in iTunes podcats sample. And estimate comedy podcats 5 star rating posible proportion of confidence interval for comedies podcats population in general."
   ]
  },
  {
   "cell_type": "code",
   "execution_count": 3,
   "id": "dad47367-fe6e-4129-b25d-bbc23a94e274",
   "metadata": {},
   "outputs": [
    {
     "data": {
      "text/html": [
       "<div>\n",
       "<style scoped>\n",
       "    .dataframe tbody tr th:only-of-type {\n",
       "        vertical-align: middle;\n",
       "    }\n",
       "\n",
       "    .dataframe tbody tr th {\n",
       "        vertical-align: top;\n",
       "    }\n",
       "\n",
       "    .dataframe thead th {\n",
       "        text-align: right;\n",
       "    }\n",
       "</style>\n",
       "<table border=\"1\" class=\"dataframe\">\n",
       "  <thead>\n",
       "    <tr style=\"text-align: right;\">\n",
       "      <th></th>\n",
       "      <th>index</th>\n",
       "      <th>podcast_id</th>\n",
       "      <th>podcast_title</th>\n",
       "      <th>rating</th>\n",
       "      <th>author_id</th>\n",
       "    </tr>\n",
       "  </thead>\n",
       "  <tbody>\n",
       "    <tr>\n",
       "      <th>0</th>\n",
       "      <td>304</td>\n",
       "      <td>a005cb205faf4fccdf79b198b7a3407d</td>\n",
       "      <td>Can I be Funny?</td>\n",
       "      <td>5.0</td>\n",
       "      <td>15D540B3E68FF75</td>\n",
       "    </tr>\n",
       "    <tr>\n",
       "      <th>1</th>\n",
       "      <td>551</td>\n",
       "      <td>a00b8f9cbf11b6694bed1de21128ff5c</td>\n",
       "      <td>Hilarious Headlines</td>\n",
       "      <td>5.0</td>\n",
       "      <td>ED9A0BA35B49AD1</td>\n",
       "    </tr>\n",
       "    <tr>\n",
       "      <th>2</th>\n",
       "      <td>552</td>\n",
       "      <td>a00b8f9cbf11b6694bed1de21128ff5c</td>\n",
       "      <td>Hilarious Headlines</td>\n",
       "      <td>5.0</td>\n",
       "      <td>1AB7FD8A006758A</td>\n",
       "    </tr>\n",
       "  </tbody>\n",
       "</table>\n",
       "</div>"
      ],
      "text/plain": [
       "   index                        podcast_id        podcast_title  rating  \\\n",
       "0    304  a005cb205faf4fccdf79b198b7a3407d      Can I be Funny?     5.0   \n",
       "1    551  a00b8f9cbf11b6694bed1de21128ff5c  Hilarious Headlines     5.0   \n",
       "2    552  a00b8f9cbf11b6694bed1de21128ff5c  Hilarious Headlines     5.0   \n",
       "\n",
       "         author_id  \n",
       "0  15D540B3E68FF75  \n",
       "1  ED9A0BA35B49AD1  \n",
       "2  1AB7FD8A006758A  "
      ]
     },
     "execution_count": 3,
     "metadata": {},
     "output_type": "execute_result"
    }
   ],
   "source": [
    "\"\"\"First, lets filter comedy podcasts\"\"\"\n",
    "\n",
    "comedies = (df[df.category_fixed == 'comedy']\n",
    "                [['podcast_id','podcast_title',\n",
    "                  'rating', 'author_id']]\n",
    "                .reset_index())\n",
    "comedies.head(3)"
   ]
  },
  {
   "cell_type": "code",
   "execution_count": 4,
   "id": "5bd0078c-1a03-4894-90b4-b60ad9b5260e",
   "metadata": {},
   "outputs": [
    {
     "data": {
      "image/png": "[encoded data removed]",
      "text/plain": [
       "<Figure size 360x360 with 1 Axes>"
      ]
     },
     "metadata": {
      "needs_background": "light"
     },
     "output_type": "display_data"
    }
   ],
   "source": [
    "\"\"\"Comedy podcats ratings distribution\"\"\"\n",
    "sns.displot(comedies, x='rating').set(title='Comedies ratings distribition')\n",
    "plt.show()"
   ]
  },
  {
   "cell_type": "code",
   "execution_count": 5,
   "id": "1f8a9d08-e881-4b0b-8201-17c9c2126e0f",
   "metadata": {},
   "outputs": [
    {
     "data": {
      "text/html": [
       "<div>\n",
       "<style scoped>\n",
       "    .dataframe tbody tr th:only-of-type {\n",
       "        vertical-align: middle;\n",
       "    }\n",
       "\n",
       "    .dataframe tbody tr th {\n",
       "        vertical-align: top;\n",
       "    }\n",
       "\n",
       "    .dataframe thead th {\n",
       "        text-align: right;\n",
       "    }\n",
       "</style>\n",
       "<table border=\"1\" class=\"dataframe\">\n",
       "  <thead>\n",
       "    <tr style=\"text-align: right;\">\n",
       "      <th></th>\n",
       "      <th>rating</th>\n",
       "      <th>NumRatings</th>\n",
       "      <th>Proportion</th>\n",
       "    </tr>\n",
       "  </thead>\n",
       "  <tbody>\n",
       "    <tr>\n",
       "      <th>0</th>\n",
       "      <td>1.0</td>\n",
       "      <td>5944</td>\n",
       "      <td>6.0</td>\n",
       "    </tr>\n",
       "    <tr>\n",
       "      <th>1</th>\n",
       "      <td>2.0</td>\n",
       "      <td>1746</td>\n",
       "      <td>1.8</td>\n",
       "    </tr>\n",
       "    <tr>\n",
       "      <th>2</th>\n",
       "      <td>3.0</td>\n",
       "      <td>2043</td>\n",
       "      <td>2.0</td>\n",
       "    </tr>\n",
       "    <tr>\n",
       "      <th>3</th>\n",
       "      <td>4.0</td>\n",
       "      <td>2343</td>\n",
       "      <td>2.3</td>\n",
       "    </tr>\n",
       "    <tr>\n",
       "      <th>4</th>\n",
       "      <td>5.0</td>\n",
       "      <td>87668</td>\n",
       "      <td>87.9</td>\n",
       "    </tr>\n",
       "  </tbody>\n",
       "</table>\n",
       "</div>"
      ],
      "text/plain": [
       "   rating  NumRatings  Proportion\n",
       "0     1.0        5944         6.0\n",
       "1     2.0        1746         1.8\n",
       "2     3.0        2043         2.0\n",
       "3     4.0        2343         2.3\n",
       "4     5.0       87668        87.9"
      ]
     },
     "execution_count": 5,
     "metadata": {},
     "output_type": "execute_result"
    }
   ],
   "source": [
    "\"\"\"iTunes comedy podcats proportions per ratings\"\"\"\n",
    "comedies_ratings = (comedies.groupby('rating')\n",
    "                        .agg(NumRatings=('podcast_id','count'))\n",
    "                        .reset_index())\n",
    "comedies_ratings['Proportion'] = round(comedies_ratings.NumRatings\n",
    "                                       /comedies_ratings.NumRatings.sum()\n",
    "                                       *100\n",
    "                                       ,1)\n",
    "comedies_ratings"
   ]
  },
  {
   "cell_type": "code",
   "execution_count": 6,
   "id": "3675744d-1bd0-49d1-8814-245201ca09ac",
   "metadata": {},
   "outputs": [
    {
     "name": "stdout",
     "output_type": "stream",
     "text": [
      "Total comedies reviews: 99744\n",
      "# of comedies reviews with 5 star rating: 87668\n"
     ]
    }
   ],
   "source": [
    "print('Total comedies reviews:', comedies_ratings.NumRatings.sum())\n",
    "print('# of comedies reviews with 5 star rating:', comedies_ratings.NumRatings[4])"
   ]
  },
  {
   "cell_type": "markdown",
   "id": "ad22f49e-82cb-455b-9f95-237484422418",
   "metadata": {},
   "source": [
    "Majority of comedies podcasts gets 5 star ratings (87.9%). \n",
    "\n",
    "We want to estimate the confidence interval for population proportion of comedy podcasts getting 5 star rating."
   ]
  },
  {
   "cell_type": "markdown",
   "id": "71434812-b521-4bfd-b54a-03165d294249",
   "metadata": {},
   "source": [
    "### Proportion confidence interval"
   ]
  },
  {
   "cell_type": "code",
   "execution_count": 7,
   "id": "8dcd5de0-d3c6-4207-87c4-86b8c1b8863f",
   "metadata": {},
   "outputs": [
    {
     "data": {
      "text/plain": [
       "0.0010328849055836805"
      ]
     },
     "execution_count": 7,
     "metadata": {},
     "output_type": "execute_result"
    }
   ],
   "source": [
    "tstar = 1.96 # z multiplier, z-score\n",
    "p = comedies_ratings.NumRatings[4]/ comedies_ratings.NumRatings.sum() # saple proportion\n",
    "n = comedies_ratings.NumRatings.sum() # sample size\n",
    "\n",
    "# standart error\n",
    "se = np.sqrt((p * (1 - p))/n)\n",
    "se"
   ]
  },
  {
   "cell_type": "code",
   "execution_count": 8,
   "id": "c2fbe1cd-52aa-4e76-aa9c-799db5e3cad4",
   "metadata": {},
   "outputs": [
    {
     "name": "stdout",
     "output_type": "stream",
     "text": [
      "Confidence interval:\n"
     ]
    },
    {
     "data": {
      "text/plain": [
       "(0.8769056065411035, 0.8809545153709916)"
      ]
     },
     "execution_count": 8,
     "metadata": {},
     "output_type": "execute_result"
    }
   ],
   "source": [
    "lcb = p - tstar * se #lower bound\n",
    "ucb = p + tstar * se #upper bound\n",
    "\n",
    "print(\"Confidence interval:\")\n",
    "(lcb, ucb)"
   ]
  },
  {
   "cell_type": "code",
   "execution_count": 9,
   "id": "ada1ef23-50b4-472c-93cc-8358cd726463",
   "metadata": {},
   "outputs": [
    {
     "name": "stdout",
     "output_type": "stream",
     "text": [
      "Confidence interval using statsmodels api function:\n"
     ]
    },
    {
     "data": {
      "text/plain": [
       "(0.8769056437409285, 0.8809544781711666)"
      ]
     },
     "execution_count": 9,
     "metadata": {},
     "output_type": "execute_result"
    }
   ],
   "source": [
    "print(\"Confidence interval using statsmodels api function:\")\n",
    "sm.stats.proportion_confint(n * p, n)"
   ]
  },
  {
   "cell_type": "markdown",
   "id": "994a894d-0189-4e8a-9ff9-8ef2ec6900f4",
   "metadata": {},
   "source": [
    "<b>We estimated, with 95% confidence, that the population proportion of comedy podcasts with 5 star ratings might be somewhere between 87.7% and 88.1%.</b>\n",
    "\n",
    "Which means, that between 87.7% and 88.1% of comedy podcast might have possibility to get very good rating."
   ]
  },
  {
   "cell_type": "markdown",
   "id": "37313cf6-38dd-4235-a15b-ba6e985e1a00",
   "metadata": {},
   "source": [
    "## H0: Bad reviews tend to grow more over crisis years than in economical, social growth time"
   ]
  },
  {
   "cell_type": "markdown",
   "id": "f92821c0-789b-44a7-a714-3c27c7d8231b",
   "metadata": {},
   "source": [
    "We will want to test hypothesis that during the crisis time (e.g. economical crisis at 2008-2010, covid-19 2020-2023)  bad reviews are increasing in comparison with ecomonical, social growth time (2005-2007, 2011-2019).\n",
    "\n",
    "For this reason we will prepare data and neccessary attributes:\n",
    "- Year group of the review\n",
    "- Sentiment - 2-positive if review was rated by 5, 1-neutral if rated was by 3-4, 0-negative rating if rated was by 1-2\n",
    "- ReviewLength - Reviews words count"
   ]
  },
  {
   "cell_type": "code",
   "execution_count": 30,
   "id": "30ff23bc-6b8f-4d1f-aa5a-2348bfadf44e",
   "metadata": {},
   "outputs": [
    {
     "data": {
      "text/html": [
       "<div>\n",
       "<style scoped>\n",
       "    .dataframe tbody tr th:only-of-type {\n",
       "        vertical-align: middle;\n",
       "    }\n",
       "\n",
       "    .dataframe tbody tr th {\n",
       "        vertical-align: top;\n",
       "    }\n",
       "\n",
       "    .dataframe thead th {\n",
       "        text-align: right;\n",
       "    }\n",
       "</style>\n",
       "<table border=\"1\" class=\"dataframe\">\n",
       "  <thead>\n",
       "    <tr style=\"text-align: right;\">\n",
       "      <th></th>\n",
       "      <th>index</th>\n",
       "      <th>podcast_id</th>\n",
       "      <th>itunes_id</th>\n",
       "      <th>slug</th>\n",
       "      <th>itunes_url</th>\n",
       "      <th>podcast_title</th>\n",
       "      <th>category</th>\n",
       "      <th>cat_agg</th>\n",
       "      <th>category_fixed</th>\n",
       "      <th>CategoriesNo</th>\n",
       "      <th>...</th>\n",
       "      <th>content</th>\n",
       "      <th>rating</th>\n",
       "      <th>author_id</th>\n",
       "      <th>created_at</th>\n",
       "      <th>ReviewDate</th>\n",
       "      <th>Year</th>\n",
       "      <th>Sentiment</th>\n",
       "      <th>NegativeRating</th>\n",
       "      <th>ReviewLength</th>\n",
       "      <th>Crisis</th>\n",
       "    </tr>\n",
       "  </thead>\n",
       "  <tbody>\n",
       "    <tr>\n",
       "      <th>0</th>\n",
       "      <td>0</td>\n",
       "      <td>a00018b54eb342567c94dacfb2a3e504</td>\n",
       "      <td>1.313466e+09</td>\n",
       "      <td>scaling-global</td>\n",
       "      <td>https://podcasts.apple.com/us/podcast/scaling-...</td>\n",
       "      <td>Scaling Global</td>\n",
       "      <td>business</td>\n",
       "      <td>business</td>\n",
       "      <td>business</td>\n",
       "      <td>1.0</td>\n",
       "      <td>...</td>\n",
       "      <td>Great variety of speakers!</td>\n",
       "      <td>5.0</td>\n",
       "      <td>CC47C85896D423B</td>\n",
       "      <td>2017-11-29T12:16:43-07:00</td>\n",
       "      <td>2017-11-29</td>\n",
       "      <td>2017</td>\n",
       "      <td>2</td>\n",
       "      <td>0</td>\n",
       "      <td>4</td>\n",
       "      <td>_2011_2019_Growth</td>\n",
       "    </tr>\n",
       "    <tr>\n",
       "      <th>1</th>\n",
       "      <td>1</td>\n",
       "      <td>a00043d34e734b09246d17dc5d56f63c</td>\n",
       "      <td>1.589735e+08</td>\n",
       "      <td>cornerstone-baptist-church-of-orlando</td>\n",
       "      <td>https://podcasts.apple.com/us/podcast/cornerst...</td>\n",
       "      <td>Cornerstone Baptist Church of Orlando</td>\n",
       "      <td>christianity</td>\n",
       "      <td>christianity,religion-spirituality</td>\n",
       "      <td>christianity-religion-spirituality</td>\n",
       "      <td>3.0</td>\n",
       "      <td>...</td>\n",
       "      <td>I'm a regular listener.  I only wish that the ...</td>\n",
       "      <td>5.0</td>\n",
       "      <td>103CC9DA2046218</td>\n",
       "      <td>2019-10-08T04:23:32-07:00</td>\n",
       "      <td>2019-10-08</td>\n",
       "      <td>2019</td>\n",
       "      <td>2</td>\n",
       "      <td>0</td>\n",
       "      <td>26</td>\n",
       "      <td>_2011_2019_Growth</td>\n",
       "    </tr>\n",
       "    <tr>\n",
       "      <th>2</th>\n",
       "      <td>2</td>\n",
       "      <td>a00043d34e734b09246d17dc5d56f63c</td>\n",
       "      <td>1.589735e+08</td>\n",
       "      <td>cornerstone-baptist-church-of-orlando</td>\n",
       "      <td>https://podcasts.apple.com/us/podcast/cornerst...</td>\n",
       "      <td>Cornerstone Baptist Church of Orlando</td>\n",
       "      <td>religion-spirituality</td>\n",
       "      <td>christianity,religion-spirituality</td>\n",
       "      <td>christianity-religion-spirituality</td>\n",
       "      <td>3.0</td>\n",
       "      <td>...</td>\n",
       "      <td>I'm a regular listener.  I only wish that the ...</td>\n",
       "      <td>5.0</td>\n",
       "      <td>103CC9DA2046218</td>\n",
       "      <td>2019-10-08T04:23:32-07:00</td>\n",
       "      <td>2019-10-08</td>\n",
       "      <td>2019</td>\n",
       "      <td>2</td>\n",
       "      <td>0</td>\n",
       "      <td>26</td>\n",
       "      <td>_2011_2019_Growth</td>\n",
       "    </tr>\n",
       "  </tbody>\n",
       "</table>\n",
       "<p>3 rows × 21 columns</p>\n",
       "</div>"
      ],
      "text/plain": [
       "   index                        podcast_id     itunes_id  \\\n",
       "0      0  a00018b54eb342567c94dacfb2a3e504  1.313466e+09   \n",
       "1      1  a00043d34e734b09246d17dc5d56f63c  1.589735e+08   \n",
       "2      2  a00043d34e734b09246d17dc5d56f63c  1.589735e+08   \n",
       "\n",
       "                                    slug  \\\n",
       "0                         scaling-global   \n",
       "1  cornerstone-baptist-church-of-orlando   \n",
       "2  cornerstone-baptist-church-of-orlando   \n",
       "\n",
       "                                          itunes_url  \\\n",
       "0  https://podcasts.apple.com/us/podcast/scaling-...   \n",
       "1  https://podcasts.apple.com/us/podcast/cornerst...   \n",
       "2  https://podcasts.apple.com/us/podcast/cornerst...   \n",
       "\n",
       "                           podcast_title               category  \\\n",
       "0                         Scaling Global               business   \n",
       "1  Cornerstone Baptist Church of Orlando           christianity   \n",
       "2  Cornerstone Baptist Church of Orlando  religion-spirituality   \n",
       "\n",
       "                              cat_agg                      category_fixed  \\\n",
       "0                            business                            business   \n",
       "1  christianity,religion-spirituality  christianity-religion-spirituality   \n",
       "2  christianity,religion-spirituality  christianity-religion-spirituality   \n",
       "\n",
       "   CategoriesNo  ...                                            content  \\\n",
       "0           1.0  ...                         Great variety of speakers!   \n",
       "1           3.0  ...  I'm a regular listener.  I only wish that the ...   \n",
       "2           3.0  ...  I'm a regular listener.  I only wish that the ...   \n",
       "\n",
       "  rating        author_id                 created_at  ReviewDate  Year  \\\n",
       "0    5.0  CC47C85896D423B  2017-11-29T12:16:43-07:00  2017-11-29  2017   \n",
       "1    5.0  103CC9DA2046218  2019-10-08T04:23:32-07:00  2019-10-08  2019   \n",
       "2    5.0  103CC9DA2046218  2019-10-08T04:23:32-07:00  2019-10-08  2019   \n",
       "\n",
       "  Sentiment  NegativeRating  ReviewLength             Crisis  \n",
       "0         2               0             4  _2011_2019_Growth  \n",
       "1         2               0            26  _2011_2019_Growth  \n",
       "2         2               0            26  _2011_2019_Growth  \n",
       "\n",
       "[3 rows x 21 columns]"
      ]
     },
     "execution_count": 30,
     "metadata": {},
     "output_type": "execute_result"
    }
   ],
   "source": [
    "df['Year'] = df.created_at.apply(lambda x: str(x)[0:4])\n",
    "d = df[df.Year != 'nan'].reset_index()\n",
    "\n",
    "\"\"\"2-positive, 1-neutral, 0-negative rating\"\"\"\n",
    "d['Sentiment'] = np.where(d.rating < 3, 0,\n",
    "                    np.where(d.rating > 4, 2, 1))\n",
    "\n",
    "d['NegativeRating'] = np.where(d.rating < 3, 1, 0)\n",
    "\n",
    "\"\"\"Number of words in review\"\"\"\n",
    "d['ReviewLength'] = d.content.apply(lambda x: len(x.split(' ')))\n",
    "\n",
    "\"\"\"Years categorization into growth and crisis groups\"\"\"\n",
    "year_map = {'2005': '_2005_2007_Growth',\n",
    "            '2006': '_2005_2007_Growth',\n",
    "            '2007': '_2005_2007_Growth',\n",
    "            \n",
    "            '2008': '_2008_2010_Crisis',\n",
    "            '2009': '_2008_2010_Crisis',\n",
    "            '2010': '_2008_2010_Crisis',\n",
    "            \n",
    "            '2011': '_2011_2019_Growth',\n",
    "            '2012': '_2011_2019_Growth',\n",
    "            '2013': '_2011_2019_Growth',\n",
    "            '2014': '_2011_2019_Growth',\n",
    "            '2015': '_2011_2019_Growth',\n",
    "            '2016': '_2011_2019_Growth',\n",
    "            '2017': '_2011_2019_Growth',\n",
    "            '2018': '_2011_2019_Growth',\n",
    "            '2019': '_2011_2019_Growth',\n",
    "            \n",
    "            '2020': '_2020_2023_Crisis',\n",
    "            '2021': '_2020_2023_Crisis',\n",
    "            '2022': '_2020_2023_Crisis',\n",
    "            '2023': '_2020_2023_Crisis'\n",
    "    }\n",
    "\n",
    "d['Crisis'] = d.Year.apply(lambda x: year_map[x])\n",
    "d.head(3)"
   ]
  },
  {
   "cell_type": "markdown",
   "id": "6a6e266d-9e28-4a93-9362-62ed86ddda3a",
   "metadata": {},
   "source": [
    "Lets count few metrics describing number of reviews, avg.rating, avg. review length, number of negative ratings and percent of negative ratings over the year groups per podcasts categories"
   ]
  },
  {
   "cell_type": "code",
   "execution_count": 50,
   "id": "246d7df2-ca94-4ecd-96ce-7b8ec8b331be",
   "metadata": {},
   "outputs": [
    {
     "data": {
      "text/html": [
       "<div>\n",
       "<style scoped>\n",
       "    .dataframe tbody tr th:only-of-type {\n",
       "        vertical-align: middle;\n",
       "    }\n",
       "\n",
       "    .dataframe tbody tr th {\n",
       "        vertical-align: top;\n",
       "    }\n",
       "\n",
       "    .dataframe thead th {\n",
       "        text-align: right;\n",
       "    }\n",
       "</style>\n",
       "<table border=\"1\" class=\"dataframe\">\n",
       "  <thead>\n",
       "    <tr style=\"text-align: right;\">\n",
       "      <th></th>\n",
       "      <th>Crisis</th>\n",
       "      <th>category_fixed</th>\n",
       "      <th>NumOfReviews</th>\n",
       "      <th>NumOfPodcasts</th>\n",
       "      <th>AvgRating</th>\n",
       "      <th>AvgRevLength</th>\n",
       "      <th>NumOfBadRatings</th>\n",
       "      <th>PercentBad</th>\n",
       "    </tr>\n",
       "  </thead>\n",
       "  <tbody>\n",
       "    <tr>\n",
       "      <th>0</th>\n",
       "      <td>_2005_2007_Growth</td>\n",
       "      <td>after-film-reviews-shows-tv</td>\n",
       "      <td>12</td>\n",
       "      <td>1</td>\n",
       "      <td>4.750000</td>\n",
       "      <td>29.500000</td>\n",
       "      <td>0</td>\n",
       "      <td>0.0</td>\n",
       "    </tr>\n",
       "    <tr>\n",
       "      <th>1</th>\n",
       "      <td>_2005_2007_Growth</td>\n",
       "      <td>alternative-education-fitness-health-improveme...</td>\n",
       "      <td>378</td>\n",
       "      <td>2</td>\n",
       "      <td>4.761905</td>\n",
       "      <td>64.476190</td>\n",
       "      <td>12</td>\n",
       "      <td>3.2</td>\n",
       "    </tr>\n",
       "    <tr>\n",
       "      <th>2</th>\n",
       "      <td>_2005_2007_Growth</td>\n",
       "      <td>alternative-education-fitness-health-improveme...</td>\n",
       "      <td>100</td>\n",
       "      <td>1</td>\n",
       "      <td>4.800000</td>\n",
       "      <td>39.840000</td>\n",
       "      <td>4</td>\n",
       "      <td>4.0</td>\n",
       "    </tr>\n",
       "    <tr>\n",
       "      <th>3</th>\n",
       "      <td>_2005_2007_Growth</td>\n",
       "      <td>alternative-family-fitness-health-kids</td>\n",
       "      <td>3</td>\n",
       "      <td>1</td>\n",
       "      <td>5.000000</td>\n",
       "      <td>78.000000</td>\n",
       "      <td>0</td>\n",
       "      <td>0.0</td>\n",
       "    </tr>\n",
       "    <tr>\n",
       "      <th>4</th>\n",
       "      <td>_2005_2007_Growth</td>\n",
       "      <td>alternative-fitness-health-natural-science-sci...</td>\n",
       "      <td>12</td>\n",
       "      <td>1</td>\n",
       "      <td>4.000000</td>\n",
       "      <td>93.666667</td>\n",
       "      <td>4</td>\n",
       "      <td>33.3</td>\n",
       "    </tr>\n",
       "    <tr>\n",
       "      <th>...</th>\n",
       "      <td>...</td>\n",
       "      <td>...</td>\n",
       "      <td>...</td>\n",
       "      <td>...</td>\n",
       "      <td>...</td>\n",
       "      <td>...</td>\n",
       "      <td>...</td>\n",
       "      <td>...</td>\n",
       "    </tr>\n",
       "    <tr>\n",
       "      <th>6848</th>\n",
       "      <td>_2020_2023_Crisis</td>\n",
       "      <td>sports-tennis</td>\n",
       "      <td>412</td>\n",
       "      <td>26</td>\n",
       "      <td>4.601942</td>\n",
       "      <td>46.550971</td>\n",
       "      <td>31</td>\n",
       "      <td>7.5</td>\n",
       "    </tr>\n",
       "    <tr>\n",
       "      <th>6849</th>\n",
       "      <td>_2020_2023_Crisis</td>\n",
       "      <td>sports-volleyball</td>\n",
       "      <td>96</td>\n",
       "      <td>10</td>\n",
       "      <td>4.947917</td>\n",
       "      <td>34.052083</td>\n",
       "      <td>1</td>\n",
       "      <td>1.0</td>\n",
       "    </tr>\n",
       "    <tr>\n",
       "      <th>6850</th>\n",
       "      <td>_2020_2023_Crisis</td>\n",
       "      <td>sports-wilderness</td>\n",
       "      <td>12141</td>\n",
       "      <td>241</td>\n",
       "      <td>4.790709</td>\n",
       "      <td>38.792851</td>\n",
       "      <td>531</td>\n",
       "      <td>4.4</td>\n",
       "    </tr>\n",
       "    <tr>\n",
       "      <th>6851</th>\n",
       "      <td>_2020_2023_Crisis</td>\n",
       "      <td>sports-wrestling</td>\n",
       "      <td>4635</td>\n",
       "      <td>274</td>\n",
       "      <td>4.433225</td>\n",
       "      <td>38.647249</td>\n",
       "      <td>600</td>\n",
       "      <td>12.9</td>\n",
       "    </tr>\n",
       "    <tr>\n",
       "      <th>6852</th>\n",
       "      <td>_2020_2023_Crisis</td>\n",
       "      <td>technology</td>\n",
       "      <td>4289</td>\n",
       "      <td>517</td>\n",
       "      <td>4.433434</td>\n",
       "      <td>40.054791</td>\n",
       "      <td>498</td>\n",
       "      <td>11.6</td>\n",
       "    </tr>\n",
       "  </tbody>\n",
       "</table>\n",
       "<p>6853 rows × 8 columns</p>\n",
       "</div>"
      ],
      "text/plain": [
       "                 Crisis                                     category_fixed  \\\n",
       "0     _2005_2007_Growth                        after-film-reviews-shows-tv   \n",
       "1     _2005_2007_Growth  alternative-education-fitness-health-improveme...   \n",
       "2     _2005_2007_Growth  alternative-education-fitness-health-improveme...   \n",
       "3     _2005_2007_Growth             alternative-family-fitness-health-kids   \n",
       "4     _2005_2007_Growth  alternative-fitness-health-natural-science-sci...   \n",
       "...                 ...                                                ...   \n",
       "6848  _2020_2023_Crisis                                      sports-tennis   \n",
       "6849  _2020_2023_Crisis                                  sports-volleyball   \n",
       "6850  _2020_2023_Crisis                                  sports-wilderness   \n",
       "6851  _2020_2023_Crisis                                   sports-wrestling   \n",
       "6852  _2020_2023_Crisis                                         technology   \n",
       "\n",
       "      NumOfReviews  NumOfPodcasts  AvgRating  AvgRevLength  NumOfBadRatings  \\\n",
       "0               12              1   4.750000     29.500000                0   \n",
       "1              378              2   4.761905     64.476190               12   \n",
       "2              100              1   4.800000     39.840000                4   \n",
       "3                3              1   5.000000     78.000000                0   \n",
       "4               12              1   4.000000     93.666667                4   \n",
       "...            ...            ...        ...           ...              ...   \n",
       "6848           412             26   4.601942     46.550971               31   \n",
       "6849            96             10   4.947917     34.052083                1   \n",
       "6850         12141            241   4.790709     38.792851              531   \n",
       "6851          4635            274   4.433225     38.647249              600   \n",
       "6852          4289            517   4.433434     40.054791              498   \n",
       "\n",
       "      PercentBad  \n",
       "0            0.0  \n",
       "1            3.2  \n",
       "2            4.0  \n",
       "3            0.0  \n",
       "4           33.3  \n",
       "...          ...  \n",
       "6848         7.5  \n",
       "6849         1.0  \n",
       "6850         4.4  \n",
       "6851        12.9  \n",
       "6852        11.6  \n",
       "\n",
       "[6853 rows x 8 columns]"
      ]
     },
     "execution_count": 50,
     "metadata": {},
     "output_type": "execute_result"
    }
   ],
   "source": [
    "reviews_info = (d.groupby(['Crisis','category_fixed'])\n",
    "                    .agg(NumOfReviews=('podcast_id','count'),\n",
    "                         NumOfPodcasts=('podcast_id','nunique'),\n",
    "                         AvgRating=('rating','mean'),\n",
    "                        AvgRevLength=('ReviewLength','mean'),\n",
    "                        NumOfBadRatings=('NegativeRating','sum'))\n",
    "                    .reset_index()\n",
    "                   )\n",
    "reviews_info['PercentBad'] = round(reviews_info.NumOfBadRatings/reviews_info.NumOfReviews*100,1)\n",
    "reviews_info"
   ]
  },
  {
   "cell_type": "code",
   "execution_count": 107,
   "id": "ac34521b-119d-4915-ad81-47d975d863ce",
   "metadata": {},
   "outputs": [
    {
     "name": "stdout",
     "output_type": "stream",
     "text": [
      "<class 'pandas.core.frame.DataFrame'>\n",
      "Index: 3621 entries, after-animation-comedy-film-leisure-manga-shows-tv to technology\n",
      "Data columns (total 23 columns):\n",
      " #   Column                           Non-Null Count  Dtype  \n",
      "---  ------                           --------------  -----  \n",
      " 0   AvgRating__2005_2007_Growth      311 non-null    float64\n",
      " 1   AvgRating__2008_2010_Crisis      535 non-null    float64\n",
      " 2   AvgRating__2011_2019_Growth      2918 non-null   float64\n",
      " 3   AvgRating__2020_2023_Crisis      3089 non-null   float64\n",
      " 4   AvgRevLength__2005_2007_Growth   311 non-null    float64\n",
      " 5   AvgRevLength__2008_2010_Crisis   535 non-null    float64\n",
      " 6   AvgRevLength__2011_2019_Growth   2918 non-null   float64\n",
      " 7   AvgRevLength__2020_2023_Crisis   3089 non-null   float64\n",
      " 8   NumOfPodcasts__2005_2007_Growth  311 non-null    float64\n",
      " 9   NumOfPodcasts__2008_2010_Crisis  535 non-null    float64\n",
      " 10  NumOfPodcasts__2011_2019_Growth  2918 non-null   float64\n",
      " 11  NumOfPodcasts__2020_2023_Crisis  3089 non-null   float64\n",
      " 12  NumOfReviews__2005_2007_Growth   311 non-null    float64\n",
      " 13  NumOfReviews__2008_2010_Crisis   535 non-null    float64\n",
      " 14  NumOfReviews__2011_2019_Growth   2918 non-null   float64\n",
      " 15  NumOfReviews__2020_2023_Crisis   3089 non-null   float64\n",
      " 16  PercentBad__2005_2007_Growth     311 non-null    float64\n",
      " 17  PercentBad__2008_2010_Crisis     535 non-null    float64\n",
      " 18  PercentBad__2011_2019_Growth     2918 non-null   float64\n",
      " 19  PercentBad__2020_2023_Crisis     3089 non-null   float64\n",
      " 20  DiffBadPropCrisis                2402 non-null   float64\n",
      " 21  DiffAvgRatingCrisis              2402 non-null   float64\n",
      " 22  DiffAvgRavLenCrisis              2402 non-null   float64\n",
      "dtypes: float64(23)\n",
      "memory usage: 678.9+ KB\n"
     ]
    },
    {
     "data": {
      "text/html": [
       "<div>\n",
       "<style scoped>\n",
       "    .dataframe tbody tr th:only-of-type {\n",
       "        vertical-align: middle;\n",
       "    }\n",
       "\n",
       "    .dataframe tbody tr th {\n",
       "        vertical-align: top;\n",
       "    }\n",
       "\n",
       "    .dataframe thead th {\n",
       "        text-align: right;\n",
       "    }\n",
       "</style>\n",
       "<table border=\"1\" class=\"dataframe\">\n",
       "  <thead>\n",
       "    <tr style=\"text-align: right;\">\n",
       "      <th></th>\n",
       "      <th>AvgRating__2005_2007_Growth</th>\n",
       "      <th>AvgRating__2008_2010_Crisis</th>\n",
       "      <th>AvgRating__2011_2019_Growth</th>\n",
       "      <th>AvgRating__2020_2023_Crisis</th>\n",
       "      <th>AvgRevLength__2005_2007_Growth</th>\n",
       "      <th>AvgRevLength__2008_2010_Crisis</th>\n",
       "      <th>AvgRevLength__2011_2019_Growth</th>\n",
       "      <th>AvgRevLength__2020_2023_Crisis</th>\n",
       "      <th>NumOfPodcasts__2005_2007_Growth</th>\n",
       "      <th>NumOfPodcasts__2008_2010_Crisis</th>\n",
       "      <th>...</th>\n",
       "      <th>NumOfReviews__2008_2010_Crisis</th>\n",
       "      <th>NumOfReviews__2011_2019_Growth</th>\n",
       "      <th>NumOfReviews__2020_2023_Crisis</th>\n",
       "      <th>PercentBad__2005_2007_Growth</th>\n",
       "      <th>PercentBad__2008_2010_Crisis</th>\n",
       "      <th>PercentBad__2011_2019_Growth</th>\n",
       "      <th>PercentBad__2020_2023_Crisis</th>\n",
       "      <th>DiffBadPropCrisis</th>\n",
       "      <th>DiffAvgRatingCrisis</th>\n",
       "      <th>DiffAvgRavLenCrisis</th>\n",
       "    </tr>\n",
       "    <tr>\n",
       "      <th>category_fixed</th>\n",
       "      <th></th>\n",
       "      <th></th>\n",
       "      <th></th>\n",
       "      <th></th>\n",
       "      <th></th>\n",
       "      <th></th>\n",
       "      <th></th>\n",
       "      <th></th>\n",
       "      <th></th>\n",
       "      <th></th>\n",
       "      <th></th>\n",
       "      <th></th>\n",
       "      <th></th>\n",
       "      <th></th>\n",
       "      <th></th>\n",
       "      <th></th>\n",
       "      <th></th>\n",
       "      <th></th>\n",
       "      <th></th>\n",
       "      <th></th>\n",
       "      <th></th>\n",
       "    </tr>\n",
       "  </thead>\n",
       "  <tbody>\n",
       "    <tr>\n",
       "      <th>after-animation-comedy-film-leisure-manga-shows-tv</th>\n",
       "      <td>NaN</td>\n",
       "      <td>NaN</td>\n",
       "      <td>5.000000</td>\n",
       "      <td>5.000000</td>\n",
       "      <td>NaN</td>\n",
       "      <td>NaN</td>\n",
       "      <td>65.000000</td>\n",
       "      <td>32.750000</td>\n",
       "      <td>NaN</td>\n",
       "      <td>NaN</td>\n",
       "      <td>...</td>\n",
       "      <td>NaN</td>\n",
       "      <td>135.0</td>\n",
       "      <td>20.0</td>\n",
       "      <td>NaN</td>\n",
       "      <td>NaN</td>\n",
       "      <td>0.0</td>\n",
       "      <td>0.0</td>\n",
       "      <td>0.0</td>\n",
       "      <td>0.000000</td>\n",
       "      <td>-32.250000</td>\n",
       "    </tr>\n",
       "    <tr>\n",
       "      <th>after-animation-film-leisure-manga-shows-tv</th>\n",
       "      <td>NaN</td>\n",
       "      <td>NaN</td>\n",
       "      <td>5.000000</td>\n",
       "      <td>4.782609</td>\n",
       "      <td>NaN</td>\n",
       "      <td>NaN</td>\n",
       "      <td>47.250000</td>\n",
       "      <td>19.000000</td>\n",
       "      <td>NaN</td>\n",
       "      <td>NaN</td>\n",
       "      <td>...</td>\n",
       "      <td>NaN</td>\n",
       "      <td>32.0</td>\n",
       "      <td>92.0</td>\n",
       "      <td>NaN</td>\n",
       "      <td>NaN</td>\n",
       "      <td>0.0</td>\n",
       "      <td>0.0</td>\n",
       "      <td>0.0</td>\n",
       "      <td>-0.217391</td>\n",
       "      <td>-28.250000</td>\n",
       "    </tr>\n",
       "    <tr>\n",
       "      <th>after-arts-books-film-shows-tv</th>\n",
       "      <td>NaN</td>\n",
       "      <td>NaN</td>\n",
       "      <td>4.642643</td>\n",
       "      <td>4.619048</td>\n",
       "      <td>NaN</td>\n",
       "      <td>NaN</td>\n",
       "      <td>67.234234</td>\n",
       "      <td>40.142857</td>\n",
       "      <td>NaN</td>\n",
       "      <td>NaN</td>\n",
       "      <td>...</td>\n",
       "      <td>NaN</td>\n",
       "      <td>1332.0</td>\n",
       "      <td>84.0</td>\n",
       "      <td>NaN</td>\n",
       "      <td>NaN</td>\n",
       "      <td>7.5</td>\n",
       "      <td>9.5</td>\n",
       "      <td>2.0</td>\n",
       "      <td>-0.023595</td>\n",
       "      <td>-27.091377</td>\n",
       "    </tr>\n",
       "    <tr>\n",
       "      <th>after-arts-comedy-film-food-shows-tv</th>\n",
       "      <td>NaN</td>\n",
       "      <td>NaN</td>\n",
       "      <td>5.000000</td>\n",
       "      <td>4.971429</td>\n",
       "      <td>NaN</td>\n",
       "      <td>NaN</td>\n",
       "      <td>26.416667</td>\n",
       "      <td>29.857143</td>\n",
       "      <td>NaN</td>\n",
       "      <td>NaN</td>\n",
       "      <td>...</td>\n",
       "      <td>NaN</td>\n",
       "      <td>120.0</td>\n",
       "      <td>175.0</td>\n",
       "      <td>NaN</td>\n",
       "      <td>NaN</td>\n",
       "      <td>0.0</td>\n",
       "      <td>0.0</td>\n",
       "      <td>0.0</td>\n",
       "      <td>-0.028571</td>\n",
       "      <td>3.440476</td>\n",
       "    </tr>\n",
       "  </tbody>\n",
       "</table>\n",
       "<p>4 rows × 23 columns</p>\n",
       "</div>"
      ],
      "text/plain": [
       "                                                    AvgRating__2005_2007_Growth  \\\n",
       "category_fixed                                                                    \n",
       "after-animation-comedy-film-leisure-manga-shows-tv                          NaN   \n",
       "after-animation-film-leisure-manga-shows-tv                                 NaN   \n",
       "after-arts-books-film-shows-tv                                              NaN   \n",
       "after-arts-comedy-film-food-shows-tv                                        NaN   \n",
       "\n",
       "                                                    AvgRating__2008_2010_Crisis  \\\n",
       "category_fixed                                                                    \n",
       "after-animation-comedy-film-leisure-manga-shows-tv                          NaN   \n",
       "after-animation-film-leisure-manga-shows-tv                                 NaN   \n",
       "after-arts-books-film-shows-tv                                              NaN   \n",
       "after-arts-comedy-film-food-shows-tv                                        NaN   \n",
       "\n",
       "                                                    AvgRating__2011_2019_Growth  \\\n",
       "category_fixed                                                                    \n",
       "after-animation-comedy-film-leisure-manga-shows-tv                     5.000000   \n",
       "after-animation-film-leisure-manga-shows-tv                            5.000000   \n",
       "after-arts-books-film-shows-tv                                         4.642643   \n",
       "after-arts-comedy-film-food-shows-tv                                   5.000000   \n",
       "\n",
       "                                                    AvgRating__2020_2023_Crisis  \\\n",
       "category_fixed                                                                    \n",
       "after-animation-comedy-film-leisure-manga-shows-tv                     5.000000   \n",
       "after-animation-film-leisure-manga-shows-tv                            4.782609   \n",
       "after-arts-books-film-shows-tv                                         4.619048   \n",
       "after-arts-comedy-film-food-shows-tv                                   4.971429   \n",
       "\n",
       "                                                    AvgRevLength__2005_2007_Growth  \\\n",
       "category_fixed                                                                       \n",
       "after-animation-comedy-film-leisure-manga-shows-tv                             NaN   \n",
       "after-animation-film-leisure-manga-shows-tv                                    NaN   \n",
       "after-arts-books-film-shows-tv                                                 NaN   \n",
       "after-arts-comedy-film-food-shows-tv                                           NaN   \n",
       "\n",
       "                                                    AvgRevLength__2008_2010_Crisis  \\\n",
       "category_fixed                                                                       \n",
       "after-animation-comedy-film-leisure-manga-shows-tv                             NaN   \n",
       "after-animation-film-leisure-manga-shows-tv                                    NaN   \n",
       "after-arts-books-film-shows-tv                                                 NaN   \n",
       "after-arts-comedy-film-food-shows-tv                                           NaN   \n",
       "\n",
       "                                                    AvgRevLength__2011_2019_Growth  \\\n",
       "category_fixed                                                                       \n",
       "after-animation-comedy-film-leisure-manga-shows-tv                       65.000000   \n",
       "after-animation-film-leisure-manga-shows-tv                              47.250000   \n",
       "after-arts-books-film-shows-tv                                           67.234234   \n",
       "after-arts-comedy-film-food-shows-tv                                     26.416667   \n",
       "\n",
       "                                                    AvgRevLength__2020_2023_Crisis  \\\n",
       "category_fixed                                                                       \n",
       "after-animation-comedy-film-leisure-manga-shows-tv                       32.750000   \n",
       "after-animation-film-leisure-manga-shows-tv                              19.000000   \n",
       "after-arts-books-film-shows-tv                                           40.142857   \n",
       "after-arts-comedy-film-food-shows-tv                                     29.857143   \n",
       "\n",
       "                                                    NumOfPodcasts__2005_2007_Growth  \\\n",
       "category_fixed                                                                        \n",
       "after-animation-comedy-film-leisure-manga-shows-tv                              NaN   \n",
       "after-animation-film-leisure-manga-shows-tv                                     NaN   \n",
       "after-arts-books-film-shows-tv                                                  NaN   \n",
       "after-arts-comedy-film-food-shows-tv                                            NaN   \n",
       "\n",
       "                                                    NumOfPodcasts__2008_2010_Crisis  \\\n",
       "category_fixed                                                                        \n",
       "after-animation-comedy-film-leisure-manga-shows-tv                              NaN   \n",
       "after-animation-film-leisure-manga-shows-tv                                     NaN   \n",
       "after-arts-books-film-shows-tv                                                  NaN   \n",
       "after-arts-comedy-film-food-shows-tv                                            NaN   \n",
       "\n",
       "                                                    ...  \\\n",
       "category_fixed                                      ...   \n",
       "after-animation-comedy-film-leisure-manga-shows-tv  ...   \n",
       "after-animation-film-leisure-manga-shows-tv         ...   \n",
       "after-arts-books-film-shows-tv                      ...   \n",
       "after-arts-comedy-film-food-shows-tv                ...   \n",
       "\n",
       "                                                    NumOfReviews__2008_2010_Crisis  \\\n",
       "category_fixed                                                                       \n",
       "after-animation-comedy-film-leisure-manga-shows-tv                             NaN   \n",
       "after-animation-film-leisure-manga-shows-tv                                    NaN   \n",
       "after-arts-books-film-shows-tv                                                 NaN   \n",
       "after-arts-comedy-film-food-shows-tv                                           NaN   \n",
       "\n",
       "                                                    NumOfReviews__2011_2019_Growth  \\\n",
       "category_fixed                                                                       \n",
       "after-animation-comedy-film-leisure-manga-shows-tv                           135.0   \n",
       "after-animation-film-leisure-manga-shows-tv                                   32.0   \n",
       "after-arts-books-film-shows-tv                                              1332.0   \n",
       "after-arts-comedy-film-food-shows-tv                                         120.0   \n",
       "\n",
       "                                                    NumOfReviews__2020_2023_Crisis  \\\n",
       "category_fixed                                                                       \n",
       "after-animation-comedy-film-leisure-manga-shows-tv                            20.0   \n",
       "after-animation-film-leisure-manga-shows-tv                                   92.0   \n",
       "after-arts-books-film-shows-tv                                                84.0   \n",
       "after-arts-comedy-film-food-shows-tv                                         175.0   \n",
       "\n",
       "                                                    PercentBad__2005_2007_Growth  \\\n",
       "category_fixed                                                                     \n",
       "after-animation-comedy-film-leisure-manga-shows-tv                           NaN   \n",
       "after-animation-film-leisure-manga-shows-tv                                  NaN   \n",
       "after-arts-books-film-shows-tv                                               NaN   \n",
       "after-arts-comedy-film-food-shows-tv                                         NaN   \n",
       "\n",
       "                                                    PercentBad__2008_2010_Crisis  \\\n",
       "category_fixed                                                                     \n",
       "after-animation-comedy-film-leisure-manga-shows-tv                           NaN   \n",
       "after-animation-film-leisure-manga-shows-tv                                  NaN   \n",
       "after-arts-books-film-shows-tv                                               NaN   \n",
       "after-arts-comedy-film-food-shows-tv                                         NaN   \n",
       "\n",
       "                                                    PercentBad__2011_2019_Growth  \\\n",
       "category_fixed                                                                     \n",
       "after-animation-comedy-film-leisure-manga-shows-tv                           0.0   \n",
       "after-animation-film-leisure-manga-shows-tv                                  0.0   \n",
       "after-arts-books-film-shows-tv                                               7.5   \n",
       "after-arts-comedy-film-food-shows-tv                                         0.0   \n",
       "\n",
       "                                                    PercentBad__2020_2023_Crisis  \\\n",
       "category_fixed                                                                     \n",
       "after-animation-comedy-film-leisure-manga-shows-tv                           0.0   \n",
       "after-animation-film-leisure-manga-shows-tv                                  0.0   \n",
       "after-arts-books-film-shows-tv                                               9.5   \n",
       "after-arts-comedy-film-food-shows-tv                                         0.0   \n",
       "\n",
       "                                                    DiffBadPropCrisis  \\\n",
       "category_fixed                                                          \n",
       "after-animation-comedy-film-leisure-manga-shows-tv                0.0   \n",
       "after-animation-film-leisure-manga-shows-tv                       0.0   \n",
       "after-arts-books-film-shows-tv                                    2.0   \n",
       "after-arts-comedy-film-food-shows-tv                              0.0   \n",
       "\n",
       "                                                    DiffAvgRatingCrisis  \\\n",
       "category_fixed                                                            \n",
       "after-animation-comedy-film-leisure-manga-shows-tv             0.000000   \n",
       "after-animation-film-leisure-manga-shows-tv                   -0.217391   \n",
       "after-arts-books-film-shows-tv                                -0.023595   \n",
       "after-arts-comedy-film-food-shows-tv                          -0.028571   \n",
       "\n",
       "                                                    DiffAvgRavLenCrisis  \n",
       "category_fixed                                                           \n",
       "after-animation-comedy-film-leisure-manga-shows-tv           -32.250000  \n",
       "after-animation-film-leisure-manga-shows-tv                  -28.250000  \n",
       "after-arts-books-film-shows-tv                               -27.091377  \n",
       "after-arts-comedy-film-food-shows-tv                           3.440476  \n",
       "\n",
       "[4 rows x 23 columns]"
      ]
     },
     "execution_count": 107,
     "metadata": {},
     "output_type": "execute_result"
    }
   ],
   "source": [
    "df_crisis = pd.pivot_table(reviews_info, \n",
    "                          values=['NumOfReviews','AvgRating','AvgRevLength','PercentBad','NumOfPodcasts'],\n",
    "                          index=['category_fixed'],\n",
    "                          columns=['Crisis'],\n",
    "                          aggfunc=np.sum)\n",
    "\n",
    "\"\"\"Flatten pivot table column names\"\"\"\n",
    "df_crisis.columns = df_crisis.columns.to_series().str.join('_')\n",
    "\n",
    "df_crisis['DiffBadPropCrisis'] = df_crisis.PercentBad__2020_2023_Crisis - df_crisis.PercentBad__2011_2019_Growth\n",
    "df_crisis['DiffAvgRatingCrisis'] = df_crisis.AvgRating__2020_2023_Crisis - df_crisis.AvgRating__2011_2019_Growth\n",
    "df_crisis['DiffAvgRavLenCrisis'] = df_crisis.AvgRevLength__2020_2023_Crisis - df_crisis.AvgRevLength__2011_2019_Growth\n",
    "\n",
    "df_crisis.info()\n",
    "df_crisis.head(4)"
   ]
  },
  {
   "cell_type": "markdown",
   "id": "e144771e-e364-4cf0-868c-1bc916b6ea13",
   "metadata": {},
   "source": [
    "We will filter these categories which has more than 100 reviews and more than 10 podcasts over 2011-2019 and 2020 - 2023"
   ]
  },
  {
   "cell_type": "code",
   "execution_count": 108,
   "id": "4059aab6-3e24-4fa4-9b86-883ae5d569c9",
   "metadata": {},
   "outputs": [
    {
     "name": "stdout",
     "output_type": "stream",
     "text": [
      "Number of categories with 100+ reviews: 403\n"
     ]
    }
   ],
   "source": [
    "df_crisis = df_crisis[(df_crisis.NumOfReviews__2011_2019_Growth >= 100)\n",
    "                      &\n",
    "                      (df_crisis.NumOfReviews__2020_2023_Crisis >= 100)\n",
    "                      &\n",
    "                      (df_crisis.NumOfPodcasts__2011_2019_Growth >= 10)\n",
    "                      & \n",
    "                      (df_crisis.NumOfPodcasts__2020_2023_Crisis >= 10)].reset_index()\n",
    "\n",
    "print(\"Number of categories with 100+ reviews:\",len(df_crisis.NumOfReviews__2020_2023_Crisis))"
   ]
  },
  {
   "cell_type": "code",
   "execution_count": 109,
   "id": "f80eff3b-987c-4d5b-bc11-e2a2afc3a4de",
   "metadata": {},
   "outputs": [
    {
     "data": {
      "text/html": [
       "<div>\n",
       "<style scoped>\n",
       "    .dataframe tbody tr th:only-of-type {\n",
       "        vertical-align: middle;\n",
       "    }\n",
       "\n",
       "    .dataframe tbody tr th {\n",
       "        vertical-align: top;\n",
       "    }\n",
       "\n",
       "    .dataframe thead th {\n",
       "        text-align: right;\n",
       "    }\n",
       "</style>\n",
       "<table border=\"1\" class=\"dataframe\">\n",
       "  <thead>\n",
       "    <tr style=\"text-align: right;\">\n",
       "      <th></th>\n",
       "      <th>DiffBadPropCrisis</th>\n",
       "      <th>DiffAvgRatingCrisis</th>\n",
       "    </tr>\n",
       "  </thead>\n",
       "  <tbody>\n",
       "    <tr>\n",
       "      <th>count</th>\n",
       "      <td>403.000000</td>\n",
       "      <td>403.000000</td>\n",
       "    </tr>\n",
       "    <tr>\n",
       "      <th>mean</th>\n",
       "      <td>2.128536</td>\n",
       "      <td>-0.087616</td>\n",
       "    </tr>\n",
       "    <tr>\n",
       "      <th>std</th>\n",
       "      <td>4.328800</td>\n",
       "      <td>0.184237</td>\n",
       "    </tr>\n",
       "    <tr>\n",
       "      <th>min</th>\n",
       "      <td>-12.200000</td>\n",
       "      <td>-0.839080</td>\n",
       "    </tr>\n",
       "    <tr>\n",
       "      <th>25%</th>\n",
       "      <td>-0.200000</td>\n",
       "      <td>-0.176165</td>\n",
       "    </tr>\n",
       "    <tr>\n",
       "      <th>50%</th>\n",
       "      <td>1.300000</td>\n",
       "      <td>-0.056834</td>\n",
       "    </tr>\n",
       "    <tr>\n",
       "      <th>75%</th>\n",
       "      <td>3.850000</td>\n",
       "      <td>0.014898</td>\n",
       "    </tr>\n",
       "    <tr>\n",
       "      <th>max</th>\n",
       "      <td>20.800000</td>\n",
       "      <td>0.541335</td>\n",
       "    </tr>\n",
       "  </tbody>\n",
       "</table>\n",
       "</div>"
      ],
      "text/plain": [
       "       DiffBadPropCrisis  DiffAvgRatingCrisis\n",
       "count         403.000000           403.000000\n",
       "mean            2.128536            -0.087616\n",
       "std             4.328800             0.184237\n",
       "min           -12.200000            -0.839080\n",
       "25%            -0.200000            -0.176165\n",
       "50%             1.300000            -0.056834\n",
       "75%             3.850000             0.014898\n",
       "max            20.800000             0.541335"
      ]
     },
     "execution_count": 109,
     "metadata": {},
     "output_type": "execute_result"
    }
   ],
   "source": [
    "df_crisis[['DiffBadPropCrisis','DiffAvgRatingCrisis']].describe()"
   ]
  },
  {
   "cell_type": "markdown",
   "id": "94be4140-1af4-4eb6-afaa-422d54faee8c",
   "metadata": {},
   "source": [
    "- We can see that Proportion of Bad reviews compared the growth years 2011-2019 and crisis years 2020 - 2023 increased. Avg. difference in percentage points were 2.1, then median 1.3.\n",
    "\n",
    "- Avg. rating metrics all statistics are negative, wich means that avg. rating also decreased per all categories.\n",
    "\n",
    "We want to check whether the this negative reviews proportion increase and avg. rating decrease is significant. For this reason we will raise two hypotesis:\n",
    "\n",
    "<b>Negative ratings proportions:</b>\n",
    "\n",
    "<b>H0: Negative ratings proportion difference means between Growth and Crisis period is equal. </b> (μ1=μ2)\n",
    " \n",
    "\n",
    "H1: Negative ratings proportion difference means between Growth and Crisis period is significant different from 0. (μ1≠μ2)\n",
    "\n",
    "<b>Avg. ratings:</b>\n",
    "\n",
    "<b>H0: Avg. rating difference means between Growth and Crisis period is equal. </b> (μ1=μ2)\n",
    "\n",
    "H1: Avg. rating difference means between Growth and Crisis period is significant different from 0. (μ1≠μ2)"
   ]
  },
  {
   "cell_type": "code",
   "execution_count": 110,
   "id": "c66938d3-2d39-4b1f-a792-a39a6ebb0c79",
   "metadata": {},
   "outputs": [
    {
     "name": "stderr",
     "output_type": "stream",
     "text": [
      "/Users/kristinazekiene/opt/anaconda3/lib/python3.9/site-packages/seaborn/_decorators.py:36: FutureWarning: Pass the following variables as keyword args: x, y. From version 0.12, the only valid positional argument will be `data`, and passing other arguments without an explicit keyword will result in an error or misinterpretation.\n",
      "  warnings.warn(\n"
     ]
    },
    {
     "data": {
      "image/png": "[encoded data removed]",
      "text/plain": [
       "<Figure size 432x288 with 1 Axes>"
      ]
     },
     "metadata": {
      "needs_background": "light"
     },
     "output_type": "display_data"
    }
   ],
   "source": [
    "\"\"\"Scatter plot categories proportions of bad ratings\"\"\"\n",
    "(sns.regplot(df_crisis.PercentBad__2011_2019_Growth,\n",
    "            df_crisis.PercentBad__2020_2023_Crisis, ci=None)\n",
    "     .set(title='Proportion of negative reviews on 2011-2019 vs. 2020-2023'))\n",
    "plt.show()"
   ]
  },
  {
   "cell_type": "code",
   "execution_count": 111,
   "id": "9fda1286-63b2-42d5-94d7-1ba153bc395a",
   "metadata": {},
   "outputs": [
    {
     "name": "stderr",
     "output_type": "stream",
     "text": [
      "/Users/kristinazekiene/opt/anaconda3/lib/python3.9/site-packages/seaborn/_decorators.py:36: FutureWarning: Pass the following variables as keyword args: x, y. From version 0.12, the only valid positional argument will be `data`, and passing other arguments without an explicit keyword will result in an error or misinterpretation.\n",
      "  warnings.warn(\n"
     ]
    },
    {
     "data": {
      "image/png": "[encoded data removed]",
      "text/plain": [
       "<Figure size 432x288 with 1 Axes>"
      ]
     },
     "metadata": {
      "needs_background": "light"
     },
     "output_type": "display_data"
    }
   ],
   "source": [
    "\"\"\"Scatter plot categories avg. ratings\"\"\"\n",
    "(sns.regplot(df_crisis.AvgRating__2011_2019_Growth,\n",
    "            df_crisis.AvgRating__2020_2023_Crisis, ci=None)\n",
    "     .set(title='Avg. ratings on 2011-2019 vs. 2020-2023'))\n",
    "plt.show()"
   ]
  },
  {
   "cell_type": "markdown",
   "id": "cd020099-9b9d-41e6-b732-a69ccc20b06f",
   "metadata": {},
   "source": [
    "### H0: On negative ratings proportion"
   ]
  },
  {
   "cell_type": "markdown",
   "id": "fa319f46-42db-427e-8992-bc11242d1353",
   "metadata": {},
   "source": [
    "We will test for the significant mean difference in negative ratings proportion per year groups at 5% significance level"
   ]
  },
  {
   "cell_type": "code",
   "execution_count": 112,
   "id": "3764c8c1-ae12-442b-be44-ffce32b8c684",
   "metadata": {},
   "outputs": [
    {
     "data": {
      "image/png": "[encoded data removed]",
      "text/plain": [
       "<Figure size 360x360 with 1 Axes>"
      ]
     },
     "metadata": {
      "needs_background": "light"
     },
     "output_type": "display_data"
    }
   ],
   "source": [
    "(sns.displot(df_crisis, x=\"DiffBadPropCrisis\")\n",
    "    .set(title='Negative ratings difference distribution between 2011-2019 and 2020-2023'))\n",
    "plt.show()"
   ]
  },
  {
   "cell_type": "markdown",
   "id": "65ac1566-fb20-45d4-bd4d-0161ff411414",
   "metadata": {},
   "source": [
    "Negative ratings difference distribution is very similar to normal distribution."
   ]
  },
  {
   "cell_type": "code",
   "execution_count": 113,
   "id": "5264a5bf-8530-4aa6-920c-cee0576e97b0",
   "metadata": {},
   "outputs": [
    {
     "data": {
      "text/plain": [
       "(403, 4.56699751861042, 4.477142353024702)"
      ]
     },
     "execution_count": 113,
     "metadata": {},
     "output_type": "execute_result"
    }
   ],
   "source": [
    "n1 = len(df_crisis.PercentBad__2011_2019_Growth) # sample size\n",
    "mu1 = df_crisis['PercentBad__2011_2019_Growth'].mean() # mean\n",
    "sd1 = df_crisis['PercentBad__2011_2019_Growth'].std() # standart error\n",
    "\n",
    "(n1, mu1, sd1)"
   ]
  },
  {
   "cell_type": "code",
   "execution_count": 114,
   "id": "f7e5e4c9-a5eb-43a8-9869-822fe4c430b1",
   "metadata": {},
   "outputs": [
    {
     "data": {
      "text/plain": [
       "(403, 6.695533498759306, 5.883658954027491)"
      ]
     },
     "execution_count": 114,
     "metadata": {},
     "output_type": "execute_result"
    }
   ],
   "source": [
    "n2 = len(df_crisis.PercentBad__2020_2023_Crisis) # sample size\n",
    "mu2 = df_crisis['PercentBad__2020_2023_Crisis'].mean() # mean\n",
    "sd2 = df_crisis['PercentBad__2020_2023_Crisis'].std() # standart error\n",
    "\n",
    "(n2, mu2, sd2)"
   ]
  },
  {
   "cell_type": "code",
   "execution_count": 115,
   "id": "17fe0954-c41a-4e7b-b6cb-9f6ebf19bd39",
   "metadata": {},
   "outputs": [
    {
     "data": {
      "text/plain": [
       "(-5.779493522700953, 7.492583867848599e-09)"
      ]
     },
     "execution_count": 115,
     "metadata": {},
     "output_type": "execute_result"
    }
   ],
   "source": [
    "# Difference in Population Means hypothesis testing\n",
    "sm.stats.ztest(df_crisis.PercentBad__2011_2019_Growth, df_crisis.PercentBad__2020_2023_Crisis)"
   ]
  },
  {
   "cell_type": "markdown",
   "id": "e93fdeba-5e63-468c-a783-ec1b3da4bdcd",
   "metadata": {},
   "source": [
    "<b> Conclusion</b>:\n",
    "The first value is the test-statistic and second is p-value.\n",
    "We can see that p-value < 0.05. Thus, we reject H0 hyppthesis, and conclude that negative ratings proportion difference means between Growth and Crisis period is significant different from 0.\n",
    "\n",
    "We can interpret that proportions between growth 2011-2019 and crisis years 2020 - 2023 differs. "
   ]
  },
  {
   "cell_type": "markdown",
   "id": "81a2a087-cefe-4d03-bec6-72f3ecedf889",
   "metadata": {},
   "source": [
    "#### Confidence interval of negative rating proportion difference"
   ]
  },
  {
   "cell_type": "code",
   "execution_count": 116,
   "id": "c1362a0a-fcb3-4202-82c1-b4930b7cb0bc",
   "metadata": {},
   "outputs": [
    {
     "data": {
      "text/plain": [
       "9.871109462170349"
      ]
     },
     "execution_count": 116,
     "metadata": {},
     "output_type": "execute_result"
    }
   ],
   "source": [
    "diff_mu1 = df_crisis['DiffBadPropCrisis'].mean()\n",
    "diff_sd1 = df_crisis['DiffBadPropCrisis'].std()\n",
    "diff_n = len(df_crisis['DiffBadPropCrisis'])\n",
    "\n",
    "t_stat = (diff_mu1/(diff_sd1/math.sqrt(diff_n)))\n",
    "t_stat"
   ]
  },
  {
   "cell_type": "code",
   "execution_count": 117,
   "id": "656efc6c-bf23-497c-b420-8949f3e71852",
   "metadata": {},
   "outputs": [
    {
     "name": "stdout",
     "output_type": "stream",
     "text": [
      "95% confidence interval of negative rating proportion difference:\n"
     ]
    },
    {
     "data": {
      "text/plain": [
       "(0.0, 4.257071960297765)"
      ]
     },
     "execution_count": 117,
     "metadata": {},
     "output_type": "execute_result"
    }
   ],
   "source": [
    "lbc = diff_mu1 - t_stat*(diff_sd1/math.sqrt(diff_n))\n",
    "ubc = diff_mu1 + t_stat*(diff_sd1/math.sqrt(diff_n))\n",
    "print(\"95% confidence interval of negative rating proportion difference:\")\n",
    "(lbc,ubc)"
   ]
  },
  {
   "cell_type": "markdown",
   "id": "5b66f998-6cbe-45ea-82c7-27381adbb8ae",
   "metadata": {},
   "source": [
    "We can see that negative rating proportion difference between growth and crisis years might vary from 0 to 4.3 percentage points."
   ]
  },
  {
   "cell_type": "markdown",
   "id": "fd201f5d-570f-43a2-8035-0278885e8d2a",
   "metadata": {},
   "source": [
    "### H0: On Avg. rating difference"
   ]
  },
  {
   "cell_type": "code",
   "execution_count": 118,
   "id": "bc97720e-b34e-4e16-88e4-30b63533f2bd",
   "metadata": {},
   "outputs": [
    {
     "data": {
      "image/png": "[encoded data removed]",
      "text/plain": [
       "<Figure size 360x360 with 1 Axes>"
      ]
     },
     "metadata": {
      "needs_background": "light"
     },
     "output_type": "display_data"
    }
   ],
   "source": [
    "(sns.displot(df_crisis, x=\"DiffAvgRatingCrisis\")\n",
    "    .set(title='Avg. ratings difference distribution between 2011-2019 and 2020-2023'))\n",
    "plt.show()"
   ]
  },
  {
   "cell_type": "markdown",
   "id": "d59c29b5-29cc-4092-abae-5676766609d7",
   "metadata": {},
   "source": [
    "Avg. ratings difference distribution is very similar to normal distribution."
   ]
  },
  {
   "cell_type": "code",
   "execution_count": 119,
   "id": "b6993bba-342c-4ab2-8fa7-eaedc65280dd",
   "metadata": {},
   "outputs": [
    {
     "data": {
      "text/plain": [
       "(403, 4.767569036368404, 0.20396847735255372)"
      ]
     },
     "execution_count": 119,
     "metadata": {},
     "output_type": "execute_result"
    }
   ],
   "source": [
    "n1 = len(df_crisis.AvgRating__2011_2019_Growth) # sample size\n",
    "mu1 = df_crisis['AvgRating__2011_2019_Growth'].mean() # mean\n",
    "sd1 = df_crisis['AvgRating__2011_2019_Growth'].std() # standart error\n",
    "\n",
    "(n1, mu1, sd1)"
   ]
  },
  {
   "cell_type": "code",
   "execution_count": 120,
   "id": "4fea4d6f-cc49-4c4b-8b65-564df47b1b69",
   "metadata": {},
   "outputs": [
    {
     "data": {
      "text/plain": [
       "(403, 4.679952835875355, 0.2578602040184327)"
      ]
     },
     "execution_count": 120,
     "metadata": {},
     "output_type": "execute_result"
    }
   ],
   "source": [
    "n2 = len(df_crisis.AvgRating__2020_2023_Crisis) # sample size\n",
    "mu2 = df_crisis['AvgRating__2020_2023_Crisis'].mean() # mean\n",
    "sd2 = df_crisis['AvgRating__2020_2023_Crisis'].std() # standart error\n",
    "\n",
    "(n2, mu2, sd2)"
   ]
  },
  {
   "cell_type": "code",
   "execution_count": 121,
   "id": "19560161-2d2f-4091-bea6-251f6adec6ee",
   "metadata": {},
   "outputs": [
    {
     "data": {
      "text/plain": [
       "(5.349757382199777, 8.807222255971272e-08)"
      ]
     },
     "execution_count": 121,
     "metadata": {},
     "output_type": "execute_result"
    }
   ],
   "source": [
    "# Difference in Population Means hypothesis testing\n",
    "sm.stats.ztest(df_crisis.AvgRating__2011_2019_Growth, df_crisis.AvgRating__2020_2023_Crisis)"
   ]
  },
  {
   "cell_type": "markdown",
   "id": "bf58a570-72a1-4d06-9662-af44c8eac595",
   "metadata": {},
   "source": [
    "<b> Conclusion</b>:\n",
    "We can see that p-value < 0.05. Thus, we reject H0 hyppthesis, and conclude that avg. rating difference means between Growth and Crisis period is significant different from 0.\n",
    "\n",
    "We can interpret that avg. rating between growth 2011-2019 and crisis years 2020 - 2023 differs. "
   ]
  },
  {
   "cell_type": "markdown",
   "id": "015197bd-80fd-4525-9a13-a87c1d3c0bb4",
   "metadata": {},
   "source": [
    "#### Confidence interval of avg. rating difference"
   ]
  },
  {
   "cell_type": "code",
   "execution_count": 122,
   "id": "67737040-738a-449d-b4de-1242f905e3fc",
   "metadata": {},
   "outputs": [
    {
     "data": {
      "text/plain": [
       "-9.546830899593763"
      ]
     },
     "execution_count": 122,
     "metadata": {},
     "output_type": "execute_result"
    }
   ],
   "source": [
    "diff_mu1 = df_crisis['DiffAvgRatingCrisis'].mean()\n",
    "diff_sd1 = df_crisis['DiffAvgRatingCrisis'].std()\n",
    "diff_n = len(df_crisis['DiffAvgRatingCrisis'])\n",
    "\n",
    "t_stat = (diff_mu1/(diff_sd1/math.sqrt(diff_n)))\n",
    "t_stat"
   ]
  },
  {
   "cell_type": "code",
   "execution_count": 123,
   "id": "cce022c7-04ae-4e37-aa9e-45bb1fc134fc",
   "metadata": {},
   "outputs": [
    {
     "name": "stdout",
     "output_type": "stream",
     "text": [
      "95% confidence interval of avg. rating difference:\n"
     ]
    },
    {
     "data": {
      "text/plain": [
       "(0.0, -0.17523240098608878)"
      ]
     },
     "execution_count": 123,
     "metadata": {},
     "output_type": "execute_result"
    }
   ],
   "source": [
    "lbc = diff_mu1 - t_stat*(diff_sd1/math.sqrt(diff_n))\n",
    "ubc = diff_mu1 + t_stat*(diff_sd1/math.sqrt(diff_n))\n",
    "print(\"95% confidence interval of avg. rating difference:\")\n",
    "(lbc,ubc)"
   ]
  },
  {
   "cell_type": "markdown",
   "id": "82b6e466-7c07-40b5-b173-1033326ae42e",
   "metadata": {},
   "source": [
    "We can see that avg. rating difference between growth and crisis years might vary from 0 to -0.18 points"
   ]
  },
  {
   "cell_type": "markdown",
   "id": "77923e62-84fc-4792-8224-1c7ecaff1680",
   "metadata": {},
   "source": [
    "<b> After testing both hypothesis either negative ratings proportions differ or avg. rating differ between growth and crisis years we rejected NULL hyppthesis and conculed that difference is significant. Thus, we might state that bad reviews tend to grow more over crisis years than in economical, social growth time.</b>"
   ]
  },
  {
   "cell_type": "markdown",
   "id": "4ef81df3-4c8f-46ea-b30a-991462770b06",
   "metadata": {},
   "source": [
    "## H0: Reviews length differs significantly per negative and positive ratings"
   ]
  },
  {
   "cell_type": "markdown",
   "id": "56733292-d4b1-4cc7-b13d-74e34c1c2943",
   "metadata": {},
   "source": [
    "We want to check whether the negative ratings reviews has more words on avg. and this difference is significant. For this reason we will raise hypotesis:\n",
    "\n",
    "<b>H0: Reviews words number difference means between Negative and Positive ratings is equal.</b> (μ1=μ2)\n",
    "\n",
    "H1: Reviews words number difference means between Negative and Positive ratings is significant different from 0. (μ1≠μ2)"
   ]
  },
  {
   "cell_type": "code",
   "execution_count": 128,
   "id": "b58111b8-2907-4a57-98af-94719ad44fd7",
   "metadata": {},
   "outputs": [
    {
     "data": {
      "text/html": [
       "<div>\n",
       "<style scoped>\n",
       "    .dataframe tbody tr th:only-of-type {\n",
       "        vertical-align: middle;\n",
       "    }\n",
       "\n",
       "    .dataframe tbody tr th {\n",
       "        vertical-align: top;\n",
       "    }\n",
       "\n",
       "    .dataframe thead th {\n",
       "        text-align: right;\n",
       "    }\n",
       "</style>\n",
       "<table border=\"1\" class=\"dataframe\">\n",
       "  <thead>\n",
       "    <tr style=\"text-align: right;\">\n",
       "      <th></th>\n",
       "      <th>Sentiment</th>\n",
       "      <th>category_fixed</th>\n",
       "      <th>NumOfReviews</th>\n",
       "      <th>NumOfPodcasts</th>\n",
       "      <th>AvgRevLength</th>\n",
       "    </tr>\n",
       "  </thead>\n",
       "  <tbody>\n",
       "    <tr>\n",
       "      <th>0</th>\n",
       "      <td>Negative</td>\n",
       "      <td>after-arts-books-film-shows-tv</td>\n",
       "      <td>108</td>\n",
       "      <td>2</td>\n",
       "      <td>110.222222</td>\n",
       "    </tr>\n",
       "    <tr>\n",
       "      <th>1</th>\n",
       "      <td>Negative</td>\n",
       "      <td>after-arts-culture-film-shows-society-tv</td>\n",
       "      <td>4</td>\n",
       "      <td>1</td>\n",
       "      <td>37.000000</td>\n",
       "    </tr>\n",
       "    <tr>\n",
       "      <th>2</th>\n",
       "      <td>Negative</td>\n",
       "      <td>after-arts-design-film-shows-tv</td>\n",
       "      <td>4</td>\n",
       "      <td>1</td>\n",
       "      <td>12.000000</td>\n",
       "    </tr>\n",
       "    <tr>\n",
       "      <th>3</th>\n",
       "      <td>Negative</td>\n",
       "      <td>after-arts-film-performing-reviews-shows-tv</td>\n",
       "      <td>25</td>\n",
       "      <td>1</td>\n",
       "      <td>40.000000</td>\n",
       "    </tr>\n",
       "  </tbody>\n",
       "</table>\n",
       "</div>"
      ],
      "text/plain": [
       "  Sentiment                               category_fixed  NumOfReviews  \\\n",
       "0  Negative               after-arts-books-film-shows-tv           108   \n",
       "1  Negative     after-arts-culture-film-shows-society-tv             4   \n",
       "2  Negative              after-arts-design-film-shows-tv             4   \n",
       "3  Negative  after-arts-film-performing-reviews-shows-tv            25   \n",
       "\n",
       "   NumOfPodcasts  AvgRevLength  \n",
       "0              2    110.222222  \n",
       "1              1     37.000000  \n",
       "2              1     12.000000  \n",
       "3              1     40.000000  "
      ]
     },
     "execution_count": 128,
     "metadata": {},
     "output_type": "execute_result"
    }
   ],
   "source": [
    "reviews_info = (d.groupby(['Sentiment','category_fixed'])\n",
    "                    .agg(NumOfReviews=('podcast_id','count'),\n",
    "                         NumOfPodcasts=('podcast_id','nunique'),\n",
    "                        AvgRevLength=('ReviewLength','mean'))\n",
    "                    .reset_index()\n",
    "                   )\n",
    "\n",
    "sentiment_map = {0: \"Negative\",\n",
    "                 1: \"Neutral\",\n",
    "                 2: \"Positive\"\n",
    "                }\n",
    "            \n",
    "reviews_info['Sentiment'] = reviews_info.Sentiment.apply(lambda x: sentiment_map[x])\n",
    "reviews_info.head(4)"
   ]
  },
  {
   "cell_type": "code",
   "execution_count": 135,
   "id": "7316e075-b1d3-4ba5-85b9-280a37829211",
   "metadata": {},
   "outputs": [
    {
     "name": "stdout",
     "output_type": "stream",
     "text": [
      "<class 'pandas.core.frame.DataFrame'>\n",
      "Index: 3621 entries, after-animation-comedy-film-leisure-manga-shows-tv to technology\n",
      "Data columns (total 10 columns):\n",
      " #   Column                  Non-Null Count  Dtype  \n",
      "---  ------                  --------------  -----  \n",
      " 0   AvgRevLength_Negative   1641 non-null   float64\n",
      " 1   AvgRevLength_Neutral    1827 non-null   float64\n",
      " 2   AvgRevLength_Positive   3599 non-null   float64\n",
      " 3   NumOfPodcasts_Negative  1641 non-null   float64\n",
      " 4   NumOfPodcasts_Neutral   1827 non-null   float64\n",
      " 5   NumOfPodcasts_Positive  3599 non-null   float64\n",
      " 6   NumOfReviews_Negative   1641 non-null   float64\n",
      " 7   NumOfReviews_Neutral    1827 non-null   float64\n",
      " 8   NumOfReviews_Positive   3599 non-null   float64\n",
      " 9   DiffWordNumNegative     1628 non-null   float64\n",
      "dtypes: float64(10)\n",
      "memory usage: 311.2+ KB\n"
     ]
    },
    {
     "data": {
      "text/html": [
       "<div>\n",
       "<style scoped>\n",
       "    .dataframe tbody tr th:only-of-type {\n",
       "        vertical-align: middle;\n",
       "    }\n",
       "\n",
       "    .dataframe tbody tr th {\n",
       "        vertical-align: top;\n",
       "    }\n",
       "\n",
       "    .dataframe thead th {\n",
       "        text-align: right;\n",
       "    }\n",
       "</style>\n",
       "<table border=\"1\" class=\"dataframe\">\n",
       "  <thead>\n",
       "    <tr style=\"text-align: right;\">\n",
       "      <th></th>\n",
       "      <th>AvgRevLength_Negative</th>\n",
       "      <th>AvgRevLength_Neutral</th>\n",
       "      <th>AvgRevLength_Positive</th>\n",
       "      <th>NumOfPodcasts_Negative</th>\n",
       "      <th>NumOfPodcasts_Neutral</th>\n",
       "      <th>NumOfPodcasts_Positive</th>\n",
       "      <th>NumOfReviews_Negative</th>\n",
       "      <th>NumOfReviews_Neutral</th>\n",
       "      <th>NumOfReviews_Positive</th>\n",
       "      <th>DiffWordNumNegative</th>\n",
       "    </tr>\n",
       "    <tr>\n",
       "      <th>category_fixed</th>\n",
       "      <th></th>\n",
       "      <th></th>\n",
       "      <th></th>\n",
       "      <th></th>\n",
       "      <th></th>\n",
       "      <th></th>\n",
       "      <th></th>\n",
       "      <th></th>\n",
       "      <th></th>\n",
       "      <th></th>\n",
       "    </tr>\n",
       "  </thead>\n",
       "  <tbody>\n",
       "    <tr>\n",
       "      <th>after-animation-comedy-film-leisure-manga-shows-tv</th>\n",
       "      <td>NaN</td>\n",
       "      <td>NaN</td>\n",
       "      <td>60.838710</td>\n",
       "      <td>NaN</td>\n",
       "      <td>NaN</td>\n",
       "      <td>1.0</td>\n",
       "      <td>NaN</td>\n",
       "      <td>NaN</td>\n",
       "      <td>155.0</td>\n",
       "      <td>NaN</td>\n",
       "    </tr>\n",
       "    <tr>\n",
       "      <th>after-animation-film-leisure-manga-shows-tv</th>\n",
       "      <td>NaN</td>\n",
       "      <td>15.00</td>\n",
       "      <td>28.461538</td>\n",
       "      <td>NaN</td>\n",
       "      <td>3.0</td>\n",
       "      <td>3.0</td>\n",
       "      <td>NaN</td>\n",
       "      <td>20.0</td>\n",
       "      <td>104.0</td>\n",
       "      <td>NaN</td>\n",
       "    </tr>\n",
       "    <tr>\n",
       "      <th>after-arts-books-film-shows-tv</th>\n",
       "      <td>110.222222</td>\n",
       "      <td>102.65</td>\n",
       "      <td>59.293160</td>\n",
       "      <td>2.0</td>\n",
       "      <td>2.0</td>\n",
       "      <td>4.0</td>\n",
       "      <td>108.0</td>\n",
       "      <td>80.0</td>\n",
       "      <td>1228.0</td>\n",
       "      <td>50.929063</td>\n",
       "    </tr>\n",
       "    <tr>\n",
       "      <th>after-arts-comedy-film-food-shows-tv</th>\n",
       "      <td>NaN</td>\n",
       "      <td>7.00</td>\n",
       "      <td>28.827586</td>\n",
       "      <td>NaN</td>\n",
       "      <td>1.0</td>\n",
       "      <td>1.0</td>\n",
       "      <td>NaN</td>\n",
       "      <td>5.0</td>\n",
       "      <td>290.0</td>\n",
       "      <td>NaN</td>\n",
       "    </tr>\n",
       "  </tbody>\n",
       "</table>\n",
       "</div>"
      ],
      "text/plain": [
       "                                                    AvgRevLength_Negative  \\\n",
       "category_fixed                                                              \n",
       "after-animation-comedy-film-leisure-manga-shows-tv                    NaN   \n",
       "after-animation-film-leisure-manga-shows-tv                           NaN   \n",
       "after-arts-books-film-shows-tv                                 110.222222   \n",
       "after-arts-comedy-film-food-shows-tv                                  NaN   \n",
       "\n",
       "                                                    AvgRevLength_Neutral  \\\n",
       "category_fixed                                                             \n",
       "after-animation-comedy-film-leisure-manga-shows-tv                   NaN   \n",
       "after-animation-film-leisure-manga-shows-tv                        15.00   \n",
       "after-arts-books-film-shows-tv                                    102.65   \n",
       "after-arts-comedy-film-food-shows-tv                                7.00   \n",
       "\n",
       "                                                    AvgRevLength_Positive  \\\n",
       "category_fixed                                                              \n",
       "after-animation-comedy-film-leisure-manga-shows-tv              60.838710   \n",
       "after-animation-film-leisure-manga-shows-tv                     28.461538   \n",
       "after-arts-books-film-shows-tv                                  59.293160   \n",
       "after-arts-comedy-film-food-shows-tv                            28.827586   \n",
       "\n",
       "                                                    NumOfPodcasts_Negative  \\\n",
       "category_fixed                                                               \n",
       "after-animation-comedy-film-leisure-manga-shows-tv                     NaN   \n",
       "after-animation-film-leisure-manga-shows-tv                            NaN   \n",
       "after-arts-books-film-shows-tv                                         2.0   \n",
       "after-arts-comedy-film-food-shows-tv                                   NaN   \n",
       "\n",
       "                                                    NumOfPodcasts_Neutral  \\\n",
       "category_fixed                                                              \n",
       "after-animation-comedy-film-leisure-manga-shows-tv                    NaN   \n",
       "after-animation-film-leisure-manga-shows-tv                           3.0   \n",
       "after-arts-books-film-shows-tv                                        2.0   \n",
       "after-arts-comedy-film-food-shows-tv                                  1.0   \n",
       "\n",
       "                                                    NumOfPodcasts_Positive  \\\n",
       "category_fixed                                                               \n",
       "after-animation-comedy-film-leisure-manga-shows-tv                     1.0   \n",
       "after-animation-film-leisure-manga-shows-tv                            3.0   \n",
       "after-arts-books-film-shows-tv                                         4.0   \n",
       "after-arts-comedy-film-food-shows-tv                                   1.0   \n",
       "\n",
       "                                                    NumOfReviews_Negative  \\\n",
       "category_fixed                                                              \n",
       "after-animation-comedy-film-leisure-manga-shows-tv                    NaN   \n",
       "after-animation-film-leisure-manga-shows-tv                           NaN   \n",
       "after-arts-books-film-shows-tv                                      108.0   \n",
       "after-arts-comedy-film-food-shows-tv                                  NaN   \n",
       "\n",
       "                                                    NumOfReviews_Neutral  \\\n",
       "category_fixed                                                             \n",
       "after-animation-comedy-film-leisure-manga-shows-tv                   NaN   \n",
       "after-animation-film-leisure-manga-shows-tv                         20.0   \n",
       "after-arts-books-film-shows-tv                                      80.0   \n",
       "after-arts-comedy-film-food-shows-tv                                 5.0   \n",
       "\n",
       "                                                    NumOfReviews_Positive  \\\n",
       "category_fixed                                                              \n",
       "after-animation-comedy-film-leisure-manga-shows-tv                  155.0   \n",
       "after-animation-film-leisure-manga-shows-tv                         104.0   \n",
       "after-arts-books-film-shows-tv                                     1228.0   \n",
       "after-arts-comedy-film-food-shows-tv                                290.0   \n",
       "\n",
       "                                                    DiffWordNumNegative  \n",
       "category_fixed                                                           \n",
       "after-animation-comedy-film-leisure-manga-shows-tv                  NaN  \n",
       "after-animation-film-leisure-manga-shows-tv                         NaN  \n",
       "after-arts-books-film-shows-tv                                50.929063  \n",
       "after-arts-comedy-film-food-shows-tv                                NaN  "
      ]
     },
     "execution_count": 135,
     "metadata": {},
     "output_type": "execute_result"
    }
   ],
   "source": [
    "df_reviews = pd.pivot_table(reviews_info, \n",
    "                          values=['NumOfReviews','AvgRevLength','NumOfPodcasts'],\n",
    "                          index=['category_fixed'],\n",
    "                          columns=['Sentiment'],\n",
    "                          aggfunc=np.sum)\n",
    "\n",
    "\"\"\"Flatten pivot table column names\"\"\"\n",
    "df_reviews.columns = df_reviews.columns.to_series().str.join('_')\n",
    "df_reviews\n",
    "df_reviews['DiffWordNumNegative'] = df_reviews.AvgRevLength_Negative - df_reviews.AvgRevLength_Positive\n",
    "\n",
    "df_reviews.info()\n",
    "df_reviews.head(4)"
   ]
  },
  {
   "cell_type": "code",
   "execution_count": 136,
   "id": "5f87c849-2271-47fe-87e5-97eff33ef56f",
   "metadata": {},
   "outputs": [
    {
     "name": "stdout",
     "output_type": "stream",
     "text": [
      "Number of categories with 100+ reviews: 197\n"
     ]
    }
   ],
   "source": [
    "df_reviews = df_reviews[(df_reviews.NumOfReviews_Negative >= 100)\n",
    "                      &\n",
    "                      (df_reviews.NumOfReviews_Positive >= 100)\n",
    "                      &\n",
    "                      (df_reviews.NumOfPodcasts_Negative >= 10)\n",
    "                      & \n",
    "                      (df_reviews.NumOfPodcasts_Positive >= 10)].reset_index()\n",
    "\n",
    "print(\"Number of categories with 100+ reviews:\",len(df_reviews.NumOfReviews_Negative))"
   ]
  },
  {
   "cell_type": "code",
   "execution_count": 137,
   "id": "c43ec4a4-064d-4b77-af3f-70ee60243ef7",
   "metadata": {},
   "outputs": [
    {
     "data": {
      "text/plain": [
       "count    197.000000\n",
       "mean      13.482680\n",
       "std        8.335478\n",
       "min       -7.982373\n",
       "25%        8.402251\n",
       "50%       14.112658\n",
       "75%       17.374153\n",
       "max       40.515180\n",
       "Name: DiffWordNumNegative, dtype: float64"
      ]
     },
     "execution_count": 137,
     "metadata": {},
     "output_type": "execute_result"
    }
   ],
   "source": [
    "df_reviews.DiffWordNumNegative.describe()"
   ]
  },
  {
   "cell_type": "markdown",
   "id": "f1112824-e0f6-4292-8907-f62e3204676c",
   "metadata": {},
   "source": [
    "From Word number difference between negative and positive ratings statistics, we see that mean, median and 25th and higher percentiles is positive. This means that more words are counted on negative ratings per different podcasts categories."
   ]
  },
  {
   "cell_type": "code",
   "execution_count": 138,
   "id": "9c6f0998-fcfa-46f1-8724-def5e40f3433",
   "metadata": {},
   "outputs": [
    {
     "data": {
      "image/png": "[encoded data removed]",
      "text/plain": [
       "<Figure size 360x360 with 1 Axes>"
      ]
     },
     "metadata": {
      "needs_background": "light"
     },
     "output_type": "display_data"
    }
   ],
   "source": [
    "(sns.displot(df_reviews, x=\"DiffWordNumNegative\")\n",
    "    .set(title='Word number difference distribution between negative and positive ratings'))\n",
    "plt.show()"
   ]
  },
  {
   "cell_type": "markdown",
   "id": "65d3ef68-caac-42a2-8888-d83470a68d1e",
   "metadata": {},
   "source": [
    "We can see that distribution of differences is normal distribution"
   ]
  },
  {
   "cell_type": "markdown",
   "id": "9cae2355-350d-4ed4-b78a-26ff854d71f3",
   "metadata": {},
   "source": [
    "### H0: On reviews words number"
   ]
  },
  {
   "cell_type": "code",
   "execution_count": 139,
   "id": "351e9d32-2a7b-4c62-8b13-57ef1818ba91",
   "metadata": {},
   "outputs": [
    {
     "data": {
      "text/plain": [
       "(197, 54.4825865260381, 10.092474605858666)"
      ]
     },
     "execution_count": 139,
     "metadata": {},
     "output_type": "execute_result"
    }
   ],
   "source": [
    "n1 = len(df_reviews.AvgRevLength_Negative) # sample size\n",
    "mu1 = df_reviews['AvgRevLength_Negative'].mean() # mean\n",
    "sd1 = df_reviews['AvgRevLength_Negative'].std() # standart error\n",
    "\n",
    "(n1, mu1, sd1)"
   ]
  },
  {
   "cell_type": "code",
   "execution_count": 142,
   "id": "2d51d059-b4d2-43f2-8a3d-7d7ec7416fe8",
   "metadata": {},
   "outputs": [
    {
     "data": {
      "text/plain": [
       "(197, 40.99990670616294, 5.869932586896205)"
      ]
     },
     "execution_count": 142,
     "metadata": {},
     "output_type": "execute_result"
    }
   ],
   "source": [
    "n2 = len(df_reviews.AvgRevLength_Positive) # sample size\n",
    "mu2 = df_reviews['AvgRevLength_Positive'].mean() # mean\n",
    "sd2 = df_reviews['AvgRevLength_Positive'].std() # standart error\n",
    "\n",
    "(n2, mu2, sd2)"
   ]
  },
  {
   "cell_type": "code",
   "execution_count": 143,
   "id": "ff9ca8cf-dfe9-404f-a4e2-62b7efb6916d",
   "metadata": {},
   "outputs": [
    {
     "data": {
      "text/plain": [
       "(16.2083520389198, 4.402152605205053e-59)"
      ]
     },
     "execution_count": 143,
     "metadata": {},
     "output_type": "execute_result"
    }
   ],
   "source": [
    "# Difference in Population Means hypothesis testing\n",
    "sm.stats.ztest(df_reviews.AvgRevLength_Negative, df_reviews.AvgRevLength_Positive)"
   ]
  },
  {
   "cell_type": "markdown",
   "id": "6fb1a0df-4cca-4a26-8a1a-2f618b667df7",
   "metadata": {},
   "source": [
    "<b> Conclusion</b>:\n",
    "We can see that p-value < 0.05. Thus, we reject H0 hyppthesis, and conclude that avg. word number difference difference means between negative and positive ratings is significant different from 0.\n",
    "\n",
    "We can interpret that avg. word number between negative and positive ratings differs. "
   ]
  },
  {
   "cell_type": "markdown",
   "id": "d01ded52-03bf-4316-91d8-a51af9db9214",
   "metadata": {},
   "source": [
    "### Confidence interval of avg. rating difference"
   ]
  },
  {
   "cell_type": "code",
   "execution_count": 144,
   "id": "6d9edbfc-4a79-4ec8-b0fd-dabee916e29a",
   "metadata": {},
   "outputs": [
    {
     "data": {
      "text/plain": [
       "22.70276784405003"
      ]
     },
     "execution_count": 144,
     "metadata": {},
     "output_type": "execute_result"
    }
   ],
   "source": [
    "diff_mu1 = df_reviews['DiffWordNumNegative'].mean()\n",
    "diff_sd1 = df_reviews['DiffWordNumNegative'].std()\n",
    "diff_n = len(df_reviews['DiffWordNumNegative'])\n",
    "\n",
    "t_stat = (diff_mu1/(diff_sd1/math.sqrt(diff_n)))\n",
    "t_stat"
   ]
  },
  {
   "cell_type": "code",
   "execution_count": 145,
   "id": "b898435c-28bf-47f7-9f6f-820d0aee39d3",
   "metadata": {},
   "outputs": [
    {
     "name": "stdout",
     "output_type": "stream",
     "text": [
      "95% confidence interval of avg. word number difference:\n"
     ]
    },
    {
     "data": {
      "text/plain": [
       "(1.7763568394002505e-15, 26.96535963975039)"
      ]
     },
     "execution_count": 145,
     "metadata": {},
     "output_type": "execute_result"
    }
   ],
   "source": [
    "lbc = diff_mu1 - t_stat*(diff_sd1/math.sqrt(diff_n))\n",
    "ubc = diff_mu1 + t_stat*(diff_sd1/math.sqrt(diff_n))\n",
    "print(\"95% confidence interval of avg. word number difference:\")\n",
    "(lbc,ubc)"
   ]
  },
  {
   "cell_type": "markdown",
   "id": "07869552-3c52-429a-94fe-1dddea4cd2ec",
   "metadata": {},
   "source": [
    "We can see that avg. word number difference between negative and positive reviews might vary from 0 to 27 words."
   ]
  },
  {
   "cell_type": "markdown",
   "id": "85e3674c-7d1a-4018-9b91-634c86a8f48f",
   "metadata": {},
   "source": [
    "## Conclusions"
   ]
  },
  {
   "cell_type": "markdown",
   "id": "c660343e-5d3a-4882-abe3-99cc06de87a0",
   "metadata": {},
   "source": [
    "After statistical inferential analysis we found that:\n",
    "- Comedy podcast might have possibility to get very good rating. We estimated, with 95% confidence, that the population proportion of comedy podcasts with 5 star ratings might be somewhere between 87.7% and 88.1%.\n",
    "- Proportion of Bad reviews compared with growth years 2011-2019 and crisis years 2020 - 2023 increased. As well as avg. rating also decreased per all categories on crisis years.\n",
    "- After testing hypothesis whether negative ratings proportions differ and avg. rating differ between growth and crisis years, we rejected NULL hypothesis and concluded that difference is significant. Thus, we might state that bad reviews tend to grow more over crisis years than in economical, social growth time.\n",
    "- Users might leave longer negative reviews. We have made such conclusion after testing hypothesis that reviews length differs significantly per neagtive and positive ratings."
   ]
  },
  {
   "cell_type": "code",
   "execution_count": null,
   "id": "410f0885-0ec1-43e5-b0f5-a83f2f1d0f1d",
   "metadata": {},
   "outputs": [],
   "source": []
  }
 ],
 "metadata": {
  "kernelspec": {
   "display_name": "Python 3 (ipykernel)",
   "language": "python",
   "name": "python3"
  },
  "language_info": {
   "codemirror_mode": {
    "name": "ipython",
    "version": 3
   },
   "file_extension": ".py",
   "mimetype": "text/x-python",
   "name": "python",
   "nbconvert_exporter": "python",
   "pygments_lexer": "ipython3",
   "version": "3.11.5"
  },
  "toc-autonumbering": true
 },
 "nbformat": 4,
 "nbformat_minor": 5
}
