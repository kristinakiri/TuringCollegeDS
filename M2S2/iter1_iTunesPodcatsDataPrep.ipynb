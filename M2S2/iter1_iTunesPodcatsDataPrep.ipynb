{
 "cells": [
  {
   "cell_type": "markdown",
   "id": "7b6fc7ad-4803-443e-b389-a773135a5bc9",
   "metadata": {},
   "source": [
    "# iTunes Podcasts data preparation"
   ]
  },
  {
   "cell_type": "markdown",
   "id": "94974b07-c98e-451e-aa4d-d7a045bd5c98",
   "metadata": {},
   "source": [
    "In this code part we will overview datasets and check for the outliers, clean the data. If attributes needs to be standartized or normalized.\n",
    "\n",
    "We will prepare data for the reporting in Google Studio and for the inferential statistical analysis, too."
   ]
  },
  {
   "cell_type": "code",
   "execution_count": 50,
   "id": "71dea8b4-b95e-4884-8d50-dbd785db75b5",
   "metadata": {},
   "outputs": [],
   "source": [
    "import sqlite3\n",
    "import numpy as np\n",
    "import pandas as pd\n",
    "import matplotlib.pyplot as plt\n",
    "import seaborn as sns\n",
    "from IPython.display import display\n",
    "import os\n",
    "import itertools\n",
    "import csv\n",
    "from datetime import datetime"
   ]
  },
  {
   "cell_type": "code",
   "execution_count": 2,
   "id": "34eb09ff-6844-4d15-9bb3-84ed27c15cef",
   "metadata": {},
   "outputs": [
    {
     "data": {
      "text/plain": [
       "'/Users/kristinazekiene/Documents/LearningPython/TuringCollege/M2S2'"
      ]
     },
     "execution_count": 2,
     "metadata": {},
     "output_type": "execute_result"
    }
   ],
   "source": [
    "os.getcwd()"
   ]
  },
  {
   "cell_type": "markdown",
   "id": "95a0b3bf-c3bd-49dc-a591-5d677d1034d5",
   "metadata": {},
   "source": [
    "## Data loading"
   ]
  },
  {
   "cell_type": "code",
   "execution_count": 64,
   "id": "67d7a52b-8c81-412a-950a-e95b022c5770",
   "metadata": {},
   "outputs": [
    {
     "name": "stdout",
     "output_type": "stream",
     "text": [
      "<class 'pandas.core.frame.DataFrame'>\n",
      "RangeIndex: 212372 entries, 0 to 212371\n",
      "Data columns (total 2 columns):\n",
      " #   Column      Non-Null Count   Dtype \n",
      "---  ------      --------------   ----- \n",
      " 0   podcast_id  212372 non-null  object\n",
      " 1   category    212372 non-null  object\n",
      "dtypes: object(2)\n",
      "memory usage: 3.2+ MB\n"
     ]
    },
    {
     "data": {
      "text/html": [
       "<div>\n",
       "<style scoped>\n",
       "    .dataframe tbody tr th:only-of-type {\n",
       "        vertical-align: middle;\n",
       "    }\n",
       "\n",
       "    .dataframe tbody tr th {\n",
       "        vertical-align: top;\n",
       "    }\n",
       "\n",
       "    .dataframe thead th {\n",
       "        text-align: right;\n",
       "    }\n",
       "</style>\n",
       "<table border=\"1\" class=\"dataframe\">\n",
       "  <thead>\n",
       "    <tr style=\"text-align: right;\">\n",
       "      <th></th>\n",
       "      <th>podcast_id</th>\n",
       "      <th>category</th>\n",
       "    </tr>\n",
       "  </thead>\n",
       "  <tbody>\n",
       "    <tr>\n",
       "      <th>0</th>\n",
       "      <td>c61aa81c9b929a66f0c1db6cbe5d8548</td>\n",
       "      <td>arts</td>\n",
       "    </tr>\n",
       "    <tr>\n",
       "      <th>1</th>\n",
       "      <td>c61aa81c9b929a66f0c1db6cbe5d8548</td>\n",
       "      <td>arts-performing-arts</td>\n",
       "    </tr>\n",
       "    <tr>\n",
       "      <th>2</th>\n",
       "      <td>c61aa81c9b929a66f0c1db6cbe5d8548</td>\n",
       "      <td>music</td>\n",
       "    </tr>\n",
       "    <tr>\n",
       "      <th>3</th>\n",
       "      <td>ad4f2bf69c72b8db75978423c25f379e</td>\n",
       "      <td>arts</td>\n",
       "    </tr>\n",
       "  </tbody>\n",
       "</table>\n",
       "</div>"
      ],
      "text/plain": [
       "                         podcast_id              category\n",
       "0  c61aa81c9b929a66f0c1db6cbe5d8548                  arts\n",
       "1  c61aa81c9b929a66f0c1db6cbe5d8548  arts-performing-arts\n",
       "2  c61aa81c9b929a66f0c1db6cbe5d8548                 music\n",
       "3  ad4f2bf69c72b8db75978423c25f379e                  arts"
      ]
     },
     "metadata": {},
     "output_type": "display_data"
    },
    {
     "name": "stdout",
     "output_type": "stream",
     "text": [
      "<class 'pandas.core.frame.DataFrame'>\n",
      "RangeIndex: 110024 entries, 0 to 110023\n",
      "Data columns (total 5 columns):\n",
      " #   Column      Non-Null Count   Dtype \n",
      "---  ------      --------------   ----- \n",
      " 0   podcast_id  110024 non-null  object\n",
      " 1   itunes_id   110024 non-null  int64 \n",
      " 2   slug        110024 non-null  object\n",
      " 3   itunes_url  110024 non-null  object\n",
      " 4   title       110024 non-null  object\n",
      "dtypes: int64(1), object(4)\n",
      "memory usage: 4.2+ MB\n"
     ]
    },
    {
     "data": {
      "text/html": [
       "<div>\n",
       "<style scoped>\n",
       "    .dataframe tbody tr th:only-of-type {\n",
       "        vertical-align: middle;\n",
       "    }\n",
       "\n",
       "    .dataframe tbody tr th {\n",
       "        vertical-align: top;\n",
       "    }\n",
       "\n",
       "    .dataframe thead th {\n",
       "        text-align: right;\n",
       "    }\n",
       "</style>\n",
       "<table border=\"1\" class=\"dataframe\">\n",
       "  <thead>\n",
       "    <tr style=\"text-align: right;\">\n",
       "      <th></th>\n",
       "      <th>podcast_id</th>\n",
       "      <th>itunes_id</th>\n",
       "      <th>slug</th>\n",
       "      <th>itunes_url</th>\n",
       "      <th>title</th>\n",
       "    </tr>\n",
       "  </thead>\n",
       "  <tbody>\n",
       "    <tr>\n",
       "      <th>0</th>\n",
       "      <td>a00018b54eb342567c94dacfb2a3e504</td>\n",
       "      <td>1313466221</td>\n",
       "      <td>scaling-global</td>\n",
       "      <td>https://podcasts.apple.com/us/podcast/scaling-...</td>\n",
       "      <td>Scaling Global</td>\n",
       "    </tr>\n",
       "    <tr>\n",
       "      <th>1</th>\n",
       "      <td>a00043d34e734b09246d17dc5d56f63c</td>\n",
       "      <td>158973461</td>\n",
       "      <td>cornerstone-baptist-church-of-orlando</td>\n",
       "      <td>https://podcasts.apple.com/us/podcast/cornerst...</td>\n",
       "      <td>Cornerstone Baptist Church of Orlando</td>\n",
       "    </tr>\n",
       "    <tr>\n",
       "      <th>2</th>\n",
       "      <td>a0004b1ef445af9dc84dad1e7821b1e3</td>\n",
       "      <td>139076942</td>\n",
       "      <td>mystery-dancing-in-the-dark</td>\n",
       "      <td>https://podcasts.apple.com/us/podcast/mystery-...</td>\n",
       "      <td>Mystery: Dancing in the Dark</td>\n",
       "    </tr>\n",
       "    <tr>\n",
       "      <th>3</th>\n",
       "      <td>a00071f9aaae9ac725c3a586701abf4d</td>\n",
       "      <td>1332508972</td>\n",
       "      <td>kts-money-matters</td>\n",
       "      <td>https://podcasts.apple.com/us/podcast/kts-mone...</td>\n",
       "      <td>KTs Money Matters</td>\n",
       "    </tr>\n",
       "  </tbody>\n",
       "</table>\n",
       "</div>"
      ],
      "text/plain": [
       "                         podcast_id   itunes_id  \\\n",
       "0  a00018b54eb342567c94dacfb2a3e504  1313466221   \n",
       "1  a00043d34e734b09246d17dc5d56f63c   158973461   \n",
       "2  a0004b1ef445af9dc84dad1e7821b1e3   139076942   \n",
       "3  a00071f9aaae9ac725c3a586701abf4d  1332508972   \n",
       "\n",
       "                                    slug  \\\n",
       "0                         scaling-global   \n",
       "1  cornerstone-baptist-church-of-orlando   \n",
       "2            mystery-dancing-in-the-dark   \n",
       "3                      kts-money-matters   \n",
       "\n",
       "                                          itunes_url  \\\n",
       "0  https://podcasts.apple.com/us/podcast/scaling-...   \n",
       "1  https://podcasts.apple.com/us/podcast/cornerst...   \n",
       "2  https://podcasts.apple.com/us/podcast/mystery-...   \n",
       "3  https://podcasts.apple.com/us/podcast/kts-mone...   \n",
       "\n",
       "                                   title  \n",
       "0                         Scaling Global  \n",
       "1  Cornerstone Baptist Church of Orlando  \n",
       "2           Mystery: Dancing in the Dark  \n",
       "3                      KTs Money Matters  "
      ]
     },
     "metadata": {},
     "output_type": "display_data"
    },
    {
     "name": "stdout",
     "output_type": "stream",
     "text": [
      "<class 'pandas.core.frame.DataFrame'>\n",
      "RangeIndex: 2067529 entries, 0 to 2067528\n",
      "Data columns (total 6 columns):\n",
      " #   Column      Dtype \n",
      "---  ------      ----- \n",
      " 0   podcast_id  object\n",
      " 1   title       object\n",
      " 2   content     object\n",
      " 3   rating      int64 \n",
      " 4   author_id   object\n",
      " 5   created_at  object\n",
      "dtypes: int64(1), object(5)\n",
      "memory usage: 94.6+ MB\n"
     ]
    },
    {
     "data": {
      "text/html": [
       "<div>\n",
       "<style scoped>\n",
       "    .dataframe tbody tr th:only-of-type {\n",
       "        vertical-align: middle;\n",
       "    }\n",
       "\n",
       "    .dataframe tbody tr th {\n",
       "        vertical-align: top;\n",
       "    }\n",
       "\n",
       "    .dataframe thead th {\n",
       "        text-align: right;\n",
       "    }\n",
       "</style>\n",
       "<table border=\"1\" class=\"dataframe\">\n",
       "  <thead>\n",
       "    <tr style=\"text-align: right;\">\n",
       "      <th></th>\n",
       "      <th>podcast_id</th>\n",
       "      <th>title</th>\n",
       "      <th>content</th>\n",
       "      <th>rating</th>\n",
       "      <th>author_id</th>\n",
       "      <th>created_at</th>\n",
       "    </tr>\n",
       "  </thead>\n",
       "  <tbody>\n",
       "    <tr>\n",
       "      <th>0</th>\n",
       "      <td>c61aa81c9b929a66f0c1db6cbe5d8548</td>\n",
       "      <td>really interesting!</td>\n",
       "      <td>Thanks for providing these insights.  Really e...</td>\n",
       "      <td>5</td>\n",
       "      <td>F7E5A318989779D</td>\n",
       "      <td>2018-04-24T12:05:16-07:00</td>\n",
       "    </tr>\n",
       "    <tr>\n",
       "      <th>1</th>\n",
       "      <td>c61aa81c9b929a66f0c1db6cbe5d8548</td>\n",
       "      <td>Must listen for anyone interested in the arts!!!</td>\n",
       "      <td>Super excited to see this podcast grow. So man...</td>\n",
       "      <td>5</td>\n",
       "      <td>F6BF5472689BD12</td>\n",
       "      <td>2018-05-09T18:14:32-07:00</td>\n",
       "    </tr>\n",
       "    <tr>\n",
       "      <th>2</th>\n",
       "      <td>ad4f2bf69c72b8db75978423c25f379e</td>\n",
       "      <td>nauseatingly left</td>\n",
       "      <td>I'm a liberal myself, but its pretty obvious a...</td>\n",
       "      <td>1</td>\n",
       "      <td>1AB95B8E6E1309E</td>\n",
       "      <td>2019-06-11T14:53:39-07:00</td>\n",
       "    </tr>\n",
       "    <tr>\n",
       "      <th>3</th>\n",
       "      <td>ad4f2bf69c72b8db75978423c25f379e</td>\n",
       "      <td>Diverse stories</td>\n",
       "      <td>I find Tedx talks very inspirational but I oft...</td>\n",
       "      <td>5</td>\n",
       "      <td>11BB760AA5DEBD1</td>\n",
       "      <td>2018-05-31T13:08:09-07:00</td>\n",
       "    </tr>\n",
       "  </tbody>\n",
       "</table>\n",
       "</div>"
      ],
      "text/plain": [
       "                         podcast_id  \\\n",
       "0  c61aa81c9b929a66f0c1db6cbe5d8548   \n",
       "1  c61aa81c9b929a66f0c1db6cbe5d8548   \n",
       "2  ad4f2bf69c72b8db75978423c25f379e   \n",
       "3  ad4f2bf69c72b8db75978423c25f379e   \n",
       "\n",
       "                                              title  \\\n",
       "0                               really interesting!   \n",
       "1  Must listen for anyone interested in the arts!!!   \n",
       "2                                 nauseatingly left   \n",
       "3                                   Diverse stories   \n",
       "\n",
       "                                             content  rating        author_id  \\\n",
       "0  Thanks for providing these insights.  Really e...       5  F7E5A318989779D   \n",
       "1  Super excited to see this podcast grow. So man...       5  F6BF5472689BD12   \n",
       "2  I'm a liberal myself, but its pretty obvious a...       1  1AB95B8E6E1309E   \n",
       "3  I find Tedx talks very inspirational but I oft...       5  11BB760AA5DEBD1   \n",
       "\n",
       "                  created_at  \n",
       "0  2018-04-24T12:05:16-07:00  \n",
       "1  2018-05-09T18:14:32-07:00  \n",
       "2  2019-06-11T14:53:39-07:00  \n",
       "3  2018-05-31T13:08:09-07:00  "
      ]
     },
     "metadata": {},
     "output_type": "display_data"
    },
    {
     "name": "stdout",
     "output_type": "stream",
     "text": [
      "<class 'pandas.core.frame.DataFrame'>\n",
      "RangeIndex: 16 entries, 0 to 15\n",
      "Data columns (total 3 columns):\n",
      " #   Column         Non-Null Count  Dtype \n",
      "---  ------         --------------  ----- \n",
      " 0   run_at         16 non-null     object\n",
      " 1   max_rowid      16 non-null     int64 \n",
      " 2   reviews_added  16 non-null     int64 \n",
      "dtypes: int64(2), object(1)\n",
      "memory usage: 512.0+ bytes\n"
     ]
    },
    {
     "data": {
      "text/html": [
       "<div>\n",
       "<style scoped>\n",
       "    .dataframe tbody tr th:only-of-type {\n",
       "        vertical-align: middle;\n",
       "    }\n",
       "\n",
       "    .dataframe tbody tr th {\n",
       "        vertical-align: top;\n",
       "    }\n",
       "\n",
       "    .dataframe thead th {\n",
       "        text-align: right;\n",
       "    }\n",
       "</style>\n",
       "<table border=\"1\" class=\"dataframe\">\n",
       "  <thead>\n",
       "    <tr style=\"text-align: right;\">\n",
       "      <th></th>\n",
       "      <th>run_at</th>\n",
       "      <th>max_rowid</th>\n",
       "      <th>reviews_added</th>\n",
       "    </tr>\n",
       "  </thead>\n",
       "  <tbody>\n",
       "    <tr>\n",
       "      <th>0</th>\n",
       "      <td>2021-05-10 02:53:00</td>\n",
       "      <td>3266481</td>\n",
       "      <td>1215223</td>\n",
       "    </tr>\n",
       "    <tr>\n",
       "      <th>1</th>\n",
       "      <td>2021-06-06 21:34:36</td>\n",
       "      <td>3300773</td>\n",
       "      <td>13139</td>\n",
       "    </tr>\n",
       "    <tr>\n",
       "      <th>2</th>\n",
       "      <td>2021-07-02 18:04:55</td>\n",
       "      <td>3329699</td>\n",
       "      <td>11561</td>\n",
       "    </tr>\n",
       "    <tr>\n",
       "      <th>3</th>\n",
       "      <td>2021-08-01 17:54:42</td>\n",
       "      <td>3360315</td>\n",
       "      <td>11855</td>\n",
       "    </tr>\n",
       "  </tbody>\n",
       "</table>\n",
       "</div>"
      ],
      "text/plain": [
       "                run_at  max_rowid  reviews_added\n",
       "0  2021-05-10 02:53:00    3266481        1215223\n",
       "1  2021-06-06 21:34:36    3300773          13139\n",
       "2  2021-07-02 18:04:55    3329699          11561\n",
       "3  2021-08-01 17:54:42    3360315          11855"
      ]
     },
     "metadata": {},
     "output_type": "display_data"
    }
   ],
   "source": [
    "input_path = \"/Users/kristinazekiene/Documents/LearningPython/TuringCollege/M2S2/Input/database.sqlite\"\n",
    "con = sqlite3.connect(input_path)\n",
    "\n",
    "podcasts_categories = pd.read_sql(\"SELECT * FROM categories\", con)\n",
    "podcasts_categories.info()\n",
    "display(podcasts_categories.head(4))\n",
    "\n",
    "podcast = pd.read_sql(\"SELECT * FROM podcasts\", con)\n",
    "podcast.info()\n",
    "display(podcast.head(4))\n",
    "\n",
    "reviews = pd.read_sql(\"SELECT * FROM reviews\", con)\n",
    "reviews.info()\n",
    "display(reviews.head(4))\n",
    "\n",
    "podcast_runs = pd.read_sql(\"SELECT * FROM runs\", con)\n",
    "podcast_runs.info()\n",
    "display(podcast_runs.head(4))"
   ]
  },
  {
   "cell_type": "markdown",
   "id": "e3b46a16-7bd6-4f66-bb64-2e5bee013dda",
   "metadata": {},
   "source": [
    "## Data overview & preparation"
   ]
  },
  {
   "cell_type": "markdown",
   "id": "2a5aecc4-3ced-4b80-b7e1-6a7ff0c49763",
   "metadata": {},
   "source": [
    "### Checking podcasts categories values"
   ]
  },
  {
   "cell_type": "markdown",
   "id": "27366392-5e17-41a8-8cc6-0a927aaad83e",
   "metadata": {},
   "source": [
    "- What unique categories we have?\n",
    "- Do we need to make any fix'es for the standartization?"
   ]
  },
  {
   "cell_type": "code",
   "execution_count": 6,
   "id": "796ec91c-a7ef-490c-98eb-be61bbad0ac7",
   "metadata": {},
   "outputs": [
    {
     "data": {
      "text/plain": [
       "array(['arts', 'arts-performing-arts', 'music', 'arts-design',\n",
       "       'education', 'society-culture', 'arts-visual-arts', 'leisure',\n",
       "       'leisure-hobbies', 'arts-books', 'technology',\n",
       "       'society-culture-personal-journals',\n",
       "       'society-culture-relationships', 'fiction',\n",
       "       'fiction-science-fiction', 'arts-food',\n",
       "       'education-language-learning', 'fiction-drama', 'true-crime',\n",
       "       'health-fitness', 'health-fitness-nutrition', 'history', 'comedy',\n",
       "       'arts-fashion-beauty', 'tv-film', 'society-culture-places-travel',\n",
       "       'comedy-comedy-interviews', 'kids-family',\n",
       "       'health-fitness-mental-health', 'religion-spirituality',\n",
       "       'business', 'news', 'news-business-news', 'education-courses',\n",
       "       'society-culture-philosophy', 'leisure-video-games',\n",
       "       'tv-film-film-reviews', 'leisure-games', 'spirituality',\n",
       "       'tv-film-film-history', 'business-careers',\n",
       "       'business-entrepreneurship', 'science', 'science-earth-sciences',\n",
       "       'comedy-improv', 'tv-film-tv-reviews', 'health-fitness-sexuality',\n",
       "       'news-politics', 'leisure-home-garden', 'leisure-animation-manga',\n",
       "       'fiction-comedy-fiction', 'christianity', 'government', 'sports',\n",
       "       'hinduism', 'music-music-commentary', 'business-marketing',\n",
       "       'music-music-interviews', 'education-how-to',\n",
       "       'science-social-sciences', 'society-culture-documentary',\n",
       "       'business-management', 'news-tech-news',\n",
       "       'education-self-improvement', 'sports-wilderness',\n",
       "       'health-fitness-alternative-health', 'health-fitness-medicine',\n",
       "       'leisure-crafts', 'business-investing', 'science-natural-sciences',\n",
       "       'science-nature', 'tv-film-after-shows', 'sports-soccer',\n",
       "       'leisure-automotive', 'kids-family-pets-animals', 'judaism',\n",
       "       'religion', 'sports-football', 'kids-family-parenting',\n",
       "       'health-fitness-fitness', 'news-entertainment-news',\n",
       "       'news-daily-news', 'kids-family-stories-for-kids',\n",
       "       'tv-film-film-interviews', 'music-music-history',\n",
       "       'science-life-sciences', 'comedy-stand-up', 'leisure-aviation',\n",
       "       'sports-golf', 'business-non-profit', 'islam',\n",
       "       'news-news-commentary', 'news-sports-news', 'sports-basketball',\n",
       "       'sports-baseball', 'sports-fantasy-sports',\n",
       "       'kids-family-education-for-kids', 'science-astronomy',\n",
       "       'science-physics', 'science-chemistry', 'sports-running',\n",
       "       'sports-wrestling', 'buddhism', 'sports-swimming', 'sports-tennis',\n",
       "       'science-mathematics', 'sports-hockey', 'sports-volleyball',\n",
       "       'sports-rugby', 'sports-cricket'], dtype=object)"
      ]
     },
     "execution_count": 6,
     "metadata": {},
     "output_type": "execute_result"
    }
   ],
   "source": [
    "podcasts_categories.category.unique()"
   ]
  },
  {
   "cell_type": "markdown",
   "id": "a21ad1b0-6645-49cc-9c4c-33a97ade1213",
   "metadata": {},
   "source": [
    "We see that podcasts categories has duplicates e.g. `tv-film-film-interviews`, `fiction-comedy-fiction`.\n",
    "\n",
    "Categories might be not ordered. If we will want to aggregate the data and count # of unique categories or podcasts distribution per it it might be some disprepancies and not aggregate in certain categories groups.\n",
    "\n",
    "Thus we will modify and standartize podcats categories in next steps od data preparation."
   ]
  },
  {
   "cell_type": "markdown",
   "id": "176dfb1d-0f7d-4974-a095-b23f8953736f",
   "metadata": {},
   "source": [
    "### Categories per podcats overview"
   ]
  },
  {
   "cell_type": "markdown",
   "id": "52229484-9088-45da-85b6-666f5702c302",
   "metadata": {},
   "source": [
    "We gonna check `cateogies` dataset:\n",
    "- How many unique podcats this dataset has?\n",
    "- How many categories each podcasts has? \n",
    "- Does podcats has multiple categories?"
   ]
  },
  {
   "cell_type": "code",
   "execution_count": 65,
   "id": "3e1f82a8-615c-4781-960e-c03da93fedbc",
   "metadata": {},
   "outputs": [
    {
     "data": {
      "text/html": [
       "<div>\n",
       "<style scoped>\n",
       "    .dataframe tbody tr th:only-of-type {\n",
       "        vertical-align: middle;\n",
       "    }\n",
       "\n",
       "    .dataframe tbody tr th {\n",
       "        vertical-align: top;\n",
       "    }\n",
       "\n",
       "    .dataframe thead th {\n",
       "        text-align: right;\n",
       "    }\n",
       "</style>\n",
       "<table border=\"1\" class=\"dataframe\">\n",
       "  <thead>\n",
       "    <tr style=\"text-align: right;\">\n",
       "      <th></th>\n",
       "      <th>podcast_id</th>\n",
       "      <th>occur</th>\n",
       "      <th>unique_cat</th>\n",
       "      <th>cat_agg</th>\n",
       "    </tr>\n",
       "  </thead>\n",
       "  <tbody>\n",
       "    <tr>\n",
       "      <th>0</th>\n",
       "      <td>be905117ff9b3a13b1a065801241903b</td>\n",
       "      <td>8</td>\n",
       "      <td>8</td>\n",
       "      <td>arts,business,business-entrepreneurship,christ...</td>\n",
       "    </tr>\n",
       "    <tr>\n",
       "      <th>1</th>\n",
       "      <td>c4be70db3c16d3607bd7ae4999cb6e86</td>\n",
       "      <td>8</td>\n",
       "      <td>8</td>\n",
       "      <td>business,business-careers,business-entrepreneu...</td>\n",
       "    </tr>\n",
       "    <tr>\n",
       "      <th>2</th>\n",
       "      <td>fa8c359031380cd4f3b38358c8a75f92</td>\n",
       "      <td>8</td>\n",
       "      <td>8</td>\n",
       "      <td>business,business-careers,education,education-...</td>\n",
       "    </tr>\n",
       "    <tr>\n",
       "      <th>3</th>\n",
       "      <td>a7ae747331094b205de1e093011f7e1e</td>\n",
       "      <td>7</td>\n",
       "      <td>7</td>\n",
       "      <td>business,business-careers,education,health-fit...</td>\n",
       "    </tr>\n",
       "    <tr>\n",
       "      <th>4</th>\n",
       "      <td>af4c9ab7e54007e755ed9f063b89a328</td>\n",
       "      <td>7</td>\n",
       "      <td>7</td>\n",
       "      <td>business,business-entrepreneurship,christianit...</td>\n",
       "    </tr>\n",
       "    <tr>\n",
       "      <th>...</th>\n",
       "      <td>...</td>\n",
       "      <td>...</td>\n",
       "      <td>...</td>\n",
       "      <td>...</td>\n",
       "    </tr>\n",
       "    <tr>\n",
       "      <th>110019</th>\n",
       "      <td>fffe308414050768d3ce3782aa503b7d</td>\n",
       "      <td>1</td>\n",
       "      <td>1</td>\n",
       "      <td>tv-film</td>\n",
       "    </tr>\n",
       "    <tr>\n",
       "      <th>110020</th>\n",
       "      <td>ffff19eec34f8f036a2c1e146f79c857</td>\n",
       "      <td>1</td>\n",
       "      <td>1</td>\n",
       "      <td>sports</td>\n",
       "    </tr>\n",
       "    <tr>\n",
       "      <th>110021</th>\n",
       "      <td>ffff66f98c1adfc8d0d6c41bb8facfd0</td>\n",
       "      <td>1</td>\n",
       "      <td>1</td>\n",
       "      <td>comedy</td>\n",
       "    </tr>\n",
       "    <tr>\n",
       "      <th>110022</th>\n",
       "      <td>ffff923482740bc21a0fe184865ec2e2</td>\n",
       "      <td>1</td>\n",
       "      <td>1</td>\n",
       "      <td>education</td>\n",
       "    </tr>\n",
       "    <tr>\n",
       "      <th>110023</th>\n",
       "      <td>ffffbd44ec5f79d502f16ae372bf2d4f</td>\n",
       "      <td>1</td>\n",
       "      <td>1</td>\n",
       "      <td>comedy</td>\n",
       "    </tr>\n",
       "  </tbody>\n",
       "</table>\n",
       "<p>110024 rows × 4 columns</p>\n",
       "</div>"
      ],
      "text/plain": [
       "                              podcast_id  occur  unique_cat  \\\n",
       "0       be905117ff9b3a13b1a065801241903b      8           8   \n",
       "1       c4be70db3c16d3607bd7ae4999cb6e86      8           8   \n",
       "2       fa8c359031380cd4f3b38358c8a75f92      8           8   \n",
       "3       a7ae747331094b205de1e093011f7e1e      7           7   \n",
       "4       af4c9ab7e54007e755ed9f063b89a328      7           7   \n",
       "...                                  ...    ...         ...   \n",
       "110019  fffe308414050768d3ce3782aa503b7d      1           1   \n",
       "110020  ffff19eec34f8f036a2c1e146f79c857      1           1   \n",
       "110021  ffff66f98c1adfc8d0d6c41bb8facfd0      1           1   \n",
       "110022  ffff923482740bc21a0fe184865ec2e2      1           1   \n",
       "110023  ffffbd44ec5f79d502f16ae372bf2d4f      1           1   \n",
       "\n",
       "                                                  cat_agg  \n",
       "0       arts,business,business-entrepreneurship,christ...  \n",
       "1       business,business-careers,business-entrepreneu...  \n",
       "2       business,business-careers,education,education-...  \n",
       "3       business,business-careers,education,health-fit...  \n",
       "4       business,business-entrepreneurship,christianit...  \n",
       "...                                                   ...  \n",
       "110019                                            tv-film  \n",
       "110020                                             sports  \n",
       "110021                                             comedy  \n",
       "110022                                          education  \n",
       "110023                                             comedy  \n",
       "\n",
       "[110024 rows x 4 columns]"
      ]
     },
     "execution_count": 65,
     "metadata": {},
     "output_type": "execute_result"
    }
   ],
   "source": [
    "podcats_categories_agg = pd.read_sql_query(\"\"\"SELECT \n",
    "    podcast_id,\n",
    "    COUNT(*) AS occur,\n",
    "    COUNT(DISTINCT(category)) AS unique_cat,\n",
    "    GROUP_CONCAT(category) AS cat_agg\n",
    "FROM categories\n",
    "GROUP BY 1\n",
    "ORDER BY occur DESC, podcast_id\n",
    "            \"\"\", con)\n",
    "podcats_categories_agg"
   ]
  },
  {
   "cell_type": "code",
   "execution_count": 10,
   "id": "061236cb-1bb6-4359-8aa7-e243b2f800c4",
   "metadata": {},
   "outputs": [
    {
     "data": {
      "text/plain": [
       "'business,business-careers,business-entrepreneurship,business-investing,news,news-business-news,society-culture,society-culture-personal-journals'"
      ]
     },
     "execution_count": 10,
     "metadata": {},
     "output_type": "execute_result"
    }
   ],
   "source": [
    "podcats_categories_agg.cat_agg[1]"
   ]
  },
  {
   "cell_type": "markdown",
   "id": "5c73902a-f550-4ea0-8ce6-939b93732691",
   "metadata": {},
   "source": [
    "Categories data set has 110 024 unique podcasts (even it has 212 372 row entries).\n",
    "\n",
    "Some of podcasts have several categories labeled (e.g. `be905117ff9b3a13b1a065801241903b` podcasts has 8 entires and 8 unique categories). Some only one single category (e.g. `ffffbd44ec5f79d502f16ae372bf2d4f`)\n",
    "\n",
    "Some podcasts might have repetitive key words of categories, e.g. `business,business-careers,business-entrepreneurship,business-investing,news,news-business-news,society-culture,society-culture-personal-journals`. Thus we will standartize podcasts categories."
   ]
  },
  {
   "cell_type": "markdown",
   "id": "34b4cbef-be8d-4fde-b7b9-4bb3624fe37f",
   "metadata": {},
   "source": [
    "### Podcasts categories standartization"
   ]
  },
  {
   "cell_type": "code",
   "execution_count": 66,
   "id": "d610d2eb-74cb-4478-9076-3c12d3133eed",
   "metadata": {},
   "outputs": [
    {
     "name": "stdout",
     "output_type": "stream",
     "text": [
      "Before modification: business,business-careers,business-entrepreneurship,business-investing,news,news-business-news,society-culture,society-culture-personal-journals\n",
      "After modification: business-careers-culture-entrepreneurship-investing-journals-news-personal-society\n"
     ]
    },
    {
     "data": {
      "text/html": [
       "<div>\n",
       "<style scoped>\n",
       "    .dataframe tbody tr th:only-of-type {\n",
       "        vertical-align: middle;\n",
       "    }\n",
       "\n",
       "    .dataframe tbody tr th {\n",
       "        vertical-align: top;\n",
       "    }\n",
       "\n",
       "    .dataframe thead th {\n",
       "        text-align: right;\n",
       "    }\n",
       "</style>\n",
       "<table border=\"1\" class=\"dataframe\">\n",
       "  <thead>\n",
       "    <tr style=\"text-align: right;\">\n",
       "      <th></th>\n",
       "      <th>podcast_id</th>\n",
       "      <th>cat_agg</th>\n",
       "      <th>category_fixed</th>\n",
       "      <th>CategoriesNo</th>\n",
       "    </tr>\n",
       "  </thead>\n",
       "  <tbody>\n",
       "    <tr>\n",
       "      <th>0</th>\n",
       "      <td>be905117ff9b3a13b1a065801241903b</td>\n",
       "      <td>arts,business,business-entrepreneurship,christ...</td>\n",
       "      <td>arts-business-christianity-culture-education-e...</td>\n",
       "      <td>11</td>\n",
       "    </tr>\n",
       "    <tr>\n",
       "      <th>1</th>\n",
       "      <td>c4be70db3c16d3607bd7ae4999cb6e86</td>\n",
       "      <td>business,business-careers,business-entrepreneu...</td>\n",
       "      <td>business-careers-culture-entrepreneurship-inve...</td>\n",
       "      <td>9</td>\n",
       "    </tr>\n",
       "    <tr>\n",
       "      <th>2</th>\n",
       "      <td>fa8c359031380cd4f3b38358c8a75f92</td>\n",
       "      <td>business,business-careers,education,education-...</td>\n",
       "      <td>business-careers-culture-education-improvement...</td>\n",
       "      <td>12</td>\n",
       "    </tr>\n",
       "    <tr>\n",
       "      <th>3</th>\n",
       "      <td>a7ae747331094b205de1e093011f7e1e</td>\n",
       "      <td>business,business-careers,education,health-fit...</td>\n",
       "      <td>business-careers-culture-education-fitness-hea...</td>\n",
       "      <td>9</td>\n",
       "    </tr>\n",
       "    <tr>\n",
       "      <th>4</th>\n",
       "      <td>af4c9ab7e54007e755ed9f063b89a328</td>\n",
       "      <td>business,business-entrepreneurship,christianit...</td>\n",
       "      <td>business-christianity-education-entrepreneursh...</td>\n",
       "      <td>9</td>\n",
       "    </tr>\n",
       "  </tbody>\n",
       "</table>\n",
       "</div>"
      ],
      "text/plain": [
       "                         podcast_id  \\\n",
       "0  be905117ff9b3a13b1a065801241903b   \n",
       "1  c4be70db3c16d3607bd7ae4999cb6e86   \n",
       "2  fa8c359031380cd4f3b38358c8a75f92   \n",
       "3  a7ae747331094b205de1e093011f7e1e   \n",
       "4  af4c9ab7e54007e755ed9f063b89a328   \n",
       "\n",
       "                                             cat_agg  \\\n",
       "0  arts,business,business-entrepreneurship,christ...   \n",
       "1  business,business-careers,business-entrepreneu...   \n",
       "2  business,business-careers,education,education-...   \n",
       "3  business,business-careers,education,health-fit...   \n",
       "4  business,business-entrepreneurship,christianit...   \n",
       "\n",
       "                                      category_fixed  CategoriesNo  \n",
       "0  arts-business-christianity-culture-education-e...            11  \n",
       "1  business-careers-culture-entrepreneurship-inve...             9  \n",
       "2  business-careers-culture-education-improvement...            12  \n",
       "3  business-careers-culture-education-fitness-hea...             9  \n",
       "4  business-christianity-education-entrepreneursh...             9  "
      ]
     },
     "execution_count": 66,
     "metadata": {},
     "output_type": "execute_result"
    }
   ],
   "source": [
    "def unique_category(txt):\n",
    "    \"\"\"This function extracts unique categories values:\n",
    "    1. We split string values to list\n",
    "    2. We sort list values alphabetically\n",
    "    3. We select only distint categories values\n",
    "    4. Finaly join categories to single string\n",
    "    After these steps we return modified and prepared for analysis unique categories\"\"\"\n",
    "    return '-'.join(np.unique(sorted(txt.replace(',','-').split('-'))))\n",
    "\n",
    "\n",
    "def count_categories(txt):\n",
    "    \"\"\"This function counts how many categories podcats has labeled\"\"\"\n",
    "    return len(txt.split('-'))\n",
    "\n",
    "# Example\n",
    "print(\"Before modification:\", podcats_categories_agg.cat_agg[1])\n",
    "print(\"After modification:\", unique_category(podcats_categories_agg.cat_agg[1]))\n",
    "\n",
    "podcats_categories_agg['category_fixed'] = (podcats_categories_agg.cat_agg\n",
    "                                            .apply(lambda x: unique_category(x)))\n",
    "podcats_categories_agg['CategoriesNo'] = (podcats_categories_agg.category_fixed\n",
    "                                            .apply(lambda x: count_categories(x)))\n",
    "\n",
    "podcats_categories_agg = podcats_categories_agg.drop(columns=['occur','unique_cat'])\n",
    "podcats_categories_agg.head(5)"
   ]
  },
  {
   "cell_type": "markdown",
   "id": "dd1ad79e-6b9f-4dc2-9ee6-2ef41ccc9ee5",
   "metadata": {},
   "source": [
    "`category_fixed` - column is standartized with unique key words of categories representing what podcats is about."
   ]
  },
  {
   "cell_type": "markdown",
   "id": "9ccf96aa-d367-4df3-a8c6-7dc55928b435",
   "metadata": {},
   "source": [
    "### Checking duplicates of podcasts"
   ]
  },
  {
   "cell_type": "markdown",
   "id": "dcfd01ec-96cf-4ee6-806a-b3f3a81bbc5e",
   "metadata": {},
   "source": [
    "We will check if `podcasts` dataset contains only unique podcasts and wheter any duplicate values appears."
   ]
  },
  {
   "cell_type": "code",
   "execution_count": 14,
   "id": "0ad2b373-30bd-4911-a0aa-fbb459ba4c0a",
   "metadata": {},
   "outputs": [
    {
     "data": {
      "text/html": [
       "<div>\n",
       "<style scoped>\n",
       "    .dataframe tbody tr th:only-of-type {\n",
       "        vertical-align: middle;\n",
       "    }\n",
       "\n",
       "    .dataframe tbody tr th {\n",
       "        vertical-align: top;\n",
       "    }\n",
       "\n",
       "    .dataframe thead th {\n",
       "        text-align: right;\n",
       "    }\n",
       "</style>\n",
       "<table border=\"1\" class=\"dataframe\">\n",
       "  <thead>\n",
       "    <tr style=\"text-align: right;\">\n",
       "      <th></th>\n",
       "      <th>occur</th>\n",
       "      <th>unique_podcasts_ids</th>\n",
       "      <th>unique_itunes_ids</th>\n",
       "    </tr>\n",
       "  </thead>\n",
       "  <tbody>\n",
       "    <tr>\n",
       "      <th>0</th>\n",
       "      <td>110024</td>\n",
       "      <td>110024</td>\n",
       "      <td>110024</td>\n",
       "    </tr>\n",
       "  </tbody>\n",
       "</table>\n",
       "</div>"
      ],
      "text/plain": [
       "    occur  unique_podcasts_ids  unique_itunes_ids\n",
       "0  110024               110024             110024"
      ]
     },
     "execution_count": 14,
     "metadata": {},
     "output_type": "execute_result"
    }
   ],
   "source": [
    "pd.read_sql_query(\"\"\"SELECT \n",
    "    COUNT(*) AS occur,\n",
    "    COUNT(DISTINCT(podcast_id)) AS unique_podcasts_ids,\n",
    "    COUNT(DISTINCT(itunes_id)) AS unique_itunes_ids\n",
    "FROM podcasts\n",
    "            \"\"\", con)"
   ]
  },
  {
   "cell_type": "markdown",
   "id": "20308911-d7f3-426f-8320-052c19d2be67",
   "metadata": {},
   "source": [
    "Number of rows, number of unique podcasts ids and itunes ids is the same. Thus we can assume, that `podcasts` dataset contains only unique podcats values. There is no duplicates."
   ]
  },
  {
   "cell_type": "markdown",
   "id": "5d32e9f5-7c4d-435a-bf0b-5e106e9a6e25",
   "metadata": {},
   "source": [
    "### Podcats & categories mapping"
   ]
  },
  {
   "cell_type": "markdown",
   "id": "e494440e-7783-478b-840a-203ce01215fa",
   "metadata": {},
   "source": [
    "We want to check if all podcasts has categories and if all podcats in `categories` dataset has entry in `podcasts` dataset."
   ]
  },
  {
   "cell_type": "code",
   "execution_count": 20,
   "id": "bd23ee55-5902-45f8-8641-c53334387eb3",
   "metadata": {},
   "outputs": [
    {
     "data": {
      "text/html": [
       "<div>\n",
       "<style scoped>\n",
       "    .dataframe tbody tr th:only-of-type {\n",
       "        vertical-align: middle;\n",
       "    }\n",
       "\n",
       "    .dataframe tbody tr th {\n",
       "        vertical-align: top;\n",
       "    }\n",
       "\n",
       "    .dataframe thead th {\n",
       "        text-align: right;\n",
       "    }\n",
       "</style>\n",
       "<table border=\"1\" class=\"dataframe\">\n",
       "  <thead>\n",
       "    <tr style=\"text-align: right;\">\n",
       "      <th></th>\n",
       "      <th>podcast_id</th>\n",
       "    </tr>\n",
       "  </thead>\n",
       "  <tbody>\n",
       "  </tbody>\n",
       "</table>\n",
       "</div>"
      ],
      "text/plain": [
       "Empty DataFrame\n",
       "Columns: [podcast_id]\n",
       "Index: []"
      ]
     },
     "execution_count": 20,
     "metadata": {},
     "output_type": "execute_result"
    }
   ],
   "source": [
    "check1 = pd.read_sql_query(\"\"\"SELECT \n",
    "    DISTINCT p.podcast_id\n",
    "FROM podcasts AS p\n",
    "LEFT JOIN categories c\n",
    "    ON p.podcast_id = c.podcast_id\n",
    "WHERE\n",
    "    c.podcast_id IS NULL\n",
    "    OR c.category IS NULL OR c.category = ''\n",
    "\"\"\", con)\n",
    "check1"
   ]
  },
  {
   "cell_type": "markdown",
   "id": "b604e082-1e65-4c16-94b5-d8777c45c068",
   "metadata": {},
   "source": [
    "All podcasts in `podcasts` dataset mapped with `categories` dataset podcasts and not missing categories values were found."
   ]
  },
  {
   "cell_type": "code",
   "execution_count": 22,
   "id": "f9762328-9134-4331-8d6e-f3b16c5ecd46",
   "metadata": {},
   "outputs": [
    {
     "data": {
      "text/html": [
       "<div>\n",
       "<style scoped>\n",
       "    .dataframe tbody tr th:only-of-type {\n",
       "        vertical-align: middle;\n",
       "    }\n",
       "\n",
       "    .dataframe tbody tr th {\n",
       "        vertical-align: top;\n",
       "    }\n",
       "\n",
       "    .dataframe thead th {\n",
       "        text-align: right;\n",
       "    }\n",
       "</style>\n",
       "<table border=\"1\" class=\"dataframe\">\n",
       "  <thead>\n",
       "    <tr style=\"text-align: right;\">\n",
       "      <th></th>\n",
       "      <th>podcast_id</th>\n",
       "    </tr>\n",
       "  </thead>\n",
       "  <tbody>\n",
       "  </tbody>\n",
       "</table>\n",
       "</div>"
      ],
      "text/plain": [
       "Empty DataFrame\n",
       "Columns: [podcast_id]\n",
       "Index: []"
      ]
     },
     "execution_count": 22,
     "metadata": {},
     "output_type": "execute_result"
    }
   ],
   "source": [
    "check2 = pd.read_sql_query(\"\"\"SELECT \n",
    "    DISTINCT p.podcast_id\n",
    "FROM categories c\n",
    "LEFT JOIN podcasts AS p\n",
    "    ON p.podcast_id = c.podcast_id\n",
    "WHERE\n",
    "    p.podcast_id IS NULL\n",
    "\"\"\", con)\n",
    "check2"
   ]
  },
  {
   "cell_type": "markdown",
   "id": "277c50a4-55b2-446d-a824-fbfe2af4cff4",
   "metadata": {},
   "source": [
    "No not mapped podcats were found from `categories` dataset, too."
   ]
  },
  {
   "cell_type": "markdown",
   "id": "7c258216-8173-4a18-831c-9db2717d2c91",
   "metadata": {},
   "source": [
    "### Reviews overview"
   ]
  },
  {
   "cell_type": "markdown",
   "id": "e7e39b56-0960-477f-b951-45293dcef0ab",
   "metadata": {},
   "source": [
    "We will check `reviews` dataset:\n",
    "- How many reviews were collected?\n",
    "- How many unique podcasts got reviews?\n",
    "- How many unique listeners left reviews?\n",
    "- The time range reviews were collected."
   ]
  },
  {
   "cell_type": "code",
   "execution_count": 25,
   "id": "421a9125-af92-4b42-9188-848bccbcb286",
   "metadata": {},
   "outputs": [
    {
     "data": {
      "text/html": [
       "<div>\n",
       "<style scoped>\n",
       "    .dataframe tbody tr th:only-of-type {\n",
       "        vertical-align: middle;\n",
       "    }\n",
       "\n",
       "    .dataframe tbody tr th {\n",
       "        vertical-align: top;\n",
       "    }\n",
       "\n",
       "    .dataframe thead th {\n",
       "        text-align: right;\n",
       "    }\n",
       "</style>\n",
       "<table border=\"1\" class=\"dataframe\">\n",
       "  <thead>\n",
       "    <tr style=\"text-align: right;\">\n",
       "      <th></th>\n",
       "      <th>occur</th>\n",
       "      <th>unique_values</th>\n",
       "      <th>unique_authors</th>\n",
       "      <th>first_review_time</th>\n",
       "      <th>last_review_time</th>\n",
       "    </tr>\n",
       "  </thead>\n",
       "  <tbody>\n",
       "    <tr>\n",
       "      <th>0</th>\n",
       "      <td>2067529</td>\n",
       "      <td>111544</td>\n",
       "      <td>1475285</td>\n",
       "      <td>2005-12-09T21:41:01-07:00</td>\n",
       "      <td>٢٠٢٠-١٢-٢٤T١١:٥٥:٠٨-07:00</td>\n",
       "    </tr>\n",
       "  </tbody>\n",
       "</table>\n",
       "</div>"
      ],
      "text/plain": [
       "     occur  unique_values  unique_authors          first_review_time  \\\n",
       "0  2067529         111544         1475285  2005-12-09T21:41:01-07:00   \n",
       "\n",
       "            last_review_time  \n",
       "0  ٢٠٢٠-١٢-٢٤T١١:٥٥:٠٨-07:00  "
      ]
     },
     "execution_count": 25,
     "metadata": {},
     "output_type": "execute_result"
    }
   ],
   "source": [
    "pd.read_sql_query(\"\"\"SELECT \n",
    "    COUNT(*) AS occur,\n",
    "    COUNT(DISTINCT(podcast_id)) AS unique_values,\n",
    "    COUNT(DISTINCT(author_id)) AS unique_authors,\n",
    "    MIN(created_at) AS first_review_time,\n",
    "    MAX(created_at) AS last_review_time\n",
    "FROM reviews\n",
    "\"\"\", con)"
   ]
  },
  {
   "cell_type": "markdown",
   "id": "09eff3d8-96a7-47d5-b20a-1ba02b401334",
   "metadata": {},
   "source": [
    "In total 2 067 529 reviews were collected from 1 475 285 unique listeners.\n",
    "We can see that 111 544 unique podcasts ids were found in this dataset, but from `podcasts` and `categories` we saw less unique podcasts. Why does it differ?\n",
    "\n",
    "Besides, we can see that last_review_time is has strange value, not date format. We will investigate and fix it in next steps"
   ]
  },
  {
   "cell_type": "markdown",
   "id": "c7650656-8f96-4440-8270-8533fc074df9",
   "metadata": {},
   "source": [
    "- Is where any podcasts which got review but was not listed in podcasts dataset?"
   ]
  },
  {
   "cell_type": "code",
   "execution_count": 30,
   "id": "4b472c26-e858-4bec-b1bc-bf29308b5b45",
   "metadata": {},
   "outputs": [
    {
     "name": "stdout",
     "output_type": "stream",
     "text": [
      "Number of missing podcasts in reviews dataset compared to podcasts dataset: 1520\n"
     ]
    },
    {
     "data": {
      "text/html": [
       "<div>\n",
       "<style scoped>\n",
       "    .dataframe tbody tr th:only-of-type {\n",
       "        vertical-align: middle;\n",
       "    }\n",
       "\n",
       "    .dataframe tbody tr th {\n",
       "        vertical-align: top;\n",
       "    }\n",
       "\n",
       "    .dataframe thead th {\n",
       "        text-align: right;\n",
       "    }\n",
       "</style>\n",
       "<table border=\"1\" class=\"dataframe\">\n",
       "  <thead>\n",
       "    <tr style=\"text-align: right;\">\n",
       "      <th></th>\n",
       "      <th>podcast_id</th>\n",
       "    </tr>\n",
       "  </thead>\n",
       "  <tbody>\n",
       "    <tr>\n",
       "      <th>0</th>\n",
       "      <td>f2ff762ba0763f124b5c64d728888a30</td>\n",
       "    </tr>\n",
       "    <tr>\n",
       "      <th>1</th>\n",
       "      <td>cdb26d8a1ce63f29c854d28557495054</td>\n",
       "    </tr>\n",
       "    <tr>\n",
       "      <th>2</th>\n",
       "      <td>a7d10181051177d55b69a307fa80e0d7</td>\n",
       "    </tr>\n",
       "  </tbody>\n",
       "</table>\n",
       "</div>"
      ],
      "text/plain": [
       "                         podcast_id\n",
       "0  f2ff762ba0763f124b5c64d728888a30\n",
       "1  cdb26d8a1ce63f29c854d28557495054\n",
       "2  a7d10181051177d55b69a307fa80e0d7"
      ]
     },
     "execution_count": 30,
     "metadata": {},
     "output_type": "execute_result"
    }
   ],
   "source": [
    "check3 = pd.read_sql_query(\"\"\"SELECT \n",
    "    DISTINCT r.podcast_id\n",
    "FROM reviews r\n",
    "LEFT JOIN podcasts AS p\n",
    "    ON r.podcast_id = p.podcast_id\n",
    "WHERE\n",
    "    p.podcast_id IS NULL\n",
    "\"\"\", con)\n",
    "print('Number of missing podcasts in reviews dataset compared to podcasts dataset:',len(check3))\n",
    "check3.head(3)"
   ]
  },
  {
   "cell_type": "markdown",
   "id": "6afe75ec-b65b-4da9-9959-0510f8acd355",
   "metadata": {},
   "source": [
    "There is 1520 podcasts having reviews but not listed in the `podcasts` dataset."
   ]
  },
  {
   "cell_type": "markdown",
   "id": "a80bf574-e672-4269-a2e8-7e1f09bbd4b0",
   "metadata": {},
   "source": [
    "- Is there any podcast which did not get review?"
   ]
  },
  {
   "cell_type": "code",
   "execution_count": 32,
   "id": "4c43a736-0a9f-454a-aa75-d84a7df6b673",
   "metadata": {},
   "outputs": [
    {
     "name": "stdout",
     "output_type": "stream",
     "text": [
      "Number of missing podcasts in podcasts  dataset compared to reviews dataset: 0\n"
     ]
    },
    {
     "data": {
      "text/html": [
       "<div>\n",
       "<style scoped>\n",
       "    .dataframe tbody tr th:only-of-type {\n",
       "        vertical-align: middle;\n",
       "    }\n",
       "\n",
       "    .dataframe tbody tr th {\n",
       "        vertical-align: top;\n",
       "    }\n",
       "\n",
       "    .dataframe thead th {\n",
       "        text-align: right;\n",
       "    }\n",
       "</style>\n",
       "<table border=\"1\" class=\"dataframe\">\n",
       "  <thead>\n",
       "    <tr style=\"text-align: right;\">\n",
       "      <th></th>\n",
       "      <th>podcast_id</th>\n",
       "    </tr>\n",
       "  </thead>\n",
       "  <tbody>\n",
       "  </tbody>\n",
       "</table>\n",
       "</div>"
      ],
      "text/plain": [
       "Empty DataFrame\n",
       "Columns: [podcast_id]\n",
       "Index: []"
      ]
     },
     "execution_count": 32,
     "metadata": {},
     "output_type": "execute_result"
    }
   ],
   "source": [
    "check4 = pd.read_sql_query(\"\"\"SELECT \n",
    "    DISTINCT r.podcast_id\n",
    "FROM podcasts AS p \n",
    "LEFT JOIN reviews r\n",
    "    ON r.podcast_id = p.podcast_id\n",
    "WHERE\n",
    "    p.podcast_id IS NULL\n",
    "\"\"\", con)\n",
    "print('Number of missing podcasts in podcasts  dataset compared to reviews dataset:',len(check4))\n",
    "check4.head(3)"
   ]
  },
  {
   "cell_type": "markdown",
   "id": "a4b2ff72-6f8a-4a59-beaa-b37b1a001d8f",
   "metadata": {},
   "source": [
    "It looks like all podcasts in `podcasts` dataset got at least one review. There was no such podcasts without a review."
   ]
  },
  {
   "cell_type": "markdown",
   "id": "bff559f6-1f61-46de-9261-e9e3eefd66b7",
   "metadata": {},
   "source": [
    "- What is the unique reviews ratings values?"
   ]
  },
  {
   "cell_type": "code",
   "execution_count": 36,
   "id": "efbc071c-65b8-4714-8b7a-8a2eadf33114",
   "metadata": {},
   "outputs": [
    {
     "data": {
      "text/plain": [
       "array([5, 1, 3, 4, 2])"
      ]
     },
     "execution_count": 36,
     "metadata": {},
     "output_type": "execute_result"
    }
   ],
   "source": [
    "reviews.rating.unique()"
   ]
  },
  {
   "cell_type": "markdown",
   "id": "1f6603bd-9fa8-4ab3-ad96-e8ce8044fed4",
   "metadata": {},
   "source": [
    "All reviews ratings are numeric values from 1 to 5."
   ]
  },
  {
   "cell_type": "markdown",
   "id": "8a0b0c4f-ae5f-489d-b11a-2530e9056e9c",
   "metadata": {},
   "source": [
    "Let's eliminate strange reviews dates from reviews dataset"
   ]
  },
  {
   "cell_type": "code",
   "execution_count": 70,
   "id": "4ee57b35-a2e7-48a7-82c6-24d378ab14a7",
   "metadata": {},
   "outputs": [
    {
     "name": "stdout",
     "output_type": "stream",
     "text": [
      "First review data: 2005-12-09 00:00:00\n",
      "Last review data:  2023-02-16 00:00:00\n"
     ]
    }
   ],
   "source": [
    "reviews = reviews[(reviews.created_at != '٢٠٢٠-١٢-٢٤T١١:٥٥:٠٨-07:00')\n",
    "                  &\n",
    "                  (reviews.created_at != '٢٠٢٠-١٢-٢٤T٠٨:٢٦:٣٦-07:00')\n",
    "                 ].reset_index()\n",
    "\n",
    "reviews['ReviewDate'] = (reviews.created_at\n",
    "                             .apply(lambda x: datetime.strptime(x[0:10],'%Y-%m-%d')))\n",
    "\n",
    "print('First review data:',reviews.ReviewDate.min())\n",
    "print('Last review data: ',reviews.ReviewDate.max())"
   ]
  },
  {
   "cell_type": "markdown",
   "id": "be5369f0-d379-4005-b5ba-df6207d10fd6",
   "metadata": {},
   "source": [
    "The reviews were collected from 2005-12-09 to 2023-02-16"
   ]
  },
  {
   "cell_type": "markdown",
   "id": "538e94ae-b8a8-4ff5-8520-5655a732385b",
   "metadata": {},
   "source": [
    "- What is the avearage rating per podcats?\n",
    "- How many reviews they got"
   ]
  },
  {
   "cell_type": "code",
   "execution_count": 108,
   "id": "eea096a6-56c1-4844-9bf1-0db5079b11cc",
   "metadata": {},
   "outputs": [
    {
     "data": {
      "text/html": [
       "<div>\n",
       "<style scoped>\n",
       "    .dataframe tbody tr th:only-of-type {\n",
       "        vertical-align: middle;\n",
       "    }\n",
       "\n",
       "    .dataframe tbody tr th {\n",
       "        vertical-align: top;\n",
       "    }\n",
       "\n",
       "    .dataframe thead th {\n",
       "        text-align: right;\n",
       "    }\n",
       "</style>\n",
       "<table border=\"1\" class=\"dataframe\">\n",
       "  <thead>\n",
       "    <tr style=\"text-align: right;\">\n",
       "      <th></th>\n",
       "      <th>podcast_id</th>\n",
       "      <th>num_of_reviews</th>\n",
       "      <th>avg_rating</th>\n",
       "    </tr>\n",
       "  </thead>\n",
       "  <tbody>\n",
       "    <tr>\n",
       "      <th>0</th>\n",
       "      <td>a00018b54eb342567c94dacfb2a3e504</td>\n",
       "      <td>1</td>\n",
       "      <td>5.000000</td>\n",
       "    </tr>\n",
       "    <tr>\n",
       "      <th>1</th>\n",
       "      <td>a00043d34e734b09246d17dc5d56f63c</td>\n",
       "      <td>1</td>\n",
       "      <td>5.000000</td>\n",
       "    </tr>\n",
       "    <tr>\n",
       "      <th>2</th>\n",
       "      <td>a0004b1ef445af9dc84dad1e7821b1e3</td>\n",
       "      <td>1</td>\n",
       "      <td>1.000000</td>\n",
       "    </tr>\n",
       "    <tr>\n",
       "      <th>3</th>\n",
       "      <td>a000b6538cca860a11a94607c13e9595</td>\n",
       "      <td>1</td>\n",
       "      <td>5.000000</td>\n",
       "    </tr>\n",
       "    <tr>\n",
       "      <th>4</th>\n",
       "      <td>a00173e86c410b244d2e2a4fa7f4b658</td>\n",
       "      <td>1</td>\n",
       "      <td>5.000000</td>\n",
       "    </tr>\n",
       "    <tr>\n",
       "      <th>...</th>\n",
       "      <td>...</td>\n",
       "      <td>...</td>\n",
       "      <td>...</td>\n",
       "    </tr>\n",
       "    <tr>\n",
       "      <th>111539</th>\n",
       "      <td>f2377a9b0d9a2e0fb05c3dad55759328</td>\n",
       "      <td>7389</td>\n",
       "      <td>4.735553</td>\n",
       "    </tr>\n",
       "    <tr>\n",
       "      <th>111540</th>\n",
       "      <td>f5fce0325ac6a4bf5e191d6608b95797</td>\n",
       "      <td>8248</td>\n",
       "      <td>3.801285</td>\n",
       "    </tr>\n",
       "    <tr>\n",
       "      <th>111541</th>\n",
       "      <td>bad6c91efdbee814db985c7a65199604</td>\n",
       "      <td>9698</td>\n",
       "      <td>4.776243</td>\n",
       "    </tr>\n",
       "    <tr>\n",
       "      <th>111542</th>\n",
       "      <td>bc5ddad3898e0973eb541577d1df8004</td>\n",
       "      <td>10675</td>\n",
       "      <td>3.605714</td>\n",
       "    </tr>\n",
       "    <tr>\n",
       "      <th>111543</th>\n",
       "      <td>bf5bf76d5b6ffbf9a31bba4480383b7f</td>\n",
       "      <td>33104</td>\n",
       "      <td>4.274982</td>\n",
       "    </tr>\n",
       "  </tbody>\n",
       "</table>\n",
       "<p>111544 rows × 3 columns</p>\n",
       "</div>"
      ],
      "text/plain": [
       "                              podcast_id  num_of_reviews  avg_rating\n",
       "0       a00018b54eb342567c94dacfb2a3e504               1    5.000000\n",
       "1       a00043d34e734b09246d17dc5d56f63c               1    5.000000\n",
       "2       a0004b1ef445af9dc84dad1e7821b1e3               1    1.000000\n",
       "3       a000b6538cca860a11a94607c13e9595               1    5.000000\n",
       "4       a00173e86c410b244d2e2a4fa7f4b658               1    5.000000\n",
       "...                                  ...             ...         ...\n",
       "111539  f2377a9b0d9a2e0fb05c3dad55759328            7389    4.735553\n",
       "111540  f5fce0325ac6a4bf5e191d6608b95797            8248    3.801285\n",
       "111541  bad6c91efdbee814db985c7a65199604            9698    4.776243\n",
       "111542  bc5ddad3898e0973eb541577d1df8004           10675    3.605714\n",
       "111543  bf5bf76d5b6ffbf9a31bba4480383b7f           33104    4.274982\n",
       "\n",
       "[111544 rows x 3 columns]"
      ]
     },
     "execution_count": 108,
     "metadata": {},
     "output_type": "execute_result"
    }
   ],
   "source": [
    "podcast_reviews_agg = pd.read_sql_query(\"\"\"SELECT \n",
    "    podcast_id,\n",
    "    COUNT(*) AS num_of_reviews,\n",
    "    AVG(rating) AS avg_rating\n",
    "FROM reviews\n",
    "GROUP BY podcast_id\n",
    "ORDER BY num_of_reviews\n",
    "\"\"\", con)\n",
    "podcast_reviews_agg"
   ]
  },
  {
   "cell_type": "markdown",
   "id": "048bee1b-95c1-479c-b7e1-88877061cf1a",
   "metadata": {},
   "source": [
    "## Data exports"
   ]
  },
  {
   "cell_type": "markdown",
   "id": "cc6bcdb4-05c6-4c94-af1a-2aee6b1f8abc",
   "metadata": {},
   "source": [
    "### Data export for the report about podcasts"
   ]
  },
  {
   "cell_type": "code",
   "execution_count": 79,
   "id": "7bf2fa1e-723b-4b20-9a82-8ef7d4ed4f3a",
   "metadata": {},
   "outputs": [
    {
     "data": {
      "text/html": [
       "<div>\n",
       "<style scoped>\n",
       "    .dataframe tbody tr th:only-of-type {\n",
       "        vertical-align: middle;\n",
       "    }\n",
       "\n",
       "    .dataframe tbody tr th {\n",
       "        vertical-align: top;\n",
       "    }\n",
       "\n",
       "    .dataframe thead th {\n",
       "        text-align: right;\n",
       "    }\n",
       "</style>\n",
       "<table border=\"1\" class=\"dataframe\">\n",
       "  <thead>\n",
       "    <tr style=\"text-align: right;\">\n",
       "      <th></th>\n",
       "      <th>podcast_id</th>\n",
       "      <th>itunes_id</th>\n",
       "      <th>slug</th>\n",
       "      <th>itunes_url</th>\n",
       "      <th>title</th>\n",
       "      <th>category</th>\n",
       "      <th>cat_agg</th>\n",
       "      <th>category_fixed</th>\n",
       "      <th>CategoriesNo</th>\n",
       "    </tr>\n",
       "  </thead>\n",
       "  <tbody>\n",
       "    <tr>\n",
       "      <th>0</th>\n",
       "      <td>a00018b54eb342567c94dacfb2a3e504</td>\n",
       "      <td>1313466221</td>\n",
       "      <td>scaling-global</td>\n",
       "      <td>https://podcasts.apple.com/us/podcast/scaling-...</td>\n",
       "      <td>Scaling Global</td>\n",
       "      <td>business</td>\n",
       "      <td>business</td>\n",
       "      <td>business</td>\n",
       "      <td>1</td>\n",
       "    </tr>\n",
       "    <tr>\n",
       "      <th>1</th>\n",
       "      <td>a00043d34e734b09246d17dc5d56f63c</td>\n",
       "      <td>158973461</td>\n",
       "      <td>cornerstone-baptist-church-of-orlando</td>\n",
       "      <td>https://podcasts.apple.com/us/podcast/cornerst...</td>\n",
       "      <td>Cornerstone Baptist Church of Orlando</td>\n",
       "      <td>christianity</td>\n",
       "      <td>christianity,religion-spirituality</td>\n",
       "      <td>christianity-religion-spirituality</td>\n",
       "      <td>3</td>\n",
       "    </tr>\n",
       "    <tr>\n",
       "      <th>2</th>\n",
       "      <td>a00043d34e734b09246d17dc5d56f63c</td>\n",
       "      <td>158973461</td>\n",
       "      <td>cornerstone-baptist-church-of-orlando</td>\n",
       "      <td>https://podcasts.apple.com/us/podcast/cornerst...</td>\n",
       "      <td>Cornerstone Baptist Church of Orlando</td>\n",
       "      <td>religion-spirituality</td>\n",
       "      <td>christianity,religion-spirituality</td>\n",
       "      <td>christianity-religion-spirituality</td>\n",
       "      <td>3</td>\n",
       "    </tr>\n",
       "    <tr>\n",
       "      <th>3</th>\n",
       "      <td>a0004b1ef445af9dc84dad1e7821b1e3</td>\n",
       "      <td>139076942</td>\n",
       "      <td>mystery-dancing-in-the-dark</td>\n",
       "      <td>https://podcasts.apple.com/us/podcast/mystery-...</td>\n",
       "      <td>Mystery: Dancing in the Dark</td>\n",
       "      <td>religion-spirituality</td>\n",
       "      <td>religion-spirituality,spirituality</td>\n",
       "      <td>religion-spirituality</td>\n",
       "      <td>2</td>\n",
       "    </tr>\n",
       "    <tr>\n",
       "      <th>4</th>\n",
       "      <td>a0004b1ef445af9dc84dad1e7821b1e3</td>\n",
       "      <td>139076942</td>\n",
       "      <td>mystery-dancing-in-the-dark</td>\n",
       "      <td>https://podcasts.apple.com/us/podcast/mystery-...</td>\n",
       "      <td>Mystery: Dancing in the Dark</td>\n",
       "      <td>spirituality</td>\n",
       "      <td>religion-spirituality,spirituality</td>\n",
       "      <td>religion-spirituality</td>\n",
       "      <td>2</td>\n",
       "    </tr>\n",
       "  </tbody>\n",
       "</table>\n",
       "</div>"
      ],
      "text/plain": [
       "                         podcast_id   itunes_id  \\\n",
       "0  a00018b54eb342567c94dacfb2a3e504  1313466221   \n",
       "1  a00043d34e734b09246d17dc5d56f63c   158973461   \n",
       "2  a00043d34e734b09246d17dc5d56f63c   158973461   \n",
       "3  a0004b1ef445af9dc84dad1e7821b1e3   139076942   \n",
       "4  a0004b1ef445af9dc84dad1e7821b1e3   139076942   \n",
       "\n",
       "                                    slug  \\\n",
       "0                         scaling-global   \n",
       "1  cornerstone-baptist-church-of-orlando   \n",
       "2  cornerstone-baptist-church-of-orlando   \n",
       "3            mystery-dancing-in-the-dark   \n",
       "4            mystery-dancing-in-the-dark   \n",
       "\n",
       "                                          itunes_url  \\\n",
       "0  https://podcasts.apple.com/us/podcast/scaling-...   \n",
       "1  https://podcasts.apple.com/us/podcast/cornerst...   \n",
       "2  https://podcasts.apple.com/us/podcast/cornerst...   \n",
       "3  https://podcasts.apple.com/us/podcast/mystery-...   \n",
       "4  https://podcasts.apple.com/us/podcast/mystery-...   \n",
       "\n",
       "                                   title               category  \\\n",
       "0                         Scaling Global               business   \n",
       "1  Cornerstone Baptist Church of Orlando           christianity   \n",
       "2  Cornerstone Baptist Church of Orlando  religion-spirituality   \n",
       "3           Mystery: Dancing in the Dark  religion-spirituality   \n",
       "4           Mystery: Dancing in the Dark           spirituality   \n",
       "\n",
       "                              cat_agg                      category_fixed  \\\n",
       "0                            business                            business   \n",
       "1  christianity,religion-spirituality  christianity-religion-spirituality   \n",
       "2  christianity,religion-spirituality  christianity-religion-spirituality   \n",
       "3  religion-spirituality,spirituality               religion-spirituality   \n",
       "4  religion-spirituality,spirituality               religion-spirituality   \n",
       "\n",
       "   CategoriesNo  \n",
       "0             1  \n",
       "1             3  \n",
       "2             3  \n",
       "3             2  \n",
       "4             2  "
      ]
     },
     "execution_count": 79,
     "metadata": {},
     "output_type": "execute_result"
    }
   ],
   "source": [
    "podcast_data = pd.merge(podcast, podcasts_categories, \n",
    "                        how='left', \n",
    "                        on='podcast_id')\n",
    "podcast_df = pd.merge(podcast_data, podcats_categories_agg, \n",
    "                      how='left', \n",
    "                      on='podcast_id')\n",
    "podcast_df.head(5)"
   ]
  },
  {
   "cell_type": "code",
   "execution_count": 116,
   "id": "d49b39fa-be5e-459f-81af-49b1d5baa875",
   "metadata": {},
   "outputs": [],
   "source": [
    "output_csv = \"/Users/kristinazekiene/Documents/LearningPython/TuringCollege/M2S2/Output/podcast_data.csv\"\n",
    "podcast_df[['podcast_id','itunes_id','category_fixed','CategoriesNo',\n",
    "           'num_of_reviews','avg_rating']].to_csv(output_csv, index=False)"
   ]
  },
  {
   "cell_type": "markdown",
   "id": "1f976561-ec8a-47cf-9ee9-2d17b2a1cab6",
   "metadata": {},
   "source": [
    "### Data export for the report about reviews traffic"
   ]
  },
  {
   "cell_type": "code",
   "execution_count": 83,
   "id": "f1161c60-21a8-49a6-9a46-7c3327807fcf",
   "metadata": {},
   "outputs": [
    {
     "data": {
      "text/html": [
       "<div>\n",
       "<style scoped>\n",
       "    .dataframe tbody tr th:only-of-type {\n",
       "        vertical-align: middle;\n",
       "    }\n",
       "\n",
       "    .dataframe tbody tr th {\n",
       "        vertical-align: top;\n",
       "    }\n",
       "\n",
       "    .dataframe thead th {\n",
       "        text-align: right;\n",
       "    }\n",
       "</style>\n",
       "<table border=\"1\" class=\"dataframe\">\n",
       "  <thead>\n",
       "    <tr style=\"text-align: right;\">\n",
       "      <th></th>\n",
       "      <th>ReviewDate</th>\n",
       "      <th>NumOfReviews</th>\n",
       "    </tr>\n",
       "  </thead>\n",
       "  <tbody>\n",
       "    <tr>\n",
       "      <th>0</th>\n",
       "      <td>2005-12-09</td>\n",
       "      <td>3</td>\n",
       "    </tr>\n",
       "    <tr>\n",
       "      <th>1</th>\n",
       "      <td>2005-12-10</td>\n",
       "      <td>9</td>\n",
       "    </tr>\n",
       "    <tr>\n",
       "      <th>2</th>\n",
       "      <td>2005-12-11</td>\n",
       "      <td>5</td>\n",
       "    </tr>\n",
       "  </tbody>\n",
       "</table>\n",
       "</div>"
      ],
      "text/plain": [
       "  ReviewDate  NumOfReviews\n",
       "0 2005-12-09             3\n",
       "1 2005-12-10             9\n",
       "2 2005-12-11             5"
      ]
     },
     "execution_count": 83,
     "metadata": {},
     "output_type": "execute_result"
    }
   ],
   "source": [
    "reviews_data_agg = (reviews.groupby('ReviewDate')\n",
    "                           .agg(NumOfReviews=('podcast_id','count'))\n",
    "                           .reset_index())\n",
    "reviews_data_agg.head(3)     "
   ]
  },
  {
   "cell_type": "code",
   "execution_count": 84,
   "id": "b84c7913-7959-4c55-b23e-5fa8e2a4322f",
   "metadata": {},
   "outputs": [],
   "source": [
    "output_reviews_csv = \"/Users/kristinazekiene/Documents/LearningPython/TuringCollege/M2S2/Output/reviews_data.csv\"\n",
    "reviews_data_agg.to_csv(output_reviews_csv, index=False)"
   ]
  },
  {
   "cell_type": "markdown",
   "id": "53d96811-9f55-46dd-b05a-915f6bd9f184",
   "metadata": {},
   "source": [
    "### Data export for the inferential analysis"
   ]
  },
  {
   "cell_type": "code",
   "execution_count": 93,
   "id": "9e59ee0c-d501-4a1d-a2cb-5424e9c2a676",
   "metadata": {},
   "outputs": [
    {
     "name": "stdout",
     "output_type": "stream",
     "text": [
      "<class 'pandas.core.frame.DataFrame'>\n",
      "Int64Index: 4529481 entries, 0 to 4529480\n",
      "Data columns (total 15 columns):\n",
      " #   Column          Dtype         \n",
      "---  ------          -----         \n",
      " 0   podcast_id      object        \n",
      " 1   itunes_id       int64         \n",
      " 2   slug            object        \n",
      " 3   itunes_url      object        \n",
      " 4   podcast_title   object        \n",
      " 5   category        object        \n",
      " 6   cat_agg         object        \n",
      " 7   category_fixed  object        \n",
      " 8   CategoriesNo    int64         \n",
      " 9   review_title    object        \n",
      " 10  content         object        \n",
      " 11  rating          int64         \n",
      " 12  author_id       object        \n",
      " 13  created_at      object        \n",
      " 14  ReviewDate      datetime64[ns]\n",
      "dtypes: datetime64[ns](1), int64(3), object(11)\n",
      "memory usage: 552.9+ MB\n"
     ]
    },
    {
     "data": {
      "text/html": [
       "<div>\n",
       "<style scoped>\n",
       "    .dataframe tbody tr th:only-of-type {\n",
       "        vertical-align: middle;\n",
       "    }\n",
       "\n",
       "    .dataframe tbody tr th {\n",
       "        vertical-align: top;\n",
       "    }\n",
       "\n",
       "    .dataframe thead th {\n",
       "        text-align: right;\n",
       "    }\n",
       "</style>\n",
       "<table border=\"1\" class=\"dataframe\">\n",
       "  <thead>\n",
       "    <tr style=\"text-align: right;\">\n",
       "      <th></th>\n",
       "      <th>podcast_id</th>\n",
       "      <th>itunes_id</th>\n",
       "      <th>slug</th>\n",
       "      <th>itunes_url</th>\n",
       "      <th>podcast_title</th>\n",
       "      <th>category</th>\n",
       "      <th>cat_agg</th>\n",
       "      <th>category_fixed</th>\n",
       "      <th>CategoriesNo</th>\n",
       "      <th>review_title</th>\n",
       "      <th>content</th>\n",
       "      <th>rating</th>\n",
       "      <th>author_id</th>\n",
       "      <th>created_at</th>\n",
       "      <th>ReviewDate</th>\n",
       "    </tr>\n",
       "  </thead>\n",
       "  <tbody>\n",
       "    <tr>\n",
       "      <th>0</th>\n",
       "      <td>a00018b54eb342567c94dacfb2a3e504</td>\n",
       "      <td>1313466221</td>\n",
       "      <td>scaling-global</td>\n",
       "      <td>https://podcasts.apple.com/us/podcast/scaling-...</td>\n",
       "      <td>Scaling Global</td>\n",
       "      <td>business</td>\n",
       "      <td>business</td>\n",
       "      <td>business</td>\n",
       "      <td>1</td>\n",
       "      <td>Very informative</td>\n",
       "      <td>Great variety of speakers!</td>\n",
       "      <td>5</td>\n",
       "      <td>CC47C85896D423B</td>\n",
       "      <td>2017-11-29T12:16:43-07:00</td>\n",
       "      <td>2017-11-29</td>\n",
       "    </tr>\n",
       "    <tr>\n",
       "      <th>1</th>\n",
       "      <td>a00043d34e734b09246d17dc5d56f63c</td>\n",
       "      <td>158973461</td>\n",
       "      <td>cornerstone-baptist-church-of-orlando</td>\n",
       "      <td>https://podcasts.apple.com/us/podcast/cornerst...</td>\n",
       "      <td>Cornerstone Baptist Church of Orlando</td>\n",
       "      <td>christianity</td>\n",
       "      <td>christianity,religion-spirituality</td>\n",
       "      <td>christianity-religion-spirituality</td>\n",
       "      <td>3</td>\n",
       "      <td>Good Sernons</td>\n",
       "      <td>I'm a regular listener.  I only wish that the ...</td>\n",
       "      <td>5</td>\n",
       "      <td>103CC9DA2046218</td>\n",
       "      <td>2019-10-08T04:23:32-07:00</td>\n",
       "      <td>2019-10-08</td>\n",
       "    </tr>\n",
       "    <tr>\n",
       "      <th>2</th>\n",
       "      <td>a00043d34e734b09246d17dc5d56f63c</td>\n",
       "      <td>158973461</td>\n",
       "      <td>cornerstone-baptist-church-of-orlando</td>\n",
       "      <td>https://podcasts.apple.com/us/podcast/cornerst...</td>\n",
       "      <td>Cornerstone Baptist Church of Orlando</td>\n",
       "      <td>religion-spirituality</td>\n",
       "      <td>christianity,religion-spirituality</td>\n",
       "      <td>christianity-religion-spirituality</td>\n",
       "      <td>3</td>\n",
       "      <td>Good Sernons</td>\n",
       "      <td>I'm a regular listener.  I only wish that the ...</td>\n",
       "      <td>5</td>\n",
       "      <td>103CC9DA2046218</td>\n",
       "      <td>2019-10-08T04:23:32-07:00</td>\n",
       "      <td>2019-10-08</td>\n",
       "    </tr>\n",
       "  </tbody>\n",
       "</table>\n",
       "</div>"
      ],
      "text/plain": [
       "                         podcast_id   itunes_id  \\\n",
       "0  a00018b54eb342567c94dacfb2a3e504  1313466221   \n",
       "1  a00043d34e734b09246d17dc5d56f63c   158973461   \n",
       "2  a00043d34e734b09246d17dc5d56f63c   158973461   \n",
       "\n",
       "                                    slug  \\\n",
       "0                         scaling-global   \n",
       "1  cornerstone-baptist-church-of-orlando   \n",
       "2  cornerstone-baptist-church-of-orlando   \n",
       "\n",
       "                                          itunes_url  \\\n",
       "0  https://podcasts.apple.com/us/podcast/scaling-...   \n",
       "1  https://podcasts.apple.com/us/podcast/cornerst...   \n",
       "2  https://podcasts.apple.com/us/podcast/cornerst...   \n",
       "\n",
       "                           podcast_title               category  \\\n",
       "0                         Scaling Global               business   \n",
       "1  Cornerstone Baptist Church of Orlando           christianity   \n",
       "2  Cornerstone Baptist Church of Orlando  religion-spirituality   \n",
       "\n",
       "                              cat_agg                      category_fixed  \\\n",
       "0                            business                            business   \n",
       "1  christianity,religion-spirituality  christianity-religion-spirituality   \n",
       "2  christianity,religion-spirituality  christianity-religion-spirituality   \n",
       "\n",
       "   CategoriesNo      review_title  \\\n",
       "0             1  Very informative   \n",
       "1             3      Good Sernons   \n",
       "2             3      Good Sernons   \n",
       "\n",
       "                                             content  rating        author_id  \\\n",
       "0                         Great variety of speakers!       5  CC47C85896D423B   \n",
       "1  I'm a regular listener.  I only wish that the ...       5  103CC9DA2046218   \n",
       "2  I'm a regular listener.  I only wish that the ...       5  103CC9DA2046218   \n",
       "\n",
       "                  created_at ReviewDate  \n",
       "0  2017-11-29T12:16:43-07:00 2017-11-29  \n",
       "1  2019-10-08T04:23:32-07:00 2019-10-08  \n",
       "2  2019-10-08T04:23:32-07:00 2019-10-08  "
      ]
     },
     "execution_count": 93,
     "metadata": {},
     "output_type": "execute_result"
    }
   ],
   "source": [
    "podcats_reviews = pd.merge(podcast_df, reviews, how='inner', on = 'podcast_id')\n",
    "podcats_reviews = podcats_reviews.drop(columns=['level_0','index'])\n",
    "podcats_reviews = podcats_reviews.rename(columns={'title_x':'podcast_title',\n",
    "                                                 'title_y':'review_title'})\n",
    "podcats_reviews.info()\n",
    "podcats_reviews.head(3)"
   ]
  },
  {
   "cell_type": "code",
   "execution_count": 94,
   "id": "41c57f99-8f6f-40ff-b1cf-7b24c0394560",
   "metadata": {},
   "outputs": [],
   "source": [
    "output_reviews_csv = \"/Users/kristinazekiene/Documents/LearningPython/TuringCollege/M2S2/Output/podcasts_reviews_data.csv\"\n",
    "podcats_reviews.to_csv(output_reviews_csv, index=False)"
   ]
  }
 ],
 "metadata": {
  "kernelspec": {
   "display_name": "Python 3 (ipykernel)",
   "language": "python",
   "name": "python3"
  },
  "language_info": {
   "codemirror_mode": {
    "name": "ipython",
    "version": 3
   },
   "file_extension": ".py",
   "mimetype": "text/x-python",
   "name": "python",
   "nbconvert_exporter": "python",
   "pygments_lexer": "ipython3",
   "version": "3.9.12"
  },
  "toc-autonumbering": true
 },
 "nbformat": 4,
 "nbformat_minor": 5
}
