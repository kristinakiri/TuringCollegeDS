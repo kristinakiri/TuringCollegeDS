{
 "cells": [
  {
   "cell_type": "code",
   "execution_count": 19,
   "id": "b7062e9f-227f-4d49-80e9-43f68a3fc368",
   "metadata": {},
   "outputs": [],
   "source": [
    "import numpy as np\n",
    "import pandas as pd\n",
    "import joblib\n",
    "import re\n",
    "from sklearn.ensemble import GradientBoostingClassifier\n",
    "from sklearn.preprocessing import StandardScaler,LabelEncoder\n",
    "from sklearn.preprocessing import OrdinalEncoder\n",
    "from fastapi import FastAPI"
   ]
  },
  {
   "cell_type": "code",
   "execution_count": 20,
   "id": "8d9edff0-7ad5-4def-993f-2a76ef8e4553",
   "metadata": {},
   "outputs": [],
   "source": [
    "app = FastAPI()\n",
    "\n",
    "model = joblib.load('gbm_classifier.joblib')"
   ]
  },
  {
   "cell_type": "code",
   "execution_count": 21,
   "id": "27b73f36-6699-40c9-ba8c-a81aab5a7f3a",
   "metadata": {},
   "outputs": [
    {
     "data": {
      "text/html": [
       "<style>#sk-container-id-2 {color: black;}#sk-container-id-2 pre{padding: 0;}#sk-container-id-2 div.sk-toggleable {background-color: white;}#sk-container-id-2 label.sk-toggleable__label {cursor: pointer;display: block;width: 100%;margin-bottom: 0;padding: 0.3em;box-sizing: border-box;text-align: center;}#sk-container-id-2 label.sk-toggleable__label-arrow:before {content: \"▸\";float: left;margin-right: 0.25em;color: #696969;}#sk-container-id-2 label.sk-toggleable__label-arrow:hover:before {color: black;}#sk-container-id-2 div.sk-estimator:hover label.sk-toggleable__label-arrow:before {color: black;}#sk-container-id-2 div.sk-toggleable__content {max-height: 0;max-width: 0;overflow: hidden;text-align: left;background-color: #f0f8ff;}#sk-container-id-2 div.sk-toggleable__content pre {margin: 0.2em;color: black;border-radius: 0.25em;background-color: #f0f8ff;}#sk-container-id-2 input.sk-toggleable__control:checked~div.sk-toggleable__content {max-height: 200px;max-width: 100%;overflow: auto;}#sk-container-id-2 input.sk-toggleable__control:checked~label.sk-toggleable__label-arrow:before {content: \"▾\";}#sk-container-id-2 div.sk-estimator input.sk-toggleable__control:checked~label.sk-toggleable__label {background-color: #d4ebff;}#sk-container-id-2 div.sk-label input.sk-toggleable__control:checked~label.sk-toggleable__label {background-color: #d4ebff;}#sk-container-id-2 input.sk-hidden--visually {border: 0;clip: rect(1px 1px 1px 1px);clip: rect(1px, 1px, 1px, 1px);height: 1px;margin: -1px;overflow: hidden;padding: 0;position: absolute;width: 1px;}#sk-container-id-2 div.sk-estimator {font-family: monospace;background-color: #f0f8ff;border: 1px dotted black;border-radius: 0.25em;box-sizing: border-box;margin-bottom: 0.5em;}#sk-container-id-2 div.sk-estimator:hover {background-color: #d4ebff;}#sk-container-id-2 div.sk-parallel-item::after {content: \"\";width: 100%;border-bottom: 1px solid gray;flex-grow: 1;}#sk-container-id-2 div.sk-label:hover label.sk-toggleable__label {background-color: #d4ebff;}#sk-container-id-2 div.sk-serial::before {content: \"\";position: absolute;border-left: 1px solid gray;box-sizing: border-box;top: 0;bottom: 0;left: 50%;z-index: 0;}#sk-container-id-2 div.sk-serial {display: flex;flex-direction: column;align-items: center;background-color: white;padding-right: 0.2em;padding-left: 0.2em;position: relative;}#sk-container-id-2 div.sk-item {position: relative;z-index: 1;}#sk-container-id-2 div.sk-parallel {display: flex;align-items: stretch;justify-content: center;background-color: white;position: relative;}#sk-container-id-2 div.sk-item::before, #sk-container-id-2 div.sk-parallel-item::before {content: \"\";position: absolute;border-left: 1px solid gray;box-sizing: border-box;top: 0;bottom: 0;left: 50%;z-index: -1;}#sk-container-id-2 div.sk-parallel-item {display: flex;flex-direction: column;z-index: 1;position: relative;background-color: white;}#sk-container-id-2 div.sk-parallel-item:first-child::after {align-self: flex-end;width: 50%;}#sk-container-id-2 div.sk-parallel-item:last-child::after {align-self: flex-start;width: 50%;}#sk-container-id-2 div.sk-parallel-item:only-child::after {width: 0;}#sk-container-id-2 div.sk-dashed-wrapped {border: 1px dashed gray;margin: 0 0.4em 0.5em 0.4em;box-sizing: border-box;padding-bottom: 0.4em;background-color: white;}#sk-container-id-2 div.sk-label label {font-family: monospace;font-weight: bold;display: inline-block;line-height: 1.2em;}#sk-container-id-2 div.sk-label-container {text-align: center;}#sk-container-id-2 div.sk-container {/* jupyter's `normalize.less` sets `[hidden] { display: none; }` but bootstrap.min.css set `[hidden] { display: none !important; }` so we also need the `!important` here to be able to override the default hidden behavior on the sphinx rendered scikit-learn.org. See: https://github.com/scikit-learn/scikit-learn/issues/21755 */display: inline-block !important;position: relative;}#sk-container-id-2 div.sk-text-repr-fallback {display: none;}</style><div id=\"sk-container-id-2\" class=\"sk-top-container\"><div class=\"sk-text-repr-fallback\"><pre>Pipeline(steps=[(&#x27;gbm&#x27;,\n",
       "                 GradientBoostingClassifier(max_depth=9, n_estimators=500))])</pre><b>In a Jupyter environment, please rerun this cell to show the HTML representation or trust the notebook. <br />On GitHub, the HTML representation is unable to render, please try loading this page with nbviewer.org.</b></div><div class=\"sk-container\" hidden><div class=\"sk-item sk-dashed-wrapped\"><div class=\"sk-label-container\"><div class=\"sk-label sk-toggleable\"><input class=\"sk-toggleable__control sk-hidden--visually\" id=\"sk-estimator-id-3\" type=\"checkbox\" ><label for=\"sk-estimator-id-3\" class=\"sk-toggleable__label sk-toggleable__label-arrow\">Pipeline</label><div class=\"sk-toggleable__content\"><pre>Pipeline(steps=[(&#x27;gbm&#x27;,\n",
       "                 GradientBoostingClassifier(max_depth=9, n_estimators=500))])</pre></div></div></div><div class=\"sk-serial\"><div class=\"sk-item\"><div class=\"sk-estimator sk-toggleable\"><input class=\"sk-toggleable__control sk-hidden--visually\" id=\"sk-estimator-id-4\" type=\"checkbox\" ><label for=\"sk-estimator-id-4\" class=\"sk-toggleable__label sk-toggleable__label-arrow\">GradientBoostingClassifier</label><div class=\"sk-toggleable__content\"><pre>GradientBoostingClassifier(max_depth=9, n_estimators=500)</pre></div></div></div></div></div></div></div>"
      ],
      "text/plain": [
       "Pipeline(steps=[('gbm',\n",
       "                 GradientBoostingClassifier(max_depth=9, n_estimators=500))])"
      ]
     },
     "execution_count": 21,
     "metadata": {},
     "output_type": "execute_result"
    }
   ],
   "source": [
    "model"
   ]
  },
  {
   "cell_type": "code",
   "execution_count": 22,
   "id": "c2819e71-f433-4b8c-a91d-40e4e297884b",
   "metadata": {},
   "outputs": [],
   "source": [
    "def preprocessor(age: int):\n",
    "                #  gender: str, hypertension: int, heart_disease: int,\n",
    "                # ever_married: str, work_type: str, Residence_type: srt,\n",
    "                # smoking_status: str, avg_glucose_level: float, bmi: float):\n",
    "    age = int(age)\n",
    "    # if age < 2:\n",
    "    #     age = 2\n",
    "    # else:\n",
    "    #     age = age\n",
    "    # 'gender', 'hypertension', 'heart_disease', 'ever_married',\n",
    "    #      'work_type', 'Residence_type', 'smoking_status',  \n",
    "    #      'Age_adj', 'AgeGroups', 'avg_glucose_level_n', 'bmi_n'\n",
    "            \n",
    "            \n",
    "    # data_in['Age_adj'] = np.where(data_in.age < 2, 2, data_in.age)\n",
    "    # data_in['AgeGroups'] = np.where(data_in.age >= 65, 1, 0)\n",
    "    \n",
    "#     ordinal_encoder = OrdinalEncoder()\n",
    "#     s = (data_in.dtypes == 'object')\n",
    "#     object_cols = list(s[s].index)\n",
    "#     data_in[object_cols] = ordinal_encoder.fit_transform(data_in[object_cols])\n",
    "    \n",
    "#     data_in['avg_glucose_level_n'] = data_in.avg_glucose_level/data_in.avg_glucose_level.max()\n",
    "#     data_in['bmi_n'] = data_in.bmi/data_in.bmi.max()\n",
    "    \n",
    "    return age"
   ]
  },
  {
   "cell_type": "code",
   "execution_count": 23,
   "id": "74928324-6948-4b25-92ec-dc0b1e3a7c09",
   "metadata": {},
   "outputs": [
    {
     "data": {
      "text/plain": [
       "88"
      ]
     },
     "execution_count": 23,
     "metadata": {},
     "output_type": "execute_result"
    }
   ],
   "source": [
    "age= 88\n",
    "preprocessor(age)"
   ]
  },
  {
   "cell_type": "code",
   "execution_count": 28,
   "id": "b3aee1b8-233a-4c93-9022-959ef5b87bc8",
   "metadata": {},
   "outputs": [],
   "source": [
    "def classify_patient(model, age):\n",
    "\n",
    "    age = np.array(preprocessor(age)).reshape(1, -1) #np.array(preprocessor(age)).reshape(1, -1)\n",
    "    label = model.predict(age)[0] #model.predict([age])[0]\n",
    "    #stroke_prob = model.predict_proba([age])\n",
    "\n",
    "    return {'label': label, 'stroke_probability': age} #{'label': label, 'stroke_probability': stroke_prob[0][1]}"
   ]
  },
  {
   "cell_type": "code",
   "execution_count": 11,
   "id": "57af3862-20cf-40bd-86fa-83dabb880ba0",
   "metadata": {},
   "outputs": [
    {
     "name": "stdout",
     "output_type": "stream",
     "text": [
      "2\n"
     ]
    },
    {
     "data": {
      "text/plain": [
       "array([[88]])"
      ]
     },
     "execution_count": 11,
     "metadata": {},
     "output_type": "execute_result"
    }
   ],
   "source": [
    "age = np.array(preprocessor(age)).reshape(-1, 1)\n",
    "print(age.ndim)\n",
    "age"
   ]
  },
  {
   "cell_type": "code",
   "execution_count": 16,
   "id": "88c61dfa-c9b2-4a87-a470-9f2e68f131f5",
   "metadata": {},
   "outputs": [
    {
     "name": "stderr",
     "output_type": "stream",
     "text": [
      "/Users/kristinazekiene/opt/anaconda3/lib/python3.9/site-packages/sklearn/base.py:465: UserWarning: X does not have valid feature names, but GradientBoostingClassifier was fitted with feature names\n",
      "  warnings.warn(\n"
     ]
    },
    {
     "data": {
      "text/plain": [
       "0"
      ]
     },
     "execution_count": 16,
     "metadata": {},
     "output_type": "execute_result"
    }
   ],
   "source": [
    "label = model.predict(age)[0]\n",
    "label"
   ]
  },
  {
   "cell_type": "code",
   "execution_count": 18,
   "id": "e9827403-10af-4b72-81d6-d9217f960f2c",
   "metadata": {},
   "outputs": [
    {
     "name": "stderr",
     "output_type": "stream",
     "text": [
      "/Users/kristinazekiene/opt/anaconda3/lib/python3.9/site-packages/sklearn/base.py:465: UserWarning: X does not have valid feature names, but GradientBoostingClassifier was fitted with feature names\n",
      "  warnings.warn(\n"
     ]
    },
    {
     "data": {
      "text/plain": [
       "array([[0.82222222, 0.17777778]])"
      ]
     },
     "execution_count": 18,
     "metadata": {},
     "output_type": "execute_result"
    }
   ],
   "source": [
    "model.predict_proba(age)"
   ]
  },
  {
   "cell_type": "code",
   "execution_count": 29,
   "id": "e991d596-8133-494e-9c6c-bfa752cc3fa5",
   "metadata": {},
   "outputs": [
    {
     "name": "stderr",
     "output_type": "stream",
     "text": [
      "/Users/kristinazekiene/opt/anaconda3/lib/python3.9/site-packages/sklearn/base.py:465: UserWarning: X does not have valid feature names, but GradientBoostingClassifier was fitted with feature names\n",
      "  warnings.warn(\n"
     ]
    },
    {
     "data": {
      "text/plain": [
       "{'label': 0, 'stroke_probability': array([[88]])}"
      ]
     },
     "execution_count": 29,
     "metadata": {},
     "output_type": "execute_result"
    }
   ],
   "source": [
    "classify_patient(model, age)"
   ]
  },
  {
   "cell_type": "code",
   "execution_count": null,
   "id": "2b2018c5-0658-494d-9b2a-9fd1188d34b8",
   "metadata": {},
   "outputs": [],
   "source": []
  },
  {
   "cell_type": "code",
   "execution_count": null,
   "id": "28cc5945-5b79-4009-8cb8-a8452be73c55",
   "metadata": {},
   "outputs": [],
   "source": [
    "@app.get('/')\n",
    "def get_root():\n",
    "\n",
    "    return {'message': 'Welcome to the stroke detection API'}\n",
    "\n",
    "@app.get('/stroke_detection_query/')\n",
    "async def detect_stroke_query(age: int):\n",
    "    return classify_patient(model, age)\n",
    "\n",
    "@app.get('/stroke_detection_path/{age}')\n",
    "async def detect_stroke_path(age: int):\n",
    "    return classify_patient(model, age)"
   ]
  },
  {
   "cell_type": "markdown",
   "id": "b42fb2c3-9aad-470c-980e-99d7b5804109",
   "metadata": {},
   "source": [
    "### Random forest"
   ]
  },
  {
   "cell_type": "code",
   "execution_count": 53,
   "id": "a331c02f-3aa2-4b52-9737-f0cd9dc615d4",
   "metadata": {},
   "outputs": [],
   "source": [
    "import numpy as np\n",
    "import pandas as pd\n",
    "import joblib\n",
    "import re\n",
    "#from sklearn.ensemble import GradientBoostingClassifier\n",
    "from sklearn.ensemble import RandomForestClassifier\n",
    "from sklearn.preprocessing import StandardScaler,LabelEncoder\n",
    "from sklearn.preprocessing import OrdinalEncoder\n",
    "from fastapi import FastAPI\n",
    "\n",
    "app = FastAPI()\n",
    "\n",
    "#model = joblib.load('gbm_classifier.joblib')\n",
    "model = joblib.load('rf_classifier.joblib')\n",
    "\n",
    "def preprocessor(age: int):\n",
    "                #  gender: str, hypertension: int, heart_disease: int,\n",
    "                # ever_married: str, work_type: str, Residence_type: srt,\n",
    "                # smoking_status: str, avg_glucose_level: float, bmi: float):\n",
    "    age = int(age)\n",
    "     \n",
    "            \n",
    "    # data_in['Age_adj'] = np.where(data_in.age < 2, 2, data_in.age)\n",
    "    # data_in['AgeGroups'] = np.where(data_in.age >= 65, 1, 0)\n",
    "    \n",
    "#     ordinal_encoder = OrdinalEncoder()\n",
    "#     s = (data_in.dtypes == 'object')\n",
    "#     object_cols = list(s[s].index)\n",
    "#     data_in[object_cols] = ordinal_encoder.fit_transform(data_in[object_cols])\n",
    "    \n",
    "#     data_in['avg_glucose_level_n'] = data_in.avg_glucose_level/data_in.avg_glucose_level.max()\n",
    "#     data_in['bmi_n'] = data_in.bmi/data_in.bmi.max()\n",
    "    \n",
    "    return age\n",
    "\n",
    "def classify_patient(model, age):\n",
    "\n",
    "    age = np.array(preprocessor(age)).reshape(-1, 1)\n",
    "    label = model.predict(age)[0] #model.predict([age])[0]\n",
    "    stroke_prob = model.predict_proba(age) #model.predict_proba([age])\n",
    "\n",
    "\n",
    "    #return {'label': label, 'spam_probability': spam_prob[0][1]}\n",
    "\n",
    "    # return {'label': label, 'stroke_probability': age} \n",
    "    return {'label': label, 'stroke_probability': stroke_prob[0][1]}"
   ]
  },
  {
   "cell_type": "code",
   "execution_count": 54,
   "id": "6ebd4384-ffc2-49fe-9e23-f5bad3c1fd0c",
   "metadata": {
    "tags": []
   },
   "outputs": [
    {
     "data": {
      "text/plain": [
       "{'label': 0, 'stroke_probability': 0.17954043261969715}"
      ]
     },
     "execution_count": 54,
     "metadata": {},
     "output_type": "execute_result"
    }
   ],
   "source": [
    "age_i = 88\n",
    "classify_patient(model,age_i)"
   ]
  },
  {
   "cell_type": "code",
   "execution_count": 57,
   "id": "6eff2a3a-0e22-4d7d-b8f9-ba183b0a3e74",
   "metadata": {},
   "outputs": [
    {
     "data": {
      "text/plain": [
       "array([[0.82045957, 0.17954043]])"
      ]
     },
     "execution_count": 57,
     "metadata": {},
     "output_type": "execute_result"
    }
   ],
   "source": [
    "age = np.array(preprocessor(age)).reshape(-1, 1)\n",
    "#stroke_prob = model.predict_proba(age)\n",
    "#stroke_prob\n",
    "model.predict_proba(age)"
   ]
  },
  {
   "cell_type": "code",
   "execution_count": null,
   "id": "8e38d58b-197a-4d3f-b911-3c9c2156f621",
   "metadata": {},
   "outputs": [],
   "source": []
  },
  {
   "cell_type": "code",
   "execution_count": null,
   "id": "13ac8335-9ee0-42db-9819-e3b7dce0a698",
   "metadata": {},
   "outputs": [],
   "source": []
  },
  {
   "cell_type": "code",
   "execution_count": null,
   "id": "0190a837-8c2a-4a4e-a3c9-e3143442c14e",
   "metadata": {},
   "outputs": [],
   "source": [
    "@app.get('/')\n",
    "def get_root():\n",
    "\n",
    "    return {'message': 'Welcome to the stroke detection API'}\n",
    "\n",
    "@app.get('/stroke_detection_query/')\n",
    "async def detect_stroke_query(age: int):\n",
    "    return classify_patient(model, age)\n",
    "\n",
    "@app.get('/stroke_detection_path/{age}')\n",
    "async def detect_stroke_path(age: int):\n",
    "    return classify_patient(model, age)"
   ]
  },
  {
   "cell_type": "code",
   "execution_count": null,
   "id": "b4e4fee7-2b77-4a8c-bd16-67b6aa24e48c",
   "metadata": {},
   "outputs": [],
   "source": []
  },
  {
   "cell_type": "code",
   "execution_count": null,
   "id": "5c54f4c5-4f5a-4b32-ab10-1e1ef5afed36",
   "metadata": {},
   "outputs": [],
   "source": []
  },
  {
   "cell_type": "code",
   "execution_count": null,
   "id": "f11fa800-133b-453f-9ba3-6eb7da7a8bc9",
   "metadata": {},
   "outputs": [],
   "source": []
  },
  {
   "cell_type": "code",
   "execution_count": null,
   "id": "3c12ea32-4f4a-48ec-b8d9-c19bd9372b7c",
   "metadata": {},
   "outputs": [],
   "source": []
  }
 ],
 "metadata": {
  "kernelspec": {
   "display_name": "Python 3 (ipykernel)",
   "language": "python",
   "name": "python3"
  },
  "language_info": {
   "codemirror_mode": {
    "name": "ipython",
    "version": 3
   },
   "file_extension": ".py",
   "mimetype": "text/x-python",
   "name": "python",
   "nbconvert_exporter": "python",
   "pygments_lexer": "ipython3",
   "version": "3.9.12"
  }
 },
 "nbformat": 4,
 "nbformat_minor": 5
}
