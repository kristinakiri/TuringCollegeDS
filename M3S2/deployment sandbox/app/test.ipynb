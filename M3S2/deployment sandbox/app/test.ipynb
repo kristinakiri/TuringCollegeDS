{
 "cells": [
  {
   "cell_type": "code",
   "execution_count": 38,
   "id": "ae169390-acc9-42ce-a813-89eb9da1c563",
   "metadata": {},
   "outputs": [],
   "source": [
    "import numpy as np\n",
    "import pandas as pd"
   ]
  },
  {
   "cell_type": "code",
   "execution_count": 39,
   "id": "c6ba933b-abaf-449f-8f45-949dd7558a51",
   "metadata": {},
   "outputs": [],
   "source": [
    "# Read the Data\n",
    "\n",
    "data = pd.read_csv('./data/df_scaled.csv')\n",
    "\n",
    "# Text Preprocessing"
   ]
  },
  {
   "cell_type": "code",
   "execution_count": 40,
   "id": "d8182358-3300-4d16-977c-a56f33b2fe63",
   "metadata": {},
   "outputs": [
    {
     "name": "stdout",
     "output_type": "stream",
     "text": [
      "<class 'pandas.core.frame.DataFrame'>\n",
      "RangeIndex: 5110 entries, 0 to 5109\n",
      "Data columns (total 12 columns):\n",
      " #   Column               Non-Null Count  Dtype  \n",
      "---  ------               --------------  -----  \n",
      " 0   gender               5110 non-null   float64\n",
      " 1   hypertension         5110 non-null   float64\n",
      " 2   heart_disease        5110 non-null   float64\n",
      " 3   ever_married         5110 non-null   float64\n",
      " 4   work_type            5110 non-null   float64\n",
      " 5   Residence_type       5110 non-null   float64\n",
      " 6   smoking_status       5110 non-null   float64\n",
      " 7   Age_adj              5110 non-null   float64\n",
      " 8   AgeGroups            5110 non-null   float64\n",
      " 9   avg_glucose_level_n  5110 non-null   float64\n",
      " 10  bmi_n                5110 non-null   float64\n",
      " 11  stroke               5110 non-null   int64  \n",
      "dtypes: float64(11), int64(1)\n",
      "memory usage: 479.2 KB\n"
     ]
    }
   ],
   "source": [
    "data.info()"
   ]
  },
  {
   "cell_type": "code",
   "execution_count": 41,
   "id": "e658e94a-c2e6-4715-b817-af0bfe163014",
   "metadata": {},
   "outputs": [],
   "source": [
    "import re # regex library\n",
    "from sklearn.preprocessing import OrdinalEncoder\n",
    "\n",
    "# vector of input values\n",
    "def preprocessor(data_in):\n",
    "    data_in = data_in\n",
    "#     data_in['Age_adj'] = np.where(data_in.age < 2, 2, data_in.age)\n",
    "#     data_in['AgeGroups'] = np.where(data_in.age >= 65, 1, 0)\n",
    "    \n",
    "#     ordinal_encoder = OrdinalEncoder()\n",
    "#     s = (data_in.dtypes == 'object')\n",
    "#     object_cols = list(s[s].index)\n",
    "#     data_in[object_cols] = ordinal_encoder.fit_transform(data_in[object_cols])\n",
    "    \n",
    "#     data_in['avg_glucose_level_n'] = data_in.avg_glucose_level/data_in.avg_glucose_level.max()\n",
    "#     data_in['bmi_n'] = data_in.bmi/data_in.bmi.max()\n",
    "    \n",
    "    return data_in"
   ]
  },
  {
   "cell_type": "code",
   "execution_count": 42,
   "id": "1cf3e03b-4176-4d3a-a824-94c3f0d48055",
   "metadata": {},
   "outputs": [
    {
     "name": "stdout",
     "output_type": "stream",
     "text": [
      "<class 'pandas.core.frame.DataFrame'>\n",
      "RangeIndex: 5110 entries, 0 to 5109\n",
      "Data columns (total 12 columns):\n",
      " #   Column               Non-Null Count  Dtype  \n",
      "---  ------               --------------  -----  \n",
      " 0   gender               5110 non-null   float64\n",
      " 1   hypertension         5110 non-null   float64\n",
      " 2   heart_disease        5110 non-null   float64\n",
      " 3   ever_married         5110 non-null   float64\n",
      " 4   work_type            5110 non-null   float64\n",
      " 5   Residence_type       5110 non-null   float64\n",
      " 6   smoking_status       5110 non-null   float64\n",
      " 7   Age_adj              5110 non-null   float64\n",
      " 8   AgeGroups            5110 non-null   float64\n",
      " 9   avg_glucose_level_n  5110 non-null   float64\n",
      " 10  bmi_n                5110 non-null   float64\n",
      " 11  stroke               5110 non-null   int64  \n",
      "dtypes: float64(11), int64(1)\n",
      "memory usage: 479.2 KB\n"
     ]
    },
    {
     "data": {
      "text/html": [
       "<div>\n",
       "<style scoped>\n",
       "    .dataframe tbody tr th:only-of-type {\n",
       "        vertical-align: middle;\n",
       "    }\n",
       "\n",
       "    .dataframe tbody tr th {\n",
       "        vertical-align: top;\n",
       "    }\n",
       "\n",
       "    .dataframe thead th {\n",
       "        text-align: right;\n",
       "    }\n",
       "</style>\n",
       "<table border=\"1\" class=\"dataframe\">\n",
       "  <thead>\n",
       "    <tr style=\"text-align: right;\">\n",
       "      <th></th>\n",
       "      <th>gender</th>\n",
       "      <th>hypertension</th>\n",
       "      <th>heart_disease</th>\n",
       "      <th>ever_married</th>\n",
       "      <th>work_type</th>\n",
       "      <th>Residence_type</th>\n",
       "      <th>smoking_status</th>\n",
       "      <th>Age_adj</th>\n",
       "      <th>AgeGroups</th>\n",
       "      <th>avg_glucose_level_n</th>\n",
       "      <th>bmi_n</th>\n",
       "      <th>stroke</th>\n",
       "    </tr>\n",
       "  </thead>\n",
       "  <tbody>\n",
       "    <tr>\n",
       "      <th>0</th>\n",
       "      <td>1.188073</td>\n",
       "      <td>-0.328602</td>\n",
       "      <td>4.185032</td>\n",
       "      <td>0.723884</td>\n",
       "      <td>-0.153836</td>\n",
       "      <td>0.984080</td>\n",
       "      <td>-0.351781</td>\n",
       "      <td>1.052296</td>\n",
       "      <td>1.993905</td>\n",
       "      <td>2.706375</td>\n",
       "      <td>1.005086</td>\n",
       "      <td>1</td>\n",
       "    </tr>\n",
       "    <tr>\n",
       "      <th>1</th>\n",
       "      <td>-0.840344</td>\n",
       "      <td>-0.328602</td>\n",
       "      <td>-0.238947</td>\n",
       "      <td>0.723884</td>\n",
       "      <td>0.763438</td>\n",
       "      <td>-1.016178</td>\n",
       "      <td>0.581552</td>\n",
       "      <td>0.786485</td>\n",
       "      <td>-0.501528</td>\n",
       "      <td>2.121559</td>\n",
       "      <td>-0.098981</td>\n",
       "      <td>1</td>\n",
       "    </tr>\n",
       "    <tr>\n",
       "      <th>2</th>\n",
       "      <td>1.188073</td>\n",
       "      <td>-0.328602</td>\n",
       "      <td>4.185032</td>\n",
       "      <td>0.723884</td>\n",
       "      <td>-0.153836</td>\n",
       "      <td>-1.016178</td>\n",
       "      <td>0.581552</td>\n",
       "      <td>1.628221</td>\n",
       "      <td>1.993905</td>\n",
       "      <td>-0.005028</td>\n",
       "      <td>0.472536</td>\n",
       "      <td>1</td>\n",
       "    </tr>\n",
       "    <tr>\n",
       "      <th>3</th>\n",
       "      <td>-0.840344</td>\n",
       "      <td>-0.328602</td>\n",
       "      <td>-0.238947</td>\n",
       "      <td>0.723884</td>\n",
       "      <td>-0.153836</td>\n",
       "      <td>0.984080</td>\n",
       "      <td>1.514885</td>\n",
       "      <td>0.254862</td>\n",
       "      <td>-0.501528</td>\n",
       "      <td>1.437358</td>\n",
       "      <td>0.719327</td>\n",
       "      <td>1</td>\n",
       "    </tr>\n",
       "    <tr>\n",
       "      <th>4</th>\n",
       "      <td>-0.840344</td>\n",
       "      <td>3.043196</td>\n",
       "      <td>-0.238947</td>\n",
       "      <td>0.723884</td>\n",
       "      <td>0.763438</td>\n",
       "      <td>-1.016178</td>\n",
       "      <td>0.581552</td>\n",
       "      <td>1.583919</td>\n",
       "      <td>1.993905</td>\n",
       "      <td>1.501184</td>\n",
       "      <td>-0.631531</td>\n",
       "      <td>1</td>\n",
       "    </tr>\n",
       "  </tbody>\n",
       "</table>\n",
       "</div>"
      ],
      "text/plain": [
       "     gender  hypertension  heart_disease  ever_married  work_type  \\\n",
       "0  1.188073     -0.328602       4.185032      0.723884  -0.153836   \n",
       "1 -0.840344     -0.328602      -0.238947      0.723884   0.763438   \n",
       "2  1.188073     -0.328602       4.185032      0.723884  -0.153836   \n",
       "3 -0.840344     -0.328602      -0.238947      0.723884  -0.153836   \n",
       "4 -0.840344      3.043196      -0.238947      0.723884   0.763438   \n",
       "\n",
       "   Residence_type  smoking_status   Age_adj  AgeGroups  avg_glucose_level_n  \\\n",
       "0        0.984080       -0.351781  1.052296   1.993905             2.706375   \n",
       "1       -1.016178        0.581552  0.786485  -0.501528             2.121559   \n",
       "2       -1.016178        0.581552  1.628221   1.993905            -0.005028   \n",
       "3        0.984080        1.514885  0.254862  -0.501528             1.437358   \n",
       "4       -1.016178        0.581552  1.583919   1.993905             1.501184   \n",
       "\n",
       "      bmi_n  stroke  \n",
       "0  1.005086       1  \n",
       "1 -0.098981       1  \n",
       "2  0.472536       1  \n",
       "3  0.719327       1  \n",
       "4 -0.631531       1  "
      ]
     },
     "execution_count": 42,
     "metadata": {},
     "output_type": "execute_result"
    }
   ],
   "source": [
    "# Train, Test Split\n",
    "\n",
    "from sklearn.model_selection import train_test_split\n",
    "df = preprocessor(data)\n",
    "df.info()\n",
    "df.head(5)"
   ]
  },
  {
   "cell_type": "code",
   "execution_count": 46,
   "id": "28fa608a-9cb7-4123-9149-38d5711cc687",
   "metadata": {},
   "outputs": [
    {
     "name": "stdout",
     "output_type": "stream",
     "text": [
      "              precision    recall  f1-score   support\n",
      "\n",
      "           0       0.94      1.00      0.97       960\n",
      "           1       0.00      0.00      0.00        62\n",
      "\n",
      "    accuracy                           0.94      1022\n",
      "   macro avg       0.47      0.50      0.48      1022\n",
      "weighted avg       0.88      0.94      0.91      1022\n",
      "\n",
      "Accuracy: 93.9334637964775 %\n"
     ]
    },
    {
     "name": "stderr",
     "output_type": "stream",
     "text": [
      "/Users/kristinazekiene/opt/anaconda3/lib/python3.9/site-packages/sklearn/metrics/_classification.py:1471: UndefinedMetricWarning: Precision and F-score are ill-defined and being set to 0.0 in labels with no predicted samples. Use `zero_division` parameter to control this behavior.\n",
      "  _warn_prf(average, modifier, msg_start, len(result))\n",
      "/Users/kristinazekiene/opt/anaconda3/lib/python3.9/site-packages/sklearn/metrics/_classification.py:1471: UndefinedMetricWarning: Precision and F-score are ill-defined and being set to 0.0 in labels with no predicted samples. Use `zero_division` parameter to control this behavior.\n",
      "  _warn_prf(average, modifier, msg_start, len(result))\n",
      "/Users/kristinazekiene/opt/anaconda3/lib/python3.9/site-packages/sklearn/metrics/_classification.py:1471: UndefinedMetricWarning: Precision and F-score are ill-defined and being set to 0.0 in labels with no predicted samples. Use `zero_division` parameter to control this behavior.\n",
      "  _warn_prf(average, modifier, msg_start, len(result))\n"
     ]
    }
   ],
   "source": [
    "X = np.array(df['Age_adj']).reshape(-1, 1)\n",
    "        # ,'gender', 'hypertension', 'heart_disease', 'ever_married',\n",
    "        #  'work_type', 'Residence_type', 'smoking_status',  \n",
    "        #   'AgeGroups', 'avg_glucose_level_n', 'bmi_n']]\n",
    "y = df['stroke']\n",
    "\n",
    "X_train, X_test, y_train, y_test = train_test_split(X, y, test_size=0.2, random_state=42)\n",
    "\n",
    "# Training a GradientBoostClassifier Pipeline\n",
    "\n",
    "from sklearn.pipeline import Pipeline\n",
    "from sklearn.preprocessing import StandardScaler,LabelEncoder\n",
    "from sklearn.metrics import accuracy_score, classification_report\n",
    "from sklearn.model_selection import cross_val_score\n",
    "from sklearn.ensemble import GradientBoostingClassifier\n",
    "\n",
    "\n",
    "gbm_pipeline = Pipeline([#('scale', StandardScaler()),\n",
    "                         ('gbm', GradientBoostingClassifier(learning_rate=0.1,max_depth= 9,n_estimators= 500))])\n",
    "\n",
    "gbm_pipeline.fit(X_train, y_train)\n",
    "\n",
    "# Testing the Pipeline\n",
    "\n",
    "y_pred = gbm_pipeline.predict(X_test)\n",
    "print(classification_report(y_test, y_pred))\n",
    "print('Accuracy: {} %'.format(100 * accuracy_score(y_test, y_pred)))"
   ]
  },
  {
   "cell_type": "code",
   "execution_count": 47,
   "id": "04702164-4504-4331-af0a-3a91acf43278",
   "metadata": {},
   "outputs": [
    {
     "data": {
      "text/plain": [
       "['gbm_classifier.joblib']"
      ]
     },
     "execution_count": 47,
     "metadata": {},
     "output_type": "execute_result"
    }
   ],
   "source": [
    "# Saving the Pipeline\n",
    "\n",
    "from joblib import dump\n",
    "dump(gbm_pipeline, 'gbm_classifier.joblib')"
   ]
  },
  {
   "cell_type": "code",
   "execution_count": null,
   "id": "7443232a-0a7c-4a87-9a94-d190f155e0d1",
   "metadata": {},
   "outputs": [],
   "source": []
  },
  {
   "cell_type": "code",
   "execution_count": 28,
   "id": "51813d65-eae8-4c56-a38a-506846c01463",
   "metadata": {},
   "outputs": [
    {
     "data": {
      "text/plain": [
       "array([[88]])"
      ]
     },
     "execution_count": 28,
     "metadata": {},
     "output_type": "execute_result"
    }
   ],
   "source": [
    "np.array(preprocessor(88)).reshape(1, -1)"
   ]
  },
  {
   "cell_type": "code",
   "execution_count": null,
   "id": "7e7e870c-3981-497f-af45-00ef46e6fb5f",
   "metadata": {},
   "outputs": [],
   "source": []
  },
  {
   "cell_type": "markdown",
   "id": "2baffbb0-733d-4a1b-8b3b-1df27464b4db",
   "metadata": {},
   "source": [
    "## Random forest"
   ]
  },
  {
   "cell_type": "code",
   "execution_count": 50,
   "id": "6c1cdc7a-fdc2-427c-baeb-6b7bfc0e2d98",
   "metadata": {},
   "outputs": [
    {
     "name": "stdout",
     "output_type": "stream",
     "text": [
      "              precision    recall  f1-score   support\n",
      "\n",
      "           0       0.94      1.00      0.97       960\n",
      "           1       0.00      0.00      0.00        62\n",
      "\n",
      "    accuracy                           0.94      1022\n",
      "   macro avg       0.47      0.50      0.48      1022\n",
      "weighted avg       0.88      0.94      0.91      1022\n",
      "\n",
      "Accuracy: 93.9334637964775 %\n"
     ]
    },
    {
     "name": "stderr",
     "output_type": "stream",
     "text": [
      "/Users/kristinazekiene/opt/anaconda3/lib/python3.9/site-packages/sklearn/metrics/_classification.py:1471: UndefinedMetricWarning: Precision and F-score are ill-defined and being set to 0.0 in labels with no predicted samples. Use `zero_division` parameter to control this behavior.\n",
      "  _warn_prf(average, modifier, msg_start, len(result))\n",
      "/Users/kristinazekiene/opt/anaconda3/lib/python3.9/site-packages/sklearn/metrics/_classification.py:1471: UndefinedMetricWarning: Precision and F-score are ill-defined and being set to 0.0 in labels with no predicted samples. Use `zero_division` parameter to control this behavior.\n",
      "  _warn_prf(average, modifier, msg_start, len(result))\n",
      "/Users/kristinazekiene/opt/anaconda3/lib/python3.9/site-packages/sklearn/metrics/_classification.py:1471: UndefinedMetricWarning: Precision and F-score are ill-defined and being set to 0.0 in labels with no predicted samples. Use `zero_division` parameter to control this behavior.\n",
      "  _warn_prf(average, modifier, msg_start, len(result))\n"
     ]
    },
    {
     "data": {
      "text/plain": [
       "['rf_classifier.joblib']"
      ]
     },
     "execution_count": 50,
     "metadata": {},
     "output_type": "execute_result"
    }
   ],
   "source": [
    "import numpy as np\n",
    "import pandas as pd\n",
    "\n",
    "# Read the Data\n",
    "\n",
    "data = pd.read_csv('./data/df_scaled.csv')\n",
    "\n",
    "# Text Preprocessing\n",
    "\n",
    "import re # regex library\n",
    "from sklearn.preprocessing import OrdinalEncoder\n",
    "\n",
    "# Train, Test Split\n",
    "\n",
    "from sklearn.model_selection import train_test_split\n",
    "\n",
    "X = np.array(data['Age_adj']).reshape(-1, 1)\n",
    "         #  'gender', 'hypertension', 'heart_disease', 'ever_married',\n",
    "         # 'work_type', 'Residence_type', 'smoking_status',  \n",
    "         #  'AgeGroups', 'avg_glucose_level_n', 'bmi_n']]\n",
    "y = data['stroke']\n",
    "\n",
    "X_train, X_test, y_train, y_test = train_test_split(X, y, test_size=0.2, random_state=42)\n",
    "\n",
    "# Training a Random forest Pipeline\n",
    "\n",
    "from sklearn.pipeline import Pipeline\n",
    "from sklearn.preprocessing import StandardScaler,LabelEncoder\n",
    "from sklearn.metrics import accuracy_score, classification_report\n",
    "from sklearn.model_selection import cross_val_score\n",
    "from sklearn.ensemble import RandomForestClassifier\n",
    "\n",
    "\n",
    "rf_pipeline = Pipeline([#('scale', StandardScaler()),\n",
    "                         ('rf', RandomForestClassifier())])\n",
    "\n",
    "rf_pipeline.fit(X_train, y_train)\n",
    "\n",
    "# Testing the Pipeline\n",
    "\n",
    "y_pred = rf_pipeline.predict(X_test)\n",
    "print(classification_report(y_test, y_pred))\n",
    "print('Accuracy: {} %'.format(100 * accuracy_score(y_test, y_pred)))\n",
    "\n",
    "# Saving the Pipeline\n",
    "\n",
    "from joblib import dump\n",
    "dump(rf_pipeline, 'rf_classifier.joblib')"
   ]
  },
  {
   "cell_type": "code",
   "execution_count": null,
   "id": "b357ff85-06d4-4505-a6c1-98dae61da930",
   "metadata": {},
   "outputs": [],
   "source": []
  },
  {
   "cell_type": "code",
   "execution_count": null,
   "id": "80469fff-9149-4509-96c8-3a44499a57db",
   "metadata": {},
   "outputs": [],
   "source": []
  }
 ],
 "metadata": {
  "kernelspec": {
   "display_name": "Python 3 (ipykernel)",
   "language": "python",
   "name": "python3"
  },
  "language_info": {
   "codemirror_mode": {
    "name": "ipython",
    "version": 3
   },
   "file_extension": ".py",
   "mimetype": "text/x-python",
   "name": "python",
   "nbconvert_exporter": "python",
   "pygments_lexer": "ipython3",
   "version": "3.9.12"
  }
 },
 "nbformat": 4,
 "nbformat_minor": 5
}
